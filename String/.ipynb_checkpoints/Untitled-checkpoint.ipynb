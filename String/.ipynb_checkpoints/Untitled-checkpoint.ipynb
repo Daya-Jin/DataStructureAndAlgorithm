{
 "cells": [
  {
   "cell_type": "markdown",
   "metadata": {},
   "source": [
    "[Multiply Strings](https://leetcode.com/problems/multiply-strings/)。给两个合法字符串表示的整数，对它们做乘法。\n",
    "\n",
    "思路：大数相乘，只能由低往高逐位相乘然后错位相加。$m$位的数字与$n$位的数字相乘的结果是$m+n$位，设立一个$m+n$位的res数组，对应位的初始值为$0$，由低往高遍历两个数字的位数，相乘的结果加到res数组的对应位上去，超过$9$时需要进位。"
   ]
  },
  {
   "cell_type": "code",
   "execution_count": 6,
   "metadata": {},
   "outputs": [
    {
     "data": {
      "text/plain": [
       "'100000000'"
      ]
     },
     "execution_count": 6,
     "metadata": {},
     "output_type": "execute_result"
    }
   ],
   "source": [
    "def multiply(num1: str, num2: str) -> str:\n",
    "    # 为了便于由低往高位计算，先反转\n",
    "    num1 = num1[::-1]\n",
    "    num2 = num2[::-1]\n",
    "\n",
    "    m, n = len(num1), len(num2)\n",
    "\n",
    "    res = [0 for _ in range(m+n)]\n",
    "\n",
    "    for idx1 in range(m):\n",
    "        for idx2 in range(n):\n",
    "            cur_idx = idx1+idx2\n",
    "            # ord('0')=48. 该位值加上两位相乘的结果\n",
    "            res[cur_idx] += (ord(num1[idx1])-48)*(ord(num2[idx2])-48)\n",
    "            # 大于9才需要进位\n",
    "            if res[cur_idx] > 9:\n",
    "                res[cur_idx+1] += res[cur_idx]//10\n",
    "                res[cur_idx] = res[cur_idx] % 10\n",
    "\n",
    "    res = res[::-1]\n",
    "    # 去除首位的0\n",
    "    while res[0] == 0 and len(res) > 1:\n",
    "        del res[0]\n",
    "\n",
    "    return ''.join(map(str, res))"
   ]
  },
  {
   "cell_type": "markdown",
   "metadata": {},
   "source": [
    "[Plus One](https://leetcode.com/problems/plus-one/)。给定一个正整数数组，每个元素的范围为$[0,9]$，表示一个正整数，在其表示的正整数上加$1$，同样返回一个数组。\n",
    "\n",
    "思路：首先在最低位$+1$，然后由低往高循环判断是否需要进位。如果在最高位产生进位的话，还需要增长数组的长度。"
   ]
  },
  {
   "cell_type": "code",
   "execution_count": 11,
   "metadata": {},
   "outputs": [
    {
     "data": {
      "text/plain": [
       "[1, 0]"
      ]
     },
     "execution_count": 11,
     "metadata": {},
     "output_type": "execute_result"
    }
   ],
   "source": [
    "def plusOne(digits):\n",
    "    n = len(digits)\n",
    "\n",
    "    digits[-1] += 1    # +1\n",
    "\n",
    "    # 开始进位\n",
    "    i = n-1\n",
    "    while i >= 0:\n",
    "        if digits[i] < 10:\n",
    "            return digits\n",
    "        else:\n",
    "            if i == 0:    # 如果在最高位产生了进位，说明数组需要变长\n",
    "                digits.insert(0, 0)\n",
    "                i += 1\n",
    "            digits[i-1] += digits[i]//10\n",
    "            digits[i] = digits[i] % 10\n",
    "        i -= 1\n",
    "\n",
    "    return digits"
   ]
  },
  {
   "cell_type": "markdown",
   "metadata": {},
   "source": [
    "[Length of Last Word](https://leetcode.com/problems/length-of-last-word/)。给定一个只包含空格与字母的字符串，求最后一个单词的长度。\n",
    "\n",
    "思路：首要任务是找到最后一个单词的位置，可以由后往前遍历，遇到第一个非空格字符就记录下位置，"
   ]
  },
  {
   "cell_type": "code",
   "execution_count": 35,
   "metadata": {},
   "outputs": [
    {
     "data": {
      "text/plain": [
       "0"
      ]
     },
     "execution_count": 35,
     "metadata": {},
     "output_type": "execute_result"
    }
   ],
   "source": [
    "def lengthOfLastWord(s: str) -> int:\n",
    "    word_start = None\n",
    "\n",
    "    for idx, ch in enumerate(s[::-1]):\n",
    "        if word_start is None and ch != ' ':    # 这里不能用not wordstart来判断，因为wordstart可能是0\n",
    "            word_start = idx\n",
    "        elif word_start is not None and ch == ' ':\n",
    "            return idx-word_start\n",
    "\n",
    "    # 如果扫描完还没返回，只有两种情况，一是全空格，二是只有一个单词\n",
    "    return idx-word_start+1 if word_start is not None else 0"
   ]
  },
  {
   "cell_type": "code",
   "execution_count": null,
   "metadata": {},
   "outputs": [],
   "source": []
  }
 ],
 "metadata": {
  "hide_input": false,
  "kernelspec": {
   "display_name": "Python 3",
   "language": "python",
   "name": "python3"
  },
  "language_info": {
   "codemirror_mode": {
    "name": "ipython",
    "version": 3
   },
   "file_extension": ".py",
   "mimetype": "text/x-python",
   "name": "python",
   "nbconvert_exporter": "python",
   "pygments_lexer": "ipython3",
   "version": "3.6.6"
  },
  "toc": {
   "base_numbering": 1,
   "nav_menu": {},
   "number_sections": true,
   "sideBar": true,
   "skip_h1_title": false,
   "title_cell": "Table of Contents",
   "title_sidebar": "Contents",
   "toc_cell": false,
   "toc_position": {},
   "toc_section_display": true,
   "toc_window_display": false
  }
 },
 "nbformat": 4,
 "nbformat_minor": 2
}
