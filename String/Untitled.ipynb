{
 "cells": [
  {
   "cell_type": "markdown",
   "metadata": {},
   "source": [
    "[Multiply Strings](https://leetcode.com/problems/multiply-strings/)。给两个合法字符串表示的整数，对它们做乘法。\n",
    "\n",
    "思路：大数相乘，只能由低往高逐位相乘然后错位相加。$m$位的数字与$n$位的数字相乘的结果是$m+n$位，设立一个$m+n$位的res数组，对应位的初始值为$0$，由低往高遍历两个数字的位数，相乘的结果加到res数组的对应位上去，超过$9$时需要进位。"
   ]
  },
  {
   "cell_type": "code",
   "execution_count": 6,
   "metadata": {},
   "outputs": [
    {
     "data": {
      "text/plain": [
       "'100000000'"
      ]
     },
     "execution_count": 6,
     "metadata": {},
     "output_type": "execute_result"
    }
   ],
   "source": [
    "def multiply(num1: str, num2: str) -> str:\n",
    "    # 为了便于由低往高位计算，先反转\n",
    "    num1 = num1[::-1]\n",
    "    num2 = num2[::-1]\n",
    "\n",
    "    m, n = len(num1), len(num2)\n",
    "\n",
    "    res = [0 for _ in range(m+n)]\n",
    "\n",
    "    for idx1 in range(m):\n",
    "        for idx2 in range(n):\n",
    "            cur_idx = idx1+idx2\n",
    "            # ord('0')=48. 该位值加上两位相乘的结果\n",
    "            res[cur_idx] += (ord(num1[idx1])-48)*(ord(num2[idx2])-48)\n",
    "            # 大于9才需要进位\n",
    "            if res[cur_idx] > 9:\n",
    "                res[cur_idx+1] += res[cur_idx]//10\n",
    "                res[cur_idx] = res[cur_idx] % 10\n",
    "\n",
    "    res = res[::-1]\n",
    "    # 去除首位的0\n",
    "    while res[0] == 0 and len(res) > 1:\n",
    "        del res[0]\n",
    "\n",
    "    return ''.join(map(str, res))"
   ]
  },
  {
   "cell_type": "markdown",
   "metadata": {},
   "source": [
    "[Plus One](https://leetcode.com/problems/plus-one/)。给定一个正整数数组，每个元素的范围为$[0,9]$，表示一个正整数，在其表示的正整数上加$1$，同样返回一个数组。\n",
    "\n",
    "思路：首先在最低位$+1$，然后由低往高循环判断是否需要进位。如果在最高位产生进位的话，还需要增长数组的长度。"
   ]
  },
  {
   "cell_type": "code",
   "execution_count": 11,
   "metadata": {},
   "outputs": [
    {
     "data": {
      "text/plain": [
       "[1, 0]"
      ]
     },
     "execution_count": 11,
     "metadata": {},
     "output_type": "execute_result"
    }
   ],
   "source": [
    "def plusOne(digits):\n",
    "    n = len(digits)\n",
    "\n",
    "    digits[-1] += 1    # +1\n",
    "\n",
    "    # 开始进位\n",
    "    i = n-1\n",
    "    while i >= 0:\n",
    "        if digits[i] < 10:\n",
    "            return digits\n",
    "        else:\n",
    "            if i == 0:    # 如果在最高位产生了进位，说明数组需要变长\n",
    "                digits.insert(0, 0)\n",
    "                i += 1\n",
    "            digits[i-1] += digits[i]//10\n",
    "            digits[i] = digits[i] % 10\n",
    "        i -= 1\n",
    "\n",
    "    return digits"
   ]
  },
  {
   "cell_type": "markdown",
   "metadata": {},
   "source": [
    "[Length of Last Word](https://leetcode.com/problems/length-of-last-word/)。给定一个只包含空格与字母的字符串，求最后一个单词的长度。\n",
    "\n",
    "思路：首要任务是找到最后一个单词的位置，可以由后往前遍历，遇到第一个非空格字符就记录下位置，"
   ]
  },
  {
   "cell_type": "code",
   "execution_count": 35,
   "metadata": {},
   "outputs": [
    {
     "data": {
      "text/plain": [
       "0"
      ]
     },
     "execution_count": 35,
     "metadata": {},
     "output_type": "execute_result"
    }
   ],
   "source": [
    "def lengthOfLastWord(s: str) -> int:\n",
    "    word_start = None\n",
    "\n",
    "    for idx, ch in enumerate(s[::-1]):\n",
    "        if word_start is None and ch != ' ':    # 这里不能用not wordstart来判断，因为wordstart可能是0\n",
    "            word_start = idx\n",
    "        elif word_start is not None and ch == ' ':\n",
    "            return idx-word_start\n",
    "\n",
    "    # 如果扫描完还没返回，只有两种情况，一是全空格，二是只有一个单词\n",
    "    \n",
    "    return idx-word_start+1 if word_start is not None else 0"
   ]
  },
  {
   "cell_type": "markdown",
   "metadata": {},
   "source": [
    "[Simplify Path](https://leetcode.com/problems/simplify-path/)。给定一个系统路径，将其简化。\n",
    "\n",
    "思路：使用一个栈。把原字串按'/'分割，提取出所有的位置。如果位置是'.'，表示当前目录，忽略即可；如果是'..'，说明返回上级目录，那么需要弹栈；其他情况是进入下级目录，压入栈即可。"
   ]
  },
  {
   "cell_type": "code",
   "execution_count": 7,
   "metadata": {},
   "outputs": [
    {
     "data": {
      "text/plain": [
       "'/home/foo'"
      ]
     },
     "execution_count": 7,
     "metadata": {},
     "output_type": "execute_result"
    }
   ],
   "source": [
    "def simplifyPath(path: str) -> str:\n",
    "    res = '/'\n",
    "    if not path:\n",
    "        return res\n",
    "\n",
    "    s = list()\n",
    "    for loc in path.split('/'):\n",
    "        if loc == '':    # str.split()方法会产生空字符\n",
    "            continue\n",
    "        if loc == '..':\n",
    "            if s:\n",
    "                s.pop()\n",
    "        elif loc == '.':\n",
    "            continue\n",
    "        else:\n",
    "            s.append(loc)\n",
    "\n",
    "    return res+'/'.join(s) if s else res"
   ]
  },
  {
   "cell_type": "markdown",
   "metadata": {},
   "source": [
    "[Reverse Words in a String](https://leetcode.com/problems/reverse-words-in-a-string/)。将句子中的单词序反转。\n",
    "\n",
    "思路：将单词的顺序反过来，只需两步：首先反转将每个单词的字符做反转，再对整个句子做字符反转。该题的考点就是在句子中找单词。\n",
    "\n",
    "设立一个单词起始指针，它指向单词的起始位置，工作指针扫描字符串，当工作指针非空时，工作指针继续扫描；当工作指针为空时，说明可能找到了单词的结束位置，会有两种情况：一是起始指针与工作指针位置不等，那么就说明找到了单词末尾；若两者相等，说明两者都为空，同时后移。\n",
    "\n",
    "为了处理最后一个单词，需要判断扫描完毕后起始指针是否指向字串末尾，否的话还要反转最后一个单词。"
   ]
  },
  {
   "cell_type": "code",
   "execution_count": 37,
   "metadata": {},
   "outputs": [
    {
     "name": "stdout",
     "output_type": "stream",
     "text": [
      "a !b\n"
     ]
    },
    {
     "data": {
      "text/plain": [
       "'b! a'"
      ]
     },
     "execution_count": 37,
     "metadata": {},
     "output_type": "execute_result"
    }
   ],
   "source": [
    "def reverseWords(s: str) -> str:\n",
    "    if not s:\n",
    "        return ''\n",
    "\n",
    "    res = list()\n",
    "\n",
    "    # 反转函数\n",
    "    def reverse(s, start, end):\n",
    "        return s[start:end][::-1]\n",
    "\n",
    "    word_start = 0\n",
    "    for i, ch in enumerate(s):\n",
    "        if ch != ' ':\n",
    "            continue    # 非空字符继续\n",
    "        elif ch == ' ':\n",
    "            if word_start != i:    # 两者位置不等说明找到单词末尾\n",
    "                res.append(reverse(s, word_start, i).strip())\n",
    "                word_start = i+1\n",
    "            else:    # 两者位置相等说明都指向空格，同时前进\n",
    "                word_start = i+1\n",
    "                continue\n",
    "\n",
    "    # 判断是否存在最后一个单词\n",
    "    if word_start != len(s):\n",
    "        res.append(reverse(s, word_start, len(s)).strip())\n",
    "\n",
    "    res = ' '.join(res)\n",
    "    return res[::-1]"
   ]
  },
  {
   "cell_type": "markdown",
   "metadata": {},
   "source": [
    "[Compare Version Numbers](https://leetcode.com/problems/compare-version-numbers/)。给定一个版本号字符串，比较两版本号的大小。\n",
    "\n",
    "思路：把版本字串按'.'分割，对每一字段做整形转换。由高位往低位逐位比较，当其中一个版本号字段较少时，默认设为$0$。"
   ]
  },
  {
   "cell_type": "code",
   "execution_count": 39,
   "metadata": {},
   "outputs": [
    {
     "data": {
      "text/plain": [
       "1"
      ]
     },
     "execution_count": 39,
     "metadata": {},
     "output_type": "execute_result"
    }
   ],
   "source": [
    "def compareVersion(version1: str, version2: str) -> int:\n",
    "    v1 = list(map(int, version1.split('.')))\n",
    "    v2 = list(map(int, version2.split('.')))\n",
    "    v1 += [0 for _ in range(len(v2)-len(v1))]\n",
    "    v2 += [0 for _ in range(len(v1)-len(v2))]\n",
    "\n",
    "    for i in range(len(v1)):\n",
    "        if v1[i] > v2[i]:\n",
    "            return 1\n",
    "        elif v1[i] < v2[i]:\n",
    "            return -1\n",
    "        else:\n",
    "            continue\n",
    "\n",
    "    return 0"
   ]
  },
  {
   "cell_type": "markdown",
   "metadata": {},
   "source": [
    "[Reverse Vowels of a String](https://leetcode.com/problems/reverse-vowels-of-a-string/)。给一个字串，对其中的元音字母做翻转。\n",
    "\n",
    "思路：双指针，从前往后找一个元音字母，由后往前找一个元音字母，交换。"
   ]
  },
  {
   "cell_type": "code",
   "execution_count": 43,
   "metadata": {},
   "outputs": [
    {
     "data": {
      "text/plain": [
       "'holle'"
      ]
     },
     "execution_count": 43,
     "metadata": {},
     "output_type": "execute_result"
    }
   ],
   "source": [
    "def reverseVowels(s: str) -> str:\n",
    "    s = list(s)\n",
    "    vows = ('a', 'e', 'i', 'o', 'u', 'A', 'E', 'I', 'O', 'U')\n",
    "\n",
    "    start, end = 0, len(s)-1\n",
    "    while start < end:\n",
    "        while start < end and s[start] not in vows:\n",
    "            start += 1\n",
    "        while start < end and s[end] not in vows:\n",
    "            end -= 1\n",
    "\n",
    "        s[start], s[end] = s[end], s[start]\n",
    "        start += 1\n",
    "        end -= 1\n",
    "\n",
    "    return ''.join(s)"
   ]
  },
  {
   "cell_type": "markdown",
   "metadata": {},
   "source": [
    "[Mini Parser](https://leetcode.com/problems/mini-parser/)。给定一个嵌套整形列表的字串，如'[123,[456,[789]]]'，将其解析成整形列表。\n",
    "\n",
    "思路：递归。使用一个变量记录层级，在同一层级遇到嵌套列表时，使用递归。类似于在句子中找单词一样，需要设立一个变量记录元素的起始位置，当遇到','或扫描到末尾时，说明找到一个同级元素。而层级关系可以通过'['和']'来记录。"
   ]
  },
  {
   "cell_type": "code",
   "execution_count": null,
   "metadata": {},
   "outputs": [],
   "source": [
    "def deserialize(s: str):\n",
    "    if s[0] != '[':    # 如果不是列表，则一定是单个整数\n",
    "        return NestedInteger(int(s))\n",
    "    if len(s) < 3:    # 如果长度小于等于2，一定是空列表\n",
    "        return NestedInteger()\n",
    "\n",
    "    res = NestedInteger()\n",
    "    item_start = 1    # 同一级别元素的起始位置\n",
    "    level = 0    # 级别，0表示同级\n",
    "    for i in range(1, len(s)):    # 从第二个字符开始遍历，找同级元素\n",
    "        if level == 0 and (s[i] == ',' or i == len(s)-1):    # 同一层级的元素\n",
    "            res.add(deserialize(s[item_start:i]))\n",
    "            item_start = i+1    # 更新起始位置\n",
    "        elif s[i] == '[':    # 遇到左括号层级+1\n",
    "            level += 1\n",
    "        elif s[i] == ']':    # 右括号层级-1\n",
    "            level -= 1\n",
    "\n",
    "    return res"
   ]
  },
  {
   "cell_type": "markdown",
   "metadata": {},
   "source": [
    "[Repeated Substring Pattern](https://leetcode.com/problems/repeated-substring-pattern/)。判断一个字串是否可由一个模式重复多次来生成。\n",
    "\n",
    "思路：若一个字串包含某种模式pattern，那该pattern至少重复两次。原字串的首字符为pattern的首字符，原字串的尾字符为pattern的尾字符。将原字串加倍，设为$2s$，如果其包含pattern的话，其至少可以写成$4p$，去掉首尾字符，可以写成$2p$，然后在该字串中寻找原字串。"
   ]
  },
  {
   "cell_type": "code",
   "execution_count": 46,
   "metadata": {},
   "outputs": [
    {
     "data": {
      "text/plain": [
       "False"
      ]
     },
     "execution_count": 46,
     "metadata": {},
     "output_type": "execute_result"
    }
   ],
   "source": [
    "def repeatedSubstringPattern(s: str) -> bool:\n",
    "    return s in (s+s)[1:-1]"
   ]
  },
  {
   "cell_type": "markdown",
   "metadata": {},
   "source": [
    "[Validate IP Address](https://leetcode.com/problems/validate-ip-address/)。判断IP地址的有效性。\n",
    "\n",
    "思路：纯逻辑实现题，需要考虑各种不规范输入。"
   ]
  },
  {
   "cell_type": "code",
   "execution_count": 72,
   "metadata": {},
   "outputs": [
    {
     "data": {
      "text/plain": [
       "'Neither'"
      ]
     },
     "execution_count": 72,
     "metadata": {},
     "output_type": "execute_result"
    }
   ],
   "source": [
    "def validIPAddress(IP: str) -> str:\n",
    "    def isIPv4(s):\n",
    "        s = s.split('.')\n",
    "        if not all(map(lambda x: x.isdigit(), IP.split('.'))) or len(s) != 4:\n",
    "            return False\n",
    "        nums = list(map(int, s))\n",
    "        for i in range(4):\n",
    "            if str(nums[i]) != s[i] or nums[i] > 255:\n",
    "                return False\n",
    "        return True\n",
    "\n",
    "    def isIPv6(s):\n",
    "        s = s.split(':')\n",
    "        if len(s) != 8:\n",
    "            return False\n",
    "        for i in range(8):\n",
    "            if len(s[i]) > 4 or len(s[i]) < 1:\n",
    "                return False\n",
    "            else:\n",
    "                for ch in s[i]:\n",
    "                    # ord('0')=48, ord('9')=57, ord('A')=65, ord('F')=70,ord('a')=97, ord('f')=102\n",
    "                    if ord(ch) < 48 or 57 < ord(ch) < 65 or 70 < ord(ch) < 97 or ord(ch) > 102:\n",
    "                        return False\n",
    "        return True\n",
    "\n",
    "    if '.' in IP:\n",
    "        res = \"IPv4\" if isIPv4(IP) else \"Neither\"\n",
    "    else:\n",
    "        res = 'IPv6' if isIPv6(IP) else \"Neither\"\n",
    "\n",
    "    return res"
   ]
  },
  {
   "cell_type": "markdown",
   "metadata": {},
   "source": [
    "[Detect Capital](https://leetcode.com/problems/detect-capital/)。判别一个单词是否正确使用了大写规则，合法的大写规则有三种：只有首字母大写，全部字母大写和全部字母小写。\n",
    "\n",
    "思路：当首字母与第二字母均大写时，后面字母必须全部大写；当首字母与第二字母均小写时，后面字母必须全部小写；当首字母大写第二字母小写时，后面字母必须全部小写。"
   ]
  },
  {
   "cell_type": "code",
   "execution_count": 81,
   "metadata": {},
   "outputs": [
    {
     "data": {
      "text/plain": [
       "False"
      ]
     },
     "execution_count": 81,
     "metadata": {},
     "output_type": "execute_result"
    }
   ],
   "source": [
    "# ord('A')=65, ord('Z')=90, ord('a')=97, ord('z')=122\n",
    "def detectCapitalUse(word: str) -> bool:\n",
    "    if len(word) < 2:\n",
    "        return True\n",
    "\n",
    "    def isUpper(ch):\n",
    "        return 65 <= ord(ch) <= 90\n",
    "\n",
    "    def isLower(ch):\n",
    "        return 97 <= ord(ch) <= 122\n",
    "\n",
    "    if isUpper(word[0]):\n",
    "        if isUpper(word[1]):\n",
    "            return all(map(isUpper, word[2:]))\n",
    "        else:\n",
    "            return all(map(isLower, word[2:]))\n",
    "    else:\n",
    "        return all(map(isLower, word[1:]))"
   ]
  },
  {
   "cell_type": "markdown",
   "metadata": {},
   "source": [
    "[Longest Uncommon Subsequence I](https://leetcode.com/problems/longest-uncommon-subsequence-i/)。最长非公共子序列。\n",
    "\n",
    "思路：注意，是求非公共子序列。若两字串不相等，那么较长的那一个字串即是最长非公共子序列；若两字串相等，则不存在非公共子序列，即$-1$。"
   ]
  },
  {
   "cell_type": "code",
   "execution_count": 82,
   "metadata": {},
   "outputs": [],
   "source": [
    "def findLUSlength(a: str, b: str) -> int:\n",
    "    return max(len(a),len(b)) if a!=b else -1"
   ]
  },
  {
   "cell_type": "markdown",
   "metadata": {},
   "source": [
    "[Longest Uncommon Subsequence II](https://leetcode.com/problems/longest-uncommon-subsequence-ii/)。给若干个字串，找出它们的最长非公共子序列。\n",
    "\n",
    "思路：由上题应该就知道，字串们的最长非公共子序列要么不存在，要么一定是字串中的某一个。在对字串做两两比较时，长的字串是LUS，但是短的不是。将字串数组中所有字串都轮流取出来与其他所有字串比较，只要其不是某个长字串的子序列，就可以成为候选LUS，记录最大长度即可。所以关键在于判断子序列。"
   ]
  },
  {
   "cell_type": "code",
   "execution_count": 99,
   "metadata": {},
   "outputs": [
    {
     "data": {
      "text/plain": [
       "-1"
      ]
     },
     "execution_count": 99,
     "metadata": {},
     "output_type": "execute_result"
    }
   ],
   "source": [
    "def findLUSlength(strs) -> int:\n",
    "    strs.sort(key=len, reverse=True)\n",
    "    res = -1\n",
    "\n",
    "    def isSub(s1, s2):\n",
    "        '''\n",
    "        判断s1是不是s2的一个子序列，len(s1)<=len(s2)\n",
    "        '''\n",
    "        i = 0\n",
    "        for ch in s2:\n",
    "            if ch == s1[i]:\n",
    "                i += 1\n",
    "                if i == len(s1):\n",
    "                    return True\n",
    "        return False\n",
    "\n",
    "    for i in range(len(strs)):    # 选出的字串\n",
    "        for j in range(len(strs)):    # 比较的字串\n",
    "            if i != j and isSub(strs[i], strs[j]):\n",
    "                break\n",
    "            if j == len(strs)-1:\n",
    "                res = max(res, len(strs[i]))\n",
    "\n",
    "    return res"
   ]
  },
  {
   "cell_type": "markdown",
   "metadata": {},
   "source": [
    "[Complex Number Multiplication](https://leetcode.com/problems/complex-number-multiplication/)。虚数乘法，给两个字符串形式的虚数，返回相乘结果。\n",
    "\n",
    "思路：$(a+bi)\\times{c+di}=ac-bd+(ad+bc)i$"
   ]
  },
  {
   "cell_type": "code",
   "execution_count": null,
   "metadata": {},
   "outputs": [],
   "source": [
    "def complexNumberMultiply(num1: str, num2: str) -> str:\n",
    "    a, b = num1.split('+')\n",
    "    a, b = int(a), int(b[:-1])\n",
    "    c, d = num2.split('+')\n",
    "    c, d = int(c), int(d[:-1])\n",
    "\n",
    "    real = a*c-b*d\n",
    "    img = a*d+b*c\n",
    "    return str(real)+'+'+str(img)+'i'"
   ]
  },
  {
   "cell_type": "markdown",
   "metadata": {},
   "source": [
    "[Minimum Time Difference](https://leetcode.com/problems/minimum-time-difference/)。给定一系列时钟值，求这一系列时间值之间的最小时差，以分钟为单位。\n",
    "\n",
    "思路：首先将字串转成整形格式，排序后逐个相减，首位相减时要注意隔天。"
   ]
  },
  {
   "cell_type": "code",
   "execution_count": 106,
   "metadata": {},
   "outputs": [
    {
     "name": "stdout",
     "output_type": "stream",
     "text": [
      "[0, 1439]\n"
     ]
    },
    {
     "data": {
      "text/plain": [
       "1"
      ]
     },
     "execution_count": 106,
     "metadata": {},
     "output_type": "execute_result"
    }
   ],
   "source": [
    "def findMinDifference(timePoints) -> int:\n",
    "    mpd = 24*60  # min_per_day\n",
    "\n",
    "    def str2min(s):\n",
    "        h, m = s.split(':')\n",
    "        return int(h)*60+int(m)\n",
    "\n",
    "    mins = sorted(list(map(str2min, timePoints)))\n",
    "\n",
    "    res = mpd\n",
    "    for i in range(len(mins)-1):\n",
    "        res = min(res, abs(mins[i+1]-mins[i]))\n",
    "\n",
    "    res = min(res, abs(mins[0]+mpd-mins[-1]))\n",
    "\n",
    "    return res"
   ]
  },
  {
   "cell_type": "markdown",
   "metadata": {},
   "source": [
    "[Reverse String II](https://leetcode.com/problems/reverse-string-ii/)。给一字符串与一整数$k$，以$k$为周期做如下操作：翻转，不翻转，翻转，……。\n",
    "\n",
    "思路：设立一个周期指针$p$，指针移动的步长为$k$。在设立一个翻转标志位，$p$每移动一次就翻转标志位。"
   ]
  },
  {
   "cell_type": "code",
   "execution_count": 110,
   "metadata": {},
   "outputs": [
    {
     "data": {
      "text/plain": [
       "'ba'"
      ]
     },
     "execution_count": 110,
     "metadata": {},
     "output_type": "execute_result"
    }
   ],
   "source": [
    "def reverseStr(s: str, k: int) -> str:\n",
    "    flag = 1    # 翻转flag\n",
    "    p = 0\n",
    "    s = list(s)    # 转成列表便于翻转\n",
    "\n",
    "    def reverse(l):\n",
    "        return l[::-1]\n",
    "\n",
    "    while p*k < len(s):\n",
    "        if flag:\n",
    "            s[p*k:(p+1)*k] = s[p*k:(p+1)*k][::-1]\n",
    "        p += 1\n",
    "        flag ^= 1    # 转置flag\n",
    "\n",
    "    return ''.join(s)"
   ]
  },
  {
   "cell_type": "markdown",
   "metadata": {},
   "source": [
    "[Reverse Words in a String III](https://leetcode.com/problems/reverse-words-in-a-string-iii/)。给一句子，反转所有单词。\n",
    "\n",
    "思路：分三步。1. 找到单次的开头start；2. 找到单次的末尾end；3. 反转单词。"
   ]
  },
  {
   "cell_type": "code",
   "execution_count": 6,
   "metadata": {},
   "outputs": [
    {
     "data": {
      "text/plain": [
       "\"     s'teL ekat edoCteeL tsetnoc  \""
      ]
     },
     "execution_count": 6,
     "metadata": {},
     "output_type": "execute_result"
    }
   ],
   "source": [
    "def reverseWords(s: str) -> str:\n",
    "    start = 0\n",
    "    n = len(s)\n",
    "    s = list(s)\n",
    "\n",
    "    def reverse(start, end):\n",
    "        while start < end:\n",
    "            s[start], s[end] = s[end], s[start]\n",
    "            start += 1\n",
    "            end -= 1\n",
    "\n",
    "    while start < n:\n",
    "        # 1. 找到开头\n",
    "        while start < n and s[start] == ' ':\n",
    "            start += 1\n",
    "\n",
    "        # 找到结尾\n",
    "        end = start\n",
    "        while end < n and s[end] != ' ':\n",
    "            end += 1\n",
    "\n",
    "        reverse(start, end-1)\n",
    "\n",
    "        start = end\n",
    "\n",
    "    return ''.join(s)"
   ]
  },
  {
   "cell_type": "markdown",
   "metadata": {},
   "source": [
    "[Palindromic Substrings](https://leetcode.com/problems/palindromic-substrings/)。给一字符串，找出该字串中有多少个回文子串。不同索引位置的回文即算不同。\n",
    "\n",
    "思路：判断回文的方法是从中心往两边扩展，但是中心字符的选取却又奇偶两种方式。以奇数形式展开时，中心字符只有一个，即$i==j$；以偶数形式展开时，中心字符有两个，即$i+1=j$。"
   ]
  },
  {
   "cell_type": "code",
   "execution_count": 3,
   "metadata": {},
   "outputs": [
    {
     "data": {
      "text/plain": [
       "6"
      ]
     },
     "execution_count": 3,
     "metadata": {},
     "output_type": "execute_result"
    }
   ],
   "source": [
    "def countSubstrings(s: str) -> int:\n",
    "    res = 0\n",
    "    if not s:\n",
    "        return res\n",
    "\n",
    "    def expand(left, right):\n",
    "        nonlocal res\n",
    "        while left >= 0 and right < n and s[left] == s[right]:\n",
    "            res += 1\n",
    "            left -= 1\n",
    "            right += 1\n",
    "\n",
    "    n = len(s)\n",
    "    for idx in range(n):\n",
    "        expand(idx, idx)\n",
    "        expand(idx, idx+1)\n",
    "\n",
    "    return res"
   ]
  },
  {
   "cell_type": "markdown",
   "metadata": {},
   "source": [
    "[Longest Palindromic Subsequence](https://leetcode.com/problems/longest-palindromic-subsequence/)。"
   ]
  },
  {
   "cell_type": "code",
   "execution_count": 5,
   "metadata": {},
   "outputs": [],
   "source": [
    "pass"
   ]
  },
  {
   "cell_type": "markdown",
   "metadata": {},
   "source": [
    "[Longest Palindromic Substring](https://leetcode.com/problems/longest-palindromic-substring/)。给一字串，求其中最长回文子串。\n",
    "\n",
    "思路：判断回文的方法就是从中心往两边扩展，但是扩展的方式有两种，奇数和偶数。以奇数形式扩展时，中心字符只有一个；以偶数形式扩展时，中心字符有两个。"
   ]
  },
  {
   "cell_type": "code",
   "execution_count": 9,
   "metadata": {},
   "outputs": [
    {
     "data": {
      "text/plain": [
       "'bab'"
      ]
     },
     "execution_count": 9,
     "metadata": {},
     "output_type": "execute_result"
    }
   ],
   "source": [
    "def longestPalindromeSubseq(s: str) -> int:\n",
    "    res = ''\n",
    "    if not s:\n",
    "        return res\n",
    "    n = len(s)\n",
    "\n",
    "    def expand(left, right):\n",
    "        nonlocal res\n",
    "        while left >= 0 and right < n and s[left] == s[right]:\n",
    "            left -= 1\n",
    "            right += 1\n",
    "        if right-left-1 > len(res):\n",
    "            res = s[left+1:right]\n",
    "\n",
    "    for idx in range(n):\n",
    "        expand(idx, idx)\n",
    "        expand(idx, idx+1)\n",
    "\n",
    "    return res"
   ]
  },
  {
   "cell_type": "markdown",
   "metadata": {},
   "source": [
    "[Valid Parenthesis String](https://leetcode.com/problems/valid-parenthesis-string/)。一字串只有三种模式：'('、')'和'\\*'。其中'\\*'号可以替换成任意字符甚至空字符，判断该字串是否合法。\n",
    "\n",
    "思路：因为'\\*'号可以替换任意字符，所以在遇到')'时，优先使用'('去做抵消，不存在'('才使用'\\*'去抵消。这样一轮扫描后，若还剩下')'则直接返回false，否则只会剩下'('和'\\*'。然后'('和'\\*'的抵消规则如下，只有位于'('后面的'\\*'才能抵消一个'('。所以维护两个数组```left_brackets```和```starts```，其分别记录字串中'('和'\\*'的位置。"
   ]
  },
  {
   "cell_type": "code",
   "execution_count": null,
   "metadata": {},
   "outputs": [],
   "source": [
    "def checkValidString(s: str) -> bool:\n",
    "    left_brackets, starts = list(), list()\n",
    "\n",
    "    # 消灭右括号\n",
    "    for idx, ch in enumerate(s):\n",
    "        if ch == '(':\n",
    "            left_brackets.append(idx)\n",
    "        elif ch == '*':\n",
    "            starts.append(idx)\n",
    "        else:\n",
    "            if left_brackets:\n",
    "                left_brackets.pop()\n",
    "            elif starts:\n",
    "                starts.pop()\n",
    "            else:\n",
    "                return False\n",
    "\n",
    "    # 消灭左括号\n",
    "    while left_brackets:\n",
    "        if not starts or starts[-1] < left_brackets[-1]:\n",
    "            return False\n",
    "        else:\n",
    "            starts.pop()\n",
    "            left_brackets.pop()\n",
    "\n",
    "    return True"
   ]
  },
  {
   "cell_type": "markdown",
   "metadata": {},
   "source": [
    "[Count Binary Substrings](https://leetcode.com/problems/count-binary-substrings/)。给一串'01'字串求出其中有多少个'0'的数量等于'1'的数量、且'0'挨在一起并且'1'也挨在一起的子串。\n",
    "\n",
    "思路：该题跟找回文串的思路很类似，都是从中心往外扩展的思路。由题意合法的子串长度肯定是偶数，那么先找到一个最小的核心'01'或'10'，然后往左右扩展。"
   ]
  },
  {
   "cell_type": "code",
   "execution_count": 7,
   "metadata": {},
   "outputs": [
    {
     "data": {
      "text/plain": [
       "6"
      ]
     },
     "execution_count": 7,
     "metadata": {},
     "output_type": "execute_result"
    }
   ],
   "source": [
    "def countBinarySubstrings(s: str) -> int:\n",
    "    n = len(s)\n",
    "    res = 0\n",
    "    if n < 2:\n",
    "        return res\n",
    "\n",
    "    def expand(left, right):\n",
    "        nonlocal res\n",
    "        while left >= 0 and right < n and s[left] == s[left+1] and s[right] == s[right-1]:\n",
    "            res += 1\n",
    "            left -= 1\n",
    "            right += 1\n",
    "\n",
    "    for i in range(n-1):\n",
    "        if s[i] != s[i+1]:\n",
    "            res += 1\n",
    "            expand(i-1, i+2)\n",
    "\n",
    "    return res"
   ]
  },
  {
   "cell_type": "markdown",
   "metadata": {},
   "source": [
    "[Ambiguous Coordinates](https://leetcode.com/problems/ambiguous-coordinates/)。给一带括号的字符串，给其加上逗号与小数点构成坐标形式，求所有可能的合法坐标。如'0.0'、'00'、'1.0'或'01'这种数字都是不合法的。\n",
    "\n",
    "思路：要构成坐标，至少得两个数字，且答案中有且只能有一个逗号，能否加小数点需要看横纵坐标数字的位数，该题难点就在这里。编写一个函数，专门用于将字串转换成合法的(带小数点的)数字即可。主要需要考虑各种非法情况：\n",
    "- 单字符直接返回；\n",
    "- 首尾都是0，返回空；\n",
    "- 首字符是0，小数点只能加在首位后面；\n",
    "- 尾字符是0，不能加小数点"
   ]
  },
  {
   "cell_type": "code",
   "execution_count": 3,
   "metadata": {},
   "outputs": [
    {
     "data": {
      "text/plain": [
       "['(1,23)', '(1,2.3)', '(12,3)', '(1.2,3)']"
      ]
     },
     "execution_count": 3,
     "metadata": {},
     "output_type": "execute_result"
    }
   ],
   "source": [
    "def ambiguousCoordinates(S: str):\n",
    "    S = S[1:-1]\n",
    "    res = list()\n",
    "    if len(S) < 2:\n",
    "        return res\n",
    "\n",
    "    def func(string):\n",
    "        if len(string) == 1:    # 单字符无法加小数点\n",
    "            return [string]\n",
    "        elif string[0] == '0' and string[-1] == '0':    # 首尾都是0，非法\n",
    "            return list()\n",
    "        elif string[0] == '0':    # 首是0，小数点只能加在最前面\n",
    "            return ['0.{}'.format(string[1:])]\n",
    "        elif string[-1] == '0':    # 尾是0，无法加小数点\n",
    "            return [string]\n",
    "        else:\n",
    "            res = [string]    # 自身肯定是合法的数\n",
    "            for i in range(1, len(string)):\n",
    "                res.append('{}.{}'.format(string[:i], string[i:]))\n",
    "        return res\n",
    "\n",
    "    n = len(S)\n",
    "    res = list()\n",
    "    for comma_idx in range(1, n):\n",
    "        xs, ys = func(S[:comma_idx]), func(S[comma_idx:])\n",
    "        for x in xs:\n",
    "            for y in ys:\n",
    "                res.append('({}, {})'.format(x, y))\n",
    "\n",
    "    return res"
   ]
  },
  {
   "cell_type": "code",
   "execution_count": null,
   "metadata": {},
   "outputs": [],
   "source": []
  }
 ],
 "metadata": {
  "hide_input": false,
  "kernelspec": {
   "display_name": "Python 3",
   "language": "python",
   "name": "python3"
  },
  "language_info": {
   "codemirror_mode": {
    "name": "ipython",
    "version": 3
   },
   "file_extension": ".py",
   "mimetype": "text/x-python",
   "name": "python",
   "nbconvert_exporter": "python",
   "pygments_lexer": "ipython3",
   "version": "3.6.6"
  },
  "toc": {
   "base_numbering": 1,
   "nav_menu": {},
   "number_sections": true,
   "sideBar": true,
   "skip_h1_title": false,
   "title_cell": "Table of Contents",
   "title_sidebar": "Contents",
   "toc_cell": false,
   "toc_position": {},
   "toc_section_display": true,
   "toc_window_display": false
  }
 },
 "nbformat": 4,
 "nbformat_minor": 2
}
