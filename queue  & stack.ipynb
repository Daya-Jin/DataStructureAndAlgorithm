{
 "cells": [
  {
   "cell_type": "markdown",
   "metadata": {},
   "source": [
    "两个栈实现队列。"
   ]
  },
  {
   "cell_type": "code",
   "execution_count": 12,
   "metadata": {},
   "outputs": [
    {
     "name": "stdout",
     "output_type": "stream",
     "text": [
      "1\n",
      "2\n"
     ]
    }
   ],
   "source": [
    "class Stack:\n",
    "    def __init__(self):\n",
    "        self.items = []\n",
    "        self.size = 0\n",
    "\n",
    "    def push(self, x):\n",
    "        self.items.append(x)\n",
    "        self.size += 1\n",
    "\n",
    "    def pop(self):\n",
    "        self.size -= 1\n",
    "        return self.items.pop()\n",
    "\n",
    "\n",
    "# 设置一个栈用于入队，另一个栈用于出队\n",
    "class Queue:\n",
    "    def __init__(self):\n",
    "        self.s_in = Stack()  # 新元素全部压入此栈\n",
    "        self.s_out = Stack()  # 删除操作全部在此栈\n",
    "\n",
    "    def add(self, x):\n",
    "        self.s_in.push(x)\n",
    "\n",
    "    def delete(self):\n",
    "        if self.s_out.size == 0:  # 如果栈2为空，需要将栈1的元素转移到栈2\n",
    "            if self.s_in.size == 0:  # 如果栈1也空\n",
    "                raise IndexError(\"empty queue\")\n",
    "            while self.s_in.size > 0:  # 转移元素\n",
    "                self.s_out.push(self.s_in.pop())\n",
    "        return self.s_out.pop()\n",
    "\n",
    "\n",
    "q = Queue()\n",
    "q.add(1)\n",
    "q.add(2)\n",
    "print(q.delete())\n",
    "print(q.delete())"
   ]
  },
  {
   "cell_type": "markdown",
   "metadata": {},
   "source": [
    "两个队列实现一个栈。"
   ]
  },
  {
   "cell_type": "code",
   "execution_count": 17,
   "metadata": {},
   "outputs": [
    {
     "name": "stdout",
     "output_type": "stream",
     "text": [
      "2\n",
      "1\n"
     ]
    }
   ],
   "source": [
    "class Queue:\n",
    "    def __init__(self):\n",
    "        self.items = []\n",
    "        self.size = 0\n",
    "\n",
    "    def in_queue(self, x):\n",
    "        self.items.insert(0, x)\n",
    "        self.size += 1\n",
    "\n",
    "    def out_queue(self):\n",
    "        self.size -= 1\n",
    "        return self.items.pop()\n",
    "\n",
    "\n",
    "# 两个队列交替使用，新元素插入到非空队列中，删除时需要对除最后一个元素外的全部元素进行转移\n",
    "class Stack:\n",
    "    def __init__(self):\n",
    "        self.q0 = Queue()\n",
    "        self.q1 = Queue()\n",
    "        self.flag = True  # 插入队列标记\n",
    "\n",
    "    def push(self, x):\n",
    "        if self.flag:\n",
    "            self.q0.in_queue(x)\n",
    "        else:\n",
    "            self.q1.in_queue(x)\n",
    "\n",
    "    def pop(self):\n",
    "        if self.flag:\n",
    "            non_empty_q = self.q0\n",
    "            empty_q = self.q1\n",
    "        else:\n",
    "            non_empty_q = self.q1\n",
    "            empty_q = self.q0\n",
    "\n",
    "        if non_empty_q.size <= 1:  # 如果弹出队列只有一个元素\n",
    "            return non_empty_q.out_queue()  # 直接弹出\n",
    "        else:\n",
    "            while non_empty_q.size > 1:  # 转移除最后一个元素外的全部元素\n",
    "                empty_q.in_queue(non_empty_q.out_queue())\n",
    "            self.flag = not self.flag  # 更改标记\n",
    "            return non_empty_q.out_queue()  # 弹出\n",
    "\n",
    "\n",
    "s = Stack()\n",
    "s.push(1)\n",
    "s.push(2)\n",
    "print(s.pop())\n",
    "print(s.pop())"
   ]
  },
  {
   "cell_type": "code",
   "execution_count": null,
   "metadata": {},
   "outputs": [],
   "source": []
  }
 ],
 "metadata": {
  "kernelspec": {
   "display_name": "Python 3",
   "language": "python",
   "name": "python3"
  },
  "language_info": {
   "codemirror_mode": {
    "name": "ipython",
    "version": 3
   },
   "file_extension": ".py",
   "mimetype": "text/x-python",
   "name": "python",
   "nbconvert_exporter": "python",
   "pygments_lexer": "ipython3",
   "version": "3.6.6"
  }
 },
 "nbformat": 4,
 "nbformat_minor": 2
}
