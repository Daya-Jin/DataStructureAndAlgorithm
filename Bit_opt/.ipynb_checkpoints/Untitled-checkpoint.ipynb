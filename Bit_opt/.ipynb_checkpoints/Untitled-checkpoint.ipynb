{
 "cells": [
  {
   "cell_type": "markdown",
   "metadata": {},
   "source": [
    "[Single Number II](https://leetcode.com/problems/single-number-ii/)。一数组中出了一个数字只出现一次外，其他数字都出现了三次，找出那个单独的数字。\n",
    "\n",
    "思路：按位将所有数字求和，那些出现三次的数字的位数求和肯定是3的倍数，而位数和中不为3的倍数的位肯定是单独数字。"
   ]
  },
  {
   "cell_type": "code",
   "execution_count": 14,
   "metadata": {},
   "outputs": [
    {
     "data": {
      "text/plain": [
       "3"
      ]
     },
     "execution_count": 14,
     "metadata": {},
     "output_type": "execute_result"
    }
   ],
   "source": [
    "# 对Python的位运算机制不是很懂，使用字典来做\n",
    "def singleNumber(nums) -> int:\n",
    "    if not nums:\n",
    "        return 0\n",
    "    if len(nums) == 1:\n",
    "        return nums[0]\n",
    "\n",
    "    tabel = dict()\n",
    "    for num in nums:\n",
    "        tabel.setdefault(num, 0)\n",
    "        tabel[num] += 1\n",
    "    for num in tabel.keys():\n",
    "        if tabel[num] == 1:\n",
    "            return num"
   ]
  },
  {
   "cell_type": "markdown",
   "metadata": {},
   "source": [
    "[Single Number III](https://leetcode.com/problems/single-number-iii/)。一数组中有两个数字只出现一次，其他数字均出现两次，找出这两个数字。\n",
    "\n",
    "思路：设该两个数字为$a$跟$b$，那么所有数字异或起来的结果实际等于$a$异或$b$，在这个结果中随便取一个值为$1$的位，以该位的取值可以将原数组分为两组。对两组数组各做异或，得到的结果就是两个数字。"
   ]
  },
  {
   "cell_type": "code",
   "execution_count": null,
   "metadata": {},
   "outputs": [],
   "source": [
    "def singleNumber(self, nums: List[int]) -> List[int]:\n",
    "    cur_res = 0\n",
    "    for num in nums:\n",
    "        cur_res ^= num\n",
    "\n",
    "    mask_idx = 0\n",
    "    for i in range(32):\n",
    "        if (cur_res >> i) & 1:    # 找出最低的1位\n",
    "            mask_idx = i\n",
    "            break\n",
    "\n",
    "    a, b = 0, 0\n",
    "    for num in nums:\n",
    "        if (num >> mask_idx) & 1:    # 如果该位为1\n",
    "            a ^= num\n",
    "        else:\n",
    "            b ^= num\n",
    "    return [a, b]"
   ]
  },
  {
   "cell_type": "markdown",
   "metadata": {},
   "source": [
    "[Counting Bits](https://leetcode.com/problems/counting-bits/)。对数字的二进制码中的$1$进行计数，现给定一个范围，求$[1,n]$范围内所有数字二进制码中$1$的个数。\n",
    "\n",
    "思路：可使用动态规划+位操作来实现，如果一个数```num```的二进制最低位为1，则$1$的个数为```dp[num>>1]+1```，否则就为```dp[num>>1]```。"
   ]
  },
  {
   "cell_type": "code",
   "execution_count": null,
   "metadata": {},
   "outputs": [],
   "source": [
    "def countBits(num: int) -> List[int]:\n",
    "    dp = [0 for _ in range(num+1)]\n",
    "    for i in range(1, num+1):\n",
    "        if i & 1:\n",
    "            dp[i] = dp[i >> 1]+1\n",
    "        else:\n",
    "            dp[i] = dp[i >> 1]\n",
    "\n",
    "    return dp"
   ]
  },
  {
   "cell_type": "markdown",
   "metadata": {},
   "source": [
    "[Integer Replacement](https://leetcode.com/problems/integer-replacement/)。给一个数字$n$，作如下操作，偶数除以二，奇数则$+1$或$-1$。问将$n$变成$1$最少需多少次变换。\n",
    "\n",
    "思路：无脑减一或除二的思路是错误的。从位运算的角度来思考，考虑以下两种奇数情况：\n",
    "- 最低两位是$01$，如果$+1$的话，只能除一次，而$-1$可以连续除两次；\n",
    "- 最低两位是$11$，如果$+1$的话，之后可以连续除两次，而$-1$只能除以次。\n",
    "不难知道当除法次数最多时数字减小的最快，所以当数字为奇数时，需要考虑两种情况来决定$+1$还是$-1$，最低两位的值是用位运算来判断。"
   ]
  },
  {
   "cell_type": "code",
   "execution_count": null,
   "metadata": {},
   "outputs": [],
   "source": [
    "def integerReplacement(self, n: int) -> int:\n",
    "    if n <= 3:\n",
    "        return n-1    # 1需要0次，2需要1次，3需要2次\n",
    "\n",
    "    res = 0\n",
    "    mask = 3    # 提取低两位\n",
    "    while n > 3:\n",
    "        if n & 1 == 0:\n",
    "            n >>= 1\n",
    "        elif n & mask == 1:\n",
    "            n -= 1\n",
    "        else:\n",
    "            n += 1\n",
    "\n",
    "        res += 1\n",
    "\n",
    "    return res+n-1"
   ]
  },
  {
   "cell_type": "markdown",
   "metadata": {},
   "source": [
    "[Missing Number](https://leetcode.com/problems/missing-number/)。给一自然数乱序数组，无重复值，其中有一个缺失值，找出这个缺失值。\n",
    "\n",
    "思路：题目保证缺少一个数index的范围为$[0,n-1]$，那么长度为$n$的数组最大值必定为$n$。如果将所有number与index进行异或，最后得到的结果即是缺失值与$n$的异或结果，将该结果再与$n$异或即得到缺失值。"
   ]
  },
  {
   "cell_type": "code",
   "execution_count": 2,
   "metadata": {},
   "outputs": [
    {
     "data": {
      "text/plain": [
       "0"
      ]
     },
     "execution_count": 2,
     "metadata": {},
     "output_type": "execute_result"
    }
   ],
   "source": [
    "def missingNumber(nums) -> int:\n",
    "    res = 0\n",
    "    n = len(nums)\n",
    "\n",
    "    for idx, num in enumerate(nums):\n",
    "        res ^= idx ^ num\n",
    "\n",
    "    return res ^ n"
   ]
  },
  {
   "cell_type": "code",
   "execution_count": null,
   "metadata": {},
   "outputs": [],
   "source": []
  }
 ],
 "metadata": {
  "hide_input": false,
  "kernelspec": {
   "display_name": "Python 3",
   "language": "python",
   "name": "python3"
  },
  "language_info": {
   "codemirror_mode": {
    "name": "ipython",
    "version": 3
   },
   "file_extension": ".py",
   "mimetype": "text/x-python",
   "name": "python",
   "nbconvert_exporter": "python",
   "pygments_lexer": "ipython3",
   "version": "3.6.6"
  },
  "toc": {
   "base_numbering": 1,
   "nav_menu": {},
   "number_sections": true,
   "sideBar": true,
   "skip_h1_title": false,
   "title_cell": "Table of Contents",
   "title_sidebar": "Contents",
   "toc_cell": false,
   "toc_position": {},
   "toc_section_display": true,
   "toc_window_display": false
  }
 },
 "nbformat": 4,
 "nbformat_minor": 2
}
