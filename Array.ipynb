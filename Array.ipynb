{
 "cells": [
  {
   "cell_type": "markdown",
   "metadata": {},
   "source": [
    "判断一手扑克牌(手牌数为5)是否为顺子，假设大小王初始值为0，并可以转换成任意牌面值。"
   ]
  },
  {
   "cell_type": "code",
   "execution_count": 15,
   "metadata": {},
   "outputs": [],
   "source": [
    "# 思路：易得当手牌中存在对子时就不可能是顺子；\n",
    "# 然后满足顺子的必要条件为max-min<5，没有抽到大小王时，max-min=4；抽到时则小于4\n",
    "# 所以大小王需要特殊对待。设立一个记录出现次数的数字，然后在维护一个最大最小值即可\n",
    "\n",
    "\n",
    "def IsContinuous(cards):\n",
    "    if not cards or len(cards) != 5:\n",
    "        return False\n",
    "\n",
    "    cnts = [0]*14\n",
    "    cnts[0] = -1    # 代码中遇到>1的值会返回False，而大小王只有两张牌\n",
    "    min_val, max_val = 14, 0\n",
    "\n",
    "    for val in cards:\n",
    "        cnts[val] += 1\n",
    "\n",
    "        if val == 0:\n",
    "            continue\n",
    "\n",
    "        if cnts[val] > 1:\n",
    "            return False\n",
    "\n",
    "        if val > max_val:\n",
    "            max_val = val\n",
    "        if val < min_val:\n",
    "            min_val = val\n",
    "\n",
    "    return True if max_val-min_val < 5 else False"
   ]
  },
  {
   "cell_type": "markdown",
   "metadata": {},
   "source": [
    "[Product of Array Except Self](https://leetcode.com/problems/product-of-array-except-self/)。给定一个已知数组$A=[a_{0},a_{1},...,a_{n-1}]$，求数组$B=[b_{0},b_{1},...,b_{n-1}]$，其中$b_{i}=a_{0}{\\times}...{\\times}a_{i-1}{\\times}a_{i+1}{\\times}...{\\times}a_{n-1}$。"
   ]
  },
  {
   "cell_type": "code",
   "execution_count": 17,
   "metadata": {},
   "outputs": [],
   "source": [
    "# 思路：把b[i]分成两次计算，先计算b_left[i]=a[0]*...*a[i-1]，再计算b_right[i]=a[i+1]*...*a[n-1]\n",
    "# b[i]=b_left[i]*b_right[i]。不难发现b_left[i]=b_left[i-1]*a[i-1]，用单个循环就可计算出所有的b1\n",
    "# 接下来使用类似的方法计算所有的b2，每算出一个b2，就可得出一个b[i]\n",
    "\n",
    "\n",
    "def MultiplyArr(A):\n",
    "    if len(nums)<2:\n",
    "        return list()\n",
    "\n",
    "    res=[]\n",
    "\n",
    "    p=1\n",
    "    for i in range(len(nums)):\n",
    "        res.append(p)\n",
    "        p*=nums[i]\n",
    "\n",
    "    p=1\n",
    "    for i in range(len(nums)-1,-1,-1):\n",
    "        res[i]*=p\n",
    "        p*=nums[i]\n",
    "\n",
    "    return res"
   ]
  },
  {
   "cell_type": "markdown",
   "metadata": {},
   "source": [
    "Maximum Average Subarray With Length K. 给定一个数组与窗口大小k，求窗口可能的最大(平均)值。"
   ]
  },
  {
   "cell_type": "code",
   "execution_count": 18,
   "metadata": {},
   "outputs": [],
   "source": [
    "# 思路：扫描一遍数组，使用额外变量记录最大和与出现最大和的位置即可\n",
    "\n",
    "\n",
    "def findMaxAverage(nums: 'List[int]', k: int) -> float:\n",
    "    max_sum = sum([nums[i] for i in range(k)])\n",
    "    cur_sum = max_sum\n",
    "\n",
    "    for idx in range(1, len(nums)-k+1):\n",
    "        cur_sum = cur_sum-nums[idx-1]+nums[idx+k-1]\n",
    "        if cur_sum > max_sum:\n",
    "            max_sum = cur_sum\n",
    "            pos = idx\n",
    "\n",
    "    return max_sum/k"
   ]
  },
  {
   "cell_type": "markdown",
   "metadata": {},
   "source": [
    "String Compression. 给定一个有序字符数组，对有序数组进行就地压缩，某字符出现的次数跟在该字符后面，单次字符无需压缩。"
   ]
  },
  {
   "cell_type": "code",
   "execution_count": 19,
   "metadata": {},
   "outputs": [],
   "source": [
    "# 思路：因为连续字符都挨在一起，所以难点在于细节\n",
    "# 维护起始指针、结束指针、修改指针三个指针即可\n",
    "# 每次循环找到字符的最后位置，每次要修改时注意移动修改指针\n",
    "# 只有在前后字符不等或者走到倒数一位时才需要做操作，否则可以一直扫描\n",
    "\n",
    "\n",
    "def compress(s):\n",
    "    start = 0    # 字符首次出现的位置\n",
    "    write = 0    # 修改指针\n",
    "    for end in range(len(s)):\n",
    "        # 走到倒数一位或与后一位不等\n",
    "        if end+1 == len(s) or s[end] != s[end+1]:\n",
    "            # 进入该if时end一定指向字符的最后位置\n",
    "            s[write] = s[start]\n",
    "            write += 1\n",
    "\n",
    "            # 如果字符出现多次，则逐位写入数字\n",
    "            if end > start:\n",
    "                for digit in str(end-start+1):\n",
    "                    s[write] = digit\n",
    "                    write += 1\n",
    "\n",
    "            start = end+1    # 重置起始位置\n",
    "    return s[:write], write"
   ]
  },
  {
   "cell_type": "markdown",
   "metadata": {},
   "source": [
    "Range Sum Query. 给定一个整数数组，要求能随时检索[i,j]范围内所有整数的和。输入保证i<=j。"
   ]
  },
  {
   "cell_type": "code",
   "execution_count": 20,
   "metadata": {},
   "outputs": [],
   "source": [
    "# 思路：维护一个累加数组，[i,j]的范围等于[0,j]-[0,i-1]=sum(j)-sum(i-1)\n",
    "\n",
    "\n",
    "def sumRange(nums, i, j):\n",
    "    sum_arr = [0]*(len(nums)+1)    # 使用[0]来便于编程，返回值的下标要相应+1\n",
    "\n",
    "    for idx in range(1, len(nums)+1):\n",
    "        sum_arr[idx] = sum_arr[idx-1]+nums[idx-1]\n",
    "\n",
    "    return sum_arr[j+1]-sum_arr[i]"
   ]
  },
  {
   "cell_type": "markdown",
   "metadata": {},
   "source": [
    "Range Sum Query 2D. 给定一个整数矩阵，定位左上角与右下角，要求能随时检索任意区域的和。"
   ]
  },
  {
   "cell_type": "code",
   "execution_count": 21,
   "metadata": {},
   "outputs": [],
   "source": [
    "# 思路：同上，维护一个[0,0]到[row,col]累加和的和矩阵\n",
    "# 要求任意子区域的和，减去上方区域和与左方区域和，再加上左上角的区域和\n",
    "\n",
    "\n",
    "def sumRegion(nums, row1, col1, row2, col2):\n",
    "    rows = len(nums)\n",
    "    cols = len(nums[0])\n",
    "    sum_mat = [[0 for _ in range(cols+1)] for _ in range(rows+1)]\n",
    "\n",
    "    for row in range(1, rows+1):\n",
    "        for col in range(1, cols+1):\n",
    "            sum_mat[row][col] = sum_mat[row-1][col] + \\\n",
    "                sum_mat[row][col-1]-sum_mat[row-1][col-1]+nums[row-1][col-1]\n",
    "\n",
    "    return sum_mat[row2+1][col2+1]-sum_mat[row1][col2+1]-sum_mat[row2+1][col1]+sum_mat[row1][col1]"
   ]
  },
  {
   "cell_type": "markdown",
   "metadata": {},
   "source": [
    "Robot Return to Origin. 二维平面上有一机器人，给定一个字符串形式的移动序列指令，判断机器人是否回到了原点。"
   ]
  },
  {
   "cell_type": "code",
   "execution_count": 22,
   "metadata": {},
   "outputs": [],
   "source": [
    "def judgeCircle(moves):\n",
    "    d = {\n",
    "        'U': 0,\n",
    "        'D': 0,\n",
    "        'L': 0,\n",
    "        'R': 0\n",
    "    }\n",
    "\n",
    "    for move in moves:\n",
    "        d[move] += 1\n",
    "    return d['U'] == d['D'] and d['L'] == d['R']"
   ]
  },
  {
   "cell_type": "markdown",
   "metadata": {},
   "source": [
    "Intersection of Two Arrays II. 查找两数组的交集部分。(不是求公共子序列，只是求子集)"
   ]
  },
  {
   "cell_type": "code",
   "execution_count": 23,
   "metadata": {},
   "outputs": [],
   "source": [
    "# 思路：1. 排序后使用双指针，双指针指向值相等时就加入返回列表，继续扫描\n",
    "# 2. 数字计数，将长度较短的数组所有数字都记录下来\n",
    "\n",
    "\n",
    "def intersect(nums1, nums2):\n",
    "    cnt = dict()\n",
    "    for num in nums1:\n",
    "        if num in cnt:\n",
    "            cnt[num] += 1\n",
    "        else:\n",
    "            cnt[num] = 1\n",
    "\n",
    "    res = []\n",
    "    for num in nums2:\n",
    "        if num in cnt and cnt[num] > 0:\n",
    "            res.append(num)\n",
    "            cnt[num] -= 1\n",
    "\n",
    "    return res"
   ]
  },
  {
   "cell_type": "markdown",
   "metadata": {},
   "source": [
    "Available Captures for Rook. 棋盘上车能吃的棋子数。8*8的国际棋盘，有一个白车(R)，若干白象(B)和黑卒(p)，求白车当前捕获到的对方旗子数量。"
   ]
  },
  {
   "cell_type": "code",
   "execution_count": 24,
   "metadata": {},
   "outputs": [],
   "source": [
    "# 思路：上下左右四个方位必须直线相通才能捕获到，并且不能被B阻拦\n",
    "# 输入字符串化，在行内判断是否存在'pR'或'Rp'\n",
    "# 在列的方向上判断是否存在'pR'或'Rp'\n",
    "\n",
    "\n",
    "def numRookCaptures(board):\n",
    "    res = 0\n",
    "    # 首先索引到R的坐标\n",
    "    for row in board:\n",
    "        if 'R' in row:\n",
    "            tmp = ''.join(row).replace('.','')\n",
    "            res += 1 if 'pR' in tmp else 0\n",
    "            res += 1 if 'Rp' in tmp else 0\n",
    "\n",
    "            col_idx = row.index('R')\n",
    "            break\n",
    "\n",
    "    # 将'R'所在的一列提取出来\n",
    "    col = [row[col_idx] for row in board]\n",
    "    col = ''.join(col).replace('.','')\n",
    "    res += 1 if 'pR' in col else 0\n",
    "    res += 1 if 'Rp' in col else 0\n",
    "\n",
    "    return res"
   ]
  },
  {
   "cell_type": "markdown",
   "metadata": {},
   "source": [
    "[Fizz Buzz](https://leetcode.com/problems/fizz-buzz/). 自然数数组，替换其中的数字，替换规则如下：若能被3整除，用'Fizz'替换，若能被5整除，用'Buzz'替换，两者都满足，用'FizzBuzz'替换。"
   ]
  },
  {
   "cell_type": "code",
   "execution_count": 28,
   "metadata": {},
   "outputs": [],
   "source": [
    "# 思路：把替换规则用哈希表存起来\n",
    "\n",
    "\n",
    "def fizzBuzz(n: int):\n",
    "    replace_table = {\n",
    "        3: 'Fizz',\n",
    "        5: 'Buzz',\n",
    "    }\n",
    "    ans = []\n",
    "\n",
    "    for num in range(1, n+1):\n",
    "        re_str = ''\n",
    "        for key in replace_table:\n",
    "            if num % key == 0:\n",
    "                re_str += replace_table[key]\n",
    "\n",
    "        ans.append(re_str) if re_str else ans.append(str(num))\n",
    "\n",
    "    return ans"
   ]
  },
  {
   "cell_type": "markdown",
   "metadata": {},
   "source": [
    "[Majority Element](https://leetcode.com/problems/majority-element/). 寻找主元素。"
   ]
  },
  {
   "cell_type": "code",
   "execution_count": 29,
   "metadata": {},
   "outputs": [],
   "source": [
    "# 思路：主元素为出现次数大于数组长度一半的数，对主元素计数即可\n",
    "# 不等元素-1，相等元素+1\n",
    "\n",
    "\n",
    "def majorityElement(nums) -> int:\n",
    "    major = None\n",
    "    cnt = 0\n",
    "\n",
    "    for num in nums:\n",
    "        if num == major:\n",
    "            cnt += 1\n",
    "        else:\n",
    "            if cnt == 0:\n",
    "                major = num\n",
    "                cnt = 1\n",
    "            else:\n",
    "                cnt -= 1\n",
    "\n",
    "    return major"
   ]
  },
  {
   "cell_type": "markdown",
   "metadata": {},
   "source": [
    "[Majority Element II](https://leetcode.com/problems/majority-element-ii/). 在数组中找到出现次数大于1/3的数。"
   ]
  },
  {
   "cell_type": "code",
   "execution_count": 30,
   "metadata": {},
   "outputs": [],
   "source": [
    "# 思路：出现次数超过1/3的数可能有两个，维护两个主元素即可\n",
    "# 不同的是得到两个主元素后，还需要再扫描一边数组已验证出现次数大于1/3\n",
    "\n",
    "\n",
    "def majorityElement(nums):\n",
    "    major1 = major2 = None\n",
    "    cnt1 = cnt2 = 0\n",
    "\n",
    "    # 找到可能的主元素\n",
    "    for num in nums:\n",
    "        if num == major1:\n",
    "            cnt1 += 1\n",
    "        elif num == major2:\n",
    "            cnt2 += 1\n",
    "        else:\n",
    "            if cnt1 == 0:\n",
    "                major1 = num\n",
    "                cnt1 += 1\n",
    "            elif cnt2 == 0:\n",
    "                major2 = num\n",
    "                cnt2 += 1\n",
    "            else:\n",
    "                cnt1 -= 1\n",
    "                cnt2 -= 1\n",
    "\n",
    "    # 重新统计次数\n",
    "    cnt1 = cnt2 = 0\n",
    "    for num in nums:\n",
    "        if num == major1:\n",
    "            cnt1 += 1\n",
    "        elif num == major2:\n",
    "            cnt2 += 1\n",
    "\n",
    "    res = list()\n",
    "    if cnt1 > (len(nums)//3):\n",
    "        res.append(major1)\n",
    "    if cnt2 > (len(nums)//3):\n",
    "        res.append(major2)\n",
    "\n",
    "    return res"
   ]
  },
  {
   "cell_type": "markdown",
   "metadata": {},
   "source": [
    "[Rotate Image](https://leetcode.com/problems/rotate-image/)。顺时针90度旋转方阵。"
   ]
  },
  {
   "cell_type": "code",
   "execution_count": 53,
   "metadata": {},
   "outputs": [
    {
     "data": {
      "text/plain": [
       "[[7, 4, 1], [8, 5, 2], [9, 6, 3]]"
      ]
     },
     "execution_count": 53,
     "metadata": {},
     "output_type": "execute_result"
    }
   ],
   "source": [
    "# 思路：有两种方法\n",
    "# 1. 以主对角线作镜像，再将每行反转；或者每行反转，再以副对角线作镜像\n",
    "# 2. 以副对角线作镜像，再将每列反转；或者每列反转，再以主对角线作镜像\n",
    "# 从代码实现上来说，最后一种最便利\n",
    "\n",
    "\n",
    "def rotate(matrix) -> None:\n",
    "    def reverse_func(arr):    # 反转函数\n",
    "        start, end = 0, len(arr)-1\n",
    "        while start < end:\n",
    "            arr[start], arr[end] = arr[end], arr[start]\n",
    "            start += 1\n",
    "            end -= 1\n",
    "\n",
    "    n = len(matrix)\n",
    "\n",
    "    # 将每列反转\n",
    "    reverse_func(matrix)\n",
    "\n",
    "    # 以副对角线作镜像\n",
    "    for row in range(len(matrix)):\n",
    "        for col in range(row):\n",
    "            matrix[row][col], matrix[col][row] = matrix[col][row], matrix[row][col]"
   ]
  },
  {
   "cell_type": "markdown",
   "metadata": {},
   "source": [
    "[Game of Life](https://leetcode.com/problems/game-of-life/)。给定一个细胞矩阵，0代表死细胞，1代表活细胞。细胞的状态转移规则如下：\n",
    "- 周围活细胞数目为2或3则该细胞正常存活\n",
    "- 周围活细胞数目小于2则该细胞死亡\n",
    "- 周围活细胞数目大于3则该细胞死亡\n",
    "- 周围活细胞数目等于3则该细胞复活"
   ]
  },
  {
   "cell_type": "code",
   "execution_count": 3,
   "metadata": {},
   "outputs": [
    {
     "data": {
      "text/plain": [
       "[[0, 0, 0], [1, 0, 1], [0, 1, 1], [0, 1, 0]]"
      ]
     },
     "execution_count": 3,
     "metadata": {},
     "output_type": "execute_result"
    }
   ],
   "source": [
    "# 思路：程序实现时是逐行逐列扫描并改变矩阵值的，那么怎么保存转换之前的转态是关键\n",
    "# 使用状态码，不难得出有四种可能的状态：\n",
    "# 0.死细胞变死细胞；1.活细胞变死细胞；2.死细胞变活细胞；3.活细胞变活细胞\n",
    "# 注意这里状态码的设置有一个技巧，状态码模2为转换前的存活状态，状态码整除2为转换后的存活状态\n",
    "# 并且模2运算的状态与初始状态相同\n",
    "# 扫描矩阵两次，第一次做模运算设置状态码，第二次做整除运算设置存活状态\n",
    "\n",
    "\n",
    "def gameOfLife(board) -> None:\n",
    "    rows, cols = len(board), len(board[0])\n",
    "    delta = list(zip([-1, -1, -1, 0, 1, 1, 1, 0], [-1, 0, 1, 1, 1, 0, -1, -1]))\n",
    "\n",
    "    def check_staus(row, col):\n",
    "        live_nb = 0    # 转换前存活的邻居数\n",
    "\n",
    "        for dx, dy in delta:\n",
    "            x = row + dx\n",
    "            y = col + dy\n",
    "            if 0 <= x < rows and 0 <= y < cols and board[x][y] % 2 == 1:\n",
    "                live_nb += 1\n",
    "\n",
    "        if board[row][col] % 2 == 0 and live_nb == 3:    # 死细胞复活\n",
    "            return 2\n",
    "        elif board[row][col] % 2 == 1:    # 之前为活细胞\n",
    "            if live_nb == 2 or live_nb == 3:    # 存活\n",
    "                return 3\n",
    "            else:    # 死亡\n",
    "                return 1\n",
    "        else:\n",
    "            return 0\n",
    "\n",
    "    # 设置状态码\n",
    "    for row in range(rows):\n",
    "        for col in range(cols):\n",
    "            board[row][col] = check_staus(row, col)\n",
    "\n",
    "    # 根据状态码设置存活状态\n",
    "    for row in range(rows):\n",
    "        for col in range(cols):\n",
    "            board[row][col] = board[row][col]//2"
   ]
  },
  {
   "cell_type": "markdown",
   "metadata": {},
   "source": [
    "[3Sum](https://leetcode.com/problems/3sum/)。给定一数组，找出所有满足a+b+c=0的三元组。"
   ]
  },
  {
   "cell_type": "code",
   "execution_count": 7,
   "metadata": {},
   "outputs": [
    {
     "data": {
      "text/plain": [
       "[[-2, 0, 2]]"
      ]
     },
     "execution_count": 7,
     "metadata": {},
     "output_type": "execute_result"
    }
   ],
   "source": [
    "# 思路：首先对数组排序，逐元素扫描数组，把当前位置的数作为三元组的首元素\n",
    "# 为了避免重复计算，只在数组的后面部分中找两个元素\n",
    "# 还是为了避免重复计算，在匹配成功之后，移动指针时需要判断是否遇上一个数组相同\n",
    "\n",
    "\n",
    "def threeSum(nums):\n",
    "    nums.sort()\n",
    "    n = len(nums)\n",
    "    res = list()\n",
    "\n",
    "    for idx in range(n-2):\n",
    "        if nums[idx] > 0:\n",
    "            break    # 首元素大于零，后面的都大于0，和不可能为零\n",
    "        if idx > 0 and nums[idx] == nums[idx-1]:\n",
    "            continue    # 跳过重复首元素\n",
    "\n",
    "        l, r = idx+1, n-1\n",
    "        while l < r:\n",
    "            cur_sum = nums[idx]+nums[l]+nums[r]\n",
    "            if cur_sum < 0:\n",
    "                l += 1\n",
    "            elif cur_sum > 0:\n",
    "                r -= 1\n",
    "            else:\n",
    "                res.append([nums[idx], nums[l], nums[r]])\n",
    "                l += 1\n",
    "                r -= 1\n",
    "                # 如果移动之后还是相同数字\n",
    "                while l < r and nums[l] == nums[l-1]:\n",
    "                    l += 1\n",
    "                while l < r and nums[r] == nums[r+1]:\n",
    "                    r -= 1\n",
    "\n",
    "    return res"
   ]
  },
  {
   "cell_type": "markdown",
   "metadata": {},
   "source": [
    "[4Sum](https://leetcode.com/problems/4sum/)。给定一数组，找出满足a+b+c+d=sum的所有四元组。"
   ]
  },
  {
   "cell_type": "code",
   "execution_count": 10,
   "metadata": {},
   "outputs": [
    {
     "data": {
      "text/plain": [
       "[[-2, -1, 1, 2], [-2, 0, 0, 2], [-1, 0, 0, 1]]"
      ]
     },
     "execution_count": 10,
     "metadata": {},
     "output_type": "execute_result"
    }
   ],
   "source": [
    "# 思路：一样的思路，首先定位a与b，然后在后面部分使用双指针寻找c与d\n",
    "\n",
    "\n",
    "def fourSum(nums, target: int):\n",
    "    nums.sort()\n",
    "    n = len(nums)\n",
    "    res = list()\n",
    "\n",
    "    for a in range(n-3):\n",
    "        for b in range(a+1, n-2):\n",
    "            c, d = b+1, n-1\n",
    "            while c < d:\n",
    "                cur_sum = nums[a]+nums[b]+nums[c]+nums[d]\n",
    "                if cur_sum < target:\n",
    "                    c += 1\n",
    "                elif cur_sum > target:\n",
    "                    d -= 1\n",
    "                else:\n",
    "                    cur_res = [nums[a], nums[b], nums[c], nums[d]]\n",
    "                    if cur_res not in res:    # 判重\n",
    "                        res.append([nums[a], nums[b], nums[c], nums[d]])\n",
    "                    c += 1\n",
    "                    d -= 1\n",
    "\n",
    "    return res"
   ]
  },
  {
   "cell_type": "markdown",
   "metadata": {},
   "source": [
    "[Fruit Into Baskets](https://leetcode.com/problems/fruit-into-baskets/)。给定一数组，数组中的元素代表一个类别，你只能选取其中的两个类别进行摘取，求问最多能连续摘取多少个数字。"
   ]
  },
  {
   "cell_type": "code",
   "execution_count": 14,
   "metadata": {},
   "outputs": [
    {
     "data": {
      "text/plain": [
       "5"
      ]
     },
     "execution_count": 14,
     "metadata": {},
     "output_type": "execute_result"
    }
   ],
   "source": [
    "# 思路：使用双指针记录一个滑动窗口，并使用字典对窗口内的元素计数\n",
    "\n",
    "\n",
    "def totalFruit(tree) -> int:\n",
    "    left = right = 0\n",
    "    cnts = dict()\n",
    "    res = 0\n",
    "\n",
    "    while right < len(tree):\n",
    "        cnts[tree[right]] = cnts.get(tree[right], 0)+1    # 加入右边的元素\n",
    "\n",
    "        # 首先需要判断窗口内元素类别是否超过2\n",
    "        while len(cnts) > 2:    # 超过2时持续弹出左元素\n",
    "            cnts[tree[left]] -= 1\n",
    "            if cnts[tree[left]] == 0:\n",
    "                del cnts[tree[left]]\n",
    "            left += 1\n",
    "\n",
    "        # 满足条件，更新最大值\n",
    "        res = max(res, right-left+1)\n",
    "        \n",
    "        right += 1\n",
    "\n",
    "    return res"
   ]
  },
  {
   "cell_type": "markdown",
   "metadata": {},
   "source": [
    "[Remove Duplicates from Sorted Array](https://leetcode.com/problems/remove-duplicates-from-sorted-array/)。给定一有序数组，删掉其中所有多余的元素，返回非重复元素的个数。要求in-place进行。"
   ]
  },
  {
   "cell_type": "code",
   "execution_count": 16,
   "metadata": {},
   "outputs": [
    {
     "data": {
      "text/plain": [
       "0"
      ]
     },
     "execution_count": 16,
     "metadata": {},
     "output_type": "execute_result"
    }
   ],
   "source": [
    "# 思路：一般in-place修改数组型数据的题目都是使用覆盖法\n",
    "# 双指针，一指针指向非重复元素的首次出现位置\n",
    "# 另一指针去找跟其不同元素的位置\n",
    "\n",
    "\n",
    "def removeDuplicates(nums) -> int:\n",
    "    if len(nums) < 2:\n",
    "        return len(nums)\n",
    "\n",
    "    i, j = 0, 1\n",
    "    while j < len(nums):\n",
    "        if nums[j] == nums[i]:\n",
    "            j += 1\n",
    "        else:\n",
    "            i += 1\n",
    "            nums[i] = nums[j]    # 不重复元素往前覆盖\n",
    "            j += 1\n",
    "\n",
    "    return i+1    # 不重复元素的个数"
   ]
  },
  {
   "cell_type": "markdown",
   "metadata": {},
   "source": [
    "[Remove Duplicates from Sorted Array II](https://leetcode.com/problems/remove-duplicates-from-sorted-array-ii/)。给定一有序数组，允许元素出现两次，将超出次数的元素删掉，返回删除后的数组长度。"
   ]
  },
  {
   "cell_type": "code",
   "execution_count": 27,
   "metadata": {},
   "outputs": [
    {
     "data": {
      "text/plain": [
       "5"
      ]
     },
     "execution_count": 27,
     "metadata": {},
     "output_type": "execute_result"
    }
   ],
   "source": [
    "# 思路：按要求删除元素即可\n",
    "\n",
    "\n",
    "def removeDuplicates(nums) -> int:\n",
    "    if len(nums) < 3:\n",
    "        return len(nums)\n",
    "\n",
    "    i, j = 0, 1\n",
    "    tol = 1    # 允许的重复次数\n",
    "\n",
    "    while j < len(nums):\n",
    "        if nums[j] == nums[i] and tol == 0:    # 如果不再允许重复，则一直往后扫\n",
    "            j += 1\n",
    "        else:    # 接下来只有两种情况：不等 or 相等但允许重复\n",
    "            if nums[i] == nums[j]:\n",
    "                tol -= 1\n",
    "            else:\n",
    "                tol = 1\n",
    "                \n",
    "            i += 1\n",
    "            nums[i] = nums[j]\n",
    "            j += 1\n",
    "\n",
    "    return i+1"
   ]
  },
  {
   "cell_type": "markdown",
   "metadata": {},
   "source": [
    "[Remove Element](https://leetcode.com/problems/remove-element/)。就地删除数组中的所有指定元素。"
   ]
  },
  {
   "cell_type": "code",
   "execution_count": 30,
   "metadata": {},
   "outputs": [
    {
     "data": {
      "text/plain": [
       "2"
      ]
     },
     "execution_count": 30,
     "metadata": {},
     "output_type": "execute_result"
    }
   ],
   "source": [
    "# 思路：双指针覆盖法，i指向保存元素的最后一个位置，j逐位扫描\n",
    "# 遇到非删除元素就用j覆盖i\n",
    "\n",
    "\n",
    "def removeElement(nums, val: int) -> int:\n",
    "    i = 0\n",
    "\n",
    "    for j in range(len(nums)):\n",
    "        if nums[j] != val:\n",
    "            nums[i] = nums[j]\n",
    "            i += 1\n",
    "\n",
    "    return i"
   ]
  },
  {
   "cell_type": "code",
   "execution_count": null,
   "metadata": {},
   "outputs": [],
   "source": []
  }
 ],
 "metadata": {
  "hide_input": false,
  "kernelspec": {
   "display_name": "Python 3",
   "language": "python",
   "name": "python3"
  },
  "language_info": {
   "codemirror_mode": {
    "name": "ipython",
    "version": 3
   },
   "file_extension": ".py",
   "mimetype": "text/x-python",
   "name": "python",
   "nbconvert_exporter": "python",
   "pygments_lexer": "ipython3",
   "version": "3.6.6"
  },
  "toc": {
   "base_numbering": 1,
   "nav_menu": {},
   "number_sections": true,
   "sideBar": true,
   "skip_h1_title": false,
   "title_cell": "Table of Contents",
   "title_sidebar": "Contents",
   "toc_cell": false,
   "toc_position": {},
   "toc_section_display": true,
   "toc_window_display": false
  }
 },
 "nbformat": 4,
 "nbformat_minor": 2
}
