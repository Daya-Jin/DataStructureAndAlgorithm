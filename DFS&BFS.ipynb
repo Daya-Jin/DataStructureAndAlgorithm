{
 "cells": [
  {
   "cell_type": "markdown",
   "metadata": {},
   "source": [
    "[Number of Islands](https://leetcode.com/problems/number-of-islands/)。求数字矩阵中数字'1'构成的孤岛数量。"
   ]
  },
  {
   "cell_type": "code",
   "execution_count": null,
   "metadata": {},
   "outputs": [],
   "source": [
    "# 思路：DFS，设立一个等尺寸的访问矩阵，对元素'1'的位置进行DFS\n",
    "\n",
    "\n",
    "def numIslands(grid: List[List[str]]) -> int:\n",
    "    if not grid:\n",
    "        return 0\n",
    "    rows, cols = len(grid), len(grid[0])\n",
    "    res = 0\n",
    "    visit = [[False for _ in range(cols)] for _ in range(rows)]    # 访问矩阵\n",
    "\n",
    "    def dfs(row, col):\n",
    "        if row > =rows or row < 0 or col > =cols or col < 0 or grid[row][col] == '0' or visit[row][col]:\n",
    "            return False\n",
    "        \n",
    "        visit[row][col] = True\n",
    "        dfs(row-1, col)\n",
    "        dfs(row+1, col)\n",
    "        dfs(row, col-1)\n",
    "        dfs(row, col+1)\n",
    "\n",
    "    for row in range(rows):\n",
    "        for col in range(cols):\n",
    "            if grid[row][col] == '0' or visit[row][col]:\n",
    "                continue\n",
    "            dfs(row, col)    # 传入的初始值保证是未访问的'1'\n",
    "            res += 1\n",
    "\n",
    "    return res"
   ]
  },
  {
   "cell_type": "markdown",
   "metadata": {},
   "source": [
    "[Palindrome Partitioning](https://leetcode.com/problems/palindrome-partitioning/)。给定一个字符串，将其分割，求所有分割后所有子串都为回文串的可能分割。"
   ]
  },
  {
   "cell_type": "code",
   "execution_count": 7,
   "metadata": {},
   "outputs": [],
   "source": [
    "# 思路：说实话搞不懂思路，智力好像有点低\n",
    "\n",
    "\n",
    "# def partition(s: str):"
   ]
  },
  {
   "cell_type": "code",
   "execution_count": null,
   "metadata": {},
   "outputs": [],
   "source": []
  }
 ],
 "metadata": {
  "hide_input": false,
  "kernelspec": {
   "display_name": "Python 3",
   "language": "python",
   "name": "python3"
  },
  "language_info": {
   "codemirror_mode": {
    "name": "ipython",
    "version": 3
   },
   "file_extension": ".py",
   "mimetype": "text/x-python",
   "name": "python",
   "nbconvert_exporter": "python",
   "pygments_lexer": "ipython3",
   "version": "3.6.6"
  },
  "toc": {
   "base_numbering": 1,
   "nav_menu": {},
   "number_sections": true,
   "sideBar": true,
   "skip_h1_title": false,
   "title_cell": "Table of Contents",
   "title_sidebar": "Contents",
   "toc_cell": false,
   "toc_position": {},
   "toc_section_display": true,
   "toc_window_display": false
  }
 },
 "nbformat": 4,
 "nbformat_minor": 2
}
