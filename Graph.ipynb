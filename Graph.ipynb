{
 "cells": [
  {
   "cell_type": "markdown",
   "metadata": {},
   "source": [
    "[Course Schedule](https://leetcode.com/problems/course-schedule/)。若干个二元组，首元素表示课程编号，末元素表示前置课程编号，求能否顺利修完。\n",
    "\n",
    "思路：有向图检测环。使用邻接表保存有向图，同时维护一个入度数组。设置一个访问队列，把所有入度为$0$的点加入队列，依次取出节点做BFS，每访问一个节点将该节点入度减一。最后若图中还存在入度非零的节点则说明有环。"
   ]
  },
  {
   "cell_type": "code",
   "execution_count": 9,
   "metadata": {
    "scrolled": true
   },
   "outputs": [
    {
     "data": {
      "text/plain": [
       "False"
      ]
     },
     "execution_count": 9,
     "metadata": {},
     "output_type": "execute_result"
    }
   ],
   "source": [
    "def canFinish(numCourses: int, prerequisites) -> bool:\n",
    "    A = [list() for _ in range(numCourses)]    # 邻接表\n",
    "    D_in = [0 for _ in range(numCourses)]    # 入度数组\n",
    "\n",
    "    for inv_edge in prerequisites:\n",
    "        A[inv_edge[1]].append(inv_edge[0])\n",
    "        D_in[inv_edge[0]] += 1\n",
    "\n",
    "    q = list()\n",
    "    for node in range(numCourses):\n",
    "        if D_in[node] == 0:\n",
    "            q.append(node)\n",
    "\n",
    "    while q:\n",
    "        node = q.pop(0)\n",
    "        for adj_node in A[node]:\n",
    "            D_in[adj_node] -= 1     # 入度-1\n",
    "            if D_in[adj_node] == 0:\n",
    "                q.append(adj_node)\n",
    "\n",
    "    for node in range(numCourses):\n",
    "        if D_in[node] > 0:\n",
    "            return False\n",
    "\n",
    "    return True"
   ]
  },
  {
   "cell_type": "markdown",
   "metadata": {},
   "source": [
    "[Course Schedule II](https://leetcode.com/problems/course-schedule-ii/)。思路同上题，使用邻接表保存有向图，维护一个入度数组。设置队列，其中都是入度为$0$的点，根据队首节点做BFS，每访问一个点将其入度$-1$，产生新的入度为$0$的点再入队。记录队列中出现过的点，若所有点均出现过则说明可以完成拓扑排序。"
   ]
  },
  {
   "cell_type": "code",
   "execution_count": 15,
   "metadata": {},
   "outputs": [
    {
     "data": {
      "text/plain": [
       "[0, 1, 2, 3]"
      ]
     },
     "execution_count": 15,
     "metadata": {},
     "output_type": "execute_result"
    }
   ],
   "source": [
    "def findOrder(numCourses: int, prerequisites):\n",
    "    A = [list() for _ in range(numCourses)]\n",
    "    D_in = [0 for _ in range(numCourses)]\n",
    "\n",
    "    for inv_edge in prerequisites:\n",
    "        A[inv_edge[1]].append(inv_edge[0])\n",
    "        D_in[inv_edge[0]] += 1\n",
    "\n",
    "    q = list()\n",
    "    for node in range(numCourses):\n",
    "        if D_in[node] == 0:\n",
    "            q.append(node)\n",
    "\n",
    "    res = list()\n",
    "    while q:\n",
    "        node = q.pop(0)\n",
    "        res.append(node)    # 记录入过队的节点\n",
    "\n",
    "        for adj_node in A[node]:\n",
    "            D_in[adj_node] -= 1\n",
    "            if D_in[adj_node] == 0:\n",
    "                q.append(adj_node)\n",
    "\n",
    "    return res if len(res) == numCourses else list()"
   ]
  },
  {
   "cell_type": "code",
   "execution_count": null,
   "metadata": {},
   "outputs": [],
   "source": []
  }
 ],
 "metadata": {
  "hide_input": false,
  "kernelspec": {
   "display_name": "Python 3",
   "language": "python",
   "name": "python3"
  },
  "language_info": {
   "codemirror_mode": {
    "name": "ipython",
    "version": 3
   },
   "file_extension": ".py",
   "mimetype": "text/x-python",
   "name": "python",
   "nbconvert_exporter": "python",
   "pygments_lexer": "ipython3",
   "version": "3.6.6"
  },
  "toc": {
   "base_numbering": 1,
   "nav_menu": {},
   "number_sections": true,
   "sideBar": true,
   "skip_h1_title": false,
   "title_cell": "Table of Contents",
   "title_sidebar": "Contents",
   "toc_cell": false,
   "toc_position": {},
   "toc_section_display": true,
   "toc_window_display": false
  }
 },
 "nbformat": 4,
 "nbformat_minor": 2
}
