{
 "cells": [
  {
   "cell_type": "markdown",
   "metadata": {},
   "source": [
    "Jewels and Stones. 给定字符串J与S，J中的字符都代表珠宝，S代表待挖掘的石头，求石头中珠宝的数量。"
   ]
  },
  {
   "cell_type": "code",
   "execution_count": null,
   "metadata": {},
   "outputs": [],
   "source": [
    "# 思路：时间换空间，以J为准建立一个查询表，在扫描S即可\n",
    "\n",
    "\n",
    "def numJewelsInStones(self, J: str, S: str) -> int:\n",
    "    table = set(J)\n",
    "\n",
    "    num = 0\n",
    "    for ch in S:\n",
    "        if ch in table:\n",
    "            num += 1\n",
    "\n",
    "    return num"
   ]
  },
  {
   "cell_type": "markdown",
   "metadata": {},
   "source": [
    "字符串形式的无符号二进制加法。"
   ]
  },
  {
   "cell_type": "code",
   "execution_count": 10,
   "metadata": {},
   "outputs": [
    {
     "data": {
      "text/plain": [
       "'11'"
      ]
     },
     "execution_count": 10,
     "metadata": {},
     "output_type": "execute_result"
    }
   ],
   "source": [
    "# 思路：由低往高一位一位加，进位交给下一轮处理。\n",
    "# sum=bit_a+bit_b+pre_carry，该值%2为当前位的值，/2为进位值\n",
    "def addBinary(a, b):\n",
    "    res=''\n",
    "    idx_a,idx_b=len(a)-1,len(b)-1\n",
    "    carry=0    # 上轮加法得到的进位值，初始为0\n",
    "    \n",
    "    while idx_a>=0 or idx_b>=0:\n",
    "        # 题目保证字符串中只有'0'和'1'\n",
    "        bit_a=ord(a[idx_a])-ord('0') if idx_a>=0 else 0\n",
    "        bit_b=ord(b[idx_b])-ord('0') if idx_b>=0 else 0\n",
    "        \n",
    "        cur_sum=bit_a+bit_b+carry    # 两位相加再加上一轮的进位值\n",
    "        res=str(cur_sum%2)+res    # 该位值加到res前面\n",
    "        carry=cur_sum//2\n",
    "        \n",
    "        idx_a-=1\n",
    "        idx_b-=1\n",
    "        \n",
    "    return str(carry)+res if carry else res    # 处理末尾的进位值\n",
    "\n",
    "addBinary('10','1')"
   ]
  },
  {
   "cell_type": "markdown",
   "metadata": {},
   "source": [
    "Isomorphic Strings. 判断两字符串是否同构，及能通过字符一一映射得到另一字符串。"
   ]
  },
  {
   "cell_type": "code",
   "execution_count": 17,
   "metadata": {},
   "outputs": [
    {
     "data": {
      "text/plain": [
       "False"
      ]
     },
     "execution_count": 17,
     "metadata": {},
     "output_type": "execute_result"
    }
   ],
   "source": [
    "# 思路：空间换时间，建立两个ASCII码表，记录同位置的两字符串中字符的上次出现位置\n",
    "\n",
    "\n",
    "def isIsomorphic(s, t):\n",
    "    if len(s) != len(t):\n",
    "        return False\n",
    "\n",
    "    table_s, table_t = [0]*256, [0]*256\n",
    "\n",
    "    for idx in range(len(s)):\n",
    "        if table_s[ord(s[idx])] != table_t[ord(t[idx])]:\n",
    "            return False\n",
    "        table_s[ord(s[idx])] = idx+1    # 上次出现位置，因为表值初始化为0，所以不能设为0\n",
    "        table_t[ord(t[idx])] = idx+1\n",
    "\n",
    "    return True\n",
    "\n",
    "\n",
    "isIsomorphic('fof', 'bar')"
   ]
  },
  {
   "cell_type": "markdown",
   "metadata": {},
   "source": [
    "Number of Segments in a String. 给定一字符串，输出串中空格分割后的分段数量。"
   ]
  },
  {
   "cell_type": "code",
   "execution_count": 23,
   "metadata": {},
   "outputs": [
    {
     "data": {
      "text/plain": [
       "5"
      ]
     },
     "execution_count": 23,
     "metadata": {},
     "output_type": "execute_result"
    }
   ],
   "source": [
    "# 思路：除第一个字段外，串中所有字段前肯定都是空格\n",
    "# 找到非空格字符前的空格即可，要注意判断是否是首字符\n",
    "\n",
    "\n",
    "def countSegments(s):\n",
    "    if not s:\n",
    "        return 0\n",
    "\n",
    "    cnt = 0\n",
    "    for idx in range(len(s)):\n",
    "        # 遇到非空格字符时，需要判断是否首字母或是否首字符\n",
    "        if s[idx] != ' ' and (idx == 0 or s[idx-1] == ' '):\n",
    "            cnt += 1\n",
    "    return cnt"
   ]
  },
  {
   "cell_type": "markdown",
   "metadata": {},
   "source": [
    "Find All Anagrams in a String. 给定两字符串a，b,在a中找到b的所有变位词。"
   ]
  },
  {
   "cell_type": "code",
   "execution_count": 28,
   "metadata": {},
   "outputs": [
    {
     "data": {
      "text/plain": [
       "[0, 6]"
      ]
     },
     "execution_count": 28,
     "metadata": {},
     "output_type": "execute_result"
    }
   ],
   "source": [
    "# 思路：变位词即各字符出现次数相等，使用滑动窗口+哈希表来解决\n",
    "# 首先把b的字符出现次数都记录下来，滑动窗口中一旦出现目标字符就变更相应的变量\n",
    "\n",
    "def findAnagrams(a, b):\n",
    "    if not a or not b:\n",
    "        return []\n",
    "    \n",
    "    table=[0]*256    # ascii哈希表\n",
    "    res=[]\n",
    "    for ch in b:\n",
    "        table[ord(ch)]+=1    # 把待匹配的字符都置为正数\n",
    "        \n",
    "    start=end=0    # 滑动窗口边界，滑动窗口应保持<=len(b)\n",
    "    diff_cnt=len(b)    # 需要匹配的次数\n",
    "    \n",
    "    while end<len(a):    # 扫描\n",
    "        if table[ord(a[end])]>=1:    # 成功匹配一位\n",
    "            diff_cnt-=1\n",
    "            \n",
    "        table[ord(a[end])]-=1\n",
    "        end+=1    # 右边界移动\n",
    "        \n",
    "        if diff_cnt==0:    # 若匹配完成，左边界加入返回列表\n",
    "            res.append(start)\n",
    "            \n",
    "        # 移动左边界\n",
    "        if end-start==len(b):    # 只有当滑动窗口等于b的长度时才需要移动左边界\n",
    "            if table[ord(a[start])]>=0:    # 左边界指向的字符一定是右边界计算过的字符\n",
    "                diff_cnt+=1\n",
    "                \n",
    "            table[ord(a[start])]+=1\n",
    "            start+=1\n",
    "        \n",
    "    return res"
   ]
  },
  {
   "cell_type": "code",
   "execution_count": null,
   "metadata": {},
   "outputs": [],
   "source": []
  }
 ],
 "metadata": {
  "kernelspec": {
   "display_name": "Python 3",
   "language": "python",
   "name": "python3"
  },
  "language_info": {
   "codemirror_mode": {
    "name": "ipython",
    "version": 3
   },
   "file_extension": ".py",
   "mimetype": "text/x-python",
   "name": "python",
   "nbconvert_exporter": "python",
   "pygments_lexer": "ipython3",
   "version": "3.6.6"
  }
 },
 "nbformat": 4,
 "nbformat_minor": 2
}
