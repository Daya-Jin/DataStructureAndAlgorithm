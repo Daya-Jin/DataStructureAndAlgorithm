{
 "cells": [
  {
   "cell_type": "markdown",
   "metadata": {},
   "source": [
    "Jewels and Stones. 给定字符串J与S，J中的字符都代表珠宝，S代表待挖掘的石头，求石头中珠宝的数量。"
   ]
  },
  {
   "cell_type": "code",
   "execution_count": null,
   "metadata": {},
   "outputs": [],
   "source": [
    "# 思路：时间换空间，以J为准建立一个查询表，在扫描S即可\n",
    "\n",
    "\n",
    "def numJewelsInStones(self, J: str, S: str) -> int:\n",
    "    table = set(J)\n",
    "\n",
    "    num = 0\n",
    "    for ch in S:\n",
    "        if ch in table:\n",
    "            num += 1\n",
    "\n",
    "    return num"
   ]
  },
  {
   "cell_type": "markdown",
   "metadata": {},
   "source": [
    "字符串形式的无符号二进制加法。"
   ]
  },
  {
   "cell_type": "code",
   "execution_count": null,
   "metadata": {},
   "outputs": [],
   "source": [
    "# 思路：由低往高一位一位加，进位交给下一轮处理。\n",
    "# sum=bit_a+bit_b+pre_carry，该值%2为当前位的值，/2为进位值\n",
    "\n",
    "\n",
    "def addBinary(a, b):\n",
    "    res = ''\n",
    "    idx_a, idx_b = len(a)-1, len(b)-1\n",
    "    carry = 0    # 上轮加法得到的进位值，初始为0\n",
    "\n",
    "    while idx_a >= 0 or idx_b >= 0:\n",
    "        # 题目保证字符串中只有'0'和'1'\n",
    "        bit_a = ord(a[idx_a])-ord('0') if idx_a >= 0 else 0\n",
    "        bit_b = ord(b[idx_b])-ord('0') if idx_b >= 0 else 0\n",
    "\n",
    "        cur_sum = bit_a+bit_b+carry    # 两位相加再加上一轮的进位值\n",
    "        res = str(cur_sum % 2)+res    # 该位值加到res前面\n",
    "        carry = cur_sum//2\n",
    "\n",
    "        idx_a -= 1\n",
    "        idx_b -= 1\n",
    "\n",
    "    return str(carry)+res if carry else res    # 处理末尾的进位值"
   ]
  },
  {
   "cell_type": "markdown",
   "metadata": {},
   "source": [
    "Isomorphic Strings. 判断两字符串是否同构，及能通过字符一一映射得到另一字符串。"
   ]
  },
  {
   "cell_type": "code",
   "execution_count": null,
   "metadata": {},
   "outputs": [],
   "source": [
    "# 思路：空间换时间，建立两个ASCII码表，记录同位置的两字符串中字符的上次出现位置\n",
    "\n",
    "\n",
    "def isIsomorphic(s, t):\n",
    "    if len(s) != len(t):\n",
    "        return False\n",
    "\n",
    "    table_s, table_t = [0]*256, [0]*256\n",
    "\n",
    "    for idx in range(len(s)):\n",
    "        if table_s[ord(s[idx])] != table_t[ord(t[idx])]:\n",
    "            return False\n",
    "        table_s[ord(s[idx])] = idx+1    # 上次出现位置，因为表值初始化为0，所以不能设为0\n",
    "        table_t[ord(t[idx])] = idx+1\n",
    "\n",
    "    return True"
   ]
  },
  {
   "cell_type": "markdown",
   "metadata": {},
   "source": [
    "Number of Segments in a String. 给定一字符串，输出串中空格分割后的分段数量。"
   ]
  },
  {
   "cell_type": "code",
   "execution_count": null,
   "metadata": {},
   "outputs": [],
   "source": [
    "# 思路：除第一个字段外，串中所有字段前肯定都是空格\n",
    "# 找到非空格字符前的空格即可，要注意判断是否是首字符\n",
    "\n",
    "\n",
    "def countSegments(s):\n",
    "    if not s:\n",
    "        return 0\n",
    "\n",
    "    cnt = 0\n",
    "    for idx in range(len(s)):\n",
    "        # 遇到非空格字符时，需要判断是否首字母或是否首字符\n",
    "        if s[idx] != ' ' and (idx == 0 or s[idx-1] == ' '):\n",
    "            cnt += 1\n",
    "    return cnt"
   ]
  },
  {
   "cell_type": "markdown",
   "metadata": {},
   "source": [
    "Find All Anagrams in a String. 给定两字符串a，b,在a中找到b的所有变位词。"
   ]
  },
  {
   "cell_type": "code",
   "execution_count": null,
   "metadata": {},
   "outputs": [],
   "source": [
    "# 思路：变位词即各字符出现次数相等，使用滑动窗口+哈希表来解决\n",
    "# 首先把b的字符出现次数都记录下来，滑动窗口中一旦出现目标字符就变更相应的变量\n",
    "\n",
    "\n",
    "def findAnagrams(a, b):\n",
    "    if not a or not b:\n",
    "        return []\n",
    "\n",
    "    table = [0]*256    # ascii哈希表\n",
    "    res = []\n",
    "    for ch in b:\n",
    "        table[ord(ch)] += 1    # 把待匹配的字符都置为正数\n",
    "\n",
    "    start = end = 0    # 滑动窗口边界，滑动窗口应保持<=len(b)\n",
    "    diff_cnt = len(b)    # 需要匹配的次数\n",
    "\n",
    "    while end < len(a):    # 扫描\n",
    "        if table[ord(a[end])] >= 1:    # 成功匹配一位\n",
    "            diff_cnt -= 1\n",
    "\n",
    "        table[ord(a[end])] -= 1\n",
    "        end += 1    # 右边界移动\n",
    "\n",
    "        if diff_cnt == 0:    # 若匹配完成，左边界加入返回列表\n",
    "            res.append(start)\n",
    "\n",
    "        # 移动左边界\n",
    "        if end-start == len(b):    # 只有当滑动窗口等于b的长度时才需要移动左边界\n",
    "            if table[ord(a[start])] >= 0:    # 左边界指向的字符一定是右边界计算过的字符\n",
    "                diff_cnt += 1\n",
    "\n",
    "            table[ord(a[start])] += 1\n",
    "            start += 1\n",
    "\n",
    "    return res"
   ]
  },
  {
   "cell_type": "markdown",
   "metadata": {},
   "source": [
    "To Lower Case. 将大写字母转成小写字母。"
   ]
  },
  {
   "cell_type": "code",
   "execution_count": null,
   "metadata": {},
   "outputs": [],
   "source": [
    "def toLowerCase(s):\n",
    "    if not s:\n",
    "        return s\n",
    "\n",
    "    res = ''\n",
    "    for ch in s:\n",
    "        # ord('A')=65, ord('Z')=90, ord('a')-ord('A')=32\n",
    "        if 65 <= ord(ch) <= 90:\n",
    "            res += chr(ord(ch)+32)\n",
    "        else:\n",
    "            res += ch\n",
    "    return res"
   ]
  },
  {
   "cell_type": "markdown",
   "metadata": {},
   "source": [
    "Unique Email Addresses. 给定一系列邮箱地址，求出其中独特的邮箱地址数。前缀名中的\"+\"号后面的内容会被忽略，而\".\"号会被无视。"
   ]
  },
  {
   "cell_type": "code",
   "execution_count": null,
   "metadata": {},
   "outputs": [],
   "source": [
    "def numUniqueEmails(emails):\n",
    "    if not emails:\n",
    "        return 0\n",
    "\n",
    "    res = set()\n",
    "    for add in emails:\n",
    "        local, domain = add.split('@')\n",
    "        local = local.replace('.', '')\n",
    "        local = local.split('+')[0]\n",
    "        uni_add = local+domain\n",
    "\n",
    "        res.add(uni_add)\n",
    "\n",
    "    return len(res)"
   ]
  },
  {
   "cell_type": "markdown",
   "metadata": {},
   "source": [
    "Unique Morse Code Words. 每个字母都对应一个独特的莫尔斯码，给定一系列字符串，这些字符串有可能产生同样的莫尔斯吗，求有几种独特的莫尔斯码。"
   ]
  },
  {
   "cell_type": "code",
   "execution_count": null,
   "metadata": {},
   "outputs": [],
   "source": [
    "def uniqueMorseRepresentations(words):\n",
    "    MORSE = [\".-\", \"-...\", \"-.-.\", \"-..\", \".\", \"..-.\", \"--.\",\n",
    "             \"....\", \"..\", \".---\", \"-.-\", \".-..\", \"--\", \"-.\",\n",
    "             \"---\", \".--.\", \"--.-\", \".-.\", \"...\", \"-\", \"..-\",\n",
    "             \"...-\", \".--\", \"-..-\", \"-.--\", \"--..\"]\n",
    "    \n",
    "    res=set([''.join(MORSE[ord(ch)-ord('a')] for ch in word) for word in words])\n",
    "    return len(res)"
   ]
  },
  {
   "cell_type": "markdown",
   "metadata": {},
   "source": [
    "Goat Latin. 语言转换，如果单词以元音开头，则单词后追加'ma'，否则把首字母移至单词末尾再追加'ma'，除此之外，句子中第一个单词后追加'a'，第二个单词后追加'aa'，以此类推。"
   ]
  },
  {
   "cell_type": "code",
   "execution_count": null,
   "metadata": {},
   "outputs": [],
   "source": [
    "# 利用枚举可简化代码量\n",
    "def toGoatLatin(S):\n",
    "    vowel = ['a', 'e', 'i', 'o', 'u', 'A', 'E', 'I', 'O', 'U']\n",
    "\n",
    "    res = []\n",
    "    for idx, word in enumerate(S.split(' ')):\n",
    "        if word[0] in vowel:\n",
    "            word = word+'ma'+'a'*(idx+1)\n",
    "        else:\n",
    "            word = word[1:]+word[0]+'ma'+'a'*(idx+1)\n",
    "        res.append(word)\n",
    "    return ' '.join(res)"
   ]
  },
  {
   "cell_type": "markdown",
   "metadata": {},
   "source": [
    "Find Common Characters. 给一系列单词序列，找出这些单词中的公共字母，包含重复字母。"
   ]
  },
  {
   "cell_type": "code",
   "execution_count": null,
   "metadata": {},
   "outputs": [],
   "source": [
    "# 思路：逐个扫描单词，使用哈希表记录字母出现次数\n",
    "# 在扫描到第二个单词时，需要对比两者的字母出现次数\n",
    "# 因为总的公共字母一定是小于等于单词子集的公共字母的\n",
    "# 所以若有公共字母，则次数取一个小值\n",
    "# 若之前的字母在后面没有出现，则删除该字母的记录\n",
    "\n",
    "\n",
    "def commonChars(words):\n",
    "    common_table = None\n",
    "    for word in words:\n",
    "        # 针对每个单词统计字母计数\n",
    "        ch_cnt = {}\n",
    "        for ch in word:\n",
    "            if ch in ch_cnt:\n",
    "                ch_cnt[ch] += 1\n",
    "            else:\n",
    "                ch_cnt[ch] = 1\n",
    "\n",
    "        if common_table is not None:    # 历史公共字母\n",
    "            # 在迭代过程中不能更改字典内容，所以不对字典对象进行迭代\n",
    "            common_ch = list(common_table.keys())\n",
    "\n",
    "            for ch in common_ch:\n",
    "                if ch in ch_cnt:    # 如过历史公共字母也在当前单词中\n",
    "                    common_table[ch] = min(\n",
    "                        ch_cnt[ch], common_table[ch])    # 只记一个小值\n",
    "                else:\n",
    "                    del common_table[ch]    # 没出现则删掉键值\n",
    "        else:\n",
    "            common_table = ch_cnt\n",
    "\n",
    "    res = [ch for ch in common_table.keys() for _ in range(common_table[ch])]\n",
    "    return res"
   ]
  },
  {
   "cell_type": "markdown",
   "metadata": {},
   "source": [
    "Valid Palindrome. 判定一含特殊字符的字符串中的字母是否构成回文。"
   ]
  },
  {
   "cell_type": "code",
   "execution_count": null,
   "metadata": {},
   "outputs": [],
   "source": [
    "# 思路：使用双指针往中心遍历即可\n",
    "# 假定字符串中还包含复杂字符，需要过滤\n",
    "\n",
    "def isPalindrome(s):\n",
    "    if len(s)<2:\n",
    "        return True\n",
    "    \n",
    "    l_idx,r_idx=0,len(s)-1\n",
    "    while l_idx<r_idx:\n",
    "        # 保证左右指针指向字母或数字\n",
    "        while not s[l_idx].isalnum() and l_idx<r_idx:\n",
    "            l_idx+=1\n",
    "        while not s[r_idx].isalnum() and l_idx<r_idx:\n",
    "            r_idx-=1\n",
    "            \n",
    "        # 统一化为小写然后判断\n",
    "        if s[l_idx].lower()!=s[r_idx].lower():\n",
    "            return False\n",
    "        \n",
    "        l_idx+=1\n",
    "        r_idx-=1\n",
    "        \n",
    "    return True"
   ]
  },
  {
   "cell_type": "markdown",
   "metadata": {},
   "source": [
    "Valid Palindrome II. 在允许删除一位字符的条件下判断一字符串是否构成回文。"
   ]
  },
  {
   "cell_type": "code",
   "execution_count": null,
   "metadata": {},
   "outputs": [],
   "source": [
    "# 思路：判断回文的基本原理不变，依旧是双指针\n",
    "# 在碰到字符不等时，有两种选择，删除左指针或者删除右指针\n",
    "\n",
    "\n",
    "def validPalindromeWithDel(s):\n",
    "    # 用于判断回文的基础函数\n",
    "    def validPalindrome(s):\n",
    "        if len(s) < 2:\n",
    "            return True\n",
    "        l_idx, r_idx = 0, len(s)-1\n",
    "        while l_idx < r_idx:\n",
    "            if s[l_idx] != s[r_idx]:\n",
    "                return False\n",
    "            else:\n",
    "                l_idx += 1\n",
    "                r_idx -= 1\n",
    "        return False\n",
    "\n",
    "    if len(s) < 2:\n",
    "        return True\n",
    "\n",
    "    l_idx, r_idx = 0, len(s)-1\n",
    "    while l_idx < r_idx:\n",
    "        # 如果两字符不等，则再给一次判断的机会\n",
    "        if s[l_idx] != s[r_idx]:    \n",
    "            return validPalindrome(s[l_idx+1:r_idx+1]) or validPalindrome(s[l_idx:r_idx])\n",
    "        # 相等则继续扫描\n",
    "        else:\n",
    "            l_idx += 1\n",
    "            r_idx -= 1\n",
    "    return True"
   ]
  },
  {
   "cell_type": "markdown",
   "metadata": {},
   "source": [
    "(待补充！)Implement strStr(). 字符串的模式匹配。"
   ]
  },
  {
   "cell_type": "code",
   "execution_count": null,
   "metadata": {},
   "outputs": [],
   "source": [
    "# 思路：KMP算法，待补充，这里暂时使用暴力解法\n",
    "\n",
    "def strStr(haystack, needle):\n",
    "    for idx in range(len(haystack)-len(needle)+1):\n",
    "        if haystack[idx:idx+len(needle)]==needle:\n",
    "            return idx\n",
    "    return -1"
   ]
  },
  {
   "cell_type": "code",
   "execution_count": null,
   "metadata": {},
   "outputs": [
    {
     "name": "stdout",
     "output_type": "stream",
     "text": [
      "comeonmandontconconnect\n",
      "on\n",
      "3\n",
      "1 5\n",
      "0 0\n",
      "0\n"
     ]
    }
   ],
   "source": [
    "s_p = input()\n",
    "s_c = input()\n",
    "n = int(input())\n",
    "\n",
    "start_idx = list()\n",
    "for idx in range(len(s_p)-len(s_c)+1):\n",
    "    if s_p[idx:idx+len(s_c)] == s_c:\n",
    "        start_idx.append(idx)\n",
    "\n",
    "for i in range(n):\n",
    "    l, r = list(map(int, input().split()))\n",
    "    l -= 1\n",
    "    r -= 1\n",
    "\n",
    "    first, end = 0, 0\n",
    "    for i in range(len(start_idx)):    # 找到第一个插入位置\n",
    "        if start_idx[i] >= l:\n",
    "            first = i\n",
    "            break\n",
    "    for i in range(first, len(start_idx)):\n",
    "        if start_idx[i]+len(s_c) > r:\n",
    "            end = i\n",
    "            break\n",
    "    print(first, end)\n",
    "\n",
    "    print(end-first) if end-first > 0 else print(0)\n",
    "\n",
    "# for i in range(n):\n",
    "#     l,r=list(map(int,input().split()))\n",
    "#     l-=1\n",
    "#     r-=1\n",
    "#     cnt=0\n",
    "#     haystack=s_p[l:r+1]\n",
    "#     needle=s_c\n",
    "#     for idx in range(len(haystack)-len(needle)+1):\n",
    "#         if haystack[idx:idx+len(needle)]==needle:\n",
    "#             cnt+=1\n",
    "#     print(cnt)"
   ]
  },
  {
   "cell_type": "markdown",
   "metadata": {},
   "source": [
    "[Reverse String](https://leetcode.com/problems/reverse-string/). "
   ]
  },
  {
   "cell_type": "code",
   "execution_count": null,
   "metadata": {},
   "outputs": [],
   "source": [
    "# 思路：依次交换首尾位\n",
    "\n",
    "\n",
    "def reverseString(s) -> None:\n",
    "    start = 0\n",
    "    while start < (len(s)//2):\n",
    "        s[start], s[len(s)-start-1] = s[len(s)-start-1], s[start]\n",
    "        start += 1"
   ]
  },
  {
   "cell_type": "markdown",
   "metadata": {},
   "source": [
    "[Roman to Integer](https://leetcode.com/problems/roman-to-integer/). 罗马数字转阿拉伯数字。罗马数字如果是前字母大于后字母，则是对应值相加；如果前字母小于后字母，则是后字母减前字母。"
   ]
  },
  {
   "cell_type": "code",
   "execution_count": null,
   "metadata": {},
   "outputs": [],
   "source": [
    "# 思路：逐位比大小，对应的做加减法\n",
    "\n",
    "def romanToInt(s: str) -> int:\n",
    "    mapping={\n",
    "        \"I\": 1,\n",
    "        \"V\": 5,\n",
    "        \"X\": 10,\n",
    "        \"L\": 50,\n",
    "        \"C\": 100,\n",
    "        \"D\": 500,\n",
    "        \"M\": 1000,\n",
    "    }\n",
    "    \n",
    "    res=0\n",
    "    idx=0\n",
    "    while idx<len(s):\n",
    "        # 最后一位只管加\n",
    "        if idx+1==len(s):\n",
    "            return res+mapping[s[idx]]\n",
    "        \n",
    "        # 出现逆序，则减当前位，加后一位\n",
    "        if mapping[s[idx]]<mapping[s[idx+1]]:\n",
    "            res=res-mapping[s[idx]]+mapping[s[idx+1]]\n",
    "            idx+=2\n",
    "        else:\n",
    "            res+=mapping[s[idx]]\n",
    "            idx+=1\n",
    "            \n",
    "    return res\n",
    "\n",
    "romanToInt(\"IX\")"
   ]
  },
  {
   "cell_type": "markdown",
   "metadata": {},
   "source": [
    "[Integer to Roman](https://leetcode.com/problems/integer-to-roman/). 阿拉伯转罗马数字，原阿拉伯数字小于4000."
   ]
  },
  {
   "cell_type": "code",
   "execution_count": null,
   "metadata": {},
   "outputs": [],
   "source": [
    "# 思路：阿拉伯转罗马逻辑比较复杂，把常用的几个组合存储起来\n",
    "# 使用贪心策略逐位添加字符\n",
    "# 注意到几个特殊数字，4跟9是使用逆序来表示的，这两个数字需特殊对待\n",
    "\n",
    "def intToRoman(num: int) -> str:\n",
    "    alb=[1000,900,500,400,100,90,50,40,10,9,5,4,1]\n",
    "    rom=['M','CM','D','CD','C','XC','L','XL','X','IX','V','IV','I']\n",
    "    \n",
    "    res=''\n",
    "    for idx,val in enumerate(alb):\n",
    "        while num>=val:\n",
    "            res+=rom[idx]\n",
    "            num-=alb[idx]\n",
    "\n",
    "    return res\n",
    "\n",
    "intToRoman(3)"
   ]
  },
  {
   "cell_type": "markdown",
   "metadata": {},
   "source": [
    "[Valid Anagram](https://leetcode.com/problems/valid-anagram/)。判断两字串是否是变位串。"
   ]
  },
  {
   "cell_type": "code",
   "execution_count": null,
   "metadata": {},
   "outputs": [],
   "source": [
    "# 思路：哈希表\n",
    "\n",
    "def isAnagram(s: str, t: str) -> bool:\n",
    "    if len(s)!=len(t):\n",
    "        return False\n",
    "    \n",
    "    tabel=dict()\n",
    "    for i in range(len(s)):\n",
    "        tabel[s[i]]=tabel.get(s[i],0)+1\n",
    "        \n",
    "    for i in range(len(t)):\n",
    "        tabel[t[i]]=tabel.get(t[i],0)-1\n",
    "        if tabel[t[i]]<0:\n",
    "            return False\n",
    "        \n",
    "    return True\n",
    "\n",
    "isAnagram('abc','baa')"
   ]
  },
  {
   "cell_type": "markdown",
   "metadata": {},
   "source": [
    "[Longest Substring Without Repeating Characters](https://leetcode.com/problems/longest-substring-without-repeating-characters/)。无重复字符的最大子串长度。"
   ]
  },
  {
   "cell_type": "code",
   "execution_count": null,
   "metadata": {},
   "outputs": [],
   "source": [
    "# 思路：滑动窗口，并使用一个哈希表来记录各字符最后出现的位置\n",
    "# 向右扫描，字符未出现过直接加入窗口；\n",
    "# 若出现过，还需判断出现的位置在左边界的哪边，在右边则窗口左边界移动到重复字符的位置\n",
    "\n",
    "\n",
    "def lengthOfLongestSubstring(s: str) -> int:\n",
    "    left = 0\n",
    "    res = 0\n",
    "    table = dict()\n",
    "\n",
    "    for idx, ch in enumerate(s):\n",
    "        if ch in table:    # 已出现过\n",
    "            left = max(left, table[ch]+1)    # 左边界右移\n",
    "\n",
    "        res = max(res, idx-left+1)\n",
    "        table[ch] = idx    # 更新字符位置\n",
    "\n",
    "    return res"
   ]
  },
  {
   "cell_type": "code",
   "execution_count": null,
   "metadata": {},
   "outputs": [],
   "source": []
  }
 ],
 "metadata": {
  "hide_input": false,
  "kernelspec": {
   "display_name": "Python 3",
   "language": "python",
   "name": "python3"
  },
  "language_info": {
   "codemirror_mode": {
    "name": "ipython",
    "version": 3
   },
   "file_extension": ".py",
   "mimetype": "text/x-python",
   "name": "python",
   "nbconvert_exporter": "python",
   "pygments_lexer": "ipython3",
   "version": "3.6.6"
  },
  "toc": {
   "base_numbering": 1,
   "nav_menu": {},
   "number_sections": true,
   "sideBar": true,
   "skip_h1_title": false,
   "title_cell": "Table of Contents",
   "title_sidebar": "Contents",
   "toc_cell": false,
   "toc_position": {},
   "toc_section_display": true,
   "toc_window_display": false
  }
 },
 "nbformat": 4,
 "nbformat_minor": 2
}
