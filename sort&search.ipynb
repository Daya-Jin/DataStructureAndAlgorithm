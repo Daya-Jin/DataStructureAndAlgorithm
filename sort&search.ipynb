{
 "cells": [
  {
   "cell_type": "markdown",
   "metadata": {},
   "source": [
    "某有序数组以某位置做左右交换，称为旋转数组，求旋转数组中的最小值。"
   ]
  },
  {
   "cell_type": "code",
   "execution_count": 23,
   "metadata": {},
   "outputs": [
    {
     "data": {
      "text/plain": [
       "0"
      ]
     },
     "execution_count": 23,
     "metadata": {},
     "output_type": "execute_result"
    }
   ],
   "source": [
    "# 旋转数组是前一部分有序，后一部分有序，但是整体无序\n",
    "# 假设原数组递增，使用类二分查找，考虑两种情况\n",
    "# 1. [2,3,4,1]    2. [5,1,2,3]\n",
    "# 如果中间值大于右值则最小值在右边\n",
    "# 如果中间值小于右值则最小值在左边\n",
    "# 为什么跟右值比而不跟左值比？因为整除会偏左\n",
    "\n",
    "def minNumberInRotateArray(arr):\n",
    "    if len(arr) == 1:\n",
    "        return arr[0]\n",
    "    left = 0\n",
    "    right = len(arr) - 1\n",
    "    while left < right:\n",
    "        mid = (right + left) >> 1  # 此处注意，整除会偏左，所以要跟右值比较\n",
    "        if arr[mid] > arr[right]:\n",
    "            left = mid + 1\n",
    "        elif arr[mid] < arr[right]:\n",
    "            right = mid\n",
    "        # 主要是mid==left的情况，若mid==right，则说明mid跟right是已知值，去掉一个不影响，所以将右指针左移\n",
    "        else:\n",
    "            right -= 1\n",
    "    return arr[left]\n",
    "\n",
    "\n",
    "minNumberInRotateArray([1, 1, 0, 1])"
   ]
  },
  {
   "cell_type": "code",
   "execution_count": null,
   "metadata": {},
   "outputs": [],
   "source": []
  }
 ],
 "metadata": {
  "kernelspec": {
   "display_name": "Python 3",
   "language": "python",
   "name": "python3"
  },
  "language_info": {
   "codemirror_mode": {
    "name": "ipython",
    "version": 3
   },
   "file_extension": ".py",
   "mimetype": "text/x-python",
   "name": "python",
   "nbconvert_exporter": "python",
   "pygments_lexer": "ipython3",
   "version": "3.6.6"
  }
 },
 "nbformat": 4,
 "nbformat_minor": 2
}
