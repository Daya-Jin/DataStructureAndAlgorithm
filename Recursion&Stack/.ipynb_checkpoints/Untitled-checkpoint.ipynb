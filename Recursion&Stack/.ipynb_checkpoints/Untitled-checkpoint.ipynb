{
 "cells": [
  {
   "cell_type": "code",
   "execution_count": 1,
   "metadata": {},
   "outputs": [],
   "source": [
    "class TreeNode:\n",
    "    def __init__(self, x):\n",
    "        self.val = x\n",
    "        self.left = None\n",
    "        self.right = None"
   ]
  },
  {
   "cell_type": "markdown",
   "metadata": {},
   "source": [
    "[Same Tree](https://leetcode.com/problems/same-tree/)。给两颗二叉树，判定两二叉树是否相等。\n",
    "\n",
    "思路：递归。设一个函数用于判定两节点是否相等，然后同时对左右子节点递归调用。"
   ]
  },
  {
   "cell_type": "code",
   "execution_count": null,
   "metadata": {},
   "outputs": [],
   "source": [
    "def isSameTree(p: TreeNode, q: TreeNode) -> bool:\n",
    "    if not p and not q:\n",
    "        return True\n",
    "    if not p or not q or p.val != q.val:\n",
    "        return False\n",
    "    if p.val == q.val:\n",
    "        return isSameTree(p.left, q.left) and isSameTree(p.right, q.right)"
   ]
  },
  {
   "cell_type": "markdown",
   "metadata": {},
   "source": [
    "[House Robber III](https://leetcode.com/problems/house-robber-iii/)。房屋呈二叉树结构，小偷不能连续偷有边相连的房屋，求小偷能偷得的最多财富。\n",
    "\n",
    "思路：树形DP，可以使用递归来解决。在计算每一层的最大财富值时，有两种选择，偷或不偷，所以需要设置两个dp数组，一个是偷当前节点，一个是不偷当前节点。设$dp_{do}[cur\\_node]$表示偷当前节点所能获得的最大财富，$dp_{dont}[cur\\_node]$表示不偷当前节点所能获得的最大财富，状态转移方程为：\n",
    "$$\n",
    "\\begin{align}\n",
    "dp_{do}[cur\\_node]&=cur\\_node.val+dp_{dont}[left]+dp_{dont}[right] \\\\\n",
    "dp_{dont}[cur\\_node]&=max(dp_{do}[left],dp_{dont}[left])+max(dp_{do}[right],dp_{dont}[right]) \\\\\n",
    "\\end{align}\n",
    "$$\n",
    "$dp$数组由底往上更新，最终返回$max(dp_{do}[root],dp_{dont}[root])$。"
   ]
  },
  {
   "cell_type": "code",
   "execution_count": null,
   "metadata": {},
   "outputs": [],
   "source": [
    "def rob(root: TreeNode) -> int:\n",
    "    def rec(vis_ndoe):\n",
    "        if not vis_ndoe:\n",
    "            return (0, 0)\n",
    "        if not vis_ndoe.left and not vis_ndoe.right:\n",
    "            return (vis_ndoe.val, 0)\n",
    "\n",
    "        do_left, dont_left = rec(vis_ndoe.left)\n",
    "        do_right, dont_right = rec(vis_ndoe.right)\n",
    "\n",
    "        return (vis_ndoe.val+dont_left+dont_right,\n",
    "                max(do_left, dont_left)+max(do_right, dont_right))\n",
    "\n",
    "    return max(rec(root))"
   ]
  },
  {
   "cell_type": "markdown",
   "metadata": {},
   "source": [
    "[Decode String](https://leetcode.com/problems/decode-string/)。给一个编码压缩后的字串，字符被包裹在方括号中，数字表示方括号中字符的重复次数，根据该规则还原完整的字符串。\n",
    "\n",
    "思路："
   ]
  },
  {
   "cell_type": "code",
   "execution_count": 8,
   "metadata": {},
   "outputs": [
    {
     "data": {
      "text/plain": [
       "'leetcodeleetcodeleetcodeleetcodeleetcodeleetcodeleetcodeleetcodeleetcodeleetcodeleetcodeleetcodeleetcodeleetcodeleetcodeleetcodeleetcodeleetcodeleetcodeleetcodeleetcodeleetcodeleetcodeleetcodeleetcodeleetcodeleetcodeleetcodeleetcodeleetcodeleetcodeleetcodeleetcodeleetcodeleetcodeleetcodeleetcodeleetcodeleetcodeleetcodeleetcodeleetcodeleetcodeleetcodeleetcodeleetcodeleetcodeleetcodeleetcodeleetcodeleetcodeleetcodeleetcodeleetcodeleetcodeleetcodeleetcodeleetcodeleetcodeleetcodeleetcodeleetcodeleetcodeleetcodeleetcodeleetcodeleetcodeleetcodeleetcodeleetcodeleetcodeleetcodeleetcodeleetcodeleetcodeleetcodeleetcodeleetcodeleetcodeleetcodeleetcodeleetcodeleetcodeleetcodeleetcodeleetcodeleetcodeleetcodeleetcodeleetcodeleetcodeleetcodeleetcodeleetcodeleetcodeleetcodeleetcodeleetcodeleetcodeleetcode'"
      ]
     },
     "execution_count": 8,
     "metadata": {},
     "output_type": "execute_result"
    }
   ],
   "source": [
    "def decodeString(string: str) -> str:\n",
    "    s = list()\n",
    "    for ch in string[:]:\n",
    "        if ch != ']':\n",
    "            s.append(ch)\n",
    "        else:    # 遇到右括号开始弹栈\n",
    "            # 首先是字符\n",
    "            enc = ''\n",
    "            while s[-1] != '[':\n",
    "                enc = s.pop()+enc\n",
    "            _ = s.pop()    # 弹出左括号\n",
    "\n",
    "            # 然后是数字\n",
    "            num = ''\n",
    "            while s and s[-1].isdigit():\n",
    "                num = s.pop()+num\n",
    "            num = int(num)\n",
    "\n",
    "            cur_s = enc*num\n",
    "            for c in cur_s:\n",
    "                s.append(c)\n",
    "\n",
    "    return ''.join(s)"
   ]
  },
  {
   "cell_type": "code",
   "execution_count": 3,
   "metadata": {},
   "outputs": [
    {
     "ename": "AttributeError",
     "evalue": "'str' object has no attribute 'copy'",
     "output_type": "error",
     "traceback": [
      "\u001b[1;31m---------------------------------------------------------------------------\u001b[0m",
      "\u001b[1;31mAttributeError\u001b[0m                            Traceback (most recent call last)",
      "\u001b[1;32m<ipython-input-3-41b82483e655>\u001b[0m in \u001b[0;36m<module>\u001b[1;34m\u001b[0m\n\u001b[1;32m----> 1\u001b[1;33m \u001b[1;34m'1'\u001b[0m\u001b[1;33m.\u001b[0m\u001b[0mcopy\u001b[0m\u001b[1;33m(\u001b[0m\u001b[1;33m)\u001b[0m\u001b[1;33m\u001b[0m\u001b[0m\n\u001b[0m",
      "\u001b[1;31mAttributeError\u001b[0m: 'str' object has no attribute 'copy'"
     ]
    }
   ],
   "source": [
    "'1'.copy()"
   ]
  },
  {
   "cell_type": "code",
   "execution_count": null,
   "metadata": {},
   "outputs": [],
   "source": []
  }
 ],
 "metadata": {
  "hide_input": false,
  "kernelspec": {
   "display_name": "Python 3",
   "language": "python",
   "name": "python3"
  },
  "language_info": {
   "codemirror_mode": {
    "name": "ipython",
    "version": 3
   },
   "file_extension": ".py",
   "mimetype": "text/x-python",
   "name": "python",
   "nbconvert_exporter": "python",
   "pygments_lexer": "ipython3",
   "version": "3.6.6"
  },
  "toc": {
   "base_numbering": 1,
   "nav_menu": {},
   "number_sections": true,
   "sideBar": true,
   "skip_h1_title": false,
   "title_cell": "Table of Contents",
   "title_sidebar": "Contents",
   "toc_cell": false,
   "toc_position": {},
   "toc_section_display": true,
   "toc_window_display": false
  }
 },
 "nbformat": 4,
 "nbformat_minor": 2
}
