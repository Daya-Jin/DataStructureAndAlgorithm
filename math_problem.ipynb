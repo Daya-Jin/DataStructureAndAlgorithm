{
 "cells": [
  {
   "cell_type": "markdown",
   "metadata": {},
   "source": [
    "阶乘末尾的0的个数。"
   ]
  },
  {
   "cell_type": "code",
   "execution_count": 5,
   "metadata": {},
   "outputs": [
    {
     "data": {
      "text/plain": [
       "6"
      ]
     },
     "execution_count": 5,
     "metadata": {},
     "output_type": "execute_result"
    }
   ],
   "source": [
    "# 思路：末尾0的个数取决于数值可以转化成int*10^i，而10又可以分解成2*5\n",
    "# 假设对n!做因式分解得到：\n",
    "# n!=1*2*3*...*n\n",
    "#   =(1^cnt_1)*(2^cnt_2)*(3^cnt_3)*(5^cnt_5)*...\n",
    "# 只要返回min(cnt_2,cnt_5)即可，实际上，cnt_2>cnt_5，所以只需返回cnt_5\n",
    "# n!=1*...*5*...*10*...*15*...，阶乘展开式中每隔5个数就会出现一个5的因子\n",
    "# 只要求出[1,n]中出现的5的倍数，并能拆解成多少个5相乘即可\n",
    "\n",
    "def trailingZeroes(n):\n",
    "    res=0\n",
    "    while n>=5:\n",
    "        res+=n//5\n",
    "        n//=5\n",
    "        \n",
    "    return res\n",
    "\n",
    "trailingZeroes(25)"
   ]
  },
  {
   "cell_type": "markdown",
   "metadata": {},
   "source": [
    "Number of Digit One. 给定一个范围[1,n]，求在该范围内所有数字中，数字\"1\"出现的次数。"
   ]
  },
  {
   "cell_type": "code",
   "execution_count": 13,
   "metadata": {},
   "outputs": [
    {
     "data": {
      "text/plain": [
       "4"
      ]
     },
     "execution_count": 13,
     "metadata": {},
     "output_type": "execute_result"
    }
   ],
   "source": [
    "# 思路：假设以某位为界将数字分隔成两部分，该位数字作为高位部分的末位，其余作为低位\n",
    "# 如以c将abcde划分为高位abc和低位de，从低往高逐位扫描，将c置为1，然后其他位可以任取值\n",
    "\n",
    "\n",
    "def countDigitOne(n):\n",
    "    cut_num = 1    # 用于分割高低位的除数，1、10、100、...\n",
    "    cnt = 0\n",
    "\n",
    "    while cut_num <= n:\n",
    "        high = n//cut_num\n",
    "        low = n % cut_num\n",
    "\n",
    "        if high % 10 > 1:    # >=2时，该位置为1,高低位在范围内随意取值，abced的取值范围为[00100,ab199]\n",
    "            cnt += (high//10+1)*cut_num\n",
    "        # ==1时，该位置为1，高位取值范围可分为两部分，[00100,ab100]U[ab100,ab1de]\n",
    "        elif high % 10 == 1:\n",
    "            cnt += (high//10)*cut_num+low+1\n",
    "        else:    # ==0时，高位只能少取一个值，低位还是任取，[00100,a(b-1)199]\n",
    "            cnt += (high//10)*cut_num\n",
    "\n",
    "        cut_num *= 10    # 切割点左移一位\n",
    "\n",
    "    return cnt\n",
    "\n",
    "\n",
    "countDigitOne(11)"
   ]
  },
  {
   "cell_type": "markdown",
   "metadata": {},
   "source": [
    "Nth Digit. 求连续数字序列中'012345678910111213...'的第n位数字。"
   ]
  },
  {
   "cell_type": "code",
   "execution_count": 5,
   "metadata": {},
   "outputs": [
    {
     "data": {
      "text/plain": [
       "0"
      ]
     },
     "execution_count": 5,
     "metadata": {},
     "output_type": "execute_result"
    }
   ],
   "source": [
    "# 思路：找规律，一位数为1-9，9个数字；两位数为10-99，90个数字；三位数为100-999，900个数字\n",
    "# 以此类推，n位数的数字共有9*(10^n)个。根据此规律可找出第n位所在的区间段\n",
    "# 找到区间段之后在定位数字，最后定位是该数字的哪一位\n",
    "\n",
    "\n",
    "def findNthDigit(n):\n",
    "    if n <= 0:\n",
    "        return -1\n",
    "    if n < 10:\n",
    "        return n\n",
    "\n",
    "    bits = 2\n",
    "    n -= 10    # 从0开始\n",
    "\n",
    "    # 先找到位数，i位数区间有9*10^(i-1)个数，共占9*10^(i-1)*i位\n",
    "    while n > (9*(10**(bits-1))*bits):\n",
    "        n -= 9*(10**(bits-1))*bits\n",
    "        bits += 1\n",
    "\n",
    "    # 定位是哪一个数\n",
    "    start = 10**(bits-1)    # i位的起始数字\n",
    "    offset = n//bits    # 关于起始数字的偏移量\n",
    "    number = start+offset    # 对应的数字\n",
    "    dig_idx = n % bits    # 对应第几位\n",
    "\n",
    "    return int(str(number)[dig_idx])"
   ]
  },
  {
   "cell_type": "markdown",
   "metadata": {},
   "source": [
    "Non-decreasing Array. 给定一个数组，判断该数组能否在最多修改一个数字的条件下变成一个非递减数组。"
   ]
  },
  {
   "cell_type": "code",
   "execution_count": 8,
   "metadata": {},
   "outputs": [
    {
     "data": {
      "text/plain": [
       "False"
      ]
     },
     "execution_count": 8,
     "metadata": {},
     "output_type": "execute_result"
    }
   ],
   "source": [
    "# 思路：扫描统计nums[i]<nums[i-1]的思路是错的\n",
    "# 正确思路应为顺序扫描数组，并与其前一位数字做大小判断\n",
    "# 当当前数字小于前一位时，还要与前前一位作比较\n",
    "# 如果没有前前一位，或者当前数要大于前前位，则修改前位\n",
    "# 如果有前前位，且当前数还要小于前前位，则修改当前数\n",
    "\n",
    "\n",
    "def checkPossibility(nums):\n",
    "    if len(nums) < 3:\n",
    "        return True\n",
    "\n",
    "    mod_chance = 1\n",
    "    for idx in range(1, len(nums)):    # 顺序扫描\n",
    "        if nums[idx] < nums[idx-1]:\n",
    "            if mod_chance == 0:    # 首先判断还有没有修改机会\n",
    "                return False\n",
    "\n",
    "            if idx == 1 or nums[idx] >= nums[idx-2]:\n",
    "                nums[idx-1] = nums[i]\n",
    "            else:\n",
    "                nums[idx] = nums[idx-1]\n",
    "\n",
    "            mod_chance -= 1\n",
    "\n",
    "    return True"
   ]
  },
  {
   "cell_type": "markdown",
   "metadata": {},
   "source": [
    "Reverse Integer. 翻转数字中的数字位并返回新数字。"
   ]
  },
  {
   "cell_type": "code",
   "execution_count": 15,
   "metadata": {},
   "outputs": [
    {
     "data": {
      "text/plain": [
       "-21"
      ]
     },
     "execution_count": 15,
     "metadata": {},
     "output_type": "execute_result"
    }
   ],
   "source": [
    "# 思路：每次使用取余运算取出原数字最后一位，再整除10去掉最后一位\n",
    "# 对于返回值，每次都需要乘10，然后再加上原数字的最后一位\n",
    "# 最后添加符号\n",
    "\n",
    "\n",
    "def reverse(x):\n",
    "    if x >= 0:\n",
    "        sign = 1\n",
    "    else:\n",
    "        sign = -1\n",
    "\n",
    "    res = 0\n",
    "    x = abs(x)\n",
    "    while x > 0:\n",
    "        remain = x % 10\n",
    "        x //= 10\n",
    "\n",
    "        res = res*10+remain\n",
    "\n",
    "    return res*sign if res < 2**31 else 0"
   ]
  },
  {
   "cell_type": "markdown",
   "metadata": {},
   "source": [
    "Count Primes. 计数n以内的质数个数。"
   ]
  },
  {
   "cell_type": "code",
   "execution_count": 21,
   "metadata": {},
   "outputs": [
    {
     "data": {
      "text/plain": [
       "4"
      ]
     },
     "execution_count": 21,
     "metadata": {},
     "output_type": "execute_result"
    }
   ],
   "source": [
    "# 思路：空间换时间，设立一个质数标记数组\n",
    "# 从2开始，计数值+1，扫描其倍数，并在数组中标记\n",
    "# 再从3开始，计数值+1，扫描倍数并标记\n",
    "# 逐个设置起点，如果flags[i]=True，则计数值+1\n",
    "# 优化。一个合数的所有因子都能在根号n的范围内计算出来\n",
    "\n",
    "\n",
    "def countPrimes(n):\n",
    "    if n < 2:\n",
    "        return 0\n",
    "\n",
    "    isPrime = [True]*n\n",
    "    isPrime[0] = isPrime[1] = False\n",
    "\n",
    "    res = 0\n",
    "    for idx in range(2, int(n**0.5)+1):\n",
    "        if isPrime[idx]:\n",
    "            # 语法糖，跳步切片，相当于取倍数\n",
    "            isPrime[idx*idx:n:idx] = [False]*len(isPrime[idx*idx:n:idx])\n",
    "\n",
    "    return sum(isPrime)"
   ]
  },
  {
   "cell_type": "markdown",
   "metadata": {},
   "source": [
    "Max Points on a Line. 给定一系列平面点的坐标，最多有几个点共线。"
   ]
  },
  {
   "cell_type": "code",
   "execution_count": 42,
   "metadata": {},
   "outputs": [
    {
     "data": {
      "text/plain": [
       "6"
      ]
     },
     "execution_count": 42,
     "metadata": {},
     "output_type": "execute_result"
    }
   ],
   "source": [
    "# 思路：首先统计点的出现次数，因为可能出现重复点的情况\n",
    "# 然后采用O(n^2)的算法，每次固定一个点，计算其余所有点相对该点的斜率并计数\n",
    "# 返回最大计数值\n",
    "# 实质上还是暴力解法，编写代码时注意逻辑的缜密性即可，不难\n",
    "\n",
    "\n",
    "def maxPoints(points):\n",
    "    if len(points) < 2:\n",
    "        return len(points)\n",
    "\n",
    "    # 统计各点的出现次数\n",
    "    p_cnts = dict()\n",
    "    for p in points:\n",
    "        p_cnts[tuple(p)] = p_cnts.get(tuple(p), 0)+1\n",
    "\n",
    "    # 不重复的点\n",
    "    uni_p = list(p_cnts.keys())\n",
    "    nums_uni_p = len(uni_p)\n",
    "\n",
    "    # 如果全是重复点，则直接返回重复点的数量\n",
    "    if nums_uni_p == 1:\n",
    "        return p_cnts[uni_p[0]]\n",
    "\n",
    "    res = 0\n",
    "    for fix_p_idx in range(nums_uni_p-1):    # 最后一个点无需固定，因为其后面没有点了\n",
    "        k_s = dict()    # 斜率字典，用于记录在某一斜率下与fix_p共线的点数\n",
    "\n",
    "        for act_p_idx in range(fix_p_idx+1, nums_uni_p):\n",
    "            dx, dy = uni_p[act_p_idx][0] - \\\n",
    "                uni_p[fix_p_idx][0], uni_p[act_p_idx][1]-uni_p[fix_p_idx][1]\n",
    "\n",
    "            if dx == 0:\n",
    "                k = 'Inf'\n",
    "            else:\n",
    "                k = dy/dx    # 注意此处存在精度问题，待使用最大公约数改进\n",
    "\n",
    "            # 把活动点的个数加入斜率字典\n",
    "            k_s[k] = k_s.get(k, 0) + \\\n",
    "                p_cnts[uni_p[act_p_idx]]\n",
    "\n",
    "        # 当前最大值为字典中的最大值再加上固定点的数量\n",
    "        cur_max = max(k_s.values())+p_cnts[uni_p[fix_p_idx]]\n",
    "\n",
    "        res = max(res, cur_max)\n",
    "\n",
    "    return res"
   ]
  },
  {
   "cell_type": "markdown",
   "metadata": {},
   "source": [
    "[翻转数列](https://www.nowcoder.com/questionTerminal/cc0a71a1dfdb4c64a3ffe000f71ae12c?orderByHotValue=1&page=1&onlyReference=false)。一个长度为偶数的正整数数列，每隔m个元素就将数字的符号反转一次，求该数列的前n项和。保证n是2m的倍数，初始符号为负数。"
   ]
  },
  {
   "cell_type": "code",
   "execution_count": 47,
   "metadata": {},
   "outputs": [
    {
     "data": {
      "text/plain": [
       "8"
      ]
     },
     "execution_count": 47,
     "metadata": {},
     "output_type": "execute_result"
    }
   ],
   "source": [
    "# 思路：输入保证n是2m的倍数，那么先对前n项分组，分成n/2m组\n",
    "# 每组组内是前一半负数，后一半正数\n",
    "# m=1时，每组的和为1\n",
    "# m=2时，每组的和为1+3=4\n",
    "# m=3时，每组和为1+3+5=9\n",
    "\n",
    "def solution(n,m):\n",
    "    groups=n//(2*m)\n",
    "    return groups*(m**2)\n",
    "\n",
    "solution(8,2)"
   ]
  },
  {
   "cell_type": "markdown",
   "metadata": {},
   "source": [
    "[Array Partition I](https://leetcode.com/problems/array-partition-i/). 将一数组进行两两分组，要求使得：\n",
    "$$\n",
    "\\sum\\limits_{groups}min(a,b)\n",
    "$$\n",
    "最大，其中a,b表示每组的组内元素。"
   ]
  },
  {
   "cell_type": "code",
   "execution_count": null,
   "metadata": {},
   "outputs": [],
   "source": [
    "# 思路：先排序，然后相邻数字两两组合，这样得出来的组内最小和是最大的\n",
    "\n",
    "\n",
    "def arrayPairSum(nums):\n",
    "    nums.sort()\n",
    "    res = 0\n",
    "\n",
    "    for idx in range(0, len(nums), 2):\n",
    "        res += nums[idx]\n",
    "\n",
    "    return res\n",
    "\n",
    "\n",
    "arrayPairSum([1, 4, 3, 2])"
   ]
  },
  {
   "cell_type": "markdown",
   "metadata": {},
   "source": [
    "[Smallest Range I](https://leetcode.com/problems/smallest-range-i/). 给定一个数组，允许在某个范围K内调整数组中的每个元素，求该数组的最小极差(max-min)。"
   ]
  },
  {
   "cell_type": "code",
   "execution_count": 3,
   "metadata": {},
   "outputs": [
    {
     "data": {
      "text/plain": [
       "6"
      ]
     },
     "execution_count": 3,
     "metadata": {},
     "output_type": "execute_result"
    }
   ],
   "source": [
    "# 思路：每个元素都能在一个正负K之间的范围内作调整，那么数组取得最小极差的条件为\n",
    "# 原数组的最大值-K，原数组的最小值+K\n",
    "\n",
    "\n",
    "def smallestRangeI(A, K) -> int:\n",
    "    # 当原数组的极差小于K时，返回0即可\n",
    "    return max(0, (max(A)-K)-(min(A)+K))"
   ]
  },
  {
   "cell_type": "markdown",
   "metadata": {},
   "source": [
    "[Permutations](https://leetcode.com/problems/permutations/)。给定一无重复值的数组，求全排列。"
   ]
  },
  {
   "cell_type": "code",
   "execution_count": null,
   "metadata": {},
   "outputs": [],
   "source": [
    "# 思路：通过两两交换数字，可以得到全排列，注意不要做重复交换即可\n",
    "\n",
    "\n",
    "def permute(nums):\n",
    "    def swap(num, i, j):\n",
    "        tmp = num[:]    # 复制原数组，不要改变原数组！\n",
    "        tmp[i], tmp[j] = tmp[j], tmp[i]\n",
    "        return tmp\n",
    "\n",
    "    res = [nums]\n",
    "    for i in range(len(nums)-1):    # 交换下标之一\n",
    "        # 注意这里涉及到循环内部改变list，我们只对一个副本做循环\n",
    "        for ans in res[:]:    # 只对已有答案作交换，产生新答案\n",
    "            for j in range(i, len(nums)):    # 交换下标之二\n",
    "                res.append(swap(ans, i, j))\n",
    "\n",
    "    return res"
   ]
  },
  {
   "cell_type": "markdown",
   "metadata": {},
   "source": [
    "[Shuffle an Array](https://leetcode.com/problems/shuffle-an-array/)。将一数组随机洗牌，使得所有可能的结果等可能出现。"
   ]
  },
  {
   "cell_type": "code",
   "execution_count": null,
   "metadata": {},
   "outputs": [],
   "source": [
    "# 思路：该题难点在于使得所有排列数等可能出现\n",
    "# 对于洗牌操作，遍历每一个数，同时随机选取一个交换位置即可\n",
    "# 要实现等可能，每次选取随机位置时只能在当前数字的前面或后面选取\n",
    "\n",
    "\n",
    "class Solution:\n",
    "    def __init__(self, nums: List[int]):\n",
    "        self.raw_arr = list(nums)\n",
    "        self.arr = nums\n",
    "\n",
    "    def reset(self) -> List[int]:\n",
    "        \"\"\"\n",
    "        Resets the array to its original configuration and return it.\n",
    "        \"\"\"\n",
    "        self.arr = list(self.raw_arr)\n",
    "        return self.arr\n",
    "\n",
    "    def shuffle(self) -> List[int]:\n",
    "        \"\"\"\n",
    "        Returns a random shuffling of the array.\n",
    "        \"\"\"\n",
    "        for i in range(len(self.arr)):\n",
    "            random_idx = random.randint(0, i)\n",
    "            self.arr[i], self.arr[random_idx] = self.arr[random_idx], self.arr[i]\n",
    "        return self.arr"
   ]
  }
 ],
 "metadata": {
  "hide_input": false,
  "kernelspec": {
   "display_name": "Python 3",
   "language": "python",
   "name": "python3"
  },
  "language_info": {
   "codemirror_mode": {
    "name": "ipython",
    "version": 3
   },
   "file_extension": ".py",
   "mimetype": "text/x-python",
   "name": "python",
   "nbconvert_exporter": "python",
   "pygments_lexer": "ipython3",
   "version": "3.6.6"
  },
  "toc": {
   "base_numbering": 1,
   "nav_menu": {},
   "number_sections": true,
   "sideBar": true,
   "skip_h1_title": false,
   "title_cell": "Table of Contents",
   "title_sidebar": "Contents",
   "toc_cell": false,
   "toc_position": {},
   "toc_section_display": true,
   "toc_window_display": false
  }
 },
 "nbformat": 4,
 "nbformat_minor": 2
}
