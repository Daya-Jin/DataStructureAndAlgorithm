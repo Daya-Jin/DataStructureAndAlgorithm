{
 "cells": [
  {
   "cell_type": "markdown",
   "metadata": {},
   "source": [
    "阶乘末尾的0的个数。"
   ]
  },
  {
   "cell_type": "code",
   "execution_count": 5,
   "metadata": {},
   "outputs": [
    {
     "data": {
      "text/plain": [
       "6"
      ]
     },
     "execution_count": 5,
     "metadata": {},
     "output_type": "execute_result"
    }
   ],
   "source": [
    "# 思路：末尾0的个数取决于数值可以转化成int*10^i，而10又可以分解成2*5\n",
    "# 假设对n!做因式分解得到：\n",
    "# n!=1*2*3*...*n\n",
    "#   =(1^cnt_1)*(2^cnt_2)*(3^cnt_3)*(5^cnt_5)*...\n",
    "# 只要返回min(cnt_2,cnt_5)即可，实际上，cnt_2>cnt_5，所以只需返回cnt_5\n",
    "# n!=1*...*5*...*10*...*15*...，阶乘展开式中每隔5个数就会出现一个5的因子\n",
    "# 只要求出[1,n]中出现的5的倍数，并能拆解成多少个5相乘即可\n",
    "\n",
    "def trailingZeroes(n):\n",
    "    res=0\n",
    "    while n>=5:\n",
    "        res+=n//5\n",
    "        n//=5\n",
    "        \n",
    "    return res\n",
    "\n",
    "trailingZeroes(25)"
   ]
  },
  {
   "cell_type": "markdown",
   "metadata": {},
   "source": [
    "Number of Digit One. 给定一个范围[1,n]，求在该范围内所有数字中，数字\"1\"出现的次数。"
   ]
  },
  {
   "cell_type": "code",
   "execution_count": 13,
   "metadata": {},
   "outputs": [
    {
     "data": {
      "text/plain": [
       "4"
      ]
     },
     "execution_count": 13,
     "metadata": {},
     "output_type": "execute_result"
    }
   ],
   "source": [
    "# 思路：假设以某位为界将数字分隔成两部分，改为数字作为高位数字的末位，其余作为低位\n",
    "# 如以c将abcde划分为高位abc和低位de，从低往高逐位扫描，将c置为1，然后其他位可以任取值\n",
    "\n",
    "\n",
    "def countDigitOne(n):\n",
    "    cut_num = 1    # 用于分割高低位的除数，1、10、100、...\n",
    "    cnt = 0\n",
    "\n",
    "    while cut_num <= n:\n",
    "        high = n//cut_num\n",
    "        low = n % cut_num\n",
    "\n",
    "        if high % 10 > 1:    # >=2时，该位置为1,高低位在范围内随意取值，abced的取值范围为[00100,ab199]\n",
    "            cnt += (high//10+1)*cut_num\n",
    "        # ==1时，该位置为1，高位取值范围可分为两部分，[00100,ab100]U[ab100,ab1de]\n",
    "        elif high % 10 == 1:\n",
    "            cnt += (high//10)*cut_num+low+1\n",
    "        else:    # ==0时，高位只能少取一个值，低位还是任取，[00100,a(b-1)199]\n",
    "            cnt += (high//10)*cut_num\n",
    "\n",
    "        cut_num *= 10    # 切割点左移一位\n",
    "\n",
    "    return cnt\n",
    "\n",
    "\n",
    "countDigitOne(11)"
   ]
  },
  {
   "cell_type": "code",
   "execution_count": null,
   "metadata": {},
   "outputs": [],
   "source": []
  }
 ],
 "metadata": {
  "kernelspec": {
   "display_name": "Python 3",
   "language": "python",
   "name": "python3"
  },
  "language_info": {
   "codemirror_mode": {
    "name": "ipython",
    "version": 3
   },
   "file_extension": ".py",
   "mimetype": "text/x-python",
   "name": "python",
   "nbconvert_exporter": "python",
   "pygments_lexer": "ipython3",
   "version": "3.6.6"
  }
 },
 "nbformat": 4,
 "nbformat_minor": 2
}
