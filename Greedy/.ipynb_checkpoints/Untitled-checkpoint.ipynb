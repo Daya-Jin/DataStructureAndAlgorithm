{
 "cells": [
  {
   "cell_type": "markdown",
   "metadata": {},
   "source": [
    "[Maximum Swap](https://leetcode.com/problems/maximum-swap/)。一个数字，只允许对两位交换一次，求能得到的最大数。\n",
    "\n",
    "思路：由高位往低位扫描，如果低位最大的数字大于高位，那么就做交换。可优化的地方有两处，一是使用哈希表记录数字的每一位，二是单位数字的取值范围是$[0,9]$。难点在于数字可能重复出现在不同位，那么只将最低位的数字换到高位。"
   ]
  },
  {
   "cell_type": "code",
   "execution_count": null,
   "metadata": {},
   "outputs": [],
   "source": [
    "def maximumSwap(num: int) -> int:\n",
    "    nums = list(map(int, str(num)))\n",
    "\n",
    "    # 注意这里构造字典隐含一个技巧，同一个数字多次出现时，低位数字会覆盖高位数字\n",
    "    tabel = {num: idx for idx, num in enumerate(nums)}\n",
    "\n",
    "    for idx, cur_num in enumerate(nums):    # 遍历每一位\n",
    "        for larger in range(9, cur_num, -1):    # 比当前位大的数字\n",
    "            larger_idx = tabel.get(larger, None)\n",
    "            if larger_idx and larger_idx > idx:    # 如果大数存在且出现在低位\n",
    "                nums[larger_idx], nums[idx] = nums[idx], nums[larger_idx]\n",
    "                return int(''.join(map(str, nums)))\n",
    "\n",
    "    return num"
   ]
  }
 ],
 "metadata": {
  "hide_input": false,
  "kernelspec": {
   "display_name": "Python 3",
   "language": "python",
   "name": "python3"
  },
  "language_info": {
   "codemirror_mode": {
    "name": "ipython",
    "version": 3
   },
   "file_extension": ".py",
   "mimetype": "text/x-python",
   "name": "python",
   "nbconvert_exporter": "python",
   "pygments_lexer": "ipython3",
   "version": "3.6.6"
  },
  "toc": {
   "base_numbering": 1,
   "nav_menu": {},
   "number_sections": true,
   "sideBar": true,
   "skip_h1_title": false,
   "title_cell": "Table of Contents",
   "title_sidebar": "Contents",
   "toc_cell": false,
   "toc_position": {},
   "toc_section_display": true,
   "toc_window_display": false
  }
 },
 "nbformat": 4,
 "nbformat_minor": 2
}
