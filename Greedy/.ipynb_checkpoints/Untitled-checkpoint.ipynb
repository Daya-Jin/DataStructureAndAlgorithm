{
 "cells": [
  {
   "cell_type": "markdown",
   "metadata": {},
   "source": [
    "[Array of Doubled Pairs](https://leetcode.com/problems/array-of-doubled-pairs/)。给定一个偶数大小的数组，判断该数组能否组成数字对$(num1,num2)$，使得每一对都满足$num2=2*num1$。\n",
    "\n",
    "思路：首先按照绝对值排序，由小往大取值。一个数$x$应该有一个$2x$与其成对，若$2x$不存在则返回false。另外一点就是需要对数字计数，避免重复使用。"
   ]
  },
  {
   "cell_type": "code",
   "execution_count": 2,
   "metadata": {},
   "outputs": [
    {
     "data": {
      "text/plain": [
       "True"
      ]
     },
     "execution_count": 2,
     "metadata": {},
     "output_type": "execute_result"
    }
   ],
   "source": [
    "def canReorderDoubled(A) -> bool:\n",
    "    cnt = dict()\n",
    "    for num in A:\n",
    "        cnt.setdefault(num, 0)\n",
    "        cnt[num] += 1\n",
    "\n",
    "    A.sort(key=abs)\n",
    "\n",
    "    for num in A:\n",
    "        if cnt.get(num, 0) == 0:\n",
    "            continue\n",
    "        if cnt.get(2*num, 0) == 0:\n",
    "            return False\n",
    "\n",
    "        cnt[num] -= 1\n",
    "        cnt[2*num] -= 1\n",
    "\n",
    "    return True"
   ]
  },
  {
   "cell_type": "markdown",
   "metadata": {},
   "source": [
    "[Course Schedule III](https://leetcode.com/problems/course-schedule-iii/)。给出$n$门课程，每门课程有两个信息：(学习时长，截止日期)，求最多能完成多少门课程。\n",
    "\n",
    "思路：可使用贪心算法获得最优解。优化目标是完成的课程数，那么易得在完成相同门数课程的条件下，学习时长越短越好；或者反过来说，在同样的学习时长下，完成的课程数越多越好。首先按照截止时间对课程排序，顺序选课，若能在截止日期前完成，则加入选课列表；若不能在截止日期内完成，则需要做取舍，将已选课中学习时长最长的课用当前课来代替。维护一个已选课程数组，该数组以学习时长排序，最长的排在最后边。"
   ]
  },
  {
   "cell_type": "code",
   "execution_count": 10,
   "metadata": {},
   "outputs": [
    {
     "data": {
      "text/plain": [
       "2"
      ]
     },
     "execution_count": 10,
     "metadata": {},
     "output_type": "execute_result"
    }
   ],
   "source": [
    "def scheduleCourse(courses) -> int:\n",
    "    courses.sort(key=lambda x: x[1])\n",
    "    schedule = list()    # 选课计划\n",
    "    std_time = 0    # 总学习时间\n",
    "\n",
    "    def BinSearch(l, x):\n",
    "        '''\n",
    "        寻找插入位置\n",
    "        '''\n",
    "        start, end = 0, len(l)\n",
    "        while start < end:\n",
    "            mid = (start+end)//2\n",
    "            if l[mid] <= x:\n",
    "                start = mid+1\n",
    "            else:\n",
    "                end = mid\n",
    "        return start\n",
    "\n",
    "    for course in courses:\n",
    "        if course[0] > course[1]:    # 无法完成的课程\n",
    "            continue\n",
    "\n",
    "        if std_time+course[0] <= course[1]:    # 可无脑加入的课程\n",
    "            idx = BinSearch(schedule, course[0])\n",
    "            schedule.insert(idx, course[0])\n",
    "            std_time += course[0]\n",
    "        else:\n",
    "            if course[0] < schedule[-1]:    # 替换时长最长的\n",
    "                std_time += course[0]-schedule[-1]\n",
    "                del schedule[-1]\n",
    "                idx = BinSearch(schedule, course[0])\n",
    "                schedule.insert(idx, course[0])\n",
    "\n",
    "    return len(schedule)"
   ]
  },
  {
   "cell_type": "markdown",
   "metadata": {},
   "source": [
    "[Wiggle Subsequence](https://leetcode.com/problems/wiggle-subsequence/)。曲折子序列，给定一数组，求其能构成曲折子数组的最大长度。\n",
    "\n",
    "思路：扫描数组，若连续上升或连续下降，则找到区间的极值点；难点在于首个弯曲点的处理。"
   ]
  },
  {
   "cell_type": "code",
   "execution_count": null,
   "metadata": {},
   "outputs": [],
   "source": [
    "def wiggleMaxLength(nums) -> int:\n",
    "    if len(nums) < 2:\n",
    "        return len(nums)\n",
    "\n",
    "    res = 0\n",
    "    pre_sign = None    # 之前的符号，True表正，False表负\n",
    "\n",
    "    for idx in range(1, len(nums)):\n",
    "        if nums[idx] > nums[idx-1] and (pre_sign is None or not pre_sign):\n",
    "            pre_sign = True\n",
    "            res += 1\n",
    "        elif nums[idx] < nums[idx-1] and (pre_sign is None or pre_sign):\n",
    "            pre_sign = False\n",
    "            res += 1\n",
    "\n",
    "    return res+1    # 加上首个数字"
   ]
  },
  {
   "cell_type": "markdown",
   "metadata": {},
   "source": [
    "[Best Time to Buy and Sell Stock](https://leetcode.com/problems/best-time-to-buy-and-sell-stock/)。一数组代表股票的历史价格，允许买卖一次，求能获得的最大利润。\n",
    "\n",
    "思路：贪心算法，遍历数组，维护一个最低价格与一个最大利润即可。"
   ]
  },
  {
   "cell_type": "code",
   "execution_count": 13,
   "metadata": {},
   "outputs": [
    {
     "data": {
      "text/plain": [
       "5"
      ]
     },
     "execution_count": 13,
     "metadata": {},
     "output_type": "execute_result"
    }
   ],
   "source": [
    "def maxProfit(prices) -> int:\n",
    "    min_price = 0x7FFFFFFF\n",
    "    max_profit = 0\n",
    "\n",
    "    for price in prices:\n",
    "        min_price = min(min_price, price)\n",
    "        max_profit = max(max_profit, price-min_price)\n",
    "\n",
    "    return max_profit"
   ]
  },
  {
   "cell_type": "markdown",
   "metadata": {},
   "source": [
    "[Longest Word in Dictionary](https://leetcode.com/problems/longest-word-in-dictionary/)。给一个字典，求出该字典包含完整拼写过程的最长字符串。\n",
    "\n",
    "思路：若字典中包含了某一字符串的完整拼写过程，说明该字符串的所有前缀都包含在字典里面。使用set进行暴力查找。"
   ]
  },
  {
   "cell_type": "code",
   "execution_count": 21,
   "metadata": {},
   "outputs": [],
   "source": [
    "def longestWord(words) -> str:\n",
    "    res = ''\n",
    "\n",
    "    for s in words:\n",
    "        n = len(s)\n",
    "        i = 1\n",
    "\n",
    "        while i <= n:\n",
    "            if s[:i] in words:\n",
    "                i += 1\n",
    "            else:\n",
    "                break\n",
    "\n",
    "        if i == n+1:    # 完全匹配\n",
    "            if len(s) > len(res):\n",
    "                res = s\n",
    "            elif len(s) == len(res):\n",
    "                res = min(res, s)\n",
    "\n",
    "    return res"
   ]
  },
  {
   "cell_type": "markdown",
   "metadata": {},
   "source": [
    "[Longest Word in Dictionary through Deleting](https://leetcode.com/problems/longest-word-in-dictionary-through-deleting/)。给一个字符串与一个字典，找出在只能删除字符的情况下，在字典中能匹配到的最长的字符串。当多个匹配字符串长度相等时，返回字母序靠前的。\n",
    "\n",
    "思路：暴力搜索，维护一个匹配值，当新匹配的字典值长度大于之前的，又或者等于之前的但是字母序在前时，这两种情况需要替换。Python可以直接比较字典序。"
   ]
  },
  {
   "cell_type": "code",
   "execution_count": 20,
   "metadata": {},
   "outputs": [
    {
     "data": {
      "text/plain": [
       "'a'"
      ]
     },
     "execution_count": 20,
     "metadata": {},
     "output_type": "execute_result"
    }
   ],
   "source": [
    "def findLongestWord(s: str, d) -> str:\n",
    "    res = ''\n",
    "    n_s = len(s)\n",
    "\n",
    "    for word in d:\n",
    "        i = j = 0\n",
    "        n_word = len(word)\n",
    "\n",
    "        while i < n_s and j < n_word:    # 顺序匹配\n",
    "            if s[i] == word[j]:\n",
    "                i += 1\n",
    "                j += 1\n",
    "            else:\n",
    "                i += 1\n",
    "\n",
    "        if j == n_word:    # 完全匹配\n",
    "            if len(word) > len(res):\n",
    "                res = word\n",
    "            elif len(word) == len(res):\n",
    "                res = min(res, word)\n",
    "\n",
    "    return res"
   ]
  },
  {
   "cell_type": "markdown",
   "metadata": {},
   "source": [
    "[Teemo Attacking](https://leetcode.com/problems/teemo-attacking/)。提莫的攻击附带$k$s的中毒效果，中毒时间不累加，给出提莫的攻击时间线，求敌方单位的中毒总时间。\n",
    "\n",
    "思路：如果两次攻击间隔时间小于$k$s，那么效果肯定会被覆盖，扫描时间线做差即可。"
   ]
  },
  {
   "cell_type": "code",
   "execution_count": 1,
   "metadata": {},
   "outputs": [],
   "source": [
    "def findPoisonedDuration(timeSeries, duration: int) -> int:\n",
    "    res=0\n",
    "    if not timeSeries:\n",
    "        return res\n",
    "    \n",
    "    for i in range(1,len(timeSeries)):\n",
    "        diff=timeSeries[i]-timeSeries[i-1]\n",
    "        if diff<duration:\n",
    "            res+=diff\n",
    "        else:\n",
    "            res+=duration\n",
    "            \n",
    "    return res+duration    # 加上最后一击的中毒时间"
   ]
  },
  {
   "cell_type": "markdown",
   "metadata": {},
   "source": [
    "[Dota2 Senate](https://leetcode.com/problems/dota2-senate/)。两阵营R和D，全员都分配了唯一的轮询攻击顺序，求问哪一队最终能胜利。\n",
    "\n",
    "思路：易得该种方式不可能产生平局，必有一方胜利。使用两循环队列来模拟攻击过程即可，注意当某成员重新加入队列时需要更新攻击顺序。"
   ]
  },
  {
   "cell_type": "code",
   "execution_count": 3,
   "metadata": {},
   "outputs": [
    {
     "data": {
      "text/plain": [
       "'Dire'"
      ]
     },
     "execution_count": 3,
     "metadata": {},
     "output_type": "execute_result"
    }
   ],
   "source": [
    "def predictPartyVictory(senate: str) -> str:\n",
    "    q_R, q_D = list(), list()\n",
    "    n = len(senate)\n",
    "\n",
    "    for idx, ch in enumerate(senate):\n",
    "        if ch == 'R':\n",
    "            q_R.append(idx)\n",
    "        else:\n",
    "            q_D.append(idx)\n",
    "\n",
    "    while q_R and q_D:\n",
    "        r, d = q_R.pop(0), q_D.pop(0)\n",
    "        if r < d:\n",
    "            q_R.append(r+n)    # 注意更新攻击顺序\n",
    "        else:\n",
    "            q_D.append(d+n)\n",
    "\n",
    "    return 'Radiant' if q_R else 'Dire'"
   ]
  },
  {
   "cell_type": "code",
   "execution_count": null,
   "metadata": {},
   "outputs": [],
   "source": []
  }
 ],
 "metadata": {
  "hide_input": false,
  "kernelspec": {
   "display_name": "Python 3",
   "language": "python",
   "name": "python3"
  },
  "language_info": {
   "codemirror_mode": {
    "name": "ipython",
    "version": 3
   },
   "file_extension": ".py",
   "mimetype": "text/x-python",
   "name": "python",
   "nbconvert_exporter": "python",
   "pygments_lexer": "ipython3",
   "version": "3.6.6"
  },
  "toc": {
   "base_numbering": 1,
   "nav_menu": {},
   "number_sections": true,
   "sideBar": true,
   "skip_h1_title": false,
   "title_cell": "Table of Contents",
   "title_sidebar": "Contents",
   "toc_cell": false,
   "toc_position": {},
   "toc_section_display": true,
   "toc_window_display": false
  }
 },
 "nbformat": 4,
 "nbformat_minor": 2
}
