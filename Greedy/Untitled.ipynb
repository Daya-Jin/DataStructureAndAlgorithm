{
 "cells": [
  {
   "cell_type": "markdown",
   "metadata": {},
   "source": [
    "[Maximum Swap](https://leetcode.com/problems/maximum-swap/)。一个数字，只允许对两位交换一次，求能得到的最大数。\n",
    "\n",
    "思路：由高位往低位扫描，如果低位最大的数字大于高位，那么就做交换。可优化的地方有两处，一是使用哈希表记录数字的每一位，二是单位数字的取值范围是$[0,9]$。难点在于数字可能重复出现在不同位，那么只将最低位的数字换到高位。"
   ]
  },
  {
   "cell_type": "code",
   "execution_count": null,
   "metadata": {},
   "outputs": [],
   "source": [
    "def maximumSwap(num: int) -> int:\n",
    "    nums = list(map(int, str(num)))\n",
    "\n",
    "    # 注意这里构造字典隐含一个技巧，同一个数字多次出现时，低位数字会覆盖高位数字\n",
    "    tabel = {num: idx for idx, num in enumerate(nums)}\n",
    "\n",
    "    for idx, cur_num in enumerate(nums):    # 遍历每一位\n",
    "        for larger in range(9, cur_num, -1):    # 比当前位大的数字\n",
    "            larger_idx = tabel.get(larger, None)\n",
    "            if larger_idx and larger_idx > idx:    # 如果大数存在且出现在低位\n",
    "                nums[larger_idx], nums[idx] = nums[idx], nums[larger_idx]\n",
    "                return int(''.join(map(str, nums)))\n",
    "\n",
    "    return num"
   ]
  },
  {
   "cell_type": "markdown",
   "metadata": {},
   "source": [
    "[Maximum Subarray](https://leetcode.com/problems/maximum-subarray/)。求数组的最大连续和。\n",
    "\n",
    "思路：贪心算法，当某一时刻的和小于$0$时，重新加。关键在于数组数字全负的情况，需要使用一个布尔变量来标记。"
   ]
  },
  {
   "cell_type": "code",
   "execution_count": null,
   "metadata": {},
   "outputs": [],
   "source": [
    "def maxSubArray(nums) -> int:\n",
    "    max_sum = nums[0]\n",
    "    cur_sum = 0\n",
    "\n",
    "    all_Neg = True\n",
    "\n",
    "    for num in nums:\n",
    "        if num > 0:\n",
    "            all_Neg = False\n",
    "\n",
    "        cur_sum += num\n",
    "        max_sum = max(max_sum, cur_sum)\n",
    "\n",
    "        if cur_sum < 0:\n",
    "            cur_sum = 0\n",
    "\n",
    "    if all_Neg:\n",
    "        return max(nums)\n",
    "\n",
    "    return max_sum"
   ]
  },
  {
   "cell_type": "markdown",
   "metadata": {},
   "source": [
    "[Array of Doubled Pairs](https://leetcode.com/problems/array-of-doubled-pairs/)。给定一个偶数大小的数组，判断该数组能否组成数字对$(num1,num2)$，使得每一对都满足$num2=2*num1$。\n",
    "\n",
    "思路：首先按照绝对值排序，由小往大取值。一个数$x$应该有一个$2x$与其成对，若$2x$不存在则返回false。另外一点就是需要对数字计数，避免重复使用。"
   ]
  },
  {
   "cell_type": "code",
   "execution_count": 2,
   "metadata": {},
   "outputs": [
    {
     "data": {
      "text/plain": [
       "True"
      ]
     },
     "execution_count": 2,
     "metadata": {},
     "output_type": "execute_result"
    }
   ],
   "source": [
    "def canReorderDoubled(A) -> bool:\n",
    "    cnt = dict()\n",
    "    for num in A:\n",
    "        cnt.setdefault(num, 0)\n",
    "        cnt[num] += 1\n",
    "\n",
    "    A.sort(key=abs)\n",
    "\n",
    "    for num in A:\n",
    "        if cnt.get(num, 0) == 0:\n",
    "            continue\n",
    "        if cnt.get(2*num, 0) == 0:\n",
    "            return False\n",
    "\n",
    "        cnt[num] -= 1\n",
    "        cnt[2*num] -= 1\n",
    "\n",
    "    return True\n",
    "\n",
    "\n",
    "canReorderDoubled([1, 2, 1, 2])"
   ]
  },
  {
   "cell_type": "code",
   "execution_count": null,
   "metadata": {},
   "outputs": [],
   "source": []
  }
 ],
 "metadata": {
  "hide_input": false,
  "kernelspec": {
   "display_name": "Python 3",
   "language": "python",
   "name": "python3"
  },
  "language_info": {
   "codemirror_mode": {
    "name": "ipython",
    "version": 3
   },
   "file_extension": ".py",
   "mimetype": "text/x-python",
   "name": "python",
   "nbconvert_exporter": "python",
   "pygments_lexer": "ipython3",
   "version": "3.6.6"
  },
  "toc": {
   "base_numbering": 1,
   "nav_menu": {},
   "number_sections": true,
   "sideBar": true,
   "skip_h1_title": false,
   "title_cell": "Table of Contents",
   "title_sidebar": "Contents",
   "toc_cell": false,
   "toc_position": {},
   "toc_section_display": true,
   "toc_window_display": false
  }
 },
 "nbformat": 4,
 "nbformat_minor": 2
}
