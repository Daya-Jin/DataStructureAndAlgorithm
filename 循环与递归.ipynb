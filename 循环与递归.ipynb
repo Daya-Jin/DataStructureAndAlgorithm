{
 "cells": [
  {
   "cell_type": "markdown",
   "metadata": {},
   "source": [
    "斐波那契数列：1，1，2，3，5，..."
   ]
  },
  {
   "cell_type": "code",
   "execution_count": 1,
   "metadata": {},
   "outputs": [
    {
     "data": {
      "text/plain": [
       "8"
      ]
     },
     "execution_count": 1,
     "metadata": {},
     "output_type": "execute_result"
    }
   ],
   "source": [
    "# 容易看出斐波那契数列只需保存两个值：前一个值跟当前值\n",
    "# 计算下一个值时将存储窗口累加并右移即可\n",
    "# pre是将被放弃的值，所以使用cur+pre覆盖pre\n",
    "# 在交换两者即可\n",
    "def fibonacci(n):\n",
    "    if n < 3:\n",
    "        return 1\n",
    "\n",
    "    pre = 1\n",
    "    cur = 1\n",
    "    for _ in range(3, n + 1):\n",
    "        pre += cur  # 当前+之前，覆盖之前\n",
    "        cur, pre = pre, cur  # 交换两者\n",
    "\n",
    "    return cur\n",
    "\n",
    "\n",
    "fibonacci(6)"
   ]
  },
  {
   "cell_type": "markdown",
   "metadata": {},
   "source": [
    "跳台阶问题。一只青蛙一次可以跳1级台阶，也可以跳2级台阶，该青蛙跳上n级台阶有多少种跳法？"
   ]
  },
  {
   "cell_type": "code",
   "execution_count": 2,
   "metadata": {},
   "outputs": [
    {
     "data": {
      "text/plain": [
       "1"
      ]
     },
     "execution_count": 2,
     "metadata": {},
     "output_type": "execute_result"
    }
   ],
   "source": [
    "# 设解为f(n)，基准情况，f(1)=1，f(2)=2\n",
    "# n>3，倒推，可以往低跳一级到f(n-1)，也可以往低跳两级到f(n-2)\n",
    "# f(n)=f(n-1)+f(n-2)\n",
    "\n",
    "def jumpFloor(n):\n",
    "    result=[1,2]\n",
    "    if n<3:\n",
    "        return result[n-1]\n",
    "    \n",
    "    pre=1\n",
    "    cur=2\n",
    "    for _ in range(3,n+1):\n",
    "        pre+=cur\n",
    "        cur,pre=pre,cur\n",
    "        \n",
    "    return cur\n",
    "\n",
    "jumpFloor(1)"
   ]
  },
  {
   "cell_type": "markdown",
   "metadata": {},
   "source": [
    "跳台阶问题。一只青蛙一次可以跳任意级台阶，该青蛙跳上n级台阶有多少种跳法？"
   ]
  },
  {
   "cell_type": "code",
   "execution_count": 3,
   "metadata": {},
   "outputs": [
    {
     "data": {
      "text/plain": [
       "4"
      ]
     },
     "execution_count": 3,
     "metadata": {},
     "output_type": "execute_result"
    }
   ],
   "source": [
    "# 设解为f(n)，基准情况，f(1)=1\n",
    "# n>2，倒推，可以往低跳一级到f(n-1)，也可以往低跳n-1级到f(1)\n",
    "# f(n)=f(n-1)+f(n-2)+…+f(1)\n",
    "# f(n-1)=f(n-2)+…+f(1)\n",
    "# 两式相减得：f(n)=2f(n-1)，等比数列f(n)=2^(n-1)\n",
    "\n",
    "def jumpFloor(n):\n",
    "    return 2**(n-1)\n",
    "\n",
    "jumpFloor(3)"
   ]
  },
  {
   "cell_type": "markdown",
   "metadata": {},
   "source": [
    "矩形填充，使用2$\\times$1的矩形填满2$\\times$8的矩形有多少种填法。"
   ]
  },
  {
   "cell_type": "code",
   "execution_count": 4,
   "metadata": {},
   "outputs": [
    {
     "data": {
      "text/plain": [
       "5"
      ]
     },
     "execution_count": 4,
     "metadata": {},
     "output_type": "execute_result"
    }
   ],
   "source": [
    "# 设解为f(8)\n",
    "# 假设竖着填充一个小矩形，会剩下2*7的空白，为f(7)\n",
    "# 假设横着填充两个小矩形，会剩下2*6的空白，为f(6)\n",
    "# f(8)=f(7)+f(6)\n",
    "\n",
    "def rectFill(n):\n",
    "    results=[1,2]\n",
    "    if n<3:\n",
    "        return results[n-1]\n",
    "    \n",
    "    pre=1\n",
    "    cur=2\n",
    "    for _ in range(3,n+1):\n",
    "        pre+=cur\n",
    "        cur,pre=pre,cur\n",
    "        \n",
    "    return cur\n",
    "\n",
    "rectFill(4)"
   ]
  },
  {
   "cell_type": "markdown",
   "metadata": {},
   "source": [
    "给定一个最大位数n，输出位数小于等于n的所有自然数。"
   ]
  },
  {
   "cell_type": "code",
   "execution_count": 5,
   "metadata": {
    "scrolled": true
   },
   "outputs": [],
   "source": [
    "def print_num(n):\n",
    "    if n < 1:\n",
    "        return None\n",
    "    num = ['0'] * n\n",
    "\n",
    "    for i in range(10):\n",
    "        num[0] = chr(ord('0') + i)        # 将最高位依次置为0-9\n",
    "        print_num_rec(num, n, 1)    # 从第二位开始递归置位\n",
    "\n",
    "\n",
    "def print_num_rec(num, n, idx):\n",
    "    if idx == n:    # 如果越界则说明所有位已设置完\n",
    "        print(''.join(num))\n",
    "    else:\n",
    "        for i in range(10):\n",
    "            num[idx] = chr(ord('0') + i)\n",
    "            print_num_rec(num, n, idx + 1)"
   ]
  },
  {
   "cell_type": "markdown",
   "metadata": {},
   "source": [
    "给定一个字符串，求字符串中字符所有可能的排列情况。"
   ]
  },
  {
   "cell_type": "code",
   "execution_count": 6,
   "metadata": {},
   "outputs": [
    {
     "data": {
      "text/plain": [
       "['abb', 'bab', 'bba']"
      ]
     },
     "execution_count": 6,
     "metadata": {},
     "output_type": "execute_result"
    }
   ],
   "source": [
    "# 思路：此题为难题，得益于Python特性使得简短代码可以完成\n",
    "# 每次固定一个位置，把该位置字符与其他所有位的字符作交换，会产生n-1种新串\n",
    "# 固定位置交换后形成的子串继续递归\n",
    "def Permutation(s):\n",
    "    if not s:\n",
    "        return []\n",
    "    if len(s)==1:\n",
    "        return [s]\n",
    "    \n",
    "    res=set()    # 去重\n",
    "    for fix_idx in range(len(s)):    # 固定位置\n",
    "        for swap_ch in Permutation(s[:fix_idx]+s[fix_idx+1:]):    # 把固定位置的前后部分拼接起来，子串继续递归\n",
    "            res.add(s[fix_idx]+swap_ch)\n",
    "    return sorted(list(res))    # 按字典序排序\n",
    "\n",
    "Permutation('abb')"
   ]
  },
  {
   "cell_type": "markdown",
   "metadata": {},
   "source": [
    "八皇后问题。8*8的棋盘上有八个皇后棋子，任一对皇后不能处于同一行、同一列及同一对角线，求所有可能的摆放方式。"
   ]
  },
  {
   "cell_type": "code",
   "execution_count": 7,
   "metadata": {
    "scrolled": true
   },
   "outputs": [
    {
     "ename": "SyntaxError",
     "evalue": "unexpected EOF while parsing (<ipython-input-7-7b5b60273587>, line 6)",
     "output_type": "error",
     "traceback": [
      "\u001b[1;36m  File \u001b[1;32m\"<ipython-input-7-7b5b60273587>\"\u001b[1;36m, line \u001b[1;32m6\u001b[0m\n\u001b[1;33m    #         print(vec)\u001b[0m\n\u001b[1;37m                        ^\u001b[0m\n\u001b[1;31mSyntaxError\u001b[0m\u001b[1;31m:\u001b[0m unexpected EOF while parsing\n"
     ]
    }
   ],
   "source": [
    "# 思路，在棋盘上只需要行列坐标即可唯一确定位置，八个皇后肯定不在同一行，只需记录每个皇后的列坐标即可\n",
    "# \n",
    "from itertools import permutations\n",
    "for vec in permutations(range(8)):\n",
    "    if (8 == len(set(vec[i]+i for i in range(8)))== len(set(vec[i]-i for i in range(8)))):\n",
    "        print(vec)"
   ]
  },
  {
   "cell_type": "markdown",
   "metadata": {},
   "source": [
    "不使用判断、循环与乘除法，实现[1,n]的累加求和。"
   ]
  },
  {
   "cell_type": "code",
   "execution_count": null,
   "metadata": {},
   "outputs": [],
   "source": [
    "# 思路：使用递归，不难写出下面的版本：\n",
    "# def Sum(n):\n",
    "#     if n==0:\n",
    "#         return 0\n",
    "#     return n+Sum(n-1)\n",
    "# 但若无法使用if关键字，需要在代码上重新设计逻辑\n",
    "# 考虑到a and b语句，若a为假，后面的语句则会被忽略，以避免不必要的计算\n",
    "# 利用这一特性，不难写出以下代码\n",
    "\n",
    "def Sum(n):\n",
    "    return n and n+Sum(n-1)    # 当n=0时递归自动终止\n",
    "\n",
    "# 还有一种方法，使用构造函数"
   ]
  },
  {
   "cell_type": "markdown",
   "metadata": {},
   "source": [
    "Generate Parentheses. 给一个括号对的数量，生成所有合法的括号组合。"
   ]
  },
  {
   "cell_type": "code",
   "execution_count": 3,
   "metadata": {},
   "outputs": [
    {
     "data": {
      "text/plain": [
       "['((()))', '(()())', '(())()', '()(())', '()()()']"
      ]
     },
     "execution_count": 3,
     "metadata": {},
     "output_type": "execute_result"
    }
   ],
   "source": [
    "# 思路：递归，类似生成树\n",
    "\n",
    "def generateParenthesis(n):\n",
    "    ans=[]\n",
    "    \n",
    "    # 递归函数，s参数为当前生成的字串，后两个参数为s中包含的左括号数与右括号数\n",
    "    def generateParenthesis_rec(generate_s='',open_bracket_num=0,close_bracket_num=0):\n",
    "        if len(generate_s)==2*n:    # 树的深度最大为2n，达到最大深度时返回\n",
    "            ans.append(generate_s)\n",
    "            return None\n",
    "        \n",
    "        # 先加左括号\n",
    "        if open_bracket_num<n:\n",
    "            generateParenthesis_rec(generate_s+'(',open_bracket_num+1,close_bracket_num)\n",
    "        # 再加右括号\n",
    "        if close_bracket_num<open_bracket_num:\n",
    "            generateParenthesis_rec(generate_s+')',open_bracket_num,close_bracket_num+1)\n",
    "            \n",
    "    generateParenthesis_rec()\n",
    "    return ans\n",
    "\n",
    "generateParenthesis(3)"
   ]
  },
  {
   "cell_type": "markdown",
   "metadata": {},
   "source": [
    "Letter Combinations of a Phone Number. 九宫格键盘能实现的字符串，给定一组数字，求出九宫格键盘按该序列能拼出的字符串。"
   ]
  },
  {
   "cell_type": "code",
   "execution_count": 7,
   "metadata": {},
   "outputs": [
    {
     "data": {
      "text/plain": [
       "['ad', 'bd', 'cd', 'ae', 'be', 'ce', 'af', 'bf', 'cf']"
      ]
     },
     "execution_count": 7,
     "metadata": {},
     "output_type": "execute_result"
    }
   ],
   "source": [
    "# 思路：注意九宫格的1是没有对应字母的，只有2-9键才对应字母\n",
    "# 首先建立一个数字-字母映射表，然后使用广度遍历或深度遍历构造字符串即可\n",
    "\n",
    "def letterCombinations(digits):\n",
    "    if not digits:\n",
    "        return []\n",
    "    \n",
    "    table=[\"\", \"\", \"abc\", \"def\", \"ghi\", \"jkl\", \"mno\", \"pqrs\", \"tuv\", \"wxyz\"]\n",
    "    res=['']\n",
    "    \n",
    "    # 广度遍历，每新按一个键，就在已有的字符串上加一个字符\n",
    "    for digit in digits:    # 对于每次的一个按键\n",
    "        tmp=[]\n",
    "        possible_ch=table[ord(digit)-ord('0')]    # 当前按键可能的字符\n",
    "        \n",
    "        for ch in possible_ch:    # 对每一个可能的字符\n",
    "            for string in res:    # 都要加到已有结果的字符串中去\n",
    "                tmp.append(string+ch)\n",
    "        \n",
    "        res=tmp\n",
    "    return res\n",
    "\n",
    "letterCombinations('23')"
   ]
  },
  {
   "cell_type": "markdown",
   "metadata": {},
   "source": [
    "Combination Sum. 给一个正数数组与一个和值sum，要求找出数组中和为sum的所有组合，数组中的数字可重复取。"
   ]
  },
  {
   "cell_type": "code",
   "execution_count": 17,
   "metadata": {},
   "outputs": [
    {
     "data": {
      "text/plain": [
       "[[]]"
      ]
     },
     "execution_count": 17,
     "metadata": {},
     "output_type": "execute_result"
    }
   ],
   "source": [
    "# 思路：递归，首先将数组排序，然后从前往后扫描\n",
    "# 因为数字可以重复利用，递归时需要原位置递归\n",
    "# 难点在于递归的逻辑\n",
    "\n",
    "\n",
    "def combinationSum(numbers, target):\n",
    "    numbers = sorted(numbers)\n",
    "\n",
    "    def combinationSum_rec(numbers, start, target):\n",
    "        # 等于零时说明number[start]是满足条件的最后一个数\n",
    "        if target == 0:\n",
    "            return [[]]\n",
    "        # 至于target<0的情况，会在下面的if中引起breake\n",
    "\n",
    "        res = []\n",
    "\n",
    "        for i in range(start, len(numbers)):    # 从前往后扫描\n",
    "            if numbers[i] > target:    # 扫描值大于目标值，可以不用扫了\n",
    "                break    # break会导致返回空res，接连导致上一层调用函数获得一个空rec_res\n",
    "\n",
    "            rec_res = combinationSum_rec(\n",
    "                numbers, i, target-numbers[i])    # 从同一位置再次尝试，因为数字可以重复取\n",
    "\n",
    "            if rec_res:    # rec_res非空代表路径可行\n",
    "                for s in rec_res:\n",
    "                    res.append(s+[numbers[i]])\n",
    "\n",
    "        return res\n",
    "\n",
    "    return combinationSum_rec(numbers, 0, target)\n",
    "\n",
    "\n",
    "combinationSum([1], 0)"
   ]
  },
  {
   "cell_type": "markdown",
   "metadata": {},
   "source": [
    "Combination Sum II. 同上题，数字不允许重复使用。"
   ]
  },
  {
   "cell_type": "code",
   "execution_count": 26,
   "metadata": {},
   "outputs": [
    {
     "data": {
      "text/plain": [
       "[[6, 1, 1], [5, 2, 1], [7, 1], [6, 2]]"
      ]
     },
     "execution_count": 26,
     "metadata": {},
     "output_type": "execute_result"
    }
   ],
   "source": [
    "def combinationSum(numbers, target):\n",
    "    numbers=sorted(numbers)\n",
    "    \n",
    "    def combinationSum_rec(numbers,start,target):\n",
    "        if target==0:\n",
    "            return [[]]\n",
    "        \n",
    "        res=[]\n",
    "        for idx in range(start,len(numbers)):    # 以start为起点扫描\n",
    "            if idx>start and numbers[idx]==numbers[idx-1]:\n",
    "                continue\n",
    "                \n",
    "            if numbers[idx]>target:\n",
    "                break\n",
    "                \n",
    "            rec_res=combinationSum_rec(numbers,idx+1,target-numbers[idx])\n",
    "            \n",
    "            if rec_res:\n",
    "                for path in rec_res:\n",
    "                    res.append(path+[numbers[idx]])\n",
    "                    \n",
    "        return res\n",
    "    \n",
    "    return combinationSum_rec(numbers,0,target)\n",
    "\n",
    "combinationSum([10,1,2,7,6,1,5], 8)"
   ]
  },
  {
   "cell_type": "markdown",
   "metadata": {},
   "source": [
    "1-bit and 2-bit Characters. 有两种特殊字符编码，第一个字符编码为'0'，第二个字符编码为'10'或'11'，给定一串二进制码，判断其译码的最后一位是否是第一个字符。输入保证合法。"
   ]
  },
  {
   "cell_type": "code",
   "execution_count": 9,
   "metadata": {},
   "outputs": [
    {
     "data": {
      "text/plain": [
       "False"
      ]
     },
     "execution_count": 9,
     "metadata": {},
     "output_type": "execute_result"
    }
   ],
   "source": [
    "# 思路：注意到两种字符编码有着非常明显的区别\n",
    "# 第一个字符只能是0，而第二个字符的首位编码只能是1\n",
    "# 因为输入保证合法，顺序扫描，碰到1时跳位，碰到0时继续扫描即可\n",
    "# 最后判断指针是否停留在最后一位上\n",
    "\n",
    "def isOneBitCharacter(bits):\n",
    "    if not bits:\n",
    "        return False\n",
    "    \n",
    "    idx=0\n",
    "    while idx < len(bits)-1:    # 不要让idx取到最后一位，因为这是判断条件\n",
    "        idx+=bits[idx]+1    # 遇0加1，遇1加2\n",
    "        \n",
    "    return idx==len(bits)-1\n",
    "\n",
    "isOneBitCharacter([1,0,1,0])"
   ]
  },
  {
   "cell_type": "markdown",
   "metadata": {},
   "source": [
    "Gray Code. 指定二进制位数，输出在该位数下的格雷码序列。"
   ]
  },
  {
   "cell_type": "code",
   "execution_count": 14,
   "metadata": {},
   "outputs": [
    {
     "data": {
      "text/plain": [
       "[0, 1, 3, 2, 6, 7, 5, 4]"
      ]
     },
     "execution_count": 14,
     "metadata": {},
     "output_type": "execute_result"
    }
   ],
   "source": [
    "# 思路：先看规律\n",
    "# n=0    [0]\n",
    "# n=1    [0,1]\n",
    "# n=2    [00,01,11,10]    \n",
    "# n=3    [000,001,011,010,110,111,101,100]\n",
    "# 观察到每下一级的格雷码可以对半分成两份，前半部分与上一级数字相同，只是在高位加'0'\n",
    "# 而后半部分则是上一级序列的逆序，然后再高位加'1'，相当于加2^(i-1)\n",
    "\n",
    "def grayCode(n):\n",
    "    res=[0]\n",
    "    \n",
    "    if n<1:\n",
    "        return res\n",
    "    \n",
    "    for i in range(n):\n",
    "        res+=[item+2**(i) for item in res[::-1]]\n",
    "        \n",
    "    return res\n",
    "\n",
    "grayCode(3)"
   ]
  },
  {
   "cell_type": "markdown",
   "metadata": {},
   "source": [
    "[Self Dividing Numbers](https://leetcode.com/problems/self-dividing-numbers/). 给定一个范围，求出范围内所有的SDN。SDN定义为能被自身中所有数字整除的数，并且SDN不允许包含0."
   ]
  },
  {
   "cell_type": "code",
   "execution_count": 11,
   "metadata": {},
   "outputs": [
    {
     "data": {
      "text/plain": [
       "[1, 2, 3, 4, 5, 6, 7, 8, 9, 11, 12, 15, 22]"
      ]
     },
     "execution_count": 11,
     "metadata": {},
     "output_type": "execute_result"
    }
   ],
   "source": [
    "# 思路：暴力，关键在于十进制中如何逐位提取数字\n",
    "\n",
    "\n",
    "def selfDividingNumbers(left, right):\n",
    "    if left > right:\n",
    "        return 0\n",
    "\n",
    "    res = list()\n",
    "    for num in range(left, right+1):\n",
    "        mask = 1\n",
    "        flag = True\n",
    "        tmp = num\n",
    "\n",
    "        while tmp:\n",
    "            bit = tmp % 10\n",
    "            # 包含0，或者无法整除都不行\n",
    "            if not bit or num % bit:\n",
    "                flag = False\n",
    "                break\n",
    "            else:\n",
    "                tmp //= 10\n",
    "\n",
    "        if flag:\n",
    "            res.append(num)\n",
    "\n",
    "    return res\n",
    "\n",
    "\n",
    "selfDividingNumbers(1, 22)"
   ]
  },
  {
   "cell_type": "code",
   "execution_count": null,
   "metadata": {},
   "outputs": [],
   "source": []
  }
 ],
 "metadata": {
  "hide_input": false,
  "kernelspec": {
   "display_name": "Python 3",
   "language": "python",
   "name": "python3"
  },
  "language_info": {
   "codemirror_mode": {
    "name": "ipython",
    "version": 3
   },
   "file_extension": ".py",
   "mimetype": "text/x-python",
   "name": "python",
   "nbconvert_exporter": "python",
   "pygments_lexer": "ipython3",
   "version": "3.6.6"
  },
  "toc": {
   "base_numbering": 1,
   "nav_menu": {},
   "number_sections": true,
   "sideBar": true,
   "skip_h1_title": false,
   "title_cell": "Table of Contents",
   "title_sidebar": "Contents",
   "toc_cell": false,
   "toc_position": {},
   "toc_section_display": true,
   "toc_window_display": false
  }
 },
 "nbformat": 4,
 "nbformat_minor": 2
}
