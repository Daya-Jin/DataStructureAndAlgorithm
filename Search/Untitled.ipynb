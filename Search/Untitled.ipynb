{
 "cells": [
  {
   "cell_type": "markdown",
   "metadata": {},
   "source": [
    "[Search a 2D Matrix II](https://leetcode.com/problems/search-a-2d-matrix-ii/)。一个二维数组每行都按从左往右递增、每列都按从上往下递增排列，实现在该二维数组中的查找。\n",
    "\n",
    "思路：易得该二维数组的最小值在左上角，最大值在右下角，使用二分搜索的话需要转换坐标。注意到可以每次去跟右上角的元素去比较，因为右上角元素是首行的最大值末列的最小值，如果key大于右上角则说明key在其下方，如果key小于右上角则说明key在其左方，依次缩小范围即可。"
   ]
  },
  {
   "cell_type": "code",
   "execution_count": 7,
   "metadata": {},
   "outputs": [
    {
     "data": {
      "text/plain": [
       "(3, 3)"
      ]
     },
     "execution_count": 7,
     "metadata": {},
     "output_type": "execute_result"
    }
   ],
   "source": [
    "def searchMatrix(self, matrix, target):\n",
    "    if not matrix or len(matrix) == 0 or len(matrix[0]) == 0:\n",
    "        return False\n",
    "\n",
    "    rows, cols = len(matrix), len(matrix[0])\n",
    "    min_row, max_col = 0, cols-1    # 初始右上角坐标\n",
    "\n",
    "    while min_row < rows and 0 <= max_col:\n",
    "        if matrix[min_row][max_col] == target:\n",
    "            return True\n",
    "        elif target > matrix[min_row][max_col]:\n",
    "            min_row += 1\n",
    "        else:\n",
    "            max_col -= 1\n",
    "\n",
    "    return False"
   ]
  },
  {
   "cell_type": "markdown",
   "metadata": {},
   "source": [
    "在存在主元素的无序数组中寻找主元素，主元素即出现次数超过数组长度一半的元素。\n",
    "\n",
    "思路：如果为每一个元素赋一个1的计数，那么主元素的总计数肯定大于n//2，假设主元素的权值为+1，其他元素的权值全为-1，则线性扫描数组后总权值还是大于0的。只需在扫描时维护一个权值大于0的元素即可。"
   ]
  },
  {
   "cell_type": "code",
   "execution_count": 14,
   "metadata": {},
   "outputs": [
    {
     "data": {
      "text/plain": [
       "0"
      ]
     },
     "execution_count": 14,
     "metadata": {},
     "output_type": "execute_result"
    }
   ],
   "source": [
    "def MoreThanHalfNum(arr):\n",
    "    if not arr:\n",
    "        return None\n",
    "    if len(arr) == 1:\n",
    "        return arr[0]\n",
    "\n",
    "    cand = arr[0]\n",
    "    w = 1\n",
    "\n",
    "    for i in range(1, len(arr)):\n",
    "        if arr[i] == cand:    # 相等时权值+1\n",
    "            w += 1\n",
    "        else:\n",
    "            if w == 0:    # 权值为0时更新候选值\n",
    "                cand = arr[i]\n",
    "            else:\n",
    "                w -= 1    # 权值大于1时-1\n",
    "\n",
    "    return cand"
   ]
  },
  {
   "cell_type": "markdown",
   "metadata": {},
   "source": [
    "[Merge Intervals](https://leetcode.com/problems/merge-intervals/)。给出一定数量的区间，要求合并有重叠部分的区间。\n",
    "\n",
    "思路：首先考虑如何判定区间之间有重叠，两个区间inter1与inter2，如果$inter2[0]<=inter1[1]$时有重叠，即第二个区间的起点要小于第一个区间的终点。首要任务就是对这些区间进行排序，然后遍历区间，比较cur的起点与pre的终点。"
   ]
  },
  {
   "cell_type": "code",
   "execution_count": null,
   "metadata": {},
   "outputs": [],
   "source": [
    "def merge(intervals):\n",
    "    if not intervals:\n",
    "        return intervals\n",
    "\n",
    "    intervals.sort(key=lambda x: x[0])    # 按起点排序\n",
    "    res = [intervals[0]]\n",
    "\n",
    "    # 有重叠则更新res中的最后一个区间，无重叠则追加区间\n",
    "    for inter in intervals:\n",
    "        if inter[0] <= res[-1][1]:\n",
    "            res[-1][1] = max(res[-1][1], inter[1])\n",
    "        else:\n",
    "            res.append(inter)\n",
    "\n",
    "    return res"
   ]
  }
 ],
 "metadata": {
  "hide_input": false,
  "kernelspec": {
   "display_name": "Python 3",
   "language": "python",
   "name": "python3"
  },
  "language_info": {
   "codemirror_mode": {
    "name": "ipython",
    "version": 3
   },
   "file_extension": ".py",
   "mimetype": "text/x-python",
   "name": "python",
   "nbconvert_exporter": "python",
   "pygments_lexer": "ipython3",
   "version": "3.6.6"
  },
  "toc": {
   "base_numbering": 1,
   "nav_menu": {},
   "number_sections": true,
   "sideBar": true,
   "skip_h1_title": false,
   "title_cell": "Table of Contents",
   "title_sidebar": "Contents",
   "toc_cell": false,
   "toc_position": {},
   "toc_section_display": true,
   "toc_window_display": false
  }
 },
 "nbformat": 4,
 "nbformat_minor": 2
}
