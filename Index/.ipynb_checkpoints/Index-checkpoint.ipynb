{
 "cells": [
  {
   "cell_type": "markdown",
   "metadata": {},
   "source": [
    "一个长度为$n$的数组，其数字范围为$[0,n-1]$，判断其中是否有重复数字。\n",
    "\n",
    "思路：长度固定，数字范围固定，假若该数组没有重复数字，那么该数组排序后的元素与其idx肯定是对应的。所以可以用索引排序来判断是否有重复数字。从前往后遍历数组，若idx==val，则说明该元素在其该在的位置上，否则将该元素移动到其该在的位置上去，就在这一步判断是否有重复数字。"
   ]
  },
  {
   "cell_type": "code",
   "execution_count": 3,
   "metadata": {},
   "outputs": [],
   "source": [
    "def is_duplicate(arr):\n",
    "    for idx in range(len(arr)):\n",
    "        while idx != arr[idx]:    # 不在正确的位置上\n",
    "            val = arr[idx]\n",
    "            if arr[val] == arr[idx]:    # 如果元素对应位置上的值等于idx的值则有重复\n",
    "                return True\n",
    "            else:\n",
    "                arr[idx], arr[val] = arr[val], arr[idx]\n",
    "\n",
    "    return False"
   ]
  },
  {
   "cell_type": "code",
   "execution_count": null,
   "metadata": {},
   "outputs": [],
   "source": []
  }
 ],
 "metadata": {
  "hide_input": false,
  "kernelspec": {
   "display_name": "Python 3",
   "language": "python",
   "name": "python3"
  },
  "language_info": {
   "codemirror_mode": {
    "name": "ipython",
    "version": 3
   },
   "file_extension": ".py",
   "mimetype": "text/x-python",
   "name": "python",
   "nbconvert_exporter": "python",
   "pygments_lexer": "ipython3",
   "version": "3.6.6"
  },
  "toc": {
   "base_numbering": 1,
   "nav_menu": {},
   "number_sections": true,
   "sideBar": true,
   "skip_h1_title": false,
   "title_cell": "Table of Contents",
   "title_sidebar": "Contents",
   "toc_cell": false,
   "toc_position": {},
   "toc_section_display": true,
   "toc_window_display": false
  }
 },
 "nbformat": 4,
 "nbformat_minor": 2
}
