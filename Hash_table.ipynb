{
 "cells": [
  {
   "cell_type": "markdown",
   "metadata": {},
   "source": [
    "[4Sum II](https://leetcode.com/problems/4sum-ii/)。给定四个数组，求从四个数组中各取一个数，其和为0的组合有多少种。"
   ]
  },
  {
   "cell_type": "code",
   "execution_count": null,
   "metadata": {},
   "outputs": [],
   "source": [
    "# 思路，建立哈希表，存储前两个数的和，时间复杂度为平方\n",
    "# 在哈希表中查找键值等于后两个数负数和的次数，时间复杂度为平方\n",
    "# 空间复杂度为n\n",
    "\n",
    "def fourSumCount(self, A: List[int], B: List[int], C: List[int], D: List[int]) -> int:\n",
    "    table=dict()\n",
    "    for a in A:\n",
    "        for b in B:\n",
    "            table[a+b]=table.get(a+b,0)+1\n",
    "            \n",
    "    res=0\n",
    "    for c in C:\n",
    "        for d in D:\n",
    "            res+=table.get(-c-d,0)\n",
    "    \n",
    "    return res"
   ]
  }
 ],
 "metadata": {
  "hide_input": false,
  "kernelspec": {
   "display_name": "Python 3",
   "language": "python",
   "name": "python3"
  },
  "language_info": {
   "codemirror_mode": {
    "name": "ipython",
    "version": 3
   },
   "file_extension": ".py",
   "mimetype": "text/x-python",
   "name": "python",
   "nbconvert_exporter": "python",
   "pygments_lexer": "ipython3",
   "version": "3.6.6"
  },
  "toc": {
   "base_numbering": 1,
   "nav_menu": {},
   "number_sections": true,
   "sideBar": true,
   "skip_h1_title": false,
   "title_cell": "Table of Contents",
   "title_sidebar": "Contents",
   "toc_cell": false,
   "toc_position": {},
   "toc_section_display": true,
   "toc_window_display": false
  }
 },
 "nbformat": 4,
 "nbformat_minor": 2
}
