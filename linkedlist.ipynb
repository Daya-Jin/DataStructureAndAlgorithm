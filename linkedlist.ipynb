{
 "cells": [
  {
   "cell_type": "markdown",
   "metadata": {},
   "source": [
    "给定一个链表头节点，反向输出这个链表。"
   ]
  },
  {
   "cell_type": "code",
   "execution_count": 8,
   "metadata": {},
   "outputs": [
    {
     "name": "stdout",
     "output_type": "stream",
     "text": [
      "3\t2\t1\t"
     ]
    }
   ],
   "source": [
    "class ListNode:\n",
    "    def __init__(self, x):\n",
    "        self.val = x\n",
    "        self.next = None\n",
    "\n",
    "\n",
    "node1 = ListNode(1)\n",
    "node2 = ListNode(2)\n",
    "node3 = ListNode(3)\n",
    "node1.next = node2\n",
    "node2.next = node3\n",
    "\n",
    "\n",
    "# # 头插法\n",
    "def reverse_out(list_node):\n",
    "    l = list()\n",
    "    while list_node:\n",
    "        l.insert(0, list_node.val)\n",
    "        list_node = list_node.next\n",
    "    return l\n",
    "\n",
    "\n",
    "# 递归法\n",
    "# def reverse_out(list_node):\n",
    "#     if list_node==None:\n",
    "#         return None\n",
    "#     elif list_node.next!=None:\n",
    "#         reverse_out(list_node.next)\n",
    "#     print(list_node.val,end='\\t')\n",
    "\n",
    "reverse_out(node1)"
   ]
  },
  {
   "cell_type": "markdown",
   "metadata": {},
   "source": [
    "给一个单链表与一个节点指针，删除该节点。"
   ]
  },
  {
   "cell_type": "code",
   "execution_count": 6,
   "metadata": {},
   "outputs": [],
   "source": [
    "# 将该节点的下一个节点内容覆盖当前节点，再删除下一个节点\n",
    "# 需要满足的条件 1. 存在下一个节点；2. 所给节点存在于链表中\n",
    "class ListNode:\n",
    "    def __init__(self, x):\n",
    "        self.val = x\n",
    "        self.next = None\n",
    "        \n",
    "def del_node(head, cur_node):\n",
    "    if head is None or cur_node is None:\n",
    "        return None\n",
    "    \n",
    "    if cur_node.next is not None:  # 给出的节点存在后继节点\n",
    "        tmp=cur_node.next\n",
    "        cur_node.val=cur_node.next.val\n",
    "        cur_node.next=cur_node.next.next\n",
    "        del tmp\n",
    "        \n",
    "    elif id(head)==id(cur_node):  # 无后继节点且为单节点链表\n",
    "        del cur_node\n",
    "        head=None\n",
    "    else:    # 无后继节点且链表不止一个节点，则说明所给节点为尾节点\n",
    "        index=head\n",
    "        while id(index.next)!=id(cur_node):\n",
    "            index=index.next\n",
    "        index.next=None\n",
    "        del cur_node\n",
    "        \n"
   ]
  },
  {
   "cell_type": "markdown",
   "metadata": {},
   "source": [
    "给定一个有序链表，删除该链表中重复过的元素(保留一份副本)。"
   ]
  },
  {
   "cell_type": "code",
   "execution_count": 3,
   "metadata": {},
   "outputs": [],
   "source": [
    "class ListNode:\n",
    "    def __init__(self, x):\n",
    "        self.val = x\n",
    "        self.next = None\n",
    "        \n",
    "def deleteDuplication(headnode):\n",
    "    if headnode is None or headnode.next is None:    # 空链表或单节点链表\n",
    "        return headnode\n",
    "    \n",
    "    cur=headnode\n",
    "    \n",
    "    while cur and cur.next:  # 存在当前节点与下一节点\n",
    "        if cur.val==cur.next.val:  # cur==next，可以删除next\n",
    "            tmp=cur.next.next\n",
    "            del cur.next\n",
    "            cur.next=tmp\n",
    "        else:  # 否则工作指针后移\n",
    "            cur=cur.next\n",
    "    return headnode"
   ]
  },
  {
   "cell_type": "markdown",
   "metadata": {},
   "source": [
    "给定一个有序链表，删除该链表中重复过的元素(不保留副本)。"
   ]
  },
  {
   "cell_type": "code",
   "execution_count": null,
   "metadata": {},
   "outputs": [],
   "source": [
    "class ListNode:\n",
    "    def __init__(self, x):\n",
    "        self.val = x\n",
    "        self.next = None\n",
    "\n",
    "\n",
    "# 设立三个指针，head，pre，cur，分别为头指针，最后一个非重复元素，工作指针\n",
    "# 注意始终保持pre->cur的链接\n",
    "def deleteDuplication(headnode):\n",
    "    if headnode is None or headnode.next is None:  # 空链表或单节点链表\n",
    "        return headnode\n",
    "\n",
    "    pre = None\n",
    "    cur = headnode  # 工作指针从头指针之前开始\n",
    "\n",
    "    while cur:  # 节点非空\n",
    "        if cur.next and cur.val == cur.next.val:  # 如果当前跟后继重复\n",
    "            dump = cur.val\n",
    "            while cur and cur.val == dump:  # 跳过所有等于重复值的节点\n",
    "                if pre is None:  # 头结点重复\n",
    "                    cur = cur.next\n",
    "                    headnode = cur\n",
    "                else:  # 中间节点重复\n",
    "                    cur = cur.next\n",
    "                    pre.next = cur\n",
    "        else:  # 当前节点未重复\n",
    "            pre = cur\n",
    "            cur = cur.next\n",
    "\n",
    "    return headnode"
   ]
  },
  {
   "cell_type": "markdown",
   "metadata": {},
   "source": [
    "给定一个单向链表，求倒数第k个节点。"
   ]
  },
  {
   "cell_type": "code",
   "execution_count": null,
   "metadata": {},
   "outputs": [],
   "source": [
    "class ListNode:\n",
    "    def __init__(self, x):\n",
    "        self.val = x\n",
    "        self.next = None\n",
    "\n",
    "\n",
    "# 双指针，其中一个指针先移动k-1步，然后双指针同时移动\n",
    "def find_kth_to_tail(headnode, k):\n",
    "    if headnode is None or k == 0:\n",
    "        return None\n",
    "    ahead = headnode\n",
    "\n",
    "    for _ in range(k - 1):\n",
    "        if ahead.next:  # 随时检查越界\n",
    "            ahead = ahead.next\n",
    "        else:\n",
    "            return None\n",
    "\n",
    "    behind = headnode\n",
    "    while ahead.next:\n",
    "        ahead = ahead.next\n",
    "        behind = behind.next\n",
    "\n",
    "    return behind"
   ]
  },
  {
   "cell_type": "markdown",
   "metadata": {},
   "source": [
    "给定一个无重复值的单链表，输出链表中环的入口节点。无环则返回None。\n",
    "\n",
    "推导：\n",
    "设环之前的长度为a，环的长度为c，相遇点在前进方向上距环入口的距离为b。可以证明$a=b$。假设双指针相遇时，快指针已经完整绕环走了m圈，其走过的距离为$$S_{fast}=a+m{\\times}c+c-b$$\n",
    "慢指针完整绕环走了n圈，其走过的距离为$$S_{slow}=a+n{\\times}c+c-b$$\n",
    "有$S_{fast}=2S_{slow}$，得$$a=(m-2n-1)c+b$$"
   ]
  },
  {
   "cell_type": "code",
   "execution_count": null,
   "metadata": {},
   "outputs": [],
   "source": [
    "class ListNode:\n",
    "    def __init__(self, x):\n",
    "        self.val = x\n",
    "        self.next = None\n",
    "\n",
    "\n",
    "# 首先判断链表中是否有环，有环的情况下再找环的入口。\n",
    "# 设立双指针，步长分别为1和2，若有环两指针一定会相遇；\n",
    "# 特别地，相遇点与头指针离环入口的距离相等。\n",
    "def has_cricle(head_node):\n",
    "    p_slow = head_node\n",
    "    p_fast = head_node\n",
    "    while p_fast and p_fast.next:  # 当快指针指向的节点存在且存在后继节点\n",
    "        # 移动双指针\n",
    "        p_slow = p_slow.next\n",
    "        p_fast = p_fast.next.next\n",
    "\n",
    "        if p_slow == p_fast:  # 找到相遇点\n",
    "            p_fast = head_node  # 将其中一个指针指向头结点\n",
    "            while p_slow != p_fast:\n",
    "                p_slow = p_slow.next\n",
    "                p_fast = p_fast.next\n",
    "            return p_slow\n",
    "    return None"
   ]
  },
  {
   "cell_type": "markdown",
   "metadata": {},
   "source": [
    "反转链表。"
   ]
  },
  {
   "cell_type": "code",
   "execution_count": null,
   "metadata": {},
   "outputs": [],
   "source": [
    "class ListNode:\n",
    "    def __init__(self, x):\n",
    "        self.val = x\n",
    "        self.next = None\n",
    "\n",
    "\n",
    "# 需要维护三个指针，工作指针，指向上次反转的节点，当前节点的下一个节点\n",
    "def reverse_list(head_node):\n",
    "    if head_node is None or head_node.next is None:  # 空链表或单节点链表\n",
    "        return head_node\n",
    "\n",
    "    pre = None\n",
    "    cur = head_node\n",
    "\n",
    "    while cur:\n",
    "        sub = cur.next  # 保存后继节点位置\n",
    "        cur.next = pre  # 反转\n",
    "        pre = cur  # pre指针前进\n",
    "        cur = sub  # cur指针前进\n",
    "    return pre"
   ]
  },
  {
   "cell_type": "markdown",
   "metadata": {},
   "source": [
    "合并两有序链表。"
   ]
  },
  {
   "cell_type": "code",
   "execution_count": null,
   "metadata": {},
   "outputs": [],
   "source": [
    "class ListNode:\n",
    "    def __init__(self, x):\n",
    "        self.val = x\n",
    "        self.next = None\n",
    "        \n",
    "# 逐个比较两链表中头结点的大小，优者链接到新链表中。\n",
    "def merge_order_lists(head_node1,head_node2):\n",
    "    idx=ListNode(None)\n",
    "    tmp=idx\n",
    "    while head_node1 and head_node2:\n",
    "        if head_node1.val<head_node2.val:\n",
    "            idx.next=head_node1\n",
    "            head_node1=head_node1.next\n",
    "        else:\n",
    "            idx.next=head_node2\n",
    "            head_node2=head_node2.next\n",
    "        idx=idx.next\n",
    "        \n",
    "    if head_node1:\n",
    "        idx.next=head_node1\n",
    "    elif head_node2:\n",
    "        idx.next=head_node2\n",
    "        \n",
    "    return tmp.next"
   ]
  }
 ],
 "metadata": {
  "kernelspec": {
   "display_name": "Python 3",
   "language": "python",
   "name": "python3"
  },
  "language_info": {
   "codemirror_mode": {
    "name": "ipython",
    "version": 3
   },
   "file_extension": ".py",
   "mimetype": "text/x-python",
   "name": "python",
   "nbconvert_exporter": "python",
   "pygments_lexer": "ipython3",
   "version": "3.6.6"
  }
 },
 "nbformat": 4,
 "nbformat_minor": 2
}
