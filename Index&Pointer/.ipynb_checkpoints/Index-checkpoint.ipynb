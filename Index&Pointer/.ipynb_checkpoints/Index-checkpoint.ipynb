{
 "cells": [
  {
   "cell_type": "markdown",
   "metadata": {},
   "source": [
    "一个长度为$n$的数组，其数字范围为$[0,n-1]$，判断其中是否有重复数字。\n",
    "\n",
    "思路：长度固定，数字范围固定，假若该数组没有重复数字，那么该数组排序后的元素与其idx肯定是对应的。所以可以用索引排序来判断是否有重复数字。从前往后遍历数组，若idx==val，则说明该元素在其该在的位置上，否则将该元素移动到其该在的位置上去，就在这一步判断是否有重复数字。"
   ]
  },
  {
   "cell_type": "code",
   "execution_count": 3,
   "metadata": {},
   "outputs": [],
   "source": [
    "def is_duplicate(arr):\n",
    "    for idx in range(len(arr)):\n",
    "        while idx != arr[idx]:    # 不在正确的位置上\n",
    "            val = arr[idx]\n",
    "            if arr[val] == arr[idx]:    # 如果元素对应位置上的值等于idx的值则有重复\n",
    "                return True\n",
    "            else:\n",
    "                arr[idx], arr[val] = arr[val], arr[idx]\n",
    "\n",
    "    return False"
   ]
  },
  {
   "cell_type": "markdown",
   "metadata": {},
   "source": [
    "[Trapping Rain Water](https://leetcode.com/problems/trapping-rain-water/)。给定一数组表示数轴上的地势高度，求该地势在雨后的盛水量。\n",
    "\n",
    "思路：该地势中某一位置的蓄水量取决于其左右最高地势的低值与该位置的地势高度差，即$min(left\\_max,right\\_max)-cur\\_h$，但是对于每个位置去找到$left\\_max$与$right\\_max$有平方复杂度，可使用双指针法优化。设左右边界双指针，左右指针往中间扫描，并设立两个变量记录左右两边出现过的最高地势。当左指针地势低于右指针地势时，说明左指针地势有可能蓄水，蓄水量为$left\\_max-cur\\_h$，反之同理。"
   ]
  },
  {
   "cell_type": "code",
   "execution_count": null,
   "metadata": {},
   "outputs": [],
   "source": [
    "def trap(height) -> int:\n",
    "    left, right = 0, len(height)-1\n",
    "    left_max, right_max = 0, 0\n",
    "    res = 0\n",
    "\n",
    "    while left < right:\n",
    "        if height[left] < height[right]:\n",
    "            left_max = max(height[left], left_max)\n",
    "            res += left_max-height[left]\n",
    "            left += 1\n",
    "        else:\n",
    "            right_max = max(height[right], right_max)\n",
    "            res += right_max-height[right]\n",
    "            right -= 1\n",
    "\n",
    "    return res"
   ]
  },
  {
   "cell_type": "markdown",
   "metadata": {},
   "source": [
    "[Longest Common Prefix](https://leetcode.com/problems/longest-common-prefix/)。给定几个字串，找出它们的最长公共前缀。\n",
    "\n",
    "思路：最长公共前缀的长度肯定为各字串的最短长度，以第一个字串为模版逐位比较即可。"
   ]
  },
  {
   "cell_type": "code",
   "execution_count": null,
   "metadata": {},
   "outputs": [],
   "source": [
    "def longestCommonPrefix(strs: List[str]) -> str:\n",
    "    res = ''\n",
    "    if not strs:\n",
    "        return res\n",
    "\n",
    "    max_len = min(list(map(len, strs)))\n",
    "    s_len = len(strs)\n",
    "\n",
    "    for idx in range(max_len):\n",
    "        base = strs[0][idx]\n",
    "\n",
    "        for s_idx in range(1, s_len):\n",
    "            if strs[s_idx][idx] != base:\n",
    "                return res\n",
    "\n",
    "        res += base\n",
    "\n",
    "    return res"
   ]
  },
  {
   "cell_type": "markdown",
   "metadata": {},
   "source": [
    "[Two Sum II - Input array is sorted](https://leetcode.com/problems/two-sum-ii-input-array-is-sorted/)。在有序数组中找到和为指定值的两个数。\n",
    "\n",
    "思路：首尾双指针"
   ]
  },
  {
   "cell_type": "code",
   "execution_count": 3,
   "metadata": {},
   "outputs": [
    {
     "data": {
      "text/plain": [
       "[]"
      ]
     },
     "execution_count": 3,
     "metadata": {},
     "output_type": "execute_result"
    }
   ],
   "source": [
    "def twoSum(numbers, target: int):\n",
    "    if len(numbers) < 2:\n",
    "        return list()\n",
    "\n",
    "    p1, p2 = 0, len(numbers)-1\n",
    "    while p1 < p2:\n",
    "        cur_sum = numbers[p1]+numbers[p2]\n",
    "        if cur_sum == target:\n",
    "            return [p1, p2]\n",
    "        elif cur_sum < target:\n",
    "            p1 += 1\n",
    "        else:\n",
    "            p2 -= 1\n",
    "    return list()"
   ]
  },
  {
   "cell_type": "markdown",
   "metadata": {},
   "source": [
    "[Count and Say](https://leetcode.com/problems/count-and-say/)。假定初始数字为$1$，其读法为$1$个$1$，写成$11$；$11$读作$2$个$1$，写成$21$；...。求第$n$个数字。\n",
    "\n",
    "思路：计数。"
   ]
  },
  {
   "cell_type": "code",
   "execution_count": 12,
   "metadata": {},
   "outputs": [
    {
     "data": {
      "text/plain": [
       "'1'"
      ]
     },
     "execution_count": 12,
     "metadata": {},
     "output_type": "execute_result"
    }
   ],
   "source": [
    "def countAndSay(n: int) -> str:\n",
    "    if n < 1:\n",
    "        return ''\n",
    "\n",
    "    res = '1'\n",
    "    for i in range(n-1):    # n是从1开始计数的\n",
    "        num = res[0]\n",
    "        cnt = 0\n",
    "        cur_res = ''\n",
    "        for idx in range(len(res)):\n",
    "            if res[idx] == num:\n",
    "                cnt += 1\n",
    "            else:\n",
    "                cur_res += str(cnt)+num\n",
    "                num = res[idx]\n",
    "                cnt = 1\n",
    "\n",
    "        cur_res += str(cnt)+num\n",
    "        res = cur_res\n",
    "\n",
    "    return res"
   ]
  },
  {
   "cell_type": "markdown",
   "metadata": {},
   "source": [
    "[Circular Array Loop](https://leetcode.com/problems/circular-array-loop/)。给定一数组，假设其循环，每一个数字代表所走的步数，假设只能往前走或只能往后走，且环的长度需要大于$1$，求该数组中是否有环。\n",
    "\n",
    "思路：双指针，难点在于需要判断下一步的idx；另外还需要注意，环路不一定存在与$0$下标，需要尝试所有可能的起点。"
   ]
  },
  {
   "cell_type": "code",
   "execution_count": 7,
   "metadata": {},
   "outputs": [
    {
     "data": {
      "text/plain": [
       "False"
      ]
     },
     "execution_count": 7,
     "metadata": {},
     "output_type": "execute_result"
    }
   ],
   "source": [
    "def circularArrayLoop(nums) -> bool:\n",
    "    if not nums or len(nums) < 2:\n",
    "        return False\n",
    "\n",
    "    n = len(nums)\n",
    "\n",
    "    def next_idx(cur_idx):\n",
    "        '''\n",
    "        得到下一个idx，正负数同处理\n",
    "        '''\n",
    "        return (cur_idx+nums[cur_idx]+n) % n\n",
    "\n",
    "    for start in range(n):    # 尝试所有可能的起点\n",
    "        slow, fast = start, next_idx(start)\n",
    "\n",
    "        while nums[fast]*nums[next_idx(fast)] > 0 and nums[next_idx(fast)]*nums[next_idx(next_idx(fast))] > 0:\n",
    "            slow = next_idx(slow)\n",
    "            fast = next_idx(next_idx(fast))\n",
    "            if slow == fast:\n",
    "                if slow == next_idx(slow):    # 排除单点循环\n",
    "                    break\n",
    "                return True\n",
    "\n",
    "    return False\n",
    "\n",
    "\n",
    "circularArrayLoop([-2, 1, -1, -2, -2])"
   ]
  },
  {
   "cell_type": "code",
   "execution_count": null,
   "metadata": {},
   "outputs": [],
   "source": []
  }
 ],
 "metadata": {
  "hide_input": false,
  "kernelspec": {
   "display_name": "Python 3",
   "language": "python",
   "name": "python3"
  },
  "language_info": {
   "codemirror_mode": {
    "name": "ipython",
    "version": 3
   },
   "file_extension": ".py",
   "mimetype": "text/x-python",
   "name": "python",
   "nbconvert_exporter": "python",
   "pygments_lexer": "ipython3",
   "version": "3.6.6"
  },
  "toc": {
   "base_numbering": 1,
   "nav_menu": {},
   "number_sections": true,
   "sideBar": true,
   "skip_h1_title": false,
   "title_cell": "Table of Contents",
   "title_sidebar": "Contents",
   "toc_cell": false,
   "toc_position": {},
   "toc_section_display": true,
   "toc_window_display": false
  }
 },
 "nbformat": 4,
 "nbformat_minor": 2
}
