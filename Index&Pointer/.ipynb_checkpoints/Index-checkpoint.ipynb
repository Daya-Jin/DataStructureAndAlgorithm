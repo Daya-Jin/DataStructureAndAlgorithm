{
 "cells": [
  {
   "cell_type": "markdown",
   "metadata": {},
   "source": [
    "一个长度为$n$的数组，其数字范围为$[0,n-1]$，判断其中是否有重复数字。\n",
    "\n",
    "思路：长度固定，数字范围固定，假若该数组没有重复数字，那么该数组排序后的元素与其idx肯定是对应的。所以可以用索引排序来判断是否有重复数字。从前往后遍历数组，若idx==val，则说明该元素在其该在的位置上，否则将该元素移动到其该在的位置上去，就在这一步判断是否有重复数字。"
   ]
  },
  {
   "cell_type": "code",
   "execution_count": 3,
   "metadata": {},
   "outputs": [],
   "source": [
    "def is_duplicate(arr):\n",
    "    for idx in range(len(arr)):\n",
    "        while idx != arr[idx]:    # 不在正确的位置上\n",
    "            val = arr[idx]\n",
    "            if arr[val] == arr[idx]:    # 如果元素对应位置上的值等于idx的值则有重复\n",
    "                return True\n",
    "            else:\n",
    "                arr[idx], arr[val] = arr[val], arr[idx]\n",
    "\n",
    "    return False"
   ]
  },
  {
   "cell_type": "markdown",
   "metadata": {},
   "source": [
    "[Trapping Rain Water](https://leetcode.com/problems/trapping-rain-water/)。给定一数组表示数轴上的地势高度，求该地势在雨后的盛水量。\n",
    "\n",
    "思路：该地势中某一位置的蓄水量取决于其左右最高地势的低值与该位置的地势高度差，即$min(left\\_max,right\\_max)-cur\\_h$，但是对于每个位置去找到$left\\_max$与$right\\_max$有平方复杂度，可使用双指针法优化。设左右边界双指针，左右指针往中间扫描，并设立两个变量记录左右两边出现过的最高地势。当左指针地势低于右指针地势时，说明左指针地势有可能蓄水，蓄水量为$left\\_max-cur\\_h$，反之同理。"
   ]
  },
  {
   "cell_type": "code",
   "execution_count": null,
   "metadata": {},
   "outputs": [],
   "source": [
    "def trap(height) -> int:\n",
    "    left, right = 0, len(height)-1\n",
    "    left_max, right_max = 0, 0\n",
    "    res = 0\n",
    "\n",
    "    while left < right:\n",
    "        if height[left] < height[right]:\n",
    "            left_max = max(height[left], left_max)\n",
    "            res += left_max-height[left]\n",
    "            left += 1\n",
    "        else:\n",
    "            right_max = max(height[right], right_max)\n",
    "            res += right_max-height[right]\n",
    "            right -= 1\n",
    "\n",
    "    return res"
   ]
  }
 ],
 "metadata": {
  "hide_input": false,
  "kernelspec": {
   "display_name": "Python 3",
   "language": "python",
   "name": "python3"
  },
  "language_info": {
   "codemirror_mode": {
    "name": "ipython",
    "version": 3
   },
   "file_extension": ".py",
   "mimetype": "text/x-python",
   "name": "python",
   "nbconvert_exporter": "python",
   "pygments_lexer": "ipython3",
   "version": "3.6.6"
  },
  "toc": {
   "base_numbering": 1,
   "nav_menu": {},
   "number_sections": true,
   "sideBar": true,
   "skip_h1_title": false,
   "title_cell": "Table of Contents",
   "title_sidebar": "Contents",
   "toc_cell": false,
   "toc_position": {},
   "toc_section_display": true,
   "toc_window_display": false
  }
 },
 "nbformat": 4,
 "nbformat_minor": 2
}
