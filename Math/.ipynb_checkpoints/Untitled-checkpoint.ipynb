{
 "cells": [
  {
   "cell_type": "markdown",
   "metadata": {},
   "source": [
    "[Fraction to Recurring Decimal](https://leetcode.com/problems/fraction-to-recurring-decimal/)。将分数转换成小数形式，当出现循环小数时，将循环部分加上括号。\n",
    "\n",
    "思路：首先明确分数中分子为除数，分母为被除数。手动做一下除法就不难发现，当某一次的余数在之前出现过时，肯定就会出现循环小数，所以该题解法是先正常的做除法，并记录每一次余数出现的位置，当余数重复时即出现循环小数。"
   ]
  },
  {
   "cell_type": "code",
   "execution_count": 1,
   "metadata": {},
   "outputs": [],
   "source": [
    "def fractionToDecimal(numerator: int, denominator: int) -> str:\n",
    "    res = ''\n",
    "\n",
    "    # 首先判断符号\n",
    "    if numerator*denominator < 0:\n",
    "        res += '-'\n",
    "\n",
    "    numerator, denominator = abs(numerator), abs(denominator)\n",
    "    integer, remainder = divmod(numerator, denominator)    # 商，余数\n",
    "    res += str(integer)     # 整数位\n",
    "\n",
    "    if remainder:    # 只要余数不为零说明存在小数部分\n",
    "        res += '.'\n",
    "        remainders = dict()    # 从小数部分开始记录余数\n",
    "\n",
    "        while remainder:\n",
    "            if remainder not in remainders:\n",
    "                remainders[remainder] = len(res)    # 记录余数出现的位置\n",
    "                integer, remainder = divmod(remainder*10, denominator)\n",
    "                res += str(integer)\n",
    "            else:\n",
    "                idx = remainders[remainder]    # 找到上次位置\n",
    "                res = res[:idx]+'('+res[idx:]+')'    # 重复区域\n",
    "                return res\n",
    "\n",
    "    return res"
   ]
  },
  {
   "cell_type": "markdown",
   "metadata": {},
   "source": [
    "[Excel Sheet Column Number](https://leetcode.com/problems/excel-sheet-column-number/)。在Excel中列号是以字母来表示的，给定一个字母表示的列号，求出其数字形式。\n",
    "\n",
    "思路：该题实质就是26进制转10进制。"
   ]
  },
  {
   "cell_type": "code",
   "execution_count": 24,
   "metadata": {},
   "outputs": [
    {
     "data": {
      "text/plain": [
       "27"
      ]
     },
     "execution_count": 24,
     "metadata": {},
     "output_type": "execute_result"
    }
   ],
   "source": [
    "def titleToNumber(s: str) -> int:\n",
    "    tabel = {chr(idx+65): idx+1 for idx in range(26)}\n",
    "\n",
    "    res = 0\n",
    "    s_len = len(s)\n",
    "    for idx in range(len(s)):\n",
    "        res += tabel[s[idx]]*26**(s_len-1-idx)\n",
    "    return res"
   ]
  },
  {
   "cell_type": "markdown",
   "metadata": {},
   "source": [
    "[Permutations](https://leetcode.com/problems/permutations/)。全排列。\n",
    "\n",
    "思路：第一个答案肯定是原数组，对第一个答案的首元素进行循环交换得到第二组答案；再对所有答案的第二个元素进行循环交换；再对所有答案的第三个元素进行循环交换...。注意不要重复交换即可。"
   ]
  },
  {
   "cell_type": "code",
   "execution_count": null,
   "metadata": {},
   "outputs": [],
   "source": [
    "def permute(self, nums: List[int]) -> List[List[int]]:\n",
    "    def swap(nums, i, j):\n",
    "        tmp = nums[:]    # 使用副本，不要改变原数组\n",
    "        tmp[i], tmp[j] = tmp[j], tmp[i]\n",
    "        return tmp\n",
    "\n",
    "    res = [nums]\n",
    "    for i in range(len(nums)-1):\n",
    "        for ans in res[:]:    # 使用副本\n",
    "            for j in range(i+1, len(nums)):\n",
    "                res.append(swap(ans, i, j))\n",
    "    return res"
   ]
  }
 ],
 "metadata": {
  "hide_input": false,
  "kernelspec": {
   "display_name": "Python 3",
   "language": "python",
   "name": "python3"
  },
  "language_info": {
   "codemirror_mode": {
    "name": "ipython",
    "version": 3
   },
   "file_extension": ".py",
   "mimetype": "text/x-python",
   "name": "python",
   "nbconvert_exporter": "python",
   "pygments_lexer": "ipython3",
   "version": "3.6.6"
  },
  "toc": {
   "base_numbering": 1,
   "nav_menu": {},
   "number_sections": true,
   "sideBar": true,
   "skip_h1_title": false,
   "title_cell": "Table of Contents",
   "title_sidebar": "Contents",
   "toc_cell": false,
   "toc_position": {},
   "toc_section_display": true,
   "toc_window_display": false
  }
 },
 "nbformat": 4,
 "nbformat_minor": 2
}
