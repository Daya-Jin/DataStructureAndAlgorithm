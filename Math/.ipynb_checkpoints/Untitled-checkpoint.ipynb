{
 "cells": [
  {
   "cell_type": "markdown",
   "metadata": {},
   "source": [
    "[Fraction to Recurring Decimal](https://leetcode.com/problems/fraction-to-recurring-decimal/)。将分数转换成小数形式，当出现循环小数时，将循环部分加上括号。\n",
    "\n",
    "思路：首先明确分数中分子为除数，分母为被除数。手动做一下除法就不难发现，当某一次的余数在之前出现过时，肯定就会出现循环小数，所以该题解法是先正常的做除法，并记录每一次余数出现的位置，当余数重复时即出现循环小数。"
   ]
  },
  {
   "cell_type": "code",
   "execution_count": 1,
   "metadata": {},
   "outputs": [],
   "source": [
    "def fractionToDecimal(numerator: int, denominator: int) -> str:\n",
    "    res = ''\n",
    "\n",
    "    # 首先判断符号\n",
    "    if numerator*denominator < 0:\n",
    "        res += '-'\n",
    "\n",
    "    numerator, denominator = abs(numerator), abs(denominator)\n",
    "    integer, remainder = divmod(numerator, denominator)    # 商，余数\n",
    "    res += str(integer)     # 整数位\n",
    "\n",
    "    if remainder:    # 只要余数不为零说明存在小数部分\n",
    "        res += '.'\n",
    "        remainders = dict()    # 从小数部分开始记录余数\n",
    "\n",
    "        while remainder:\n",
    "            if remainder not in remainders:\n",
    "                remainders[remainder] = len(res)    # 记录余数出现的位置\n",
    "                integer, remainder = divmod(remainder*10, denominator)\n",
    "                res += str(integer)\n",
    "            else:\n",
    "                idx = remainders[remainder]    # 找到上次位置\n",
    "                res = res[:idx]+'('+res[idx:]+')'    # 重复区域\n",
    "                return res\n",
    "\n",
    "    return res"
   ]
  },
  {
   "cell_type": "markdown",
   "metadata": {},
   "source": [
    "[Excel Sheet Column Number](https://leetcode.com/problems/excel-sheet-column-number/)。在Excel中列号是以字母来表示的，给定一个字母表示的列号，求出其数字形式。\n",
    "\n",
    "思路：该题实质就是26进制转10进制。"
   ]
  },
  {
   "cell_type": "code",
   "execution_count": 24,
   "metadata": {},
   "outputs": [
    {
     "data": {
      "text/plain": [
       "27"
      ]
     },
     "execution_count": 24,
     "metadata": {},
     "output_type": "execute_result"
    }
   ],
   "source": [
    "def titleToNumber(s: str) -> int:\n",
    "    tabel = {chr(idx+65): idx+1 for idx in range(26)}\n",
    "\n",
    "    res = 0\n",
    "    s_len = len(s)\n",
    "    for idx in range(len(s)):\n",
    "        res += tabel[s[idx]]*26**(s_len-1-idx)\n",
    "    return res"
   ]
  },
  {
   "cell_type": "markdown",
   "metadata": {},
   "source": [
    "[Permutations](https://leetcode.com/problems/permutations/)。全排列。\n",
    "\n",
    "思路：第一个答案肯定是原数组，对第一个答案的首元素进行循环交换得到第二组答案；再对所有答案的第二个元素进行循环交换；再对所有答案的第三个元素进行循环交换...。注意不要重复交换即可。"
   ]
  },
  {
   "cell_type": "code",
   "execution_count": null,
   "metadata": {},
   "outputs": [],
   "source": [
    "def permute(self, nums: List[int]) -> List[List[int]]:\n",
    "    def swap(nums, i, j):\n",
    "        tmp = nums[:]    # 使用副本，不要改变原数组\n",
    "        tmp[i], tmp[j] = tmp[j], tmp[i]\n",
    "        return tmp\n",
    "\n",
    "    res = [nums]\n",
    "    for i in range(len(nums)-1):\n",
    "        for ans in res[:]:    # 使用副本\n",
    "            for j in range(i+1, len(nums)):\n",
    "                res.append(swap(ans, i, j))\n",
    "    return res"
   ]
  },
  {
   "cell_type": "markdown",
   "metadata": {},
   "source": [
    "[ZigZag Conversion](https://leetcode.com/problems/zigzag-conversion/)。之字形变换，给一字符串与行数，求该字串按之字形排列后的每行输出。如```PAYPALISHIRING```按四行排列：\n",
    "```\n",
    "P     I    N\n",
    "A   L S  I G\n",
    "Y A   H R\n",
    "P     I\n",
    "```\n",
    "行输出为：```PINALSIGYAHRPI```。\n",
    "\n",
    "思路：就是一个观察规律的问题，从转换后的模式来看，行的重复周期是$2rows-2$，第一行的字母对应着原字串的```i*(2rows-2)```，最后一行字母与第一行字母同理，不过有一个```rows-1```的offset。如首行```P```的下一个字母为```I```，那么加上一个周期长度$6$即可得到；而尾行的```P```下一个字母为```I```，同样加上一个周期长度$6$即可得到。难点在于中间的对应关系。中间行的一个周期内出现两个字母，如第二行的```A```下一个字母是```L```，如果加上一个周期长度的话只会得到```S```，所以需要做修正：再减去两倍所在行数。"
   ]
  },
  {
   "cell_type": "code",
   "execution_count": 2,
   "metadata": {},
   "outputs": [
    {
     "data": {
      "text/plain": [
       "'PINALSIGYAHRPI'"
      ]
     },
     "execution_count": 2,
     "metadata": {},
     "output_type": "execute_result"
    }
   ],
   "source": [
    "def convert(s: str, numRows: int) -> str:\n",
    "    if numRows < 2 or len(s) < 2:\n",
    "        return s\n",
    "\n",
    "    res = list()\n",
    "    len_clc = 2*numRows-2    # 周期长度\n",
    "    len_s = len(s)\n",
    "\n",
    "    for row in range(numRows):\n",
    "        idx = row\n",
    "        while idx < len_s:\n",
    "            res.append(s[idx])\n",
    "            \n",
    "            if row != 0 and row != numRows-1:    # 非首尾行还要额外加字母\n",
    "                ex_idx = idx+len_clc-2*row\n",
    "                if ex_idx < len_s:\n",
    "                    res.append(s[ex_idx])\n",
    "                    \n",
    "            idx += len_clc\n",
    "\n",
    "    return ''.join(res)"
   ]
  },
  {
   "cell_type": "code",
   "execution_count": null,
   "metadata": {},
   "outputs": [],
   "source": []
  }
 ],
 "metadata": {
  "hide_input": false,
  "kernelspec": {
   "display_name": "Python 3",
   "language": "python",
   "name": "python3"
  },
  "language_info": {
   "codemirror_mode": {
    "name": "ipython",
    "version": 3
   },
   "file_extension": ".py",
   "mimetype": "text/x-python",
   "name": "python",
   "nbconvert_exporter": "python",
   "pygments_lexer": "ipython3",
   "version": "3.6.6"
  },
  "toc": {
   "base_numbering": 1,
   "nav_menu": {},
   "number_sections": true,
   "sideBar": true,
   "skip_h1_title": false,
   "title_cell": "Table of Contents",
   "title_sidebar": "Contents",
   "toc_cell": false,
   "toc_position": {},
   "toc_section_display": true,
   "toc_window_display": false
  }
 },
 "nbformat": 4,
 "nbformat_minor": 2
}
