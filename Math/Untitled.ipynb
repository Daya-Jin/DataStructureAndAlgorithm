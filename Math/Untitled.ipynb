{
 "cells": [
  {
   "cell_type": "markdown",
   "metadata": {},
   "source": [
    "[Fraction to Recurring Decimal](https://leetcode.com/problems/fraction-to-recurring-decimal/)。将分数转换成小数形式，当出现循环小数时，将循环部分加上括号。\n",
    "\n",
    "思路：首先明确分数中分子为除数，分母为被除数。手动做一下除法就不难发现，当某一次的余数在之前出现过时，肯定就会出现循环小数，所以该题解法是先正常的做除法，并记录每一次余数出现的位置，当余数重复时即出现循环小数。"
   ]
  },
  {
   "cell_type": "code",
   "execution_count": 1,
   "metadata": {},
   "outputs": [],
   "source": [
    "def fractionToDecimal(numerator: int, denominator: int) -> str:\n",
    "    res = ''\n",
    "\n",
    "    # 首先判断符号\n",
    "    if numerator*denominator < 0:\n",
    "        res += '-'\n",
    "\n",
    "    numerator, denominator = abs(numerator), abs(denominator)\n",
    "    integer, remainder = divmod(numerator, denominator)    # 商，余数\n",
    "    res += str(integer)     # 整数位\n",
    "\n",
    "    if remainder:    # 只要余数不为零说明存在小数部分\n",
    "        res += '.'\n",
    "        remainders = dict()    # 从小数部分开始记录余数\n",
    "\n",
    "        while remainder:\n",
    "            if remainder not in remainders:\n",
    "                remainders[remainder] = len(res)    # 记录余数出现的位置\n",
    "                integer, remainder = divmod(remainder*10, denominator)\n",
    "                res += str(integer)\n",
    "            else:\n",
    "                idx = remainders[remainder]    # 找到上次位置\n",
    "                res = res[:idx]+'('+res[idx:]+')'    # 重复区域\n",
    "                return res\n",
    "\n",
    "    return res"
   ]
  },
  {
   "cell_type": "markdown",
   "metadata": {},
   "source": [
    "[Excel Sheet Column Number](https://leetcode.com/problems/excel-sheet-column-number/)。在Excel中列号是以字母来表示的，给定一个字母表示的列号，求出其数字形式。\n",
    "\n",
    "思路：该题实质就是26进制转10进制。"
   ]
  },
  {
   "cell_type": "code",
   "execution_count": 24,
   "metadata": {},
   "outputs": [
    {
     "data": {
      "text/plain": [
       "27"
      ]
     },
     "execution_count": 24,
     "metadata": {},
     "output_type": "execute_result"
    }
   ],
   "source": [
    "def titleToNumber(s: str) -> int:\n",
    "    tabel = {chr(idx+65): idx+1 for idx in range(26)}\n",
    "\n",
    "    res = 0\n",
    "    s_len = len(s)\n",
    "    for idx in range(len(s)):\n",
    "        res += tabel[s[idx]]*26**(s_len-1-idx)\n",
    "    return res"
   ]
  },
  {
   "cell_type": "markdown",
   "metadata": {},
   "source": [
    "[Permutations](https://leetcode.com/problems/permutations/)。全排列。\n",
    "\n",
    "思路：第一个答案肯定是原数组，对第一个答案的首元素进行循环交换得到第二组答案；再对所有答案的第二个元素进行循环交换；再对所有答案的第三个元素进行循环交换...。注意不要重复交换即可。"
   ]
  },
  {
   "cell_type": "code",
   "execution_count": null,
   "metadata": {},
   "outputs": [],
   "source": [
    "def permute(self, nums: List[int]) -> List[List[int]]:\n",
    "    def swap(nums, i, j):\n",
    "        tmp = nums[:]    # 使用副本，不要改变原数组\n",
    "        tmp[i], tmp[j] = tmp[j], tmp[i]\n",
    "        return tmp\n",
    "\n",
    "    res = [nums]\n",
    "    for i in range(len(nums)-1):\n",
    "        for ans in res[:]:    # 使用副本\n",
    "            for j in range(i+1, len(nums)):\n",
    "                res.append(swap(ans, i, j))\n",
    "    return res"
   ]
  },
  {
   "cell_type": "markdown",
   "metadata": {},
   "source": [
    "[Next Permutation](https://leetcode.com/problems/next-permutation/)。求下一个全排列。\n",
    "\n",
    "思路：由后往前找出插入位置，然后在后部分中找出第一个小于交换位置元素的值，交换两值即可。如果不存在交换位置，说明数组完全逆序，将数组重排序即可。"
   ]
  },
  {
   "cell_type": "code",
   "execution_count": 39,
   "metadata": {},
   "outputs": [
    {
     "name": "stdout",
     "output_type": "stream",
     "text": [
      "[2, 1, 3]\n"
     ]
    }
   ],
   "source": [
    "def nextPermutation(nums) -> None:\n",
    "    def reverse(l, start, end):\n",
    "        while start < end:\n",
    "            l[start], l[end] = l[end], l[start]\n",
    "            start += 1\n",
    "            end -= 1\n",
    "\n",
    "    n = len(nums)\n",
    "    for i in range(n-1, -1, -1):\n",
    "        if nums[i-1] < nums[i]:\n",
    "            break\n",
    "\n",
    "    if i == 0:\n",
    "        nums.sort()\n",
    "        return\n",
    "\n",
    "    reverse(nums, i, n-1)\n",
    "    for j in range(i, n):\n",
    "        if nums[j] > nums[i-1]:    # 找到第一个大于前驱元素的元素\n",
    "            break\n",
    "    nums[j], nums[i-1] = nums[i-1], nums[j]\n",
    "    return"
   ]
  },
  {
   "cell_type": "markdown",
   "metadata": {},
   "source": [
    "[Next Greater Element III](https://leetcode.com/problems/next-greater-element-iii/)。给一个正整数$n$，求满足同数字组合的条件下，大于$n$的最小的重排数字，不存在则返回$-1$。\n",
    "\n",
    "思路：该题等同于next_permutatiion。假设一个数字$132$，它的下一个排列数是多少？首先不难知道，数字组合成一个最大的数值肯定满足```num[i]>num[i+1]>num[i+2]>...```，即降序排列。在$132$中$32$部分构成了最大值，那么要想产生比$132$大的下一个数值怎么做。首先将$32$反转变成$123$，再在$23$中找到首个大于$1$的数字并与其作交换得到$213$。需要注意的就是整形溢出，$32$位有符号整形最大值为```0x7FFFFFFF```。"
   ]
  },
  {
   "cell_type": "code",
   "execution_count": 37,
   "metadata": {
    "scrolled": true
   },
   "outputs": [
    {
     "name": "stdout",
     "output_type": "stream",
     "text": [
      "1\n"
     ]
    },
    {
     "data": {
      "text/plain": [
       "213"
      ]
     },
     "execution_count": 37,
     "metadata": {},
     "output_type": "execute_result"
    }
   ],
   "source": [
    "def nextGreaterElement(n: int) -> int:\n",
    "    def reverse(l, start, end):\n",
    "        while start < end:\n",
    "            l[start], l[end] = l[end], l[start]\n",
    "            start += 1\n",
    "            end -= 1\n",
    "\n",
    "    nums = list(str(n))\n",
    "    for i in range(len(nums)-1, -1, -1):\n",
    "        if nums[i-1] < nums[i]:    # 找到反转位置\n",
    "            break\n",
    "\n",
    "    if i == 0:    # 扫描完毕说明不存在，返回-1\n",
    "        return -1\n",
    "\n",
    "    reverse(nums, i, len(nums)-1)\n",
    "    for j in range(i, len(nums)):\n",
    "        if nums[j] > nums[i-1]:\n",
    "            break\n",
    "\n",
    "    nums[j], nums[i-1] = nums[i-1], nums[j]\n",
    "    n = int(''.join(nums))\n",
    "\n",
    "    return n if n < 0x7FFFFFFF else -1\n",
    "\n",
    "nextGreaterElement(132)"
   ]
  },
  {
   "cell_type": "markdown",
   "metadata": {},
   "source": [
    "[ZigZag Conversion](https://leetcode.com/problems/zigzag-conversion/)。之字形变换，给一字符串与行数，求该字串按之字形排列后的每行输出。如```PAYPALISHIRING```按四行排列：\n",
    "```\n",
    "P     I    N\n",
    "A   L S  I G\n",
    "Y A   H R\n",
    "P     I\n",
    "```\n",
    "行输出为：```PINALSIGYAHRPI```。\n",
    "\n",
    "思路：就是一个观察规律的问题，从转换后的模式来看，行的重复周期是$2rows-2$，第一行的字母对应着原字串的```i*(2rows-2)```，最后一行字母与第一行字母同理，不过有一个```rows-1```的offset。如首行```P```的下一个字母为```I```，那么加上一个周期长度$6$即可得到；而尾行的```P```下一个字母为```I```，同样加上一个周期长度$6$即可得到。难点在于中间的对应关系。中间行的一个周期内出现两个字母，如第二行的```A```下一个字母是```L```，如果加上一个周期长度的话只会得到```S```，所以需要做修正：再减去两倍所在行数。"
   ]
  },
  {
   "cell_type": "code",
   "execution_count": 2,
   "metadata": {},
   "outputs": [
    {
     "data": {
      "text/plain": [
       "'PINALSIGYAHRPI'"
      ]
     },
     "execution_count": 2,
     "metadata": {},
     "output_type": "execute_result"
    }
   ],
   "source": [
    "def convert(s: str, numRows: int) -> str:\n",
    "    if numRows < 2 or len(s) < 2:\n",
    "        return s\n",
    "\n",
    "    res = list()\n",
    "    len_clc = 2*numRows-2    # 周期长度\n",
    "    len_s = len(s)\n",
    "\n",
    "    for row in range(numRows):\n",
    "        idx = row\n",
    "        while idx < len_s:\n",
    "            res.append(s[idx])\n",
    "            \n",
    "            if row != 0 and row != numRows-1:    # 非首尾行还要额外加字母\n",
    "                ex_idx = idx+len_clc-2*row\n",
    "                if ex_idx < len_s:\n",
    "                    res.append(s[ex_idx])\n",
    "                    \n",
    "            idx += len_clc\n",
    "\n",
    "    return ''.join(res)"
   ]
  },
  {
   "cell_type": "markdown",
   "metadata": {},
   "source": [
    "[Add Strings](https://leetcode.com/problems/add-strings/)。字符串形式的整数相加，不允许使用整形转换。\n",
    "\n",
    "思路：不允许使用整形转换，肯定只能使用ASCII码来进行运算。由低往高诸位相加，每次将一位加到res上去，注意进位即可。"
   ]
  },
  {
   "cell_type": "code",
   "execution_count": 9,
   "metadata": {},
   "outputs": [
    {
     "data": {
      "text/plain": [
       "'413'"
      ]
     },
     "execution_count": 9,
     "metadata": {},
     "output_type": "execute_result"
    }
   ],
   "source": [
    "def addStrings(num1: str, num2: str) -> str:\n",
    "    # ord('0')=48, ord('9')=57\n",
    "    p1, p2 = len(num1)-1, len(num2)-1\n",
    "    res = str()\n",
    "    carry = 0\n",
    "\n",
    "    while p1 >= 0 or p2 >= 0:\n",
    "        bit1 = num1[p1] if p1 >= 0 else '0'\n",
    "        bit2 = num2[p2] if p2 >= 0 else '0'\n",
    "\n",
    "        cur_sum = ord(bit1)-48+ord(bit2)-48+carry\n",
    "        if cur_sum > 9:\n",
    "            carry = 1\n",
    "            cur_sum -= 10\n",
    "        else:\n",
    "            carry = 0\n",
    "\n",
    "        res += str(cur_sum)\n",
    "\n",
    "        p1 -= 1\n",
    "        p2 -= 1\n",
    "\n",
    "    if carry:\n",
    "        res += str(carry)\n",
    "\n",
    "    return res[::-1]\n",
    "\n",
    "\n",
    "addStrings('408', '5')"
   ]
  },
  {
   "cell_type": "markdown",
   "metadata": {},
   "source": [
    "[Optimal Division](https://leetcode.com/problems/optimal-division/)。最优除法顺序，给一数组，数字之间全是除法运算，求一个除法顺序使得最终结果最大。\n",
    "\n",
    "思路：当数字超过$3$个时，在最后两数字加上一个括号$a/(b/c)$，相当于把$c$转换成了乘数；当数字更多时，把后面的数字全用括号括起来，相当于把它们全部变成了乘数。"
   ]
  },
  {
   "cell_type": "code",
   "execution_count": null,
   "metadata": {},
   "outputs": [],
   "source": [
    "def optimalDivision(nums) -> str:\n",
    "    if len(nums) < 2:\n",
    "        return str(nums[0])\n",
    "    elif len(nums) < 3:\n",
    "        return '/'.join(map(str, nums))\n",
    "    else:\n",
    "        return str(nums[0])+'/('+'/'.join(map(str, nums[1:]))+')'"
   ]
  },
  {
   "cell_type": "markdown",
   "metadata": {},
   "source": [
    "[Maximum Sum Circular Subarray](https://leetcode.com/problems/maximum-sum-circular-subarray/)。设定一个循环数组，求该数组内能得到的最大累计和。\n",
    "\n",
    "思路：仔细思考，如果最大连续和跨首尾的话，说明数组中必定有负数。最大连续和与最小连续和肯定不会同时跨首尾，即是说如果把数组看成是非循环的，至少能求出最大连续和与最小连续和之中的一个。然后用数组和减去最小连续和得到一个备选最大连续和。返回两个最大连续和的最大者即可。难点在于处理全是负数的情况，设置一个标志位即可。"
   ]
  },
  {
   "cell_type": "code",
   "execution_count": 13,
   "metadata": {},
   "outputs": [
    {
     "data": {
      "text/plain": [
       "-1"
      ]
     },
     "execution_count": 13,
     "metadata": {},
     "output_type": "execute_result"
    }
   ],
   "source": [
    "def maxSubarraySumCircular(A) -> int:\n",
    "    cur_max = cur_min = 0\n",
    "    max_sum = min_sum = A[0]\n",
    "\n",
    "    all_Neg = True    # 全负标志\n",
    "\n",
    "    for num in A:\n",
    "        if num > 0:\n",
    "            all_Neg = False\n",
    "\n",
    "        cur_max += num\n",
    "        max_sum = max(max_sum, cur_max)\n",
    "        if cur_max < 0:\n",
    "            cur_max = 0\n",
    "\n",
    "        cur_min += num\n",
    "        min_sum = min(min_sum, cur_min)\n",
    "        if cur_min > 0:\n",
    "            cur_min = 0\n",
    "\n",
    "    if all_Neg:\n",
    "        return max(A)\n",
    "\n",
    "    return max(max_sum, sum(A)-min_sum)\n",
    "\n",
    "\n",
    "maxSubarraySumCircular([-1, -2, -3])"
   ]
  },
  {
   "cell_type": "code",
   "execution_count": null,
   "metadata": {},
   "outputs": [],
   "source": []
  }
 ],
 "metadata": {
  "hide_input": false,
  "kernelspec": {
   "display_name": "Python 3",
   "language": "python",
   "name": "python3"
  },
  "language_info": {
   "codemirror_mode": {
    "name": "ipython",
    "version": 3
   },
   "file_extension": ".py",
   "mimetype": "text/x-python",
   "name": "python",
   "nbconvert_exporter": "python",
   "pygments_lexer": "ipython3",
   "version": "3.6.6"
  },
  "toc": {
   "base_numbering": 1,
   "nav_menu": {},
   "number_sections": true,
   "sideBar": true,
   "skip_h1_title": false,
   "title_cell": "Table of Contents",
   "title_sidebar": "Contents",
   "toc_cell": false,
   "toc_position": {},
   "toc_section_display": true,
   "toc_window_display": false
  }
 },
 "nbformat": 4,
 "nbformat_minor": 2
}
