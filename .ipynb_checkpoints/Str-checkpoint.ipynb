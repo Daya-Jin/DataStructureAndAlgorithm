{
 "cells": [
  {
   "cell_type": "markdown",
   "metadata": {},
   "source": [
    "Jewels and Stones. 给定字符串J与S，J中的字符都代表珠宝，S代表待挖掘的石头，求石头中珠宝的数量。"
   ]
  },
  {
   "cell_type": "code",
   "execution_count": null,
   "metadata": {},
   "outputs": [],
   "source": [
    "# 思路：时间换空间，以J为准建立一个查询表，在扫描S即可\n",
    "\n",
    "\n",
    "def numJewelsInStones(self, J: str, S: str) -> int:\n",
    "    table = set(J)\n",
    "\n",
    "    num = 0\n",
    "    for ch in S:\n",
    "        if ch in table:\n",
    "            num += 1\n",
    "\n",
    "    return num"
   ]
  },
  {
   "cell_type": "markdown",
   "metadata": {},
   "source": [
    "字符串形式的无符号二进制加法。"
   ]
  },
  {
   "cell_type": "code",
   "execution_count": 10,
   "metadata": {},
   "outputs": [
    {
     "data": {
      "text/plain": [
       "'11'"
      ]
     },
     "execution_count": 10,
     "metadata": {},
     "output_type": "execute_result"
    }
   ],
   "source": [
    "# 思路：由低往高一位一位加，进位交给下一轮处理。\n",
    "# sum=bit_a+bit_b+pre_carry，该值%2为当前位的值，/2为进位值\n",
    "def addBinary(a, b):\n",
    "    res=''\n",
    "    idx_a,idx_b=len(a)-1,len(b)-1\n",
    "    carry=0    # 上轮加法得到的进位值，初始为0\n",
    "    \n",
    "    while idx_a>=0 or idx_b>=0:\n",
    "        # 题目保证字符串中只有'0'和'1'\n",
    "        bit_a=ord(a[idx_a])-ord('0') if idx_a>=0 else 0\n",
    "        bit_b=ord(b[idx_b])-ord('0') if idx_b>=0 else 0\n",
    "        \n",
    "        cur_sum=bit_a+bit_b+carry    # 两位相加再加上一轮的进位值\n",
    "        res=str(cur_sum%2)+res    # 该位值加到res前面\n",
    "        carry=cur_sum//2\n",
    "        \n",
    "        idx_a-=1\n",
    "        idx_b-=1\n",
    "        \n",
    "    return str(carry)+res if carry else res    # 处理末尾的进位值\n",
    "\n",
    "addBinary('10','1')"
   ]
  },
  {
   "cell_type": "markdown",
   "metadata": {},
   "source": [
    "Isomorphic Strings. 判断两字符串是否同构，及能通过字符一一映射得到另一字符串。"
   ]
  },
  {
   "cell_type": "code",
   "execution_count": 17,
   "metadata": {},
   "outputs": [
    {
     "data": {
      "text/plain": [
       "False"
      ]
     },
     "execution_count": 17,
     "metadata": {},
     "output_type": "execute_result"
    }
   ],
   "source": [
    "# 思路：空间换时间，建立两个ASCII码表，记录同位置的两字符串中字符的上次出现位置\n",
    "\n",
    "\n",
    "def isIsomorphic(s, t):\n",
    "    if len(s) != len(t):\n",
    "        return False\n",
    "\n",
    "    table_s, table_t = [0]*256, [0]*256\n",
    "\n",
    "    for idx in range(len(s)):\n",
    "        if table_s[ord(s[idx])] != table_t[ord(t[idx])]:\n",
    "            return False\n",
    "        table_s[ord(s[idx])] = idx+1    # 上次出现位置，因为表值初始化为0，所以不能设为0\n",
    "        table_t[ord(t[idx])] = idx+1\n",
    "\n",
    "    return True\n",
    "\n",
    "\n",
    "isIsomorphic('fof', 'bar')"
   ]
  },
  {
   "cell_type": "code",
   "execution_count": 9,
   "metadata": {},
   "outputs": [
    {
     "data": {
      "text/plain": [
       "97"
      ]
     },
     "execution_count": 9,
     "metadata": {},
     "output_type": "execute_result"
    }
   ],
   "source": [
    "ord('a')"
   ]
  },
  {
   "cell_type": "code",
   "execution_count": null,
   "metadata": {},
   "outputs": [],
   "source": []
  }
 ],
 "metadata": {
  "kernelspec": {
   "display_name": "Python 3",
   "language": "python",
   "name": "python3"
  },
  "language_info": {
   "codemirror_mode": {
    "name": "ipython",
    "version": 3
   },
   "file_extension": ".py",
   "mimetype": "text/x-python",
   "name": "python",
   "nbconvert_exporter": "python",
   "pygments_lexer": "ipython3",
   "version": "3.6.6"
  }
 },
 "nbformat": 4,
 "nbformat_minor": 2
}
