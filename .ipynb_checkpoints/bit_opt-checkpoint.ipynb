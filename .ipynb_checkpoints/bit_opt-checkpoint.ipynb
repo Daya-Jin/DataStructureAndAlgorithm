{
 "cells": [
  {
   "cell_type": "markdown",
   "metadata": {},
   "source": [
    "python的位运算**不考虑符号位**，这跟大部分语言都不同。"
   ]
  },
  {
   "cell_type": "code",
   "execution_count": 28,
   "metadata": {},
   "outputs": [
    {
     "name": "stdout",
     "output_type": "stream",
     "text": [
      "0 2 -1 -2\n"
     ]
    }
   ],
   "source": [
    "print(1>>1,1<<1,-1>>1,-1<<1)"
   ]
  },
  {
   "cell_type": "code",
   "execution_count": 42,
   "metadata": {},
   "outputs": [
    {
     "name": "stdout",
     "output_type": "stream",
     "text": [
      "2 2\n"
     ]
    }
   ],
   "source": [
    "print((2).bit_length(),(-2).bit_length())"
   ]
  },
  {
   "cell_type": "code",
   "execution_count": 46,
   "metadata": {},
   "outputs": [
    {
     "name": "stdout",
     "output_type": "stream",
     "text": [
      "-1 -2 0 1\n"
     ]
    }
   ],
   "source": [
    "print(~(0),~(1),~(-1),~(-2))"
   ]
  },
  {
   "cell_type": "markdown",
   "metadata": {},
   "source": [
    "计算一个数字的补码二进制表示中有多少个\"1\"。"
   ]
  },
  {
   "cell_type": "code",
   "execution_count": 74,
   "metadata": {},
   "outputs": [
    {
     "data": {
      "text/plain": [
       "32"
      ]
     },
     "execution_count": 74,
     "metadata": {},
     "output_type": "execute_result"
    }
   ],
   "source": [
    "# 设置一个只包含一个\"1\"的二进制掩码，与原数字做与运算，判断结果是否为零\n",
    "# 为零说明原数字相应位置为0，不为零说明为1\n",
    "def num_of_1(num):\n",
    "    cnt = 0\n",
    "    comp = 1\n",
    "    num&=0xFFFFFFFF\n",
    "    for _ in range(32):\n",
    "        if num & comp:\n",
    "            cnt += 1\n",
    "        comp = comp << 1\n",
    "    return cnt\n",
    "\n",
    "\n",
    "num_of_1(-1)"
   ]
  },
  {
   "cell_type": "code",
   "execution_count": 75,
   "metadata": {},
   "outputs": [
    {
     "data": {
      "text/plain": [
       "32"
      ]
     },
     "execution_count": 75,
     "metadata": {},
     "output_type": "execute_result"
    }
   ],
   "source": [
    "# 最优解法，将原数不断与自身减一后的值相与\n",
    "def num_of_1(num):\n",
    "    cnt = 0\n",
    "    num&=0xFFFFFFFF\n",
    "    for _ in range(num.bit_length()):\n",
    "        while num:\n",
    "            cnt+=1\n",
    "            num=num & (num-1)\n",
    "    return cnt"
   ]
  },
  {
   "cell_type": "markdown",
   "metadata": {},
   "source": [
    "(未掌握)不使用四则运算实现加法。"
   ]
  },
  {
   "cell_type": "code",
   "execution_count": 10,
   "metadata": {},
   "outputs": [
    {
     "data": {
      "text/plain": [
       "2"
      ]
     },
     "execution_count": 10,
     "metadata": {},
     "output_type": "execute_result"
    }
   ],
   "source": [
    "# 思路：无法使用四则运算，那么肯定只能用位运算来实现加法器了\n",
    "# 两数相异或，等同于不进位的相加，设此步结果为sum_without_carry\n",
    "# 两数相与，再左移一位，等同于得到进位的位置，设此步结果为carry\n",
    "# 然后再计算sum_without_carry+carry，该过程同样需要移位运算实现\n",
    "# 需要注意的是Python的位运算是不涉及符号位的，这点需要特别注意\n",
    "# 这个题的代码没太理解，需要学习下Python的位运算机制\n",
    "\n",
    "\n",
    "def Add(a, b):\n",
    "    while b:\n",
    "        a, b = (a ^ b) & 0xFFFFFFFF, ((a & b) << 1) & 0xFFFFFFFF\n",
    "    return a if a <= 0x7FFFFFFF else ~(a ^ 0xFFFFFFFF)"
   ]
  },
  {
   "cell_type": "markdown",
   "metadata": {},
   "source": [
    "不使用额外空间交换两变量的值。"
   ]
  },
  {
   "cell_type": "code",
   "execution_count": 47,
   "metadata": {},
   "outputs": [],
   "source": [
    "# a,b=b,a\n",
    "\n",
    "# 思路1：首先将a,b的和覆盖掉a，然后用和减去b得到a的值，覆盖掉b，这样就把a的值转移给了b\n",
    "# 然后再用和减去b，得到的实际上是b的值，用这个值覆盖掉a即可\n",
    "\n",
    "\n",
    "def swap(a, b):\n",
    "    a = a+b    # 和\n",
    "    b = a-b    # 和-b得到a，覆盖掉b，此时b是a的值\n",
    "    a = a-b    # 和-b，相当于和-a，得到的是b的值，覆盖掉a\n",
    "    return a, b\n",
    "\n",
    "# 思路2：类似的，根据异或的性质，假设s为a,b的异或结果，有s^a=b，s^b=a\n",
    "# 有了这个性质，只要把上述代码中的符号变成异或即可达到同样的功能\n",
    "\n",
    "\n",
    "def swap(a, b):\n",
    "    a = a ^ b    # 异或和s\n",
    "    b = a ^ b    # s^b得到a，覆盖掉b，此时b是a的值\n",
    "    a = a ^ b    # s^b，相当于s^a，得到的是b的值，覆盖掉a\n",
    "    return a, b"
   ]
  },
  {
   "cell_type": "markdown",
   "metadata": {},
   "source": [
    "Flipping an Image. 给定一个二进制矩阵，要求对其进行行翻转，再每位取反。"
   ]
  },
  {
   "cell_type": "code",
   "execution_count": 2,
   "metadata": {},
   "outputs": [
    {
     "data": {
      "text/plain": [
       "[[1, 0, 0], [0, 1, 0], [1, 1, 1]]"
      ]
     },
     "execution_count": 2,
     "metadata": {},
     "output_type": "execute_result"
    }
   ],
   "source": [
    "# 思路：循环对每行进行翻转，可以使用栈实现，也可使用一个临时变量来交换两位置的值\n",
    "# 至于取反操作，可以通过与1异或来实现\n",
    "\n",
    "\n",
    "def flipAndInvertImage(A):\n",
    "    for row in A:\n",
    "        for idx in range((len(A)+1)//2):\n",
    "            # 语法糖：python的取反操作恰好对应着列表索引的对称位置\n",
    "            # ~idx在数值上等于len(row)-1-idx\n",
    "            row[idx], row[~idx] = row[~idx] ^ 1, row[idx] ^ 1\n",
    "    return A"
   ]
  },
  {
   "cell_type": "markdown",
   "metadata": {},
   "source": [
    "Reverse Bits. 一个无符号32位整形，输出其二进制吗翻转后对应的数字。"
   ]
  },
  {
   "cell_type": "code",
   "execution_count": 4,
   "metadata": {},
   "outputs": [
    {
     "data": {
      "text/plain": [
       "964176192"
      ]
     },
     "execution_count": 4,
     "metadata": {},
     "output_type": "execute_result"
    }
   ],
   "source": [
    "# 思路设置返回值初始值为0，逐位循环(32次)\n",
    "# 每次返回值左移一位，再加上原数字的最后一位，然后原数字右移一位\n",
    "\n",
    "def reverseBits(n):\n",
    "    res=0\n",
    "    for _ in range(32):\n",
    "        res=(res<<1)+(n&1)\n",
    "        n>>=1\n",
    "        \n",
    "    return res"
   ]
  },
  {
   "cell_type": "code",
   "execution_count": null,
   "metadata": {},
   "outputs": [],
   "source": []
  }
 ],
 "metadata": {
  "hide_input": false,
  "kernelspec": {
   "display_name": "Python 3",
   "language": "python",
   "name": "python3"
  },
  "language_info": {
   "codemirror_mode": {
    "name": "ipython",
    "version": 3
   },
   "file_extension": ".py",
   "mimetype": "text/x-python",
   "name": "python",
   "nbconvert_exporter": "python",
   "pygments_lexer": "ipython3",
   "version": "3.6.6"
  },
  "toc": {
   "base_numbering": 1,
   "nav_menu": {},
   "number_sections": true,
   "sideBar": true,
   "skip_h1_title": false,
   "title_cell": "Table of Contents",
   "title_sidebar": "Contents",
   "toc_cell": false,
   "toc_position": {},
   "toc_section_display": true,
   "toc_window_display": false
  }
 },
 "nbformat": 4,
 "nbformat_minor": 2
}
