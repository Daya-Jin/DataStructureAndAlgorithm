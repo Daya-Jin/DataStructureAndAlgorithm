{
 "cells": [
  {
   "cell_type": "markdown",
   "metadata": {},
   "source": [
    "python的位运算**不考虑符号位**，这跟大部分语言都不同。"
   ]
  },
  {
   "cell_type": "code",
   "execution_count": 28,
   "metadata": {},
   "outputs": [
    {
     "name": "stdout",
     "output_type": "stream",
     "text": [
      "0 2 -1 -2\n"
     ]
    }
   ],
   "source": [
    "print(1>>1,1<<1,-1>>1,-1<<1)"
   ]
  },
  {
   "cell_type": "code",
   "execution_count": 42,
   "metadata": {},
   "outputs": [
    {
     "name": "stdout",
     "output_type": "stream",
     "text": [
      "2 2\n"
     ]
    }
   ],
   "source": [
    "print((2).bit_length(),(-2).bit_length())"
   ]
  },
  {
   "cell_type": "code",
   "execution_count": 46,
   "metadata": {},
   "outputs": [
    {
     "name": "stdout",
     "output_type": "stream",
     "text": [
      "-1 -2 0 1\n"
     ]
    }
   ],
   "source": [
    "print(~(0),~(1),~(-1),~(-2))"
   ]
  },
  {
   "cell_type": "markdown",
   "metadata": {},
   "source": [
    "[Number of 1 Bits](https://leetcode.com/problems/number-of-1-bits/). 求一个数的二进制表示中有多少个'1'。"
   ]
  },
  {
   "cell_type": "code",
   "execution_count": 2,
   "metadata": {},
   "outputs": [
    {
     "data": {
      "text/plain": [
       "1"
      ]
     },
     "execution_count": 2,
     "metadata": {},
     "output_type": "execute_result"
    }
   ],
   "source": [
    "# 思路：设置一个mask_bit为1，每次将该mask与原数做与运算，循环32次\n",
    "# 更优解：运算n&(n-1)可以消除n的二进制表示中最右边的'1'\n",
    "\n",
    "def hammingWeight(n):\n",
    "    ones=0\n",
    "    while n:\n",
    "        ones+=1\n",
    "        n=n&(n-1)\n",
    "        \n",
    "    return ones\n",
    "\n",
    "hammingWeight(1)"
   ]
  },
  {
   "cell_type": "markdown",
   "metadata": {},
   "source": [
    "[Sum of Two Integers](https://leetcode.com/problems/sum-of-two-integers/)。不使用四则运算实现加法。"
   ]
  },
  {
   "cell_type": "code",
   "execution_count": 10,
   "metadata": {},
   "outputs": [
    {
     "data": {
      "text/plain": [
       "2"
      ]
     },
     "execution_count": 10,
     "metadata": {},
     "output_type": "execute_result"
    }
   ],
   "source": [
    "# 思路：两数相异或，等同于不进位的相加，设此步结果为sum_without_carry\n",
    "# 两数相与，再左移一位，等同于得到进位的位置，设此步结果为carry\n",
    "# 然后再计算sum_without_carry+carry，该过程同样需要移位运算实现\n",
    "# 需要注意的是Python的位运算是不涉及符号位的，这点需要特别注意\n",
    "\n",
    "\n",
    "def Add(a, b):\n",
    "    mask_32bit=0xFFFFFFFF\n",
    "    max_32int=0x7FFFFFFF\n",
    "    \n",
    "    while b:\n",
    "        a, b = (a ^ b) & mask_32bit, ((a & b) << 1) & mask_32bit\n",
    "    return a if a <= max_32int else ~(a ^ mask_32bit)"
   ]
  },
  {
   "cell_type": "markdown",
   "metadata": {},
   "source": [
    "不使用额外空间交换两变量的值。"
   ]
  },
  {
   "cell_type": "code",
   "execution_count": 47,
   "metadata": {},
   "outputs": [],
   "source": [
    "# a,b=b,a\n",
    "\n",
    "# 思路1：首先将a,b的和覆盖掉a，然后用和减去b得到a的值，覆盖掉b，这样就把a的值转移给了b\n",
    "# 然后再用和减去b，得到的实际上是b的值，用这个值覆盖掉a即可\n",
    "\n",
    "\n",
    "def swap(a, b):\n",
    "    a = a+b    # 和\n",
    "    b = a-b    # 和-b得到a，覆盖掉b，此时b是a的值\n",
    "    a = a-b    # 和-b，相当于和-a，得到的是b的值，覆盖掉a\n",
    "    return a, b\n",
    "\n",
    "# 思路2：类似的，根据异或的性质，假设s为a,b的异或结果，有s^a=b，s^b=a\n",
    "# 有了这个性质，只要把上述代码中的符号变成异或即可达到同样的功能\n",
    "\n",
    "\n",
    "def swap(a, b):\n",
    "    a = a ^ b    # 异或和s\n",
    "    b = a ^ b    # s^b得到a，覆盖掉b，此时b是a的值\n",
    "    a = a ^ b    # s^b，相当于s^a，得到的是b的值，覆盖掉a\n",
    "    return a, b"
   ]
  },
  {
   "cell_type": "markdown",
   "metadata": {},
   "source": [
    "Flipping an Image. 给定一个二进制矩阵，要求对其进行行翻转，再每位取反。"
   ]
  },
  {
   "cell_type": "code",
   "execution_count": 2,
   "metadata": {},
   "outputs": [
    {
     "data": {
      "text/plain": [
       "[[1, 0, 0], [0, 1, 0], [1, 1, 1]]"
      ]
     },
     "execution_count": 2,
     "metadata": {},
     "output_type": "execute_result"
    }
   ],
   "source": [
    "# 思路：循环对每行进行翻转，可以使用栈实现，也可使用一个临时变量来交换两位置的值\n",
    "# 至于取反操作，可以通过与1异或来实现\n",
    "\n",
    "\n",
    "def flipAndInvertImage(A):\n",
    "    for row in A:\n",
    "        for idx in range((len(A)+1)//2):\n",
    "            # 语法糖：python的取反操作恰好对应着列表索引的对称位置\n",
    "            # ~idx在数值上等于len(row)-1-idx\n",
    "            row[idx], row[~idx] = row[~idx] ^ 1, row[idx] ^ 1\n",
    "    return A"
   ]
  },
  {
   "cell_type": "markdown",
   "metadata": {},
   "source": [
    "Reverse Bits. 一个无符号32位整形，输出其二进制吗翻转后对应的数字。"
   ]
  },
  {
   "cell_type": "code",
   "execution_count": 4,
   "metadata": {},
   "outputs": [
    {
     "data": {
      "text/plain": [
       "964176192"
      ]
     },
     "execution_count": 4,
     "metadata": {},
     "output_type": "execute_result"
    }
   ],
   "source": [
    "# 思路设置返回值初始值为0，逐位循环(32次)\n",
    "# 每次返回值左移一位，再加上原数字的最后一位，然后原数字右移一位\n",
    "\n",
    "def reverseBits(n):\n",
    "    res=0\n",
    "    for _ in range(32):\n",
    "        res=(res<<1)+(n&1)\n",
    "        n>>=1\n",
    "        \n",
    "    return res"
   ]
  },
  {
   "cell_type": "markdown",
   "metadata": {},
   "source": [
    "拼凑硬币。现有$2^{i}$面值的硬币各2个，指定一个值，求出使用这些硬币拼凑的方案数。"
   ]
  },
  {
   "cell_type": "code",
   "execution_count": 14,
   "metadata": {},
   "outputs": [
    {
     "data": {
      "text/plain": [
       "3"
      ]
     },
     "execution_count": 14,
     "metadata": {},
     "output_type": "execute_result"
    }
   ],
   "source": [
    "# 思路：把硬币等分成两组，每组都为2^0,2^1,2^2,...，可以看出就是一系列只有单个1的二进制数\n",
    "# 由于这些二进制数有两组，而且每组组内的加和可以组成任意整数\n",
    "# 这道题即求满足a+b=n下(a,b)可能的组合数，关键是怎么判重\n",
    "# 使用异或运算即可得到(a,b)组合的一个独特值\n",
    "\n",
    "def coin(n):\n",
    "    if n<2:\n",
    "        return 0\n",
    "    \n",
    "    res=set()\n",
    "    for a in range(n//2+1):\n",
    "        b=n-a\n",
    "        uni=a^b\n",
    "        res.add(uni)\n",
    "        \n",
    "    return len(res)\n",
    "\n",
    "coin(6)"
   ]
  },
  {
   "cell_type": "markdown",
   "metadata": {},
   "source": [
    "[Hamming Distance](https://leetcode.com/problems/hamming-distance/). 计算两个数的海明距离。"
   ]
  },
  {
   "cell_type": "code",
   "execution_count": null,
   "metadata": {},
   "outputs": [],
   "source": [
    "# 思路：两数异或，异或结果中1的个数即为结果\n",
    "\n",
    "def hammingDistance(x, y):\n",
    "    xor_res=x^y\n",
    "    dis=0\n",
    "    \n",
    "    while xor_res:\n",
    "        xor_res=xor_res&(xor_res-1)\n",
    "        dis+=1\n",
    "        \n",
    "    return dis"
   ]
  },
  {
   "cell_type": "markdown",
   "metadata": {},
   "source": [
    "[Single Number](https://leetcode.com/problems/single-number/). 非空数组，其中只有一个数字出现单次，其他数字都出现了两次，找出这个单个数字。"
   ]
  },
  {
   "cell_type": "code",
   "execution_count": null,
   "metadata": {},
   "outputs": [],
   "source": [
    "# 思路：异或，相同的数字异或会得0，剩下来的就是单次数字\n",
    "\n",
    "def singleNumber(nums) -> int:\n",
    "    res=0\n",
    "    for num in nums:\n",
    "        res^=num\n",
    "        \n",
    "    return res"
   ]
  },
  {
   "cell_type": "markdown",
   "metadata": {},
   "source": [
    "[Subsets](https://leetcode.com/problems/subsets/)。给定一数组，要求返回所有可能的子集。"
   ]
  },
  {
   "cell_type": "code",
   "execution_count": 2,
   "metadata": {},
   "outputs": [
    {
     "data": {
      "text/plain": [
       "[[], [1], [2], [1, 2], [3], [1, 3], [2, 3], [1, 2, 3]]"
      ]
     },
     "execution_count": 2,
     "metadata": {},
     "output_type": "execute_result"
    }
   ],
   "source": [
    "# 思路，该题的一种巧妙解法是使用位操作模拟。n个数的数组总共有2^n个子集，\n",
    "# 为每一个数设一个标志位，该位为1时代表选取，为0代表不选取，所有可能的位组合即产生所有子集\n",
    "\n",
    "\n",
    "def subsets(nums):\n",
    "    res = list()\n",
    "    nums.sort()    # 题目对返回值顺序有要求，先排序\n",
    "    len_s = len(nums)\n",
    "\n",
    "    for idx in range(1 << len_s):    # 遍历0-(2^n-1)种可能\n",
    "        comb = list()\n",
    "        for i in range(len_s):     # 逐位比较，取出位为1对应的数字\n",
    "            if idx & (1 << i):\n",
    "                comb.append(nums[i])\n",
    "        res.append(comb)\n",
    "\n",
    "    return res"
   ]
  },
  {
   "cell_type": "code",
   "execution_count": null,
   "metadata": {},
   "outputs": [],
   "source": []
  }
 ],
 "metadata": {
  "hide_input": false,
  "kernelspec": {
   "display_name": "Python 3",
   "language": "python",
   "name": "python3"
  },
  "language_info": {
   "codemirror_mode": {
    "name": "ipython",
    "version": 3
   },
   "file_extension": ".py",
   "mimetype": "text/x-python",
   "name": "python",
   "nbconvert_exporter": "python",
   "pygments_lexer": "ipython3",
   "version": "3.6.6"
  },
  "toc": {
   "base_numbering": 1,
   "nav_menu": {},
   "number_sections": true,
   "sideBar": true,
   "skip_h1_title": false,
   "title_cell": "Table of Contents",
   "title_sidebar": "Contents",
   "toc_cell": false,
   "toc_position": {},
   "toc_section_display": true,
   "toc_window_display": false
  }
 },
 "nbformat": 4,
 "nbformat_minor": 2
}
