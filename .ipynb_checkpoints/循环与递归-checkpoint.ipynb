{
 "cells": [
  {
   "cell_type": "markdown",
   "metadata": {},
   "source": [
    "斐波那契数列：1，1，2，3，5，..."
   ]
  },
  {
   "cell_type": "code",
   "execution_count": 5,
   "metadata": {},
   "outputs": [
    {
     "data": {
      "text/plain": [
       "8"
      ]
     },
     "execution_count": 5,
     "metadata": {},
     "output_type": "execute_result"
    }
   ],
   "source": [
    "# 容易看出斐波那契数列只需保存两个值：前一个值跟当前值\n",
    "# 计算下一个值时将存储窗口累加并右移即可\n",
    "# pre是将被放弃的值，所以使用cur+pre覆盖pre\n",
    "# 在交换两者即可\n",
    "def fibonacci(n):\n",
    "    if n < 3:\n",
    "        return 1\n",
    "\n",
    "    pre = 1\n",
    "    cur = 1\n",
    "    for _ in range(3, n + 1):\n",
    "        pre += cur  # 当前+之前，覆盖之前\n",
    "        cur, pre = pre, cur  # 交换两者\n",
    "\n",
    "    return cur\n",
    "\n",
    "\n",
    "fibonacci(6)"
   ]
  },
  {
   "cell_type": "markdown",
   "metadata": {},
   "source": [
    "跳台阶问题。一只青蛙一次可以跳1级台阶，也可以跳2级台阶，该青蛙跳上n级台阶有多少种跳法？"
   ]
  },
  {
   "cell_type": "code",
   "execution_count": 19,
   "metadata": {},
   "outputs": [
    {
     "data": {
      "text/plain": [
       "1"
      ]
     },
     "execution_count": 19,
     "metadata": {},
     "output_type": "execute_result"
    }
   ],
   "source": [
    "# 设解为f(n)，基准情况，f(1)=1，f(2)=2\n",
    "# n>3，倒推，可以往低跳一级到f(n-1)，也可以往低跳两级到f(n-2)\n",
    "# f(n)=f(n-1)+f(n-2)\n",
    "\n",
    "def jumpFloor(n):\n",
    "    result=[1,2]\n",
    "    if n<3:\n",
    "        return result[n-1]\n",
    "    \n",
    "    pre=1\n",
    "    cur=2\n",
    "    for _ in range(3,n+1):\n",
    "        pre+=cur\n",
    "        cur,pre=pre,cur\n",
    "        \n",
    "    return cur\n",
    "\n",
    "jumpFloor(1)"
   ]
  },
  {
   "cell_type": "markdown",
   "metadata": {},
   "source": [
    "跳台阶问题。一只青蛙一次可以跳任意级台阶，该青蛙跳上n级台阶有多少种跳法？"
   ]
  },
  {
   "cell_type": "code",
   "execution_count": 22,
   "metadata": {},
   "outputs": [
    {
     "data": {
      "text/plain": [
       "4"
      ]
     },
     "execution_count": 22,
     "metadata": {},
     "output_type": "execute_result"
    }
   ],
   "source": [
    "# 设解为f(n)，基准情况，f(1)=1\n",
    "# n>2，倒推，可以往低跳一级到f(n-1)，也可以往低跳n-1级到f(1)\n",
    "# f(n)=f(n-1)+f(n-2)+…+f(1)\n",
    "# f(n-1)=f(n-2)+…+f(1)\n",
    "# 两式相减得：f(n)=2f(n-1)，等比数列f(n)=2^(n-1)\n",
    "\n",
    "def jumpFloor(n):\n",
    "    return 2**(n-1)\n",
    "\n",
    "jumpFloor(3)"
   ]
  },
  {
   "cell_type": "markdown",
   "metadata": {},
   "source": [
    "矩形填充，使用2$\\times$1的矩形填满2$\\times$8的矩形有多少种填法。"
   ]
  },
  {
   "cell_type": "code",
   "execution_count": 27,
   "metadata": {},
   "outputs": [
    {
     "data": {
      "text/plain": [
       "5"
      ]
     },
     "execution_count": 27,
     "metadata": {},
     "output_type": "execute_result"
    }
   ],
   "source": [
    "# 设解为f(8)\n",
    "# 假设竖着填充一个小矩形，会剩下2*7的空白，为f(7)\n",
    "# 假设横着填充两个小矩形，会剩下2*6的空白，为f(6)\n",
    "# f(8)=f(7)+f(6)\n",
    "\n",
    "def rectFill(n):\n",
    "    results=[1,2]\n",
    "    if n<3:\n",
    "        return results[n-1]\n",
    "    \n",
    "    pre=1\n",
    "    cur=2\n",
    "    for _ in range(3,n+1):\n",
    "        pre+=cur\n",
    "        cur,pre=pre,cur\n",
    "        \n",
    "    return cur\n",
    "\n",
    "rectFill(4)"
   ]
  },
  {
   "cell_type": "markdown",
   "metadata": {},
   "source": [
    "给定一个最大位数n，输出位数小于等于n的所有自然数。"
   ]
  },
  {
   "cell_type": "code",
   "execution_count": null,
   "metadata": {
    "scrolled": true
   },
   "outputs": [],
   "source": [
    "def print_num(n):\n",
    "    if n < 1:\n",
    "        return None\n",
    "    num = ['0'] * n\n",
    "\n",
    "    for i in range(10):\n",
    "        num[0] = chr(ord('0') + i)        # 将最高位依次置为0-9\n",
    "        print_num_rec(num, n, 1)    # 从第二位开始递归置位\n",
    "\n",
    "\n",
    "def print_num_rec(num, n, idx):\n",
    "    if idx == n:    # 如果越界则说明所有位已设置完\n",
    "        print(''.join(num))\n",
    "    else:\n",
    "        for i in range(10):\n",
    "            num[idx] = chr(ord('0') + i)\n",
    "            print_num_rec(num, n, idx + 1)\n",
    "\n",
    "\n",
    "print_num(3)"
   ]
  },
  {
   "cell_type": "markdown",
   "metadata": {},
   "source": [
    "给定一个字符串，求字符串中字符所有可能的排列情况。"
   ]
  },
  {
   "cell_type": "code",
   "execution_count": 3,
   "metadata": {},
   "outputs": [
    {
     "data": {
      "text/plain": [
       "['abb', 'bab', 'bba']"
      ]
     },
     "execution_count": 3,
     "metadata": {},
     "output_type": "execute_result"
    }
   ],
   "source": [
    "# 思路：此题为难题，得益于Python特性使得简短代码可以完成\n",
    "# 每次固定一个位置，把该位置字符与其他所有位的字符作交换，会产生n-1种新串\n",
    "# 固定位置交换后形成的子串继续递归\n",
    "def Permutation(s):\n",
    "    if not s:\n",
    "        return []\n",
    "    if len(s)==1:\n",
    "        return [s]\n",
    "    \n",
    "    res=set()    # 去重\n",
    "    for fix_idx in range(len(s)):    # 固定位置\n",
    "        for swap_ch in Permutation(s[:fix_idx]+s[fix_idx+1:]):    # 把固定位置的前后部分拼接起来，子串继续递归\n",
    "            res.add(s[fix_idx]+swap_ch)\n",
    "    return sorted(list(res))    # 按字典序排序\n",
    "\n",
    "Permutation('abb')"
   ]
  },
  {
   "cell_type": "code",
   "execution_count": null,
   "metadata": {},
   "outputs": [],
   "source": []
  }
 ],
 "metadata": {
  "kernelspec": {
   "display_name": "Python 3",
   "language": "python",
   "name": "python3"
  },
  "language_info": {
   "codemirror_mode": {
    "name": "ipython",
    "version": 3
   },
   "file_extension": ".py",
   "mimetype": "text/x-python",
   "name": "python",
   "nbconvert_exporter": "python",
   "pygments_lexer": "ipython3",
   "version": "3.6.6"
  }
 },
 "nbformat": 4,
 "nbformat_minor": 2
}
