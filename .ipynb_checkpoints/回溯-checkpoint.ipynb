{
 "cells": [
  {
   "cell_type": "markdown",
   "metadata": {},
   "source": [
    "矩阵路径，给定一个字母矩阵与一个字符串，判定矩阵中是否存在路径能产生该字符串。"
   ]
  },
  {
   "cell_type": "code",
   "execution_count": 32,
   "metadata": {},
   "outputs": [
    {
     "data": {
      "text/plain": [
       "True"
      ]
     },
     "execution_count": 32,
     "metadata": {},
     "output_type": "execute_result"
    }
   ],
   "source": [
    "mat = [['a', 'b', 't', 'g'],\n",
    "       ['c', 'f', 'c', 's'],\n",
    "       ['j', 'd', 'e', 'h']]\n",
    "string = 'bfce'\n",
    "\n",
    "\n",
    "def has_path(mat, string):\n",
    "    rows = len(mat)\n",
    "    cols = len(mat[0])\n",
    "\n",
    "    # 构造访问矩阵\n",
    "    visited = []\n",
    "    for _ in range(rows):\n",
    "        visited.append([False] * cols)\n",
    "\n",
    "    walked_len = [0]\n",
    "    for row in range(rows):\n",
    "        for col in range(cols):  # 遍历寻找\n",
    "            if has_path_rec(mat, string, row, col, rows, cols, walked_len, visited):\n",
    "                return True\n",
    "    return False\n",
    "\n",
    "\n",
    "def has_path_rec(mat, string, row, col, rows, cols, walked_len, visited):\n",
    "    if walked_len[0] == len(string):  # 如果走完字符串则返回True\n",
    "        return True\n",
    "\n",
    "    has_path = False\n",
    "    if (0 <= row < rows and  # 行边界\n",
    "            0 <= col < cols and  # 列边界\n",
    "            mat[row][col] == string[walked_len[0]] and  # 当前位置与字符串对应位置相同\n",
    "            not visited[row][col]):  # 且未被访问过\n",
    "        walked_len[0] += 1  # 匹配下一个字符\n",
    "        visited[row][col] = True  # 标记已访问\n",
    "\n",
    "        # 尝试上下左右四个方向是否有解\n",
    "        has_path = (has_path_rec(mat, string, row - 1, col, rows, cols, walked_len, visited) or\n",
    "                    has_path_rec(mat, string, row + 1, col, rows, cols, walked_len, visited) or\n",
    "                    has_path_rec(mat, string, row, col - 1, rows, cols, walked_len, visited) or\n",
    "                    has_path_rec(mat, string, row, col + 1, rows, cols, walked_len, visited))\n",
    "\n",
    "        # 四个方向均无解则回溯\n",
    "        if not has_path:\n",
    "            walked_len[0] -= 1\n",
    "            visited[row][col] = False\n",
    "    return has_path"
   ]
  },
  {
   "cell_type": "markdown",
   "metadata": {},
   "source": [
    "机器人的运动范围。给定一个数n，机器人的运动范围为坐标各位数和超过n的格子，求机器人的在指定大小矩阵里活动范围。"
   ]
  },
  {
   "cell_type": "code",
   "execution_count": 45,
   "metadata": {},
   "outputs": [
    {
     "data": {
      "text/plain": [
       "0"
      ]
     },
     "execution_count": 45,
     "metadata": {},
     "output_type": "execute_result"
    }
   ],
   "source": [
    "rows = 10\n",
    "cols = 10\n",
    "n = -10\n",
    "\n",
    "\n",
    "def mov_cnt(n, rows, cols):\n",
    "    # 构造访问矩阵\n",
    "    visited = []\n",
    "    for _ in range(rows):\n",
    "        visited.append([False] * cols)\n",
    "\n",
    "    cnt = mov_cnt_rec(n, rows, cols, 0, 0, visited)\n",
    "    return cnt\n",
    "\n",
    "\n",
    "def mov_cnt_rec(n, rows, cols, row, col, visited):\n",
    "    cnt = 0\n",
    "    if (0 <= row < rows and  # 行边界\n",
    "            0 <= col < cols and  # 列边界\n",
    "            bit_sum(row) + bit_sum(col) <= n and  # 阈值边界\n",
    "            not visited[row][col]):  # 未被访问\n",
    "        visited[row][col] = True\n",
    "        # 当前格子+四个方向的尝试\n",
    "        cnt = 1 + mov_cnt_rec(n, rows, cols, row - 1, col, visited) + \\\n",
    "              mov_cnt_rec(n, rows, cols, row + 1, col, visited) + \\\n",
    "              mov_cnt_rec(n, rows, cols, row, col - 1, visited) + \\\n",
    "              mov_cnt_rec(n, rows, cols, row, col + 1, visited)\n",
    "    return cnt\n",
    "\n",
    "\n",
    "def bit_sum(num):\n",
    "    s = 0\n",
    "    while num > 0:\n",
    "        s += num % 10\n",
    "        num //= 10\n",
    "    return s"
   ]
  },
  {
   "cell_type": "markdown",
   "metadata": {},
   "source": [
    "[Unique Paths III](https://leetcode.com/problems/unique-paths-iii/)。区域探索限定版，迷宫中有一个起点跟终点，并且存在障碍物，求从起点到终点探索完所有可行区域的走法有多少种。"
   ]
  },
  {
   "cell_type": "code",
   "execution_count": 22,
   "metadata": {},
   "outputs": [
    {
     "data": {
      "text/plain": [
       "2"
      ]
     },
     "execution_count": 22,
     "metadata": {},
     "output_type": "execute_result"
    }
   ],
   "source": [
    "# 思路：回溯，暴力往四个方向递归，设立一个全局变量记录解的数量\n",
    "\n",
    "\n",
    "def uniquePathsIII(grid) -> int:\n",
    "    res = 0\n",
    "    visited = set()\n",
    "    cnt = 0\n",
    "    rows, cols = len(grid), len(grid[0])\n",
    "\n",
    "    def dfs(row, col):\n",
    "        nonlocal res\n",
    "        if grid[row][col] == 2 and len(visited) == cnt+2:    # 遇到终点且访问点数达到要求\n",
    "            res += 1\n",
    "            return None\n",
    "\n",
    "        for row_offset, col_offset in [(1, 0), (-1, 0), (0, 1), (0, -1)]:    # 四个方向\n",
    "            new_row = row+row_offset\n",
    "            new_col = col+col_offset\n",
    "            if 0 <= new_row < rows and 0 <= new_col < cols and (new_row, new_col) not in visited and grid[new_row][new_col] != -1:\n",
    "                visited.add((new_row, new_col))\n",
    "                dfs(new_row, new_col)\n",
    "                visited.remove((new_row, new_col))\n",
    "\n",
    "    # 首先对需要走的格子进行计数\n",
    "    for row in range(rows):\n",
    "        for col in range(cols):\n",
    "            if grid[row][col] == 0:\n",
    "                cnt += 1\n",
    "\n",
    "    # 找到起点，然后开始递归\n",
    "    for row in range(rows):\n",
    "        for col in range(cols):\n",
    "            if grid[row][col] == 1:\n",
    "                visited.add((row, col))\n",
    "                dfs(row, col)\n",
    "                return res"
   ]
  },
  {
   "cell_type": "code",
   "execution_count": null,
   "metadata": {},
   "outputs": [],
   "source": []
  }
 ],
 "metadata": {
  "hide_input": false,
  "kernelspec": {
   "display_name": "Python 3",
   "language": "python",
   "name": "python3"
  },
  "language_info": {
   "codemirror_mode": {
    "name": "ipython",
    "version": 3
   },
   "file_extension": ".py",
   "mimetype": "text/x-python",
   "name": "python",
   "nbconvert_exporter": "python",
   "pygments_lexer": "ipython3",
   "version": "3.6.6"
  },
  "toc": {
   "base_numbering": 1,
   "nav_menu": {},
   "number_sections": true,
   "sideBar": true,
   "skip_h1_title": false,
   "title_cell": "Table of Contents",
   "title_sidebar": "Contents",
   "toc_cell": false,
   "toc_position": {},
   "toc_section_display": true,
   "toc_window_display": false
  }
 },
 "nbformat": 4,
 "nbformat_minor": 2
}
