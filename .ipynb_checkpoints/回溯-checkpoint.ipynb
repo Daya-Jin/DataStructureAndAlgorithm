{
 "cells": [
  {
   "cell_type": "markdown",
   "metadata": {},
   "source": [
    "矩阵路径，给定一个字母矩阵与一个字符串，判定矩阵中是否存在路径能产生该字符串。"
   ]
  },
  {
   "cell_type": "code",
   "execution_count": 32,
   "metadata": {},
   "outputs": [
    {
     "data": {
      "text/plain": [
       "True"
      ]
     },
     "execution_count": 32,
     "metadata": {},
     "output_type": "execute_result"
    }
   ],
   "source": [
    "mat = [['a', 'b', 't', 'g'],\n",
    "       ['c', 'f', 'c', 's'],\n",
    "       ['j', 'd', 'e', 'h']]\n",
    "string = 'bfce'\n",
    "\n",
    "\n",
    "def has_path(mat, string):\n",
    "    rows = len(mat)\n",
    "    cols = len(mat[0])\n",
    "\n",
    "    # 构造访问矩阵\n",
    "    visited = []\n",
    "    for _ in range(rows):\n",
    "        visited.append([False] * cols)\n",
    "\n",
    "    walked_len = [0]\n",
    "    for row in range(rows):\n",
    "        for col in range(cols):  # 遍历寻找\n",
    "            if has_path_rec(mat, string, row, col, rows, cols, walked_len, visited):\n",
    "                return True\n",
    "    return False\n",
    "\n",
    "\n",
    "def has_path_rec(mat, string, row, col, rows, cols, walked_len, visited):\n",
    "    if walked_len[0] == len(string):  # 如果走完字符串则返回True\n",
    "        return True\n",
    "\n",
    "    has_path = False\n",
    "    if (0 <= row < rows and  # 行边界\n",
    "            0 <= col < cols and  # 列边界\n",
    "            mat[row][col] == string[walked_len[0]] and  # 当前位置与字符串对应位置相同\n",
    "            not visited[row][col]):  # 且未被访问过\n",
    "        walked_len[0] += 1  # 匹配下一个字符\n",
    "        visited[row][col] = True  # 标记已访问\n",
    "\n",
    "        # 尝试上下左右四个方向是否有解\n",
    "        has_path = (has_path_rec(mat, string, row - 1, col, rows, cols, walked_len, visited) or\n",
    "                    has_path_rec(mat, string, row + 1, col, rows, cols, walked_len, visited) or\n",
    "                    has_path_rec(mat, string, row, col - 1, rows, cols, walked_len, visited) or\n",
    "                    has_path_rec(mat, string, row, col + 1, rows, cols, walked_len, visited))\n",
    "\n",
    "        # 四个方向均无解则回溯\n",
    "        if not has_path:\n",
    "            walked_len[0] -= 1\n",
    "            visited[row][col] = False\n",
    "    return has_path\n",
    "\n",
    "\n",
    "has_path(mat, string)"
   ]
  },
  {
   "cell_type": "markdown",
   "metadata": {},
   "source": [
    "机器人的运动范围。给定一个数n，机器人的运动范围为坐标各位数和超过n的格子，求机器人的在指定大小矩阵里活动范围。"
   ]
  },
  {
   "cell_type": "code",
   "execution_count": 45,
   "metadata": {},
   "outputs": [
    {
     "data": {
      "text/plain": [
       "0"
      ]
     },
     "execution_count": 45,
     "metadata": {},
     "output_type": "execute_result"
    }
   ],
   "source": [
    "rows = 10\n",
    "cols = 10\n",
    "n = -10\n",
    "\n",
    "\n",
    "def mov_cnt(n, rows, cols):\n",
    "    # 构造访问矩阵\n",
    "    visited = []\n",
    "    for _ in range(rows):\n",
    "        visited.append([False] * cols)\n",
    "\n",
    "    cnt = mov_cnt_rec(n, rows, cols, 0, 0, visited)\n",
    "    return cnt\n",
    "\n",
    "\n",
    "def mov_cnt_rec(n, rows, cols, row, col, visited):\n",
    "    cnt = 0\n",
    "    if (0 <= row < rows and  # 行边界\n",
    "            0 <= col < cols and  # 列边界\n",
    "            bit_sum(row) + bit_sum(col) <= n and  # 阈值边界\n",
    "            not visited[row][col]):  # 未被访问\n",
    "        visited[row][col] = True\n",
    "        # 当前格子+四个方向的尝试\n",
    "        cnt = 1 + mov_cnt_rec(n, rows, cols, row - 1, col, visited) + \\\n",
    "              mov_cnt_rec(n, rows, cols, row + 1, col, visited) + \\\n",
    "              mov_cnt_rec(n, rows, cols, row, col - 1, visited) + \\\n",
    "              mov_cnt_rec(n, rows, cols, row, col + 1, visited)\n",
    "    return cnt\n",
    "\n",
    "\n",
    "def bit_sum(num):\n",
    "    s = 0\n",
    "    while num > 0:\n",
    "        s += num % 10\n",
    "        num //= 10\n",
    "    return s\n",
    "\n",
    "\n",
    "mov_cnt(n, rows, cols)"
   ]
  },
  {
   "cell_type": "code",
   "execution_count": null,
   "metadata": {},
   "outputs": [],
   "source": []
  }
 ],
 "metadata": {
  "kernelspec": {
   "display_name": "Python 3",
   "language": "python",
   "name": "python3"
  },
  "language_info": {
   "codemirror_mode": {
    "name": "ipython",
    "version": 3
   },
   "file_extension": ".py",
   "mimetype": "text/x-python",
   "name": "python",
   "nbconvert_exporter": "python",
   "pygments_lexer": "ipython3",
   "version": "3.6.6"
  }
 },
 "nbformat": 4,
 "nbformat_minor": 2
}
