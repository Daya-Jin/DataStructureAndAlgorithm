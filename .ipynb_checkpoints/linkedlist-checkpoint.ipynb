{
 "cells": [
  {
   "cell_type": "markdown",
   "metadata": {},
   "source": [
    "给定一个链表头节点，反向输出这个链表。"
   ]
  },
  {
   "cell_type": "code",
   "execution_count": 8,
   "metadata": {},
   "outputs": [
    {
     "name": "stdout",
     "output_type": "stream",
     "text": [
      "3\t2\t1\t"
     ]
    }
   ],
   "source": [
    "class ListNode:\n",
    "    def __init__(self, x):\n",
    "        self.val = x\n",
    "        self.next = None\n",
    "\n",
    "\n",
    "node1 = ListNode(1)\n",
    "node2 = ListNode(2)\n",
    "node3 = ListNode(3)\n",
    "node1.next = node2\n",
    "node2.next = node3\n",
    "\n",
    "\n",
    "# # 头插法\n",
    "def reverse_out(list_node):\n",
    "    l = list()\n",
    "    while list_node:\n",
    "        l.insert(0, list_node.val)\n",
    "        list_node = list_node.next\n",
    "    return l\n",
    "\n",
    "\n",
    "# 递归法\n",
    "# def reverse_out(list_node):\n",
    "#     if list_node==None:\n",
    "#         return None\n",
    "#     elif list_node.next!=None:\n",
    "#         reverse_out(list_node.next)\n",
    "#     print(list_node.val,end='\\t')\n",
    "\n",
    "reverse_out(node1)"
   ]
  },
  {
   "cell_type": "markdown",
   "metadata": {},
   "source": [
    "给一个单链表与一个节点指针，删除该节点。"
   ]
  },
  {
   "cell_type": "code",
   "execution_count": 6,
   "metadata": {},
   "outputs": [],
   "source": [
    "# 将该节点的下一个节点内容覆盖当前节点，再删除下一个节点\n",
    "# 需要满足的条件 1. 存在下一个节点；2. 所给节点存在于链表中\n",
    "class ListNode:\n",
    "    def __init__(self, x):\n",
    "        self.val = x\n",
    "        self.next = None\n",
    "        \n",
    "def del_node(head, cur_node):\n",
    "    if head is None or cur_node is None:\n",
    "        return None\n",
    "    \n",
    "    if cur_node.next is not None:  # 给出的节点存在后继节点\n",
    "        tmp=cur_node.next\n",
    "        cur_node.val=cur_node.next.val\n",
    "        cur_node.next=cur_node.next.next\n",
    "        del tmp\n",
    "        \n",
    "    elif id(head)==id(cur_node):  # 无后继节点且为单节点链表\n",
    "        del cur_node\n",
    "        head=None\n",
    "    else:    # 无后继节点且链表不止一个节点，则说明所给节点为尾节点\n",
    "        index=head\n",
    "        while id(index.next)!=id(cur_node):\n",
    "            index=index.next\n",
    "        index.next=None\n",
    "        del cur_node\n",
    "        \n"
   ]
  },
  {
   "cell_type": "markdown",
   "metadata": {},
   "source": [
    "给定一个有序链表，删除该链表中重复过的元素(保留一份副本)。"
   ]
  },
  {
   "cell_type": "code",
   "execution_count": 3,
   "metadata": {},
   "outputs": [],
   "source": [
    "class ListNode:\n",
    "    def __init__(self, x):\n",
    "        self.val = x\n",
    "        self.next = None\n",
    "        \n",
    "def deleteDuplication(headnode):\n",
    "    if headnode is None or headnode.next is None:    # 空链表或单节点链表\n",
    "        return headnode\n",
    "    \n",
    "    cur=headnode\n",
    "    \n",
    "    while cur and cur.next:  # 存在当前节点与下一节点\n",
    "        if cur.val==cur.next.val:  # cur==next，可以删除next\n",
    "            tmp=cur.next.next\n",
    "            del cur.next\n",
    "            cur.next=tmp\n",
    "        else:  # 否则工作指针后移\n",
    "            cur=cur.next\n",
    "    return headnode"
   ]
  },
  {
   "cell_type": "markdown",
   "metadata": {},
   "source": [
    "给定一个有序链表，删除该链表中重复过的元素(不保留副本)。"
   ]
  },
  {
   "cell_type": "code",
   "execution_count": null,
   "metadata": {},
   "outputs": [],
   "source": [
    "class ListNode:\n",
    "    def __init__(self, x):\n",
    "        self.val = x\n",
    "        self.next = None\n",
    "\n",
    "\n",
    "# 设立三个指针，head，pre，cur，分别为头指针，最后一个非重复元素，工作指针\n",
    "# 注意始终保持pre->cur的链接\n",
    "def deleteDuplication(headnode):\n",
    "    if headnode is None or headnode.next is None:  # 空链表或单节点链表\n",
    "        return headnode\n",
    "\n",
    "    pre = None\n",
    "    cur = headnode  # 工作指针从头指针之前开始\n",
    "\n",
    "    while cur:  # 节点非空\n",
    "        if cur.next and cur.val == cur.next.val:  # 如果当前跟后继重复\n",
    "            dump = cur.val\n",
    "            while cur and cur.val == dump:  # 跳过所有等于重复值的节点\n",
    "                if pre is None:  # 头结点重复\n",
    "                    cur = cur.next\n",
    "                    headnode = cur\n",
    "                else:  # 中间节点重复\n",
    "                    cur = cur.next\n",
    "                    pre.next = cur\n",
    "        else:  # 当前节点未重复\n",
    "            pre = cur\n",
    "            cur = cur.next\n",
    "\n",
    "    return headnode"
   ]
  }
 ],
 "metadata": {
  "kernelspec": {
   "display_name": "Python 3",
   "language": "python",
   "name": "python3"
  },
  "language_info": {
   "codemirror_mode": {
    "name": "ipython",
    "version": 3
   },
   "file_extension": ".py",
   "mimetype": "text/x-python",
   "name": "python",
   "nbconvert_exporter": "python",
   "pygments_lexer": "ipython3",
   "version": "3.6.6"
  }
 },
 "nbformat": 4,
 "nbformat_minor": 2
}
