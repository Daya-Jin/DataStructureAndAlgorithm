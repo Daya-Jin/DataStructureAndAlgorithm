{
 "cells": [
  {
   "cell_type": "markdown",
   "metadata": {},
   "source": [
    "两个栈实现队列。"
   ]
  },
  {
   "cell_type": "code",
   "execution_count": 12,
   "metadata": {},
   "outputs": [
    {
     "name": "stdout",
     "output_type": "stream",
     "text": [
      "1\n",
      "2\n"
     ]
    }
   ],
   "source": [
    "class Stack:\n",
    "    def __init__(self):\n",
    "        self.items = []\n",
    "        self.size = 0\n",
    "\n",
    "    def push(self, x):\n",
    "        self.items.append(x)\n",
    "        self.size += 1\n",
    "\n",
    "    def pop(self):\n",
    "        self.size -= 1\n",
    "        return self.items.pop()\n",
    "\n",
    "\n",
    "# 设置一个栈用于入队，另一个栈用于出队\n",
    "class Queue:\n",
    "    def __init__(self):\n",
    "        self.s_in = Stack()  # 新元素全部压入此栈\n",
    "        self.s_out = Stack()  # 删除操作全部在此栈\n",
    "\n",
    "    def add(self, x):\n",
    "        self.s_in.push(x)\n",
    "\n",
    "    def delete(self):\n",
    "        if self.s_out.size == 0:  # 如果栈2为空，需要将栈1的元素转移到栈2\n",
    "            if self.s_in.size == 0:  # 如果栈1也空\n",
    "                raise IndexError(\"empty queue\")\n",
    "            while self.s_in.size > 0:  # 转移元素\n",
    "                self.s_out.push(self.s_in.pop())\n",
    "        return self.s_out.pop()\n",
    "\n",
    "\n",
    "q = Queue()\n",
    "q.add(1)\n",
    "q.add(2)\n",
    "print(q.delete())\n",
    "print(q.delete())"
   ]
  },
  {
   "cell_type": "markdown",
   "metadata": {},
   "source": [
    "两个队列实现一个栈。"
   ]
  },
  {
   "cell_type": "code",
   "execution_count": 17,
   "metadata": {},
   "outputs": [
    {
     "name": "stdout",
     "output_type": "stream",
     "text": [
      "2\n",
      "1\n"
     ]
    }
   ],
   "source": [
    "class Queue:\n",
    "    def __init__(self):\n",
    "        self.items = []\n",
    "        self.size = 0\n",
    "\n",
    "    def in_queue(self, x):\n",
    "        self.items.insert(0, x)\n",
    "        self.size += 1\n",
    "\n",
    "    def out_queue(self):\n",
    "        self.size -= 1\n",
    "        return self.items.pop()\n",
    "\n",
    "\n",
    "# 两个队列交替使用，始终保留一个空队列，插入操作只在非空队列上进行\n",
    "# 删除时需要对非空队列除最后一个元素外的全部元素进行转移\n",
    "class Stack:\n",
    "    def __init__(self):\n",
    "        self.q0 = Queue()\n",
    "        self.q1 = Queue()\n",
    "        self.flag = True  # 非空队列标记\n",
    "\n",
    "    def push(self, x):\n",
    "        if self.flag:\n",
    "            self.q0.in_queue(x)\n",
    "        else:\n",
    "            self.q1.in_queue(x)\n",
    "\n",
    "    def pop(self):\n",
    "        if self.flag:\n",
    "            non_empty_q = self.q0\n",
    "            empty_q = self.q1\n",
    "        else:\n",
    "            non_empty_q = self.q1\n",
    "            empty_q = self.q0\n",
    "\n",
    "        if non_empty_q.size <= 1:  # 如果弹出队列只有一个元素\n",
    "            return non_empty_q.out_queue()  # 直接弹出\n",
    "        else:\n",
    "            while non_empty_q.size > 1:  # 转移除最后一个元素外的全部元素\n",
    "                empty_q.in_queue(non_empty_q.out_queue())\n",
    "            self.flag = not self.flag  # 更改标记\n",
    "            return non_empty_q.out_queue()  # 弹出"
   ]
  },
  {
   "cell_type": "markdown",
   "metadata": {},
   "source": [
    "实现一个栈结构，其push, pop, min的时间复杂度均为O(1)。"
   ]
  },
  {
   "cell_type": "code",
   "execution_count": null,
   "metadata": {},
   "outputs": [],
   "source": [
    "# 设立一个辅助栈，其空间大小与原栈相等，但是栈顶始终记录原栈中的最小值以实现min()\n",
    "# 入栈时，辅助栈只入小值；出栈时，两栈栈顶相等时才同时出栈；辅助栈元素总是少于等于原栈\n",
    "\n",
    "\n",
    "class Min_Stack:\n",
    "    def __init__(self):\n",
    "        self.item = []\n",
    "        self.min_s = []\n",
    "\n",
    "    # 入栈时，原栈正常操作，辅助栈只入小值\n",
    "    def push(self, x):\n",
    "        self.item.append(x)\n",
    "        if not self.min_s or x <= self.min_s[-1]:\n",
    "            self.min_s.append(x)\n",
    "\n",
    "    # 出栈时，原栈正常操作，当原栈栈顶为最小值时，辅助栈才出栈\n",
    "    def pop(self):\n",
    "        if self.item[-1] == self.min[-1]:\n",
    "            self.min_s.pop()\n",
    "        return self.item.pop()\n",
    "\n",
    "    def min(self):\n",
    "        return self.min_s[-1]"
   ]
  },
  {
   "cell_type": "markdown",
   "metadata": {},
   "source": [
    "入栈出栈合法性判断。给定一个无重复数字的入栈序列，判断一个序列是否能由出栈操作得到。"
   ]
  },
  {
   "cell_type": "code",
   "execution_count": 8,
   "metadata": {},
   "outputs": [
    {
     "data": {
      "text/plain": [
       "False"
      ]
     },
     "execution_count": 8,
     "metadata": {},
     "output_type": "execute_result"
    }
   ],
   "source": [
    "# 设立一个栈，将入栈序列中的元素依次入栈，每次入栈操作都判断当前栈顶是否为出战序列的首元素\n",
    "# 若是则出栈，否则继续入栈\n",
    "\n",
    "\n",
    "def IsPopOrder(push_s, pop_s):\n",
    "    if not push_s or len(push_s) != len(pop_s):\n",
    "        return False\n",
    "\n",
    "    stack = []\n",
    "    for item in push_s:\n",
    "        stack.append(item)\n",
    "        while len(stack) and stack[-1] == pop_s[0]:\n",
    "            stack.pop()\n",
    "            pop_s.pop(0)\n",
    "            \n",
    "    return False if len(stack) else True\n",
    "\n",
    "\n",
    "IsPopOrder([1, 2, 3], [3, 1, 2])"
   ]
  },
  {
   "cell_type": "markdown",
   "metadata": {},
   "source": [
    "二叉树的层次遍历。"
   ]
  },
  {
   "cell_type": "code",
   "execution_count": null,
   "metadata": {},
   "outputs": [],
   "source": [
    "class TreeNode:\n",
    "    def __init__(self, x):\n",
    "        self.val = x\n",
    "        self.left = None\n",
    "        self.right = None\n",
    "        \n",
    "def LevelTrav(root_node):\n",
    "    if not root_node:\n",
    "        return []\n",
    "    \n",
    "    queue=[root_node]\n",
    "    res=[]\n",
    "    \n",
    "    while queue:\n",
    "        cur_node=queue.pop(0)\n",
    "        res.append(cur_node.val)\n",
    "        if cur_node.left:\n",
    "            queue.append(cur_node.left)\n",
    "        if cur_node.right:\n",
    "            queue.append(cur_node.right)\n",
    "    \n",
    "    return res"
   ]
  },
  {
   "cell_type": "markdown",
   "metadata": {},
   "source": [
    "二叉树的层次遍历。不同层的叶子节点输出到不同行。"
   ]
  },
  {
   "cell_type": "code",
   "execution_count": 12,
   "metadata": {},
   "outputs": [
    {
     "name": "stdout",
     "output_type": "stream",
     "text": [
      "0 \n",
      "1 \n",
      "2 3 "
     ]
    }
   ],
   "source": [
    "class TreeNode:\n",
    "    def __init__(self, x):\n",
    "        self.val = x\n",
    "        self.left = None\n",
    "        self.right = None\n",
    "\n",
    "\n",
    "def LevelTrav_level(root_node):\n",
    "    if not root_node:\n",
    "        return None\n",
    "\n",
    "    next_level = 0\n",
    "    cur_level = 1\n",
    "    queue = [root_node]\n",
    "    res = []\n",
    "\n",
    "    while queue:\n",
    "        # 先输出当前节点\n",
    "        cur_node = queue.pop(0)\n",
    "        print(cur_node.val, end=' ')\n",
    "        cur_level -= 1\n",
    "\n",
    "        # 子节点入队并计数，此步必须在换行判断之前！\n",
    "        if cur_node.left:\n",
    "            queue.append(cur_node.left)\n",
    "            next_level += 1\n",
    "        if cur_node.right:\n",
    "            queue.append(cur_node.right)\n",
    "            next_level += 1\n",
    "\n",
    "        if cur_level == 0:    # 当前层已结束\n",
    "            cur_level = next_level\n",
    "            print('')\n",
    "\n",
    "\n",
    "node0 = TreeNode(0)\n",
    "node1 = TreeNode(1)\n",
    "node2 = TreeNode(2)\n",
    "node3 = TreeNode(3)\n",
    "node0.left = node1\n",
    "node1.left = node2\n",
    "node1.right = node3\n",
    "\n",
    "LevelTrav_level(node0)"
   ]
  },
  {
   "cell_type": "code",
   "execution_count": null,
   "metadata": {},
   "outputs": [],
   "source": []
  }
 ],
 "metadata": {
  "kernelspec": {
   "display_name": "Python 3",
   "language": "python",
   "name": "python3"
  },
  "language_info": {
   "codemirror_mode": {
    "name": "ipython",
    "version": 3
   },
   "file_extension": ".py",
   "mimetype": "text/x-python",
   "name": "python",
   "nbconvert_exporter": "python",
   "pygments_lexer": "ipython3",
   "version": "3.6.6"
  }
 },
 "nbformat": 4,
 "nbformat_minor": 2
}
