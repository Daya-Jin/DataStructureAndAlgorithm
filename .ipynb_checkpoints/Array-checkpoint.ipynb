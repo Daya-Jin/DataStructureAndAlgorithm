{
 "cells": [
  {
   "cell_type": "markdown",
   "metadata": {},
   "source": [
    "一个长度为$n$的数组，其数字范围为$[0,n-1]$，判断其中是否有重复数字。"
   ]
  },
  {
   "cell_type": "code",
   "execution_count": 1,
   "metadata": {},
   "outputs": [
    {
     "data": {
      "text/plain": [
       "True"
      ]
     },
     "execution_count": 1,
     "metadata": {},
     "output_type": "execute_result"
    }
   ],
   "source": [
    "# 数组数字均为自然数，可以使用数组来直接索引\n",
    "# 最简单的思路就是先排序再比较idx跟val的一致性\n",
    "# 可以进行在线排序，边排序边判断重复性\n",
    "l = [4, 6, 0, 1, 2, 5, 3, 6]\n",
    "\n",
    "\n",
    "# 该算法会改变原数组\n",
    "def is_duplicate(_list):\n",
    "    for idx in range(len(_list)):  # 遍历数组\n",
    "        while _list[idx] != idx:  # 检查当前位置是否是一个对应的值\n",
    "            val = _list[idx]  # 不是则记录值\n",
    "            if _list[idx] == _list[val]:  # 检查当前位置的元素是否出现在对应位置上\n",
    "                return True  # 出现则重复\n",
    "            _list[idx], _list[val] = _list[val], _list[idx]  # 否则将其安放到对应位置\n",
    "    return False\n",
    "\n",
    "\n",
    "is_duplicate(l)"
   ]
  },
  {
   "cell_type": "markdown",
   "metadata": {},
   "source": [
    "一二维数组每行都按从左往右递增、每列都按从上往下递增排列，实现在该二维数组中的查找。"
   ]
  },
  {
   "cell_type": "code",
   "execution_count": 61,
   "metadata": {},
   "outputs": [
    {
     "data": {
      "text/plain": [
       "False"
      ]
     },
     "execution_count": 61,
     "metadata": {},
     "output_type": "execute_result"
    }
   ],
   "source": [
    "# 易得这样的矩阵最小值在左上角，最大值在右下角\n",
    "# 然后每次再跟右上或者左下角比较，可以逐行逐列地缩小范围\n",
    "mat = [[1, 2, 8, 9],\n",
    "       [2, 4, 9, 12],\n",
    "       [4, 7, 10, 13],\n",
    "       [6, 8, 11, 15]]\n",
    "\n",
    "\n",
    "# 每次跟右上角比，搜索范围是向左或向下缩小的\n",
    "def mat_search(key, mat):\n",
    "    rows = len(mat)\n",
    "    if rows == 0:\n",
    "        return False\n",
    "    cols = len(mat[0])\n",
    "    if cols == 0:\n",
    "        return False\n",
    "    min_row = 0\n",
    "    max_col = cols - 1\n",
    "    while min_row < rows and max_col >= 0:  # 向左向下缩小，搜索范围满足的条件\n",
    "        if key == mat[min_row][max_col]:\n",
    "            return True\n",
    "        elif key < mat[min_row][max_col]:\n",
    "            max_col -= 1\n",
    "        else:\n",
    "            min_row += 1\n",
    "    return False\n",
    "\n",
    "\n",
    "mat_search(3, mat)"
   ]
  },
  {
   "cell_type": "markdown",
   "metadata": {},
   "source": [
    "将给定字符串中的空格替换成'%20'。"
   ]
  },
  {
   "cell_type": "code",
   "execution_count": 62,
   "metadata": {},
   "outputs": [
    {
     "data": {
      "text/plain": [
       "'we%20are%20happy.'"
      ]
     },
     "execution_count": 62,
     "metadata": {},
     "output_type": "execute_result"
    }
   ],
   "source": [
    "string = 'we are happy.'\n",
    "\n",
    "\n",
    "def replace_blank(string):\n",
    "    l = list(string)\n",
    "    for idx, _ in enumerate(l):\n",
    "        if l[idx] == ' ':\n",
    "            l[idx] = '%20'\n",
    "    return ''.join(l)\n",
    "\n",
    "\n",
    "replace_blank(string)"
   ]
  },
  {
   "cell_type": "markdown",
   "metadata": {},
   "source": [
    "给定一个嵌套列表表示的矩阵，要求由外到内顺时针输出矩阵中的元素，以单列表形式返回。"
   ]
  },
  {
   "cell_type": "code",
   "execution_count": 11,
   "metadata": {},
   "outputs": [
    {
     "name": "stdout",
     "output_type": "stream",
     "text": [
      "[1, 5, 9, 13]\n"
     ]
    }
   ],
   "source": [
    "def print_matrix(mat):\n",
    "    if not mat:\n",
    "        return None\n",
    "    rows = len(mat)\n",
    "    cols = len(mat[0])\n",
    "    epoch = 0    # 绕圈次数，同时代表每轮起点的对角线位置\n",
    "    res = []\n",
    "\n",
    "    while 2*epoch < rows and 2*epoch < cols:    # 只有当起点位置处于整个矩形的左上方时，才能进行走圈\n",
    "        end_x = cols-1-epoch\n",
    "        end_y = rows-1-epoch\n",
    "\n",
    "        for i in range(epoch, end_x+1):    # 往右打印一行\n",
    "            res.append(mat[epoch][i])\n",
    "\n",
    "        if epoch < end_y:    # 判断能否往下走\n",
    "            for i in range(epoch+1, end_y+1):    # 往下打印一列\n",
    "                res.append(mat[i][end_x])\n",
    "\n",
    "            if epoch < end_x:    # 判断往下走之后能否再往左走\n",
    "                for i in range(end_x-1, epoch-1, -1):    # 往左打印一行\n",
    "                    res.append(mat[end_y][i])\n",
    "\n",
    "                if epoch+1 < end_y:    # 判断往左走之后能否再往上走\n",
    "                    for i in range(end_y-1, epoch, -1):     # 往上打印一列\n",
    "                        res.append(mat[i][epoch])\n",
    "\n",
    "        epoch += 1\n",
    "    return res\n",
    "\n",
    "\n",
    "mat_test = [[1], [5], [9], [13]]\n",
    "print(print_matrix(mat_test))"
   ]
  },
  {
   "cell_type": "markdown",
   "metadata": {},
   "source": [
    "无序数组中出现次数超过一半的数字。"
   ]
  },
  {
   "cell_type": "code",
   "execution_count": 28,
   "metadata": {},
   "outputs": [
    {
     "data": {
      "text/plain": [
       "0"
      ]
     },
     "execution_count": 28,
     "metadata": {},
     "output_type": "execute_result"
    }
   ],
   "source": [
    "# 思路：出现次数超过一半的数字肯定是数组排序后的中位值，可以转化为求第n/2大的数字，复杂度O(nlogn)\n",
    "# 若存在该数字，扫描数组，相同数字+1，不同数字-1，最后值肯定大于0\n",
    "# 维护一个候选数字即可\n",
    "\n",
    "\n",
    "def MoreThanHalfNum(l):\n",
    "    if not l:\n",
    "        return None\n",
    "    if len(l) == 1:\n",
    "        return l[0]\n",
    "\n",
    "    # 预存首元素\n",
    "    cand = l[0]\n",
    "    cnt = 1\n",
    "\n",
    "    for idx in range(1, len(l)):\n",
    "        if l[idx] == cand:    # 与前值相等则+1\n",
    "            cnt += 1\n",
    "        else:\n",
    "            if cnt == 0:    # 与前值不等且计数器为0，只更新候选值\n",
    "                cand = l[idx]\n",
    "            else:    # 与前值相等且计数器不为0\n",
    "                cnt -= 1\n",
    "\n",
    "    return cand if cnt > 0 else 0\n",
    "\n",
    "\n",
    "MoreThanHalfNum([1, 2, 3, 2, 4, 2, 5, 2, 3])"
   ]
  },
  {
   "cell_type": "markdown",
   "metadata": {},
   "source": [
    "数组中最小的k个数。"
   ]
  },
  {
   "cell_type": "code",
   "execution_count": 29,
   "metadata": {},
   "outputs": [
    {
     "data": {
      "text/plain": [
       "[1, 2, 3]"
      ]
     },
     "execution_count": 29,
     "metadata": {},
     "output_type": "execute_result"
    }
   ],
   "source": [
    "# 思路：同样可使用快排思想，扫描数组，复杂度为O(n)\n",
    "# 另还可维护一个大小为k的最小堆，扫描数组。若堆未满，则直接加入堆；若堆已满，则比较最值。复杂度为O(nlogk)\n",
    "\n",
    "# class Heap:\n",
    "#     def __init__(self):\n",
    "#         self.items=[0]\n",
    "\n",
    "#     def shiftup(self,i):\n",
    "#         while\n",
    "\n",
    "import heapq    # 标准小堆模块\n",
    "\n",
    "\n",
    "def KLeastNumbers(l, k):\n",
    "    if not l or not k or k > len(l):\n",
    "        return []\n",
    "\n",
    "    heapq.heapify(l)\n",
    "    return [heapq.heappop(l) for _ in range(k)]\n",
    "\n",
    "\n",
    "KLeastNumbers([1, 2, 3, 4, 5], 3)"
   ]
  },
  {
   "cell_type": "markdown",
   "metadata": {},
   "source": [
    "数据流里的中位数。给定一个数据流入口，要求随时记录已读数据的中位数。"
   ]
  },
  {
   "cell_type": "code",
   "execution_count": 32,
   "metadata": {},
   "outputs": [
    {
     "data": {
      "text/plain": [
       "[1, 1.5, 2, 2.5, 3, 3.5]"
      ]
     },
     "execution_count": 32,
     "metadata": {},
     "output_type": "execute_result"
    }
   ],
   "source": [
    "# 思路：最简单的办法，设置一个数组，该数组始终保持前半部分有序，使用快排思想下的复杂度为O(n)\n",
    "def MedianOfBuffer(buf):\n",
    "    mem = []\n",
    "    median = []\n",
    "\n",
    "    # 模拟从数据流中逐个读取数据，然后保存每次读取后的中位数\n",
    "    for item in buf:\n",
    "        mem.append(item)\n",
    "\n",
    "        mem.sort()\n",
    "        mem_len = len(mem)\n",
    "        if mem_len % 2 == 0:\n",
    "            median.append((mem[mem_len//2-1]+mem[mem_len//2])/2)\n",
    "        else:\n",
    "            median.append(mem[mem_len//2])\n",
    "\n",
    "    return median\n",
    "\n",
    "# 还可用AVL树，不过需要把平衡条件改成左右子树的节点数差不能超过1，不过代码难写\n",
    "# 注意到中位数左边都是小值，右边都是大值，考虑同时使用一个最大堆(左)与最小堆(右)\n",
    "# 待补充\n",
    "\n",
    "\n",
    "buffer = [1, 2, 3, 4, 5, 6]\n",
    "MedianOfBuffer(buffer)"
   ]
  },
  {
   "cell_type": "markdown",
   "metadata": {},
   "source": [
    "最大子串和。给定一个数字串，求出其中和最大的子串序列。"
   ]
  },
  {
   "cell_type": "code",
   "execution_count": 34,
   "metadata": {},
   "outputs": [
    {
     "data": {
      "text/plain": [
       "10"
      ]
     },
     "execution_count": 34,
     "metadata": {},
     "output_type": "execute_result"
    }
   ],
   "source": [
    "# 思路，维护一个当前和与最大和的变量，扫描数组并尝试加上新数字。\n",
    "# 若做加法之前的累加和为负数，那么负数加上当前数字只可能比当前数字更小，这种情况可以直接从当前数字起重新加\n",
    "# 只有当加法之前的累加和为正，再加上一个数字才会产生更大的和\n",
    "# 每次做完加法之后需要判断当前和是否大于保存的最大和\n",
    "\n",
    "\n",
    "def MaxSumOfSubArray(arr):\n",
    "    opt = arr[0]\n",
    "    cur_max = 0\n",
    "    res = -0xffffff\n",
    "\n",
    "    for i in range(len(arr)):\n",
    "        if cur_max < 0:    # 如果加之前的最大和就为负，那么加上该数只能产生更小的和，所以舍弃前面的和\n",
    "            cur_max = arr[i]\n",
    "        else:    # 前次累加和为正数的情况\n",
    "            cur_max += arr[i]\n",
    "\n",
    "        if cur_max > res:\n",
    "            res = cur_max\n",
    "    return res\n",
    "\n",
    "\n",
    "MaxSumOfSubArray([1, 2, 3, 4, -1])"
   ]
  },
  {
   "cell_type": "markdown",
   "metadata": {},
   "source": [
    "求数字序列中的第n位。给定一个顺序数字序列：\"01234567891011121314...\"，求该序列中第n位上的数字。"
   ]
  },
  {
   "cell_type": "code",
   "execution_count": 61,
   "metadata": {},
   "outputs": [
    {
     "data": {
      "text/plain": [
       "0"
      ]
     },
     "execution_count": 61,
     "metadata": {},
     "output_type": "execute_result"
    }
   ],
   "source": [
    "# 思路：给一个索引idx，首先求出该索引属于哪个位数区段，如0-9的一位数，或10-99的两位数\n",
    "# 求出位数区间后，再找到对应的数字即可\n",
    "\n",
    "\n",
    "def DigitAtIdx(idx):\n",
    "    if idx < 0:\n",
    "        return -1\n",
    "    elif idx <= 10:\n",
    "        return idx-1\n",
    "\n",
    "    # 求出idx所在区间\n",
    "    idx -= 10\n",
    "    bit = 2\n",
    "    while idx > (9*(10**(bit-1))*bit):    # 二位数区间有90个数，共90*2个数字，n位数区间有9*10**n*n位数字\n",
    "        idx -= 9*(10**(bit-1))*bit\n",
    "        bit += 1\n",
    "\n",
    "    # 知道位数区间后，再求是第几个数字的第几位\n",
    "    num_idx = idx//bit\n",
    "    number = 10**(bit-1)+num_idx\n",
    "    digit_idx = idx % bit\n",
    "\n",
    "    return int(str(number)[digit_idx])\n",
    "\n",
    "\n",
    "DigitAtIdx(1002)"
   ]
  },
  {
   "cell_type": "markdown",
   "metadata": {},
   "source": [
    "最小数字拼接方案。给定一组数字a，b，c ...，给出一个拼接方案，使得拼接后的数字最小。"
   ]
  },
  {
   "cell_type": "code",
   "execution_count": 91,
   "metadata": {},
   "outputs": [
    {
     "data": {
      "text/plain": [
       "321323"
      ]
     },
     "execution_count": 91,
     "metadata": {},
     "output_type": "execute_result"
    }
   ],
   "source": [
    "# 思路：我们重新定义一种大小关系，若m，n拼接后的数字mn大于nm，则定义m>n\n",
    "# 按照这个大小规则对所有数字排序，再以递增顺序拼接所有数字即可\n",
    "\n",
    "def GT(a,b):\n",
    "    '''\n",
    "    以拼接后的标准来比较两字符串形式的数字大小\n",
    "    '''\n",
    "    return True if int(a+b)>int(b+a) else False\n",
    "\n",
    "def ChBubSort(chs):\n",
    "    '''\n",
    "    对字符串列表做冒泡排序，可在此处优化\n",
    "    '''\n",
    "    chs_len=len(chs)\n",
    "    for i in range(chs_len-1):\n",
    "        for j in range(chs_len-i-1):\n",
    "            if GT(chs[j],chs[j+1]):\n",
    "                chs[j],chs[j+1]=chs[j+1],chs[j]\n",
    "\n",
    "def MinNumberComp(numbers):\n",
    "    if not numbers:\n",
    "        return ''\n",
    "    l=list(map(str,numbers))\n",
    "    ChBubSort(l)\n",
    "    return int(''.join([num for num in l]))\n",
    "\n",
    "MinNumberComp([3,32,321])"
   ]
  },
  {
   "cell_type": "markdown",
   "metadata": {},
   "source": [
    "数字与字母的映射组合。给定一个数字与字母的映射法则：0->a，1->b，25->z，求一个数字n有多少种字母表示法。"
   ]
  },
  {
   "cell_type": "code",
   "execution_count": 131,
   "metadata": {},
   "outputs": [
    {
     "data": {
      "text/plain": [
       "5"
      ]
     },
     "execution_count": 131,
     "metadata": {},
     "output_type": "execute_result"
    }
   ],
   "source": [
    "# 思路：将数字字符串化，倒序考虑分割种类\n",
    "# 注意到字母最多只能表示两位数字，所以窗口只需设置两位即可\n",
    "\n",
    "def PresentCnt(n):\n",
    "    if n<0:\n",
    "        return 0\n",
    "    \n",
    "    s=str(n)\n",
    "    cnts=[0]*len(s)\n",
    "    cnts[-1]=1    # 最后一位只有一种表示方法\n",
    "    \n",
    "    for idx in range(len(s)-2,-1,-1):    # 从倒数第二位开始往前推\n",
    "        cnts[idx]=cnts[idx+1]    # 设为上轮的表示数，只需计算相对于上轮所增加到的表示数即可\n",
    "        \n",
    "        # 探寻是否有两位数的字母表示法\n",
    "        dig1=int(s[idx])    # 十位\n",
    "        dig2=int(s[idx+1])    # 个位\n",
    "        tmp=dig1*10+dig2\n",
    "        \n",
    "        if 10<=tmp and tmp<=25:    # 该两位数存在一种单字母表示\n",
    "            # 难点\n",
    "            # 只有当该两位数后面存在数字时，表达数才能加倍\n",
    "            # (该两位数字存在两种表示，两位数后面的数字可以任取表示)\n",
    "            if idx<(len(s)-2):    \n",
    "                cnts[idx]+=cnts[idx+2]\n",
    "            # 如果该两位数后面不存在数字，则只能多产生一种表示\n",
    "            else:\n",
    "                cnts[idx]+=1\n",
    "        \n",
    "    return cnts[0]\n",
    "\n",
    "PresentCnt(12258)"
   ]
  },
  {
   "cell_type": "markdown",
   "metadata": {},
   "source": [
    "重复数组校验。一数组中本应当所有数字都是出现两次的，现因某原因导致有一个数据出错，出现了两个单次数字，找出它们。"
   ]
  },
  {
   "cell_type": "code",
   "execution_count": 140,
   "metadata": {},
   "outputs": [
    {
     "data": {
      "text/plain": [
       "[6, 4]"
      ]
     },
     "execution_count": 140,
     "metadata": {},
     "output_type": "execute_result"
    }
   ],
   "source": [
    "# 思路：最简单的，维护一个哈希表，扫描数组和哈希表即可，时间空间复杂度均为O(n)\n",
    "# 更优解，使用异或位运算，数字与自身异或等于0，把所有数字异或起来会得到一个非零值\n",
    "# 设a、b为单次出现的数字，有a^b^c^c^d^d^...=a^b!=0，二进制结果中为1的位即a异于b的位\n",
    "# 按某位值为1的位对原数组进行分组，则a、b必被分开到不同组中。\n",
    "# 两组内再进行异或运算，各组内得到的结果即为a、b\n",
    "\n",
    "\n",
    "def XorAllNums(numbers):\n",
    "    res = 0\n",
    "    for num in numbers:\n",
    "        res ^= num\n",
    "    return res\n",
    "\n",
    "\n",
    "def FindErrData(numbers):\n",
    "    if not numbers:\n",
    "        return []\n",
    "\n",
    "    # 所有数字异或\n",
    "    xor_res = XorAllNums(numbers)\n",
    "\n",
    "    # 找到异或结果中最低位1所在的位置\n",
    "    pos = 0\n",
    "    while xor_res & 1 == 0 and pos < 32:\n",
    "        xor_res >>= 1\n",
    "        pos += 1\n",
    "\n",
    "    # 按pos位是否为1进行分组异或\n",
    "    a = b = 0\n",
    "    for num in numbers:\n",
    "        if (num >> pos) & 1:\n",
    "            a ^= num\n",
    "        else:\n",
    "            b ^= num\n",
    "\n",
    "    return [a, b]\n",
    "\n",
    "\n",
    "FindErrData([4, 6, 1, 1, 1, 1])"
   ]
  },
  {
   "cell_type": "markdown",
   "metadata": {},
   "source": [
    "(未解决！)重复数组中的单次数字。一数组本应是每个数字都出现三次的，现因某原因导致多出一个数字，找出这个单次数字。"
   ]
  },
  {
   "cell_type": "code",
   "execution_count": 152,
   "metadata": {},
   "outputs": [
    {
     "data": {
      "text/plain": [
       "3467"
      ]
     },
     "execution_count": 152,
     "metadata": {},
     "output_type": "execute_result"
    }
   ],
   "source": [
    "# 思路：同样是位运算，所有数字都出现三次，转换成二进制后，逐位累加\n",
    "# 如果单次数字该位值为0，则累加结果可以被3整除；反之表示单次数字该位值为1\n",
    "# 存在BUG，结果为负数时出错\n",
    "\n",
    "\n",
    "def FindDumpNum(numbers):\n",
    "    if not numbers:\n",
    "        return None\n",
    "\n",
    "    # 逐位累加\n",
    "    bit_sums = [0]*32\n",
    "    for num in numbers:\n",
    "        bit_mask = 1    # 分别在各位设1来提取二进制中的1\n",
    "        for idx in range(31, -1, -1):    # 从低位往高位逐位累加\n",
    "            bit_sums[idx] += 1 if num & bit_mask else 0\n",
    "            bit_mask <<= 1    # 掩码左移\n",
    "\n",
    "    # 以是否能被3整除来设置各位是1还是0\n",
    "    res = 0\n",
    "    for bit_sum in bit_sums:\n",
    "        res <<= 1\n",
    "        res += (bit_sum) % 3    # 由题意易得，该值只可能是0或1\n",
    "\n",
    "    return res\n",
    "\n",
    "\n",
    "FindDumpNum([0, 3467, 0, 0, 0, 0, 0, 0])"
   ]
  },
  {
   "cell_type": "markdown",
   "metadata": {},
   "source": [
    "单次顺序反转。给定一个字符串，反转其中单词的顺序。单词后跟的标点符号被认为是单词的一部分。"
   ]
  },
  {
   "cell_type": "code",
   "execution_count": 169,
   "metadata": {},
   "outputs": [
    {
     "data": {
      "text/plain": [
       "'def. abc'"
      ]
     },
     "execution_count": 169,
     "metadata": {},
     "output_type": "execute_result"
    }
   ],
   "source": [
    "# 思路：首先反转整个字符串，然后根据空格的位置来反转单次子串。\n",
    "\n",
    "def ReverseWord(s):\n",
    "    res=ReverseStr(list(s),0,len(s)-1)\n",
    "    word_start=word_end=0\n",
    "    s_len=len(res)\n",
    "    \n",
    "    while word_start<s_len:\n",
    "        if res[word_start]==' ':\n",
    "            word_start+=1\n",
    "            word_end+=1\n",
    "            \n",
    "        # 找到单词的末尾位置+1\n",
    "        while word_end<s_len and res[word_end]!=' ':\n",
    "            word_end+=1\n",
    "        \n",
    "        # 反转单词，起点指针移到末尾指针\n",
    "        ReverseStr(res,word_start,word_end-1)\n",
    "        word_start=word_end\n",
    "    return ''.join(res)\n",
    "    \n",
    "def ReverseStr(s_list,start,end):\n",
    "    '''\n",
    "    反转字符串，为便于str与list的转换，参数与返回值均为list\n",
    "    '''\n",
    "    # return s[start:end+1:-1]\n",
    "    while start<end:\n",
    "        s_list[start],s_list[end]=s_list[end],s_list[start]\n",
    "        start+=1\n",
    "        end-=1\n",
    "    return s_list\n",
    "\n",
    "ReverseWord('abc def.')"
   ]
  },
  {
   "cell_type": "markdown",
   "metadata": {},
   "source": [
    "字符串的循环移位。给定一个字符串与数字n<len(s)，将字符串循环左移n位。"
   ]
  },
  {
   "cell_type": "code",
   "execution_count": 177,
   "metadata": {},
   "outputs": [
    {
     "data": {
      "text/plain": [
       "'fabcde'"
      ]
     },
     "execution_count": 177,
     "metadata": {},
     "output_type": "execute_result"
    }
   ],
   "source": [
    "# 思路，同字符串反转，将前n位整体反转，再反转剩余部分，最后反转整个字符串即可\n",
    "\n",
    "def StrLeftMove(s,n):\n",
    "    # return s[n:]+s[:n]\n",
    "    if len(s)<2 or n==0:\n",
    "        return s\n",
    "    \n",
    "    res=list(s)\n",
    "    ReverseStr(res,0,n-1)\n",
    "    ReverseStr(res,n,len(res)-1)\n",
    "    ReverseStr(res,0,len(res)-1)\n",
    "    return ''.join(res)\n",
    "    \n",
    "def ReverseStr(s_list,start,end):\n",
    "    '''\n",
    "    反转字符串，为便于str与list的转换，参数与返回值均为list\n",
    "    '''\n",
    "    # return s[start:end+1:-1]\n",
    "    while start<end:\n",
    "        s_list[start],s_list[end]=s_list[end],s_list[start]\n",
    "        start+=1\n",
    "        end-=1\n",
    "    return s_list\n",
    "\n",
    "StrLeftMove('abcdef',5)"
   ]
  },
  {
   "cell_type": "markdown",
   "metadata": {},
   "source": [
    "滑动窗口中的最大值。给定一个数组与一个大小为k的滑动窗口，求滑动窗口扫描数组时窗口中出现过的所有最大值。"
   ]
  },
  {
   "cell_type": "code",
   "execution_count": 190,
   "metadata": {},
   "outputs": [
    {
     "data": {
      "text/plain": [
       "[]"
      ]
     },
     "execution_count": 190,
     "metadata": {},
     "output_type": "execute_result"
    }
   ],
   "source": [
    "# 思路：使用一个与滑动窗口等长的双端队列，队首始终保持滑动窗口内的最大值\n",
    "# 队首元素后跟后继元素\n",
    "\n",
    "def MaxInWindow(numbers,k):\n",
    "    deque=[]\n",
    "    res=[]\n",
    "    \n",
    "    for idx in range(len(numbers)):\n",
    "        while deque and numbers[idx]>=numbers[deque[-1]]:    # 删除队列中比numbers[idx]小的数字\n",
    "            deque.pop()\n",
    "            \n",
    "        if deque and idx-deque[0]>=k:    # 如果队首元素与当前指针距离大于k\n",
    "            deque.pop(0)    # 说明队首元素已超出滑动窗口，必须删除\n",
    "            \n",
    "        deque.append(idx)    # 当前元素入队\n",
    "        \n",
    "        if k and idx>=k-1:    # 当工作指针走到k-1时才需要保存最大值，此句可判定k=0的情形\n",
    "            res.append(numbers[deque[0]])\n",
    "            \n",
    "    return res\n",
    "            \n",
    "MaxInWindow([10, 14, 12, 11],0)"
   ]
  },
  {
   "cell_type": "markdown",
   "metadata": {},
   "source": [
    "判断一手扑克牌(手牌数为5)是否为顺子，假设大小王初始值为0，并可以转换成任意牌面值。"
   ]
  },
  {
   "cell_type": "code",
   "execution_count": 192,
   "metadata": {},
   "outputs": [
    {
     "data": {
      "text/plain": [
       "False"
      ]
     },
     "execution_count": 192,
     "metadata": {},
     "output_type": "execute_result"
    }
   ],
   "source": [
    "# 思路：易得当手牌中存在对子时就不可能是顺子；\n",
    "# 然后满足顺子的必要条件为max-min<5，没有抽到大小王时，max-min=4；抽到时则小于4\n",
    "# 所以大小王需要特殊对待。设立一个记录出现次数的数字，然后在维护一个最大最小值即可\n",
    "\n",
    "def IsContinuous(cards):\n",
    "    if not cards or len(cards)!=5:\n",
    "        return False\n",
    "    \n",
    "    cnts=[0]*14\n",
    "    cnts[0]=-1    # 代码中遇到>1的值会返回False，而大小王只有两张牌\n",
    "    min_val,max_val=14,0\n",
    "    \n",
    "    for val in cards:\n",
    "        cnts[val]+=1\n",
    "        \n",
    "        if val==0:\n",
    "            continue\n",
    "            \n",
    "        if cnts[val]>1:\n",
    "            return False\n",
    "        \n",
    "        if val>max_val:\n",
    "            max_val=val\n",
    "        if val<min_val:\n",
    "            min_val=val\n",
    "            \n",
    "    return True if max_val-min_val<5 else False\n",
    "\n",
    "IsContinuous([0,0,1,3,6])"
   ]
  },
  {
   "cell_type": "markdown",
   "metadata": {},
   "source": [
    "股票的最大利润。某只股票的市价按时间顺序存储在数组中，限制只能买卖一次，求能获取的最大利润。"
   ]
  },
  {
   "cell_type": "code",
   "execution_count": 199,
   "metadata": {},
   "outputs": [
    {
     "data": {
      "text/plain": [
       "0"
      ]
     },
     "execution_count": 199,
     "metadata": {},
     "output_type": "execute_result"
    }
   ],
   "source": [
    "# 思路：设置一个变量保持最小值，扫描数组，在设置一个变量保存最大利润\n",
    "\n",
    "def MaxDiffInTime(nums):\n",
    "    if len(nums)<2:\n",
    "        return 0\n",
    "    \n",
    "    min_val=nums[0]\n",
    "    max_diff=nums[1]-nums[0]\n",
    "    \n",
    "    for num in nums:\n",
    "        if num<min_val:\n",
    "            min_val=num\n",
    "            \n",
    "        cur_diff=num-min_val\n",
    "        if cur_diff>max_diff:\n",
    "            max_diff=cur_diff\n",
    "    \n",
    "    return max_diff\n",
    "\n",
    "MaxDiffInTime([4, 2])"
   ]
  },
  {
   "cell_type": "markdown",
   "metadata": {},
   "source": [
    "乘积数组。给定一个已知数组$A=[a_{0},a_{1},...,a_{n-1}]$，求数组$B=[b_{0},b_{1},...,b_{n-1}]$，其中$b_{i}=a_{0}{\\times}...{\\times}a_{i-1}{\\times}a_{i+1}{\\times}...{\\times}a_{n-1}$。"
   ]
  },
  {
   "cell_type": "code",
   "execution_count": null,
   "metadata": {},
   "outputs": [],
   "source": [
    "# 思路：把b[i]分成两次计算，先计算b1[i]=a[0]*...*a[i-1]，再计算b2[i]=a[i+1]*...*a[n-1]\n",
    "# b[i]=b1[i]*b2[i]。不难发现b1[i]=b1[i-1]*a[i-1]，用单个循环就可计算出所有的b1\n",
    "# 接下来使用类似的方法计算所有的b2，每算出一个b2，就可得出一个b[i]\n",
    "\n",
    "def MultiplyArr(A):\n",
    "    if len(A)<2:\n",
    "        return []\n",
    "    \n",
    "    n=len(A)\n",
    "    B=[None]*len(A)\n",
    "    B[0]=1\n",
    "    \n",
    "    for i in range(1,n):\n",
    "        B[i]=B[i-1]*A[i-1]\n",
    "        \n",
    "    b2=1\n",
    "    for i in range(n-2,-1,-1):\n",
    "        b2*=A[i+1]\n",
    "        B[i]*=b2\n",
    "        \n",
    "    return B"
   ]
  },
  {
   "cell_type": "markdown",
   "metadata": {},
   "source": [
    "Maximum Average Subarray With Length K. 给定一个数组与窗口大小k，求窗口可能的最大(平均)值。"
   ]
  },
  {
   "cell_type": "code",
   "execution_count": 7,
   "metadata": {},
   "outputs": [
    {
     "data": {
      "text/plain": [
       "4.0"
      ]
     },
     "execution_count": 7,
     "metadata": {},
     "output_type": "execute_result"
    }
   ],
   "source": [
    "# 思路：扫描一遍数组，使用额外变量记录最大和与出现最大和的位置即可\n",
    "\n",
    "\n",
    "def findMaxAverage(nums: 'List[int]', k: int) -> float:\n",
    "    max_sum = sum([nums[i] for i in range(k)])\n",
    "    cur_sum=max_sum\n",
    "\n",
    "    for idx in range(1, len(nums)-k+1):\n",
    "        cur_sum = cur_sum-nums[idx-1]+nums[idx+k-1]\n",
    "        if cur_sum > max_sum:\n",
    "            max_sum = cur_sum\n",
    "            pos = idx\n",
    "\n",
    "    return max_sum/k\n",
    "\n",
    "\n",
    "findMaxAverage([0,4,0,3,2], 1)"
   ]
  },
  {
   "cell_type": "code",
   "execution_count": null,
   "metadata": {},
   "outputs": [],
   "source": []
  }
 ],
 "metadata": {
  "kernelspec": {
   "display_name": "Python 3",
   "language": "python",
   "name": "python3"
  },
  "language_info": {
   "codemirror_mode": {
    "name": "ipython",
    "version": 3
   },
   "file_extension": ".py",
   "mimetype": "text/x-python",
   "name": "python",
   "nbconvert_exporter": "python",
   "pygments_lexer": "ipython3",
   "version": "3.6.6"
  }
 },
 "nbformat": 4,
 "nbformat_minor": 2
}
