{
 "cells": [
  {
   "cell_type": "markdown",
   "metadata": {},
   "source": [
    "一个长度为$n$的数组，其数字范围为$[0,n-1]$，判断其中是否有重复数字。"
   ]
  },
  {
   "cell_type": "code",
   "execution_count": 34,
   "metadata": {},
   "outputs": [
    {
     "name": "stdout",
     "output_type": "stream",
     "text": [
      "[0, 1, 2, 3, 4, 5, 6, 6]\n"
     ]
    }
   ],
   "source": [
    "# 数组数字均为自然数，可以使用数组来直接索引\n",
    "# 最简单的思路就是先排序再比较idx跟val的一致性\n",
    "# 可以进行在线排序，边排序边判断重复性\n",
    "l = [4, 6, 0, 1, 2, 5, 3, 6]\n",
    "\n",
    "\n",
    "# 该算法会改变原数组\n",
    "def is_duplicate(_list):\n",
    "    for idx in range(len(_list)):  # 遍历数组\n",
    "        while _list[idx] != idx:  # 检查当前位置是否是一个对应的值\n",
    "            val = _list[idx]  # 不是则记录值\n",
    "            if _list[idx] == _list[val]:  # 检查当前位置的元素是否出现在对应位置上\n",
    "                return True  # 出现则重复\n",
    "            _list[idx], _list[val] = _list[val], _list[idx]  # 否则将其安放到对应位置\n",
    "    return False\n",
    "\n",
    "\n",
    "is_duplicate(l)"
   ]
  },
  {
   "cell_type": "markdown",
   "metadata": {},
   "source": [
    "一二维数组每行都按从左往右递增、每列都按从上往下递增排列，实现在该二维数组中的查找。"
   ]
  },
  {
   "cell_type": "code",
   "execution_count": 61,
   "metadata": {},
   "outputs": [
    {
     "data": {
      "text/plain": [
       "False"
      ]
     },
     "execution_count": 61,
     "metadata": {},
     "output_type": "execute_result"
    }
   ],
   "source": [
    "# 易得这样的矩阵最小值在左上角，最大值在右下角\n",
    "# 然后每次再跟右上或者左下角比较，可以逐行逐列地缩小范围\n",
    "mat = [[1, 2, 8, 9],\n",
    "       [2, 4, 9, 12],\n",
    "       [4, 7, 10, 13],\n",
    "       [6, 8, 11, 15]]\n",
    "\n",
    "\n",
    "# 每次跟右上角比，搜索范围是向左或向下缩小的\n",
    "def mat_search(key, mat):\n",
    "    rows = len(mat)\n",
    "    if rows == 0:\n",
    "        return False\n",
    "    cols = len(mat[0])\n",
    "    if cols == 0:\n",
    "        return False\n",
    "    min_row = 0\n",
    "    max_col = cols - 1\n",
    "    while min_row < rows and max_col >= 0:  # 向左向下缩小，搜索范围满足的条件\n",
    "        if key == mat[min_row][max_col]:\n",
    "            return True\n",
    "        elif key < mat[min_row][max_col]:\n",
    "            max_col -= 1\n",
    "        else:\n",
    "            min_row += 1\n",
    "    return False\n",
    "\n",
    "\n",
    "mat_search(3, mat)"
   ]
  },
  {
   "cell_type": "markdown",
   "metadata": {},
   "source": [
    "将给定字符串中的空格替换成'%20'。"
   ]
  },
  {
   "cell_type": "code",
   "execution_count": 62,
   "metadata": {},
   "outputs": [
    {
     "data": {
      "text/plain": [
       "'we%20are%20happy.'"
      ]
     },
     "execution_count": 62,
     "metadata": {},
     "output_type": "execute_result"
    }
   ],
   "source": [
    "string = 'we are happy.'\n",
    "\n",
    "\n",
    "def replace_blank(string):\n",
    "    l = list(string)\n",
    "    for idx, _ in enumerate(l):\n",
    "        if l[idx] == ' ':\n",
    "            l[idx] = '%20'\n",
    "    return ''.join(l)\n",
    "\n",
    "\n",
    "replace_blank(string)"
   ]
  },
  {
   "cell_type": "code",
   "execution_count": null,
   "metadata": {},
   "outputs": [],
   "source": []
  }
 ],
 "metadata": {
  "kernelspec": {
   "display_name": "Python 3",
   "language": "python",
   "name": "python3"
  },
  "language_info": {
   "codemirror_mode": {
    "name": "ipython",
    "version": 3
   },
   "file_extension": ".py",
   "mimetype": "text/x-python",
   "name": "python",
   "nbconvert_exporter": "python",
   "pygments_lexer": "ipython3",
   "version": "3.6.6"
  }
 },
 "nbformat": 4,
 "nbformat_minor": 2
}
