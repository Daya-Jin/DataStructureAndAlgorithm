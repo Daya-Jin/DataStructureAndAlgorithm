{
 "cells": [
  {
   "cell_type": "markdown",
   "metadata": {},
   "source": [
    "某有序数组以某位置做左右交换，称为旋转数组，求旋转数组中的最小值。"
   ]
  },
  {
   "cell_type": "code",
   "execution_count": 23,
   "metadata": {},
   "outputs": [
    {
     "data": {
      "text/plain": [
       "0"
      ]
     },
     "execution_count": 23,
     "metadata": {},
     "output_type": "execute_result"
    }
   ],
   "source": [
    "# 旋转数组是前一部分有序，后一部分有序，但是整体无序\n",
    "# 假设原数组递增，使用类二分查找，考虑两种情况\n",
    "# 1. [2,3,4,1]    2. [5,1,2,3]\n",
    "# 如果中间值大于右值则最小值在右边\n",
    "# 如果中间值小于右值则最小值在左边\n",
    "# 为什么跟右值比而不跟左值比？因为整除会偏左\n",
    "\n",
    "def minNumberInRotateArray(arr):\n",
    "    if len(arr) == 1:\n",
    "        return arr[0]\n",
    "    left = 0\n",
    "    right = len(arr) - 1\n",
    "    while left < right:\n",
    "        mid = (right + left) >> 1  # 此处注意，整除会偏左，所以要跟右值比较\n",
    "        if arr[mid] > arr[right]:\n",
    "            left = mid + 1\n",
    "        elif arr[mid] < arr[right]:\n",
    "            right = mid\n",
    "        # 主要是mid==left的情况，若mid==right，则说明mid跟right是已知值，去掉一个不影响，所以将右指针左移\n",
    "        else:\n",
    "            right -= 1\n",
    "    return arr[left]\n",
    "\n",
    "\n",
    "minNumberInRotateArray([1, 1, 0, 1])"
   ]
  },
  {
   "cell_type": "markdown",
   "metadata": {},
   "source": [
    "实现一个函数，给定一个条件与数组，将所有满足条件的元素放置在不满足条件的元素前面，不要求保存相对位置。如给定要求为奇数，则所有奇数在偶数前；或者负数在前，非负数在后。"
   ]
  },
  {
   "cell_type": "code",
   "execution_count": 17,
   "metadata": {},
   "outputs": [
    {
     "data": {
      "text/plain": [
       "[1, 5, 3, 4, 2]"
      ]
     },
     "execution_count": 17,
     "metadata": {},
     "output_type": "execute_result"
    }
   ],
   "source": [
    "# 设立头指针与尾指针，头指针始终往后移，尾指针始终往前移\n",
    "# 当头指针遇到偶数(不符合要求的元素)时，再移动尾指针\n",
    "# 当尾指针遇到奇数时(符合条件的元素)，交换两指针元素\n",
    "def reorder(arr):\n",
    "    if len(arr) < 2:\n",
    "        return arr\n",
    "    head = 0\n",
    "    tail = len(arr) - 1\n",
    "    while head < tail:\n",
    "        while head < tail and func(arr[head]):\n",
    "            head += 1\n",
    "        while head < tail and not func(arr[tail]):\n",
    "            tail -= 1\n",
    "        arr[head], arr[tail] = arr[tail], arr[head]\n",
    "    return arr\n",
    "\n",
    "\n",
    "def func(n):\n",
    "    return bool(n & 0x01)\n",
    "\n",
    "\n",
    "reorder([1, 2, 3, 4, 5])"
   ]
  },
  {
   "cell_type": "markdown",
   "metadata": {},
   "source": [
    "与上题相同，需要保存元素的相对位置。"
   ]
  },
  {
   "cell_type": "code",
   "execution_count": 18,
   "metadata": {},
   "outputs": [],
   "source": [
    "# 需要保存相对位置的话比较麻烦，可用空间换时间的做法\n",
    "# 设立两个与原数组等长的空数组，一个存储满足条件的元素，另一个存储不满足条件的元素\n",
    "# 还可使用双端队列数据结构来做\n",
    "def reorder(arr):\n",
    "    if len(arr) < 2:\n",
    "        return arr\n",
    "    meets = []\n",
    "    not_meets = []\n",
    "    for i in range(len(arr)):\n",
    "        if func(arr[i]):\n",
    "            meets.append(arr[i])\n",
    "        else:\n",
    "            not_meets.append(arr[i])\n",
    "    return meets + not_meets\n",
    "\n",
    "\n",
    "def func(n):\n",
    "    return bool(n & 0x01)"
   ]
  },
  {
   "cell_type": "code",
   "execution_count": null,
   "metadata": {},
   "outputs": [],
   "source": []
  }
 ],
 "metadata": {
  "kernelspec": {
   "display_name": "Python 3",
   "language": "python",
   "name": "python3"
  },
  "language_info": {
   "codemirror_mode": {
    "name": "ipython",
    "version": 3
   },
   "file_extension": ".py",
   "mimetype": "text/x-python",
   "name": "python",
   "nbconvert_exporter": "python",
   "pygments_lexer": "ipython3",
   "version": "3.6.6"
  }
 },
 "nbformat": 4,
 "nbformat_minor": 2
}
