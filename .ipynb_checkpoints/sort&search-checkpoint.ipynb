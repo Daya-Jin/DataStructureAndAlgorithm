{
 "cells": [
  {
   "cell_type": "markdown",
   "metadata": {},
   "source": [
    "Find Minimum in Rotated Sorted Array. 某有序数组以某位置做左右交换，称为旋转数组，求旋转数组中的最小值。"
   ]
  },
  {
   "cell_type": "code",
   "execution_count": 6,
   "metadata": {},
   "outputs": [],
   "source": [
    "# 旋转数组是前一部分有序，后一部分有序，但是整体无序\n",
    "# 假设原数组递增，使用类二分查找，考虑两种情况\n",
    "# 1. [2,3,4,1]    2. [5,1,2,3]\n",
    "# 如果中间值大于右值则最小值在右边\n",
    "# 如果中间值小于右值则最小值在左边\n",
    "# 为什么跟右值比而不跟左值比？因为整除会偏左\n",
    "\n",
    "\n",
    "def minNumberInRotateArray(arr):\n",
    "    if len(arr) == 1:\n",
    "        return arr[0]\n",
    "    left = 0\n",
    "    right = len(arr) - 1\n",
    "\n",
    "    while left < right:    # 此处有无等于号会影响下面的代码\n",
    "        mid = (right + left) >> 1  # 此处注意，整除会偏左，所以要跟右值比较\n",
    "\n",
    "        if arr[mid] > arr[right]:\n",
    "            left = mid + 1\n",
    "        elif arr[mid] < arr[right]:\n",
    "            right = mid\n",
    "        # 主要是mid==left的情况，若mid==right，则说明mid跟right是已知值，去掉一个不影响，所以将右指针左移\n",
    "        else:\n",
    "            right -= 1\n",
    "\n",
    "    return arr[left]"
   ]
  },
  {
   "cell_type": "markdown",
   "metadata": {},
   "source": [
    "Search in Rotated Sorted Array. 在旋转有序数组中查找关键字。"
   ]
  },
  {
   "cell_type": "code",
   "execution_count": 22,
   "metadata": {},
   "outputs": [
    {
     "data": {
      "text/plain": [
       "False"
      ]
     },
     "execution_count": 22,
     "metadata": {},
     "output_type": "execute_result"
    }
   ],
   "source": [
    "# 思路：还是二分搜索\n",
    "\n",
    "def search(nums, target):\n",
    "    if not nums:\n",
    "        return False\n",
    "#         return -1\n",
    "    \n",
    "    left,right=0,len(nums)-1\n",
    "    \n",
    "    while left<right:\n",
    "        mid=(left+right)//2\n",
    "        \n",
    "        if target==nums[mid]:\n",
    "            return True\n",
    "#             return mid\n",
    "        \n",
    "        elif nums[mid]<nums[right]:    # 右半段有序\n",
    "            if nums[mid]<target<=nums[right]:\n",
    "                left+=1\n",
    "            else:\n",
    "                right=mid\n",
    "                \n",
    "        elif nums[mid]>nums[right]:    # 左半段有序\n",
    "            if nums[left]<=target<nums[mid]:\n",
    "                right=mid\n",
    "            else:\n",
    "                left+=1\n",
    "                \n",
    "        else:    # 遇到重复数字\n",
    "            right-=1\n",
    "                \n",
    "    # left==right时退出循环，还需判断left或right\n",
    "    return True if nums[left]==target else False\n",
    "#     return left if nums[left]==target else -1\n",
    "\n",
    "search([2,5,6,0,0,1,2],3)"
   ]
  },
  {
   "cell_type": "markdown",
   "metadata": {},
   "source": [
    "实现一个函数，给定一个条件与数组，将所有满足条件的元素放置在不满足条件的元素前面，不要求保存相对位置。如给定要求为奇数，则所有奇数在偶数前；或者负数在前，非负数在后。"
   ]
  },
  {
   "cell_type": "code",
   "execution_count": 17,
   "metadata": {},
   "outputs": [
    {
     "data": {
      "text/plain": [
       "[1, 5, 3, 4, 2]"
      ]
     },
     "execution_count": 17,
     "metadata": {},
     "output_type": "execute_result"
    }
   ],
   "source": [
    "# 设立头指针与尾指针，头指针始终往后移，尾指针始终往前移\n",
    "# 当头指针遇到偶数(不符合要求的元素)时，再移动尾指针\n",
    "# 当尾指针遇到奇数时(符合条件的元素)，交换两指针元素\n",
    "\n",
    "\n",
    "def reorder(arr):\n",
    "    if len(arr) < 2:\n",
    "        return arr\n",
    "    head = 0\n",
    "    tail = len(arr) - 1\n",
    "    while head < tail:\n",
    "        while head < tail and func(arr[head]):\n",
    "            head += 1\n",
    "        while head < tail and not func(arr[tail]):\n",
    "            tail -= 1\n",
    "        arr[head], arr[tail] = arr[tail], arr[head]\n",
    "    return arr\n",
    "\n",
    "\n",
    "def func(n):\n",
    "    return bool(n & 0x01)"
   ]
  },
  {
   "cell_type": "markdown",
   "metadata": {},
   "source": [
    "与上题相同，需要保存元素的相对位置。"
   ]
  },
  {
   "cell_type": "code",
   "execution_count": 18,
   "metadata": {},
   "outputs": [],
   "source": [
    "# 需要保存相对位置的话比较麻烦，可用空间换时间的做法\n",
    "# 设立两个与原数组等长的空数组，一个存储满足条件的元素，另一个存储不满足条件的元素\n",
    "# 还可使用双端队列数据结构来做\n",
    "\n",
    "\n",
    "def reorder(arr):\n",
    "    if len(arr) < 2:\n",
    "        return arr\n",
    "    meets = []\n",
    "    not_meets = []\n",
    "    for i in range(len(arr)):\n",
    "        if func(arr[i]):\n",
    "            meets.append(arr[i])\n",
    "        else:\n",
    "            not_meets.append(arr[i])\n",
    "    return meets + not_meets\n",
    "\n",
    "\n",
    "def func(n):\n",
    "    return bool(n & 0x01)"
   ]
  },
  {
   "cell_type": "markdown",
   "metadata": {},
   "source": [
    "查找丑数。只能被2，3或5整除的数称为丑数，请找到第n个丑数。"
   ]
  },
  {
   "cell_type": "code",
   "execution_count": 32,
   "metadata": {},
   "outputs": [
    {
     "data": {
      "text/plain": [
       "2"
      ]
     },
     "execution_count": 32,
     "metadata": {},
     "output_type": "execute_result"
    }
   ],
   "source": [
    "# 思路：易得基础丑数为2，3，5，其他所有丑数都是有这三个值*2，*3或*5得来的。\n",
    "# 维护一个丑数数组，首元素为1，在该数组上维护三个指针，分别为*2，*3和*5。\n",
    "# 为了实现从小到大计算丑数并计数，每次同时计算三个丑数，但只保存最小的那个丑数\n",
    "\n",
    "def UglyNumber(n):\n",
    "    if n<1:\n",
    "        return 0\n",
    "    \n",
    "    ugly_arr=[1]\n",
    "    times2idx=times3idx=times5idx=0\n",
    "    \n",
    "    for idx in range(n):\n",
    "        cur_ugly=min(ugly_arr[times2idx]*2,ugly_arr[times3idx]*3,ugly_arr[times5idx]*5)\n",
    "        \n",
    "        if cur_ugly==ugly_arr[times2idx]*2:    # 如果最小值是*2得来的\n",
    "            times2idx+=1\n",
    "        if cur_ugly==ugly_arr[times3idx]*3:    # 如果最小值是*3得来的\n",
    "            times3idx+=1\n",
    "        if cur_ugly==ugly_arr[times5idx]*5:    # 如果最小值是*5得来的\n",
    "            times5idx+=1\n",
    "            \n",
    "        ugly_arr.append(cur_ugly)    # 使用%运算来循环利用有限数组，+1来始终跳过首元素1\n",
    "    \n",
    "    return ugly_arr[-1]"
   ]
  },
  {
   "cell_type": "markdown",
   "metadata": {},
   "source": [
    "首个只出现一次的字符。假设字符集以ASCII方式编码，给定一个字符串，查找首个只出现一次的字符。"
   ]
  },
  {
   "cell_type": "code",
   "execution_count": 41,
   "metadata": {},
   "outputs": [
    {
     "data": {
      "text/plain": [
       "'l'"
      ]
     },
     "execution_count": 41,
     "metadata": {},
     "output_type": "execute_result"
    }
   ],
   "source": [
    "# 思路：以空间换时间，设一个哈希表，为所有字符设一个value\n",
    "def FirstNotRepeatingChar(s):\n",
    "    # 构建哈希表\n",
    "    table = dict()\n",
    "    for ch in s:\n",
    "        code = ord(ch)\n",
    "        try:\n",
    "            table[code] += 1\n",
    "        except KeyError as e:\n",
    "            table[code] = 1\n",
    "\n",
    "    for key in table.keys():\n",
    "        if table[key] == 1:\n",
    "            return chr(key)\n",
    "\n",
    "    return -1"
   ]
  },
  {
   "cell_type": "markdown",
   "metadata": {},
   "source": [
    "字符流中首个只出现一次的字符。给定一个字符串流的入口，记录已读取数据中首个单次字符。"
   ]
  },
  {
   "cell_type": "code",
   "execution_count": null,
   "metadata": {},
   "outputs": [],
   "source": [
    "table = dict()\n",
    "\n",
    "\n",
    "def FirstAppearingOnce(self):\n",
    "    # write code here\n",
    "    global table\n",
    "    for key in table.keys():\n",
    "        if table[key] == 1:\n",
    "            return chr(key)\n",
    "    return '#'\n",
    "\n",
    "\n",
    "def Insert(self, char):\n",
    "    # write code here\n",
    "    global table\n",
    "    code = ord(char)\n",
    "    try:\n",
    "        table[code] += 1\n",
    "    except KeyError as e:\n",
    "        table[code] = 1"
   ]
  },
  {
   "cell_type": "markdown",
   "metadata": {},
   "source": [
    "数字序列中的逆序对。"
   ]
  },
  {
   "cell_type": "code",
   "execution_count": 62,
   "metadata": {},
   "outputs": [
    {
     "data": {
      "text/plain": [
       "3"
      ]
     },
     "execution_count": 62,
     "metadata": {},
     "output_type": "execute_result"
    }
   ],
   "source": [
    "# 思路：归并排序\n",
    "\n",
    "\n",
    "def InversePairs(numbers):\n",
    "    if not numbers:\n",
    "        return 0\n",
    "\n",
    "    copy_num = numbers[:]\n",
    "    cnt = InversePairsRec(numbers, copy_num, 0, len(numbers)-1)    # 递归归并排序并计数\n",
    "    return cnt\n",
    "\n",
    "\n",
    "def InversePairsRec(numbers, copy_num, start, end):\n",
    "    '''\n",
    "    numbers:上轮排序后的数组\n",
    "    copy_nnum:numbers的复制数组，该轮数组排序后存放在此\n",
    "    '''\n",
    "    if start == end:    # 单元素\n",
    "        return 0\n",
    "\n",
    "    mid = (end+start)//2\n",
    "\n",
    "    # 将左右两部分递归排序并计数，注意此处的参数，难点！\n",
    "    left_cnt = InversePairsRec(copy_num, numbers, start, mid)\n",
    "    right_cnt = InversePairsRec(copy_num, numbers, mid+1, end)\n",
    "\n",
    "    # 在左右部分均有序之后，对该轮排序并计数。从最大(右)的元素开始往前计数\n",
    "    left_idx = mid\n",
    "    right_idx = end\n",
    "    copy_idx = end\n",
    "    cnt = 0\n",
    "    # 左右部分均从后往前排序\n",
    "    while left_idx >= start and right_idx > mid:\n",
    "        if numbers[left_idx] > numbers[right_idx]:    # 如果左边值最大值大于右边最大值\n",
    "            copy_num[copy_idx] = numbers[left_idx]    # 在copy_num中放置最大值再移动指针\n",
    "            copy_idx -= 1\n",
    "            left_idx -= 1\n",
    "            cnt += right_idx-mid    # 左边最大值肯定大于右边所有值，逆序对=右边值的数\n",
    "        else:    # 若右边最大值已经有序\n",
    "            copy_num[copy_idx] = numbers[right_idx]    # 则直接放置，再移动指针\n",
    "            copy_idx -= 1\n",
    "            right_idx -= 1\n",
    "    # 将numbers的剩余部分放入copy_num\n",
    "    while left_idx >= start:\n",
    "        copy_num[copy_idx] = numbers[left_idx]\n",
    "        copy_idx -= 1\n",
    "        left_idx -= 1\n",
    "    while right_idx > mid:\n",
    "        copy_num[copy_idx] = numbers[right_idx]\n",
    "        copy_idx -= 1\n",
    "        right_idx -= 1\n",
    "\n",
    "    return cnt+left_cnt+right_cnt"
   ]
  },
  {
   "cell_type": "markdown",
   "metadata": {},
   "source": [
    "排序数组中某数字出现的次数。"
   ]
  },
  {
   "cell_type": "code",
   "execution_count": 64,
   "metadata": {},
   "outputs": [
    {
     "data": {
      "text/plain": [
       "1"
      ]
     },
     "execution_count": 64,
     "metadata": {},
     "output_type": "execute_result"
    }
   ],
   "source": [
    "# 思路：线性搜索复杂度为O(n)，但是太简单了\n",
    "# 考虑到二分搜索有一个变种，不管有没有搜到key，都会返回一个位置\n",
    "# 假设数组中数字都是整数，可以使用变种二分查找分别搜索k-0.5与k+0.5\n",
    "\n",
    "\n",
    "def GetAppCntOfK(numbers, k):\n",
    "    return BiSerach(numbers, k+0.5)-BiSerach(numbers, k-0.5)\n",
    "\n",
    "\n",
    "def BiSerach(numbers, k):\n",
    "    start, end = 0, len(numbers)-1\n",
    "    while start <= end:\n",
    "        mid = (start+end)//2\n",
    "        if k < numbers[mid]:\n",
    "            end = mid-1\n",
    "        elif k > numbers[mid]:\n",
    "            start = mid+1\n",
    "    return start"
   ]
  },
  {
   "cell_type": "markdown",
   "metadata": {},
   "source": [
    "连续有序数组中确实的数字。给定一个0,1,2,3,...的连续有序数组，其中缺失了一个数字，找出该数字。"
   ]
  },
  {
   "cell_type": "code",
   "execution_count": 72,
   "metadata": {},
   "outputs": [
    {
     "data": {
      "text/plain": [
       "1"
      ]
     },
     "execution_count": 72,
     "metadata": {},
     "output_type": "execute_result"
    }
   ],
   "source": [
    "# 思路：利用下标idx与值value进行比较，使用二分查找\n",
    "\n",
    "\n",
    "def FindMissingNum(numbers):\n",
    "    if not numbers:\n",
    "        return -1\n",
    "\n",
    "    start, end = 0, len(numbers)-1\n",
    "    while start <= end:\n",
    "        mid_idx = (start+end)//2\n",
    "        if numbers[mid_idx] == mid_idx:\n",
    "            start = mid_idx+1\n",
    "        else:\n",
    "            end = mid_idx-1\n",
    "    return start"
   ]
  },
  {
   "cell_type": "markdown",
   "metadata": {},
   "source": [
    "在排序数组中找到和为s的两个数字，若存在多对数字，则返回乘积最小的一对。"
   ]
  },
  {
   "cell_type": "code",
   "execution_count": 76,
   "metadata": {},
   "outputs": [
    {
     "data": {
      "text/plain": [
       "[1, 4]"
      ]
     },
     "execution_count": 76,
     "metadata": {},
     "output_type": "execute_result"
    }
   ],
   "source": [
    "# 思路：设立首尾指针，当首尾和大于s时，尾指针前移；当首尾和小于s时，首指针后移\n",
    "# 关于乘积最小，两数相乘，两数距离越远乘积越小，参考长方形面积<正方形面积<圆面积\n",
    "\n",
    "def FindPairsWithSum(numbers,s):\n",
    "    if not numbers:\n",
    "        return []\n",
    "    \n",
    "    head,tail=0,len(numbers)-1\n",
    "    while head<tail:\n",
    "        tmp=numbers[head]+numbers[tail]\n",
    "        if tmp==s:\n",
    "            return [numbers[head],numbers[tail]]\n",
    "        elif tmp>s:\n",
    "            tail-=1\n",
    "        else:\n",
    "            head+=1\n",
    "            \n",
    "    return []"
   ]
  },
  {
   "cell_type": "markdown",
   "metadata": {},
   "source": [
    "在连续正数序列[1,2,3,...]中找到和为s的所有子序列。"
   ]
  },
  {
   "cell_type": "code",
   "execution_count": 85,
   "metadata": {},
   "outputs": [
    {
     "data": {
      "text/plain": [
       "[[1, 2, 3, 4, 5], [4, 5, 6], [7, 8]]"
      ]
     },
     "execution_count": 85,
     "metadata": {},
     "output_type": "execute_result"
    }
   ],
   "source": [
    "# 思路：首先设立一个最小子序列[1,2]，每次对当前子序列求和并与s比较\n",
    "# 若小于s则在末尾增加数字，反之则从首部删除数字\n",
    "# 由于序列至少包含两个元素，所以停止循环的条件为序列中最小元素>(1+s)/2\n",
    "\n",
    "def FindSubSeqWithSum(s):\n",
    "    if s<3:\n",
    "        return []\n",
    "    \n",
    "    head,tail=1,2\n",
    "    threshold=(1+s)/2    # 临界值\n",
    "    cur_sum=head+tail\n",
    "    res=[]\n",
    "    while head<threshold:\n",
    "        if cur_sum==s:\n",
    "            res.append(NumSeq(head,tail))\n",
    "        # 超过则删首元素\n",
    "        while cur_sum>s and head<threshold:\n",
    "            cur_sum-=head    # 从当前和中减去首元素\n",
    "            head+=1    # 首元素后移\n",
    "            if cur_sum==s:\n",
    "                res.append(NumSeq(head,tail))\n",
    "        # 少于则增加尾元素\n",
    "        tail+=1\n",
    "        cur_sum+=tail\n",
    "    \n",
    "    return res\n",
    "\n",
    "def NumSeq(start,end):\n",
    "    return list(range(start,end+1))"
   ]
  },
  {
   "cell_type": "markdown",
   "metadata": {},
   "source": [
    "Valid Perfect Square. 判断一个数是不是某个整数的完全平方数。"
   ]
  },
  {
   "cell_type": "code",
   "execution_count": null,
   "metadata": {},
   "outputs": [],
   "source": [
    "# 思路：二分搜索\n",
    "\n",
    "\n",
    "def isPerfectSquare(num: int) -> bool:\n",
    "    start, end = 0, num\n",
    "\n",
    "    while start <= end:\n",
    "        mid = (start+end)//2\n",
    "        test = mid*mid\n",
    "        if test == num:\n",
    "            return True\n",
    "        elif test < num:\n",
    "            start = mid+1\n",
    "        else:\n",
    "            end = mid-1\n",
    "\n",
    "    return end*end == num"
   ]
  },
  {
   "cell_type": "markdown",
   "metadata": {},
   "source": [
    "Arranging Coins. 用n个硬币铺台阶，第i级台阶必须放满i个硬币，求n个硬币能铺满几级台阶。"
   ]
  },
  {
   "cell_type": "code",
   "execution_count": 3,
   "metadata": {},
   "outputs": [
    {
     "data": {
      "text/plain": [
       "3"
      ]
     },
     "execution_count": 3,
     "metadata": {},
     "output_type": "execute_result"
    }
   ],
   "source": [
    "# 思路：二分查找，找到(1+i)*i/2<=n的最大的i\n",
    "\n",
    "def arrangeCoins(n):\n",
    "    start=0\n",
    "    end=n\n",
    "    \n",
    "    while start<=end:\n",
    "        step=(start+end)//2    # 阶梯数\n",
    "        need_coins=(1+step)*step/2    # i级阶梯需要的硬币数\n",
    "        \n",
    "        if need_coins<=n:\n",
    "            start=step+1\n",
    "        else:\n",
    "            end=step-1\n",
    "            \n",
    "    return start-1\n",
    "\n",
    "arrangeCoins(8)"
   ]
  },
  {
   "cell_type": "code",
   "execution_count": null,
   "metadata": {},
   "outputs": [],
   "source": []
  }
 ],
 "metadata": {
  "kernelspec": {
   "display_name": "Python 3",
   "language": "python",
   "name": "python3"
  },
  "language_info": {
   "codemirror_mode": {
    "name": "ipython",
    "version": 3
   },
   "file_extension": ".py",
   "mimetype": "text/x-python",
   "name": "python",
   "nbconvert_exporter": "python",
   "pygments_lexer": "ipython3",
   "version": "3.6.6"
  }
 },
 "nbformat": 4,
 "nbformat_minor": 2
}
