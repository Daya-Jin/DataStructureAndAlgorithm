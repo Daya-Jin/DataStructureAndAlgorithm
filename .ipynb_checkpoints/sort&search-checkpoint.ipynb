{
 "cells": [
  {
   "cell_type": "markdown",
   "metadata": {},
   "source": [
    "Quick sort."
   ]
  },
  {
   "cell_type": "code",
   "execution_count": 14,
   "metadata": {},
   "outputs": [
    {
     "name": "stdout",
     "output_type": "stream",
     "text": [
      "[1, 3, 3]\n"
     ]
    }
   ],
   "source": [
    "def QiuckSort(nums):\n",
    "    def partition(lo, hi):\n",
    "        '''\n",
    "        每次partition排序一个枢纽值，并返回枢纽值的最终位置\n",
    "        '''\n",
    "        pivot = nums[lo]   # 首元素为枢纽值\n",
    "\n",
    "        while lo < hi:\n",
    "            # 因为首元素已经由pivot保存，所以可以找一个小值来覆盖nums[lo]\n",
    "            while lo < hi and nums[hi] >= pivot:\n",
    "                hi -= 1\n",
    "            nums[lo] = nums[hi]\n",
    "            # 此时nums[hi]的值复制到了nums[lo]，所以再找个大值来覆盖nums[hi]\n",
    "            while lo < hi and nums[lo] <= pivot:\n",
    "                lo += 1\n",
    "            nums[hi] = nums[lo]\n",
    "\n",
    "        # 此时nums[lo]复制到了nums[hi]，用枢纽值覆盖nums[lo]\n",
    "        nums[lo] = pivot\n",
    "        return lo    # 返回枢纽值的位置，即已排序元素的位置\n",
    "\n",
    "    if len(nums) < 2:\n",
    "        return nums\n",
    "\n",
    "    s = [len(nums)-1, 0]    # 栈，初始的[右指针，左指针]\n",
    "    while s:\n",
    "        l_idx = s.pop()\n",
    "        r_idx = s.pop()\n",
    "        sorted_idx = partition(l_idx, r_idx)    # 排好一个元素并返回最终位置\n",
    "\n",
    "        # 把左右两部分的起止索引成对压入栈\n",
    "        if l_idx+1 < sorted_idx:\n",
    "            s.append(sorted_idx-1)\n",
    "            s.append(l_idx)\n",
    "        if r_idx-1 > sorted_idx:\n",
    "            s.append(r_idx)\n",
    "            s.append(sorted_idx+1)\n",
    "\n",
    "\n",
    "arr = [3, 3, 1]\n",
    "QiuckSort(arr)\n",
    "print(arr)"
   ]
  },
  {
   "cell_type": "markdown",
   "metadata": {},
   "source": [
    "Find Minimum in Rotated Sorted Array. 某有序数组以某位置做左右交换，称为旋转数组，求旋转数组中的最小值。"
   ]
  },
  {
   "cell_type": "code",
   "execution_count": 1,
   "metadata": {},
   "outputs": [],
   "source": [
    "# 旋转数组是前一部分有序，后一部分有序，但是整体无序\n",
    "# 假设原数组递增，使用类二分查找，考虑两种情况\n",
    "# 1. [2,3,4,1]    2. [5,1,2,3]\n",
    "# 如果中间值大于右值则最小值在右边\n",
    "# 如果中间值小于右值则最小值在左边\n",
    "# 为什么跟右值比而不跟左值比？因为整除会偏左\n",
    "\n",
    "\n",
    "def minNumberInRotateArray(arr):\n",
    "    if len(arr) == 1:\n",
    "        return arr[0]\n",
    "    left = 0\n",
    "    right = len(arr) - 1\n",
    "\n",
    "    while left < right:    # 此处有无等于号会影响下面的代码\n",
    "        mid = (right + left) >> 1  # 此处注意，整除会偏左，所以要跟右值比较\n",
    "\n",
    "        if arr[mid] > arr[right]:\n",
    "            left = mid + 1\n",
    "        elif arr[mid] < arr[right]:\n",
    "            right = mid\n",
    "        # 主要是mid==left的情况，若mid==right，则说明mid跟right是已知值，去掉一个不影响，所以将右指针左移\n",
    "        else:\n",
    "            right -= 1\n",
    "\n",
    "    return arr[left]"
   ]
  },
  {
   "cell_type": "markdown",
   "metadata": {},
   "source": [
    "Search in Rotated Sorted Array. 在旋转有序数组中查找关键字。"
   ]
  },
  {
   "cell_type": "code",
   "execution_count": 2,
   "metadata": {},
   "outputs": [],
   "source": [
    "# 思路：还是二分搜索\n",
    "\n",
    "def search(nums, target):\n",
    "    if not nums:\n",
    "        return False\n",
    "#         return -1\n",
    "    \n",
    "    left,right=0,len(nums)-1\n",
    "    \n",
    "    while left<right:\n",
    "        mid=(left+right)//2\n",
    "        \n",
    "        if target==nums[mid]:\n",
    "            return True\n",
    "#             return mid\n",
    "        \n",
    "        elif nums[mid]<nums[right]:    # 右半段有序\n",
    "            if nums[mid]<target<=nums[right]:\n",
    "                left+=1\n",
    "            else:\n",
    "                right=mid\n",
    "                \n",
    "        elif nums[mid]>nums[right]:    # 左半段有序\n",
    "            if nums[left]<=target<nums[mid]:\n",
    "                right=mid\n",
    "            else:\n",
    "                left+=1\n",
    "                \n",
    "        else:    # 遇到重复数字\n",
    "            right-=1\n",
    "                \n",
    "    # left==right时退出循环，还需判断left或right\n",
    "    return True if nums[left]==target else False\n",
    "#     return left if nums[left]==target else -1"
   ]
  },
  {
   "cell_type": "markdown",
   "metadata": {},
   "source": [
    "Sort Array By Parity. 按照奇偶性对数组排序，奇数排在偶数后面。该题不难，但是可以考察程序的可扩展性。"
   ]
  },
  {
   "cell_type": "code",
   "execution_count": 8,
   "metadata": {},
   "outputs": [
    {
     "data": {
      "text/plain": [
       "[2, 4, 3, 1]"
      ]
     },
     "execution_count": 8,
     "metadata": {},
     "output_type": "execute_result"
    }
   ],
   "source": [
    "# 思路：快排，双指针，左指针找到第一个奇数，右指针找到第一个偶数，交换\n",
    "# 为了程序能适应不同的排序优先级，可把排序依据单独打包成函数\n",
    "\n",
    "def isPrio(x):\n",
    "    return True if not x&0x01 else False\n",
    "\n",
    "\n",
    "# def sortArrayByParity(A):\n",
    "#     left_idx, right_idx = 0, len(A)-1\n",
    "#     while left_idx < right_idx:\n",
    "#         if not isPrio(A[left_idx]) and isPrio(A[right_idx]):\n",
    "#             A[left_idx], A[right_idx] = A[right_idx], A[left_idx]\n",
    "\n",
    "#         if isPrio(A[left_idx]):\n",
    "#             left_idx += 1\n",
    "#         if not isPrio(A[right_idx]):\n",
    "#             right_idx -= 1\n",
    "\n",
    "#     return A\n",
    "\n",
    "# 思路2：关键在于把奇数交换到偶数后面，同样维护双指针\n",
    "# 一指针指向排好序的最后一个偶数，另一指针扫描数组寻找偶数\n",
    "# 当扫描到偶数时，交换，双指针+1\n",
    "\n",
    "\n",
    "def sortArrayByParity(A):\n",
    "    even_tail = 0\n",
    "    for idx, item in enumerate(A):\n",
    "        if isPrio(item):    # 如果找到偶数\n",
    "            A[even_tail], A[idx] = A[idx], A[even_tail]\n",
    "            even_tail += 1\n",
    "    return A"
   ]
  },
  {
   "cell_type": "markdown",
   "metadata": {},
   "source": [
    "与上题相同，需要保存元素的相对位置。"
   ]
  },
  {
   "cell_type": "code",
   "execution_count": 4,
   "metadata": {},
   "outputs": [],
   "source": [
    "# 需要保存相对位置的话比较麻烦，可用空间换时间的做法\n",
    "# 设立两个与原数组等长的空数组，一个存储满足条件的元素，另一个存储不满足条件的元素\n",
    "# 还可使用双端队列数据结构来做\n",
    "\n",
    "\n",
    "def reorder(arr):\n",
    "    if len(arr) < 2:\n",
    "        return arr\n",
    "    meets = []\n",
    "    not_meets = []\n",
    "    for i in range(len(arr)):\n",
    "        if func(arr[i]):\n",
    "            meets.append(arr[i])\n",
    "        else:\n",
    "            not_meets.append(arr[i])\n",
    "    return meets + not_meets\n",
    "\n",
    "\n",
    "def func(n):\n",
    "    return bool(n & 0x01)"
   ]
  },
  {
   "cell_type": "markdown",
   "metadata": {},
   "source": [
    "首个只出现一次的字符。假设字符集以ASCII方式编码，给定一个字符串，查找首个只出现一次的字符。"
   ]
  },
  {
   "cell_type": "code",
   "execution_count": 5,
   "metadata": {},
   "outputs": [],
   "source": [
    "# 思路：以空间换时间，设一个哈希表，为所有字符设一个value\n",
    "\n",
    "\n",
    "def FirstNotRepeatingChar(s):\n",
    "    # 构建哈希表\n",
    "    table = dict()\n",
    "    for ch in s:\n",
    "        code = ord(ch)\n",
    "        try:\n",
    "            table[code] += 1\n",
    "        except KeyError as e:\n",
    "            table[code] = 1\n",
    "\n",
    "    for key in table.keys():\n",
    "        if table[key] == 1:\n",
    "            return chr(key)\n",
    "\n",
    "    return -1"
   ]
  },
  {
   "cell_type": "markdown",
   "metadata": {},
   "source": [
    "字符流中首个只出现一次的字符。给定一个字符串流的入口，记录已读取数据中首个单次字符。"
   ]
  },
  {
   "cell_type": "code",
   "execution_count": 6,
   "metadata": {},
   "outputs": [],
   "source": [
    "table = dict()\n",
    "\n",
    "\n",
    "def FirstAppearingOnce(self):\n",
    "    # write code here\n",
    "    global table\n",
    "    for key in table.keys():\n",
    "        if table[key] == 1:\n",
    "            return chr(key)\n",
    "    return '#'\n",
    "\n",
    "\n",
    "def Insert(self, char):\n",
    "    # write code here\n",
    "    global table\n",
    "    code = ord(char)\n",
    "    try:\n",
    "        table[code] += 1\n",
    "    except KeyError as e:\n",
    "        table[code] = 1"
   ]
  },
  {
   "cell_type": "markdown",
   "metadata": {},
   "source": [
    "数字序列中的逆序对。"
   ]
  },
  {
   "cell_type": "code",
   "execution_count": 7,
   "metadata": {},
   "outputs": [],
   "source": [
    "# 思路：归并排序\n",
    "\n",
    "\n",
    "def InversePairs(numbers):\n",
    "    if not numbers:\n",
    "        return 0\n",
    "\n",
    "    copy_num = numbers[:]\n",
    "    cnt = InversePairsRec(numbers, copy_num, 0, len(numbers)-1)    # 递归归并排序并计数\n",
    "    return cnt\n",
    "\n",
    "\n",
    "def InversePairsRec(numbers, copy_num, start, end):\n",
    "    '''\n",
    "    numbers:上轮排序后的数组\n",
    "    copy_nnum:numbers的复制数组，该轮数组排序后存放在此\n",
    "    '''\n",
    "    if start == end:    # 单元素\n",
    "        return 0\n",
    "\n",
    "    mid = (end+start)//2\n",
    "\n",
    "    # 将左右两部分递归排序并计数，注意此处的参数，难点！\n",
    "    left_cnt = InversePairsRec(copy_num, numbers, start, mid)\n",
    "    right_cnt = InversePairsRec(copy_num, numbers, mid+1, end)\n",
    "\n",
    "    # 在左右部分均有序之后，对该轮排序并计数。从最大(右)的元素开始往前计数\n",
    "    left_idx = mid\n",
    "    right_idx = end\n",
    "    copy_idx = end\n",
    "    cnt = 0\n",
    "    \n",
    "    # 左右部分均从后往前排序\n",
    "    while left_idx >= start and right_idx > mid:\n",
    "        if numbers[left_idx] > numbers[right_idx]:    # 如果左边值最大值大于右边最大值\n",
    "            copy_num[copy_idx] = numbers[left_idx]    # 在copy_num中放置最大值再移动指针\n",
    "            copy_idx -= 1\n",
    "            left_idx -= 1\n",
    "            cnt += right_idx-mid    # 左边最大值肯定大于右边所有值，逆序对=右边值的数\n",
    "        else:    # 若右边最大值已经有序\n",
    "            copy_num[copy_idx] = numbers[right_idx]    # 则直接放置，再移动指针\n",
    "            copy_idx -= 1\n",
    "            right_idx -= 1\n",
    "    # 将numbers的剩余部分放入copy_num\n",
    "    while left_idx >= start:\n",
    "        copy_num[copy_idx] = numbers[left_idx]\n",
    "        copy_idx -= 1\n",
    "        left_idx -= 1\n",
    "    while right_idx > mid:\n",
    "        copy_num[copy_idx] = numbers[right_idx]\n",
    "        copy_idx -= 1\n",
    "        right_idx -= 1\n",
    "\n",
    "    return cnt+left_cnt+right_cnt"
   ]
  },
  {
   "cell_type": "markdown",
   "metadata": {},
   "source": [
    "排序数组中某数字出现的次数。"
   ]
  },
  {
   "cell_type": "code",
   "execution_count": 8,
   "metadata": {},
   "outputs": [],
   "source": [
    "# 思路：线性搜索复杂度为O(n)，但是太简单了\n",
    "# 考虑到二分搜索有一个变种，不管有没有搜到key，都会返回一个位置\n",
    "# 假设数组中数字都是整数，可以使用变种二分查找分别搜索k-0.5与k+0.5\n",
    "\n",
    "\n",
    "def GetAppCntOfK(numbers, k):\n",
    "    return BiSerach(numbers, k+0.5)-BiSerach(numbers, k-0.5)\n",
    "\n",
    "\n",
    "def BiSerach(numbers, k):\n",
    "    start, end = 0, len(numbers)-1\n",
    "    while start <= end:\n",
    "        mid = (start+end)//2\n",
    "        if k < numbers[mid]:\n",
    "            end = mid-1\n",
    "        elif k > numbers[mid]:\n",
    "            start = mid+1\n",
    "    return start"
   ]
  },
  {
   "cell_type": "markdown",
   "metadata": {},
   "source": [
    "连续有序数组中确实的数字。给定一个0,1,2,3,...的连续有序数组，其中缺失了一个数字，找出该数字。"
   ]
  },
  {
   "cell_type": "code",
   "execution_count": 9,
   "metadata": {},
   "outputs": [],
   "source": [
    "# 思路：利用下标idx与值value进行比较，使用二分查找\n",
    "\n",
    "\n",
    "def FindMissingNum(numbers):\n",
    "    if not numbers:\n",
    "        return -1\n",
    "\n",
    "    start, end = 0, len(numbers)-1\n",
    "    while start <= end:\n",
    "        mid_idx = (start+end)//2\n",
    "        if numbers[mid_idx] == mid_idx:\n",
    "            start = mid_idx+1\n",
    "        else:\n",
    "            end = mid_idx-1\n",
    "    return start"
   ]
  },
  {
   "cell_type": "markdown",
   "metadata": {},
   "source": [
    "在排序数组中找到和为s的两个数字，若存在多对数字，则返回乘积最小的一对。"
   ]
  },
  {
   "cell_type": "code",
   "execution_count": 10,
   "metadata": {},
   "outputs": [],
   "source": [
    "# 思路：设立首尾指针，当首尾和大于s时，尾指针前移；当首尾和小于s时，首指针后移\n",
    "# 关于乘积最小，两数相乘，两数距离越远乘积越小，参考长方形面积<正方形面积<圆面积\n",
    "\n",
    "\n",
    "def FindPairsWithSum(numbers, s):\n",
    "    if not numbers:\n",
    "        return []\n",
    "\n",
    "    head, tail = 0, len(numbers)-1\n",
    "    while head < tail:\n",
    "        tmp = numbers[head]+numbers[tail]\n",
    "        if tmp == s:\n",
    "            return [numbers[head], numbers[tail]]\n",
    "        elif tmp > s:\n",
    "            tail -= 1\n",
    "        else:\n",
    "            head += 1\n",
    "\n",
    "    return []"
   ]
  },
  {
   "cell_type": "markdown",
   "metadata": {},
   "source": [
    "在连续正数序列[1,2,3,...]中找到和为s的所有子序列。"
   ]
  },
  {
   "cell_type": "code",
   "execution_count": 11,
   "metadata": {},
   "outputs": [],
   "source": [
    "# 思路：首先设立一个最小子序列[1,2]，每次对当前子序列求和并与s比较\n",
    "# 若小于s则在末尾增加数字，反之则从首部删除数字\n",
    "# 由于序列至少包含两个元素，所以停止循环的条件为序列中最小元素>(1+s)/2\n",
    "\n",
    "\n",
    "def FindSubSeqWithSum(s):\n",
    "    if s < 3:\n",
    "        return []\n",
    "\n",
    "    head, tail = 1, 2\n",
    "    threshold = (1+s)/2    # 临界值\n",
    "    cur_sum = head+tail\n",
    "    res = []\n",
    "    \n",
    "    while head < threshold:\n",
    "        if cur_sum == s:\n",
    "            res.append(NumSeq(head, tail))\n",
    "            \n",
    "        # 超过则删首元素\n",
    "        while cur_sum > s and head < threshold:\n",
    "            cur_sum -= head    # 从当前和中减去首元素\n",
    "            head += 1    # 首元素后移\n",
    "            \n",
    "            if cur_sum == s:\n",
    "                res.append(NumSeq(head, tail))\n",
    "                \n",
    "        # 少于则增加尾元素\n",
    "        tail += 1\n",
    "        cur_sum += tail\n",
    "\n",
    "    return res\n",
    "\n",
    "\n",
    "def NumSeq(start, end):\n",
    "    return list(range(start, end+1))"
   ]
  },
  {
   "cell_type": "markdown",
   "metadata": {},
   "source": [
    "Valid Perfect Square. 判断一个数是不是某个整数的完全平方数。"
   ]
  },
  {
   "cell_type": "code",
   "execution_count": 12,
   "metadata": {},
   "outputs": [],
   "source": [
    "# 思路：二分搜索\n",
    "\n",
    "\n",
    "def isPerfectSquare(num: int) -> bool:\n",
    "    start, end = 0, num\n",
    "\n",
    "    while start <= end:\n",
    "        mid = (start+end)//2\n",
    "        test = mid*mid\n",
    "        if test == num:\n",
    "            return True\n",
    "        elif test < num:\n",
    "            start = mid+1\n",
    "        else:\n",
    "            end = mid-1\n",
    "\n",
    "    return end*end == num"
   ]
  },
  {
   "cell_type": "markdown",
   "metadata": {},
   "source": [
    "Arranging Coins. 用n个硬币铺台阶，第i级台阶必须放满i个硬币，求n个硬币能铺满几级台阶。"
   ]
  },
  {
   "cell_type": "code",
   "execution_count": 13,
   "metadata": {},
   "outputs": [],
   "source": [
    "# 思路：二分查找，找到(1+i)*i/2<=n的最大的i\n",
    "\n",
    "\n",
    "def arrangeCoins(n):\n",
    "    start = 0\n",
    "    end = n\n",
    "\n",
    "    while start <= end:\n",
    "        step = (start+end)//2    # 阶梯数\n",
    "        need_coins = (1+step)*step/2    # i级阶梯需要的硬币数\n",
    "\n",
    "        if need_coins <= n:\n",
    "            start = step+1\n",
    "        else:\n",
    "            end = step-1\n",
    "\n",
    "    return start-1"
   ]
  },
  {
   "cell_type": "markdown",
   "metadata": {},
   "source": [
    "N-Repeated Element in Size 2N Array. 在长度为2N的数组中查找重复次数为N的元素，该数组有且仅有一个元素重复。"
   ]
  },
  {
   "cell_type": "code",
   "execution_count": 14,
   "metadata": {},
   "outputs": [],
   "source": [
    "# 思路：注意到题目中一个重要条件！有且只有一个元素重复，且重复次数较多，可使用随机大法！\n",
    "\n",
    "\n",
    "def repeatedNTimes(A):\n",
    "    import random\n",
    "    while True:\n",
    "        random_two = random.sample(A, 2)\n",
    "        if random_two[0] == random_two[1]:\n",
    "            return random_two[0]"
   ]
  },
  {
   "cell_type": "markdown",
   "metadata": {},
   "source": [
    "Squares of a Sorted Array. 对排序数组中的元素进行平方，返回排序数组。原数组是按非减排序的。"
   ]
  },
  {
   "cell_type": "code",
   "execution_count": 15,
   "metadata": {},
   "outputs": [],
   "source": [
    "# 思路：此题的隐含条件为负数，负数的存在会导致直接平方的乱序\n",
    "# 逆向思考，从原数组两端(最大的)值开始做平方运算，设立双指针，比较绝对值\n",
    "# 优化：填充位置的指针可使用r_idx-l_idx来替代\n",
    "\n",
    "\n",
    "def sortedSquares(A):\n",
    "    if len(A) == 1:\n",
    "        return [A[0]*A[0]]\n",
    "\n",
    "    res = [0]*len(A)\n",
    "    l_idx, r_idx = 0, len(A)-1\n",
    "\n",
    "    while l_idx <= r_idx:\n",
    "        l_val, r_val = A[l_idx], A[r_idx]\n",
    "\n",
    "        if abs(l_val) > abs(r_val):\n",
    "            res[r_idx-l_idx] = l_val**2\n",
    "            l_idx += 1\n",
    "        else:\n",
    "            res[r_idx-l_idx] = r_val**2\n",
    "            r_idx -= 1\n",
    "\n",
    "    return res"
   ]
  },
  {
   "cell_type": "markdown",
   "metadata": {},
   "source": [
    "Reorder Log Files. 给定一系列日志文件，日志首元素为字母+数字的组合，后跟日志内容，按日志内容可将日志分为两种：字母日志跟数字日志。重拍日志文件，使得字母日志在数字日志之前，并且保证字母日志之间按日志内容的字母顺序排列，而数字日志之间则保持其原来的相对顺序。"
   ]
  },
  {
   "cell_type": "code",
   "execution_count": 16,
   "metadata": {},
   "outputs": [],
   "source": [
    "# 思路：最简单的，扫描一遍日志文件，将日志文件分成两类并存储起来\n",
    "# 对字母日志进行排序，然后把数字日志拼接到后面\n",
    "\n",
    "\n",
    "def reorderLogFiles(logs):\n",
    "    # 划分\n",
    "    str_log = [log for log in logs if not log.split()[1].isdigit()]\n",
    "    num_log = [log for log in logs if log.split()[1].isdigit()]\n",
    "\n",
    "    # 以首元素之后的日志内容为key来排序\n",
    "    orderd_str_log = sorted(str_log, key=lambda x: ' '.join(x.split()[1:]))\n",
    "    return orderd_str_log+num_log"
   ]
  },
  {
   "cell_type": "markdown",
   "metadata": {},
   "source": [
    "Merge Sorted Array. 合并两有序数组，其中一有序数组有富余空间。"
   ]
  },
  {
   "cell_type": "code",
   "execution_count": 17,
   "metadata": {},
   "outputs": [],
   "source": [
    "# 思路：此题不同于传统的合并有序数组，而是给了富余空间，明显示意需要利用这些富余空间\n",
    "# 从末尾开始填充，维护三个指针，两个尾指针，一个写入指针\n",
    "\n",
    "\n",
    "def merge(nums1, m, nums2, n):\n",
    "    # 从m，n开始计数，注意要减一以及边界的判断，范围为[1,m]和[1,n]\n",
    "    while m > 0 and n > 0:\n",
    "        if nums1[m-1] > nums2[n-1]:\n",
    "            nums1[m+n-1] = nums1[m-1]\n",
    "            m -= 1\n",
    "        else:\n",
    "            nums1[m+n-1] = nums2[n-1]\n",
    "            n -= 1\n",
    "\n",
    "#     if m>0:\n",
    "#         nums1[:m]=nums1[:m]\n",
    "    if n > 0:\n",
    "        nums1[:n] = nums2[:n]"
   ]
  },
  {
   "cell_type": "markdown",
   "metadata": {},
   "source": [
    "[Merge Two Sorted Lists](https://leetcode.com/problems/merge-two-sorted-lists/). 合并两有序链表。"
   ]
  },
  {
   "cell_type": "code",
   "execution_count": null,
   "metadata": {},
   "outputs": [],
   "source": []
  },
  {
   "cell_type": "markdown",
   "metadata": {},
   "source": [
    "贪吃的小Q。父母出差，留下若干块巧克力，小Q需要每天吃巧克力，并且每天的量不少与前一天的一半，求小Q第一天最多能吃几块巧克力。"
   ]
  },
  {
   "cell_type": "code",
   "execution_count": 53,
   "metadata": {},
   "outputs": [
    {
     "name": "stdout",
     "output_type": "stream",
     "text": [
      "144\n",
      "25004\n"
     ]
    }
   ],
   "source": [
    "# 思路：最开始题目没看清，以为可以用等比数列计算，但思路是错的\n",
    "# 假设第一天吃k个巧克力，则第二天至少要吃(k+1//2块)，n天需要的最低巧克力只能暴力求和\n",
    "# 至于k的求解，在[1,n]之间使用二分搜索，注意边界条件\n",
    "\n",
    "\n",
    "def solution(day, num_choc):\n",
    "    if day < 2:\n",
    "        return num_choc\n",
    "\n",
    "    def total_choc(day, start):\n",
    "        need = 0\n",
    "        for _ in range(day):\n",
    "            need += start\n",
    "            start = (start+1)//2\n",
    "        return need\n",
    "\n",
    "    start, end = 0, num_choc\n",
    "    while start < end:\n",
    "        mid = (start+end)//2    # 整除，mid会偏左，当s与e相邻时m==s\n",
    "        if total_choc(day, mid) == num_choc:\n",
    "            return mid\n",
    "        elif total_choc(day, mid) < num_choc:\n",
    "            start = mid+1    #\n",
    "        else:\n",
    "            end = mid    # s,e相邻时，m指向s，移动e\n",
    "\n",
    "    return start-1"
   ]
  },
  {
   "cell_type": "markdown",
   "metadata": {},
   "source": [
    "[纸牌游戏](https://www.nowcoder.com/questionTerminal/ebec6fac8a834bf7aed2d5da7c8aa432?orderByHotValue=1&page=1&onlyReference=false)，两人按最优策略轮流抽牌，求最终两人牌面值的差。"
   ]
  },
  {
   "cell_type": "code",
   "execution_count": 60,
   "metadata": {},
   "outputs": [
    {
     "data": {
      "text/plain": [
       "5"
      ]
     },
     "execution_count": 60,
     "metadata": {},
     "output_type": "execute_result"
    }
   ],
   "source": [
    "# 思路：排序，加上偶数位，减去奇数位\n",
    "\n",
    "def solution(nums):\n",
    "    nums.sort(reverse=True)\n",
    "\n",
    "    diff = 0\n",
    "    for idx in range(len(nums)):\n",
    "        diff += nums[idx] if idx % 2 == 0 else -nums[idx]\n",
    "\n",
    "    return diff"
   ]
  },
  {
   "cell_type": "markdown",
   "metadata": {},
   "source": [
    "[Monotonic Array](https://leetcode.com/problems/monotonic-array/). 判断数组是否单调。"
   ]
  },
  {
   "cell_type": "code",
   "execution_count": 9,
   "metadata": {},
   "outputs": [
    {
     "data": {
      "text/plain": [
       "True"
      ]
     },
     "execution_count": 9,
     "metadata": {},
     "output_type": "execute_result"
    }
   ],
   "source": [
    "# 思路：扫描数组，记录出现过的单调性\n",
    "# 如果同时出现两种单调性则返回False\n",
    "\n",
    "def isMonotonic(A):\n",
    "    if len(A)<3:\n",
    "        return True\n",
    "    \n",
    "    ge=le=False\n",
    "    for idx in range(len(A)-1):\n",
    "        if A[idx]<A[idx+1]:\n",
    "            ge=True\n",
    "        if A[idx]>A[idx+1]:\n",
    "            le=True\n",
    "            \n",
    "        if ge and le:\n",
    "            return False\n",
    "        \n",
    "    return True"
   ]
  },
  {
   "cell_type": "markdown",
   "metadata": {},
   "source": [
    "[DI String Match](https://leetcode.com/problems/di-string-match/). 一字符串只含'I'与'D'，要求给出一个连续自然数填充的数组，'I'表示increase，当前位置小于后一位置，'D'表示decrease，当前位置大于后一位置。"
   ]
  },
  {
   "cell_type": "code",
   "execution_count": 10,
   "metadata": {},
   "outputs": [
    {
     "data": {
      "text/plain": [
       "[0, 4, 1, 3, 2]"
      ]
     },
     "execution_count": 10,
     "metadata": {},
     "output_type": "execute_result"
    }
   ],
   "source": [
    "# 思路：字符串对应一个len(s)+1的数组，扫描字符串并实时填充数组\n",
    "# 当遇到I时，填一个最小值，当遇到'D'时，填一个最大值\n",
    "\n",
    "def diStringMatch(S):\n",
    "    min_num,max_num=0,len(S)\n",
    "    res=[0]*(len(S)+1)\n",
    "    \n",
    "    for idx,ch in enumerate(S):\n",
    "        if ch=='I':\n",
    "            res[idx]=min_num\n",
    "            min_num+=1\n",
    "        else:\n",
    "            res[idx]=max_num\n",
    "            max_num-=1\n",
    "            \n",
    "    res[-1]=max_num\n",
    "    return res"
   ]
  },
  {
   "cell_type": "markdown",
   "metadata": {},
   "source": [
    "[Peak Index in a Mountain Array](https://leetcode.com/problems/peak-index-in-a-mountain-array/). 顶峰搜索。"
   ]
  },
  {
   "cell_type": "code",
   "execution_count": 18,
   "metadata": {},
   "outputs": [
    {
     "data": {
      "text/plain": [
       "1"
      ]
     },
     "execution_count": 18,
     "metadata": {},
     "output_type": "execute_result"
    }
   ],
   "source": [
    "# 思路：找到第一个递减的位置\n",
    "# 优化：二分查找\n",
    "\n",
    "\n",
    "def peakIndexInMountainArray(A):\n",
    "    if len(A) < 3:\n",
    "        return -1\n",
    "\n",
    "    left, right = 1, len(A)-1\n",
    "    while left < right:\n",
    "        mid = (left+right)//2\n",
    "\n",
    "        if A[mid] > A[mid+1]:\n",
    "            right -= 1\n",
    "        if A[mid] > A[mid-1]:\n",
    "            left += 1\n",
    "\n",
    "    # 返回哪个指针由左右指针相邻的情况决定\n",
    "    return right"
   ]
  },
  {
   "cell_type": "markdown",
   "metadata": {},
   "source": [
    "[Sort Array By Parity II](https://leetcode.com/problems/sort-array-by-parity-ii/). 重排数组，使得数组的偶数索引位上是偶数，奇数索引位上是奇数。保证数组中奇偶数的数量相等。"
   ]
  },
  {
   "cell_type": "code",
   "execution_count": 25,
   "metadata": {},
   "outputs": [
    {
     "data": {
      "text/plain": [
       "[4, 5, 2, 7]"
      ]
     },
     "execution_count": 25,
     "metadata": {},
     "output_type": "execute_result"
    }
   ],
   "source": [
    "# 思路：设立奇偶双指针，一个只扫描奇数索引位，一个只扫描偶数索引位\n",
    "# 当奇数指针遇到偶数，且偶数指针遇到奇数时，交换\n",
    "\n",
    "def sortArrayByParityII(A):\n",
    "    even_idx,odd_idx=0,1\n",
    "    \n",
    "    # 偶数指针的扫描由for循环完成\n",
    "    for even_idx in range(0,len(A),2):\n",
    "        if A[even_idx]%2==0:\n",
    "            continue\n",
    "        else:\n",
    "            # 因为输入保证一半奇一半偶，不需要做越界判断\n",
    "            while A[odd_idx]%2==1:\n",
    "                odd_idx+=2\n",
    "            A[even_idx],A[odd_idx]=A[odd_idx],A[even_idx]\n",
    "        \n",
    "    return A\n",
    "\n",
    "sortArrayByParityII([4,2,5,7])"
   ]
  },
  {
   "cell_type": "markdown",
   "metadata": {},
   "source": [
    "[Move Zeroes](https://leetcode.com/problems/move-zeroes/). 给定一数组，将所有的零移到数组尾部，保持非零元素的相对顺序。"
   ]
  },
  {
   "cell_type": "code",
   "execution_count": null,
   "metadata": {},
   "outputs": [],
   "source": [
    "# 思路：将题目反过来看，把所有非零元素移到数组头部并保持相对顺序\n",
    "# 双指针，一个扫描指针，一个非零元素的末尾指针\n",
    "\n",
    "\n",
    "def moveZeroes(nums) -> None:\n",
    "    if len(nums) < 2:\n",
    "        return None\n",
    "\n",
    "    non_zero_tail = 0\n",
    "    for idx, num in enumerate(nums):\n",
    "        if num != 0:\n",
    "            nums[non_zero_tail], nums[idx] = nums[idx], nums[non_zero_tail]\n",
    "            non_zero_tail += 1"
   ]
  },
  {
   "cell_type": "markdown",
   "metadata": {},
   "source": [
    "[Top K Frequent Elements](https://leetcode.com/problems/top-k-frequent-elements/)。"
   ]
  },
  {
   "cell_type": "code",
   "execution_count": 11,
   "metadata": {},
   "outputs": [
    {
     "name": "stdout",
     "output_type": "stream",
     "text": [
      "[(1, 3), (2, 2), (3, 1)]\n",
      "(1, 3)\n",
      "[(3, 1), (2, 2)]\n"
     ]
    },
    {
     "data": {
      "text/plain": [
       "[3, 2]"
      ]
     },
     "execution_count": 11,
     "metadata": {},
     "output_type": "execute_result"
    }
   ],
   "source": [
    "# 字典计数，然后应用快排魔改版\n",
    "\n",
    "\n",
    "def topKFrequent(nums,k):\n",
    "    table=dict()\n",
    "    for num in nums:\n",
    "        table[num]=table.get(num,0)+1\n",
    "    \n",
    "    def partition(arr,left,right):\n",
    "        lo,hi=left,right\n",
    "        pivot=arr[lo]\n",
    "        print(pivot)\n",
    "        while lo<hi:\n",
    "            while lo<hi and arr[hi][1]>=pivot[1]:\n",
    "                hi-=1\n",
    "            arr[lo]=arr[hi]\n",
    "            \n",
    "            while lo<hi and arr[lo][1]<=pivot[1]:\n",
    "                lo+=1\n",
    "            arr[hi]=arr[lo]\n",
    "            \n",
    "            arr[lo]=pivot\n",
    "            if lo==k:\n",
    "                return arr[:lo]\n",
    "            elif lo>k:\n",
    "                return partition(arr,left,lo-1)\n",
    "            else:\n",
    "                return partition(arr,lo+1,right)\n",
    "            \n",
    "    table=list(table.items())\n",
    "    print(table)\n",
    "    sub_table=partition(table,0,len(table)-1)\n",
    "    print(sub_table)\n",
    "    return [item[0] for item in sub_table]\n",
    "\n",
    "topKFrequent([1,1,1,2,2,3], 2)"
   ]
  },
  {
   "cell_type": "markdown",
   "metadata": {},
   "source": [
    "[Top K Frequent Elements](https://leetcode.com/problems/top-k-frequent-elements/)。"
   ]
  },
  {
   "cell_type": "code",
   "execution_count": 4,
   "metadata": {},
   "outputs": [
    {
     "data": {
      "text/plain": [
       "[1, 2]"
      ]
     },
     "execution_count": 4,
     "metadata": {},
     "output_type": "execute_result"
    }
   ],
   "source": [
    "# 思路：先建立频率表，再查找\n",
    "\n",
    "def topKFrequent(nums, k: int):\n",
    "    # 1st pass，建表\n",
    "    tabel=dict()\n",
    "    for num in nums:\n",
    "        tabel[num]=tabel.get(num,0)+1\n",
    "    \n",
    "    # 2nd pass，key-val倒置\n",
    "    freq_table=dict()\n",
    "    for num,freq in tabel.items():\n",
    "        if freq not in freq_table:\n",
    "            freq_table[freq]=[num]\n",
    "        else:\n",
    "            freq_table[freq].append(num)\n",
    "            \n",
    "    res=list()\n",
    "    # 高频往低频扫描\n",
    "    for i in range(len(nums),0,-1):\n",
    "        if i in freq_table:\n",
    "            for num in freq_table[i]:\n",
    "                res.append(num)\n",
    "                \n",
    "    return [res[i] for i in range(0,k)]\n",
    "\n",
    "topKFrequent([1,1,1,2,2,3],2)"
   ]
  },
  {
   "cell_type": "markdown",
   "metadata": {},
   "source": [
    "[Kth Smallest Element in a Sorted Matrix](https://leetcode.com/problems/kth-smallest-element-in-a-sorted-matrix/)。一矩阵中的元素每行每列都满足升序排列，找出第k小的数。"
   ]
  },
  {
   "cell_type": "code",
   "execution_count": 6,
   "metadata": {},
   "outputs": [
    {
     "data": {
      "text/plain": [
       "13"
      ]
     },
     "execution_count": 6,
     "metadata": {},
     "output_type": "execute_result"
    }
   ],
   "source": [
    "# 思路：二分查找，左上角最小，右下角最大\n",
    "# 在矩阵中查找小于中值的元素个数有个技巧：从左下角开始搜索\n",
    "\n",
    "\n",
    "def kthSmallest(matrix, k: int) -> int:\n",
    "    left, right = matrix[0][0], matrix[-1][-1]\n",
    "\n",
    "    def func(mid):    # 统计矩阵中小于等于mid的元素个数\n",
    "        row, col = len(matrix)-1, 0    # 从左下角开始找\n",
    "        res = 0    # 小于mid的个数\n",
    "        while row >= 0 and col < len(matrix):\n",
    "            if matrix[row][col] <= mid:\n",
    "                res += row+1\n",
    "                col += 1\n",
    "            else:\n",
    "                row -= 1\n",
    "        return res\n",
    "\n",
    "    while left < right:\n",
    "        mid = (left+right)//2\n",
    "        cnt = func(mid)    # 统计矩阵中小于等于mid的元素个数\n",
    "        if cnt < k:\n",
    "            left = mid+1\n",
    "        else:\n",
    "            right = mid\n",
    "    return left"
   ]
  },
  {
   "cell_type": "markdown",
   "metadata": {},
   "source": [
    "[Find the Duplicate Number](https://leetcode.com/problems/find-the-duplicate-number/)。长度为$n+1$的数组，其中数的范围均为$[1,n]$，有一个数字出现了两次，找出该数字。"
   ]
  },
  {
   "cell_type": "code",
   "execution_count": 23,
   "metadata": {},
   "outputs": [
    {
     "data": {
      "text/plain": [
       "2"
      ]
     },
     "execution_count": 23,
     "metadata": {},
     "output_type": "execute_result"
    }
   ],
   "source": [
    "# 思路：二分查找，每次统计小于等于中值的元素个数\n",
    "\n",
    "\n",
    "def findDuplicate(nums) -> int:\n",
    "    left, right = 1, len(nums)-1\n",
    "\n",
    "    def func(mid):    # 统计小于等于中值的元素数\n",
    "        cnt = 0\n",
    "        for num in nums:\n",
    "            if num <= mid:\n",
    "                cnt += 1\n",
    "        return cnt    # 该值的期望值为mid\n",
    "\n",
    "    while left < right:\n",
    "        mid = (left+right)//2\n",
    "        cnt = func(mid)\n",
    "        if cnt > mid:\n",
    "            right = mid\n",
    "        else:\n",
    "            left = mid+1\n",
    "    return left"
   ]
  },
  {
   "cell_type": "code",
   "execution_count": null,
   "metadata": {},
   "outputs": [],
   "source": []
  }
 ],
 "metadata": {
  "hide_input": false,
  "kernelspec": {
   "display_name": "Python 3",
   "language": "python",
   "name": "python3"
  },
  "language_info": {
   "codemirror_mode": {
    "name": "ipython",
    "version": 3
   },
   "file_extension": ".py",
   "mimetype": "text/x-python",
   "name": "python",
   "nbconvert_exporter": "python",
   "pygments_lexer": "ipython3",
   "version": "3.6.6"
  },
  "toc": {
   "base_numbering": 1,
   "nav_menu": {},
   "number_sections": true,
   "sideBar": true,
   "skip_h1_title": false,
   "title_cell": "Table of Contents",
   "title_sidebar": "Contents",
   "toc_cell": false,
   "toc_position": {},
   "toc_section_display": true,
   "toc_window_display": false
  }
 },
 "nbformat": 4,
 "nbformat_minor": 2
}
