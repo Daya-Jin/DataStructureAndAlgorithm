{
 "cells": [
  {
   "cell_type": "markdown",
   "metadata": {},
   "source": [
    "实现乘方库函数```pow()```的整数运算。"
   ]
  },
  {
   "cell_type": "code",
   "execution_count": 23,
   "metadata": {},
   "outputs": [
    {
     "data": {
      "text/plain": [
       "0.25"
      ]
     },
     "execution_count": 23,
     "metadata": {},
     "output_type": "execute_result"
    }
   ],
   "source": [
    "# 需要考虑底数为0，指数为0，指数为负数这三种情况\n",
    "# 当指数为偶数时，可以使用递归求解\n",
    "# 当指数为奇数时，还要单独乘一次基数\n",
    "def power(base, exp):\n",
    "    # 几个基准值\n",
    "    if base == 0:\n",
    "        return 0\n",
    "    if exp == 0:\n",
    "        return 1\n",
    "    if exp == 1:\n",
    "        return base\n",
    "\n",
    "    neg_flag = 1 if exp < 0 else 0  # 负指数标记\n",
    "    exp = abs(exp)\n",
    "\n",
    "    num = power(base, exp >> 1)\n",
    "    num *= num\n",
    "    if exp & 0x01 == 1:  # 判断是否奇数\n",
    "        num *= base\n",
    "\n",
    "    if neg_flag:\n",
    "        num = 1 / num\n",
    "\n",
    "    return num\n",
    "\n",
    "\n",
    "power(-2, -2)"
   ]
  },
  {
   "cell_type": "markdown",
   "metadata": {},
   "source": [
    "实现\".\"与\"*\"的正则匹配，前者代表任意字符，后者代表任意次数。"
   ]
  },
  {
   "cell_type": "code",
   "execution_count": 11,
   "metadata": {},
   "outputs": [
    {
     "data": {
      "text/plain": [
       "False"
      ]
     },
     "execution_count": 11,
     "metadata": {},
     "output_type": "execute_result"
    }
   ],
   "source": [
    "def re_match(string, pattern):\n",
    "    # 几种特殊情况\n",
    "    if string is None or pattern is None:\n",
    "        return False\n",
    "    elif len(string) == 0 and len(pattern) == 0:\n",
    "        return True\n",
    "    elif len(string) > 0 and len(pattern) == 0:\n",
    "        return False\n",
    "\n",
    "    # 匹配位置后面出现\"*\"的情况，\"*\"的优先级要高于\".\"\n",
    "    elif len(pattern) > 1 and pattern[1] == '*':\n",
    "        # 分为两种情况，可以匹配或无法匹配\n",
    "        if len(string) > 0 and (string[0] == pattern[0] or pattern[0] == '.'):  # 可以匹配，字符相等或出现任意符\n",
    "            return (re_match(string, pattern[2:]) or  # 跳过'*'\n",
    "                    re_match(string[1:], pattern[2:]) or  # '*'匹配一次\n",
    "                    re_match(string[1:], pattern))  # '*'匹配多次\n",
    "        else:  # 无法匹配\n",
    "            return re_match(string, pattern[2:])\n",
    "\n",
    "    # 匹配成功的情况，字符相等或遇到任意匹配符\".\"\n",
    "    elif len(string) > 0 and (string[0] == pattern[0] or pattern[0] == '.'):\n",
    "        return re_match(string[1:], pattern[1:])\n",
    "\n",
    "    # 字符不等\n",
    "    else:\n",
    "        return False"
   ]
  },
  {
   "cell_type": "code",
   "execution_count": null,
   "metadata": {},
   "outputs": [],
   "source": []
  }
 ],
 "metadata": {
  "kernelspec": {
   "display_name": "Python 3",
   "language": "python",
   "name": "python3"
  },
  "language_info": {
   "codemirror_mode": {
    "name": "ipython",
    "version": 3
   },
   "file_extension": ".py",
   "mimetype": "text/x-python",
   "name": "python",
   "nbconvert_exporter": "python",
   "pygments_lexer": "ipython3",
   "version": "3.6.6"
  }
 },
 "nbformat": 4,
 "nbformat_minor": 2
}
