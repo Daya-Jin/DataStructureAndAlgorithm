{
 "cells": [
  {
   "cell_type": "markdown",
   "metadata": {},
   "source": [
    "剪绳子，把一根长度为n>1的绳子剪成m>1段，求各段长度累乘值最大的剪切方案。此题难点在于找到最开始的几个特殊情况，即什么长度下不剪的总长度要小于剪开的长度累乘？"
   ]
  },
  {
   "cell_type": "code",
   "execution_count": 12,
   "metadata": {},
   "outputs": [
    {
     "data": {
      "text/plain": [
       "6"
      ]
     },
     "execution_count": 12,
     "metadata": {},
     "output_type": "execute_result"
    }
   ],
   "source": [
    "# 设解为f(n)，列出f(n)<n的特殊情况\n",
    "# n=0，f(0)无解；n=1，f(1)无解；n=2，f(2)=1*1=1；n=3，f(3)=1*2=2；n=4，f(4)=4=n\n",
    "# n>3时，DP递推式为f(n)=max(f(i)*f(n-i))\n",
    "def MaxProductCut(n):\n",
    "    if n<2:\n",
    "        return None\n",
    "    if n==2:\n",
    "        return 1\n",
    "    if n==3:\n",
    "        return 2\n",
    "    \n",
    "    f_n=[0]*(n+1)    # 存储能用于递推式的f(n)的数组\n",
    "    f_n[1]=1\n",
    "    f_n[2]=2\n",
    "    f_n[3]=3\n",
    "    \n",
    "    for i in range(4,n+1):    # 从小到大求出所有最优解\n",
    "        max_product=0\n",
    "        for cut_point in range(1,i//2+1):    # 尝试所有切分点，切割长度至少为1\n",
    "            cur_product=f_n[cut_point]*f_n[i-cut_point]\n",
    "            if cur_product>max_product:\n",
    "                max_product=cur_product\n",
    "        f_n[i]=max_product\n",
    "    return f_n[-1]\n",
    "\n",
    "MaxProductCut(5)"
   ]
  },
  {
   "cell_type": "code",
   "execution_count": null,
   "metadata": {},
   "outputs": [],
   "source": []
  }
 ],
 "metadata": {
  "kernelspec": {
   "display_name": "Python 3",
   "language": "python",
   "name": "python3"
  },
  "language_info": {
   "codemirror_mode": {
    "name": "ipython",
    "version": 3
   },
   "file_extension": ".py",
   "mimetype": "text/x-python",
   "name": "python",
   "nbconvert_exporter": "python",
   "pygments_lexer": "ipython3",
   "version": "3.6.6"
  }
 },
 "nbformat": 4,
 "nbformat_minor": 2
}
