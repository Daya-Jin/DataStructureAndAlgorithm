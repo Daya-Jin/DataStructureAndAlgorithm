{
 "cells": [
  {
   "cell_type": "markdown",
   "metadata": {},
   "source": [
    "剪绳子，把一根长度为n>1的绳子剪成m>1段，求各段长度累乘值最大的剪切方案。此题难点在于找到最开始的几个特殊情况，即什么长度下不剪的总长度要小于剪开的长度累乘？"
   ]
  },
  {
   "cell_type": "code",
   "execution_count": 1,
   "metadata": {},
   "outputs": [],
   "source": [
    "# 设解为f(n)，列出f(n)<n的特殊情况\n",
    "# n=0，f(0)无解；n=1，f(1)无解；n=2，f(2)=1*1=1；n=3，f(3)=1*2=2；n=4，f(4)=4=n\n",
    "# n>3时，DP递推式为f(n)=max(f(i)*f(n-i))，i为切割点\n",
    "\n",
    "\n",
    "def MaxProductCut(n):\n",
    "    if n < 2:\n",
    "        return None\n",
    "    if n == 2:\n",
    "        return 1\n",
    "    if n == 3:\n",
    "        return 2\n",
    "\n",
    "    f_n = [0]*(n+1)    # 存储能用于递推式的f(n)的数组\n",
    "    f_n[1] = 1\n",
    "    f_n[2] = 2\n",
    "    f_n[3] = 3\n",
    "\n",
    "    for i in range(4, n+1):    # 从小到大求出所有最优解\n",
    "        max_product = 0\n",
    "        for cut_point in range(1, i//2+1):    # 尝试所有切分点，切割长度至少为1\n",
    "            cur_product = f_n[cut_point]*f_n[i-cut_point]\n",
    "            if cur_product > max_product:\n",
    "                max_product = cur_product\n",
    "        f_n[i] = max_product\n",
    "    return f_n[-1]"
   ]
  },
  {
   "cell_type": "markdown",
   "metadata": {},
   "source": [
    "矩阵中得到最大和的路线。一个矩阵，每个单元格上均有一个数字，从左上角开始，每次只能往右或往下，求一条能得到最大和的路径。"
   ]
  },
  {
   "cell_type": "code",
   "execution_count": 2,
   "metadata": {},
   "outputs": [],
   "source": [
    "# 思路：动态规划，维护一个最大价值矩阵，该矩阵中每个元素的值均由max(up,left)+cur计算得出\n",
    "# 手动模拟时发现，在计算时最多只用到了上一行的数据，所以在空间上可以进一步优化，不需要维护个完整的矩阵\n",
    "\n",
    "\n",
    "def getMaxSum(values, rows, cols):\n",
    "    '''\n",
    "    values:数字序列\n",
    "    rows,cols:矩阵行列数\n",
    "    '''\n",
    "    sum_mat = [[0 for _ in range(cols)] for _ in range(rows)]    # sum矩阵\n",
    "\n",
    "    # 从左往右逐行扫描\n",
    "    for row in range(rows):\n",
    "        for col in range(cols):\n",
    "            up = sum_mat[row-1][col] if row > 0 else 0    # 如果是第一行，上格子值设为0\n",
    "            left = sum_mat[row][col-1] if col > 0 else 0    # 如果是第一列，左格子值设为0\n",
    "\n",
    "            sum_mat[row][col] = max(up, left)+values[row*cols+col]\n",
    "\n",
    "    return sum_mat[-1][-1]"
   ]
  },
  {
   "cell_type": "markdown",
   "metadata": {},
   "source": [
    "非重复最长子串。给定一个字符串，求其中不含重复字母的最长子串长度。"
   ]
  },
  {
   "cell_type": "code",
   "execution_count": 3,
   "metadata": {},
   "outputs": [],
   "source": [
    "# 思路：为26个字母维护一个记录出现位置的数组，扫描字符串\n",
    "# 如果上次出现位置在当前子串之前，则将该字母纳入子串\n",
    "# 如果该字母已出现在子串内，则删掉重复字母及之前的部分，再将该字母纳入子串\n",
    "\n",
    "\n",
    "def LongestSubstringWithoutDup(s):\n",
    "    max_len = 0\n",
    "    cur_len = 0\n",
    "    ch_appear_pos = [-1]*26    # 记录每个字母最近一次出现的位置\n",
    "\n",
    "    for idx in (range(len(s))):    # 扫描字符串\n",
    "        pre_pos = ch_appear_pos[ord(s[idx])-ord('a')]    # 当前字母上次出现的位置\n",
    "\n",
    "        if pre_pos < 0 or idx-pre_pos > cur_len:    # 如果上次出现的距离比当前保存的距离还远\n",
    "            cur_len += 1    # 则把该字母加入子串中\n",
    "        else:    # 如果该字母是子串中已出现的字母，则需要缩短子串\n",
    "            if cur_len > max_len:\n",
    "                max_len = cur_len\n",
    "            cur_len = idx-pre_pos    # 去掉该字母上次出现位置及之前的部分\n",
    "        ch_appear_pos[ord(s[idx])-ord('a')] = idx    # 更新该字母出现位置\n",
    "\n",
    "    if cur_len > max_len:\n",
    "        max_len = cur_len\n",
    "\n",
    "    return max_len"
   ]
  },
  {
   "cell_type": "markdown",
   "metadata": {},
   "source": [
    "n个骰子点数和的概率。"
   ]
  },
  {
   "cell_type": "code",
   "execution_count": 4,
   "metadata": {},
   "outputs": [],
   "source": [
    "# 思路：令f(n,s)为n个骰子和为s的组合数，则\n",
    "# f(n,s)=f(n-1,s-1)+f(n-1,s-2)+f(n-1,s-3)+f(n-1,s-4)+f(n-1,s-5)+f(n-1,s-6)\n",
    "# 可见f(n,*)只与f(n-1,*)时的状态有关，设立两个数组，分别轮番表示f(n-1,*)与f(n,*)时的状态\n",
    "\n",
    "def P(n):\n",
    "    if n<1:\n",
    "        return 0\n",
    "    \n",
    "    max_value=6    # 预定义骰子的最大点数\n",
    "    \n",
    "    # n个骰子的点数范围为n-6n，把数组长度设为6n，非法位置设为0\n",
    "    arr1=[0 for _ in range(max_value*n+1)]\n",
    "    arr2=[0 for _ in range(max_value*n+1)]\n",
    "    arr=[arr1,arr2]\n",
    "    flag=0    # 用于在两数组中进行状态轮切\n",
    "    \n",
    "    # 初始状态f(1,1)=f(1,2)=...=f(1,6)=1\n",
    "    for i in range(1,max_value+1):\n",
    "        arr[flag][i]=1\n",
    "    \n",
    "    for k in range(2,n+1):    # 逐个增加骰子\n",
    "        for val in range(0,k-1):    # 小于骰子数的面值概率都为0\n",
    "            arr[1-flag][val]=0\n",
    "            \n",
    "        for val in range(k,max_value*k+1):\n",
    "            arr[1-flag][val]=0    # 初始值设为0\n",
    "            \n",
    "            j=1    # 逐个加上上一状态时-1,-2,...,-6的组合数\n",
    "            while j<=val and j<=max_value:\n",
    "                arr[1-flag][val]+=arr[flag][val-j]\n",
    "                j+=1\n",
    "        \n",
    "        flag=1-flag    # 转换状态\n",
    "        \n",
    "    tol_comb=pow(max_value,n)\n",
    "    for i in range(n,max_value*n+1):\n",
    "        print(arr[flag][i]/tol_comb)"
   ]
  },
  {
   "cell_type": "markdown",
   "metadata": {},
   "source": [
    "Ugly Number II. 丑数。除1之外，只有因子2，3，5的数称为丑数。查找第n个丑数。"
   ]
  },
  {
   "cell_type": "code",
   "execution_count": 5,
   "metadata": {},
   "outputs": [],
   "source": [
    "# 思路：1是第一个丑数，也可看作是所有丑数的基数\n",
    "# 任何丑数都是由某个丑数乘以2、或乘以3、或乘以5得到\n",
    "# 如2，3，5就是分别由1乘2，乘3，乘5得到\n",
    "# 任何丑数都有*2，*3和*5的机会，所以设立三个指针\n",
    "# 三个指针在已有的丑数数组上逐位移动\n",
    "\n",
    "def nthUglyNumber(n):\n",
    "    ugly_nums=[1]\n",
    "    if n==1:\n",
    "        return ugly_nums[-1]\n",
    "    \n",
    "    # 乘2乘3乘5的机会指针\n",
    "    mutil2_idx=mutil3_idx=mutil5_idx=0\n",
    "    \n",
    "    cnt=1    # 计数\n",
    "    while cnt<n:\n",
    "        cur_ugly=min(ugly_nums[mutil2_idx]*2,ugly_nums[mutil3_idx]*3,ugly_nums[mutil5_idx]*5)\n",
    "        \n",
    "        if cur_ugly>ugly_nums[-1]:\n",
    "            ugly_nums.append(cur_ugly)\n",
    "            cnt+=1\n",
    "        \n",
    "        if cur_ugly==ugly_nums[mutil2_idx]*2:\n",
    "            mutil2_idx+=1\n",
    "        elif cur_ugly==ugly_nums[mutil3_idx]*3:\n",
    "            mutil3_idx+=1\n",
    "        else:\n",
    "            mutil5_idx+=1\n",
    "            \n",
    "    return ugly_nums[-1]"
   ]
  },
  {
   "cell_type": "markdown",
   "metadata": {},
   "source": [
    "(没搞懂！)[歌单方案数](https://www.nowcoder.com/questionTerminal/f3ab6fe72af34b71a2fd1d83304cbbb3?orderByHotValue=1&page=1&onlyReference=false)，手头有X首A分钟的歌，还有Y首B分钟的歌，要组成一个总长K分钟的歌单，有多少种方案。$K\\le1000$，$X,Y\\le100$"
   ]
  },
  {
   "cell_type": "code",
   "execution_count": 17,
   "metadata": {
    "scrolled": true
   },
   "outputs": [
    {
     "data": {
      "text/plain": [
       "9"
      ]
     },
     "execution_count": 17,
     "metadata": {},
     "output_type": "execute_result"
    }
   ],
   "source": [
    "# 思路：动态规划，设index为歌单内歌的数量，column为歌单长度\n",
    "# 难点在于状态转移方程，C(n,k)= C(n-1,k) + C(n-1,k-1)\n",
    "# n表示歌总数，k表示选出来的歌的数量，题目中k是以时长表示的\n",
    "# 所以该题的状态方程为\n",
    "# dp[num_song][total_duration]=dp[num_song-1][total_duration]+dp[num_song-1][total_duration-len_song]\n",
    "\n",
    "\n",
    "def solution(A, X, B, Y, K):\n",
    "    dp = [[0 for _ in range(K+1)] for _ in range(X+Y+1)]\n",
    "    lens = [0]*(X+Y+1)\n",
    "\n",
    "    dp[0][0] = 1    # 0首歌组成0分钟的歌单，一种方案\n",
    "    for i in range(1, X+1):\n",
    "        lens[i] = A\n",
    "    for i in range(X+1, X+Y+1):\n",
    "        lens[i] = B\n",
    "\n",
    "    for num_song in range(1, X+Y+1):\n",
    "        for total_duration in range(0, K+1):\n",
    "            dp[num_song][total_duration] = dp[num_song-1][total_duration] if total_duration < lens[num_song] \\\n",
    "                else dp[num_song - 1][total_duration]+dp[num_song-1][total_duration-lens[num_song]]\n",
    "\n",
    "    return dp[X+Y][K]\n",
    "\n",
    "\n",
    "solution(2, 3, 3, 3, 5)"
   ]
  },
  {
   "cell_type": "markdown",
   "metadata": {},
   "source": [
    "[Fibonacci Number](https://leetcode.com/problems/fibonacci-number/). "
   ]
  },
  {
   "cell_type": "code",
   "execution_count": 6,
   "metadata": {},
   "outputs": [
    {
     "data": {
      "text/plain": [
       "3"
      ]
     },
     "execution_count": 6,
     "metadata": {},
     "output_type": "execute_result"
    }
   ],
   "source": [
    "# 思路：空间换时间\n",
    "\n",
    "\n",
    "def fib(N: int) -> int:\n",
    "    if N < 2:\n",
    "        return N\n",
    "\n",
    "    pre = 0\n",
    "    cur = 1\n",
    "\n",
    "    for _ in range(2, N+1):\n",
    "        pre += cur    # 前两个数加起来，覆盖pre\n",
    "        pre, cur = cur, pre    # 交换两值\n",
    "\n",
    "    return cur\n",
    "\n",
    "\n",
    "fib(4)"
   ]
  },
  {
   "cell_type": "code",
   "execution_count": null,
   "metadata": {},
   "outputs": [],
   "source": []
  }
 ],
 "metadata": {
  "hide_input": false,
  "kernelspec": {
   "display_name": "Python 3",
   "language": "python",
   "name": "python3"
  },
  "language_info": {
   "codemirror_mode": {
    "name": "ipython",
    "version": 3
   },
   "file_extension": ".py",
   "mimetype": "text/x-python",
   "name": "python",
   "nbconvert_exporter": "python",
   "pygments_lexer": "ipython3",
   "version": "3.6.6"
  },
  "toc": {
   "base_numbering": 1,
   "nav_menu": {},
   "number_sections": true,
   "sideBar": true,
   "skip_h1_title": false,
   "title_cell": "Table of Contents",
   "title_sidebar": "Contents",
   "toc_cell": false,
   "toc_position": {},
   "toc_section_display": true,
   "toc_window_display": false
  }
 },
 "nbformat": 4,
 "nbformat_minor": 2
}
