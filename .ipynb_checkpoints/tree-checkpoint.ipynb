{
 "cells": [
  {
   "cell_type": "markdown",
   "metadata": {},
   "source": [
    "给定一棵二叉树的先序序列跟中序序列，重构这颗二叉树，返回根节点。"
   ]
  },
  {
   "cell_type": "code",
   "execution_count": 8,
   "metadata": {},
   "outputs": [
    {
     "name": "stdout",
     "output_type": "stream",
     "text": [
      "1 2 3 4 5\n"
     ]
    }
   ],
   "source": [
    "class TreeNode:\n",
    "    def __init__(self, x):\n",
    "        self.val = x\n",
    "        self.left = None\n",
    "        self.right = None\n",
    "\n",
    "\n",
    "pre_order = [1, 2, 4, 7, 3, 5, 6, 8]\n",
    "in_order = [4, 7, 2, 1, 5, 3, 8, 6]\n",
    "\n",
    "\n",
    "def reConstructBinaryTree(pre_order, in_order):\n",
    "    if len(pre_order) == 0:\n",
    "        return None\n",
    "    if len(pre_order) == 1:\n",
    "        return TreeNode(pre_order[0])\n",
    "\n",
    "    cur_root = TreeNode(pre_order[0])  # 先序序列的首元素肯定是根节点\n",
    "\n",
    "    # 找到根节点在中序序列中的位置，左边是左子树元素，右边是右子树元素\n",
    "    cur_root_index = in_order.index(pre_order[0])\n",
    "\n",
    "    cur_root.left = reConstructBinaryTree(pre_order[1:cur_root_index + 1], in_order[:cur_root_index])\n",
    "    cur_root.right = reConstructBinaryTree(pre_order[cur_root_index + 1:], in_order[cur_root_index + 1:])\n",
    "    return cur_root\n",
    "\n",
    "\n",
    "tree = reConstructBinaryTree(pre_order, in_order)\n",
    "print(tree.val, tree.left.val, tree.right.val, tree.left.left.val, tree.right.left.val)"
   ]
  },
  {
   "cell_type": "markdown",
   "metadata": {},
   "source": [
    "给定一颗二叉树与一个节点，找出其中序序列的下一个节点，节点有三个指针，分别指向左子节点、右子节点和父节点。"
   ]
  },
  {
   "cell_type": "code",
   "execution_count": 22,
   "metadata": {},
   "outputs": [
    {
     "data": {
      "text/plain": [
       "0"
      ]
     },
     "execution_count": 22,
     "metadata": {},
     "output_type": "execute_result"
    }
   ],
   "source": [
    "class TreeNode:\n",
    "    def __init__(self, x=None):\n",
    "        self.val = x\n",
    "        self.left = None\n",
    "        self.right = None\n",
    "        self.p = None\n",
    "\n",
    "\n",
    "a = TreeNode(0)\n",
    "\n",
    "b = TreeNode(1)\n",
    "b.p = a\n",
    "a.left = b\n",
    "\n",
    "c = TreeNode(2)\n",
    "c.p = a\n",
    "a.right = c\n",
    "\n",
    "d = TreeNode(3)\n",
    "d.p = b\n",
    "b.right = d\n",
    "\n",
    "\n",
    "# 分情况讨论\n",
    "# 有右子树\n",
    "#     则找到右子树中最左的节点\n",
    "# 无右子树\n",
    "#     有父节点\n",
    "#         该节点是父节点的左子树，则返回父节点\n",
    "#         该节点是父节点的右子树，向上搜索找到最近的左子节点\n",
    "#     无父节点\n",
    "#         返回空\n",
    "def next_node(node):\n",
    "    if node is None:\n",
    "        return None\n",
    "\n",
    "    next_node = None  # 返回值置空\n",
    "\n",
    "    if node.right is not None:  # 存在右子树\n",
    "        node = node.right\n",
    "        while node.left is not None:\n",
    "            node = node.left\n",
    "        next_node = node\n",
    "    elif node.p is not None:  # 无右子树有父节点\n",
    "        cur_node = node\n",
    "        while cur_node.p is not None and cur_node == cur_node.p.right:  # 向上搜索最近的左子节点\n",
    "            cur_node = cur_node.p\n",
    "        next_node = cur_node.p\n",
    "\n",
    "    return next_node\n",
    "\n",
    "\n",
    "next_node(d)"
   ]
  },
  {
   "cell_type": "code",
   "execution_count": null,
   "metadata": {},
   "outputs": [],
   "source": []
  }
 ],
 "metadata": {
  "kernelspec": {
   "display_name": "Python 3",
   "language": "python",
   "name": "python3"
  },
  "language_info": {
   "codemirror_mode": {
    "name": "ipython",
    "version": 3
   },
   "file_extension": ".py",
   "mimetype": "text/x-python",
   "name": "python",
   "nbconvert_exporter": "python",
   "pygments_lexer": "ipython3",
   "version": "3.6.6"
  }
 },
 "nbformat": 4,
 "nbformat_minor": 2
}
