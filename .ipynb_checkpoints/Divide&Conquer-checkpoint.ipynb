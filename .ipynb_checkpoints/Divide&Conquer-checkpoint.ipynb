{
 "cells": [
  {
   "cell_type": "markdown",
   "metadata": {},
   "source": [
    "[Longest Substring with At Least K Repeating Characters](https://leetcode.com/problems/longest-substring-with-at-least-k-repeating-characters/)。找到一个最长子串，要求该子串中所有字符都至少出现$k$次。"
   ]
  },
  {
   "cell_type": "code",
   "execution_count": 2,
   "metadata": {},
   "outputs": [
    {
     "data": {
      "text/plain": [
       "5"
      ]
     },
     "execution_count": 2,
     "metadata": {},
     "output_type": "execute_result"
    }
   ],
   "source": [
    "# 思路：首先需要建立一个ch-cnt的映射表，如果所有ch的cnt都大于等于k，则直接返回原字串长度\n",
    "# 否则按照那些不够出现次数的字符做split，然后再对各个子串判断\n",
    "\n",
    "from collections import Counter\n",
    "\n",
    "\n",
    "def longestSubstring(s: str, k: int) -> int:\n",
    "    tabel = Counter(s)\n",
    "    for ch in tabel:\n",
    "        if tabel[ch] < k:\n",
    "            return max(longestSubstring(sub_s, k) for sub_s in s.split(ch))\n",
    "    return len(s)"
   ]
  },
  {
   "cell_type": "markdown",
   "metadata": {},
   "source": [
    "[Different Ways to Add Parentheses](https://leetcode.com/problems/different-ways-to-add-parentheses/)。给一个数学表达式，尝试所有可能的添加括号的方式，返回所有可能的值。运算符只包含$+$，$-$，$*$。\n",
    "\n",
    "思路：明显的递归问题，递归时尝试所有可能的运算符分割，分割即相当于加括号，然后返回运算结果。上层递归整合左右两边的所有结果，进行全组合运算。"
   ]
  },
  {
   "cell_type": "code",
   "execution_count": null,
   "metadata": {},
   "outputs": [],
   "source": [
    "def diffWaysToCompute(exp: str):\n",
    "    if not exp:\n",
    "        return list()\n",
    "    if exp.isdigit():\n",
    "        return [int(exp)]\n",
    "\n",
    "    res = list()\n",
    "    for idx in range(len(exp)):\n",
    "        if exp[i] in ['+', '-', '*']:    # 以运算符做分割\n",
    "            left_res = diffWaysToCompute(exp[:i])\n",
    "            right_res = diffWaysToCompute(exp[i+1:])\n",
    "\n",
    "            # 左右答案全组合\n",
    "            for res_l in left_res:\n",
    "                for res_r in right_res:\n",
    "                    if exp[i] == '+':\n",
    "                        res.append(res_l+res_r)\n",
    "                    elif exp[i] == '-':\n",
    "                        res.append(res_l-res_r)\n",
    "                    else:\n",
    "                        res.append(res_l*res_r)\n",
    "\n",
    "    return res"
   ]
  },
  {
   "cell_type": "code",
   "execution_count": null,
   "metadata": {},
   "outputs": [],
   "source": []
  }
 ],
 "metadata": {
  "hide_input": false,
  "kernelspec": {
   "display_name": "Python 3",
   "language": "python",
   "name": "python3"
  },
  "language_info": {
   "codemirror_mode": {
    "name": "ipython",
    "version": 3
   },
   "file_extension": ".py",
   "mimetype": "text/x-python",
   "name": "python",
   "nbconvert_exporter": "python",
   "pygments_lexer": "ipython3",
   "version": "3.6.6"
  },
  "toc": {
   "base_numbering": 1,
   "nav_menu": {},
   "number_sections": true,
   "sideBar": true,
   "skip_h1_title": false,
   "title_cell": "Table of Contents",
   "title_sidebar": "Contents",
   "toc_cell": false,
   "toc_position": {},
   "toc_section_display": true,
   "toc_window_display": false
  }
 },
 "nbformat": 4,
 "nbformat_minor": 2
}
