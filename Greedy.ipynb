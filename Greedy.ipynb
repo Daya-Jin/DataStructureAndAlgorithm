{
 "cells": [
  {
   "cell_type": "markdown",
   "metadata": {},
   "source": [
    "最大子串和。给定一个数字串，求出其中和最大的子串序列。"
   ]
  },
  {
   "cell_type": "code",
   "execution_count": 1,
   "metadata": {},
   "outputs": [],
   "source": [
    "# 思路，维护一个当前和与最大和的变量，扫描数组并尝试加上新数字。\n",
    "# 若做加法之前的累加和为负数，那么负数加上当前数字只可能比当前数字更小，这种情况可以直接从当前数字起重新加\n",
    "# 只有当加法之前的累加和为正，再加上一个数字才会产生更大的和\n",
    "# 每次做完加法之后需要判断当前和是否大于保存的最大和\n",
    "\n",
    "\n",
    "def MaxSumOfSubArray(arr):\n",
    "    opt = arr[0]\n",
    "    cur_max = 0\n",
    "    res = -0xffffff\n",
    "\n",
    "    for i in range(len(arr)):\n",
    "        if cur_max < 0:    # 如果加之前的最大和就为负，那么加上该数只能产生更小的和，所以舍弃前面的和\n",
    "            cur_max = arr[i]\n",
    "        else:    # 前次累加和为正数的情况\n",
    "            cur_max += arr[i]\n",
    "\n",
    "        if cur_max > res:\n",
    "            res = cur_max\n",
    "    return res"
   ]
  },
  {
   "cell_type": "markdown",
   "metadata": {},
   "source": [
    "[Gas Station](https://leetcode.com/problems/gas-station/)。两个数组，分别表示加气站的加气量与到下一个加气站的消耗，假设加气站是一个环路，求能跑完所有加气站的一个起点位置。"
   ]
  },
  {
   "cell_type": "code",
   "execution_count": 5,
   "metadata": {},
   "outputs": [
    {
     "data": {
      "text/plain": [
       "-1"
      ]
     },
     "execution_count": 5,
     "metadata": {},
     "output_type": "execute_result"
    }
   ],
   "source": [
    "# 思路：贪心算法，当sum(gas)>=sum(cost)时必定存在一个起点\n",
    "# 遍历gas数组，当车内气量+gas[i]<cost[i]时，说明无法前进了\n",
    "# 那么该点及其之前的点都不能作为起点，然后以下一个点为起点再前进\n",
    "\n",
    "def canCompleteCircuit(gas, cost) -> int:\n",
    "    if sum(gas)<sum(cost):\n",
    "        return -1\n",
    "    \n",
    "    cur_gas=0\n",
    "    start_idx=0\n",
    "    \n",
    "    for i in range(len(gas)):\n",
    "        cur_gas+=gas[i]\n",
    "        if cur_gas>=cost[i]:\n",
    "            cur_gas-=cost[i]\n",
    "        else:\n",
    "            start_idx=i+1\n",
    "            cur_gas=0\n",
    "    \n",
    "    return start_idx\n",
    "\n",
    "canCompleteCircuit([2,3,4],[3,4,3])"
   ]
  },
  {
   "cell_type": "code",
   "execution_count": null,
   "metadata": {},
   "outputs": [],
   "source": []
  }
 ],
 "metadata": {
  "hide_input": false,
  "kernelspec": {
   "display_name": "Python 3",
   "language": "python",
   "name": "python3"
  },
  "language_info": {
   "codemirror_mode": {
    "name": "ipython",
    "version": 3
   },
   "file_extension": ".py",
   "mimetype": "text/x-python",
   "name": "python",
   "nbconvert_exporter": "python",
   "pygments_lexer": "ipython3",
   "version": "3.6.6"
  },
  "toc": {
   "base_numbering": 1,
   "nav_menu": {},
   "number_sections": true,
   "sideBar": true,
   "skip_h1_title": false,
   "title_cell": "Table of Contents",
   "title_sidebar": "Contents",
   "toc_cell": false,
   "toc_position": {},
   "toc_section_display": true,
   "toc_window_display": false
  }
 },
 "nbformat": 4,
 "nbformat_minor": 2
}
