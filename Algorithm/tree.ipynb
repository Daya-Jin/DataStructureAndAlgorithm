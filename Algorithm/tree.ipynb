{
 "cells": [
  {
   "cell_type": "markdown",
   "metadata": {},
   "source": [
    "Minimum Depth of Binary Tree. 二叉树的最小深度，令根节点深度为1。"
   ]
  },
  {
   "cell_type": "code",
   "execution_count": null,
   "metadata": {},
   "outputs": [],
   "source": [
    "# 思路：层次遍历，一旦遇到叶节点立马返回深度\n",
    "\n",
    "\n",
    "def minDepth(root):\n",
    "    if not root:\n",
    "        return 0\n",
    "\n",
    "    q = list()\n",
    "    q.append(root)\n",
    "    dep = 0\n",
    "\n",
    "    while q:\n",
    "        dep += 1\n",
    "        level_size = len(q)\n",
    "\n",
    "        for _ in range(level_size):    # 单层遍历\n",
    "            cur_node = q.pop(0)\n",
    "\n",
    "            # 碰到叶节点立即返回\n",
    "            if not cur_node.left and not cur_node.right:\n",
    "                return dep\n",
    "\n",
    "            if cur_node.left:\n",
    "                q.append(cur_node.left)\n",
    "            if cur_node.right:\n",
    "                q.append(cur_node.right)"
   ]
  },
  {
   "cell_type": "markdown",
   "metadata": {},
   "source": [
    "Maximum Depth of Binary Tree. 二叉树的最大深度，令根节点深度为1."
   ]
  },
  {
   "cell_type": "code",
   "execution_count": null,
   "metadata": {},
   "outputs": [],
   "source": [
    "# 思路，进行一次完整的层次扫描\n",
    "\n",
    "\n",
    "def maxDepth(root):\n",
    "    if not root:\n",
    "        return 0\n",
    "\n",
    "    q = list()\n",
    "    q.append(root)\n",
    "    dep = 0\n",
    "\n",
    "    while q:\n",
    "        dep += 1\n",
    "        level_size = len(q)\n",
    "\n",
    "        for _ in range(level_size):\n",
    "            cur_node = q.pop(0)\n",
    "\n",
    "            if cur_node.left:\n",
    "                q.append(cur_node.left)\n",
    "            if cur_node.right:\n",
    "                q.append(cur_node.right)\n",
    "\n",
    "    return dep"
   ]
  },
  {
   "cell_type": "markdown",
   "metadata": {},
   "source": [
    "[Merge Two Binary Trees](https://leetcode.com/problems/merge-two-binary-trees/). 合并两二叉树，同样位置的节点用和来覆盖。"
   ]
  },
  {
   "cell_type": "code",
   "execution_count": null,
   "metadata": {},
   "outputs": [],
   "source": [
    "# 思路：本质上还是树的遍历，不过遍历时要将两棵树对应节点作为一个节点组来看待\n",
    "# 以下代码将右树合并到左树中\n",
    "\n",
    "\n",
    "def mergeTrees(t1, t2):\n",
    "    if not t1:\n",
    "        return t2\n",
    "\n",
    "    s = []\n",
    "    s.append((t1, t2))    # 压根节点组\n",
    "\n",
    "    while s:\n",
    "        cur_node = s.pop()    # 访问节点组\n",
    "        if not cur_node[0] or not cur_node[1]:\n",
    "            continue\n",
    "\n",
    "        cur_node[0].val += cur_node[1].val    # 当前节点的合并\n",
    "\n",
    "        if not cur_node[0].left:    # 如果左树的左子节点为空，则用右树的节点覆盖\n",
    "            cur_node[0].left = cur_node[1].left\n",
    "        else:\n",
    "            s.append((cur_node[0].left, cur_node[1].left))\n",
    "\n",
    "        if not cur_node[0].right:\n",
    "            cur_node[0].right = cur_node[1].right\n",
    "        else:\n",
    "            s.append((cur_node[0].right, cur_node[1].right))\n",
    "\n",
    "    return t1"
   ]
  }
 ],
 "metadata": {
  "hide_input": false,
  "kernelspec": {
   "display_name": "Python 3",
   "language": "python",
   "name": "python3"
  },
  "language_info": {
   "codemirror_mode": {
    "name": "ipython",
    "version": 3
   },
   "file_extension": ".py",
   "mimetype": "text/x-python",
   "name": "python",
   "nbconvert_exporter": "python",
   "pygments_lexer": "ipython3",
   "version": "3.7.4"
  },
  "toc": {
   "base_numbering": 1,
   "nav_menu": {},
   "number_sections": true,
   "sideBar": true,
   "skip_h1_title": false,
   "title_cell": "Table of Contents",
   "title_sidebar": "Contents",
   "toc_cell": false,
   "toc_position": {},
   "toc_section_display": true,
   "toc_window_display": false
  }
 },
 "nbformat": 4,
 "nbformat_minor": 2
}
