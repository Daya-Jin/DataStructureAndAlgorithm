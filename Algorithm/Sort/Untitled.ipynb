{
 "cells": [
  {
   "cell_type": "markdown",
   "metadata": {},
   "source": [
    "最小数字拼接方案。给定一组数字a，b，c ...，给出一个拼接方案，使得拼接后的数字最小。\n",
    "\n",
    "思路：重新定义一种大小关系，若m,n拼接后的数字存在关系nm<mn，则令n<m。对所有数字排序后选出最小的两个数字，小数在前大数在后拼接即可。"
   ]
  },
  {
   "cell_type": "code",
   "execution_count": 7,
   "metadata": {},
   "outputs": [
    {
     "name": "stdout",
     "output_type": "stream",
     "text": [
      "[12, 21, 45, 65]\n"
     ]
    },
    {
     "data": {
      "text/plain": [
       "(12, 21)"
      ]
     },
     "execution_count": 7,
     "metadata": {},
     "output_type": "execute_result"
    }
   ],
   "source": [
    "def MinNumberCon(numbers):\n",
    "    def LT(a, b):\n",
    "        return True if int(str(a)+str(b)) < int(str(b)+str(a)) else False\n",
    "\n",
    "    def BubSort(arr):\n",
    "        n = len(arr)\n",
    "        for i in range(n-1):    # 末尾已排好序的元素数\n",
    "            for j in range(n-1-i):    # 从前往后排序的工作指针\n",
    "                if LT(arr[j+1], arr[j]):\n",
    "                    arr[j], arr[j+1] = arr[j+1], arr[j]\n",
    "\n",
    "    BubSort(numbers)\n",
    "    return (numbers[0], numbers[1])"
   ]
  },
  {
   "cell_type": "markdown",
   "metadata": {},
   "source": [
    "[Largest Number](https://leetcode.com/problems/largest-number/)。给定一组非负整数，重拍它们使得它们拼接起来构成一个最大的数字。\n",
    "\n",
    "思路：同上题。"
   ]
  },
  {
   "cell_type": "code",
   "execution_count": 18,
   "metadata": {},
   "outputs": [
    {
     "data": {
      "text/plain": [
       "9534330"
      ]
     },
     "execution_count": 18,
     "metadata": {},
     "output_type": "execute_result"
    }
   ],
   "source": [
    "def largestNumber(nums) -> str:\n",
    "    def LT(a, b):\n",
    "        return True if int(str(a)+str(b)) < int(str(b)+str(a)) else False\n",
    "\n",
    "    def BubSort(nums):    # 由大到小排序\n",
    "        n = len(nums)\n",
    "        for i in range(n-1):\n",
    "            for j in range(n-1-i):\n",
    "                if LT(nums[j], nums[j+1]):\n",
    "                    nums[j], nums[j+1] = nums[j+1], nums[j]\n",
    "\n",
    "    BubSort(nums)\n",
    "    return str(int(''.join(map(str, nums))))    # 多次转换是为了消除首位的0"
   ]
  },
  {
   "cell_type": "markdown",
   "metadata": {},
   "source": [
    "[Car Fleet](https://leetcode.com/problems/car-fleet/)。设置一个终点坐标target，在若干个坐标pos上有车辆等待出发，各辆车的速度以数组形式给出。当车辆在行驶途中相遇时会合并成一个车队，问这些车辆会以几个车队的形式达到终点。车辆在终点相遇也会进行合并。\n",
    "\n",
    "思路：车子到达终点所需的时间为$(target-pos)/speed$，将所有车子按照起始位置排序，假设终点在右边，由右往左遍历，用栈来保存车队。最右边的车辆首先入栈构成车队，然后如果第二辆车的时间小于等于前面的车队，则会进行合并。最后返回栈的大小即可。"
   ]
  },
  {
   "cell_type": "code",
   "execution_count": 4,
   "metadata": {},
   "outputs": [
    {
     "name": "stdout",
     "output_type": "stream",
     "text": [
      "[(0, 1), (3, 3), (5, 1), (8, 4), (10, 2)]\n"
     ]
    },
    {
     "data": {
      "text/plain": [
       "3"
      ]
     },
     "execution_count": 4,
     "metadata": {},
     "output_type": "execute_result"
    }
   ],
   "source": [
    "def carFleet(target: int, position, speed) -> int:\n",
    "    if not position:\n",
    "        return 0\n",
    "\n",
    "    cars = list(zip(position, speed))\n",
    "    cars.sort(key=lambda x: x[0])\n",
    "    s = [cars.pop()]    # 最右入栈\n",
    "\n",
    "    while cars:\n",
    "        car = cars.pop()\n",
    "        t_fleet = (target-s[-1][0])/s[-1][1]\n",
    "        t_car = (target-car[0])/car[1]\n",
    "        if t_car > t_fleet:\n",
    "            s.append(car)\n",
    "\n",
    "    return len(s)"
   ]
  },
  {
   "cell_type": "markdown",
   "metadata": {},
   "source": [
    "[Minimum Size Subarray Sum](https://leetcode.com/problems/minimum-size-subarray-sum/)。给定一数组与一个数$s$，求在数组中找出和大于等于$s$的最短连续子数组的长度。\n",
    "\n",
    "思路：滑动窗口，若窗口和小于$s$，则右边界增加；若窗口和满足条件，则试着左移左边界。保存一个最小窗口长度即可。"
   ]
  },
  {
   "cell_type": "code",
   "execution_count": 7,
   "metadata": {},
   "outputs": [
    {
     "data": {
      "text/plain": [
       "2"
      ]
     },
     "execution_count": 7,
     "metadata": {},
     "output_type": "execute_result"
    }
   ],
   "source": [
    "def minSubArrayLen(s: int, nums) -> int:\n",
    "    left = right = 0\n",
    "    cur_sum = 0\n",
    "    res = 0x7FFFFFFF\n",
    "\n",
    "    while right < len(nums):\n",
    "        cur_sum += nums[right]\n",
    "        right += 1\n",
    "        while cur_sum >= s:\n",
    "            res = min(res, right-left)\n",
    "            cur_sum -= nums[left]\n",
    "            left += 1\n",
    "\n",
    "    return res if res < 0x7FFFFFFF else 0"
   ]
  },
  {
   "cell_type": "markdown",
   "metadata": {},
   "source": [
    "[Contains Duplicate III](https://leetcode.com/problems/contains-duplicate-iii/)。给一数组，同时限定值差$t$与位置差$k$，判断数组中是否存在间隔不超过$k$且差不超过$t$的两个数。\n",
    "\n",
    "思路：将数组与位置打包，然后根据数字进行排序。使用起点双指针扫描并同时做值差与位置差。如果值差满足但位置差不满足，右指针右移；如果位置差满足但值差不满足，左指针向右移动。这其中还有一个注意的地方，若左右指针相遇，则右指针需要额外移动一步。"
   ]
  },
  {
   "cell_type": "code",
   "execution_count": 1,
   "metadata": {},
   "outputs": [],
   "source": [
    "def containsNearbyAlmostDuplicate(nums, k: int, t: int) -> bool:\n",
    "    pack = zip(nums, range(len(nums)))\n",
    "    pack = sorted(pack, key=lambda x: x[0])\n",
    "\n",
    "    left, right = 0, 1\n",
    "    while right < len(nums):\n",
    "        if pack[right][0]-pack[left][0] <= t:\n",
    "            if abs(pack[right][1]-pack[left][1]) <= k:\n",
    "                return True\n",
    "            else:\n",
    "                right += 1\n",
    "        else:\n",
    "            left += 1\n",
    "            if left == right:    # 判断是否需要额外移动\n",
    "                right += 1\n",
    "\n",
    "    return False"
   ]
  },
  {
   "cell_type": "code",
   "execution_count": null,
   "metadata": {},
   "outputs": [],
   "source": []
  }
 ],
 "metadata": {
  "hide_input": false,
  "kernelspec": {
   "display_name": "Python 3",
   "language": "python",
   "name": "python3"
  },
  "language_info": {
   "codemirror_mode": {
    "name": "ipython",
    "version": 3
   },
   "file_extension": ".py",
   "mimetype": "text/x-python",
   "name": "python",
   "nbconvert_exporter": "python",
   "pygments_lexer": "ipython3",
   "version": "3.6.6"
  },
  "toc": {
   "base_numbering": 1,
   "nav_menu": {},
   "number_sections": true,
   "sideBar": true,
   "skip_h1_title": false,
   "title_cell": "Table of Contents",
   "title_sidebar": "Contents",
   "toc_cell": false,
   "toc_position": {},
   "toc_section_display": true,
   "toc_window_display": false
  }
 },
 "nbformat": 4,
 "nbformat_minor": 2
}
