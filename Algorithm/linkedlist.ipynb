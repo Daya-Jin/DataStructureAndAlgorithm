{
 "cells": [
  {
   "cell_type": "code",
   "execution_count": 1,
   "metadata": {},
   "outputs": [],
   "source": [
    "class ListNode:\n",
    "    def __init__(self, x):\n",
    "        self.val = x\n",
    "        self.next = None"
   ]
  },
  {
   "cell_type": "markdown",
   "metadata": {},
   "source": [
    "给定一个单向链表，求倒数第k个节点。"
   ]
  },
  {
   "cell_type": "code",
   "execution_count": null,
   "metadata": {},
   "outputs": [],
   "source": [
    "class ListNode:\n",
    "    def __init__(self, x):\n",
    "        self.val = x\n",
    "        self.next = None\n",
    "\n",
    "\n",
    "# 双指针，其中一个指针先移动k-1步，然后双指针同时移动\n",
    "def find_kth_to_tail(headnode, k):\n",
    "    if headnode is None or k == 0:\n",
    "        return None\n",
    "    ahead = headnode\n",
    "\n",
    "    for _ in range(k - 1):\n",
    "        if ahead.next:  # 随时检查越界\n",
    "            ahead = ahead.next\n",
    "        else:\n",
    "            return None\n",
    "\n",
    "    behind = headnode\n",
    "    while ahead.next:\n",
    "        ahead = ahead.next\n",
    "        behind = behind.next\n",
    "\n",
    "    return behind"
   ]
  },
  {
   "cell_type": "markdown",
   "metadata": {},
   "source": [
    "[Linked List Cycle](https://leetcode.com/problems/linked-list-cycle/)。链表判环。"
   ]
  },
  {
   "cell_type": "code",
   "execution_count": null,
   "metadata": {},
   "outputs": [],
   "source": [
    "# 思路：快慢双指针\n",
    "\n",
    "def hasCycle(self, head):\n",
    "    if not head or not head.next:\n",
    "        return False\n",
    "    \n",
    "    slow=head\n",
    "    fast=head\n",
    "    \n",
    "    # 快指针肯定在慢指针后面，只需对快指针判空即可\n",
    "    while fast and fast.next:\n",
    "        slow=slow.next\n",
    "        fast=fast.next.next\n",
    "        if slow is fast:\n",
    "            return True\n",
    "        \n",
    "    return False"
   ]
  },
  {
   "cell_type": "markdown",
   "metadata": {},
   "source": [
    "[Linked List Cycle II](https://leetcode.com/problems/linked-list-cycle-ii/)。给定一个无重复值的单链表，输出链表中环的入口节点。无环则返回None。\n",
    "\n",
    "推导：\n",
    "设环之前的长度为a，环的长度为c，相遇点在前进方向上距环入口的距离为b。可以证明$a=b$。假设双指针相遇时，快指针已经完整绕环走了m圈，其走过的距离为$$S_{fast}=a+m{\\times}c+c-b$$\n",
    "慢指针完整绕环走了n圈，其走过的距离为$$S_{slow}=a+n{\\times}c+c-b$$\n",
    "有$S_{fast}=2S_{slow}$，得$$a=(m-2n-1)c+b$$"
   ]
  },
  {
   "cell_type": "code",
   "execution_count": null,
   "metadata": {},
   "outputs": [],
   "source": [
    "# 首先判断链表中是否有环，有环的情况下再找环的入口。\n",
    "# 设立双指针，步长分别为1和2，若有环两指针一定会相遇；\n",
    "# 特别地，相遇点与头指针离环入口的距离相等。\n",
    "\n",
    "\n",
    "def has_cricle(head_node):\n",
    "    p_slow = head_node\n",
    "    p_fast = head_node\n",
    "    while p_fast and p_fast.next:  # 当快指针指向的节点存在且存在后继节点\n",
    "        # 移动双指针\n",
    "        p_slow = p_slow.next\n",
    "        p_fast = p_fast.next.next\n",
    "\n",
    "        if p_slow == p_fast:  # 找到相遇点\n",
    "            p_fast = head_node  # 将其中一个指针指向头结点\n",
    "            while p_slow != p_fast:\n",
    "                p_slow = p_slow.next\n",
    "                p_fast = p_fast.next\n",
    "            return p_slow\n",
    "    return None"
   ]
  },
  {
   "cell_type": "markdown",
   "metadata": {},
   "source": [
    "合并两有序链表。"
   ]
  },
  {
   "cell_type": "code",
   "execution_count": null,
   "metadata": {},
   "outputs": [],
   "source": [
    "class ListNode:\n",
    "    def __init__(self, x):\n",
    "        self.val = x\n",
    "        self.next = None\n",
    "        \n",
    "# 逐个比较两链表中头结点的大小，优者链接到新链表中。\n",
    "def merge_order_lists(head_node1,head_node2):\n",
    "    idx=ListNode(None)\n",
    "    tmp=idx\n",
    "    while head_node1 and head_node2:\n",
    "        if head_node1.val<head_node2.val:\n",
    "            idx.next=head_node1\n",
    "            head_node1=head_node1.next\n",
    "        else:\n",
    "            idx.next=head_node2\n",
    "            head_node2=head_node2.next\n",
    "        idx=idx.next\n",
    "        \n",
    "    if head_node1:\n",
    "        idx.next=head_node1\n",
    "    elif head_node2:\n",
    "        idx.next=head_node2\n",
    "        \n",
    "    return tmp.next"
   ]
  },
  {
   "cell_type": "markdown",
   "metadata": {},
   "source": [
    "[Copy List with Random Pointer](https://leetcode.com/problems/copy-list-with-random-pointer/)。复杂链表的复制。假设一个简单单链表，给每个节点在增加一个随机指针，其指向链表中的随机节点。复制这个特殊链表。"
   ]
  },
  {
   "cell_type": "code",
   "execution_count": null,
   "metadata": {},
   "outputs": [],
   "source": [
    "class Node:\n",
    "    def __init__(self, val, next, random):\n",
    "        self.val = val\n",
    "        self.next = None\n",
    "        self.random = None\n",
    "\n",
    "# 思路：1pass，逐节点复制，复制节点接在原节点的后方\n",
    "# 2pass，复制原节点的随机指针\n",
    "# 3pass，删除链表中的原节点\n",
    "\n",
    "\n",
    "def copyRandomList(head: 'Node') -> 'Node':\n",
    "    if not head:\n",
    "        return None\n",
    "\n",
    "    # 1pass，逐节点复制\n",
    "    org_node = head\n",
    "    while org_node:\n",
    "        copy_node = Node(org_node.val)\n",
    "        copy_node.next = org_node.next\n",
    "        org_node.next = copy_node\n",
    "        org_node = copy_node.next\n",
    "\n",
    "    # 2pass，复制随机指针\n",
    "    org_node = head\n",
    "    while org_node:\n",
    "        copy_node = org_node.next\n",
    "        if org_node.random:\n",
    "            copy_node.random = org_node.random.next\n",
    "        org_node = copy_node.next\n",
    "\n",
    "    # 3pass，逐节点拆分\n",
    "    copy_head = head.next\n",
    "    idx_node = head\n",
    "    while idx_node.next:    # 逐节点扫描并拆分\n",
    "        next_node = idx_node.next\n",
    "        idx_node.next = next_node.next    # 生成间隔链接\n",
    "        idx_node = next_node\n",
    "\n",
    "    return copy_head"
   ]
  },
  {
   "cell_type": "markdown",
   "metadata": {},
   "source": [
    "Intersection of Two Linked Lists. 寻找两单向链表的公共节点，若无则返回空。"
   ]
  },
  {
   "cell_type": "code",
   "execution_count": null,
   "metadata": {},
   "outputs": [],
   "source": [
    "# 思路：双指针AB分别指向链表头结点，逐节点比较\n",
    "# 指针A扫描完后转到另一链表的头结点，指针B同理\n",
    "# 如果两链表相交一定会被扫描到，没有则返回None\n",
    "\n",
    "def getIntersectionNode(headA, headB):\n",
    "    A,B=headA,headB\n",
    "    \n",
    "    while A is not B:\n",
    "        A=A.next if A else headB\n",
    "        B=B.next if B else headA\n",
    "                \n",
    "    # 如果AB指向相同，则随便返回一个\n",
    "    return A"
   ]
  },
  {
   "cell_type": "markdown",
   "metadata": {},
   "source": [
    "Josephus问题。\n",
    "使用链表为常规解法，不难，略过。写下数学方法。\n",
    "\n",
    "用带下标的数组来表示循环链表，数组首元素表示工作指针的当前位置，那么初始状态为：\n",
    "$$sta(n,m)=[0,1,2,...,n-1]$$\n",
    "通过报数删除一个元素之后，最终状态会变成：\n",
    "$$sta(n-1,m)=[0,1,2,...,n-2]$$\n",
    "通过一系列删除之后，最后的循环链表状态会变成：\n",
    "$$sta(1,m)=[0]$$\n",
    "逆向思考一下，有没有办法能够找出$sta(1,m)$中唯一元素在$sta(n,m)$中对应的位置呢？将两个状态之间的中间状态写出来，以找到一个映射规则。\n",
    "\n",
    "令\n",
    "$$k=(m-1)\\%n$$\n",
    "，即每轮剔除元素的下标，那么第一轮剔除第m个元素之后可以写成：\n",
    "$$sta'(n,m)=[0,1,2,...,k-1,k+1,...,n-1]$$\n",
    "此时工作指针置于$k+1$的位置，即$sta(n-1,m)$可以写成：\n",
    "$$sta(n-1,m)=[n-k-1,n-k,n-k+1,...,n-2,0,...,n-k-2]$$\n",
    "不难得出，$sta(n,m)$中下标为$x$的元素在$sta(n-1,m)$中的下标变成了$[x-(k+1)]\\%n$，则正向映射关系为：\n",
    "$$f(x)=(x-k-1)\\%n$$\n",
    "同理不难得出$sta(n-1)$到$sta(n,m)$下标变换的逆映射：\n",
    "$$f^{-1}(x)=(x+k+1)\\%n$$\n",
    "将$k$的值代入，我们得到$sta(n-1,m)$中下标为$x$的元素在$sta(n,m)$中的下标为：\n",
    "$$[x+(m-1)\\%n+1]\\%n=(x+m\\%n)\\%n=(x+m)\\%n$$\n",
    "那么问题就转化成找到$sta(1,m)$中$[0]$下标的元素在$sta(n,m)$中对应的下标。"
   ]
  },
  {
   "cell_type": "code",
   "execution_count": 8,
   "metadata": {},
   "outputs": [
    {
     "data": {
      "text/plain": [
       "4"
      ]
     },
     "execution_count": 8,
     "metadata": {},
     "output_type": "execute_result"
    }
   ],
   "source": [
    "# 思路：设res(n,m)为在n个数中剔除第m个数后的结果，易得\n",
    "# res(n,m)=[0,1,2,...,m-2,m,...,n-1]，令k=(m-1)%n，得\n",
    "# res(n,m)=[0,1,2,...,k-1,k+1,...,n-1]\n",
    "# 下一轮开始时，下标为k+1的数是起点，需要映射成下标0\n",
    "# 通过映射f(x)=(x-(k+1))%n，有\n",
    "# f(res(n,m))=[n-k-1,n-k,n-k+1,...,n-2,0,...,n-k-2]\n",
    "\n",
    "def Josephus(n,m):\n",
    "    if n<1 or m<1:\n",
    "        return -1\n",
    "    \n",
    "    x=0\n",
    "    for i in range(2,n+1):    # i依次增大\n",
    "        x=(x+m)%i\n",
    "        \n",
    "    return x"
   ]
  },
  {
   "cell_type": "markdown",
   "metadata": {},
   "source": [
    "[Odd Even Linked List](https://leetcode.com/problems/odd-even-linked-list/)。给定一链表，将链表中的奇位节点全部放到偶位节点前面。"
   ]
  },
  {
   "cell_type": "code",
   "execution_count": null,
   "metadata": {},
   "outputs": [],
   "source": [
    "# 思路：三指针，奇指针隔位跳，偶指针隔位跳，还需维护一个偶位节点的首指针\n",
    "\n",
    "\n",
    "def oddEvenList(head):\n",
    "    if not head or not head.next:\n",
    "        return head\n",
    "\n",
    "    odd_ptr = head\n",
    "    even_ptr = head.next\n",
    "    even_head_ptr = head.next\n",
    "\n",
    "    while even_ptr and even_ptr.next:    # 偶指针总是在奇指针后面\n",
    "        # 指针跳位\n",
    "        odd_ptr.next = odd_ptr.next.next\n",
    "        even_ptr.next = even_ptr.next.next\n",
    "\n",
    "        # 指针后移\n",
    "        odd_ptr = odd_ptr.next\n",
    "        even_ptr = even_ptr.next\n",
    "\n",
    "    odd_ptr.next = even_head_ptr\n",
    "\n",
    "    return head"
   ]
  },
  {
   "cell_type": "markdown",
   "metadata": {},
   "source": [
    "[Add Two Numbers](https://leetcode.com/problems/add-two-numbers/)。两等长链表，表示的是一个数字的倒序表示，求和该两链表。"
   ]
  },
  {
   "cell_type": "code",
   "execution_count": 4,
   "metadata": {},
   "outputs": [
    {
     "data": {
      "text/plain": [
       "<__main__.ListNode at 0x200318a7550>"
      ]
     },
     "execution_count": 4,
     "metadata": {},
     "output_type": "execute_result"
    }
   ],
   "source": [
    "# 思路：逐节点相加，进位加到下一个节点即可\n",
    "\n",
    "\n",
    "def addTwoNumbers(l1, l2):\n",
    "    head = cur_node = ListNode(0)\n",
    "    carry = 0\n",
    "\n",
    "    while l1 or l2 or carry:\n",
    "        if l1:\n",
    "            carry += l1.val\n",
    "            l1 = l1.next\n",
    "        if l2:\n",
    "            carry += l2.val\n",
    "            l2 = l2.next\n",
    "\n",
    "        cur_node.next = ListNode(carry % 10)\n",
    "        cur_node = cur_node.next\n",
    "        carry //= 10\n",
    "\n",
    "    return head.next"
   ]
  },
  {
   "cell_type": "markdown",
   "metadata": {},
   "source": [
    "[Remove Nth Node From End of List](https://leetcode.com/problems/remove-nth-node-from-end-of-list/)。删除单向链表倒数第$n$个节点。"
   ]
  },
  {
   "cell_type": "code",
   "execution_count": 7,
   "metadata": {},
   "outputs": [
    {
     "name": "stdout",
     "output_type": "stream",
     "text": [
      "1\n",
      "2\n",
      "3\n",
      "5\n"
     ]
    }
   ],
   "source": [
    "# 思路：双指针，一个指针先走n+1步，然后两指针同时走\n",
    "# 当先走的指针走到尾时，前面的指针恰好停在倒数第n个节点的前面\n",
    "\n",
    "\n",
    "def removeNthFromEnd(head: ListNode, n: int) -> ListNode:\n",
    "    dummy = ListNode(-1)    # 增加一个头结点\n",
    "    dummy.next = head\n",
    "\n",
    "    fast = dummy\n",
    "    slow = dummy\n",
    "\n",
    "    for _ in range(n+1):\n",
    "        fast = fast.next\n",
    "\n",
    "    while fast:\n",
    "        fast = fast.next\n",
    "        slow = slow.next\n",
    "\n",
    "    slow.next = slow.next.next\n",
    "\n",
    "    return dummy.next"
   ]
  },
  {
   "cell_type": "code",
   "execution_count": null,
   "metadata": {},
   "outputs": [],
   "source": []
  }
 ],
 "metadata": {
  "hide_input": false,
  "kernelspec": {
   "display_name": "Python 3",
   "language": "python",
   "name": "python3"
  },
  "language_info": {
   "codemirror_mode": {
    "name": "ipython",
    "version": 3
   },
   "file_extension": ".py",
   "mimetype": "text/x-python",
   "name": "python",
   "nbconvert_exporter": "python",
   "pygments_lexer": "ipython3",
   "version": "3.7.4"
  },
  "toc": {
   "base_numbering": 1,
   "nav_menu": {},
   "number_sections": true,
   "sideBar": true,
   "skip_h1_title": false,
   "title_cell": "Table of Contents",
   "title_sidebar": "Contents",
   "toc_cell": false,
   "toc_position": {},
   "toc_section_display": true,
   "toc_window_display": false
  }
 },
 "nbformat": 4,
 "nbformat_minor": 2
}
