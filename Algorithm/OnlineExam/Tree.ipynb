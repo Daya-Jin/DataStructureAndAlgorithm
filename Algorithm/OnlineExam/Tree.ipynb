{
 "cells": [
  {
   "cell_type": "markdown",
   "metadata": {},
   "source": [
    "[Binary Tree Tilt](https://leetcode.com/problems/binary-tree-tilt/)。定义倾斜程度，节点的倾斜程度等于左子树节点和与右子树节点和的绝对差，而整棵树的倾斜程度等于所有节点倾斜度的和。求一棵树的倾斜程度。\n",
    "\n",
    "思路：因为求倾斜程度牵涉到节点的累计和，所以在设计递归函数时返回一个累加和。"
   ]
  },
  {
   "cell_type": "code",
   "execution_count": null,
   "metadata": {},
   "outputs": [],
   "source": [
    "def findTilt(root: TreeNode) -> int:\n",
    "    res = 0\n",
    "\n",
    "    def rec(root):    # 返回累加和的递归函数\n",
    "        if not root:\n",
    "            return 0\n",
    "\n",
    "        nonlocal res\n",
    "        left_sum = rec(root.left)\n",
    "        right_sum = rec(root.right)\n",
    "        res += abs(left_sum-right_sum)\n",
    "\n",
    "        return left_sum+right_sum+root.val\n",
    "\n",
    "    rec(root)\n",
    "    return res"
   ]
  },
  {
   "cell_type": "markdown",
   "metadata": {},
   "source": [
    "京东2019实习笔试题：\n",
    "\n",
    "体育场突然着火了，现场需要紧急疏散，但是过道真的是太窄了，同时只能容许一个人通过。现在知道了体育场的所有座位分布，座位分布图是一棵树，已知每个座位上都坐了一个人，安全出口在树的根部，也就是1号结点的位置上。其他节点上的人每秒都能向树根部前进一个结点，但是除了安全出口以外，没有任何一个结点可以同时容纳两个及以上的人，这就需要一种策略，来使得人群尽快疏散，问在采取最优策略的情况下，体育场最快可以在多长时间内疏散完成。\n",
    "\n",
    "示例数据：\n",
    "\n",
    "6\n",
    "\n",
    "2 1\n",
    "\n",
    "3 2\n",
    "\n",
    "4 3\n",
    "\n",
    "5 2\n",
    "\n",
    "6 1\n",
    "\n",
    "思路：在第二层以下的所有节点，每次均只能移动一个节点，所以散场的时间由第二层以下的节点数决定。找到所有分支中节点数最大的那一支，返回其节点数即可"
   ]
  },
  {
   "cell_type": "code",
   "execution_count": null,
   "metadata": {},
   "outputs": [],
   "source": [
    "n = int(input())\n",
    "branches = list()\n",
    "\n",
    "for _ in range(n-1):\n",
    "    a, b = map(int, input().split())\n",
    "    if b == 1:    # 新分支\n",
    "        branches.append(set([a]))\n",
    "    for branch in branches:\n",
    "        if b in branch:\n",
    "            branch.add(a)\n",
    "\n",
    "print(branches)\n",
    "print(max(map(len, branches)))"
   ]
  },
  {
   "cell_type": "markdown",
   "metadata": {},
   "source": [
    "[Leaf-Similar Trees](https://leetcode.com/problems/leaf-similar-trees/)。一颗二叉树，从左往右扫描经过的所有叶节点构成的序列为叶节点序列。给两颗二叉树，判断两棵树的叶节点序列是否相同。\n",
    "\n",
    "思路：易得叶节点序列可以通过中序遍历得到。"
   ]
  },
  {
   "cell_type": "code",
   "execution_count": null,
   "metadata": {},
   "outputs": [],
   "source": [
    "def leafSimilar(root1: TreeNode, root2: TreeNode) -> bool:\n",
    "    def get_leaf_seq(root):\n",
    "        res=list()\n",
    "        if not root:\n",
    "            return res\n",
    "        \n",
    "        s=list()\n",
    "        while root or s:\n",
    "            while root:\n",
    "                s.append(root)\n",
    "                root=root.left\n",
    "                \n",
    "            vis_node=s.pop()\n",
    "            if not vis_node.left and not vis_node.right:\n",
    "                res.append(vis_node.val)\n",
    "            if vis_node.right:\n",
    "                root=vis_node.right\n",
    "                \n",
    "        return res\n",
    "    \n",
    "    seq_1,seq_2=get_leaf_seq(root1),get_leaf_seq(root2)\n",
    "    if len(seq_1)!=len(seq_2):\n",
    "        return False\n",
    "    for val_1,val_2 in zip(seq_1,seq_2):\n",
    "        if val_1!=val_2:\n",
    "            return False\n",
    "        \n",
    "    return True"
   ]
  },
  {
   "cell_type": "markdown",
   "metadata": {},
   "source": [
    "[Increasing Order Search Tree](https://leetcode.com/problems/increasing-order-search-tree/)。给一颗BST，将其转化成只有右分支的单边树。\n",
    "\n",
    "思路：只有右分支的BST，那么根节点是最小节点，一直往右一直增。BST的递增序列是通过中序遍历得到，新建一棵树即可。"
   ]
  },
  {
   "cell_type": "code",
   "execution_count": null,
   "metadata": {},
   "outputs": [],
   "source": [
    "def increasingBST(root: TreeNode) -> TreeNode:\n",
    "    res = None\n",
    "\n",
    "    s = list()\n",
    "    while s or root:\n",
    "        while root:\n",
    "            s.append(root)\n",
    "            root = root.left\n",
    "\n",
    "        vis_node = s.pop()\n",
    "        if res is None:    # 第一个节点特殊处理\n",
    "            res = TreeNode(vis_node.val)\n",
    "            ptr = res\n",
    "        else:\n",
    "            ptr.right = TreeNode(vis_node.val)\n",
    "            ptr = ptr.right\n",
    "\n",
    "        if vis_node.right:\n",
    "            root = vis_node.right\n",
    "\n",
    "    return res"
   ]
  }
 ],
 "metadata": {
  "hide_input": false,
  "kernelspec": {
   "display_name": "Python 3",
   "language": "python",
   "name": "python3"
  },
  "language_info": {
   "codemirror_mode": {
    "name": "ipython",
    "version": 3
   },
   "file_extension": ".py",
   "mimetype": "text/x-python",
   "name": "python",
   "nbconvert_exporter": "python",
   "pygments_lexer": "ipython3",
   "version": "3.7.4"
  },
  "toc": {
   "base_numbering": 1,
   "nav_menu": {},
   "number_sections": true,
   "sideBar": true,
   "skip_h1_title": false,
   "title_cell": "Table of Contents",
   "title_sidebar": "Contents",
   "toc_cell": false,
   "toc_position": {},
   "toc_section_display": true,
   "toc_window_display": false
  }
 },
 "nbformat": 4,
 "nbformat_minor": 2
}
