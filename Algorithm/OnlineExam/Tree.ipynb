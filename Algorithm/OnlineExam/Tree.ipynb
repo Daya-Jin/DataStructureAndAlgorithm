{
 "cells": [
  {
   "cell_type": "markdown",
   "metadata": {},
   "source": [
    "[Binary Tree Tilt](https://leetcode.com/problems/binary-tree-tilt/)。定义倾斜程度，节点的倾斜程度等于左子树节点和与右子树节点和的绝对差，而整棵树的倾斜程度等于所有节点倾斜度的和。求一棵树的倾斜程度。\n",
    "\n",
    "思路：因为求倾斜程度牵涉到节点的累计和，所以在设计递归函数时返回一个累加和。"
   ]
  },
  {
   "cell_type": "code",
   "execution_count": null,
   "metadata": {},
   "outputs": [],
   "source": [
    "def findTilt(root: TreeNode) -> int:\n",
    "    res = 0\n",
    "\n",
    "    def rec(root):    # 返回累加和的递归函数\n",
    "        if not root:\n",
    "            return 0\n",
    "\n",
    "        nonlocal res\n",
    "        left_sum = rec(root.left)\n",
    "        right_sum = rec(root.right)\n",
    "        res += abs(left_sum-right_sum)\n",
    "\n",
    "        return left_sum+right_sum+root.val\n",
    "\n",
    "    rec(root)\n",
    "    return res"
   ]
  }
 ],
 "metadata": {
  "hide_input": false,
  "kernelspec": {
   "display_name": "Python 3",
   "language": "python",
   "name": "python3"
  },
  "language_info": {
   "codemirror_mode": {
    "name": "ipython",
    "version": 3
   },
   "file_extension": ".py",
   "mimetype": "text/x-python",
   "name": "python",
   "nbconvert_exporter": "python",
   "pygments_lexer": "ipython3",
   "version": "3.7.4"
  },
  "toc": {
   "base_numbering": 1,
   "nav_menu": {},
   "number_sections": true,
   "sideBar": true,
   "skip_h1_title": false,
   "title_cell": "Table of Contents",
   "title_sidebar": "Contents",
   "toc_cell": false,
   "toc_position": {},
   "toc_section_display": true,
   "toc_window_display": false
  }
 },
 "nbformat": 4,
 "nbformat_minor": 2
}
