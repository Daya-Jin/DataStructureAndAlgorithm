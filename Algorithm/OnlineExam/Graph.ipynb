{
 "cells": [
  {
   "cell_type": "markdown",
   "metadata": {},
   "source": [
    "拼多多2019笔试题。给若干任务，每个任务有完成时间与依赖。现限制单线程工作，求一个使得平均响应时间最小的完成方案。\n",
    "\n",
    "思路：拓扑排序的变种。"
   ]
  },
  {
   "cell_type": "code",
   "execution_count": null,
   "metadata": {},
   "outputs": [],
   "source": [
    "import sys\n",
    "\n",
    "n, m = map(int, sys.stdin.readline().strip().split())\n",
    "d_arr = [0] * n  # 入度数组\n",
    "adj_table = {job_idx: list() for job_idx in range(n)}\n",
    "ts = list(map(int, sys.stdin.readline().strip().split()))\n",
    "for _ in range(m):\n",
    "    # from, to\n",
    "    f, t = map(int, sys.stdin.readline().strip().split())\n",
    "    if f - 1 not in adj_table:\n",
    "        adj_table[f - 1] = list()\n",
    "    adj_table[f - 1].append(t - 1)\n",
    "    d_arr[t - 1] += 1\n",
    "\n",
    "\n",
    "def func(n, d_arr, ts, adj_table):\n",
    "    q = list()\n",
    "    t = 0\n",
    "    res = list()\n",
    "\n",
    "    # 找到第一个入度为0且所需时间最少的任务\n",
    "    cur_min = 0x7FFFFFFF\n",
    "    cur_job = -1\n",
    "    for job_idx, d_in in enumerate(d_arr):\n",
    "        if d_in == 0 and ts[job_idx] < cur_min:\n",
    "            cur_job, cur_min = job_idx, ts[job_idx]\n",
    "    q.append(cur_job)\n",
    "\n",
    "    # 完成n个任务\n",
    "    for epoch in range(n):\n",
    "        cur_job = q.pop(0)\n",
    "        d_arr[cur_job] -= 1\n",
    "        res.append(cur_job+1)\n",
    "\n",
    "        if epoch < n:\n",
    "            for post_job in adj_table[cur_job]:\n",
    "                d_arr[post_job] -= 1\n",
    "\n",
    "            bak_job = -1\n",
    "            cur_min = 0x7FFFFFFF\n",
    "            for job_idx, d_in in enumerate(d_arr):\n",
    "                if d_in == 0 and ts[job_idx] < cur_min:\n",
    "                    bak_job, cur_min = job_idx, ts[job_idx]\n",
    "            q.append(bak_job)\n",
    "\n",
    "    return res\n",
    "\n",
    "\n",
    "print(' '.join(map(str, func(n, d_arr, ts, adj_table))))"
   ]
  },
  {
   "cell_type": "markdown",
   "metadata": {},
   "source": [
    "[Network Delay Time](https://leetcode.com/problems/network-delay-time/)。给一个有$N$个节点的有向图，再给出一若干节点之间的有向距离```times```。现从节点$K$发出一条消息，问经过多少时间后网络中的所有节点均已收到消息。索引从$1$开始。\n",
    "\n",
    "思路：BFS。首先维护一个长度$N$的数组来表示各节点收到消息的时间，用大值初始化，其中```arr[K]=0```。然后开始BFS，所有节点只保留收到消息的最小时间。难点在于如何避免重复访问，该题数据是有环的。设置访问数组是错误的，会漏边；正确的做法是**只将那些更新过时间的邻居节点加入队列**。"
   ]
  },
  {
   "cell_type": "code",
   "execution_count": 2,
   "metadata": {},
   "outputs": [
    {
     "data": {
      "text/plain": [
       "2"
      ]
     },
     "execution_count": 2,
     "metadata": {},
     "output_type": "execute_result"
    }
   ],
   "source": [
    "def networkDelayTime(times, N: int, K: int) -> int:\n",
    "    adj_table = {idx: list() for idx in range(1, N+1)}\n",
    "    for f, t, time in times:\n",
    "        adj_table[f].append((t, time))\n",
    "\n",
    "    res = [0x7FFFFFFF]*(N+1)\n",
    "    res[K] = 0\n",
    "    q = [(K, 0)]    # (node_idx,cur_time)\n",
    "\n",
    "    while q:\n",
    "        vis_node, cur_time = q.pop(0)\n",
    "\n",
    "        for t, time in adj_table[vis_node]:\n",
    "            if cur_time+time < res[t]:    # 只有当时间更新了才加入队列，这是避免重复访问的关键\n",
    "                res[t] = cur_time+time\n",
    "                q.append((t, cur_time+time))\n",
    "\n",
    "    return max(res[1:]) if max(res[1:]) < 0x7FFFFFFF else -1"
   ]
  },
  {
   "cell_type": "code",
   "execution_count": null,
   "metadata": {},
   "outputs": [],
   "source": []
  }
 ],
 "metadata": {
  "hide_input": false,
  "kernelspec": {
   "display_name": "Python 3",
   "language": "python",
   "name": "python3"
  },
  "language_info": {
   "codemirror_mode": {
    "name": "ipython",
    "version": 3
   },
   "file_extension": ".py",
   "mimetype": "text/x-python",
   "name": "python",
   "nbconvert_exporter": "python",
   "pygments_lexer": "ipython3",
   "version": "3.7.4"
  },
  "toc": {
   "base_numbering": 1,
   "nav_menu": {},
   "number_sections": true,
   "sideBar": true,
   "skip_h1_title": false,
   "title_cell": "Table of Contents",
   "title_sidebar": "Contents",
   "toc_cell": false,
   "toc_position": {},
   "toc_section_display": true,
   "toc_window_display": false
  }
 },
 "nbformat": 4,
 "nbformat_minor": 2
}
