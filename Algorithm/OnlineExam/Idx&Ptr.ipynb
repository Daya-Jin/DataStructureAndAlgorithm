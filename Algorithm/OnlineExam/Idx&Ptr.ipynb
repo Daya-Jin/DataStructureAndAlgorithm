{
 "cells": [
  {
   "cell_type": "markdown",
   "metadata": {},
   "source": [
    "[Fruit Into Baskets](https://leetcode.com/problems/fruit-into-baskets/)。给一数组表示一片小树林，数组中的数字表示树上结的果子。只能摘取种植区域相邻的两种果子，而且只能从左往右走，问最多能摘取多少个果子。\n",
    "\n",
    "思路：使用双指针来指示当前摘果子的区域，并使用字典来表示当前篮子中的情况。每次移动后更新篮子情况，然后判断篮子中的果子种类是不是大于$2$，若是则需要移动左指针同时丢掉果子。"
   ]
  },
  {
   "cell_type": "code",
   "execution_count": null,
   "metadata": {},
   "outputs": [],
   "source": [
    "def totalFruit(tree) -> int:\n",
    "    n = len(tree)\n",
    "\n",
    "    res = left = right = 0\n",
    "    basket = dict()    # 字典记录篮子情况\n",
    "\n",
    "    while right < n:\n",
    "        basket.setdefault(tree[right], 0)\n",
    "        basket[tree[right]] += 1     # 摘果子\n",
    "\n",
    "        while len(basket) > 2:\n",
    "            basket[tree[left]] -= 1\n",
    "            if basket[tree[left]] == 0:\n",
    "                del basket[tree[left]]\n",
    "            left += 1\n",
    "\n",
    "        res = max(res, right-left+1)\n",
    "        right += 1\n",
    "\n",
    "    return res"
   ]
  },
  {
   "cell_type": "markdown",
   "metadata": {},
   "source": [
    "[Array Nesting](https://leetcode.com/problems/array-nesting/)。给一非重复数组，每一个数字都表示下一位置的索引，找出最长非重复连续访问序列的长度。\n",
    "\n",
    "思路：令某一连续访问序列的起始值为```start```，若某一时刻访问的下一位置的值等于```start```，则说明产生了环，需要停止。以每一个位置为起点，连续访问，随时维护一个最大长度即可。但是直接用该方法会超时，下面的优化才是难点：因为**数组中没有重复值**，所以若存在多条路径，则**路径之间是独立**的。访问一条路径时，将路径上所有点全部做标记，时间复杂度由$O(n^{2})$降为$O(n)$。"
   ]
  },
  {
   "cell_type": "code",
   "execution_count": 5,
   "metadata": {},
   "outputs": [
    {
     "data": {
      "text/plain": [
       "4"
      ]
     },
     "execution_count": 5,
     "metadata": {},
     "output_type": "execute_result"
    }
   ],
   "source": [
    "def arrayNesting(nums) -> int:\n",
    "    res = 0\n",
    "\n",
    "    for idx in range(len(nums)):\n",
    "        if nums[idx] != -1:\n",
    "            cur_res = [idx]\n",
    "            while nums[idx] != cur_res[0]:\n",
    "                cur_res.append(nums[idx])\n",
    "                next_idx = nums[idx]\n",
    "                nums[idx] = -1\n",
    "                idx = next_idx\n",
    "\n",
    "            nums[idx] = -1\n",
    "            res = max(res, len(cur_res))\n",
    "\n",
    "    return res"
   ]
  },
  {
   "cell_type": "markdown",
   "metadata": {},
   "source": [
    "[Valid Triangle Number](https://leetcode.com/problems/valid-triangle-number/)。给一正整数数组，每一个数字代表一条边的边长，求这些边能构成多少个三角形。不同元素(即使长度相同)视为不同边。\n",
    "\n",
    "思路：构成三角形的充要条件，任意两边之和大于第三边。将数组排序，由大往小固定住最长的一条边$c$，然后在前面使用首尾双指针寻找两条边$a$和$b$。只要$a+b>c$就说明$a\\in{[a,b-1]}$的边都符合条件。"
   ]
  },
  {
   "cell_type": "code",
   "execution_count": 6,
   "metadata": {},
   "outputs": [
    {
     "data": {
      "text/plain": [
       "3"
      ]
     },
     "execution_count": 6,
     "metadata": {},
     "output_type": "execute_result"
    }
   ],
   "source": [
    "def triangleNumber(nums) -> int:\n",
    "    n = len(nums)\n",
    "    nums.sort()\n",
    "    res = 0\n",
    "\n",
    "    for c in range(n-1, 1, -1):\n",
    "        a, b = 0, c-1\n",
    "        while a < b:\n",
    "            if nums[a]+nums[b] > nums[c]:\n",
    "                res += b-a\n",
    "                b -= 1\n",
    "            else:\n",
    "                a += 1\n",
    "\n",
    "    return res"
   ]
  },
  {
   "cell_type": "code",
   "execution_count": null,
   "metadata": {},
   "outputs": [],
   "source": []
  }
 ],
 "metadata": {
  "hide_input": false,
  "kernelspec": {
   "display_name": "Python 3",
   "language": "python",
   "name": "python3"
  },
  "language_info": {
   "codemirror_mode": {
    "name": "ipython",
    "version": 3
   },
   "file_extension": ".py",
   "mimetype": "text/x-python",
   "name": "python",
   "nbconvert_exporter": "python",
   "pygments_lexer": "ipython3",
   "version": "3.7.4"
  },
  "toc": {
   "base_numbering": 1,
   "nav_menu": {},
   "number_sections": true,
   "sideBar": true,
   "skip_h1_title": false,
   "title_cell": "Table of Contents",
   "title_sidebar": "Contents",
   "toc_cell": false,
   "toc_position": {},
   "toc_section_display": true,
   "toc_window_display": false
  }
 },
 "nbformat": 4,
 "nbformat_minor": 2
}
