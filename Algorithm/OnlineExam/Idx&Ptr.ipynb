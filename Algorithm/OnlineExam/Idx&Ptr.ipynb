{
 "cells": [
  {
   "cell_type": "markdown",
   "metadata": {},
   "source": [
    "## Pointer"
   ]
  },
  {
   "cell_type": "markdown",
   "metadata": {},
   "source": [
    "[Fruit Into Baskets](https://leetcode.com/problems/fruit-into-baskets/)。给一数组表示一片小树林，数组中的数字表示树上结的果子。只能摘取种植区域相邻的两种果子，而且只能从左往右走，问最多能摘取多少个果子。\n",
    "\n",
    "思路：使用双指针来指示当前摘果子的区域，并使用字典来表示当前篮子中的情况。每次移动后更新篮子情况，然后判断篮子中的果子种类是不是大于$2$，若是则需要移动左指针同时丢掉果子。"
   ]
  },
  {
   "cell_type": "code",
   "execution_count": null,
   "metadata": {},
   "outputs": [],
   "source": [
    "def totalFruit(tree) -> int:\n",
    "    n = len(tree)\n",
    "\n",
    "    res = left = right = 0\n",
    "    basket = dict()    # 字典记录篮子情况\n",
    "\n",
    "    while right < n:\n",
    "        basket.setdefault(tree[right], 0)\n",
    "        basket[tree[right]] += 1     # 摘果子\n",
    "\n",
    "        while len(basket) > 2:\n",
    "            basket[tree[left]] -= 1\n",
    "            if basket[tree[left]] == 0:\n",
    "                del basket[tree[left]]\n",
    "            left += 1\n",
    "\n",
    "        res = max(res, right-left+1)\n",
    "        right += 1\n",
    "\n",
    "    return res"
   ]
  },
  {
   "cell_type": "markdown",
   "metadata": {},
   "source": [
    "[Valid Triangle Number](https://leetcode.com/problems/valid-triangle-number/)。给一正整数数组，每一个数字代表一条边的边长，求这些边能构成多少个三角形。不同元素(即使长度相同)视为不同边。\n",
    "\n",
    "思路：构成三角形的充要条件，任意两边之和大于第三边。将数组排序，由大往小固定住最长的一条边$c$，然后在前面使用首尾双指针寻找两条边$a$和$b$。只要$a+b>c$就说明$a\\in{[a,b-1]}$的边都符合条件。"
   ]
  },
  {
   "cell_type": "code",
   "execution_count": 6,
   "metadata": {},
   "outputs": [
    {
     "data": {
      "text/plain": [
       "3"
      ]
     },
     "execution_count": 6,
     "metadata": {},
     "output_type": "execute_result"
    }
   ],
   "source": [
    "def triangleNumber(nums) -> int:\n",
    "    n = len(nums)\n",
    "    nums.sort()\n",
    "    res = 0\n",
    "\n",
    "    for c in range(n-1, 1, -1):\n",
    "        a, b = 0, c-1\n",
    "        while a < b:\n",
    "            if nums[a]+nums[b] > nums[c]:\n",
    "                res += b-a\n",
    "                b -= 1\n",
    "            else:\n",
    "                a += 1\n",
    "\n",
    "    return res"
   ]
  },
  {
   "cell_type": "markdown",
   "metadata": {},
   "source": [
    "[Subarray Product Less Than K](https://leetcode.com/problems/subarray-product-less-than-k/)。**2019作业帮手撕代码题**。给一正整数数组，求有多少个连续子数组的累乘积小于$k$。\n",
    "\n",
    "思路：暴力思路超时。使用滑动窗口优化，左指针$i$初始化为$0$，右指针$j$线性扫描数组，每次循环都计算出以$j$结尾且包含```nums[j]```的子数组数量。"
   ]
  },
  {
   "cell_type": "code",
   "execution_count": 10,
   "metadata": {},
   "outputs": [
    {
     "data": {
      "text/plain": [
       "8"
      ]
     },
     "execution_count": 10,
     "metadata": {},
     "output_type": "execute_result"
    }
   ],
   "source": [
    "def numSubarrayProductLessThanK(nums, k: int) -> int:\n",
    "    res = 0\n",
    "    if k <= 1:\n",
    "        return res\n",
    "\n",
    "    n = len(nums)\n",
    "    left = 0\n",
    "    cur_prod = 1\n",
    "\n",
    "    for right in range(n):\n",
    "        cur_prod *= nums[right]\n",
    "        while cur_prod >= k:\n",
    "            cur_prod /= nums[left]\n",
    "            left += 1\n",
    "        res += right-left+1    # 以j结尾且包含j的子数组数量等于窗口大小\n",
    "\n",
    "    return res"
   ]
  },
  {
   "cell_type": "markdown",
   "metadata": {},
   "source": [
    "[Count and Say](https://leetcode.com/problems/count-and-say/)。假定初始数字为$1$，其读法为$1$个$1$，写成$11$；$11$读作$2$个$1$，写成$21$；...。求第$n$个数字。\n",
    "\n",
    "思路：初始结果为'1'，然后迭代$n-1$次。每轮迭代中需要对当前结果的所有数字计数。"
   ]
  },
  {
   "cell_type": "code",
   "execution_count": 7,
   "metadata": {},
   "outputs": [
    {
     "data": {
      "text/plain": [
       "'21'"
      ]
     },
     "execution_count": 7,
     "metadata": {},
     "output_type": "execute_result"
    }
   ],
   "source": [
    "def countAndSay(n: int) -> str:\n",
    "    res = '1'\n",
    "\n",
    "    for _ in range(n-1):\n",
    "        tmp = list()\n",
    "        num, cnt = res[0], 1\n",
    "        for i in range(1, len(res)):\n",
    "            if res[i] == num:\n",
    "                cnt += 1\n",
    "            else:\n",
    "                tmp.append(str(cnt))\n",
    "                tmp.append(num)\n",
    "                num = res[i]\n",
    "                cnt = 1\n",
    "        tmp.append(str(cnt))\n",
    "        tmp.append(num)\n",
    "        res = tmp\n",
    "\n",
    "    return ''.join(res)"
   ]
  },
  {
   "cell_type": "markdown",
   "metadata": {},
   "source": [
    "[Sort Colors](https://leetcode.com/problems/sort-colors/)。\n",
    "\n",
    "思路："
   ]
  },
  {
   "cell_type": "code",
   "execution_count": null,
   "metadata": {},
   "outputs": [],
   "source": [
    "def sortColors(nums) -> None:\n",
    "    "
   ]
  },
  {
   "cell_type": "markdown",
   "metadata": {},
   "source": [
    "## Index"
   ]
  },
  {
   "cell_type": "markdown",
   "metadata": {},
   "source": [
    "[Array Nesting](https://leetcode.com/problems/array-nesting/)。给一非重复数组，每一个数字都表示下一位置的索引，找出最长非重复连续访问序列的长度。\n",
    "\n",
    "思路：令某一连续访问序列的起始值为```start```，若某一时刻访问的下一位置的值等于```start```，则说明产生了环，需要停止。以每一个位置为起点，连续访问，随时维护一个最大长度即可。但是直接用该方法会超时，下面的优化才是难点：因为**数组中没有重复值**，所以若存在多条路径，则**路径之间是独立**的。访问一条路径时，将路径上所有点全部做标记，时间复杂度由$O(n^{2})$降为$O(n)$。"
   ]
  },
  {
   "cell_type": "code",
   "execution_count": null,
   "metadata": {},
   "outputs": [],
   "source": [
    "def arrayNesting(nums) -> int:\n",
    "    res = 0\n",
    "\n",
    "    for idx in range(len(nums)):\n",
    "        if nums[idx] != -1:\n",
    "            cur_res = [idx]\n",
    "            while nums[idx] != cur_res[0]:\n",
    "                cur_res.append(nums[idx])\n",
    "                next_idx = nums[idx]\n",
    "                nums[idx] = -1\n",
    "                idx = next_idx\n",
    "\n",
    "            nums[idx] = -1\n",
    "            res = max(res, len(cur_res))\n",
    "\n",
    "    return res"
   ]
  },
  {
   "cell_type": "markdown",
   "metadata": {},
   "source": [
    "[Max Chunks To Make Sorted](https://leetcode.com/problems/max-chunks-to-make-sorted/)。给一无序自然数数组，将其分成若干块，允许对块内元素排序，但不能更改块间顺序。问最多能将该数组分成几块。\n",
    "\n",
    "思路：该题思路比较难。由于不允许调整块间顺序，所以每一块所包含的元素必须是该区间对应的值，如区间$[i,j]$中只能包含$[i,j]$的值。因为要求尽量多的切分，易得若$nums[i]=i$时，该位置就可单独成块。若索引与值不对应，则需要记录某段区间的最大值，直到扫描到最大值对应的索引位置，然后才可成块。"
   ]
  },
  {
   "cell_type": "code",
   "execution_count": 15,
   "metadata": {},
   "outputs": [
    {
     "data": {
      "text/plain": [
       "4"
      ]
     },
     "execution_count": 15,
     "metadata": {},
     "output_type": "execute_result"
    }
   ],
   "source": [
    "def maxChunksToSorted(arr) -> int:\n",
    "    res = 0\n",
    "    cur_max = -0x80000000\n",
    "\n",
    "    for idx, num in enumerate(arr):\n",
    "        cur_max = max(cur_max, num)\n",
    "        if cur_max == idx:\n",
    "            res += 1\n",
    "\n",
    "    return res"
   ]
  },
  {
   "cell_type": "markdown",
   "metadata": {},
   "source": [
    "[Global and Local Inversions](https://leetcode.com/problems/global-and-local-inversions/)。给一无序的自然数数组，令局部逆序对是相邻元素的大小逆序，而全部逆序对是任何位置元素对的大小逆序。判断该数组局部逆序对的数量是否等于全部逆序对的数量。\n",
    "\n",
    "思路：易得全局逆序对包含了局部逆序对，所以该题实质要判断该数组是否只存在局部逆序对。可以发现规律，若对所有位置的元素，都有$\\vert nums[i]-i \\vert\\le{1}$，则该数组只存在局部逆序对。"
   ]
  },
  {
   "cell_type": "code",
   "execution_count": null,
   "metadata": {},
   "outputs": [],
   "source": [
    "def isIdealPermutation(A) -> bool:\n",
    "    for idx, num in enumerate(A):\n",
    "        if abs(num-idx) > 1:\n",
    "            return False\n",
    "\n",
    "    return True"
   ]
  }
 ],
 "metadata": {
  "hide_input": false,
  "kernelspec": {
   "display_name": "Python 3",
   "language": "python",
   "name": "python3"
  },
  "language_info": {
   "codemirror_mode": {
    "name": "ipython",
    "version": 3
   },
   "file_extension": ".py",
   "mimetype": "text/x-python",
   "name": "python",
   "nbconvert_exporter": "python",
   "pygments_lexer": "ipython3",
   "version": "3.7.4"
  },
  "toc": {
   "base_numbering": 1,
   "nav_menu": {},
   "number_sections": true,
   "sideBar": true,
   "skip_h1_title": false,
   "title_cell": "Table of Contents",
   "title_sidebar": "Contents",
   "toc_cell": false,
   "toc_position": {},
   "toc_section_display": true,
   "toc_window_display": false
  }
 },
 "nbformat": 4,
 "nbformat_minor": 2
}
