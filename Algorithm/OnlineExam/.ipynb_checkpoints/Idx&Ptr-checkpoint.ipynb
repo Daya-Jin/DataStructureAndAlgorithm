{
 "cells": [
  {
   "cell_type": "markdown",
   "metadata": {},
   "source": [
    "[Fruit Into Baskets](https://leetcode.com/problems/fruit-into-baskets/)。给一数组表示一片小树林，数组中的数字表示树上结的果子。只能摘取种植区域相邻的两种果子，而且只能从左往右走，问最多能摘取多少个果子。\n",
    "\n",
    "思路：使用双指针来指示当前摘果子的区域，并使用字典来表示当前篮子中的情况。每次移动后更新篮子情况，然后判断篮子中的果子种类是不是大于$2$，若是则需要移动左指针同时丢掉果子。"
   ]
  },
  {
   "cell_type": "code",
   "execution_count": null,
   "metadata": {},
   "outputs": [],
   "source": [
    "def totalFruit(tree) -> int:\n",
    "    n = len(tree)\n",
    "\n",
    "    res = left = right = 0\n",
    "    basket = dict()    # 字典记录篮子情况\n",
    "\n",
    "    while right < n:\n",
    "        basket.setdefault(tree[right], 0)\n",
    "        basket[tree[right]] += 1     # 摘果子\n",
    "\n",
    "        while len(basket) > 2:\n",
    "            basket[tree[left]] -= 1\n",
    "            if basket[tree[left]] == 0:\n",
    "                del basket[tree[left]]\n",
    "            left += 1\n",
    "\n",
    "        res = max(res, right-left+1)\n",
    "        right += 1\n",
    "\n",
    "    return res"
   ]
  }
 ],
 "metadata": {
  "hide_input": false,
  "kernelspec": {
   "display_name": "Python 3",
   "language": "python",
   "name": "python3"
  },
  "language_info": {
   "codemirror_mode": {
    "name": "ipython",
    "version": 3
   },
   "file_extension": ".py",
   "mimetype": "text/x-python",
   "name": "python",
   "nbconvert_exporter": "python",
   "pygments_lexer": "ipython3",
   "version": "3.6.6"
  },
  "toc": {
   "base_numbering": 1,
   "nav_menu": {},
   "number_sections": true,
   "sideBar": true,
   "skip_h1_title": false,
   "title_cell": "Table of Contents",
   "title_sidebar": "Contents",
   "toc_cell": false,
   "toc_position": {},
   "toc_section_display": true,
   "toc_window_display": false
  }
 },
 "nbformat": 4,
 "nbformat_minor": 2
}
