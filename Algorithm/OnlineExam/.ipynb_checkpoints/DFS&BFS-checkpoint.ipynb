{
 "cells": [
  {
   "cell_type": "markdown",
   "metadata": {},
   "source": [
    "[Number of Islands](https://leetcode.com/problems/number-of-islands/)。求数字矩阵中数字'1'构成的孤岛数量。\n",
    "\n",
    "思路："
   ]
  },
  {
   "cell_type": "code",
   "execution_count": null,
   "metadata": {},
   "outputs": [],
   "source": [
    "def numIslands(grid) -> int:\n",
    "    if not grid:\n",
    "        return 0\n",
    "\n",
    "    rows, cols = len(grid), len(grid[0])\n",
    "    visited = [[False]*cols for _ in range(rows)]\n",
    "\n",
    "    def bfs(row, col):\n",
    "        if row < 0 or row >= rows or col < 0 or col >= cols or grid[row][col] == '0' or visited[row][col]:\n",
    "            return\n",
    "\n",
    "        visited[row][col] = True\n",
    "\n",
    "        bfs(row-1, col)\n",
    "        bfs(row+1, col)\n",
    "        bfs(row, col-1)\n",
    "        bfs(row, col+1)\n",
    "\n",
    "    res = 0\n",
    "    for row in range(rows):\n",
    "        for col in range(cols):\n",
    "            if grid[row][col] == '0' or visited[row][col]:\n",
    "                continue\n",
    "\n",
    "            bfs(row, col)\n",
    "            res += 1\n",
    "\n",
    "    return res"
   ]
  },
  {
   "cell_type": "code",
   "execution_count": null,
   "metadata": {},
   "outputs": [],
   "source": []
  }
 ],
 "metadata": {
  "hide_input": false,
  "kernelspec": {
   "display_name": "Python 3",
   "language": "python",
   "name": "python3"
  },
  "language_info": {
   "codemirror_mode": {
    "name": "ipython",
    "version": 3
   },
   "file_extension": ".py",
   "mimetype": "text/x-python",
   "name": "python",
   "nbconvert_exporter": "python",
   "pygments_lexer": "ipython3",
   "version": "3.6.6"
  },
  "toc": {
   "base_numbering": 1,
   "nav_menu": {},
   "number_sections": true,
   "sideBar": true,
   "skip_h1_title": false,
   "title_cell": "Table of Contents",
   "title_sidebar": "Contents",
   "toc_cell": false,
   "toc_position": {},
   "toc_section_display": true,
   "toc_window_display": false
  }
 },
 "nbformat": 4,
 "nbformat_minor": 2
}
