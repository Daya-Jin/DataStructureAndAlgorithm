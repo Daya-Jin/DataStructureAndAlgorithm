{
 "cells": [
  {
   "cell_type": "markdown",
   "metadata": {},
   "source": [
    "[Decode Ways](https://leetcode.com/problems/decode-ways/)。设$A-Z$26个字母对应$[1,26]$个数字，给一串数字，求该串数字能表示成多少种字符串。\n",
    "\n",
    "思路：设置$dp$数组，其中$dp[i]$表示长度为$i$的数字部分能表示多少种字符串。易得$dp[0]=1$，即空数字表示空字串。然后推状态转移方程，新增一个数字$x$，若$x\\in{[1,9]}$，则$dp[i]$至少要等于$dp[i-1]$，因为$x$可以独立表示成一个字母；若$x$跟之前一个数字的范围在$[10,26]$内，说明到达$dp[i]$就有两条路径：$dp[i]=dp[i-1]+dp[i-2]$。注意这里还忽略了一个特殊情况，当$x=0$时，其自身是无法表示字母的，只能跟之前的数字合成$10$或$20$来表示字母。综上，状态转移方程为：\n",
    "$$\n",
    "\\begin{align}\n",
    "dp[i]=\n",
    "\\begin{cases}\n",
    "dp[i-1] & ,s[i-1]\\in{[1,9]} \\\\\n",
    "dp[i-2] & ,s[i-2:i]=10\\ or \\ s[i-2:i]=20 \\\\\n",
    "dp[i-1]+dp[i-2] & ,s[i-2:i]\\in{[11,19]\\cup[21,26]} \\\\\n",
    "\\end{cases}\n",
    "\\end{align}\n",
    "$$"
   ]
  },
  {
   "cell_type": "code",
   "execution_count": 5,
   "metadata": {},
   "outputs": [
    {
     "data": {
      "text/plain": [
       "3"
      ]
     },
     "execution_count": 5,
     "metadata": {},
     "output_type": "execute_result"
    }
   ],
   "source": [
    "def numDecodings(self, s: str) -> int:\n",
    "    n = len(s)\n",
    "    dp = [0]*(n+1)\n",
    "    dp[0] = 1\n",
    "\n",
    "    if s[0] == '0':\n",
    "        return 0\n",
    "\n",
    "    dp[1] = 1\n",
    "\n",
    "    for i in range(2, n+1):\n",
    "        if int(s[i-2:i]) in (10, 20):\n",
    "            dp[i] = dp[i-2]\n",
    "        elif int(s[i-2:i]) in range(11, 27):\n",
    "            dp[i] = dp[i-1]+dp[i-2]\n",
    "        elif int(s[i-1]) in range(1, 10):\n",
    "            dp[i] = dp[i-1]\n",
    "\n",
    "    return dp[-1]"
   ]
  },
  {
   "cell_type": "markdown",
   "metadata": {},
   "source": [
    "[Word Break](https://leetcode.com/problems/word-break/)。给一个非空字符串$s$与一个字串集合$wordDict$，判断$s$能否拆分成若干个字典中的字串。\n",
    "\n",
    "思路：设立dp数组，其中$dp[i]$表示以$i$位置结尾的字串是否可拆分。增加一个字符后，需要考察所有可能的切分点$j$，只有当切分点左边的字串可拆分并且切分点右边的字串在字典中时，切分点$j$才是合法的。"
   ]
  },
  {
   "cell_type": "code",
   "execution_count": 7,
   "metadata": {},
   "outputs": [
    {
     "data": {
      "text/plain": [
       "True"
      ]
     },
     "execution_count": 7,
     "metadata": {},
     "output_type": "execute_result"
    }
   ],
   "source": [
    "def wordBreak(s: str, wordDict) -> bool:\n",
    "    n = len(s)\n",
    "    dp = [False]*(n+1)\n",
    "    dp[0] = True\n",
    "\n",
    "    for i in range(1, n+1):    # i比字串索引要大1\n",
    "        for j in range(i):    # 切分点\n",
    "            if dp[j] and s[j:i] in wordDict:\n",
    "                dp[i] = True\n",
    "                break\n",
    "\n",
    "    return dp[-1]"
   ]
  },
  {
   "cell_type": "markdown",
   "metadata": {},
   "source": [
    "[House Robber](https://leetcode.com/problems/house-robber/)。一数组表示各房屋内的金钱，不能同时搜刮相邻的两个房子，问最多能偷到多少钱。\n",
    "\n",
    "思路：设```dp[i]```为有$i$个房子时最多能偷到的钱。增加一个房子时，因为不能偷相邻的房子，所以如果要偷最后的房子，则倒数第二个房子就不能偷；如果投了倒数第二个房子，则最后一个房子就不能偷。状态转移方程为：\n",
    "$$\n",
    "dp[i]=max(dp[i-2]+house[i],dp[i-1])\n",
    "$$"
   ]
  },
  {
   "cell_type": "code",
   "execution_count": 8,
   "metadata": {},
   "outputs": [
    {
     "data": {
      "text/plain": [
       "4"
      ]
     },
     "execution_count": 8,
     "metadata": {},
     "output_type": "execute_result"
    }
   ],
   "source": [
    "def rob(nums) -> int:\n",
    "    if not nums:\n",
    "        return 0\n",
    "    if len(nums) == 1:\n",
    "        return nums[0]\n",
    "\n",
    "    n = len(nums)\n",
    "    dp = [0]*n\n",
    "    dp[0], dp[1] = nums[0], max(nums[0], nums[1])\n",
    "\n",
    "    for i in range(2, n):\n",
    "        dp[i] = max(dp[i-1],\n",
    "                    dp[i-2]+nums[i])\n",
    "\n",
    "    return dp[-1]"
   ]
  },
  {
   "cell_type": "markdown",
   "metadata": {},
   "source": [
    "[House Robber II](https://leetcode.com/problems/house-robber-ii/)。同上题，不过现在房子围成了一个圈，此时给出的数组首位相等。\n",
    "\n",
    "思路：现在首尾相连，那么首尾就成了相邻的情况。直接分成两种情况来分析，有首无尾和无首有尾。，对这两种情况，解法与上题一致。"
   ]
  },
  {
   "cell_type": "code",
   "execution_count": 9,
   "metadata": {},
   "outputs": [
    {
     "data": {
      "text/plain": [
       "3"
      ]
     },
     "execution_count": 9,
     "metadata": {},
     "output_type": "execute_result"
    }
   ],
   "source": [
    "def rob(nums) -> int:\n",
    "    if not nums:\n",
    "        return 0\n",
    "    if len(nums) < 3:\n",
    "        return max(nums)\n",
    "\n",
    "    n = len(nums)\n",
    "    nums_1, nums_2 = nums[1:], nums[:-1]\n",
    "    dp_1, dp_2 = [0]*(n-1), [0]*(n-1)\n",
    "    dp_1[0], dp_2[0] = nums_1[0], nums_2[0]\n",
    "    dp_1[1], dp_2[1] = max(nums_1[0], nums_1[1]), max(nums_2[0], nums_2[1])\n",
    "\n",
    "    for i in range(2, n-1):\n",
    "        dp_1[i] = max(dp_1[i-1], dp_1[i-2]+nums_1[i])\n",
    "        dp_2[i] = max(dp_2[i-1], dp_2[i-2]+nums_2[i])\n",
    "\n",
    "    return max(dp_1[-1], dp_2[-1])"
   ]
  },
  {
   "cell_type": "markdown",
   "metadata": {},
   "source": [
    "[All Possible Full Binary Trees](https://leetcode.com/problems/all-possible-full-binary-trees/)。给$N$个节点，求所有可能的满二叉树结构。\n",
    "\n",
    "思路：满二叉树的节点数肯定是奇数，如果$N$是偶数直接返回空。设立dp数组，其中$dp[i]$存储$i$个节点下所有可能的满二叉树。新增一个节点时，可把新增的节点作为根节点，然后遍历所有可能的奇数作为左分支的节点数，剩余的节点作为右分支的节点数，分别在$dp$数组中取出所有可能的结构拼接到根节点上。"
   ]
  },
  {
   "cell_type": "code",
   "execution_count": 11,
   "metadata": {},
   "outputs": [],
   "source": [
    "def allPossibleFBT(N: int):\n",
    "    if N % 2 == 0:\n",
    "        return list()\n",
    "\n",
    "    dp = [list() for _ in range(N+1)]\n",
    "    dp[1].append(TreeNode(0))\n",
    "\n",
    "    for node_cnt in range(3, N+1, 2):    # 总结点数\n",
    "        for left_cnt in range(1, node_cnt-1, 2):    # 左分支节点数\n",
    "            right_cnt = node_cnt-left_cnt-1    # 右分支节点数\n",
    "\n",
    "            for left in dp[left_cnt]:\n",
    "                for right in dp[right_cnt]:\n",
    "                    root = TreeNode(0)\n",
    "                    root.left = left\n",
    "                    root.right = right\n",
    "                    dp[node_cnt].append(root)\n",
    "\n",
    "    return dp[-1]"
   ]
  },
  {
   "cell_type": "markdown",
   "metadata": {},
   "source": [
    "[Triangle](https://leetcode.com/problems/triangle/)。给一个三角形数组，求一个自顶向下路径的最小和。\n",
    "```\n",
    "   [2],\n",
    "  [3,4],\n",
    " [6,5,7],\n",
    "[4,1,8,3]\n",
    "```\n",
    "\n",
    "思路：很明显的dp问题。若自顶向下计算，边界位置与非边界位置需要分开考虑；自底向上计算，很简单。开一个形状与原数据相同的异构嵌套数组，显然初始状态为$dp[-1]=nums[-1]$，状态转移方程为：\n",
    "\n",
    "$$\n",
    "dp[row][col]=min(dp[row+1][col],dp[row+1][col+1])+nums[row][col]\n",
    "$$"
   ]
  },
  {
   "cell_type": "code",
   "execution_count": 13,
   "metadata": {},
   "outputs": [
    {
     "data": {
      "text/plain": [
       "11"
      ]
     },
     "execution_count": 13,
     "metadata": {},
     "output_type": "execute_result"
    }
   ],
   "source": [
    "def minimumTotal(triangle) -> int:\n",
    "    n = len(triangle)\n",
    "    dp = [[0]*row for row in range(1, n+1)]\n",
    "    dp[-1] = triangle[-1]\n",
    "\n",
    "    for row in range(n-2, -1, -1):\n",
    "        for col in range(row+1):\n",
    "            dp[row][col] = min(dp[row+1][col],\n",
    "                               dp[row+1][col+1])+triangle[row][col]\n",
    "\n",
    "    return dp[0][0]"
   ]
  },
  {
   "cell_type": "code",
   "execution_count": 12,
   "metadata": {},
   "outputs": [
    {
     "data": {
      "text/plain": [
       "[[0], [0, 0]]"
      ]
     },
     "execution_count": 12,
     "metadata": {},
     "output_type": "execute_result"
    }
   ],
   "source": [
    "[[0]*row for row in range(1,2+1)]"
   ]
  },
  {
   "cell_type": "code",
   "execution_count": null,
   "metadata": {},
   "outputs": [],
   "source": []
  }
 ],
 "metadata": {
  "hide_input": false,
  "kernelspec": {
   "display_name": "Python 3",
   "language": "python",
   "name": "python3"
  },
  "language_info": {
   "codemirror_mode": {
    "name": "ipython",
    "version": 3
   },
   "file_extension": ".py",
   "mimetype": "text/x-python",
   "name": "python",
   "nbconvert_exporter": "python",
   "pygments_lexer": "ipython3",
   "version": "3.7.4"
  },
  "toc": {
   "base_numbering": 1,
   "nav_menu": {},
   "number_sections": true,
   "sideBar": true,
   "skip_h1_title": false,
   "title_cell": "Table of Contents",
   "title_sidebar": "Contents",
   "toc_cell": false,
   "toc_position": {},
   "toc_section_display": true,
   "toc_window_display": false
  }
 },
 "nbformat": 4,
 "nbformat_minor": 2
}
