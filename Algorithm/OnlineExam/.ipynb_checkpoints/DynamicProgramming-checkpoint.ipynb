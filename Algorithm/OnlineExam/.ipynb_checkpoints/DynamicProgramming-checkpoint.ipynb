{
 "cells": [
  {
   "cell_type": "markdown",
   "metadata": {},
   "source": [
    "[Decode Ways](https://leetcode.com/problems/decode-ways/)。设$A-Z$26个字母对应$[1,26]$个数字，给一串数字，求该串数字能表示成多少种字符串。\n",
    "\n",
    "思路：设置$dp$数组，其中$dp[i]$表示长度为$i$的数字部分能表示多少种字符串。易得$dp[0]=1$，即空数字表示空字串。然后推状态转移方程，新增一个数字$x$，若$x\\in{[1,9]}$，则$dp[i]$至少要等于$dp[i-1]$，因为$x$可以独立表示成一个字母；若$x$跟之前一个数字的范围在$[10,26]$内，说明到达$dp[i]$就有两条路径：$dp[i]=dp[i-1]+dp[i-2]$。注意这里还忽略了一个特殊情况，当$x=0$时，其自身是无法表示字母的，只能跟之前的数字合成$10$或$20$来表示字母。综上，状态转移方程为：\n",
    "$$\n",
    "\\begin{align}\n",
    "dp[i]=\n",
    "\\begin{cases}\n",
    "dp[i-1] & ,s[i-1]\\in{[1,9]} \\\\\n",
    "dp[i-2] & ,s[i-2:i]=10\\ or \\ s[i-2:i]=20 \\\\\n",
    "dp[i-1]+dp[i-2] & ,s[i-2:i]\\in{[11,19]\\cup[21,26]} \\\\\n",
    "\\end{cases}\n",
    "\\end{align}\n",
    "$$"
   ]
  },
  {
   "cell_type": "code",
   "execution_count": 5,
   "metadata": {},
   "outputs": [
    {
     "data": {
      "text/plain": [
       "3"
      ]
     },
     "execution_count": 5,
     "metadata": {},
     "output_type": "execute_result"
    }
   ],
   "source": [
    "def numDecodings(self, s: str) -> int:\n",
    "    n = len(s)\n",
    "    dp = [0]*(n+1)\n",
    "    dp[0] = 1\n",
    "\n",
    "    if s[0] == '0':\n",
    "        return 0\n",
    "\n",
    "    dp[1] = 1\n",
    "\n",
    "    for i in range(2, n+1):\n",
    "        if int(s[i-2:i]) in (10, 20):\n",
    "            dp[i] = dp[i-2]\n",
    "        elif int(s[i-2:i]) in range(11, 27):\n",
    "            dp[i] = dp[i-1]+dp[i-2]\n",
    "        elif int(s[i-1]) in range(1, 10):\n",
    "            dp[i] = dp[i-1]\n",
    "\n",
    "    return dp[-1]"
   ]
  },
  {
   "cell_type": "markdown",
   "metadata": {},
   "source": [
    "[Word Break](https://leetcode.com/problems/word-break/)。给一个非空字符串$s$与一个字串集合$wordDict$，判断$s$能否拆分成若干个字典中的字串。\n",
    "\n",
    "思路：设立dp数组，其中$dp[i]$表示以$i$位置结尾的字串是否可拆分。增加一个字符后，需要考察所有可能的切分点$j$，只有当切分点左边的字串可拆分并且切分点右边的字串在字典中时，切分点$j$才是合法的。"
   ]
  },
  {
   "cell_type": "code",
   "execution_count": 7,
   "metadata": {},
   "outputs": [
    {
     "data": {
      "text/plain": [
       "True"
      ]
     },
     "execution_count": 7,
     "metadata": {},
     "output_type": "execute_result"
    }
   ],
   "source": [
    "def wordBreak(s: str, wordDict) -> bool:\n",
    "    n = len(s)\n",
    "    dp = [False]*(n+1)\n",
    "    dp[0] = True\n",
    "\n",
    "    for i in range(1, n+1):    # i比字串索引要大1\n",
    "        for j in range(i):    # 切分点\n",
    "            if dp[j] and s[j:i] in wordDict:\n",
    "                dp[i] = True\n",
    "                break\n",
    "\n",
    "    return dp[-1]"
   ]
  },
  {
   "cell_type": "markdown",
   "metadata": {},
   "source": [
    "[House Robber](https://leetcode.com/problems/house-robber/)。一数组表示各房屋内的金钱，不能同时搜刮相邻的两个房子，问最多能偷到多少钱。\n",
    "\n",
    "思路：设```dp[i]```为有$i$个房子时最多能偷到的钱。增加一个房子时，因为不能偷相邻的房子，所以如果要偷最后的房子，则倒数第二个房子就不能偷；如果投了倒数第二个房子，则最后一个房子就不能偷。状态转移方程为：\n",
    "$$\n",
    "dp[i]=max(dp[i-2]+house[i],dp[i-1])\n",
    "$$"
   ]
  },
  {
   "cell_type": "code",
   "execution_count": 8,
   "metadata": {},
   "outputs": [
    {
     "data": {
      "text/plain": [
       "4"
      ]
     },
     "execution_count": 8,
     "metadata": {},
     "output_type": "execute_result"
    }
   ],
   "source": [
    "def rob(nums) -> int:\n",
    "    if not nums:\n",
    "        return 0\n",
    "    if len(nums) == 1:\n",
    "        return nums[0]\n",
    "\n",
    "    n = len(nums)\n",
    "    dp = [0]*n\n",
    "    dp[0], dp[1] = nums[0], max(nums[0], nums[1])\n",
    "\n",
    "    for i in range(2, n):\n",
    "        dp[i] = max(dp[i-1],\n",
    "                    dp[i-2]+nums[i])\n",
    "\n",
    "    return dp[-1]"
   ]
  },
  {
   "cell_type": "markdown",
   "metadata": {},
   "source": [
    "[House Robber II](https://leetcode.com/problems/house-robber-ii/)。同上题，不过现在房子围成了一个圈，此时给出的数组首位相等。\n",
    "\n",
    "思路：现在首尾相连，那么首尾就成了相邻的情况。直接分成两种情况来分析，有首无尾和无首有尾。，对这两种情况，解法与上题一致。"
   ]
  },
  {
   "cell_type": "code",
   "execution_count": 9,
   "metadata": {},
   "outputs": [
    {
     "data": {
      "text/plain": [
       "3"
      ]
     },
     "execution_count": 9,
     "metadata": {},
     "output_type": "execute_result"
    }
   ],
   "source": [
    "def rob(nums) -> int:\n",
    "    if not nums:\n",
    "        return 0\n",
    "    if len(nums) < 3:\n",
    "        return max(nums)\n",
    "\n",
    "    n = len(nums)\n",
    "    nums_1, nums_2 = nums[1:], nums[:-1]\n",
    "    dp_1, dp_2 = [0]*(n-1), [0]*(n-1)\n",
    "    dp_1[0], dp_2[0] = nums_1[0], nums_2[0]\n",
    "    dp_1[1], dp_2[1] = max(nums_1[0], nums_1[1]), max(nums_2[0], nums_2[1])\n",
    "\n",
    "    for i in range(2, n-1):\n",
    "        dp_1[i] = max(dp_1[i-1], dp_1[i-2]+nums_1[i])\n",
    "        dp_2[i] = max(dp_2[i-1], dp_2[i-2]+nums_2[i])\n",
    "\n",
    "    return max(dp_1[-1], dp_2[-1])"
   ]
  },
  {
   "cell_type": "markdown",
   "metadata": {},
   "source": [
    "[All Possible Full Binary Trees](https://leetcode.com/problems/all-possible-full-binary-trees/)。给$N$个节点，求所有可能的满二叉树结构。\n",
    "\n",
    "思路：满二叉树的节点数肯定是奇数，如果$N$是偶数直接返回空。设立dp数组，其中$dp[i]$存储$i$个节点下所有可能的满二叉树。新增一个节点时，可把新增的节点作为根节点，然后遍历所有可能的奇数作为左分支的节点数，剩余的节点作为右分支的节点数，分别在$dp$数组中取出所有可能的结构拼接到根节点上。"
   ]
  },
  {
   "cell_type": "code",
   "execution_count": 11,
   "metadata": {},
   "outputs": [],
   "source": [
    "def allPossibleFBT(N: int):\n",
    "    if N % 2 == 0:\n",
    "        return list()\n",
    "\n",
    "    dp = [list() for _ in range(N+1)]\n",
    "    dp[1].append(TreeNode(0))\n",
    "\n",
    "    for node_cnt in range(3, N+1, 2):    # 总结点数\n",
    "        for left_cnt in range(1, node_cnt-1, 2):    # 左分支节点数\n",
    "            right_cnt = node_cnt-left_cnt-1    # 右分支节点数\n",
    "\n",
    "            for left in dp[left_cnt]:\n",
    "                for right in dp[right_cnt]:\n",
    "                    root = TreeNode(0)\n",
    "                    root.left = left\n",
    "                    root.right = right\n",
    "                    dp[node_cnt].append(root)\n",
    "\n",
    "    return dp[-1]"
   ]
  },
  {
   "cell_type": "markdown",
   "metadata": {},
   "source": [
    "[Triangle](https://leetcode.com/problems/triangle/)。给一个三角形数组，求一个自顶向下路径的最小和。\n",
    "```\n",
    "   [2],\n",
    "  [3,4],\n",
    " [6,5,7],\n",
    "[4,1,8,3]\n",
    "```\n",
    "\n",
    "思路：很明显的dp问题。若自顶向下计算，边界位置与非边界位置需要分开考虑；自底向上计算，很简单。开一个形状与原数据相同的异构嵌套数组，显然初始状态为$dp[-1]=nums[-1]$，状态转移方程为：\n",
    "\n",
    "$$\n",
    "dp[row][col]=min(dp[row+1][col],dp[row+1][col+1])+nums[row][col]\n",
    "$$"
   ]
  },
  {
   "cell_type": "code",
   "execution_count": 13,
   "metadata": {},
   "outputs": [
    {
     "data": {
      "text/plain": [
       "11"
      ]
     },
     "execution_count": 13,
     "metadata": {},
     "output_type": "execute_result"
    }
   ],
   "source": [
    "def minimumTotal(triangle) -> int:\n",
    "    n = len(triangle)\n",
    "    dp = [[0]*row for row in range(1, n+1)]\n",
    "    dp[-1] = triangle[-1]\n",
    "\n",
    "    for row in range(n-2, -1, -1):\n",
    "        for col in range(row+1):\n",
    "            dp[row][col] = min(dp[row+1][col],\n",
    "                               dp[row+1][col+1])+triangle[row][col]\n",
    "\n",
    "    return dp[0][0]"
   ]
  },
  {
   "cell_type": "markdown",
   "metadata": {},
   "source": [
    "排名问题(疯狂游戏笔试题)。有$n$个人，对其进行排名次，允许并列同一名，总共有多少种排序方案。\n",
    "\n",
    "思路：设立二维dp数组，其中$dp[i][j]$表示将$i$个人排成$j$种名词的排序方案，那么初始dp的第一行与第一列全是$1$，对角线上(没有并列名次)是一个全排列，难点在于状态转移方程。增加一个人且构成$j$种名次的话，那么之前的状态只可能有两种：一是之前的$i-1$个人构成$j$种名次，然后第$i$个人与之前的人并列一个名次，没有增加名次的种类；二是之前$i-1$个人构成$j-1$种名次，第$i$个人独占一位，增加一种名次。得：\n",
    "$$\n",
    "\\begin{align}\n",
    "dp[i][j]=j*dp[i-1][j]+j*dp[i-1][j-1]\n",
    "\\end{align}\n",
    "$$"
   ]
  },
  {
   "cell_type": "code",
   "execution_count": null,
   "metadata": {},
   "outputs": [],
   "source": [
    "def ranking(n: int) -> int:\n",
    "    if n < 0:\n",
    "        return -1\n",
    "\n",
    "    dp = [[0] * n for _ in range(n)]\n",
    "    for row in range(n):\n",
    "        dp[row][0] = 1\n",
    "    for col in range(n):\n",
    "        dp[0][col] = 1\n",
    "    for idx in range(1, n):\n",
    "        dp[idx][idx] = dp[idx-1][idx-1]*(idx + 1)\n",
    "\n",
    "    for row in range(1, n):\n",
    "        for col in range(1, n):\n",
    "            if row == col:\n",
    "                dp[row][col] = dp[row-1][col-1]*(row+1)\n",
    "            else:\n",
    "                dp[row][col] = (col + 1) * dp[row - 1][col] + \\\n",
    "                    (col + 1) * dp[row - 1][col - 1]\n",
    "\n",
    "    res = 0\n",
    "    for col in range(n):\n",
    "        res += dp[-1][col]\n",
    "\n",
    "    return res"
   ]
  },
  {
   "cell_type": "markdown",
   "metadata": {},
   "source": [
    "[Maximal Square](https://www.cnblogs.com/grandyang/p/4550604.html)。给一个含$0$和$1$的矩阵，求其中$1$构成的最大方阵的面积。\n",
    "\n",
    "思路：设立二维dp数组，其中$dp[i][j]$表示以$(i,j)$为右下角且包含$(i,j)$位置时的最大全$1$方阵的边长。初始状态，第一行与第一列等于原矩阵的值，然后看状态转移方程。首先只有当$(i,j)$本身为$1$时才有可能构成全$1$方阵，然后看该位置的左边、上边跟左上，包含当前位置时所能构成的最大方阵由其最小值决定，所以有：\n",
    "$$\n",
    "\\begin{align}\n",
    "dp[i][j]=\n",
    "\\begin{cases}\n",
    "0 & ,A[i][j]=0 \\\\\n",
    "\\min(dp[i-1][j],dp[i][j-1],dp[i-1][j-1])+1 & ,A[i][j]=1 \\\\\n",
    "\\end{cases}\n",
    "\\end{align}\n",
    "$$"
   ]
  },
  {
   "cell_type": "code",
   "execution_count": null,
   "metadata": {},
   "outputs": [],
   "source": [
    "def maximalSquare(matrix) -> int:\n",
    "    res = 0\n",
    "    if not matrix or not matrix[0]:\n",
    "        return 0\n",
    "    rows, cols = len(matrix), len(matrix[0])\n",
    "    dp = [[0]*cols for _ in range(rows)]\n",
    "    res = 0\n",
    "\n",
    "    for row in range(rows):\n",
    "        dp[row][0] = int(matrix[row][0])\n",
    "        res = max(res, dp[row][0])\n",
    "    for col in range(cols):\n",
    "        dp[0][col] = int(matrix[0][col])\n",
    "        res = max(res, dp[0][col])\n",
    "\n",
    "    for row in range(1, rows):\n",
    "        for col in range(1, cols):\n",
    "            if matrix[row][col] == '1':\n",
    "                dp[row][col] = min(dp[row-1][col],\n",
    "                                   dp[row][col-1],\n",
    "                                   dp[row-1][col-1])+1\n",
    "                res = max(res, dp[row][col])\n",
    "\n",
    "    return res*res"
   ]
  },
  {
   "cell_type": "markdown",
   "metadata": {},
   "source": [
    "[Arithmetic Slices](https://leetcode.com/problems/arithmetic-slices/)。给一数组，求其中等差数列的个数。要求等差数列的长度至少为$3$。\n",
    "\n",
    "思路：设立dp数组，其中$dp[i]$表示以$i$结尾且包含$nums[i]$的数字序列能构成多少个等差数列。当新增一个数时，若新数与之前两个数等差，则以$i+1$结尾且包含$nums[i+1]$的等差数列就有$dp[i]+1$个。这里的状态转移方程是个难点，需要举个简单例子在纸上列一下。那么总共的等差数列就是对dp数组求和。"
   ]
  },
  {
   "cell_type": "code",
   "execution_count": 2,
   "metadata": {},
   "outputs": [
    {
     "data": {
      "text/plain": [
       "3"
      ]
     },
     "execution_count": 2,
     "metadata": {},
     "output_type": "execute_result"
    }
   ],
   "source": [
    "def numberOfArithmeticSlices(A) -> int:\n",
    "    n = len(A)\n",
    "    if n < 3:\n",
    "        return 0\n",
    "    dp = [0]*n\n",
    "\n",
    "    for idx in range(2, n):\n",
    "        if A[idx]-A[idx-1] == A[idx-1]-A[idx-2]:\n",
    "            dp[idx] = dp[idx-1]+1\n",
    "\n",
    "    return sum(dp)"
   ]
  },
  {
   "cell_type": "markdown",
   "metadata": {},
   "source": [
    "[Unique Substrings in Wraparound String](https://leetcode.com/problems/unique-substrings-in-wraparound-string/)。给一无限循环的顺序字母序列$abc...xyzabc...$，再给一字串$p$，求字串$p$中有多少子串是$s$的子串。\n",
    "\n",
    "思路：该题类似于求等差数列，但是数字变成了字符，需要考虑重复的情况，题目中的$s$其实可以忽略。设立大小为$26$的$dp$数组，其中$dp[i]$表示以字符$i$结尾且包含字符$i$的等差字串有多少种。在等差数列那一题中知道，每增加一位，那么种类也是只增加一个的。"
   ]
  },
  {
   "cell_type": "code",
   "execution_count": 13,
   "metadata": {},
   "outputs": [
    {
     "data": {
      "text/plain": [
       "6"
      ]
     },
     "execution_count": 13,
     "metadata": {},
     "output_type": "execute_result"
    }
   ],
   "source": [
    "def findSubstringInWraproundString(p: str) -> int:\n",
    "    if not p:\n",
    "        return 0\n",
    "\n",
    "    n = len(p)\n",
    "    dp = [0]*26\n",
    "    dp[ord(p[0])-97] = 1\n",
    "\n",
    "    cur_len = 1\n",
    "    for idx in range(1, n):\n",
    "        if ord(p[idx])-ord(p[idx-1]) == 1 or ord(p[idx-1])-ord(p[idx]) == 25:\n",
    "            cur_len += 1\n",
    "        else:\n",
    "            cur_len = 1\n",
    "        dp[ord(p[idx])-97] = max(dp[ord(p[idx])-97], cur_len)\n",
    "\n",
    "    return sum(dp)"
   ]
  },
  {
   "cell_type": "markdown",
   "metadata": {},
   "source": [
    "[Partition Equal Subset Sum](https://leetcode.com/problems/partition-equal-subset-sum/)。给一非空非负数组，判断该数组能否分成和相等的两部分。\n",
    "\n",
    "思路：01背包的变种。将每个数字看作一个物品，每个物品重量为自身的值，该题需要求能否装满一个负重量为$sum(nums)/2$的背包。"
   ]
  },
  {
   "cell_type": "code",
   "execution_count": 7,
   "metadata": {},
   "outputs": [
    {
     "data": {
      "text/plain": [
       "True"
      ]
     },
     "execution_count": 7,
     "metadata": {},
     "output_type": "execute_result"
    }
   ],
   "source": [
    "def canPartition(nums) -> bool:\n",
    "    arr_sum = sum(nums)\n",
    "    if arr_sum & 1:\n",
    "        return False\n",
    "\n",
    "    n = len(nums)\n",
    "    target_sum = arr_sum//2\n",
    "\n",
    "    dp = [[False]*(target_sum+1) for _ in range(n+1)]\n",
    "    for row in range(n+1):\n",
    "        dp[row][0] = True\n",
    "\n",
    "    for i in range(1, n+1):\n",
    "        for j in range(1, target_sum+1):\n",
    "            dp[i][j] = dp[i-1][j]    # 不拿的情况\n",
    "\n",
    "            if j >= nums[i-1]:    # 拿取第$i$个数字\n",
    "                dp[i][j] = dp[i][j] or dp[i-1][j -nums[i-1]]    # 不拿或拿，只要有一种情况满足即满足\n",
    "\n",
    "    return dp[-1][-1]"
   ]
  },
  {
   "cell_type": "markdown",
   "metadata": {},
   "source": [
    "[Out of Boundary Paths](https://leetcode.com/problems/out-of-boundary-paths/)。给一个$m$行$n$列的矩阵，有一个球在$[i,j]$处，在最多走$N$步的条件下，把这个球移动到矩阵外面有多少条可走的路径。\n",
    "\n",
    "思路：带时间状态的DP问题，时间维度为$N$。设立三维$dp$数组，其中$dp[t][x][y]$表示走$t$步的情况下从$[x,y]$坐标走出去的解法数。那么状态转移方程为：\n",
    "$$\n",
    "dp[t][x][y]=dp[t-1][x-1][y]+dp[t-1][x+1][y]+dp[t-1][x][y-1]+dp[t-1][x][y+1]\n",
    "$$\n",
    "分别代表走$t-1$步时上下左右四个格子的解法。"
   ]
  },
  {
   "cell_type": "code",
   "execution_count": 16,
   "metadata": {},
   "outputs": [
    {
     "data": {
      "text/plain": [
       "6"
      ]
     },
     "execution_count": 16,
     "metadata": {},
     "output_type": "execute_result"
    }
   ],
   "source": [
    "def findPaths(m: int, n: int, N: int, i: int, j: int) -> int:\n",
    "    dp = [[[0]*n for _ in range(m)] for _ in range(N+1)]\n",
    "\n",
    "    for z in range(1, N+1):\n",
    "        for x in range(m):\n",
    "            for y in range(n):\n",
    "                up = 1 if x == 0 else dp[z-1][x-1][y]\n",
    "                down = 1 if x == m-1 else dp[z-1][x+1][y]\n",
    "                left = 1 if y == 0 else dp[z-1][x][y-1]\n",
    "                right = 1 if y == n-1 else dp[z-1][x][y+1]\n",
    "                dp[z][x][y] = up+down+left+right\n",
    "\n",
    "    return dp[-1][i][j] % 1000000007"
   ]
  },
  {
   "cell_type": "markdown",
   "metadata": {},
   "source": [
    "[Delete Operation for Two Strings](https://leetcode.com/problems/delete-operation-for-two-strings/)。给两字符串，问最少需要做多少次删除操作才能使得两字符串相等。\n",
    "\n",
    "思路：该题是求两字符串最长公共子序列的反向题目。设一个二维数组$dp$，其中$dp[i][j]$表示字串$1$的前$i$位与字串$2$的前$j$位的最长公共子序列长度，易得$dp[0][0]=0$。不难得出状态转移方程为：\n",
    "\n",
    "$$\n",
    "dp[i][j]=\n",
    "\\begin{cases}\n",
    "dp[i-1][j-1]+1 & str_{1}[i1]=str_{2}[j1] \\\\\n",
    "max(dp[i][j-1],dp[i-1][j]) & str_{1}[i1]{\\ne}str_{2}[j1] \\\\\n",
    "\\end{cases}\n",
    "$$\n",
    "\n",
    "原理是这样：若两字符串的某一位置相等，则LCS长度可以直接加一；若不相等，则需要取错位比较下的最大长度。"
   ]
  },
  {
   "cell_type": "code",
   "execution_count": 18,
   "metadata": {},
   "outputs": [
    {
     "data": {
      "text/plain": [
       "2"
      ]
     },
     "execution_count": 18,
     "metadata": {},
     "output_type": "execute_result"
    }
   ],
   "source": [
    "def minDistance(word1: str, word2: str) -> int:\n",
    "    len_1, len_2 = len(word1), len(word2)\n",
    "    dp = [[0]*(len_2+1) for _ in range(len_1+1)]\n",
    "\n",
    "    for i in range(1, len_1+1):\n",
    "        for j in range(1, len_2+1):\n",
    "            if word1[i-1] == word2[j-1]:    # 注意dp索引与字串索引大1\n",
    "                dp[i][j] = dp[i-1][j-1]+1\n",
    "            else:\n",
    "                dp[i][j] = max(dp[i-1][j], dp[i][j-1])\n",
    "\n",
    "    return len_1+len_2-2*dp[-1][-1]"
   ]
  },
  {
   "cell_type": "markdown",
   "metadata": {},
   "source": [
    "[Longest Palindromic Subsequence](https://leetcode.com/problems/longest-palindromic-subsequence/)。给一字符串，求其最长回文子序列。\n",
    "\n",
    "思路：找回文的方法就是从中心往两边扩展。因为子序列不要求连续，所以使用dp的方法来解。首先$i$表示当前字串的末尾位置，$i$是从前往后扫描的；令$j$表示当前字串的开始位置，$j$是从$i-1$往前扫描的。设一个二维数组$dp$，其中$dp[i][j]$表示$[j,i]$区间内的最长回文子序列的长度，那么易得有$0\\le{j\\le{i}}$，所以只使用dp数组的下三角。扩展即可得到状态转移方程：\n",
    "\n",
    "$$\n",
    "dp[i][j]=\n",
    "\\begin{cases}\n",
    "dp[i-1][j+1]+2 & s[i]=s[j] \\\\\n",
    "max(dp[i-1][j],dp[i][j+1]) & s[i]\\ne{s[j]} \\\\\n",
    "\\end{cases}\n",
    "$$\n",
    "\n",
    "注意最后返回的答案是$dp[-1][0]$。"
   ]
  },
  {
   "cell_type": "code",
   "execution_count": 33,
   "metadata": {},
   "outputs": [
    {
     "data": {
      "text/plain": [
       "2"
      ]
     },
     "execution_count": 33,
     "metadata": {},
     "output_type": "execute_result"
    }
   ],
   "source": [
    "def longestPalindromeSubseq(s: str) -> int:\n",
    "    n = len(s)\n",
    "    dp = [[0]*n for _ in range(n)]\n",
    "    for i in range(n):\n",
    "        dp[i][i] = 1\n",
    "\n",
    "    for i in range(n):\n",
    "        for j in range(i-1, -1, -1):    # j由后往前移\n",
    "            if s[i] == s[j]:\n",
    "                dp[i][j] = dp[i-1][j+1]+2\n",
    "            else:\n",
    "                dp[i][j] = max(dp[i-1][j], dp[i][j+1])\n",
    "\n",
    "    return dp[-1][0]"
   ]
  },
  {
   "cell_type": "markdown",
   "metadata": {},
   "source": [
    "[Ugly Number II](https://leetcode.com/problems/ugly-number-ii/)。丑数的定义如下，因子只有$2$、$3$和$5$的正数，第一个丑数定义为$1$。求第$n$个丑数。\n",
    "\n",
    "思路：丑数的因子只含$2$、$3$和$5$且第一个丑数为$1$，那么从$1$开始乘上这些因子即可得到丑数序列。关键在于避免得到重复丑数，设置三个指针$p_{2}$、$p_{3}$和$p_{5}$，分别代表$\\times{2}$、$\\times{3}$和$\\times{5}$的位置，计算丑数的递推式为：\n",
    "$$\n",
    "dp[i]=\\min(dp[p2]*2,dp[p3]*3,dp[p5]*5)\n",
    "$$\n",
    "$dp[i]$肯定是由三种运算中的一种得来的，要避免重复计算，还需要判断另外两种运算是否会得到一样的结果，如果是的话需要做处理。"
   ]
  },
  {
   "cell_type": "code",
   "execution_count": null,
   "metadata": {},
   "outputs": [],
   "source": [
    "def nthUglyNumber(n: int) -> int:\n",
    "    dp = [1]\n",
    "    m2 = m3 = m5 = 0\n",
    "\n",
    "    for _ in range(1, n):\n",
    "        cur_num = min(dp[m2]*2, dp[m3]*3, dp[m5]*5)    # 新丑数\n",
    "        dp.append(cur_num)\n",
    "\n",
    "        if cur_num == dp[m2]*2:\n",
    "            m2 += 1\n",
    "        if cur_num == dp[m3]*3:\n",
    "            m3 += 1\n",
    "        if cur_num == dp[m5]*5:\n",
    "            m5 += 1\n",
    "\n",
    "    return dp[-1]"
   ]
  },
  {
   "cell_type": "markdown",
   "metadata": {},
   "source": [
    "[Unique Paths II](https://leetcode.com/problems/unique-paths-ii/)。给一$01$矩阵，$0$代表可通行而$1$表示障碍物。从左上角出发到达右下角，问有几条路径。\n",
    "\n",
    "思路：设立二维$dp$数组，其中$dp[i][j]$表示到达$(i,j)$坐标有几条路径。初始状态就是首行首列，首行首列障碍物后面的坐标都是不可达的，需要特殊处理。而递推式就很简单了：\n",
    "$$\n",
    "dp[i][j]=dp[i-1][j]+dp[i][j-1]\n",
    "$$"
   ]
  },
  {
   "cell_type": "code",
   "execution_count": 36,
   "metadata": {},
   "outputs": [
    {
     "data": {
      "text/plain": [
       "2"
      ]
     },
     "execution_count": 36,
     "metadata": {},
     "output_type": "execute_result"
    }
   ],
   "source": [
    "def uniquePathsWithObstacles(obstacleGrid) -> int:\n",
    "    if obstacleGrid[0][0] == 1:\n",
    "        return 0\n",
    "\n",
    "    rows, cols = len(obstacleGrid), len(obstacleGrid[0])\n",
    "    dp = [[0]*cols for _ in range(rows)]\n",
    "    \n",
    "    dp[0][0] = 1\n",
    "    for row in range(1, rows):\n",
    "        dp[row][0] = dp[row-1][0] if obstacleGrid[row][0] == 0 else 0\n",
    "    for col in range(1, cols):\n",
    "        dp[0][col] = dp[0][col-1] if obstacleGrid[0][col] == 0 else 0\n",
    "\n",
    "    for row in range(1, rows):\n",
    "        for col in range(1, cols):\n",
    "            dp[row][col] = dp[row-1][col]+dp[row][col - 1] \\\n",
    "                if obstacleGrid[row][col] == 0 else 0\n",
    "\n",
    "    return dp[-1][-1]"
   ]
  },
  {
   "cell_type": "markdown",
   "metadata": {},
   "source": [
    "[拼凑硬币](https://www.nowcoder.com/questionTerminal/2479839aa61e44f39aa3268160650e17)。现有$2^{i}$面值的硬币各2个，指定一个值，求出使用这些硬币拼凑的方案数。\n",
    "\n",
    "思路：设立$dp$数组，其中$dp[i]$表示拼凑$i$有多少种方案。易得初始状态为$dp[0]=dp[1]=1$，状态转移方程是难点。因为每种面值硬币都有两个，且考虑到重复值如$(1,2)$跟$(2,1)$。\n",
    "$$\n",
    "\\begin{align}\n",
    "dp[i]=\n",
    "\\begin{cases}\n",
    "& dp[i/2] , i为奇数\\\\\n",
    "& dp[(i-1)/2]+dp[(i-1)/2-1] , i为偶数\\\\\n",
    "\\end{cases}\n",
    "\\end{align}\n",
    "$$\n",
    "因为测试用例有大数，而DP需要计算所有的方案，为省内存使用带```mem```数组的递归。"
   ]
  },
  {
   "cell_type": "code",
   "execution_count": 1,
   "metadata": {},
   "outputs": [],
   "source": [
    "def coin(n):\n",
    "    mem = {0: 1, 1: 1}\n",
    "\n",
    "    def rec(i):\n",
    "        if i in mem.keys():\n",
    "            return mem[i]\n",
    "        elif i & 1 == 1:    # 奇数\n",
    "            mem[i] = rec(i >> 1)\n",
    "        else:    # 偶数\n",
    "            mem[i] = rec(i >> 1)+rec((i >> 1)-1)\n",
    "        return mem[i]\n",
    "\n",
    "    return rec(n)"
   ]
  },
  {
   "cell_type": "code",
   "execution_count": null,
   "metadata": {},
   "outputs": [],
   "source": []
  }
 ],
 "metadata": {
  "hide_input": false,
  "kernelspec": {
   "display_name": "Python 3",
   "language": "python",
   "name": "python3"
  },
  "language_info": {
   "codemirror_mode": {
    "name": "ipython",
    "version": 3
   },
   "file_extension": ".py",
   "mimetype": "text/x-python",
   "name": "python",
   "nbconvert_exporter": "python",
   "pygments_lexer": "ipython3",
   "version": "3.7.4"
  },
  "toc": {
   "base_numbering": 1,
   "nav_menu": {},
   "number_sections": true,
   "sideBar": true,
   "skip_h1_title": false,
   "title_cell": "Table of Contents",
   "title_sidebar": "Contents",
   "toc_cell": false,
   "toc_position": {},
   "toc_section_display": true,
   "toc_window_display": false
  }
 },
 "nbformat": 4,
 "nbformat_minor": 2
}
