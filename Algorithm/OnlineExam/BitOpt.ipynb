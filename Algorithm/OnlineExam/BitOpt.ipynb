{
 "cells": [
  {
   "cell_type": "markdown",
   "metadata": {},
   "source": [
    "[Binary Watch](https://leetcode.com/problems/binary-watch/)。有一个二进制表，其使用$4$个LED灯来表示$12$小时，用$6$个LED灯来表示$60$分钟。现已知该表有$n$个LED灯是亮的，求可能的时间。\n",
    "\n",
    "思路：易得每一个时刻都对应着唯一的一种状态，只要遍历所有可可能的时刻，求出该时刻亮了几个灯，亮灯数量满足条件即可。"
   ]
  },
  {
   "cell_type": "code",
   "execution_count": 1,
   "metadata": {},
   "outputs": [
    {
     "data": {
      "text/plain": [
       "['0:01',\n",
       " '0:02',\n",
       " '0:04',\n",
       " '0:08',\n",
       " '0:16',\n",
       " '0:32',\n",
       " '1:00',\n",
       " '2:00',\n",
       " '4:00',\n",
       " '8:00']"
      ]
     },
     "execution_count": 1,
     "metadata": {},
     "output_type": "execute_result"
    }
   ],
   "source": [
    "def readBinaryWatch(num: int):\n",
    "    res = list()\n",
    "    for h in range(12):\n",
    "        for m in range(60):\n",
    "            ones = 0\n",
    "\n",
    "            for i in range(4):\n",
    "                if (h >> i) & 1:\n",
    "                    ones += 1\n",
    "            for i in range(6):\n",
    "                if (m >> i) & 1:\n",
    "                    ones += 1\n",
    "\n",
    "            if ones == num:\n",
    "                res.append('{}:{:02d}'.format(h, m))\n",
    "\n",
    "    return res"
   ]
  },
  {
   "cell_type": "markdown",
   "metadata": {},
   "source": [
    "[Integer Replacement](https://leetcode.com/problems/integer-replacement/)。给一个数字$n$，作如下操作，偶数除以二，奇数则$+1$或$-1$。问将$n$变成$1$最少需多少次变换。\n",
    "\n",
    "思路：无脑减一或除二的思路是错误的。从位运算的角度来思考，考虑以下两种奇数情况：\n",
    "- 最低两位是$01$，如果$+1$的话，只能除一次，而$-1$可以连续除两次；\n",
    "- 最低两位是$11$，如果$+1$的话，之后可以连续除两次，而$-1$只能除一次。\n",
    "不难知道当除法次数最多时数字减小的最快，所以当数字为奇数时，需要考虑两种情况来决定$+1$还是$-1$，最低两位的值用位运算来判断。"
   ]
  },
  {
   "cell_type": "code",
   "execution_count": 3,
   "metadata": {},
   "outputs": [
    {
     "data": {
      "text/plain": [
       "14"
      ]
     },
     "execution_count": 3,
     "metadata": {},
     "output_type": "execute_result"
    }
   ],
   "source": [
    "def integerReplacement(n: int) -> int:\n",
    "    if n < 4:\n",
    "        return n-1\n",
    "\n",
    "    res = 0\n",
    "    while n > 3:\n",
    "        if n & 3 == 3:    # 低两位为11\n",
    "            n += 1\n",
    "        elif n & 1 == 1:    # 低两位为1\n",
    "            n -= 1\n",
    "        else:    # 偶数\n",
    "            n >>= 1\n",
    "        res += 1\n",
    "\n",
    "    return res+n-1"
   ]
  },
  {
   "cell_type": "code",
   "execution_count": null,
   "metadata": {},
   "outputs": [],
   "source": []
  }
 ],
 "metadata": {
  "hide_input": false,
  "kernelspec": {
   "display_name": "Python 3",
   "language": "python",
   "name": "python3"
  },
  "language_info": {
   "codemirror_mode": {
    "name": "ipython",
    "version": 3
   },
   "file_extension": ".py",
   "mimetype": "text/x-python",
   "name": "python",
   "nbconvert_exporter": "python",
   "pygments_lexer": "ipython3",
   "version": "3.7.4"
  },
  "toc": {
   "base_numbering": 1,
   "nav_menu": {},
   "number_sections": true,
   "sideBar": true,
   "skip_h1_title": false,
   "title_cell": "Table of Contents",
   "title_sidebar": "Contents",
   "toc_cell": false,
   "toc_position": {},
   "toc_section_display": true,
   "toc_window_display": false
  }
 },
 "nbformat": 4,
 "nbformat_minor": 2
}
