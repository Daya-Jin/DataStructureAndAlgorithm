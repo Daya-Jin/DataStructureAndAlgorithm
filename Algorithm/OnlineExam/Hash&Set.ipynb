{
 "cells": [
  {
   "cell_type": "markdown",
   "metadata": {},
   "source": [
    "[Hand of Straights](https://leetcode.com/problems/hand-of-straights/)。给一数组代表手牌，判断手牌能否分成若干组牌数为$W$的顺子。\n",
    "\n",
    "思路：暴力，首先扫描并统计每个牌面的张数，然后从最小值开始，逐渐往大取牌。"
   ]
  },
  {
   "cell_type": "code",
   "execution_count": 4,
   "metadata": {},
   "outputs": [
    {
     "data": {
      "text/plain": [
       "True"
      ]
     },
     "execution_count": 4,
     "metadata": {},
     "output_type": "execute_result"
    }
   ],
   "source": [
    "def isNStraightHand(hand, W: int) -> bool:\n",
    "    from collections import OrderedDict\n",
    "    cnt_lookup = OrderedDict()\n",
    "\n",
    "    hand.sort()\n",
    "    for num in hand:\n",
    "        cnt_lookup.setdefault(num, 0)\n",
    "        cnt_lookup[num] += 1\n",
    "\n",
    "    while cnt_lookup:\n",
    "        start = list(cnt_lookup.keys())[0]\n",
    "\n",
    "        for diff in range(W):\n",
    "            card = start+diff\n",
    "            if card not in cnt_lookup:\n",
    "                return False\n",
    "\n",
    "            cnt_lookup[card] -= 1\n",
    "            if cnt_lookup[card] == 0:\n",
    "                del cnt_lookup[card]\n",
    "\n",
    "    return True"
   ]
  },
  {
   "cell_type": "markdown",
   "metadata": {},
   "source": [
    "[Continuous Subarray Sum](https://leetcode.com/problems/continuous-subarray-sum/)。给一非负整形数组与一个整数$k$，判断数组中是否存在连续的子序列求和等于$k$的倍数。\n",
    "\n",
    "思路：该题的测试用例能整死人，难点在于考虑$k=0$以及倍数为$0$的情况。当$k=0$时，只有数组存在连续的两个$0$才行；实际上连续两个$0$是任意数的倍数。然后是正常$k\\ne{0}$的情况。\n",
    "\n",
    "假设有一个求和数组$sum$，若原数组的$[i,j]$段是$k$的倍数，那么有$(sum[j]-sum[i-1])\\%k=0$，推得$sum[i-1]\\%k=sum[j]\\%k$。由此启发，在对原数组累计求和的过程中，使用哈希表记录下每个位置累计和的余数即可。"
   ]
  },
  {
   "cell_type": "code",
   "execution_count": 61,
   "metadata": {},
   "outputs": [
    {
     "data": {
      "text/plain": [
       "True"
      ]
     },
     "execution_count": 61,
     "metadata": {},
     "output_type": "execute_result"
    }
   ],
   "source": [
    "def checkSubarraySum(nums, k: int) -> bool:\n",
    "    n = len(nums)\n",
    "    arr_sum = 0\n",
    "    mod_map = {0: -1}\n",
    "\n",
    "    if k == 0:    # k=0单独处理\n",
    "        for idx in range(1, n):\n",
    "            if nums[idx-1] == nums[idx] == 0:\n",
    "                return True\n",
    "    else:    # 正常情况\n",
    "        for idx, num in enumerate(nums):\n",
    "            arr_sum += num\n",
    "            rem = arr_sum % k\n",
    "            \n",
    "            try:\n",
    "                pre_i = mod_map[rem]\n",
    "                if (arr_sum >= k and idx > pre_i+1) \\\n",
    "                        or (idx > 0 and nums[idx-1] == nums[idx] == 0):\n",
    "                    return True\n",
    "            except KeyError:\n",
    "                mod_map[rem] = idx\n",
    "\n",
    "    return False"
   ]
  },
  {
   "cell_type": "code",
   "execution_count": null,
   "metadata": {},
   "outputs": [],
   "source": []
  }
 ],
 "metadata": {
  "hide_input": false,
  "kernelspec": {
   "display_name": "Python 3",
   "language": "python",
   "name": "python3"
  },
  "language_info": {
   "codemirror_mode": {
    "name": "ipython",
    "version": 3
   },
   "file_extension": ".py",
   "mimetype": "text/x-python",
   "name": "python",
   "nbconvert_exporter": "python",
   "pygments_lexer": "ipython3",
   "version": "3.7.4"
  },
  "toc": {
   "base_numbering": 1,
   "nav_menu": {},
   "number_sections": true,
   "sideBar": true,
   "skip_h1_title": false,
   "title_cell": "Table of Contents",
   "title_sidebar": "Contents",
   "toc_cell": false,
   "toc_position": {},
   "toc_section_display": true,
   "toc_window_display": false
  }
 },
 "nbformat": 4,
 "nbformat_minor": 2
}
