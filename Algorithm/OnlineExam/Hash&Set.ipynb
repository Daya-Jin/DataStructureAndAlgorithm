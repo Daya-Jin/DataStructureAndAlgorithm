{
 "cells": [
  {
   "cell_type": "markdown",
   "metadata": {},
   "source": [
    "[Hand of Straights](https://leetcode.com/problems/hand-of-straights/)。给一数组代表手牌，判断手牌能否分成若干组牌数为$W$的顺子。\n",
    "\n",
    "思路：暴力，首先扫描并统计每个牌面的张数，然后从最小值开始，逐渐往大取牌。"
   ]
  },
  {
   "cell_type": "code",
   "execution_count": 4,
   "metadata": {},
   "outputs": [
    {
     "data": {
      "text/plain": [
       "True"
      ]
     },
     "execution_count": 4,
     "metadata": {},
     "output_type": "execute_result"
    }
   ],
   "source": [
    "def isNStraightHand(hand, W: int) -> bool:\n",
    "    from collections import OrderedDict\n",
    "    cnt_lookup = OrderedDict()\n",
    "\n",
    "    hand.sort()\n",
    "    for num in hand:\n",
    "        cnt_lookup.setdefault(num, 0)\n",
    "        cnt_lookup[num] += 1\n",
    "\n",
    "    while cnt_lookup:\n",
    "        start = list(cnt_lookup.keys())[0]\n",
    "\n",
    "        for diff in range(W):\n",
    "            card = start+diff\n",
    "            if card not in cnt_lookup:\n",
    "                return False\n",
    "\n",
    "            cnt_lookup[card] -= 1\n",
    "            if cnt_lookup[card] == 0:\n",
    "                del cnt_lookup[card]\n",
    "\n",
    "    return True"
   ]
  },
  {
   "cell_type": "markdown",
   "metadata": {},
   "source": [
    "[Continuous Subarray Sum](https://leetcode.com/problems/continuous-subarray-sum/)。给一非负整形数组与一个整数$k$，判断数组中是否存在连续的子序列求和等于$k$的倍数。\n",
    "\n",
    "思路：该题的测试用例能整死人，难点在于考虑$k=0$以及倍数为$0$的情况。当$k=0$时，只有数组存在连续的两个$0$才行；实际上连续两个$0$是任意数的倍数。然后是正常$k\\ne{0}$的情况。\n",
    "\n",
    "假设有一个求和数组$sum$，若原数组的$[i,j]$段是$k$的倍数，那么有$(sum[j]-sum[i-1])\\%k=0$，推得$sum[i-1]\\%k=sum[j]\\%k$。由此启发，在对原数组累计求和的过程中，使用哈希表记录下每个位置累计和的余数即可。"
   ]
  },
  {
   "cell_type": "code",
   "execution_count": 61,
   "metadata": {},
   "outputs": [
    {
     "data": {
      "text/plain": [
       "True"
      ]
     },
     "execution_count": 61,
     "metadata": {},
     "output_type": "execute_result"
    }
   ],
   "source": [
    "def checkSubarraySum(nums, k: int) -> bool:\n",
    "    n = len(nums)\n",
    "    arr_sum = 0\n",
    "    mod_map = {0: -1}\n",
    "\n",
    "    if k == 0:    # k=0单独处理\n",
    "        for idx in range(1, n):\n",
    "            if nums[idx-1] == nums[idx] == 0:\n",
    "                return True\n",
    "    else:    # 正常情况\n",
    "        for idx, num in enumerate(nums):\n",
    "            arr_sum += num\n",
    "            rem = arr_sum % k\n",
    "            \n",
    "            try:\n",
    "                pre_i = mod_map[rem]\n",
    "                if (arr_sum >= k and idx > pre_i+1) \\\n",
    "                        or (idx > 0 and nums[idx-1] == nums[idx] == 0):\n",
    "                    return True\n",
    "            except KeyError:\n",
    "                mod_map[rem] = idx\n",
    "\n",
    "    return False"
   ]
  },
  {
   "cell_type": "markdown",
   "metadata": {},
   "source": [
    "[Group Anagrams](https://leetcode.com/problems/group-anagrams/)。给若干字符串，要求将所有变位词放到同一组中。\n",
    "\n",
    "思路：变位词是字符出现次数相同的字串。得益于Python的语法糖，将字串排序后打包成元组作为变位词的base，具有相同base的字串就是变位词。"
   ]
  },
  {
   "cell_type": "code",
   "execution_count": 5,
   "metadata": {},
   "outputs": [
    {
     "data": {
      "text/plain": [
       "[['eat', 'tea', 'ate'], ['tan', 'nat'], ['bat']]"
      ]
     },
     "execution_count": 5,
     "metadata": {},
     "output_type": "execute_result"
    }
   ],
   "source": [
    "def groupAnagrams(strs):\n",
    "    ana_lookup = dict()\n",
    "    for s in strs:\n",
    "        base = tuple(sorted(s))    # 变位词的base，字符组成的元组\n",
    "        ana_lookup.setdefault(base, list())\n",
    "        ana_lookup[base].append(s)\n",
    "\n",
    "    return list(ana_lookup.values())"
   ]
  },
  {
   "cell_type": "markdown",
   "metadata": {},
   "source": [
    "[Degree of an Array](https://leetcode.com/problems/degree-of-an-array/)。给一非空的正整数数组，定义数组的度为出现次数最大的元素的出现次数。求与原数组同度数的最短子区间的长度。\n",
    "\n",
    "思路：该题很明显是用双指针来做了，首先求出最大次数，然后再找出出现次数最多的元素的一个最小范围即可。可使用哈希表来优化。扫描一遍数组设置三个哈希表，一个统计次数，一个记录某一数字最早出现的位置，一个记录某一数字最后出现的位置。"
   ]
  },
  {
   "cell_type": "code",
   "execution_count": 3,
   "metadata": {},
   "outputs": [
    {
     "data": {
      "text/plain": [
       "2"
      ]
     },
     "execution_count": 3,
     "metadata": {},
     "output_type": "execute_result"
    }
   ],
   "source": [
    "def findShortestSubArray(nums) -> int:\n",
    "    cnts, left, right = dict(), dict(), dict()\n",
    "\n",
    "    for idx, num in enumerate(nums):\n",
    "        cnts.setdefault(num, 0)\n",
    "        cnts[num] += 1\n",
    "\n",
    "        if num not in left:\n",
    "            left[num] = idx\n",
    "\n",
    "        right[num] = idx\n",
    "\n",
    "    degree = max(cnts.values())\n",
    "    res = 0x7FFFFFFF\n",
    "\n",
    "    for num in cnts.keys():\n",
    "        if cnts[num] == degree:\n",
    "            res = min(res, right[num]-left[num]+1)\n",
    "\n",
    "    return res"
   ]
  },
  {
   "cell_type": "code",
   "execution_count": null,
   "metadata": {},
   "outputs": [],
   "source": []
  }
 ],
 "metadata": {
  "hide_input": false,
  "kernelspec": {
   "display_name": "Python 3",
   "language": "python",
   "name": "python3"
  },
  "language_info": {
   "codemirror_mode": {
    "name": "ipython",
    "version": 3
   },
   "file_extension": ".py",
   "mimetype": "text/x-python",
   "name": "python",
   "nbconvert_exporter": "python",
   "pygments_lexer": "ipython3",
   "version": "3.7.4"
  },
  "toc": {
   "base_numbering": 1,
   "nav_menu": {},
   "number_sections": true,
   "sideBar": true,
   "skip_h1_title": false,
   "title_cell": "Table of Contents",
   "title_sidebar": "Contents",
   "toc_cell": false,
   "toc_position": {},
   "toc_section_display": true,
   "toc_window_display": false
  }
 },
 "nbformat": 4,
 "nbformat_minor": 2
}
