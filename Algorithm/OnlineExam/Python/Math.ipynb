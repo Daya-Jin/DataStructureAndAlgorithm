{
 "cells": [
  {
   "cell_type": "markdown",
   "metadata": {},
   "source": [
    "[Task Scheduler](https://leetcode.com/problems/task-scheduler/)。给一大写字母的数组，代表$26$种任务的集合。CPU任一时间片可以挑选任一任务去执行，但是同种任务的两次执行之间需要有$n$个时间片的间隔。问执行完所有任务最少需要多少时间片。如```tasks = [\"A\",\"A\",\"A\",\"B\",\"B\",\"B\"]```，```n = 2```，执行时间片为：```A -> B -> idle -> A -> B -> idle -> A -> B```。\n",
    "\n",
    "思路：首先对同种任务进行计数，同种任务之间的执行至少要间隔$n$，那么易得最短时间取决于数量最多的那种任务。易得完成$k$个同种任务至少需要$(k-1)*(n+1)+1$个时间片，若数量最多的任务有$s$种，那么至少需要$(k-1)*(n+1)+s$个时间片。"
   ]
  },
  {
   "cell_type": "code",
   "execution_count": 3,
   "metadata": {},
   "outputs": [
    {
     "data": {
      "text/plain": [
       "8"
      ]
     },
     "execution_count": 3,
     "metadata": {},
     "output_type": "execute_result"
    }
   ],
   "source": [
    "def leastInterval(tasks, n: int) -> int:\n",
    "    res = len(tasks)\n",
    "\n",
    "    cnts = [0]*26\n",
    "    for ch in tasks:\n",
    "        cnts[ord(ch)-65] += 1\n",
    "    cnts.sort(reverse=True)\n",
    "\n",
    "    neet_t = (cnts[0]-1)*(n+1)\n",
    "    for cnt in cnts:\n",
    "        if cnt == cnts[0]:\n",
    "            neet_t += 1\n",
    "\n",
    "    return max(res, neet_t)"
   ]
  },
  {
   "cell_type": "markdown",
   "metadata": {},
   "source": [
    "[Fraction to Recurring Decimal](https://leetcode.com/problems/fraction-to-recurring-decimal/)。将分数转换成小数形式，当出现循环小数时，将循环部分加上括号。\n",
    "\n",
    "思路：首先明确分数中分子为除数，分母为被除数。手动做一下除法就不难发现，当某一次的余数在之前出现过时，肯定就会出现循环小数，所以该题解法是先正常的做除法，并记录每一次余数出现的位置，当余数重复时即出现循环小数。"
   ]
  },
  {
   "cell_type": "code",
   "execution_count": 4,
   "metadata": {},
   "outputs": [],
   "source": [
    "def fractionToDecimal(numerator: int, denominator: int) -> str:\n",
    "    res = '-' if numerator*denominator < 0 else ''    # 符号\n",
    "    numerator, denominator = abs(numerator), abs(denominator)\n",
    "    integer, remainder = divmod(numerator, denominator)    # 首个商与余数\n",
    "    res += str(integer)\n",
    "\n",
    "    if remainder:\n",
    "        res += '.'\n",
    "    else:\n",
    "        return res\n",
    "\n",
    "    remainder_idx = dict()    # 记录余数位置的字典\n",
    "    while remainder:\n",
    "        if remainder not in remainder_idx:\n",
    "            remainder_idx[remainder] = len(res)\n",
    "            integer, remainder = divmod(remainder*10, denominator)\n",
    "            res += str(integer)\n",
    "        else:\n",
    "            idx = remainder_idx[remainder]\n",
    "            res = '{}({})'.format(res[:idx], res[idx:])\n",
    "            break\n",
    "\n",
    "    return res"
   ]
  },
  {
   "cell_type": "markdown",
   "metadata": {},
   "source": [
    "求倒数第$Q$个排列，**2019网易笔试题**。给$n$个自然数，然后指定其中一个排列，假设选中的是第$Q$个排列，求倒数第$Q$个排列。如$n=3$，选中排列$123$，它是第$1$个排列，那么要求倒数第$i$个排列$321$。\n",
    "\n",
    "思路：找规律，第$Q$个排列和倒数第$Q$个排列，对应位的数字相加恰好等于$n+1$。"
   ]
  },
  {
   "cell_type": "code",
   "execution_count": 5,
   "metadata": {},
   "outputs": [
    {
     "data": {
      "text/plain": [
       "321"
      ]
     },
     "execution_count": 5,
     "metadata": {},
     "output_type": "execute_result"
    }
   ],
   "source": [
    "def func(n, num):\n",
    "    num = list(str(num))\n",
    "    res = list()\n",
    "\n",
    "    for bit in num:\n",
    "        res.append(n+1-int(bit))\n",
    "\n",
    "    return int(''.join(map(str, res)))"
   ]
  },
  {
   "cell_type": "markdown",
   "metadata": {},
   "source": [
    "[Beautiful Arrangement II](https://leetcode.com/problems/beautiful-arrangement-ii/)。给$n$个正整数，重排这些正整数，使得任意两相邻值的绝对差值只有$k$种取值。如$[1,2,3]$只有一种绝对差值$1$。\n",
    "\n",
    "思路：找规律。易得```func(4,1)=[1,2,3,4]```，```func(4,2)=[4,1,2,3]```，```func(4,3)=[1,4,2,3]```。发现交替放置$k$个大小值如```[1,4,3,2]```可以构成$k-1$种差值，而令最后一种差值为$1$，顺序放置剩余的元素即可。在$[1,n]$区间设置首位双指针，若$k$为奇数，则放置$i$；若$k$为偶数则放置$j$。"
   ]
  },
  {
   "cell_type": "code",
   "execution_count": 11,
   "metadata": {},
   "outputs": [
    {
     "data": {
      "text/plain": [
       "[6, 1, 5, 2, 3, 4]"
      ]
     },
     "execution_count": 11,
     "metadata": {},
     "output_type": "execute_result"
    }
   ],
   "source": [
    "def constructArray(n: int, k: int):\n",
    "    res = list()\n",
    "    i, j = 1, n\n",
    "    while i <= j:\n",
    "        if k > 1:\n",
    "            if k & 1:    # 奇数\n",
    "                res.append(i)\n",
    "                i += 1\n",
    "            else:    # 偶数\n",
    "                res.append(j)\n",
    "                j -= 1\n",
    "            k -= 1\n",
    "        else:\n",
    "            res.append(i)\n",
    "            i += 1\n",
    "    return res"
   ]
  },
  {
   "cell_type": "markdown",
   "metadata": {},
   "source": [
    "[Number of Digit One](https://leetcode.com/problems/number-of-digit-one/)。求$[1,n]$范围内$1$出现的次数。\n",
    "\n",
    "思路：直接取出最大值$n$，由低往高依次将每一位都置成$1$，然后判断高位与地位各有多少种取值。设由掩码$mask$提取出的数字是$idx$，有以下三种情况;\n",
    "- $idx=0$，该位若要置$1$的话那么高位数字只能先减$1$，高位数字在$[0,high-1]$任取，低位数字任取，即$high\\times{mask}$；\n",
    "- $idx=1$，当高位数字在$[0,high-1]$时，低位数字任取，当高位数字取最大值时，低位只能在$[0,low]$里取值，即$high\\times{mask}+low+1$；\n",
    "- $idx>1$，高位数字可在$[0,high]$中任取，低位数字任取，即$(high+1)\\times{mask}$。"
   ]
  },
  {
   "cell_type": "code",
   "execution_count": 2,
   "metadata": {},
   "outputs": [
    {
     "data": {
      "text/plain": [
       "6"
      ]
     },
     "execution_count": 2,
     "metadata": {},
     "output_type": "execute_result"
    }
   ],
   "source": [
    "def countDigitOne(n: int) -> int:\n",
    "    res = 0\n",
    "    mask = 1\n",
    "\n",
    "    while mask <= n:\n",
    "        idx = n//mask % 10\n",
    "        high = n//mask//10\n",
    "        low = n % mask\n",
    "\n",
    "        if idx == 0:\n",
    "            res += high*mask\n",
    "        elif idx == 1:\n",
    "            res += high*mask+low+1\n",
    "        else:\n",
    "            res += (high+1)*mask\n",
    "\n",
    "        mask *= 10\n",
    "\n",
    "    return res"
   ]
  },
  {
   "cell_type": "markdown",
   "metadata": {},
   "source": [
    "[Nth Digit](https://leetcode.com/problems/nth-digit/)。给一自然数的顺序排序，求该字符串中的第$n$位数字。\n",
    "\n",
    "思路：$1$位数有$9$个数字，$2$位数有$90$个数字，$3$位数有$900$个数字。按该规律$n$位数有$9\\times{10}^{n-1}$个数字。"
   ]
  },
  {
   "cell_type": "code",
   "execution_count": 40,
   "metadata": {},
   "outputs": [
    {
     "name": "stdout",
     "output_type": "stream",
     "text": [
      "1 2 10\n"
     ]
    },
    {
     "data": {
      "text/plain": [
       "'0'"
      ]
     },
     "execution_count": 40,
     "metadata": {},
     "output_type": "execute_result"
    }
   ],
   "source": [
    "def findNthDigit(n: int) -> int:\n",
    "    if n < 10:\n",
    "        return n\n",
    "\n",
    "    bits = 2\n",
    "    n -= 10\n",
    "\n",
    "    while n > 9*(10**(bits-1))*bits:\n",
    "        n -= 9*(10**(bits-1))*bits\n",
    "        bits += 1\n",
    "\n",
    "    start = 10**(bits-1)    # bits位数字的起点数字，1，10，100，...\n",
    "    number = start+n//bits  # 第n位在哪一个数字中\n",
    "\n",
    "    return str(number)[n % bits]"
   ]
  },
  {
   "cell_type": "markdown",
   "metadata": {},
   "source": [
    "[Count Primes](https://leetcode.com/problems/count-primes/)。计数$n$以内的质数个数。\n",
    "\n",
    "思路：设置一个长度为$n$的状态数组，以倍数法来标记非质数，然后对该数组求和即可。有一个数学定理，$n$以内的最大质数不会超过$\\sqrt{n}$。"
   ]
  },
  {
   "cell_type": "code",
   "execution_count": 61,
   "metadata": {},
   "outputs": [
    {
     "data": {
      "text/plain": [
       "4"
      ]
     },
     "execution_count": 61,
     "metadata": {},
     "output_type": "execute_result"
    }
   ],
   "source": [
    "def countPrimes(self, n: int) -> int:\n",
    "    if n < 2:\n",
    "        return 0\n",
    "\n",
    "    import math\n",
    "    thresh = int(math.sqrt(n))\n",
    "    isPrime = [True]*n\n",
    "    isPrime[0] = isPrime[1] = False    # 0,1不算质数\n",
    "\n",
    "    for i in range(2, thresh+1):\n",
    "        if isPrime[i]:\n",
    "            isPrime[i*i:n:i] = [False]*len(isPrime[i*i:n:i])\n",
    "\n",
    "    return sum(isPrime)"
   ]
  },
  {
   "cell_type": "markdown",
   "metadata": {},
   "source": [
    "[Roman to Integer](https://leetcode.com/problems/roman-to-integer/)。**2019老虎证券笔试题**。罗马数字转阿拉伯数字。\n",
    "\n",
    "思路：找规律题。如$IV=4$而$VI=6$，若两罗马字符$ab$中$a\\ge{b}$，说明$a$是正的，反之表明$a$是负的。"
   ]
  },
  {
   "cell_type": "code",
   "execution_count": 67,
   "metadata": {},
   "outputs": [
    {
     "data": {
      "text/plain": [
       "False"
      ]
     },
     "execution_count": 67,
     "metadata": {},
     "output_type": "execute_result"
    }
   ],
   "source": [
    "def romanToInt(s: str) -> int:\n",
    "    lookup = {'I': 1, 'V': 5, 'X': 10, 'L': 50,\n",
    "              'C': 100, 'D': 500, 'M': 1000}\n",
    "\n",
    "    res = 0\n",
    "    for i in range(len(s)-1):\n",
    "        if lookup[s[i]] < lookup[s[i+1]]:\n",
    "            res -= lookup[s[i]]\n",
    "        else:\n",
    "            res += lookup[s[i]]\n",
    "\n",
    "    return res+lookup[s[-1]]"
   ]
  },
  {
   "cell_type": "markdown",
   "metadata": {},
   "source": [
    "[Gray Code](https://leetcode.com/problems/gray-code/)。指定二进制的位数$n$，输出在该位数下的十进制格雷码序列。\n",
    "\n",
    "思路：纯规律题。\n",
    "$$\n",
    "\\begin{align}\n",
    "n=0 \\ & [0] \\\\\n",
    "n=1 \\ & [0,1] \\\\\n",
    "n=2 \\ & [00,01,11,10] \\\\\n",
    "n=3 \\ & [000,001,011,010,110,111,101,100] \\\\\n",
    "\\end{align}\n",
    "$$\n",
    "观察到每下一级的格雷码可以对半分成两份，前半部分与上一级数字相同，只是在高位加$0$；而后半部分则是上一级序列的逆序，然后再高位加$1$，相当于加$2^{(i-1)}$。"
   ]
  },
  {
   "cell_type": "code",
   "execution_count": 3,
   "metadata": {},
   "outputs": [
    {
     "data": {
      "text/plain": [
       "[0, 1, 3, 2]"
      ]
     },
     "execution_count": 3,
     "metadata": {},
     "output_type": "execute_result"
    }
   ],
   "source": [
    "def grayCode(n: int):\n",
    "    res=[0]\n",
    "    if n==0:\n",
    "        return res\n",
    "    \n",
    "    for i in range(1,n+1):\n",
    "        res.extend([item+2**(i-1) for item in res[::-1]])\n",
    "        \n",
    "    return res"
   ]
  },
  {
   "cell_type": "markdown",
   "metadata": {},
   "source": [
    "[1-bit and 2-bit Characters](https://leetcode.com/problems/1-bit-and-2-bit-characters/)。现有两种特殊字符，第一种字符被编码成$0$，第二种字符编码成$10$和$11$。现给一编码串，判断该编码串的是否是以第一种字符结尾。\n",
    "\n",
    "思路：两种编码有明显的区别，第一种字符编码以$0$开头，一位；第二种字符编码以$1$开头，两位。使用工作指针线性扫描字串，遇到$0$前进一位，遇到$1$前进两位，判断指针能否停在最后一位即可。"
   ]
  },
  {
   "cell_type": "code",
   "execution_count": 5,
   "metadata": {},
   "outputs": [
    {
     "data": {
      "text/plain": [
       "True"
      ]
     },
     "execution_count": 5,
     "metadata": {},
     "output_type": "execute_result"
    }
   ],
   "source": [
    "def isOneBitCharacter(bits) -> bool:\n",
    "    n = len(bits)\n",
    "    idx = 0\n",
    "\n",
    "    while idx < n-1:\n",
    "        if bits[idx] == 0:\n",
    "            idx += 1\n",
    "        else:\n",
    "            idx += 2\n",
    "\n",
    "    return idx == n-1"
   ]
  },
  {
   "cell_type": "markdown",
   "metadata": {},
   "source": [
    "[Self Dividing Numbers](https://leetcode.com/problems/self-dividing-numbers/)。给定一个范围，求出范围内所有的SDN。SDN定义为能被自身中所有数字整除的数，并且SDN不允许包含0。\n",
    "\n",
    "思路：逻辑实现题。"
   ]
  },
  {
   "cell_type": "code",
   "execution_count": 11,
   "metadata": {},
   "outputs": [
    {
     "data": {
      "text/plain": [
       "[1, 2, 3, 4, 5, 6, 7, 8, 9, 11, 12, 15, 22]"
      ]
     },
     "execution_count": 11,
     "metadata": {},
     "output_type": "execute_result"
    }
   ],
   "source": [
    "def selfDividingNumbers(left: int, right: int):\n",
    "    res=list()\n",
    "    if left>right:\n",
    "        return res\n",
    "    \n",
    "    for num in range(left,right+1):\n",
    "        tmp=num\n",
    "        \n",
    "        while tmp:\n",
    "            bit=tmp%10\n",
    "            if bit==0 or num%bit!=0:\n",
    "                break\n",
    "            else:\n",
    "                tmp//=10\n",
    "                \n",
    "        if tmp==0:\n",
    "            res.append(num)\n",
    "            \n",
    "    return res"
   ]
  },
  {
   "cell_type": "code",
   "execution_count": null,
   "metadata": {},
   "outputs": [],
   "source": []
  }
 ],
 "metadata": {
  "hide_input": false,
  "kernelspec": {
   "display_name": "Python 3",
   "language": "python",
   "name": "python3"
  },
  "language_info": {
   "codemirror_mode": {
    "name": "ipython",
    "version": 3
   },
   "file_extension": ".py",
   "mimetype": "text/x-python",
   "name": "python",
   "nbconvert_exporter": "python",
   "pygments_lexer": "ipython3",
   "version": "3.7.4"
  },
  "toc": {
   "base_numbering": 1,
   "nav_menu": {},
   "number_sections": true,
   "sideBar": true,
   "skip_h1_title": false,
   "title_cell": "Table of Contents",
   "title_sidebar": "Contents",
   "toc_cell": false,
   "toc_position": {},
   "toc_section_display": true,
   "toc_window_display": false
  }
 },
 "nbformat": 4,
 "nbformat_minor": 2
}
