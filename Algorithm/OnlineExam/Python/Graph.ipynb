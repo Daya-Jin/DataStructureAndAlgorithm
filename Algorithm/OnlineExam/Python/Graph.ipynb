{
 "cells": [
  {
   "cell_type": "markdown",
   "metadata": {},
   "source": [
    "拼多多2019笔试题。给若干任务，每个任务有完成时间与依赖。现限制单线程工作，求一个使得平均响应时间最小的完成方案。\n",
    "\n",
    "思路：拓扑排序的变种。"
   ]
  },
  {
   "cell_type": "code",
   "execution_count": null,
   "metadata": {},
   "outputs": [],
   "source": [
    "import sys\n",
    "\n",
    "n, m = map(int, sys.stdin.readline().strip().split())\n",
    "d_arr = [0] * n  # 入度数组\n",
    "adj_table = {job_idx: list() for job_idx in range(n)}\n",
    "ts = list(map(int, sys.stdin.readline().strip().split()))\n",
    "for _ in range(m):\n",
    "    # from, to\n",
    "    f, t = map(int, sys.stdin.readline().strip().split())\n",
    "    if f - 1 not in adj_table:\n",
    "        adj_table[f - 1] = list()\n",
    "    adj_table[f - 1].append(t - 1)\n",
    "    d_arr[t - 1] += 1\n",
    "\n",
    "\n",
    "def func(n, d_arr, ts, adj_table):\n",
    "    q = list()\n",
    "    t = 0\n",
    "    res = list()\n",
    "\n",
    "    # 找到第一个入度为0且所需时间最少的任务\n",
    "    cur_min = 0x7FFFFFFF\n",
    "    cur_job = -1\n",
    "    for job_idx, d_in in enumerate(d_arr):\n",
    "        if d_in == 0 and ts[job_idx] < cur_min:\n",
    "            cur_job, cur_min = job_idx, ts[job_idx]\n",
    "    q.append(cur_job)\n",
    "\n",
    "    # 完成n个任务\n",
    "    for epoch in range(n):\n",
    "        cur_job = q.pop(0)\n",
    "        d_arr[cur_job] -= 1\n",
    "        res.append(cur_job+1)\n",
    "\n",
    "        if epoch < n:\n",
    "            for post_job in adj_table[cur_job]:\n",
    "                d_arr[post_job] -= 1\n",
    "\n",
    "            bak_job = -1\n",
    "            cur_min = 0x7FFFFFFF\n",
    "            for job_idx, d_in in enumerate(d_arr):\n",
    "                if d_in == 0 and ts[job_idx] < cur_min:\n",
    "                    bak_job, cur_min = job_idx, ts[job_idx]\n",
    "            q.append(bak_job)\n",
    "\n",
    "    return res"
   ]
  },
  {
   "cell_type": "markdown",
   "metadata": {},
   "source": [
    "[Network Delay Time](https://leetcode.com/problems/network-delay-time/)。给一个有$N$个节点的有向图，再给出一若干节点之间的有向距离```times```。现从节点$K$发出一条消息，问经过多少时间后网络中的所有节点均已收到消息。索引从$1$开始。\n",
    "\n",
    "思路：BFS。首先维护一个长度$N$的数组来表示各节点收到消息的时间，用大值初始化，其中```arr[K]=0```。然后开始BFS，所有节点只保留收到消息的最小时间。难点在于如何避免重复访问，该题数据是有环的。设置访问数组是错误的，会漏边；正确的做法是**只将那些更新过时间的邻居节点加入队列**。"
   ]
  },
  {
   "cell_type": "code",
   "execution_count": 2,
   "metadata": {},
   "outputs": [
    {
     "data": {
      "text/plain": [
       "2"
      ]
     },
     "execution_count": 2,
     "metadata": {},
     "output_type": "execute_result"
    }
   ],
   "source": [
    "def networkDelayTime(times, N: int, K: int) -> int:\n",
    "    adj_table = {idx: list() for idx in range(1, N+1)}\n",
    "    for f, t, time in times:\n",
    "        adj_table[f].append((t, time))\n",
    "\n",
    "    res = [0x7FFFFFFF]*(N+1)\n",
    "    res[K] = 0\n",
    "    q = [(K, 0)]    # (node_idx,cur_time)\n",
    "\n",
    "    while q:\n",
    "        vis_node, cur_time = q.pop(0)\n",
    "\n",
    "        for t, time in adj_table[vis_node]:\n",
    "            if cur_time+time < res[t]:    # 只有当时间更新了才加入队列，这是避免重复访问的关键\n",
    "                res[t] = cur_time+time\n",
    "                q.append((t, cur_time+time))\n",
    "\n",
    "    return max(res[1:]) if max(res[1:]) < 0x7FFFFFFF else -1"
   ]
  },
  {
   "cell_type": "markdown",
   "metadata": {},
   "source": [
    "[Possible Bipartition](https://leetcode.com/problems/possible-bipartition/)。染色问题，给$N$个点，然后给出这些点的连接关系，现有两种颜色，直接相连的点不能同色。判断能否存在染色方案。\n",
    "\n",
    "思路：BFS。因为只有两种颜色，首先随便选一个点进行染色，那么与它相邻的所有点均只能染另外一种颜色。设置一个颜色数组，记录每一个点的两种颜色，同时还起到一个访问数组的作用。"
   ]
  },
  {
   "cell_type": "code",
   "execution_count": 3,
   "metadata": {},
   "outputs": [
    {
     "data": {
      "text/plain": [
       "True"
      ]
     },
     "execution_count": 3,
     "metadata": {},
     "output_type": "execute_result"
    }
   ],
   "source": [
    "def possibleBipartition(N: int, dislikes) -> bool:\n",
    "    adj_table = {idx: list() for idx in range(N)}\n",
    "    for item in dislikes:\n",
    "        i, j = item[0]-1, item[1]-1\n",
    "        adj_table[i].append(j)\n",
    "        adj_table[j].append(i)\n",
    "\n",
    "    colors = [None]*N\n",
    "    for idx in range(N):\n",
    "        if colors[idx] is None:\n",
    "            q = [idx]\n",
    "            colors[idx] = True\n",
    "            while q:\n",
    "                vis_node = q.pop(0)\n",
    "                for neighbor in adj_table[vis_node]:\n",
    "                    if colors[neighbor] is None:    # 未被染色，染色并入队\n",
    "                        colors[neighbor] = not colors[vis_node]\n",
    "                        q.append(neighbor)\n",
    "                    elif colors[neighbor] == colors[vis_node]:    # 冲突返回false\n",
    "                        return False\n",
    "                    else:\n",
    "                        continue\n",
    "\n",
    "    return True"
   ]
  },
  {
   "cell_type": "markdown",
   "metadata": {},
   "source": [
    "[Is Graph Bipartite?](https://leetcode.com/problems/is-graph-bipartite/)。给一图，判断该图是否是二分图。二分图即把该图的所有节点分到两个集合中，每个集合中的任意两个节点都不存在边。\n",
    "\n",
    "思路：染色问题。即判断所有直接相连的点能否染成不同的颜色。维护一个染色数组，初始化为None，然后对图做BFS。因为图可能存在孤岛，所以当队列为空时，需要随即取出一个未染色的点加入队列。"
   ]
  },
  {
   "cell_type": "code",
   "execution_count": 7,
   "metadata": {},
   "outputs": [
    {
     "data": {
      "text/plain": [
       "False"
      ]
     },
     "execution_count": 7,
     "metadata": {},
     "output_type": "execute_result"
    }
   ],
   "source": [
    "def isBipartite(graph) -> bool:\n",
    "    n = len(graph)\n",
    "    color_arr = [None]*n\n",
    "    color_arr[0] = True\n",
    "    q = [0]\n",
    "\n",
    "    while q:\n",
    "        vis_node = q.pop(0)\n",
    "        for neighbor in graph[vis_node]:\n",
    "            if color_arr[neighbor] == color_arr[vis_node]:\n",
    "                return False\n",
    "            else:\n",
    "                if color_arr[neighbor] is None:\n",
    "                    color_arr[neighbor] = not color_arr[vis_node]\n",
    "                    q.append(neighbor)\n",
    "\n",
    "        if not q:    # 当出现孤岛时\n",
    "            for idx in range(n):\n",
    "                if color_arr[idx] is None:\n",
    "                    color_arr[idx] = True\n",
    "                    q.append(idx)\n",
    "                    break\n",
    "\n",
    "    return True"
   ]
  },
  {
   "cell_type": "markdown",
   "metadata": {},
   "source": [
    "[Find Eventual Safe States](https://leetcode.com/problems/find-eventual-safe-states/)。以数组的形式给一有向图，要求所有满足以下性质的节点：从该节点出发，无论怎么走都会到达一个最终节点。\n",
    "\n",
    "思路：该题其实就是逆拓扑排序，首先将整个图反向，然后开始进行拓扑排序，能排序的点即是所求。"
   ]
  },
  {
   "cell_type": "code",
   "execution_count": 8,
   "metadata": {},
   "outputs": [
    {
     "data": {
      "text/plain": [
       "[5, 6, 2, 4]"
      ]
     },
     "execution_count": 8,
     "metadata": {},
     "output_type": "execute_result"
    }
   ],
   "source": [
    "def eventualSafeNodes(graph):\n",
    "    n = len(graph)\n",
    "    adj_table = {idx: list() for idx in range(n)}\n",
    "    D_in = [0]*n\n",
    "\n",
    "    for idx, l in enumerate(graph):\n",
    "        D_in[idx] = len(l)\n",
    "        for i in l:\n",
    "            adj_table[i].append(idx)\n",
    "\n",
    "    q = list()\n",
    "    for idx in range(n):\n",
    "        if D_in[idx] == 0:\n",
    "            q.append(idx)\n",
    "\n",
    "    res = list()\n",
    "    while q:\n",
    "        vis_node = q.pop(0)\n",
    "        res.append(vis_node)\n",
    "        D_in[vis_node] -= 1\n",
    "        for neighbor in adj_table[vis_node]:\n",
    "            D_in[neighbor] -= 1\n",
    "            if D_in[neighbor] == 0:\n",
    "                q.append(neighbor)\n",
    "\n",
    "    return sorted(res)"
   ]
  },
  {
   "cell_type": "markdown",
   "metadata": {},
   "source": [
    "[All Nodes Distance K in Binary Tree](https://leetcode.com/problems/all-nodes-distance-k-in-binary-tree/)。给一二叉树与一个目标节点```target```，在二叉树中找到所有跟```target```距离为$K$的节点。\n",
    "\n",
    "思路：将二叉树转成无向图就好做了，直接以```target```为起点做DFS即可。"
   ]
  },
  {
   "cell_type": "code",
   "execution_count": null,
   "metadata": {},
   "outputs": [],
   "source": [
    "def distanceK(root, target, K):\n",
    "    graph = dict()\n",
    "\n",
    "    def build_G(graph, root):\n",
    "        if not root:\n",
    "            return\n",
    "        graph.setdefault(root, list())\n",
    "        if root.left:\n",
    "            graph.setdefault(root.left, list())\n",
    "            graph[root].append(root.left)\n",
    "            graph[root.left].append(root)\n",
    "            build_G(graph, root.left)\n",
    "        if root.right:\n",
    "            graph.setdefault(root.right, list())\n",
    "            graph[root].append(root.right)\n",
    "            graph[root.right].append(root)\n",
    "            build_G(graph, root.right)\n",
    "\n",
    "    build_G(graph, root)\n",
    "    res = list()\n",
    "    visited = {ptr: False for ptr in list(graph.keys())}\n",
    "\n",
    "    def dfs(idx, path):\n",
    "        if path == K:\n",
    "            res.append(idx.val)\n",
    "            return\n",
    "\n",
    "        for neighbor in graph[idx]:\n",
    "            if not visited[neighbor]:\n",
    "                visited[idx] = True\n",
    "                dfs(neighbor, path+1)\n",
    "                visited[idx] = False\n",
    "\n",
    "    dfs(target, 0)\n",
    "    return res"
   ]
  },
  {
   "cell_type": "markdown",
   "metadata": {},
   "source": [
    "[二分图最大匹配](https://uoj.ac/problem/78)。给一二分图，有A、B两种节点，给出最大匹配的数量及匹配方案。\n",
    "\n",
    "思路：匈牙利算法求解最大匹配。"
   ]
  },
  {
   "cell_type": "code",
   "execution_count": null,
   "metadata": {},
   "outputs": [],
   "source": [
    "import sys\n",
    "\n",
    "\n",
    "def data_load():\n",
    "    n_u, n_v, n_row = map(int, sys.stdin.readline().strip().split())\n",
    "    adj_tab = {node_idx: list() for node_idx in range(n_v)}  # 仅记录B类型节点的邻接表即可\n",
    "\n",
    "    for _ in range(n_row):\n",
    "        u, v = map(int, sys.stdin.readline().strip().split())\n",
    "        adj_tab[v - 1].append(u - 1)  # 输入下标从1开始，改成0\n",
    "\n",
    "    return n_u, n_v, adj_tab\n",
    "\n",
    "\n",
    "def find_aug_path_dfs(cur_node: int, alter_flag: list, adj_tab: dict) -> bool:\n",
    "    '''\n",
    "    dfs寻找增广路径\n",
    "    :param cur_node: 当前节点，只会根据交替路径在单边节点中移动\n",
    "    :param alter_flag: 交替路径访问标记\n",
    "    :param adj_tab: 邻接表\n",
    "    :return:\n",
    "    '''\n",
    "    for neighbor in adj_tab[cur_node]:  # 遍历所有邻居\n",
    "        if not alter_flag[neighbor]:  # 避免环路\n",
    "            alter_flag[neighbor] = 1\n",
    "            # 利用短路特性，若找到一个未匹配的邻居，则说明找到一条更长的增广路径\n",
    "            # 若邻居已被匹配，则直接跳过邻居移动到邻居的匹配节点，保证了cur_node的类型不变\n",
    "            # unmatch -> match -> match -> unmatch，cur_node会从位置1跳到位置3\n",
    "            if (matchs[neighbor] < 0) or (find_aug_path_dfs(matchs[neighbor], alter_flag, adj_tab)):\n",
    "                matchs[neighbor] = cur_node    # 在记录匹配时，邻居(后一个节点)作为键值\n",
    "                return True\n",
    "\n",
    "    return False\n",
    "\n",
    "\n",
    "if __name__ == \"__main__\":\n",
    "    n_a, n_b, adj_tab = data_load()\n",
    "\n",
    "    matchs = [-1] * n_a  # 每个a匹配的b\n",
    "\n",
    "    res = 0\n",
    "    for i in range(n_b):  # 遍历图中B类型的所有点\n",
    "        alter_flag = [0] * n_a  # 交替路径访问标记，仅需要记录A节点的访问情况即可\n",
    "        if find_aug_path_dfs(i, alter_flag, adj_tab):\n",
    "            res += 1\n",
    "\n",
    "    print(res)\n",
    "    for a in range(n_a):\n",
    "        print(matchs[a] + 1, end=' ')  # 下标从0开始转成从1开始"
   ]
  }
 ],
 "metadata": {
  "hide_input": false,
  "kernelspec": {
   "display_name": "Python 3",
   "language": "python",
   "name": "python3"
  },
  "language_info": {
   "codemirror_mode": {
    "name": "ipython",
    "version": 3
   },
   "file_extension": ".py",
   "mimetype": "text/x-python",
   "name": "python",
   "nbconvert_exporter": "python",
   "pygments_lexer": "ipython3",
   "version": "3.8.6"
  },
  "toc": {
   "base_numbering": 1,
   "nav_menu": {},
   "number_sections": true,
   "sideBar": true,
   "skip_h1_title": false,
   "title_cell": "Table of Contents",
   "title_sidebar": "Contents",
   "toc_cell": false,
   "toc_position": {},
   "toc_section_display": true,
   "toc_window_display": false
  }
 },
 "nbformat": 4,
 "nbformat_minor": 4
}