{
 "cells": [
  {
   "cell_type": "markdown",
   "metadata": {},
   "source": [
    "[Jump Game](https://leetcode.com/problems/jump-game/)。给定一数组，数组中的数字代表弹簧的最大弹力，即最远能往前走多远，判断能否走到最后一个单元。\n",
    "\n",
    "思路：贪心算法，维护一个最远距离的变量。扫描数组，首先判断该位置能否到达，即$idx<=max\\_reach$，若能到达，再更新最远距离。"
   ]
  },
  {
   "cell_type": "code",
   "execution_count": 1,
   "metadata": {},
   "outputs": [],
   "source": [
    "def canJump(nums) -> bool:\n",
    "    n = len(nums)\n",
    "    if n < 2:\n",
    "        return True\n",
    "\n",
    "    max_reach = 0\n",
    "\n",
    "    for idx, num in enumerate(nums):\n",
    "        if idx <= max_reach:\n",
    "            max_reach = max(max_reach, num+idx)\n",
    "        if max_reach >= n-1:\n",
    "            return True\n",
    "\n",
    "    return False"
   ]
  },
  {
   "cell_type": "markdown",
   "metadata": {},
   "source": [
    "[Container With Most Water](https://leetcode.com/problems/container-with-most-water/)。给一数组，每一个数代表的是木板高度，每个木板的横坐标之差为1，找到两个木板，使得该两木板与x轴构成的容器能装下最多的水。\n",
    "\n",
    "思路：假设左右两挡板中矮的那一块为下限，高的那一块为上限，那么任务就是尽量提高上下限。首尾双指针，每次舍弃较小的那一块挡板即可。"
   ]
  },
  {
   "cell_type": "code",
   "execution_count": 1,
   "metadata": {},
   "outputs": [
    {
     "data": {
      "text/plain": [
       "49"
      ]
     },
     "execution_count": 1,
     "metadata": {},
     "output_type": "execute_result"
    }
   ],
   "source": [
    "def maxArea(height) -> int:\n",
    "    n = len(height)\n",
    "    left, right = 0, n-1\n",
    "    res = min(height[left], height[right])*(right-left)\n",
    "\n",
    "    while left < right:\n",
    "        if height[left] < height[right]:\n",
    "            left += 1\n",
    "        else:\n",
    "            right -= 1\n",
    "\n",
    "        res = max(res, min(height[left], height[right])*(right-left))\n",
    "\n",
    "    return res"
   ]
  },
  {
   "cell_type": "markdown",
   "metadata": {},
   "source": [
    "[Teemo Attacking](https://leetcode.com/problems/teemo-attacking/)。提莫的攻击附带$k$s的中毒效果，中毒时间不累加，给出提莫的攻击时间线，求敌方单位的中毒总时间。\n",
    "\n",
    "思路：如果两次攻击间隔时间小于$k$s，那么效果肯定会被覆盖，扫描时间线做差即可。"
   ]
  },
  {
   "cell_type": "code",
   "execution_count": null,
   "metadata": {},
   "outputs": [],
   "source": [
    "def findPoisonedDuration(timeSeries, duration: int) -> int:\n",
    "    res=0\n",
    "    n=len(timeSeries)\n",
    "    if n==0:\n",
    "        return res\n",
    "\n",
    "    for i in range(1,n):\n",
    "        t_diff=timeSeries[i]-timeSeries[i-1]\n",
    "        if t_diff<duration:\n",
    "            res+=t_diff\n",
    "        else:\n",
    "            res+=duration\n",
    "\n",
    "    return res+duration"
   ]
  }
 ],
 "metadata": {
  "hide_input": false,
  "kernelspec": {
   "display_name": "Python 3",
   "language": "python",
   "name": "python3"
  },
  "language_info": {
   "codemirror_mode": {
    "name": "ipython",
    "version": 3
   },
   "file_extension": ".py",
   "mimetype": "text/x-python",
   "name": "python",
   "nbconvert_exporter": "python",
   "pygments_lexer": "ipython3",
   "version": "3.7.4"
  },
  "toc": {
   "base_numbering": 1,
   "nav_menu": {},
   "number_sections": true,
   "sideBar": true,
   "skip_h1_title": false,
   "title_cell": "Table of Contents",
   "title_sidebar": "Contents",
   "toc_cell": false,
   "toc_position": {},
   "toc_section_display": true,
   "toc_window_display": false
  }
 },
 "nbformat": 4,
 "nbformat_minor": 2
}
