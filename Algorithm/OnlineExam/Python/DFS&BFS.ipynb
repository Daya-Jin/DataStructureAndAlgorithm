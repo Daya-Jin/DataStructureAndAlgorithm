{
 "cells": [
  {
   "cell_type": "markdown",
   "metadata": {},
   "source": [
    "## DFS\n",
    "深度搜索的程序模版：\n",
    "\n",
    "```python\n",
    "def func():\n",
    "    res=list()\n",
    "    \n",
    "    def dfs(idx, path):\n",
    "        '''\n",
    "        dfs函数，因为是闭包，可以直接访问外部res\n",
    "        :param idx: 对于全局来说，dfs所在的位置\n",
    "        :param path: 目前为止dfs已探索的路径\n",
    "        :return:\n",
    "        '''\n",
    "        pass\n",
    "        dfs(idx + 1, path + something)    # 若path是地址引用，需要改成path[:]\n",
    "        pass\n",
    "\n",
    "    init_path = None  # 初始探索路径，一般为0，空字串或空列表\n",
    "    dfs(0, init_path)\n",
    "    return res\n",
    "```\n",
    "\n",
    "个人习惯把```dfs(idx, path)```写在外部函数中构成闭包，这样做的好处是可以减少```dfs```函数的参数量。需要注意的有两点：\n",
    "- 如果要在```dfs```函数中修改```res```的话，```res```必须是一个地址引用，如```list```；\n",
    "- 若```path```是一个地址引用，在递归调用```dfs```时需要传入一个副本```path[:]```。"
   ]
  },
  {
   "cell_type": "markdown",
   "metadata": {},
   "source": [
    "[Partition to K Equal Sum Subsets](https://leetcode.com/problems/partition-to-k-equal-sum-subsets/)。给一数组与一个正整数$k$，判断该数组能否被划分成和相等的$k$组数。[Matchsticks to Square](https://leetcode.com/problems/matchsticks-to-square/)。给若干火柴棍，以数组表示，每个元素表示火柴棍的长度，判断这些火柴棍能否拼成一个正方形。\n",
    "\n",
    "思路：虽然该题并不需要求出一个配置，但是还是通过DFS来做。首先易得每一组的和为$sum/k$，若数组中存在比该值大或者除不尽的情况则直接返回False。将数组排序，并初始化$k$个空数组，由大往小开始填充。第二题是第一题$k=4$时的特殊情况。"
   ]
  },
  {
   "cell_type": "code",
   "execution_count": 8,
   "metadata": {},
   "outputs": [],
   "source": [
    "def canPartitionKSubsets(nums, k: int) -> bool:\n",
    "    target, rem = divmod(sum(nums), k)\n",
    "    if rem:\n",
    "        return False\n",
    "\n",
    "    nums.sort()\n",
    "    if nums[-1] > target:\n",
    "        return False\n",
    "    while nums and nums[-1] == target:\n",
    "        nums.pop()\n",
    "        k -= 1\n",
    "\n",
    "    init_group = [0]*k\n",
    "\n",
    "    def dfs(group):\n",
    "        if not nums:\n",
    "            return True\n",
    "\n",
    "        cur_num = nums.pop()\n",
    "        for i in range(k):\n",
    "            if group[i]+cur_num <= target:\n",
    "                group[i] += cur_num\n",
    "                if dfs(group):\n",
    "                    return True\n",
    "                group[i] -= cur_num\n",
    "        nums.append(cur_num)\n",
    "        return False\n",
    "\n",
    "    return dfs(init_group)"
   ]
  },
  {
   "cell_type": "markdown",
   "metadata": {},
   "source": [
    "[Unique Paths III](https://leetcode.com/problems/unique-paths-iii/)。给以迷宫，其中$1$表示起点，$2$表示终点，$0$表示可通行，$-1$表示障碍物。求从起点到终点并访问一次所有$0$的位置，有多少种走法。\n",
    "\n",
    "思路：常规的DFS题。首先统计需要访问的点(0)的数目，然后找到起点开始dfs。"
   ]
  },
  {
   "cell_type": "code",
   "execution_count": 1,
   "metadata": {},
   "outputs": [],
   "source": [
    "def uniquePathsIII(grid):\n",
    "    rows, cols = len(grid), len(grid[0])\n",
    "    cnt = 0\n",
    "    for row in range(rows):\n",
    "        for col in range(cols):\n",
    "            if grid[row][col] == 0:\n",
    "                cnt += 1\n",
    "\n",
    "    res = 0\n",
    "    visited = [[False]*cols for _ in range(rows)]\n",
    "\n",
    "    def dfs(row, col, path):\n",
    "        nonlocal res\n",
    "\n",
    "        if row < 0 or row >= rows or col < 0 or col >= cols \\\n",
    "                or grid[row][col] == -1 or visited[row][col]:\n",
    "            return\n",
    "        if grid[row][col] == 2:\n",
    "            if path == cnt+1:\n",
    "                res += 1\n",
    "            return\n",
    "\n",
    "        directions = [(0, 1), (0, -1), (-1, 0), (1, 0)]\n",
    "        visited[row][col] = True\n",
    "        for x, y in directions:\n",
    "            dfs(row+x, col+y, path+1)\n",
    "        visited[row][col] = False\n",
    "\n",
    "    for row in range(rows):\n",
    "        for col in range(cols):\n",
    "            if grid[row][col] == 1:\n",
    "                dfs(row, col, 0)\n",
    "                return res"
   ]
  },
  {
   "cell_type": "markdown",
   "metadata": {},
   "source": [
    "[Palindrome Partitioning](https://leetcode.com/problems/palindrome-partitioning/)。给一字串，对其进行分割，使得每一段都是一个回文串。求所有可能的分割。\n",
    "\n",
    "思路：首先，字串所有的分割可以使用DFS。但是要保证每段分割都是回文，需要在每次分割时做一次判断。令DFS中的```idx```为当前分割的起点，遍历所有可能的切分点```i```，当```s[idx:i+1]```是回文时才做进一步的DFS。"
   ]
  },
  {
   "cell_type": "code",
   "execution_count": 5,
   "metadata": {},
   "outputs": [
    {
     "data": {
      "text/plain": [
       "[['a', 'a', 'b'], ['aa', 'b']]"
      ]
     },
     "execution_count": 5,
     "metadata": {},
     "output_type": "execute_result"
    }
   ],
   "source": [
    "def partition(s: str):\n",
    "    res = list()\n",
    "    n = len(s)\n",
    "\n",
    "    def isPalindrome(s):\n",
    "        if not s or len(s) == 1:\n",
    "            return True\n",
    "        else:\n",
    "            return s[0] == s[-1] and isPalindrome(s[1:-1])\n",
    "\n",
    "    def dfs(idx, path):\n",
    "        if idx >= n:\n",
    "            res.append(path)\n",
    "            return\n",
    "\n",
    "        for i in range(idx, n):\n",
    "            if isPalindrome(s[idx:i+1]):\n",
    "                dfs(i+1, path+[s[idx:i+1]])\n",
    "\n",
    "    dfs(0, list())\n",
    "    return res"
   ]
  },
  {
   "cell_type": "markdown",
   "metadata": {},
   "source": [
    "[Beautiful Arrangement](https://leetcode.com/problems/beautiful-arrangement/)。给$N$个自然数，对其进行排列，要求对任意位置都至少满足以下一条性质，其中索引从$1$开始。\n",
    "- ```arr[i]```可以被```i```整除；\n",
    "- 或者```i```可以被```arr[i]```整除。\n",
    "\n",
    "思路：DFS，每次选取一个未使用过且符合条件的数字加到```path```中，需要维护一个访问数组。"
   ]
  },
  {
   "cell_type": "code",
   "execution_count": 9,
   "metadata": {},
   "outputs": [
    {
     "data": {
      "text/plain": [
       "8"
      ]
     },
     "execution_count": 9,
     "metadata": {},
     "output_type": "execute_result"
    }
   ],
   "source": [
    "def countArrangement(N: int) -> int:\n",
    "    visited = [False]*(N+1)\n",
    "    res = list()\n",
    "\n",
    "    def dfs(idx, path):\n",
    "        if idx == (N+1):\n",
    "            res.append(path)\n",
    "            return\n",
    "\n",
    "        for num in range(1, N+1):\n",
    "            if not visited[num] and (num % idx == 0 or idx % num == 0):\n",
    "                visited[num] = True\n",
    "                dfs(idx+1, path+[num])\n",
    "                visited[num] = False\n",
    "\n",
    "    dfs(1, list())\n",
    "    return len(res)"
   ]
  },
  {
   "cell_type": "markdown",
   "metadata": {},
   "source": [
    "[Letter Case Permutation](https://leetcode.com/problems/letter-case-permutation/)。给一包含数字和字母的字串，其中字串中的字母可以随机更换大小写，求出所有可能的变换。\n",
    "\n",
    "思路：DFS，```idx```表示工作指针，首先判断```s[idx]```是否是字母，若是字母，则分别对大小写进行递归。"
   ]
  },
  {
   "cell_type": "code",
   "execution_count": 18,
   "metadata": {},
   "outputs": [
    {
     "data": {
      "text/plain": [
       "['A1B2', 'A1b2', 'a1B2', 'a1b2']"
      ]
     },
     "execution_count": 18,
     "metadata": {},
     "output_type": "execute_result"
    }
   ],
   "source": [
    "def letterCasePermutation(S: str):\n",
    "    n = len(S)\n",
    "    res = list()\n",
    "\n",
    "    def dfs(idx, path):\n",
    "        if idx == n:\n",
    "            res.append(''.join(path))\n",
    "            return\n",
    "\n",
    "        if S[idx].isalpha():\n",
    "            dfs(idx+1, path+[S[idx].upper()])\n",
    "            dfs(idx+1, path+[S[idx].lower()])\n",
    "        else:\n",
    "            dfs(idx+1, path+[S[idx]])\n",
    "\n",
    "    dfs(0, list())\n",
    "    return res"
   ]
  },
  {
   "cell_type": "markdown",
   "metadata": {},
   "source": [
    "[Most Stones Removed with Same Row or Column](https://leetcode.com/problems/most-stones-removed-with-same-row-or-column/)。恕我直言，原题有歧义，改述如下。一二维平面上放置若干个石头，选一个起点出发，每次移动只能沿轴向移动到下一个石头上，不能往复移动。问最多能走多少步。\n",
    "\n",
    "思路：相比于直接求能走多少步，另外一个思路比较简单。矩阵中的石头能通过轴向线段连接起来形成联通分量，最多能走的步数=石头数量-联通分量数。在轴向上做DFS可以遍历到一个联通分量的所有点。"
   ]
  },
  {
   "cell_type": "code",
   "execution_count": 1,
   "metadata": {},
   "outputs": [
    {
     "data": {
      "text/plain": [
       "5"
      ]
     },
     "execution_count": 1,
     "metadata": {},
     "output_type": "execute_result"
    }
   ],
   "source": [
    "def removeStones(stones) -> int:\n",
    "    n = len(stones)\n",
    "    visited = set()\n",
    "\n",
    "    def dfs(i, j):\n",
    "        if (i, j) in visited:\n",
    "            return 0\n",
    "\n",
    "        visited.add((i, j))\n",
    "        for stone in stones:\n",
    "            if stone[0] == i or stone[1] == j:\n",
    "                dfs(stone[0], stone[1])\n",
    "        return 1\n",
    "\n",
    "    return n-sum([dfs(i, j) for i, j in stones])"
   ]
  },
  {
   "cell_type": "markdown",
   "metadata": {},
   "source": [
    "[机器人的运动范围](https://www.acwing.com/problem/content/22/)。给一指定行列数的方格矩形，从原点$(0,0)$出发。再给定一阈值，若某坐标的行列数字之和超过该阈值，则无法进入该坐标。如$threshold=18$，则不能进入$(35,38)$。\n",
    "\n",
    "思路：DFS。维护一个访问矩阵，可以进行DFS有两个条件，未被访问并且坐标数字和小于阈值。"
   ]
  },
  {
   "cell_type": "code",
   "execution_count": 6,
   "metadata": {},
   "outputs": [
    {
     "data": {
      "text/plain": [
       "0"
      ]
     },
     "execution_count": 6,
     "metadata": {},
     "output_type": "execute_result"
    }
   ],
   "source": [
    "def movingCount(threshold, rows, cols):\n",
    "    res = 0\n",
    "    visited = [[False]*cols for _ in range(rows)]\n",
    "\n",
    "    def isValid(i, j):\n",
    "        return True if sum(map(int, str(i)+str(j))) <= threshold else False\n",
    "\n",
    "    def dfs(i, j):\n",
    "        nonlocal res\n",
    "        if 0 <= i < rows and 0 <= j < cols and not visited[i][j] and isValid(i, j):\n",
    "            visited[i][j] = True\n",
    "            res += 1\n",
    "            dfs(i+1, j)\n",
    "            dfs(i-1, j)\n",
    "            dfs(i, j+1)\n",
    "            dfs(i, j-1)\n",
    "\n",
    "    dfs(0, 0)\n",
    "    return res"
   ]
  },
  {
   "cell_type": "markdown",
   "metadata": {},
   "source": [
    "[N-Queens](https://leetcode.com/problems/n-queens/)。输出N皇后的所有解。\n",
    "\n",
    "思路：经典八皇后问题。暴力解，每次在一行放置一个皇后，在放置下一行的皇后时，需要判断不同列与不同的对角线，即左上对角线与右上对角线。"
   ]
  },
  {
   "cell_type": "code",
   "execution_count": null,
   "metadata": {},
   "outputs": [],
   "source": [
    "def solveNQueens(n: int):\n",
    "    path = [['.'] * n for _ in range(n)]\n",
    "    used = [False] * n    # 列的占用标记\n",
    "\n",
    "    def isValid(row, col):\n",
    "        left = right = col\n",
    "\n",
    "        for i in range(row - 1, -1, -1):\n",
    "            if left - 1 >= 0:  # 左上斜线\n",
    "                left -= 1\n",
    "                if path[i][left] == 'Q':\n",
    "                    return False\n",
    "\n",
    "            if right + 1 < n:  # 右上斜线\n",
    "                right += 1\n",
    "                if path[i][right] == 'Q':\n",
    "                    return False\n",
    "\n",
    "        return True\n",
    "\n",
    "    res = list()\n",
    "    import copy\n",
    "\n",
    "    def dfs(idx):\n",
    "        '''\n",
    "        在行(row)上进行dfs，idx表示行号\n",
    "        '''\n",
    "        if idx == n:\n",
    "            res.append(copy.deepcopy(path))\n",
    "            return\n",
    "\n",
    "        for col in range(n):\n",
    "            if not used[col] and isValid(idx, col):\n",
    "                used[col] = True\n",
    "                path[idx][col] = 'Q'\n",
    "                dfs(idx + 1)\n",
    "                used[col] = False\n",
    "                path[idx][col] = '.'\n",
    "\n",
    "    dfs(0)\n",
    "    ret = [[''.join(row) for row in mat] for mat in res]\n",
    "    return ret"
   ]
  },
  {
   "cell_type": "markdown",
   "metadata": {},
   "source": [
    "[Surrounded Regions](https://leetcode.com/problems/surrounded-regions/)。给一个由'X'和'O'构成的矩阵，将所有被'X'包围的'O'转换成'X'。\n",
    "\n",
    "思路：将所有'X'包围的'O'转换成'X'，那么不需要转换的肯定是与边界相连的'O'。使用DFS将所有与边界相连的'O'置成'#'保护起来，然后将所有的'O'转成'X'，再将'#'还原成'O'。"
   ]
  },
  {
   "cell_type": "code",
   "execution_count": null,
   "metadata": {},
   "outputs": [],
   "source": [
    "def solve(board) -> None:\n",
    "    if not board:\n",
    "        return None\n",
    "    rows, cols = len(board), len(board[0])\n",
    "\n",
    "    def dfs(row, col):\n",
    "        board[row][col] = '#'\n",
    "        if row > 0 and board[row-1][col] == 'O':\n",
    "            dfs(row-1, col)\n",
    "        if row < rows-1 and board[row+1][col] == 'O':\n",
    "            dfs(row+1, col)\n",
    "        if col > 0 and board[row][col-1] == 'O':\n",
    "            dfs(row, col-1)\n",
    "        if col < cols-1 and board[row][col+1] == 'O':\n",
    "            dfs(row, col+1)\n",
    "\n",
    "    for row in range(rows):\n",
    "        for col in range(cols):\n",
    "            if board[row][col] == 'O' and (row == 0 or row == rows-1 or col == 0 or col == cols-1):\n",
    "                dfs(row, col)\n",
    "\n",
    "    for row in range(rows):\n",
    "        for col in range(cols):\n",
    "            if board[row][col] == 'O':\n",
    "                board[row][col] = 'X'\n",
    "\n",
    "    for row in range(rows):\n",
    "        for col in range(cols):\n",
    "            if board[row][col] == '#':\n",
    "                board[row][col] = 'O'"
   ]
  },
  {
   "cell_type": "markdown",
   "metadata": {},
   "source": [
    "[Restore IP Addresses](https://leetcode.com/problems/restore-ip-addresses/)。给定一只含数字的字符串，求其能生成的所有合法IP地址。\n",
    "\n",
    "思路：逻辑实现。"
   ]
  },
  {
   "cell_type": "code",
   "execution_count": 7,
   "metadata": {},
   "outputs": [
    {
     "data": {
      "text/plain": [
       "['255.255.11.135', '255.255.111.35']"
      ]
     },
     "execution_count": 7,
     "metadata": {},
     "output_type": "execute_result"
    }
   ],
   "source": [
    "def restoreIpAddresses(s: str):\n",
    "    n=len(s)\n",
    "    res=list()\n",
    "    \n",
    "    def dfs(idx,path):\n",
    "        thresh=(4-len(path))*3\n",
    "        if n-idx>thresh:\n",
    "            return\n",
    "        \n",
    "        if idx==n and len(path)==4:\n",
    "            res.append('.'.join(path))\n",
    "            return\n",
    "        \n",
    "        for i in range(idx+1,idx+4):\n",
    "            if i<=n:\n",
    "                cur_num=int(s[idx:i])\n",
    "                if str(cur_num)==s[idx:i] and cur_num<=255:\n",
    "                    dfs(i,path+[s[idx:i]])\n",
    "                    \n",
    "    dfs(0,list())\n",
    "    return res"
   ]
  },
  {
   "cell_type": "markdown",
   "metadata": {},
   "source": [
    "[黑白棋](https://www.nowcoder.com/questionTerminal/a0feb0696e2043a5b3b0779fa861b64a?f=discussion&toCommentId=6271446)。给一$8\\times8$的棋盘，$0$表示空白，$1$表示黑色，$2$表示白色。当两个同色棋子之间(八个方向均可)夹有对方棋子时，可以将对方棋子翻转成己方颜色。白色先手，求在白色方下完$N$手后棋盘内可能有的最多的白棋数。\n",
    "\n",
    "思路：DFS。注意白方先手，黑方后手，在每次dfs时需要转换变量。该题有个坑，用例给定的初始棋盘是可以翻转的，理论上来说需要先对初始棋盘进行翻转再去落子，因此最后一个用例(满棋盘)需要特殊处理。"
   ]
  },
  {
   "cell_type": "code",
   "execution_count": null,
   "metadata": {},
   "outputs": [],
   "source": [
    "import sys\n",
    "\n",
    "hands = int(sys.stdin.readline().strip())\n",
    "\n",
    "board = [list(map(int, sys.stdin.readline().strip().split()))\n",
    "         for _ in range(8)]\n",
    "\n",
    "res = 0\n",
    "for row in range(8):\n",
    "    for col in range(8):\n",
    "        if board[row][col] == 2:\n",
    "            res += 1\n",
    "\n",
    "directions = [[-1, 1], [0, 1], [1, 1], [1, 0],\n",
    "              [1, -1], [0, -1], [-1, -1], [-1, 0]]  # 八个方向基向量\n",
    "\n",
    "\n",
    "def flip(board, coords):\n",
    "    '''\n",
    "    翻转棋盘\n",
    "    :param board:\n",
    "    :param coords: 需要翻转的棋子坐标\n",
    "    :return: 翻转的棋子数量\n",
    "    '''\n",
    "    for row, col in coords:\n",
    "        board[row][col] = board[row][col] % 2 + 1\n",
    "    return len(coords)\n",
    "\n",
    "\n",
    "def valid(board, row, col, color):\n",
    "    '''\n",
    "    检查当前坐标落子的有效性\n",
    "    :param board: 棋盘\n",
    "    :param row,col: 落子坐标\n",
    "    :param color: 落子颜色\n",
    "    :return: 可以被翻转棋子的坐标列表\n",
    "    '''\n",
    "    res = list()\n",
    "\n",
    "    if board[row][col] != 0:  # 已存在棋子\n",
    "        return res\n",
    "\n",
    "    for dx, dy in directions:\n",
    "        single_line_res = list()  # 单方向扫描到的异色棋子\n",
    "        for t in range(1, 9):  # 基向量的倍率\n",
    "            s_row, s_col = row + t * dx, col + t * dy\n",
    "\n",
    "            # 该方向走到边界或遇到空\n",
    "            if s_row < 0 or s_row > 7 \\\n",
    "                    or s_col < 0 or s_col > 7 \\\n",
    "                    or board[s_row][s_col] == 0:\n",
    "                break\n",
    "            # 遇到同色棋子\n",
    "            elif board[s_row][s_col] == color:\n",
    "                res.extend(single_line_res)\n",
    "                single_line_res = list()  # 清空\n",
    "                break\n",
    "            # 异色棋子\n",
    "            else:\n",
    "                single_line_res.append([s_row, s_col])\n",
    "\n",
    "    return res\n",
    "\n",
    "\n",
    "def dfs(step, cur_res, color, board):\n",
    "    global res, hands\n",
    "    res = max(cur_res, res)\n",
    "\n",
    "    if step == hands and color == 1:\n",
    "        return\n",
    "\n",
    "    for row in range(8):\n",
    "        for col in range(8):\n",
    "            coords = valid(board, row, col, color)\n",
    "            if coords:\n",
    "                board[row][col] = color  # 落子\n",
    "                cur_res_bak = cur_res  # 备份用于状态还原\n",
    "\n",
    "                if color == 2:\n",
    "                    cur_res += 1\n",
    "                    cur_res += flip(board, coords)\n",
    "                else:\n",
    "                    cur_res -= flip(board, coords)\n",
    "\n",
    "                next_step = step + color % 2\n",
    "                next_color = color % 2 + 1\n",
    "                dfs(next_step, cur_res, next_color, board)\n",
    "\n",
    "                # 状态还原\n",
    "                board[row][col] = 0\n",
    "                flip(board, coords)\n",
    "                cur_res = cur_res_bak\n",
    "\n",
    "    return\n",
    "\n",
    "\n",
    "dfs(1, res, 2, board)\n",
    "print(res)"
   ]
  },
  {
   "cell_type": "markdown",
   "metadata": {},
   "source": [
    "## BFS\n",
    "BFS与DFS都属于暴力解法，但是BFS可用于寻找最短路径。"
   ]
  },
  {
   "cell_type": "markdown",
   "metadata": {},
   "source": [
    "[Number of Islands](https://leetcode.com/problems/number-of-islands/)。求数字矩阵中数字'1'构成的孤岛数量。\n",
    "\n",
    "思路：设置访问矩阵，线性扫描原矩阵。当找到一个$1$时，就作为起点开始做BFS。"
   ]
  },
  {
   "cell_type": "code",
   "execution_count": 1,
   "metadata": {},
   "outputs": [],
   "source": [
    "def numIslands(grid) -> int:\n",
    "    if not grid:\n",
    "        return 0\n",
    "\n",
    "    rows, cols = len(grid), len(grid[0])\n",
    "    visited = [[False]*cols for _ in range(rows)]\n",
    "\n",
    "    def bfs(row, col):\n",
    "        if row < 0 or row >= rows or col < 0 or col >= cols or grid[row][col] == '0' or visited[row][col]:\n",
    "            return\n",
    "\n",
    "        visited[row][col] = True\n",
    "\n",
    "        bfs(row-1, col)\n",
    "        bfs(row+1, col)\n",
    "        bfs(row, col-1)\n",
    "        bfs(row, col+1)\n",
    "\n",
    "    res = 0\n",
    "    for row in range(rows):\n",
    "        for col in range(cols):\n",
    "            if grid[row][col] == '0' or visited[row][col]:\n",
    "                continue\n",
    "\n",
    "            bfs(row, col)\n",
    "            res += 1\n",
    "\n",
    "    return res"
   ]
  },
  {
   "cell_type": "markdown",
   "metadata": {},
   "source": [
    "[Max Area of Island](https://leetcode.com/problems/max-area-of-island/)。给一$01$矩阵，$0$代表海洋而$1$代表陆地，上下左右相连的陆地构成岛屿。求最大岛屿的最大面积。\n",
    "\n",
    "思路：设置访问矩阵，线性扫描原矩阵，当遇到$1$时，就作为起点做BFS。"
   ]
  },
  {
   "cell_type": "code",
   "execution_count": 4,
   "metadata": {},
   "outputs": [
    {
     "data": {
      "text/plain": [
       "6"
      ]
     },
     "execution_count": 4,
     "metadata": {},
     "output_type": "execute_result"
    }
   ],
   "source": [
    "def maxAreaOfIsland(grid) -> int:\n",
    "    rows, cols = len(grid), len(grid[0])\n",
    "    visited = [[False]*cols for _ in range(rows)]\n",
    "    res = 0\n",
    "    offset = [(-1, 0), (1, 0), (0, -1), (0, 1)]    # 上下左右的偏移量\n",
    "\n",
    "    for row in range(rows):\n",
    "        for col in range(cols):\n",
    "            if grid[row][col] == 0 or visited[row][col]:\n",
    "                continue\n",
    "\n",
    "            q = [(row, col)]\n",
    "            cur_res = 0\n",
    "            while q:\n",
    "                vis_row, vis_col = q.pop(0)\n",
    "                if grid[vis_row][vis_col] == 0 or visited[vis_row][vis_col]:\n",
    "                    continue\n",
    "\n",
    "                visited[vis_row][vis_col] = True\n",
    "                cur_res += 1\n",
    "                for delta_x, delta_y in offset:\n",
    "                    nei_row, nei_col = vis_row+delta_x, vis_col+delta_y\n",
    "                    if 0 <= nei_row < rows and 0 <= nei_col < cols:\n",
    "                        q.append((nei_row, nei_col))\n",
    "\n",
    "            res = max(res, cur_res)\n",
    "\n",
    "    return res"
   ]
  },
  {
   "cell_type": "markdown",
   "metadata": {},
   "source": [
    "[Shortest Bridge](https://leetcode.com/problems/shortest-bridge/)。给一$01$矩阵，$0$代表海洋而$1$代表陆地，矩阵中存在两个岛屿，求两个岛屿的最短距离。\n",
    "\n",
    "思路：DFS+BFS。首先通过遍历找到一个岛屿，将该岛屿的所有单元格全存入队列等待BFS，在BFS过程中维护一个距离变量即可。如果遇到未访问的$1$，则说明到达了新岛屿。"
   ]
  },
  {
   "cell_type": "code",
   "execution_count": 27,
   "metadata": {},
   "outputs": [
    {
     "data": {
      "text/plain": [
       "0"
      ]
     },
     "execution_count": 27,
     "metadata": {},
     "output_type": "execute_result"
    }
   ],
   "source": [
    "def shortestBridge(A) -> int:\n",
    "    rows, cols = len(A), len(A[0])\n",
    "    visited = [[False]*cols for _ in range(rows)]\n",
    "    q = list()\n",
    "\n",
    "    def dfs(i, j):\n",
    "        if 0 <= i < rows and 0 <= j < cols and not visited[i][j] and A[i][j] == 1:\n",
    "            visited[i][j] = True\n",
    "            q.append((i, j, 0))\n",
    "            for x, y in [(i-1, j), (i+1, j), (i, j-1), (i, j+1)]:\n",
    "                dfs(x, y)\n",
    "\n",
    "    def get_a_island():\n",
    "        for row in range(rows):\n",
    "            for col in range(cols):\n",
    "                if A[row][col] == 1:\n",
    "                    dfs(row, col)\n",
    "                    return\n",
    "\n",
    "    get_a_island()\n",
    "\n",
    "    while q:\n",
    "        i, j, step = q.pop(0)\n",
    "        for x, y in [(i-1, j), (i+1, j), (i, j-1), (i, j+1)]:\n",
    "            if 0 <= x < rows and 0 <= y < cols and not visited[x][y]:\n",
    "                if A[x][y] == 1:\n",
    "                    return step\n",
    "                else:\n",
    "                    visited[x][y] = True\n",
    "                    q.append((x, y, step+1))"
   ]
  },
  {
   "cell_type": "markdown",
   "metadata": {},
   "source": [
    "[Letter Combinations of a Phone Number](https://leetcode.com/problems/letter-combinations-of-a-phone-number/)。九宫格键盘能实现的字符串，给定一组数字，求出九宫格键盘按该序列能拼出的字符串。\n",
    "\n",
    "思路：初始答案肯定是空字串，每按一个键，就会在空字串上增加若干单字串答案。在已有答案上的修改是解题的关键。"
   ]
  },
  {
   "cell_type": "code",
   "execution_count": 1,
   "metadata": {},
   "outputs": [
    {
     "data": {
      "text/plain": [
       "['ad', 'ae', 'af', 'bd', 'be', 'bf', 'cd', 'ce', 'cf']"
      ]
     },
     "execution_count": 1,
     "metadata": {},
     "output_type": "execute_result"
    }
   ],
   "source": [
    "def letterCombinations(digits: str):\n",
    "    if not digits:\n",
    "        return list()\n",
    "    \n",
    "    lookup = [\"\", \"\", \"abc\", \"def\", \"ghi\", \"jkl\", \"mno\", \"pqrs\", \"tuv\", \"wxyz\"]\n",
    "    res = ['']\n",
    "\n",
    "    for ch in digits:\n",
    "        bak_chs = list(lookup[int(ch)])\n",
    "        cur_res = list()\n",
    "        for s in res:\n",
    "            for c in bak_chs:\n",
    "                cur_res.append(s+c)\n",
    "\n",
    "        res = cur_res\n",
    "\n",
    "    return res"
   ]
  },
  {
   "cell_type": "markdown",
   "metadata": {},
   "source": [
    "[Word Ladder](https://leetcode.com/problems/word-ladder/)。给定一个源单词与目标单词还有一个词典，每次允许变换一个字母，求从源单词变为目标单词需要的步数。\n",
    "\n",
    "思路：BFS，每次改变源单词的一个字母，找到对应的字典中的词，并维护一个访问状态。"
   ]
  },
  {
   "cell_type": "code",
   "execution_count": null,
   "metadata": {},
   "outputs": [],
   "source": [
    "def ladderLength(beginWord: str, endWord: str, wordList) -> int:\n",
    "    wordList = set(wordList)\n",
    "    n = len(wordList)\n",
    "    q = [(beginWord, 1)]\n",
    "    visited = set()\n",
    "\n",
    "    while q:\n",
    "        word, step = q.pop(0)\n",
    "        if word == endWord:\n",
    "            return step\n",
    "        if word in visited:\n",
    "            continue\n",
    "\n",
    "        visited.add(word)\n",
    "        for idx in range(len(word)):\n",
    "            for ch_idx in range(26):\n",
    "                next_word = word[:idx]+chr(97+ch_idx)+word[idx+1:]\n",
    "                if next_word in wordList:\n",
    "                    q.append((next_word, step+1))\n",
    "\n",
    "    return 0"
   ]
  },
  {
   "cell_type": "markdown",
   "metadata": {},
   "source": [
    "[Open the Lock](https://leetcode.com/problems/open-the-lock/)。四位旋转密码锁，其中有几个位置是死区(deadend)，一旦转到该位置锁会锁死。给定一系列死区，初始状态为```0000```，问开锁需要转几次旋钮。\n",
    "\n",
    "思路：求最短路径使用BFS。因为密码锁有$4$位，对于每一个状态，可以有$8$种邻接状态。"
   ]
  },
  {
   "cell_type": "code",
   "execution_count": 16,
   "metadata": {},
   "outputs": [
    {
     "data": {
      "text/plain": [
       "6"
      ]
     },
     "execution_count": 16,
     "metadata": {},
     "output_type": "execute_result"
    }
   ],
   "source": [
    "def openLock(deadends, target: str) -> int:\n",
    "    visited = set()\n",
    "    deadends = set(deadends)\n",
    "    q = [('0000', 0)]\n",
    "\n",
    "    while q:\n",
    "        vis_stat, cnt = q.pop(0)\n",
    "        if vis_stat == target:\n",
    "            return cnt\n",
    "\n",
    "        if vis_stat in visited or vis_stat in deadends:\n",
    "            continue\n",
    "\n",
    "        visited.add(vis_stat)\n",
    "        for idx in range(4):\n",
    "            pre = vis_stat[:idx] + \\\n",
    "                str((int(vis_stat[idx])-1) % 10)+vis_stat[idx+1:]\n",
    "            post = vis_stat[:idx] + \\\n",
    "                str((int(vis_stat[idx])+1) % 10)+vis_stat[idx+1:]\n",
    "            if pre not in visited and pre not in deadends:\n",
    "                q.append((pre, cnt+1))\n",
    "            if post not in visited and post not in deadends:\n",
    "                q.append((post, cnt+1))\n",
    "\n",
    "    return -1"
   ]
  },
  {
   "cell_type": "markdown",
   "metadata": {},
   "source": [
    "[Keys and Rooms](https://leetcode.com/problems/keys-and-rooms/)。给一个列表，每个元素表示一个房间，每个房间里有若干把钥匙。第一个房间未锁，判断从第一个房间开始，能否成功打开所有房间。\n",
    "\n",
    "思路：DFS或BFS，BFS可用队列实现优先考虑BFS。维护访问状态，从第一个房间进入拿钥匙加入队列，并标记访问；依次取出每个房间的钥匙即可。最后判断所有房间是否都已访问过。"
   ]
  },
  {
   "cell_type": "code",
   "execution_count": 2,
   "metadata": {},
   "outputs": [
    {
     "data": {
      "text/plain": [
       "True"
      ]
     },
     "execution_count": 2,
     "metadata": {},
     "output_type": "execute_result"
    }
   ],
   "source": [
    "def canVisitAllRooms(rooms) -> bool:\n",
    "    visited = [False]*len(rooms)\n",
    "    q = rooms[0]\n",
    "    visited[0] = True\n",
    "\n",
    "    while q:\n",
    "        vis_room = q.pop(0)\n",
    "        visited[vis_room] = True\n",
    "        for key in rooms[vis_room]:\n",
    "            if not visited[key]:\n",
    "                q.append(key)\n",
    "\n",
    "    return all(visited)"
   ]
  },
  {
   "cell_type": "markdown",
   "metadata": {},
   "source": [
    "[Minesweeper](https://leetcode.com/problems/minesweeper/)。扫雷模拟，'M'表示地雷，'E'表示未点击方块，'B'表示空白块，$[1-8]$的数字表示周围的地雷数，'X'表示踩雷。给一个游戏盘与一个点击位置，返回点击后的状态。\n",
    "\n",
    "思路：逻辑实现，递归。如果点击到'B'与数字，无改变；踩到雷，改成'X'；点击'E'，若周围没有雷，则递归点击周围所有格子，否则改成数字。难点在于周围八个点的存在性判断，最蠢的方法就是写多个判断条件。"
   ]
  },
  {
   "cell_type": "code",
   "execution_count": 6,
   "metadata": {},
   "outputs": [
    {
     "data": {
      "text/plain": [
       "[['B', '1', 'E', '1', 'B'],\n",
       " ['B', '1', 'M', '1', 'B'],\n",
       " ['B', '1', '1', '1', 'B'],\n",
       " ['B', 'B', 'B', 'B', 'B']]"
      ]
     },
     "execution_count": 6,
     "metadata": {},
     "output_type": "execute_result"
    }
   ],
   "source": [
    "def updateBoard(board, click):\n",
    "    rows, cols = len(board), len(board[0])\n",
    "\n",
    "    def bfs(row, col):\n",
    "        if board[row][col] == 'M':\n",
    "            board[row][col] = 'X'\n",
    "            return\n",
    "        elif board[row][col] == 'B':\n",
    "            return\n",
    "        else:\n",
    "            n_mine = 0\n",
    "            for d_x in (-1, 0, 1):\n",
    "                for d_y in (-1, 0, 1):\n",
    "                    new_row, new_col = row+d_x, col+d_y\n",
    "                    if new_row in range(rows) and new_col in range(cols) and board[new_row][new_col] == 'M':\n",
    "                        n_mine += 1\n",
    "            if n_mine > 0:\n",
    "                board[row][col] = str(n_mine)\n",
    "            else:\n",
    "                board[row][col] = 'B'\n",
    "                for d_x in (-1, 0, 1):\n",
    "                    for d_y in (-1, 0, 1):\n",
    "                        new_row, new_col = row+d_x, col+d_y\n",
    "                        if new_row in range(rows) and new_col in range(cols):\n",
    "                            bfs(new_row, new_col)\n",
    "\n",
    "    bfs(click[0], click[1])\n",
    "    return board"
   ]
  },
  {
   "cell_type": "markdown",
   "metadata": {},
   "source": [
    "[01 Matrix](https://leetcode.com/problems/01-matrix/)。给一个只含$0$和$1$的矩阵，返回一个矩阵，该矩阵记录的是相应位置元素离最近$0$元素的距离，距离只算上下左右，不能斜着走。\n",
    "\n",
    "思路：BFS。以每一个非零位置出发做BFS，上下左右存在$0$即刻返回。"
   ]
  },
  {
   "cell_type": "code",
   "execution_count": 14,
   "metadata": {},
   "outputs": [
    {
     "data": {
      "text/plain": [
       "[[0, 0, 0], [0, 1, 0], [1, 2, 1]]"
      ]
     },
     "execution_count": 14,
     "metadata": {},
     "output_type": "execute_result"
    }
   ],
   "source": [
    "def updateMatrix(matrix):\n",
    "    rows, cols = len(matrix), len(matrix[0])\n",
    "\n",
    "    def bfs(row, col):\n",
    "        q = [(row, col)]\n",
    "        res = 0\n",
    "        while q:\n",
    "            level_size = len(q)\n",
    "            res += 1\n",
    "            for _ in range(level_size):\n",
    "                vis_row, vis_col = q.pop(0)\n",
    "                for d_x, d_y in zip([0, 0, -1, 1], [1, -1, 0, 0]):\n",
    "                    new_row, new_col = vis_row+d_x, vis_col+d_y\n",
    "                    if new_row in range(rows) and new_col in range(cols):\n",
    "                        if matrix[new_row][new_col] == 0:\n",
    "                            return res\n",
    "                        else:\n",
    "                            q.append((new_row, new_col))\n",
    "\n",
    "    for row in range(rows):\n",
    "        for col in range(cols):\n",
    "            if matrix[row][col] != 0:\n",
    "                matrix[row][col] = bfs(row, col)\n",
    "\n",
    "    return matrix"
   ]
  },
  {
   "cell_type": "code",
   "execution_count": null,
   "metadata": {},
   "outputs": [],
   "source": []
  }
 ],
 "metadata": {
  "hide_input": false,
  "kernelspec": {
   "display_name": "Python 3",
   "language": "python",
   "name": "python3"
  },
  "language_info": {
   "codemirror_mode": {
    "name": "ipython",
    "version": 3
   },
   "file_extension": ".py",
   "mimetype": "text/x-python",
   "name": "python",
   "nbconvert_exporter": "python",
   "pygments_lexer": "ipython3",
   "version": "3.7.4"
  },
  "toc": {
   "base_numbering": 1,
   "nav_menu": {},
   "number_sections": true,
   "sideBar": true,
   "skip_h1_title": false,
   "title_cell": "Table of Contents",
   "title_sidebar": "Contents",
   "toc_cell": false,
   "toc_position": {},
   "toc_section_display": true,
   "toc_window_display": false
  }
 },
 "nbformat": 4,
 "nbformat_minor": 2
}
