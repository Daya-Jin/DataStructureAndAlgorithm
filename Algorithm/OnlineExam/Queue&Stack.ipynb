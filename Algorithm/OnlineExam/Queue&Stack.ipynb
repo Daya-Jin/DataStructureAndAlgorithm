{
 "cells": [
  {
   "cell_type": "markdown",
   "metadata": {},
   "source": [
    "[Look Up](https://www.luogu.org/problemnew/show/P2947)。给定一数组，求各数字右边第一个比该数字大的数，没有则设置0.\n",
    "\n",
    "思路：单调栈的典型应用。从后往前扫描数组，设立一个栈，栈中始终保存比当前数字大的元素，若有小的全部弹出。"
   ]
  },
  {
   "cell_type": "code",
   "execution_count": null,
   "metadata": {},
   "outputs": [],
   "source": [
    "def LookUp(nums):\n",
    "    n=len(nums)\n",
    "    res=[0]*n\n",
    "    s=list()\n",
    "    \n",
    "    for idx in range(n-1,-1,-1):\n",
    "        # 先排空栈中不大于当前数的所有数字\n",
    "        while s and nums[s[-1]]<=nums[idx]:\n",
    "            s.pop()\n",
    "        \n",
    "        # 栈中剩下的元素都是比当前大的数了\n",
    "        if not s:    # 栈为空\n",
    "            res[idx]=0\n",
    "        else:    # 栈不空，比当前大的最近的数就是栈顶元素\n",
    "            res[idx]=s[-1]\n",
    "        \n",
    "        s.append(idx)\n",
    "        \n",
    "    return res"
   ]
  },
  {
   "cell_type": "markdown",
   "metadata": {},
   "source": [
    "[Remove K Digits](https://leetcode.com/problems/remove-k-digits/)。给一个数字字串，删掉其中的$k$位，使得得到的数字最小。\n",
    "\n",
    "思路：单调栈。所有位顺序入栈，当某一位小于栈顶元素时，需要弹栈。注意弹栈的次数不能超过$k$次。不难，实现逻辑稍微复杂一点。"
   ]
  },
  {
   "cell_type": "code",
   "execution_count": null,
   "metadata": {},
   "outputs": [],
   "source": [
    "def removeKdigits(num: str, k: int) -> str:\n",
    "    n = len(num)\n",
    "    if k >= n:\n",
    "        return '0'\n",
    "\n",
    "    s = list()\n",
    "    cnt = 0\n",
    "\n",
    "    for ch in num:\n",
    "        if cnt < k:\n",
    "            if not s:\n",
    "                s.append(ch)\n",
    "                continue\n",
    "\n",
    "            while s and int(ch) < int(s[-1]) and cnt < k:\n",
    "                s.pop()\n",
    "                cnt += 1\n",
    "            s.append(ch)\n",
    "\n",
    "        else:\n",
    "            s.append(ch)\n",
    "\n",
    "    return str(int(''.join(s[:n-k])))"
   ]
  },
  {
   "cell_type": "code",
   "execution_count": null,
   "metadata": {},
   "outputs": [],
   "source": []
  }
 ],
 "metadata": {
  "hide_input": false,
  "kernelspec": {
   "display_name": "Python 3",
   "language": "python",
   "name": "python3"
  },
  "language_info": {
   "codemirror_mode": {
    "name": "ipython",
    "version": 3
   },
   "file_extension": ".py",
   "mimetype": "text/x-python",
   "name": "python",
   "nbconvert_exporter": "python",
   "pygments_lexer": "ipython3",
   "version": "3.7.4"
  },
  "toc": {
   "base_numbering": 1,
   "nav_menu": {},
   "number_sections": true,
   "sideBar": true,
   "skip_h1_title": false,
   "title_cell": "Table of Contents",
   "title_sidebar": "Contents",
   "toc_cell": false,
   "toc_position": {},
   "toc_section_display": true,
   "toc_window_display": false
  }
 },
 "nbformat": 4,
 "nbformat_minor": 2
}
