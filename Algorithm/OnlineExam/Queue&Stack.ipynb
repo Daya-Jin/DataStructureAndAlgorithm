{
 "cells": [
  {
   "cell_type": "markdown",
   "metadata": {},
   "source": [
    "[Look Up](https://www.luogu.org/problemnew/show/P2947)。给定一数组，求各数字右边第一个比该数字大的数，没有则设置0.\n",
    "\n",
    "思路：单调栈的典型应用。从后往前扫描数组，设立一个栈，栈中始终保存比当前数字大的元素，若有小的全部弹出。"
   ]
  },
  {
   "cell_type": "code",
   "execution_count": 1,
   "metadata": {},
   "outputs": [],
   "source": [
    "def LookUp(nums):\n",
    "    n = len(nums)\n",
    "    res = [0]*n\n",
    "    s = list()\n",
    "\n",
    "    for idx in range(n-1, -1, -1):\n",
    "        # 先排空栈中不大于当前数的所有数字\n",
    "        while s and nums[s[-1]] <= nums[idx]:\n",
    "            s.pop()\n",
    "\n",
    "        # 栈中剩下的元素都是比当前大的数了\n",
    "        if not s:    # 栈为空\n",
    "            res[idx] = 0\n",
    "        else:    # 栈不空，比当前大的最近的数就是栈顶元素\n",
    "            res[idx] = s[-1]\n",
    "\n",
    "        s.append(idx)\n",
    "\n",
    "    return res"
   ]
  },
  {
   "cell_type": "markdown",
   "metadata": {},
   "source": [
    "[Remove K Digits](https://leetcode.com/problems/remove-k-digits/)。给一个数字字串，删掉其中的$k$位，使得得到的数字最小。\n",
    "\n",
    "思路：单调栈。所有位顺序入栈，易得高位数字越小越好，当某一位小于栈顶元素时，需要弹栈。注意弹栈的次数不能超过$k$次。不难，实现逻辑稍微复杂一点。"
   ]
  },
  {
   "cell_type": "code",
   "execution_count": 2,
   "metadata": {},
   "outputs": [],
   "source": [
    "def removeKdigits(num: str, k: int) -> str:\n",
    "    n = len(num)\n",
    "    if k >= n:\n",
    "        return '0'\n",
    "\n",
    "    s = list()\n",
    "    cnt = 0\n",
    "\n",
    "    for ch in num:\n",
    "        if cnt < k:    # 删除k次\n",
    "            if not s:\n",
    "                s.append(ch)\n",
    "                continue\n",
    "\n",
    "            while s and int(ch) < int(s[-1]) and cnt < k:\n",
    "                s.pop()\n",
    "                cnt += 1\n",
    "            s.append(ch)\n",
    "\n",
    "        else:\n",
    "            s.append(ch)\n",
    "\n",
    "    return str(int(''.join(s[:n-k])))"
   ]
  },
  {
   "cell_type": "markdown",
   "metadata": {},
   "source": [
    "猿辅导2019笔试题。给$C$个字符串的压缩表示形式，对其进行解码复原。\n",
    "\n",
    "思路：输入字串可能带括号也可能没带括号，都需要考虑进去。"
   ]
  },
  {
   "cell_type": "code",
   "execution_count": 4,
   "metadata": {},
   "outputs": [],
   "source": [
    "def func(C):\n",
    "    def reverse(s):\n",
    "        s = list(s)\n",
    "        i, j = 0, len(s) - 1\n",
    "        while i < j:\n",
    "            s[i], s[j] = s[j], s[i]\n",
    "            i += 1\n",
    "            j -= 1\n",
    "        return ''.join(s)\n",
    "\n",
    "    for _ in range(C):\n",
    "        s = sys.stdin.readline().strip()\n",
    "        n = len(s)\n",
    "        stack = list()\n",
    "        num = ''\n",
    "        idx = 0\n",
    "\n",
    "        while idx < n:\n",
    "            # 字母与括号入栈\n",
    "            while idx < n and not s[idx].isdigit():\n",
    "                stack.append(s[idx])\n",
    "                idx += 1\n",
    "\n",
    "            # 提取数字\n",
    "            while idx < n and s[idx].isdigit():\n",
    "                num += s[idx]\n",
    "                idx += 1\n",
    "            num = int(num) if num != '' else 1\n",
    "\n",
    "            sub_s = ''    # 被压缩的子串\n",
    "            if stack[-1] == ')':    # 有括号时需特殊处理\n",
    "                left_cnt = 0\n",
    "                while stack and stack[-1] != '(':\n",
    "                    while stack[-1] == ')':\n",
    "                        left_cnt += 1\n",
    "                        stack.pop()\n",
    "                    while stack and stack[-1] != '(':\n",
    "                        sub_s += stack.pop()\n",
    "                for _ in range(left_cnt):    # 清空等数量的左括号\n",
    "                    stack.pop()\n",
    "            else:    # 无括号时取出单个字符即可\n",
    "                sub_s = stack.pop()\n",
    "\n",
    "            sub_s = reverse(sub_s) * num\n",
    "            num = ''\n",
    "            for ch in sub_s:\n",
    "                stack.append(ch)\n",
    "\n",
    "        res = ''\n",
    "        while stack[-1] == ')':\n",
    "            stack.pop()\n",
    "        while stack and stack[-1] != '(':\n",
    "            if stack[-1] == ')':\n",
    "                stack.pop()\n",
    "                continue\n",
    "            res += stack.pop()\n",
    "        print(reverse(res))"
   ]
  },
  {
   "cell_type": "markdown",
   "metadata": {},
   "source": [
    "[Min Stack](https://leetcode.com/problems/min-stack/)。设计一个栈结构，要求其```push()```、```top()```、```pop()```、```min()```的时间复杂度均为$O(1)$。\n",
    "\n",
    "思路：设置一个辅助栈，里面只压入$min$值。弹栈时，当普通栈与辅助栈的栈顶元素相同时，辅助栈才需要弹栈。"
   ]
  },
  {
   "cell_type": "code",
   "execution_count": null,
   "metadata": {},
   "outputs": [],
   "source": [
    "class MinStack:\n",
    "    def __init__(self):\n",
    "        \"\"\"\n",
    "        initialize your data structure here.\n",
    "        \"\"\"\n",
    "        self.s=list()\n",
    "        self.s_min=list()\n",
    "\n",
    "    def push(self, x: int) -> None:\n",
    "        self.s.append(x)\n",
    "        if not self.s_min or x<=self.s_min[-1]:\n",
    "            self.s_min.append(x)\n",
    "\n",
    "    def pop(self) -> None:\n",
    "        if self.s_min[-1]==self.s[-1]:\n",
    "            self.s_min.pop()\n",
    "        self.s.pop()\n",
    "\n",
    "    def top(self) -> int:\n",
    "        return self.s[-1]\n",
    "\n",
    "    def getMin(self) -> int:\n",
    "        return self.s_min[-1]"
   ]
  }
 ],
 "metadata": {
  "hide_input": false,
  "kernelspec": {
   "display_name": "Python 3",
   "language": "python",
   "name": "python3"
  },
  "language_info": {
   "codemirror_mode": {
    "name": "ipython",
    "version": 3
   },
   "file_extension": ".py",
   "mimetype": "text/x-python",
   "name": "python",
   "nbconvert_exporter": "python",
   "pygments_lexer": "ipython3",
   "version": "3.7.4"
  },
  "toc": {
   "base_numbering": 1,
   "nav_menu": {},
   "number_sections": true,
   "sideBar": true,
   "skip_h1_title": false,
   "title_cell": "Table of Contents",
   "title_sidebar": "Contents",
   "toc_cell": false,
   "toc_position": {},
   "toc_section_display": true,
   "toc_window_display": false
  }
 },
 "nbformat": 4,
 "nbformat_minor": 2
}
