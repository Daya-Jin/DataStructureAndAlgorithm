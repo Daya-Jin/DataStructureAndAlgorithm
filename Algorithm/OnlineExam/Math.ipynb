{
 "cells": [
  {
   "cell_type": "markdown",
   "metadata": {},
   "source": [
    "[Task Scheduler](https://leetcode.com/problems/task-scheduler/)。给一大写字母的数组，代表$26$种任务的集合。CPU任一时间片可以挑选任一任务去执行，但是同种任务的两次执行之间需要有$n$个时间片的间隔。问执行完所有任务最少需要多少时间片。如```tasks = [\"A\",\"A\",\"A\",\"B\",\"B\",\"B\"]```，```n = 2```，执行时间片为：```A -> B -> idle -> A -> B -> idle -> A -> B```。\n",
    "\n",
    "思路：首先对同种任务进行计数，同种任务之间的执行至少要间隔$n$，那么易得最短时间取决于数量最多的那种任务。易得完成$k$个同种任务至少需要$(k-1)*(n+1)+1$个时间片，若数量最多的任务有$s$种，那么至少需要$(k-1)*(n+1)+s$个时间片。"
   ]
  },
  {
   "cell_type": "code",
   "execution_count": 3,
   "metadata": {},
   "outputs": [
    {
     "data": {
      "text/plain": [
       "8"
      ]
     },
     "execution_count": 3,
     "metadata": {},
     "output_type": "execute_result"
    }
   ],
   "source": [
    "def leastInterval(tasks, n: int) -> int:\n",
    "    res = len(tasks)\n",
    "\n",
    "    cnts = [0]*26\n",
    "    for ch in tasks:\n",
    "        cnts[ord(ch)-65] += 1\n",
    "    cnts.sort(reverse=True)\n",
    "\n",
    "    neet_t = (cnts[0]-1)*(n+1)\n",
    "    for cnt in cnts:\n",
    "        if cnt == cnts[0]:\n",
    "            neet_t += 1\n",
    "\n",
    "    return max(res, neet_t)"
   ]
  },
  {
   "cell_type": "markdown",
   "metadata": {},
   "source": [
    "[Fraction to Recurring Decimal](https://leetcode.com/problems/fraction-to-recurring-decimal/)。将分数转换成小数形式，当出现循环小数时，将循环部分加上括号。\n",
    "\n",
    "思路：首先明确分数中分子为除数，分母为被除数。手动做一下除法就不难发现，当某一次的余数在之前出现过时，肯定就会出现循环小数，所以该题解法是先正常的做除法，并记录每一次余数出现的位置，当余数重复时即出现循环小数。"
   ]
  },
  {
   "cell_type": "code",
   "execution_count": 4,
   "metadata": {},
   "outputs": [],
   "source": [
    "def fractionToDecimal(numerator: int, denominator: int) -> str:\n",
    "    res = '-' if numerator*denominator < 0 else ''    # 符号\n",
    "    numerator, denominator = abs(numerator), abs(denominator)\n",
    "    integer, remainder = divmod(numerator, denominator)    # 首个商与余数\n",
    "    res += str(integer)\n",
    "\n",
    "    if remainder:\n",
    "        res += '.'\n",
    "    else:\n",
    "        return res\n",
    "\n",
    "    remainder_idx = dict()    # 记录余数位置的字典\n",
    "    while remainder:\n",
    "        if remainder not in remainder_idx:\n",
    "            remainder_idx[remainder] = len(res)\n",
    "            integer, remainder = divmod(remainder*10, denominator)\n",
    "            res += str(integer)\n",
    "        else:\n",
    "            idx = remainder_idx[remainder]\n",
    "            res = '{}({})'.format(res[:idx], res[idx:])\n",
    "            break\n",
    "\n",
    "    return res"
   ]
  },
  {
   "cell_type": "markdown",
   "metadata": {},
   "source": [
    "求倒数第$Q$个排列，**2019网易笔试题**。给$n$个自然数，然后指定其中一个排列，假设选中的是第$Q$个排列，求倒数第$Q$个排列。如$n=3$，选中排列$123$，它是第$1$个排列，那么要求倒数第$i$个排列$321$。\n",
    "\n",
    "思路：找规律，第$Q$个排列和倒数第$Q$个排列，对应位的数字相加恰好等于$n+1$。"
   ]
  },
  {
   "cell_type": "code",
   "execution_count": 5,
   "metadata": {},
   "outputs": [
    {
     "data": {
      "text/plain": [
       "321"
      ]
     },
     "execution_count": 5,
     "metadata": {},
     "output_type": "execute_result"
    }
   ],
   "source": [
    "def func(n, num):\n",
    "    num = list(str(num))\n",
    "    res = list()\n",
    "\n",
    "    for bit in num:\n",
    "        res.append(n+1-int(bit))\n",
    "\n",
    "    return int(''.join(map(str, res)))"
   ]
  },
  {
   "cell_type": "code",
   "execution_count": null,
   "metadata": {},
   "outputs": [],
   "source": []
  }
 ],
 "metadata": {
  "hide_input": false,
  "kernelspec": {
   "display_name": "Python 3",
   "language": "python",
   "name": "python3"
  },
  "language_info": {
   "codemirror_mode": {
    "name": "ipython",
    "version": 3
   },
   "file_extension": ".py",
   "mimetype": "text/x-python",
   "name": "python",
   "nbconvert_exporter": "python",
   "pygments_lexer": "ipython3",
   "version": "3.7.4"
  },
  "toc": {
   "base_numbering": 1,
   "nav_menu": {},
   "number_sections": true,
   "sideBar": true,
   "skip_h1_title": false,
   "title_cell": "Table of Contents",
   "title_sidebar": "Contents",
   "toc_cell": false,
   "toc_position": {},
   "toc_section_display": true,
   "toc_window_display": false
  }
 },
 "nbformat": 4,
 "nbformat_minor": 2
}
