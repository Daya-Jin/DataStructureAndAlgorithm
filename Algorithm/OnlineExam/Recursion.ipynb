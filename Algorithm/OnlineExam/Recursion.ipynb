{
 "cells": [
  {
   "cell_type": "markdown",
   "metadata": {},
   "source": [
    "[Predict the Winner](https://leetcode.com/problems/predict-the-winner/)。给一个非负整形数组，两个玩家$1$和$2$选数字，每次只能从数组的首尾位置选数，玩家$1$先手。判断玩家$1$是否存在一个稳赢的方案？\n",
    "\n",
    "思路：搞清楚递归时的逻辑是难点。设函数```rec```返回玩家$1$能否稳赢，那么递归时有两种情况：\n",
    "- 若是玩家$1$的回合，只要保证玩家$1$取头能赢或玩家$2$取尾能赢，两种情况有一种能赢即可；\n",
    "- 若是玩家$2$的回合，需要保证玩家$2$无论取头取尾都是玩家$1$赢。"
   ]
  },
  {
   "cell_type": "code",
   "execution_count": 29,
   "metadata": {
    "scrolled": true
   },
   "outputs": [
    {
     "data": {
      "text/plain": [
       "True"
      ]
     },
     "execution_count": 29,
     "metadata": {},
     "output_type": "execute_result"
    }
   ],
   "source": [
    "def PredictTheWinner(nums) -> bool:\n",
    "    sum_1 = sum_2 = 0\n",
    "    n = len(nums)\n",
    "    player_flag = True\n",
    "\n",
    "    def rec(start, end, sum_1, sum_2, player_flag):\n",
    "        if start > end:\n",
    "            return sum_1 >= sum_2\n",
    "\n",
    "        if player_flag:\n",
    "            return rec(start+1, end, sum_1+nums[start], sum_2, not player_flag) \\\n",
    "                or rec(start, end-1, sum_1+nums[end], sum_2, not player_flag)\n",
    "        else:\n",
    "            return rec(start+1, end, sum_1, sum_2+nums[start], not player_flag) \\\n",
    "                and rec(start, end-1, sum_1, sum_2+nums[end], not player_flag)\n",
    "\n",
    "    return rec(0, n-1, sum_1, sum_2, player_flag)"
   ]
  },
  {
   "cell_type": "code",
   "execution_count": null,
   "metadata": {},
   "outputs": [],
   "source": []
  }
 ],
 "metadata": {
  "hide_input": false,
  "kernelspec": {
   "display_name": "Python 3",
   "language": "python",
   "name": "python3"
  },
  "language_info": {
   "codemirror_mode": {
    "name": "ipython",
    "version": 3
   },
   "file_extension": ".py",
   "mimetype": "text/x-python",
   "name": "python",
   "nbconvert_exporter": "python",
   "pygments_lexer": "ipython3",
   "version": "3.7.4"
  },
  "toc": {
   "base_numbering": 1,
   "nav_menu": {},
   "number_sections": true,
   "sideBar": true,
   "skip_h1_title": false,
   "title_cell": "Table of Contents",
   "title_sidebar": "Contents",
   "toc_cell": false,
   "toc_position": {},
   "toc_section_display": true,
   "toc_window_display": false
  }
 },
 "nbformat": 4,
 "nbformat_minor": 2
}
