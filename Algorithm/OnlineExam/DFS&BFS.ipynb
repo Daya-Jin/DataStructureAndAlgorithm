{
 "cells": [
  {
   "cell_type": "markdown",
   "metadata": {},
   "source": [
    "[Number of Islands](https://leetcode.com/problems/number-of-islands/)。求数字矩阵中数字'1'构成的孤岛数量。\n",
    "\n",
    "思路："
   ]
  },
  {
   "cell_type": "code",
   "execution_count": null,
   "metadata": {},
   "outputs": [],
   "source": [
    "def numIslands(grid) -> int:\n",
    "    if not grid:\n",
    "        return 0\n",
    "\n",
    "    rows, cols = len(grid), len(grid[0])\n",
    "    visited = [[False]*cols for _ in range(rows)]\n",
    "\n",
    "    def bfs(row, col):\n",
    "        if row < 0 or row >= rows or col < 0 or col >= cols or grid[row][col] == '0' or visited[row][col]:\n",
    "            return\n",
    "\n",
    "        visited[row][col] = True\n",
    "\n",
    "        bfs(row-1, col)\n",
    "        bfs(row+1, col)\n",
    "        bfs(row, col-1)\n",
    "        bfs(row, col+1)\n",
    "\n",
    "    res = 0\n",
    "    for row in range(rows):\n",
    "        for col in range(cols):\n",
    "            if grid[row][col] == '0' or visited[row][col]:\n",
    "                continue\n",
    "\n",
    "            bfs(row, col)\n",
    "            res += 1\n",
    "\n",
    "    return res"
   ]
  },
  {
   "cell_type": "markdown",
   "metadata": {},
   "source": [
    "[Partition to K Equal Sum Subsets](https://leetcode.com/problems/partition-to-k-equal-sum-subsets/)。给一数组与一个正整数$k$，判断该数组能否被划分成和相等的$k$组数。[Matchsticks to Square](https://leetcode.com/problems/matchsticks-to-square/)。给若干火柴棍，以数组表示，每个元素表示火柴棍的长度，判断这些火柴棍能否拼成一个正方形。\n",
    "\n",
    "思路：虽然该题并不需要求出一个配置，但是还是通过DFS来做。首先易得每一组的和为$sum/k$，若数组中存在比该值大或者除不尽的情况则直接返回False。将数组排序，并初始化$k$个空数组，由大往小开始填充。第二题是第一题$k=4$时的特殊情况。"
   ]
  },
  {
   "cell_type": "code",
   "execution_count": 8,
   "metadata": {},
   "outputs": [],
   "source": [
    "def canPartitionKSubsets(nums, k: int) -> bool:\n",
    "    target, rem = divmod(sum(nums), k)\n",
    "    if rem:\n",
    "        return False\n",
    "\n",
    "    nums.sort()\n",
    "    if nums[-1] > target:\n",
    "        return False\n",
    "    while nums and nums[-1] == target:\n",
    "        nums.pop()\n",
    "        k -= 1\n",
    "\n",
    "    init_group = [0]*k\n",
    "\n",
    "    def dfs(group):\n",
    "        if not nums:\n",
    "            return True\n",
    "\n",
    "        cur_num = nums.pop()\n",
    "        for i in range(k):\n",
    "            if group[i]+cur_num <= target:\n",
    "                group[i] += cur_num\n",
    "                if dfs(group):\n",
    "                    return True\n",
    "                group[i] -= cur_num\n",
    "        nums.append(cur_num)\n",
    "        return False\n",
    "\n",
    "    return dfs(init_group)"
   ]
  },
  {
   "cell_type": "code",
   "execution_count": null,
   "metadata": {},
   "outputs": [],
   "source": []
  }
 ],
 "metadata": {
  "hide_input": false,
  "kernelspec": {
   "display_name": "Python 3",
   "language": "python",
   "name": "python3"
  },
  "language_info": {
   "codemirror_mode": {
    "name": "ipython",
    "version": 3
   },
   "file_extension": ".py",
   "mimetype": "text/x-python",
   "name": "python",
   "nbconvert_exporter": "python",
   "pygments_lexer": "ipython3",
   "version": "3.6.6"
  },
  "toc": {
   "base_numbering": 1,
   "nav_menu": {},
   "number_sections": true,
   "sideBar": true,
   "skip_h1_title": false,
   "title_cell": "Table of Contents",
   "title_sidebar": "Contents",
   "toc_cell": false,
   "toc_position": {},
   "toc_section_display": true,
   "toc_window_display": false
  }
 },
 "nbformat": 4,
 "nbformat_minor": 2
}
