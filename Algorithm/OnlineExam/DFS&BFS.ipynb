{
 "cells": [
  {
   "cell_type": "markdown",
   "metadata": {},
   "source": [
    "## DFS\n",
    "深度搜索的程序模版：\n",
    "\n",
    "```python\n",
    "def func():\n",
    "    res=list()\n",
    "    \n",
    "    def dfs(idx, path):\n",
    "        '''\n",
    "        dfs函数，因为是闭包，可以直接访问外部res\n",
    "        :param idx: 对于全局来说，dfs所在的位置\n",
    "        :param path: 目前为止dfs已探索的路径\n",
    "        :return:\n",
    "        '''\n",
    "        pass\n",
    "        dfs(idx + 1, path + something)    # 若path是地址引用，需要改成path[:]\n",
    "        pass\n",
    "\n",
    "    init_path = None  # 初始探索路径，一般为0，空字串或空列表\n",
    "    dfs(0, init_path)\n",
    "    return res\n",
    "```\n",
    "\n",
    "个人习惯把```dfs(idx, path)```写在外部函数中构成闭包，这样做的好处是可以减少```dfs```函数的参数量。需要注意的有两点：\n",
    "- 如果要在```dfs```函数中修改```res```的话，```res```必须是一个地址引用，如```list```；\n",
    "- 若```path```是一个地址引用，在递归调用```dfs```时需要传入一个副本```path[:]```。"
   ]
  },
  {
   "cell_type": "markdown",
   "metadata": {},
   "source": [
    "[Number of Islands](https://leetcode.com/problems/number-of-islands/)。求数字矩阵中数字'1'构成的孤岛数量。\n",
    "\n",
    "思路："
   ]
  },
  {
   "cell_type": "code",
   "execution_count": null,
   "metadata": {},
   "outputs": [],
   "source": [
    "def numIslands(grid) -> int:\n",
    "    if not grid:\n",
    "        return 0\n",
    "\n",
    "    rows, cols = len(grid), len(grid[0])\n",
    "    visited = [[False]*cols for _ in range(rows)]\n",
    "\n",
    "    def bfs(row, col):\n",
    "        if row < 0 or row >= rows or col < 0 or col >= cols or grid[row][col] == '0' or visited[row][col]:\n",
    "            return\n",
    "\n",
    "        visited[row][col] = True\n",
    "\n",
    "        bfs(row-1, col)\n",
    "        bfs(row+1, col)\n",
    "        bfs(row, col-1)\n",
    "        bfs(row, col+1)\n",
    "\n",
    "    res = 0\n",
    "    for row in range(rows):\n",
    "        for col in range(cols):\n",
    "            if grid[row][col] == '0' or visited[row][col]:\n",
    "                continue\n",
    "\n",
    "            bfs(row, col)\n",
    "            res += 1\n",
    "\n",
    "    return res"
   ]
  },
  {
   "cell_type": "markdown",
   "metadata": {},
   "source": [
    "[Partition to K Equal Sum Subsets](https://leetcode.com/problems/partition-to-k-equal-sum-subsets/)。给一数组与一个正整数$k$，判断该数组能否被划分成和相等的$k$组数。[Matchsticks to Square](https://leetcode.com/problems/matchsticks-to-square/)。给若干火柴棍，以数组表示，每个元素表示火柴棍的长度，判断这些火柴棍能否拼成一个正方形。\n",
    "\n",
    "思路：虽然该题并不需要求出一个配置，但是还是通过DFS来做。首先易得每一组的和为$sum/k$，若数组中存在比该值大或者除不尽的情况则直接返回False。将数组排序，并初始化$k$个空数组，由大往小开始填充。第二题是第一题$k=4$时的特殊情况。"
   ]
  },
  {
   "cell_type": "code",
   "execution_count": 8,
   "metadata": {},
   "outputs": [],
   "source": [
    "def canPartitionKSubsets(nums, k: int) -> bool:\n",
    "    target, rem = divmod(sum(nums), k)\n",
    "    if rem:\n",
    "        return False\n",
    "\n",
    "    nums.sort()\n",
    "    if nums[-1] > target:\n",
    "        return False\n",
    "    while nums and nums[-1] == target:\n",
    "        nums.pop()\n",
    "        k -= 1\n",
    "\n",
    "    init_group = [0]*k\n",
    "\n",
    "    def dfs(group):\n",
    "        if not nums:\n",
    "            return True\n",
    "\n",
    "        cur_num = nums.pop()\n",
    "        for i in range(k):\n",
    "            if group[i]+cur_num <= target:\n",
    "                group[i] += cur_num\n",
    "                if dfs(group):\n",
    "                    return True\n",
    "                group[i] -= cur_num\n",
    "        nums.append(cur_num)\n",
    "        return False\n",
    "\n",
    "    return dfs(init_group)"
   ]
  },
  {
   "cell_type": "markdown",
   "metadata": {},
   "source": [
    "[Unique Paths III](https://leetcode.com/problems/unique-paths-iii/)。给以迷宫，其中$1$表示起点，$2$表示终点，$0$表示可通行，$-1$表示障碍物。求从起点到终点并访问一次所有$0$的位置，有多少种走法。\n",
    "\n",
    "思路：常规的DFS题。首先统计需要访问的点(0)的数目，然后找到起点开始dfs。"
   ]
  },
  {
   "cell_type": "code",
   "execution_count": 1,
   "metadata": {},
   "outputs": [],
   "source": [
    "def uniquePathsIII(grid):\n",
    "    rows, cols = len(grid), len(grid[0])\n",
    "    cnt = 0\n",
    "    for row in range(rows):\n",
    "        for col in range(cols):\n",
    "            if grid[row][col] == 0:\n",
    "                cnt += 1\n",
    "\n",
    "    res = 0\n",
    "    visited = [[False]*cols for _ in range(rows)]\n",
    "\n",
    "    def dfs(row, col, path):\n",
    "        nonlocal res\n",
    "\n",
    "        if row < 0 or row >= rows or col < 0 or col >= cols \\\n",
    "                or grid[row][col] == -1 or visited[row][col]:\n",
    "            return\n",
    "        if grid[row][col] == 2:\n",
    "            if path == cnt+1:\n",
    "                res += 1\n",
    "            return\n",
    "\n",
    "        directions = [(0, 1), (0, -1), (-1, 0), (1, 0)]\n",
    "        visited[row][col] = True\n",
    "        for x, y in directions:\n",
    "            dfs(row+x, col+y, path+1)\n",
    "        visited[row][col] = False\n",
    "\n",
    "    for row in range(rows):\n",
    "        for col in range(cols):\n",
    "            if grid[row][col] == 1:\n",
    "                dfs(row, col, 0)\n",
    "                return res"
   ]
  },
  {
   "cell_type": "code",
   "execution_count": null,
   "metadata": {},
   "outputs": [],
   "source": []
  }
 ],
 "metadata": {
  "hide_input": false,
  "kernelspec": {
   "display_name": "Python 3",
   "language": "python",
   "name": "python3"
  },
  "language_info": {
   "codemirror_mode": {
    "name": "ipython",
    "version": 3
   },
   "file_extension": ".py",
   "mimetype": "text/x-python",
   "name": "python",
   "nbconvert_exporter": "python",
   "pygments_lexer": "ipython3",
   "version": "3.7.4"
  },
  "toc": {
   "base_numbering": 1,
   "nav_menu": {},
   "number_sections": true,
   "sideBar": true,
   "skip_h1_title": false,
   "title_cell": "Table of Contents",
   "title_sidebar": "Contents",
   "toc_cell": false,
   "toc_position": {},
   "toc_section_display": true,
   "toc_window_display": false
  }
 },
 "nbformat": 4,
 "nbformat_minor": 2
}
