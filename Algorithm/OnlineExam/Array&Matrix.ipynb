{
 "cells": [
  {
   "cell_type": "markdown",
   "metadata": {},
   "source": [
    "[Sum of Even Numbers After Queries](https://leetcode.com/problems/sum-of-even-numbers-after-queries/)。给一数组，然后给出一系列更改操作```queries```，```queries```是一个元组的列表，列表中每个元素的首元素表示```val```，第二个元素表示```idx```，每个元组表示将```val```加到原始数组的```idx```位置。求在每做完一个操作后，数组中偶数的和。\n",
    "\n",
    "思路：题目有点绕，其实就是对原数组做若干次单点修改，要求记录下每次操作后的偶数和。因为只需要求偶数和，首先计算出原数组的偶数和，然后考虑每次操作对于单个位置上奇偶性的变化，对原始偶数和做加减操作即可。"
   ]
  },
  {
   "cell_type": "code",
   "execution_count": 7,
   "metadata": {},
   "outputs": [
    {
     "data": {
      "text/plain": [
       "[8, 6, 2, 4]"
      ]
     },
     "execution_count": 7,
     "metadata": {},
     "output_type": "execute_result"
    }
   ],
   "source": [
    "def sumEvenAfterQueries(A, queries):\n",
    "    even_sum = 0\n",
    "    for num in A:\n",
    "        if num % 2 == 0:\n",
    "            even_sum += num\n",
    "\n",
    "    res = list()\n",
    "    for val, idx in queries:\n",
    "        old_val = A[idx]\n",
    "        A[idx] += val\n",
    "\n",
    "        if old_val % 2 == 1:    # 原是奇数\n",
    "            if A[idx] % 2 == 1:\n",
    "                pass    # 奇变奇\n",
    "            else:    # 奇变偶\n",
    "                even_sum += A[idx]\n",
    "        else:    # 原是偶数\n",
    "            if A[idx] % 2 == 1:    # 偶变奇\n",
    "                even_sum -= old_val\n",
    "            else:    # 偶变偶\n",
    "                even_sum += val\n",
    "        res.append(even_sum)\n",
    "\n",
    "    return res"
   ]
  },
  {
   "cell_type": "markdown",
   "metadata": {},
   "source": [
    "[Projection Area of 3D Shapes](https://leetcode.com/problems/projection-area-of-3d-shapes/)。给一$N\\times{N}$的整形矩阵，每个位置上的数字代表该位置上立方柱的高度。求该立体形状三视图的面积和。设单位为$1$。\n",
    "\n",
    "思路：首先考虑俯视图，易得俯视图的面积为矩阵中非零元素的个数。然后是正视图和侧视图，这两种视图无论哪一种，只能看到轴向最高的那一根立方柱。那么可以分别按行(列)扫描整个矩阵，只记录该行(列)的最大值，求和即是面积。"
   ]
  },
  {
   "cell_type": "code",
   "execution_count": 8,
   "metadata": {},
   "outputs": [
    {
     "data": {
      "text/plain": [
       "5"
      ]
     },
     "execution_count": 8,
     "metadata": {},
     "output_type": "execute_result"
    }
   ],
   "source": [
    "def projectionArea(grid) -> int:\n",
    "    res = 0\n",
    "    n = len(grid)\n",
    "\n",
    "    for row in range(n):\n",
    "        row_max = col_max = -0x80000000\n",
    "        for col in range(n):\n",
    "            row_max = max(row_max, grid[row][col])\n",
    "            col_max = max(col_max, grid[col][row])    # 因为是方针，行列颠倒即可实现列访问\n",
    "            res += 1 if grid[row][col] else 0\n",
    "\n",
    "        res += row_max\n",
    "        res += col_max\n",
    "\n",
    "    return res"
   ]
  },
  {
   "cell_type": "markdown",
   "metadata": {},
   "source": [
    "[Find the Town Judge](https://leetcode.com/problems/find-the-town-judge/)。小镇上有$N$个人，索引从$1$开始。小镇上可能存在一个法官，法官需要满足两个条件。1. 法官不相信任何人；2. 法官外的所有人都相信法官。给出信任关系，找出该法官。不存在返回$-1$。\n",
    "\n",
    "思路：设一个列表，为每一个人设一个公信力值。信任他人则公信力$-1$，被信任则$+1$。公信力为$N-1$的人就是法官。"
   ]
  },
  {
   "cell_type": "code",
   "execution_count": null,
   "metadata": {},
   "outputs": [],
   "source": [
    "def findJudge(N: int, trust) -> int:\n",
    "    arr = [0]*(N+1)\n",
    "\n",
    "    for pair in trust:\n",
    "        arr[pair[0]] -= 1\n",
    "        arr[pair[1]] += 1\n",
    "\n",
    "    for idx in range(1, N+1):\n",
    "        if arr[idx] == N-1:\n",
    "            return idx\n",
    "\n",
    "    return -1"
   ]
  },
  {
   "cell_type": "markdown",
   "metadata": {},
   "source": [
    "[Island Perimeter](https://leetcode.com/problems/island-perimeter/)。给一$01$矩阵，$0$代表海洋而$1$代表陆地，上下左右连通的$1$构成岛屿，求岛屿的周长。保证矩阵中只存在一个岛屿，且是封闭岛屿，没有内陆湖。\n",
    "\n",
    "思路：线性扫描矩阵，遇到$1$时，需要判断其上下左右是否是陆地边缘。如果上(下左右)面也是$1$，那么其上(下左右)面是不构成周长的。"
   ]
  },
  {
   "cell_type": "code",
   "execution_count": 1,
   "metadata": {},
   "outputs": [
    {
     "data": {
      "text/plain": [
       "16"
      ]
     },
     "execution_count": 1,
     "metadata": {},
     "output_type": "execute_result"
    }
   ],
   "source": [
    "def islandPerimeter(grid) -> int:\n",
    "    res = 0\n",
    "    rows, cols = len(grid), len(grid[0])\n",
    "\n",
    "    for row in range(rows):\n",
    "        for col in range(cols):\n",
    "            if grid[row][col] == 1:\n",
    "                if col == 0 or grid[row][col-1] == 0:\n",
    "                    res += 1\n",
    "                if col == cols-1 or grid[row][col+1] == 0:\n",
    "                    res += 1\n",
    "                if row == 0 or grid[row-1][col] == 0:\n",
    "                    res += 1\n",
    "                if row == rows-1 or grid[row+1][col] == 0:\n",
    "                    res += 1\n",
    "\n",
    "    return res"
   ]
  },
  {
   "cell_type": "code",
   "execution_count": null,
   "metadata": {},
   "outputs": [],
   "source": []
  }
 ],
 "metadata": {
  "hide_input": false,
  "kernelspec": {
   "display_name": "Python 3",
   "language": "python",
   "name": "python3"
  },
  "language_info": {
   "codemirror_mode": {
    "name": "ipython",
    "version": 3
   },
   "file_extension": ".py",
   "mimetype": "text/x-python",
   "name": "python",
   "nbconvert_exporter": "python",
   "pygments_lexer": "ipython3",
   "version": "3.7.4"
  },
  "toc": {
   "base_numbering": 1,
   "nav_menu": {},
   "number_sections": true,
   "sideBar": true,
   "skip_h1_title": false,
   "title_cell": "Table of Contents",
   "title_sidebar": "Contents",
   "toc_cell": false,
   "toc_position": {},
   "toc_section_display": true,
   "toc_window_display": false
  }
 },
 "nbformat": 4,
 "nbformat_minor": 2
}
