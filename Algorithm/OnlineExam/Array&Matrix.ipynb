{
 "cells": [
  {
   "cell_type": "markdown",
   "metadata": {},
   "source": [
    "[Sum of Even Numbers After Queries](https://leetcode.com/problems/sum-of-even-numbers-after-queries/)。给一数组，然后给出一系列更改操作```queries```，```queries```是一个元组的列表，列表中每个元素的首元素表示```val```，第二个元素表示```idx```，每个元组表示将```val```加到原始数组的```idx```位置。求在每做完一个操作后，数组中偶数的和。\n",
    "\n",
    "思路：题目有点绕，其实就是对原数组做若干次单点修改，要求记录下每次操作后的偶数和。因为只需要求偶数和，首先计算出原数组的偶数和，然后考虑每次操作对于单个位置上奇偶性的变化，对原始偶数和做加减操作即可。"
   ]
  },
  {
   "cell_type": "code",
   "execution_count": 7,
   "metadata": {},
   "outputs": [
    {
     "data": {
      "text/plain": [
       "[8, 6, 2, 4]"
      ]
     },
     "execution_count": 7,
     "metadata": {},
     "output_type": "execute_result"
    }
   ],
   "source": [
    "def sumEvenAfterQueries(A, queries):\n",
    "    even_sum = 0\n",
    "    for num in A:\n",
    "        if num % 2 == 0:\n",
    "            even_sum += num\n",
    "\n",
    "    res = list()\n",
    "    for val, idx in queries:\n",
    "        old_val = A[idx]\n",
    "        A[idx] += val\n",
    "\n",
    "        if old_val % 2 == 1:    # 原是奇数\n",
    "            if A[idx] % 2 == 1:\n",
    "                pass    # 奇变奇\n",
    "            else:    # 奇变偶\n",
    "                even_sum += A[idx]\n",
    "        else:    # 原是偶数\n",
    "            if A[idx] % 2 == 1:    # 偶变奇\n",
    "                even_sum -= old_val\n",
    "            else:    # 偶变偶\n",
    "                even_sum += val\n",
    "        res.append(even_sum)\n",
    "\n",
    "    return res"
   ]
  },
  {
   "cell_type": "markdown",
   "metadata": {},
   "source": [
    "[Projection Area of 3D Shapes](https://leetcode.com/problems/projection-area-of-3d-shapes/)。给一$N\\times{N}$的整形矩阵，每个位置上的数字代表该位置上立方柱的高度。求该立体形状三视图的面积和。设单位为$1$。\n",
    "\n",
    "思路：首先考虑俯视图，易得俯视图的面积为矩阵中非零元素的个数。然后是正视图和侧视图，这两种视图无论哪一种，只能看到轴向最高的那一根立方柱。那么可以分别按行(列)扫描整个矩阵，只记录该行(列)的最大值，求和即是面积。"
   ]
  },
  {
   "cell_type": "code",
   "execution_count": 8,
   "metadata": {},
   "outputs": [
    {
     "data": {
      "text/plain": [
       "5"
      ]
     },
     "execution_count": 8,
     "metadata": {},
     "output_type": "execute_result"
    }
   ],
   "source": [
    "def projectionArea(grid) -> int:\n",
    "    res = 0\n",
    "    n = len(grid)\n",
    "\n",
    "    for row in range(n):\n",
    "        row_max = col_max = -0x80000000\n",
    "        for col in range(n):\n",
    "            row_max = max(row_max, grid[row][col])\n",
    "            col_max = max(col_max, grid[col][row])    # 因为是方针，行列颠倒即可实现列访问\n",
    "            res += 1 if grid[row][col] else 0\n",
    "\n",
    "        res += row_max\n",
    "        res += col_max\n",
    "\n",
    "    return res"
   ]
  },
  {
   "cell_type": "markdown",
   "metadata": {},
   "source": [
    "[Find the Town Judge](https://leetcode.com/problems/find-the-town-judge/)。小镇上有$N$个人，索引从$1$开始。小镇上可能存在一个法官，法官需要满足两个条件。1. 法官不相信任何人；2. 法官外的所有人都相信法官。给出信任关系，找出该法官。不存在返回$-1$。\n",
    "\n",
    "思路：设一个列表，为每一个人设一个公信力值。信任他人则公信力$-1$，被信任则$+1$。公信力为$N-1$的人就是法官。"
   ]
  },
  {
   "cell_type": "code",
   "execution_count": null,
   "metadata": {},
   "outputs": [],
   "source": [
    "def findJudge(N: int, trust) -> int:\n",
    "    arr = [0]*(N+1)\n",
    "\n",
    "    for pair in trust:\n",
    "        arr[pair[0]] -= 1\n",
    "        arr[pair[1]] += 1\n",
    "\n",
    "    for idx in range(1, N+1):\n",
    "        if arr[idx] == N-1:\n",
    "            return idx\n",
    "\n",
    "    return -1"
   ]
  },
  {
   "cell_type": "markdown",
   "metadata": {},
   "source": [
    "[Island Perimeter](https://leetcode.com/problems/island-perimeter/)。给一$01$矩阵，$0$代表海洋而$1$代表陆地，上下左右连通的$1$构成岛屿，求岛屿的周长。保证矩阵中只存在一个岛屿，且是封闭岛屿，没有内陆湖。\n",
    "\n",
    "思路：线性扫描矩阵，遇到$1$时，需要判断其上下左右是否是陆地边缘。如果上(下左右)面也是$1$，那么其上(下左右)面是不构成周长的。"
   ]
  },
  {
   "cell_type": "code",
   "execution_count": 1,
   "metadata": {},
   "outputs": [
    {
     "data": {
      "text/plain": [
       "16"
      ]
     },
     "execution_count": 1,
     "metadata": {},
     "output_type": "execute_result"
    }
   ],
   "source": [
    "def islandPerimeter(grid) -> int:\n",
    "    res = 0\n",
    "    rows, cols = len(grid), len(grid[0])\n",
    "\n",
    "    for row in range(rows):\n",
    "        for col in range(cols):\n",
    "            if grid[row][col] == 1:\n",
    "                if col == 0 or grid[row][col-1] == 0:\n",
    "                    res += 1\n",
    "                if col == cols-1 or grid[row][col+1] == 0:\n",
    "                    res += 1\n",
    "                if row == 0 or grid[row-1][col] == 0:\n",
    "                    res += 1\n",
    "                if row == rows-1 or grid[row+1][col] == 0:\n",
    "                    res += 1\n",
    "\n",
    "    return res"
   ]
  },
  {
   "cell_type": "markdown",
   "metadata": {},
   "source": [
    "[Reshape the Matrix](https://leetcode.com/problems/reshape-the-matrix/)。实现一个矩阵的```reshape```函数，参数非法时返回原矩阵。\n",
    "\n",
    "思路：首先判断```reshape```接受的参数是否正确，正确的话新建一个空矩阵，然后按序填充即可。"
   ]
  },
  {
   "cell_type": "code",
   "execution_count": 5,
   "metadata": {},
   "outputs": [
    {
     "data": {
      "text/plain": [
       "[[1, 2, 3, 4]]"
      ]
     },
     "execution_count": 5,
     "metadata": {},
     "output_type": "execute_result"
    }
   ],
   "source": [
    "def matrixReshape(nums, r: int, c: int):\n",
    "    rows, cols = len(nums), len(nums[0])\n",
    "    if r*c != rows*cols:\n",
    "        return nums\n",
    "\n",
    "    res = [[0]*c for _ in range(r)]\n",
    "    for row in range(rows):\n",
    "        for col in range(cols):\n",
    "            idx = cols*(row)+col\n",
    "            res[idx//c][idx % c] = nums[row][col]\n",
    "\n",
    "    return res"
   ]
  },
  {
   "cell_type": "markdown",
   "metadata": {},
   "source": [
    "[Can Place Flowers](https://leetcode.com/problems/can-place-flowers/)。给一$01$数组，其中$0$代表空而$1$代表非空。现有$n$个物品需要放置到数组中去，规定物品不能相邻放置，问该数组能否满足要求。设原数组中的物品是符合要求的。\n",
    "\n",
    "思路：线性扫描，若某一空位置的左右都是空，则在该位置放置一个物品。注意边界即可。"
   ]
  },
  {
   "cell_type": "code",
   "execution_count": 12,
   "metadata": {},
   "outputs": [
    {
     "data": {
      "text/plain": [
       "True"
      ]
     },
     "execution_count": 12,
     "metadata": {},
     "output_type": "execute_result"
    }
   ],
   "source": [
    "def canPlaceFlowers(flowerbed, n: int) -> bool:\n",
    "    if n == 0:\n",
    "        return True\n",
    "    cnt = 0\n",
    "    lenth = len(flowerbed)\n",
    "\n",
    "    for i in range(lenth):\n",
    "        if flowerbed[i] == 0 and (i == 0 or flowerbed[i-1] == 0) and (i == lenth-1 or flowerbed[i+1] == 0):\n",
    "            flowerbed[i] = 1\n",
    "            cnt += 1\n",
    "\n",
    "            if cnt >= n:\n",
    "                return True\n",
    "\n",
    "    return False"
   ]
  },
  {
   "cell_type": "markdown",
   "metadata": {},
   "source": [
    "[Image Smoother](https://leetcode.com/problems/image-smoother/)。图形平滑器，给一矩阵表示一个图形，对每个像素做平滑处理，新像素的值等于以该像素为中心，九个像素的和除以$9$的值。若是边界像素点，则使用尽可能多的像素点做平滑。\n",
    "\n",
    "思路：简单的实现题。"
   ]
  },
  {
   "cell_type": "code",
   "execution_count": 15,
   "metadata": {},
   "outputs": [
    {
     "data": {
      "text/plain": [
       "[[0, 0, 0], [0, 0, 0], [0, 0, 0]]"
      ]
     },
     "execution_count": 15,
     "metadata": {},
     "output_type": "execute_result"
    }
   ],
   "source": [
    "def imageSmoother(M):\n",
    "    rows, cols = len(M), len(M[0])\n",
    "    res = [[0]*cols for _ in range(rows)]\n",
    "\n",
    "    def isValid(i, j):\n",
    "        return True if (0 <= i < rows and 0 <= j < cols) else False\n",
    "\n",
    "    delta = (-1, 0, 1)\n",
    "    for row in range(rows):\n",
    "        for col in range(cols):\n",
    "            cur_sum = cur_area = 0\n",
    "\n",
    "            for dx in delta:\n",
    "                for dy in delta:\n",
    "                    neighbor_x, neighbor_y = row+dx, col+dy\n",
    "                    if isValid(neighbor_x, neighbor_y):\n",
    "                        cur_sum += M[neighbor_x][neighbor_y]\n",
    "                        cur_area += 1\n",
    "\n",
    "            res[row][col] = cur_sum//cur_area\n",
    "\n",
    "    return res"
   ]
  },
  {
   "cell_type": "markdown",
   "metadata": {},
   "source": [
    "[Available Captures for Rook](https://leetcode.com/problems/available-captures-for-rook/)。 棋盘上车能吃的棋子数。$8\\times{8}$的国际棋盘，有一个白车(R)，若干白象(B)和黑卒(p)，求白车当前捕获到的黑卒(p)的数量。棋盘上的空位用'.'填充。\n",
    "\n",
    "思路：因为只有一个白车(R)，所以务必要先找到R的坐标。易得R能捕获到的p应该具有形如'R...p'这样的形式，即中间无阻隔。最简单的方法将R所在的行列提取出来转成字串，判断'pR'或'Rp'是否存在即可。"
   ]
  },
  {
   "cell_type": "code",
   "execution_count": null,
   "metadata": {},
   "outputs": [],
   "source": [
    "def numRookCaptures(self, board: List[List[str]]) -> int:\n",
    "    res = 0\n",
    "    rows, cols = len(board), len(board[0])\n",
    "\n",
    "    def findR():\n",
    "        for row in range(rows):\n",
    "            for col in range(cols):\n",
    "                if board[row][col] == 'R':\n",
    "                    return row, col\n",
    "\n",
    "    x, y = findR()\n",
    "    row_str = ''.join(board[x]).replace('.', '')\n",
    "    col_str = ''.join([board[row][y] for row in range(rows)]).replace('.', '')\n",
    "\n",
    "    res += 1 if 'pR' in row_str else 0\n",
    "    res += 1 if 'Rp' in row_str else 0\n",
    "    res += 1 if 'pR' in col_str else 0\n",
    "    res += 1 if 'Rp' in col_str else 0\n",
    "\n",
    "    return res"
   ]
  },
  {
   "cell_type": "markdown",
   "metadata": {},
   "source": [
    "[Game of Life](https://leetcode.com/problems/game-of-life/)。给定一个细胞矩阵，0代表死细胞，1代表活细胞。细胞的状态转移规则如下：\n",
    "- 周围活细胞数目为2或3则该细胞正常存活\n",
    "- 周围活细胞数目小于2则该细胞死亡\n",
    "- 周围活细胞数目大于3则该细胞死亡\n",
    "- 周围活细胞数目等于3则该细胞复活\n",
    "\n",
    "思路：该题确实比较难。难点在于怎么保存状态转换之前的状态，最简单的可以新建一个矩阵，每个位置的状态由旧矩阵决定。但其实可以不用额外空间，设计一种编码即可。\n",
    "\n",
    "- 使用状态码，不难得出有四种可能的状态：\n",
    "- 0.死细胞变死细胞；1.活细胞变死细胞；2.死细胞变活细胞；3.活细胞变活细胞\n",
    "- 注意这里状态码的设置有一个技巧，状态码模2为转换前的存活状态，状态码整除2为转换后的存活状态\n",
    "- 扫描矩阵两次，第一次做模运算设置状态码，第二次做整除运算设置存活状态"
   ]
  },
  {
   "cell_type": "code",
   "execution_count": null,
   "metadata": {},
   "outputs": [],
   "source": [
    "def gameOfLife(board) -> None:\n",
    "    rows, cols = len(board), len(board[0])\n",
    "    delta = list(zip([-1, -1, -1, 0, 1, 1, 1, 0], [-1, 0, 1, 1, 1, 0, -1, -1]))\n",
    "\n",
    "    def check_staus(row, col):\n",
    "        live_nb = 0    # 转换前存活的邻居数\n",
    "\n",
    "        for dx, dy in delta:\n",
    "            x = row + dx\n",
    "            y = col + dy\n",
    "            if 0 <= x < rows and 0 <= y < cols and board[x][y] % 2 == 1:\n",
    "                live_nb += 1\n",
    "\n",
    "        if board[row][col] % 2 == 0 and live_nb == 3:    # 死细胞复活\n",
    "            return 2\n",
    "        elif board[row][col] % 2 == 1:    # 之前为活细胞\n",
    "            if live_nb == 2 or live_nb == 3:    # 存活\n",
    "                return 3\n",
    "            else:    # 死亡\n",
    "                return 1\n",
    "        else:\n",
    "            return 0\n",
    "\n",
    "    # 设置状态码\n",
    "    for row in range(rows):\n",
    "        for col in range(cols):\n",
    "            board[row][col] = check_staus(row, col)\n",
    "\n",
    "    # 根据状态码设置存活状态\n",
    "    for row in range(rows):\n",
    "        for col in range(cols):\n",
    "            board[row][col] = board[row][col]//2"
   ]
  },
  {
   "cell_type": "markdown",
   "metadata": {},
   "source": [
    "[Goat Latin](https://leetcode.com/problems/goat-latin/)。语言转换，如果单词以元音开头，则单词后追加'ma'，否则把首字母移至单词末尾再追加'ma'，除此之外，句子中第一个单词后追加'a'，第二个单词后追加'aa'，以此类推。\n",
    "\n",
    "思路：逻辑实现题。"
   ]
  },
  {
   "cell_type": "code",
   "execution_count": null,
   "metadata": {},
   "outputs": [],
   "source": [
    "def toGoatLatin(S: str) -> str:\n",
    "    vowel = ('a', 'e', 'i', 'o', 'u', 'A', 'E', 'I', 'O', 'U')\n",
    "\n",
    "    res = list()\n",
    "    idx = 1\n",
    "    for word in S.split():\n",
    "        if word[0] in vowel:\n",
    "            res.append(word+'ma'+'a'*idx)\n",
    "        else:\n",
    "            res.append(word[1:]+word[0]+'ma'+'a'*idx)\n",
    "\n",
    "        idx += 1\n",
    "\n",
    "    return ' '.join(res)"
   ]
  },
  {
   "cell_type": "markdown",
   "metadata": {},
   "source": [
    "手撸卷积操作。**2019哔哩哔哩笔试题**。\n",
    "\n",
    "思路：功能实现题，并不难。"
   ]
  },
  {
   "cell_type": "code",
   "execution_count": null,
   "metadata": {},
   "outputs": [],
   "source": [
    "import sys\n",
    "\n",
    "\n",
    "def handle_inputs():\n",
    "    h, w = list(map(int, sys.stdin.readline().split()))\n",
    "    img = [[0] * w for _ in range(h)]\n",
    "    for row in range(h):\n",
    "        cur_row = list(map(int, sys.stdin.readline().split()))\n",
    "        img[row] = cur_row\n",
    "\n",
    "    k_size = int(sys.stdin.readline().strip())\n",
    "    kernel = [[0] * k_size for _ in range(k_size)]\n",
    "    for row in range(k_size):\n",
    "        cur_row = list(map(float, sys.stdin.readline().split()))\n",
    "        kernel[row] = cur_row\n",
    "\n",
    "    return img, kernel\n",
    "\n",
    "\n",
    "def conv_opt(row, col, img, kernel, k_size):\n",
    "    res = 0\n",
    "    for i in range(k_size):\n",
    "        for j in range(k_size):\n",
    "            res += img[row + i][col + j] * kernel[i][j]\n",
    "\n",
    "    return min(int(res), 255)\n",
    "\n",
    "\n",
    "def mat2str(mat):\n",
    "    return '\\n'.join(list(map(lambda x: ' '.join(list(map(str, x))), mat)))\n",
    "\n",
    "\n",
    "if __name__ == '__main__':\n",
    "    img, kernel = handle_inputs()\n",
    "    h, w = len(img), len(img[0])\n",
    "    k_size = len(kernel)\n",
    "\n",
    "    rows, cols = h - k_size + 1, w - k_size + 1\n",
    "    res = [[0] * cols for _ in range(rows)]\n",
    "    for row in range(rows):\n",
    "        for col in range(cols):\n",
    "            res[row][col] = conv_opt(row, col, img, kernel, k_size)\n",
    "\n",
    "    print(mat2str(res))"
   ]
  }
 ],
 "metadata": {
  "hide_input": false,
  "kernelspec": {
   "display_name": "Python 3",
   "language": "python",
   "name": "python3"
  },
  "language_info": {
   "codemirror_mode": {
    "name": "ipython",
    "version": 3
   },
   "file_extension": ".py",
   "mimetype": "text/x-python",
   "name": "python",
   "nbconvert_exporter": "python",
   "pygments_lexer": "ipython3",
   "version": "3.7.4"
  },
  "toc": {
   "base_numbering": 1,
   "nav_menu": {},
   "number_sections": true,
   "sideBar": true,
   "skip_h1_title": false,
   "title_cell": "Table of Contents",
   "title_sidebar": "Contents",
   "toc_cell": false,
   "toc_position": {},
   "toc_section_display": true,
   "toc_window_display": false
  }
 },
 "nbformat": 4,
 "nbformat_minor": 2
}
