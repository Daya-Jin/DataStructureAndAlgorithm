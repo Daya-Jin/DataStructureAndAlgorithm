{
 "cells": [
  {
   "cell_type": "code",
   "execution_count": 2,
   "metadata": {},
   "outputs": [
    {
     "name": "stdout",
     "output_type": "stream",
     "text": [
      "false\n"
     ]
    }
   ],
   "source": [
    "import sys\n",
    "\n",
    "\n",
    "def func(words):\n",
    "    heads, tails = dict(), dict()\n",
    "\n",
    "    for word in words:\n",
    "        if word[0] not in heads:\n",
    "            heads[word[0]] = 1\n",
    "        else:\n",
    "            heads[word[0]] += 1\n",
    "\n",
    "        if word[-1] not in tails:\n",
    "            tails[word[-1]] = 1\n",
    "        else:\n",
    "            tails[word[0-1]] += 1\n",
    "\n",
    "    for ch in heads:\n",
    "        if ch not in tails or tails[ch] != heads[ch]:\n",
    "            return False\n",
    "        del heads[ch]\n",
    "        del tails[ch]\n",
    "\n",
    "    if heads or tails:\n",
    "        return False\n",
    "\n",
    "\n",
    "words = sys.stdin.readline().strip().split()\n",
    "print('true') if func(words) else print('false')"
   ]
  },
  {
   "cell_type": "code",
   "execution_count": null,
   "metadata": {},
   "outputs": [],
   "source": []
  }
 ],
 "metadata": {
  "hide_input": false,
  "kernelspec": {
   "display_name": "Python 3",
   "language": "python",
   "name": "python3"
  },
  "language_info": {
   "codemirror_mode": {
    "name": "ipython",
    "version": 3
   },
   "file_extension": ".py",
   "mimetype": "text/x-python",
   "name": "python",
   "nbconvert_exporter": "python",
   "pygments_lexer": "ipython3",
   "version": "3.7.4"
  },
  "toc": {
   "base_numbering": 1,
   "nav_menu": {},
   "number_sections": true,
   "sideBar": true,
   "skip_h1_title": false,
   "title_cell": "Table of Contents",
   "title_sidebar": "Contents",
   "toc_cell": false,
   "toc_position": {},
   "toc_section_display": true,
   "toc_window_display": false
  }
 },
 "nbformat": 4,
 "nbformat_minor": 2
}
