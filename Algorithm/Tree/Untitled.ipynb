{
 "cells": [
  {
   "cell_type": "code",
   "execution_count": 2,
   "metadata": {},
   "outputs": [],
   "source": [
    "class TreeNode:\n",
    "    def __init__(self, x):\n",
    "        self.val = x\n",
    "        self.left = None\n",
    "        self.right = None"
   ]
  },
  {
   "cell_type": "markdown",
   "metadata": {},
   "source": [
    "[Serialize and Deserialize Binary Tree](https://leetcode.com/problems/serialize-and-deserialize-binary-tree/)。二叉树的序列化与反序列化。不限制访问顺序。\n",
    "\n",
    "思路：从编写代码的简洁性考虑，使用递归的前序遍历来实现，令二叉树的存储形式为字串，'null'表示空节点。该题难点在于序列化与反序列化的顺序一定要相对应。在递归中使用一个全局变量来记录当前递归的位置。"
   ]
  },
  {
   "cell_type": "code",
   "execution_count": 13,
   "metadata": {},
   "outputs": [],
   "source": [
    "class Codec:\n",
    "    def __init__(self):\n",
    "        self.idx = 0\n",
    "\n",
    "    def serialize(self, root):\n",
    "        \"\"\"Encodes a tree to a single string.\n",
    "\n",
    "        :type root: TreeNode\n",
    "        :rtype: str\n",
    "        \"\"\"\n",
    "        if not root:\n",
    "            return ['null']\n",
    "\n",
    "        res = list()\n",
    "        s = [root]\n",
    "\n",
    "        while s:\n",
    "            cur_node = s.pop()\n",
    "            if cur_node:\n",
    "                s.append(cur_node.right)    # 用栈实现时，右节点先入栈才能保证先访问左节点\n",
    "                s.append(cur_node.left)\n",
    "                res.append(str(cur_node.val))\n",
    "            else:\n",
    "                res.append('null')\n",
    "\n",
    "        return res\n",
    "\n",
    "    def deserialize(self, data):\n",
    "        \"\"\"Decodes your encoded data to tree.\n",
    "\n",
    "        :type data: str\n",
    "        :rtype: TreeNode\n",
    "        \"\"\"\n",
    "        if not data or data == ['null']:\n",
    "            return None\n",
    "\n",
    "        if self.idx < len(data):\n",
    "            if data[self.idx] == 'null':\n",
    "                self.idx += 1\n",
    "                return None\n",
    "            else:\n",
    "                new_node = TreeNode(int(data[self.idx]))\n",
    "                self.idx += 1\n",
    "                new_node.left = self.deserialize(data)\n",
    "                new_node.right = self.deserialize(data)\n",
    "                return new_node"
   ]
  },
  {
   "cell_type": "markdown",
   "metadata": {},
   "source": [
    "[二叉树序列化转码](https://www.nowcoder.com/practice/fa9da6d8fa0e4cefb7b3927424417d71?tpId=104&tqId=33273&tPage=1&rp=&ru=/ta/2020sangfor-new&qru=/ta/2020sangfor-new/question-ranking)。给定一二叉树的层次遍历的序列化数组，将其转码成前序序列数组，空节点使用'#'表示。如给定层序序列数组：```[0, 1, 2, 3, #, #, 4, #, 5, 6, #]```，将其转码成```[0, 1, 3, #, 5, #, #, #, 2, #, 4, 6, #, #, #]```。\n",
    "\n",
    "思路：首先根据层序序列构建树，然后进行前序遍历。需要注意的是对空节点的处理，因为空节点要输出'#'。"
   ]
  },
  {
   "cell_type": "code",
   "execution_count": null,
   "metadata": {},
   "outputs": [],
   "source": [
    "import sys\n",
    "\n",
    "\n",
    "class TreeNode:\n",
    "    def __init__(self, x):\n",
    "        self.val = x\n",
    "        self.left = None\n",
    "        self.right = None\n",
    "\n",
    "\n",
    "def build_tree(level_ord):\n",
    "    if not level_ord or level_ord[0] == '#':\n",
    "        return None\n",
    "\n",
    "    root = TreeNode(level_ord[0])\n",
    "    idx = 1\n",
    "    q = [root]\n",
    "    while q and idx < len(level_ord):\n",
    "        cur_node = q.pop(0)\n",
    "\n",
    "        if idx < len(level_ord):\n",
    "            if level_ord[idx] != '#':\n",
    "                left_chd = TreeNode(level_ord[idx])\n",
    "                cur_node.left = left_chd\n",
    "                q.append(left_chd)\n",
    "            idx += 1\n",
    "\n",
    "        if idx < len(level_ord):\n",
    "            if level_ord[idx] != '#':\n",
    "                right_chd = TreeNode(level_ord[idx])\n",
    "                cur_node.right = right_chd\n",
    "                q.append(right_chd)\n",
    "            idx += 1\n",
    "\n",
    "    return root\n",
    "\n",
    "\n",
    "def preOrd(root):\n",
    "    if not root:\n",
    "        print('#')\n",
    "        return\n",
    "\n",
    "    s = [root]\n",
    "    while s:\n",
    "        vis = s.pop()\n",
    "        print(vis.val)\n",
    "        if vis.val == '#':\n",
    "            continue\n",
    "\n",
    "        if vis.right:\n",
    "            s.append(vis.right)\n",
    "        else:\n",
    "            s.append(TreeNode('#'))\n",
    "        if vis.left:\n",
    "            s.append(vis.left)\n",
    "        else:\n",
    "            s.append(TreeNode('#'))\n",
    "\n",
    "\n",
    "n = int(sys.stdin.readline().strip())\n",
    "level_ord = list()\n",
    "for _ in range(n):\n",
    "    level_ord.append(sys.stdin.readline().strip())\n",
    "\n",
    "root = build_tree(level_ord)\n",
    "\n",
    "preOrd(root)"
   ]
  },
  {
   "cell_type": "markdown",
   "metadata": {},
   "source": [
    "[Longest Univalue Path](https://leetcode.com/problems/longest-univalue-path/)。给一颗二叉树，找出树中有多少条长度大于$1$的等值路径。路径长度定义为经过边的数目，且路径只能成线段状，不能成放射状。\n",
    "\n",
    "思路：递归，首先对左右分支递归求出左右分支的最长等值路径长度，然后与当前节点比较，再返回最长长度。难点在于该题的路径不限于从上往下的路径。当一个节点与其左右节点值都相等时，可构成一条长度为$2$的等值路径。同时在由低往高累加长度时，需要注意会有断链的情况，断链时需要重新计数。"
   ]
  },
  {
   "cell_type": "code",
   "execution_count": null,
   "metadata": {},
   "outputs": [],
   "source": [
    "def longestUnivaluePath(self, root: TreeNode) -> int:\n",
    "    res = 0\n",
    "\n",
    "    def rec(root):\n",
    "        nonlocal res\n",
    "        if not root:\n",
    "            return 0\n",
    "\n",
    "        len_left_side, len_right_side = rec(root.left), rec(root.right)\n",
    "        len_left_new = len_right_new = 0    # 断链时的重新计数器\n",
    "\n",
    "        if root.left and root.left.val == root.val:\n",
    "            len_left_new = len_left_side+1\n",
    "        if root.right and root.right.val == root.val:\n",
    "            len_right_new = len_right_side+1\n",
    "\n",
    "        res = max(res, len_left_new+len_right_new)\n",
    "\n",
    "        return max(len_left_new, len_right_new)\n",
    "\n",
    "    rec(root)\n",
    "    return res"
   ]
  },
  {
   "cell_type": "markdown",
   "metadata": {},
   "source": [
    "[K-th Symbol in Grammar](https://leetcode.com/problems/k-th-symbol-in-grammar/)。从$1$开始计数，第一行的数字是$0$，以后每一行的数字都由上一行生成，$0$变成$01$,$1$变成$10$。求第$n$行第$k$个数字。\n",
    "\n",
    "思路：上一行的每一个数字变成下一行的两个数字，可以画出一颗二叉树。可以观察到左子节点等于父节点，右子节点与父节点相反。如果$T(n,k)$是从根节点一直往左走或者走了偶次右分支生成而来，那么就等于根节点；如果是从根节点走了奇数次右分支生成而来，那么与根节点相反。$T(n,k)$对应的二叉树索引为$2^{n-1}-1+k$，层层往上计算属于右节点的次数即可。"
   ]
  },
  {
   "cell_type": "code",
   "execution_count": 8,
   "metadata": {},
   "outputs": [
    {
     "data": {
      "text/plain": [
       "1"
      ]
     },
     "execution_count": 8,
     "metadata": {},
     "output_type": "execute_result"
    }
   ],
   "source": [
    "def kthGrammar(N: int, K: int) -> int:\n",
    "    if N == 1:\n",
    "        return 0\n",
    "\n",
    "    idx = 2**(N-1)-1+K\n",
    "    res = 0\n",
    "\n",
    "    while idx > 1:\n",
    "        if idx % 2 != 0:    # 奇数则说明是右节点\n",
    "            res = 1-res    # 0，1之间取反\n",
    "        idx //= 2\n",
    "\n",
    "    return res"
   ]
  },
  {
   "cell_type": "markdown",
   "metadata": {},
   "source": [
    "[Vertical Order Traversal of a Binary Tree](https://leetcode.com/problems/vertical-order-traversal-of-a-binary-tree/)。假定二叉树的每一个点都有一个坐标，对于任意一个点$(X,Y)$，其左右子节点的坐标分别为：$(X-1,Y-1)$，$(X+1,Y-1)$。使用一竖直扫描线```x=-inf -> x=+inf```，求扫描线经过的节点序列。限制条件，位于同一横坐标的点，优先输出纵坐标大的，同坐标的点，优先输出节点值大的。\n",
    "\n",
    "思路：根节点坐标$(0,0)$，左右子节点坐标分别为：$(-1,-1)$和$(1,-1)$。先层次遍历树，需要记录的是节点的横坐标，把层次遍历的结果记录到一个表中，以横坐标为key。关键在于限制条件，表中不仅需要存储节点值，还需要存储纵坐标，使用嵌套字典实现。"
   ]
  },
  {
   "cell_type": "code",
   "execution_count": null,
   "metadata": {},
   "outputs": [],
   "source": [
    "def verticalTraversal(root: TreeNode):\n",
    "    if not root:\n",
    "        return root\n",
    "\n",
    "    q = [(0, 0, root)]\n",
    "    tabel = dict()\n",
    "\n",
    "    while q:\n",
    "        x, y, node = q.pop(0)\n",
    "        tabel.setdefault(x, dict())\n",
    "        tabel[x].setdefault(y, list())\n",
    "        tabel[x][y].append(node.val)\n",
    "\n",
    "        if node.left:\n",
    "            q.append((x-1, y-1, node.left))\n",
    "        if node.right:\n",
    "            q.append((x+1, y-1, node.right))\n",
    "\n",
    "    res = list()\n",
    "    for x in sorted(tabel.keys()):    # 扫描线\n",
    "        node_l = list()\n",
    "        for y in sorted(tabel[x].keys(), reverse=True):    # 根据纵坐标从大到小排列\n",
    "            node_l.extend(sorted(tabel[x][y]))    # 根据值从小到大排列\n",
    "        res.append(node_l)\n",
    "\n",
    "    return res"
   ]
  },
  {
   "cell_type": "markdown",
   "metadata": {},
   "source": [
    "[Convert BST to Greater Tree](https://leetcode.com/problems/convert-bst-to-greater-tree/)。给定一棵BST，每个节点加上比自身大的所有节点的值，构成一颗新BST。\n",
    "\n",
    "思路：BST的中序遍历(左根右)是递增序列，改版后的中序遍历(右根左)是递减序列，逐元素累加即可。"
   ]
  },
  {
   "cell_type": "code",
   "execution_count": null,
   "metadata": {},
   "outputs": [],
   "source": [
    "def convertBST(root: TreeNode) -> TreeNode:\n",
    "    cur_sum = 0\n",
    "    s = list()\n",
    "    vis_node = root\n",
    "\n",
    "    while s or vis_node:\n",
    "        if vis_node:\n",
    "            s.append(vis_node)\n",
    "            vis_node = vis_node.right    # 一路向右\n",
    "        else:\n",
    "            vis_node = s.pop()\n",
    "            cur_sum += vis_node.val\n",
    "            vis_node.val = cur_sum\n",
    "\n",
    "            vis_node = vis_node.left\n",
    "\n",
    "    return root"
   ]
  },
  {
   "cell_type": "markdown",
   "metadata": {},
   "source": [
    "[Populating Next Right Pointers in Each Node II](https://leetcode.com/problems/populating-next-right-pointers-in-each-node-ii/)。为树节点设置三个指针：左右指针与next指针，其中next指针指向同层右节点。\n",
    "\n",
    "思路：层次遍历。"
   ]
  },
  {
   "cell_type": "code",
   "execution_count": null,
   "metadata": {},
   "outputs": [],
   "source": [
    "def connect(root: 'Node') -> 'Node':\n",
    "    if not root:\n",
    "        return None\n",
    "\n",
    "    q = [root]\n",
    "    while q:\n",
    "        level_size = len(q)\n",
    "        for idx in range(level_size):\n",
    "            vis = q.pop(0)\n",
    "            if idx == level_size-1:    # 当前层的最后一个节点next置空\n",
    "                vis.next = None\n",
    "            else:\n",
    "                vis.next = q[0]\n",
    "\n",
    "            if vis.left:\n",
    "                q.append(vis.left)\n",
    "            if vis.right:\n",
    "                q.append(vis.right)\n",
    "\n",
    "    return root"
   ]
  },
  {
   "cell_type": "markdown",
   "metadata": {},
   "source": [
    "[Find Bottom Left Tree Value](https://leetcode.com/problems/find-bottom-left-tree-value/)。给一颗二叉树，找到最后一层最左边的值。\n",
    "\n",
    "思路：层次遍历，保存每一层的首节点。"
   ]
  },
  {
   "cell_type": "code",
   "execution_count": null,
   "metadata": {},
   "outputs": [],
   "source": [
    "def findBottomLeftValue(root: TreeNode) -> int:\n",
    "    if not root:\n",
    "        return None\n",
    "\n",
    "    q = [root]\n",
    "    res = root.val\n",
    "    while q:\n",
    "        level_size = len(q)\n",
    "        for idx in range(level_size):\n",
    "            vis_node = q.pop(0)\n",
    "            if idx == 0:\n",
    "                res = vis_node.val\n",
    "\n",
    "            if vis_node.left:\n",
    "                q.append(vis_node.left)\n",
    "            if vis_node.right:\n",
    "                q.append(vis_node.right)\n",
    "\n",
    "    return res"
   ]
  },
  {
   "cell_type": "markdown",
   "metadata": {},
   "source": [
    "[Find Largest Value in Each Tree Row](https://leetcode.com/problems/find-largest-value-in-each-tree-row/)。找出二叉树每一层的最大值。\n",
    "\n",
    "思路：层次遍历，在每层的访问中保存最大值，然后加到res中。"
   ]
  },
  {
   "cell_type": "code",
   "execution_count": null,
   "metadata": {},
   "outputs": [],
   "source": [
    "def largestValues(root: TreeNode):\n",
    "    res = list()\n",
    "    if not root:\n",
    "        return res\n",
    "\n",
    "    q = [root]\n",
    "    while q:\n",
    "        level_size = len(q)\n",
    "        cur_max = -0x80000000\n",
    "\n",
    "        for idx in range(level_size):\n",
    "            cur_node = q.pop(0)\n",
    "            cur_max = max(cur_max, cur_node.val)\n",
    "\n",
    "            if cur_node.left:\n",
    "                q.append(cur_node.left)\n",
    "            if cur_node.right:\n",
    "                q.append(cur_node.right)\n",
    "\n",
    "        res.append(cur_max)\n",
    "\n",
    "    return res"
   ]
  },
  {
   "cell_type": "markdown",
   "metadata": {},
   "source": [
    "[霍夫曼树](https://www.nowcoder.com/practice/e9324e017e3146bab98808e261fc2d94?tpId=104&tqId=33262&tPage=1&rp=&ru=%2Fta%2F2020sangfor-new&qru=%2Fta%2F2020sangfor-new%2Fquestion-ranking)。构建霍夫曼树并按节点顺序输出。\n",
    "\n",
    "思路：构建霍夫曼树本身不难，只是这题的输出要求很奇葩，需要记录原本的节点顺序和构造过程的节点顺序，因此只能使用遍历来做。"
   ]
  },
  {
   "cell_type": "code",
   "execution_count": null,
   "metadata": {},
   "outputs": [],
   "source": [
    "import sys\n",
    "\n",
    "n = int(sys.stdin.readline().strip())\n",
    "vals = list(map(int, sys.stdin.readline().strip().split()))\n",
    "\n",
    "\n",
    "class TreeNode:\n",
    "    def __init__(self, x):\n",
    "        self.val = x\n",
    "        self.left = None\n",
    "        self.right = None\n",
    "        self.par_idx = None    # 父节点索引，单纯考虑输出这么设置\n",
    "\n",
    "\n",
    "def buildTree(vals):\n",
    "    nodes = list(map(TreeNode, vals))\n",
    "\n",
    "    while True:\n",
    "        min1_idx = None\n",
    "        min2_idx = None\n",
    "        need_cnt = 0    # 需要处理的点数\n",
    "        l = len(nodes)\n",
    "\n",
    "        for i in range(l):\n",
    "            if nodes[i].par_idx:    # 跳过以归并的点\n",
    "                continue\n",
    "\n",
    "            need_cnt += 1\n",
    "\n",
    "            # 寻找最小节点与次小节点\n",
    "            if min1_idx is None:\n",
    "                min1_idx = i\n",
    "            elif nodes[i].val < nodes[min1_idx].val:\n",
    "                min2_idx = min1_idx\n",
    "                min1_idx = i\n",
    "            elif min2_idx is None:\n",
    "                min2_idx = i\n",
    "            elif nodes[i].val < nodes[min2_idx].val:\n",
    "                min2_idx = i\n",
    "\n",
    "        if need_cnt < 2:     # 归并完成\n",
    "            break\n",
    "\n",
    "        new_node = TreeNode(nodes[min1_idx].val + nodes[min2_idx].val)\n",
    "        new_node.left = nodes[min2_idx]\n",
    "        new_node.right = nodes[min1_idx]\n",
    "        nodes[min1_idx].par_idx = l\n",
    "        nodes[min2_idx].par_idx = l\n",
    "        nodes.append(new_node)\n",
    "\n",
    "    return nodes\n",
    "\n",
    "\n",
    "nodes = buildTree(vals)"
   ]
  }
 ],
 "metadata": {
  "hide_input": false,
  "kernelspec": {
   "display_name": "Python 3",
   "language": "python",
   "name": "python3"
  },
  "language_info": {
   "codemirror_mode": {
    "name": "ipython",
    "version": 3
   },
   "file_extension": ".py",
   "mimetype": "text/x-python",
   "name": "python",
   "nbconvert_exporter": "python",
   "pygments_lexer": "ipython3",
   "version": "3.7.4"
  },
  "toc": {
   "base_numbering": 1,
   "nav_menu": {},
   "number_sections": true,
   "sideBar": true,
   "skip_h1_title": false,
   "title_cell": "Table of Contents",
   "title_sidebar": "Contents",
   "toc_cell": false,
   "toc_position": {},
   "toc_section_display": true,
   "toc_window_display": false
  }
 },
 "nbformat": 4,
 "nbformat_minor": 2
}
