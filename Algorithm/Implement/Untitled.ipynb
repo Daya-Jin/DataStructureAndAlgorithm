{
 "cells": [
  {
   "cell_type": "markdown",
   "metadata": {},
   "source": [
    "[Divide Two Integers](https://leetcode.com/problems/divide-two-integers/)。不使用乘除法实现整形的整除运算。\n",
    "\n",
    "思路：乘法可以使用加法实现，反过来除法可以使用减法实现。被除数每减去一次除数，商就加1。这一过程可以优化，可以将除数翻倍，被除数减去除数的$n$倍，商就可以加上$n$，翻倍的过程可以使用位运算来实现。另外一个坑就是语言坑，由于一般的语言使用的是32位有符号整形补码，所以这里需要考虑表示范围：$[-2^{31},2^{31}-1]$。"
   ]
  },
  {
   "cell_type": "code",
   "execution_count": 22,
   "metadata": {},
   "outputs": [
    {
     "data": {
      "text/plain": [
       "2147483647"
      ]
     },
     "execution_count": 22,
     "metadata": {},
     "output_type": "execute_result"
    }
   ],
   "source": [
    "def divide(dividend: int, divisor: int) -> int:\n",
    "    res = 0    # 商\n",
    "    sign = not ((dividend > 0) ^ (divisor > 0))    # 结果符号\n",
    "\n",
    "    dividend, divisor = abs(dividend), abs(divisor)    # 转换成绝对值运算\n",
    "\n",
    "    while dividend >= divisor:    # 只要被除数>除数就可以除\n",
    "        n = 1\n",
    "        a, b = dividend, divisor\n",
    "        while a >= b*(n << 1):    # 被除数大于等于翻倍后的除数\n",
    "            n <<= 1    # 所翻的倍数需要记住\n",
    "\n",
    "        res += n\n",
    "        dividend -= b*n\n",
    "\n",
    "    if sign and res == 2**31:    # 正数越界\n",
    "        res = res-1\n",
    "\n",
    "    return res if sign else -res"
   ]
  },
  {
   "cell_type": "markdown",
   "metadata": {},
   "source": [
    "[String to Integer (atoi)](https://leetcode.com/problems/string-to-integer-atoi/)。实现str2int函数。\n",
    "\n",
    "思路：该题需要考虑的情况如下：\n",
    "- 字串两端的空格需要跳过，实际只需要跳过开头的空格\n",
    "- 符号位只能出现在非空格字串的首位\n",
    "- 遇到非法字符即刻返回\n",
    "- 超出表示范围即刻返回"
   ]
  },
  {
   "cell_type": "code",
   "execution_count": 30,
   "metadata": {},
   "outputs": [
    {
     "data": {
      "text/plain": [
       "0"
      ]
     },
     "execution_count": 30,
     "metadata": {},
     "output_type": "execute_result"
    }
   ],
   "source": [
    "def myAtoi(s: str) -> int:\n",
    "    head = True    # 首位标记\n",
    "    sign = True\n",
    "    res = 0\n",
    "\n",
    "    for ch in s:\n",
    "        # 首位需要判断的有：空格，符号，数字\n",
    "        if head:\n",
    "            if ch == ' ':\n",
    "                continue\n",
    "            elif ch == '+':\n",
    "                head = False\n",
    "                continue\n",
    "            elif ch == '-':\n",
    "                sign = False\n",
    "                head = False\n",
    "                continue\n",
    "            elif ch.isdigit():\n",
    "                head = False\n",
    "                res = int(ch)\n",
    "            else:\n",
    "                break\n",
    "        # 非首位只需判断数字，同时做越界判断\n",
    "        else:    \n",
    "            if ch.isdigit():\n",
    "                res = res*10+int(ch)\n",
    "                if sign and res > 2**31-1:\n",
    "                    return 2**31-1\n",
    "                if not sign and res > 2**31:\n",
    "                    return -2**31\n",
    "            else:\n",
    "                break\n",
    "\n",
    "    return res if sign else -res"
   ]
  },
  {
   "cell_type": "markdown",
   "metadata": {},
   "source": [
    "[Valid Tic-Tac-Toe State](https://leetcode.com/problems/valid-tic-tac-toe-state/)。给出一个XO棋盘残局，判断该残局是否可能出现。条件：先手下X，后手下O。\n",
    "\n",
    "思路：逻辑实现，注意几个非法条件即可。先手下X后手下O，那么'X'的数量肯定大于等于'O'，且差值最大为1；还有获胜条件，当'X'获胜时，'X'的数量肯定比'O'大1，因为'X'赢了之后'O'就不能再下了。"
   ]
  },
  {
   "cell_type": "code",
   "execution_count": null,
   "metadata": {},
   "outputs": [],
   "source": [
    "def validTicTacToe(board: List[str]) -> bool:\n",
    "    n_x = n_o = 0\n",
    "    x_win = o_win = False\n",
    "\n",
    "    for row in range(3):\n",
    "        for col in range(3):\n",
    "            if board[row][col] == 'X':\n",
    "                n_x += 1\n",
    "            if board[row][col] == 'O':\n",
    "                n_o += 1\n",
    "\n",
    "    if n_o > n_x or n_x > n_o+1:\n",
    "        return False\n",
    "\n",
    "    def win_detect(player):\n",
    "        for row in range(3):\n",
    "            if board[row][0] == board[row][1] == board[row][2] == player:\n",
    "                return True\n",
    "        for col in range(3):\n",
    "            if board[0][col] == board[1][col] == board[2][col] == player:\n",
    "                return True\n",
    "        if board[0][0] == board[1][1] == board[2][2] == player:\n",
    "            return True\n",
    "        if board[0][2] == board[1][1] == board[2][0] == player:\n",
    "            return True\n",
    "\n",
    "    x_win, o_win = win_detect('X'), win_detect('O')\n",
    "    if x_win and o_win:\n",
    "        return False\n",
    "    if x_win and n_x != n_o+1:\n",
    "        return False\n",
    "    if o_win and n_x != n_o:\n",
    "        return False\n",
    "\n",
    "    return True"
   ]
  },
  {
   "cell_type": "markdown",
   "metadata": {},
   "source": [
    "[Remove Comments](https://leetcode.com/problems/remove-comments/)。移除C++程序中的注释。\n",
    "\n",
    "思路：C++有两种注释，块注释```/*...*/```与行注释```//```，先出现的会覆盖后出现的。使用一个状态变量```block```记录是否存在块注释，那么需要分析四种情况。1. 不在块注释中，遇到```/*```，则进入注释区；2. 在块注释中，那么在遇到```*/```之前全部忽略；3. 不在块注释中，遇到```//```，忽略该行后所有字符；4. 不在任何注释中。"
   ]
  },
  {
   "cell_type": "code",
   "execution_count": null,
   "metadata": {},
   "outputs": [],
   "source": [
    "def removeComments(source):\n",
    "    block = False\n",
    "    res = list()\n",
    "\n",
    "    for line in source:\n",
    "        i = 0\n",
    "        if not block:\n",
    "            val_line = list()    # 只有不在块注释区才会新建有效行\n",
    "        while i < len(line):\n",
    "            if line[i:i+2] == '/*' and not block:\n",
    "                block = True\n",
    "                i += 1    # 这里只+1是因为后面有个全局+1\n",
    "            elif line[i:i+2] == '*/' and block:\n",
    "                block = False\n",
    "                i += 1\n",
    "            elif not block and line[i:i+2] == '//':\n",
    "                break    # 跳过当前行\n",
    "            elif not block:\n",
    "                val_line.append(line[i])    # 有效行增加字符\n",
    "            i += 1\n",
    "\n",
    "        if val_line and not block:\n",
    "            res.append(''.join(val_line))\n",
    "\n",
    "    return res"
   ]
  },
  {
   "cell_type": "markdown",
   "metadata": {},
   "source": [
    "[Encode and Decode TinyURL](https://leetcode.com/problems/encode-and-decode-tinyurl/)。实现TinyURL的编码与解码。TinyURL是一种web服务，它将任意长URL转换成有固定前缀的短URL。\n",
    "\n",
    "思路：使用哈希映射，对每一个URL都做编号。直接使用```dict```类型其实是一个取巧方法，该题其实是想考察哈希算法的实现。"
   ]
  },
  {
   "cell_type": "code",
   "execution_count": null,
   "metadata": {},
   "outputs": [],
   "source": [
    "class Codec:\n",
    "    def __init__(self):\n",
    "        self.idx = 0\n",
    "        self.table = dict()\n",
    "\n",
    "    def encode(self, longUrl):\n",
    "        \"\"\"Encodes a URL to a shortened URL.\n",
    "\n",
    "        :type longUrl: str\n",
    "        :rtype: str\n",
    "        \"\"\"\n",
    "        self.table[self.idx] = longUrl\n",
    "        self.idx += 1\n",
    "        return self.idx-1\n",
    "\n",
    "    def decode(self, shortUrl):\n",
    "        \"\"\"Decodes a shortened URL to its original URL.\n",
    "\n",
    "        :type shortUrl: str\n",
    "        :rtype: str\n",
    "        \"\"\"\n",
    "        return self.table[shortUrl]"
   ]
  }
 ],
 "metadata": {
  "hide_input": false,
  "kernelspec": {
   "display_name": "Python 3",
   "language": "python",
   "name": "python3"
  },
  "language_info": {
   "codemirror_mode": {
    "name": "ipython",
    "version": 3
   },
   "file_extension": ".py",
   "mimetype": "text/x-python",
   "name": "python",
   "nbconvert_exporter": "python",
   "pygments_lexer": "ipython3",
   "version": "3.7.4"
  },
  "toc": {
   "base_numbering": 1,
   "nav_menu": {},
   "number_sections": true,
   "sideBar": true,
   "skip_h1_title": false,
   "title_cell": "Table of Contents",
   "title_sidebar": "Contents",
   "toc_cell": false,
   "toc_position": {},
   "toc_section_display": true,
   "toc_window_display": false
  }
 },
 "nbformat": 4,
 "nbformat_minor": 2
}
