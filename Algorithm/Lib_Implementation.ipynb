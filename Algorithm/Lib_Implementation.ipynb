{
 "cells": [
  {
   "cell_type": "markdown",
   "metadata": {},
   "source": [
    "实现乘方库函数```pow()```的整数运算。"
   ]
  },
  {
   "cell_type": "code",
   "execution_count": 4,
   "metadata": {},
   "outputs": [
    {
     "data": {
      "text/plain": [
       "0.25"
      ]
     },
     "execution_count": 4,
     "metadata": {},
     "output_type": "execute_result"
    }
   ],
   "source": [
    "# 思路：分治法，二分思想，注意有三种情况\n",
    "# 偶数幂，不断放大x，指数不断减半\n",
    "# 奇数幂，先将一个x乘到答案中去，然后同偶数幂。该步最多执行两次，首次(奇数幂)跟最后一次(1次方)\n",
    "# 负指数，返回答案的倒数\n",
    "\n",
    "\n",
    "def myPow(x: float, n: int) -> float:\n",
    "    exp = abs(n)\n",
    "    res = 1\n",
    "    while exp:\n",
    "        if exp & 1:\n",
    "            res *= x\n",
    "        x *= x\n",
    "        exp >>= 1\n",
    "\n",
    "    return res if n >= 0 else 1/res"
   ]
  },
  {
   "cell_type": "code",
   "execution_count": 23,
   "metadata": {},
   "outputs": [
    {
     "data": {
      "text/plain": [
       "0.25"
      ]
     },
     "execution_count": 23,
     "metadata": {},
     "output_type": "execute_result"
    }
   ],
   "source": [
    "# 需要考虑底数为0，指数为0，指数为负数这三种情况\n",
    "# 当指数为偶数时，可以使用递归求解\n",
    "# 当指数为奇数时，还要单独乘一次基数\n",
    "\n",
    "\n",
    "def power(base, exp):\n",
    "    # 几个基准值\n",
    "    if base == 0:\n",
    "        return 0\n",
    "    if exp == 0:\n",
    "        return 1\n",
    "    if exp == 1:\n",
    "        return base\n",
    "\n",
    "    neg_flag = 1 if exp < 0 else 0  # 负指数标记\n",
    "    exp = abs(exp)\n",
    "\n",
    "    num = power(base, exp >> 1)\n",
    "    num *= num\n",
    "    if exp & 0x01 == 1:  # 判断是否奇数\n",
    "        num *= base\n",
    "\n",
    "    if neg_flag:\n",
    "        num = 1 / num\n",
    "\n",
    "    return num"
   ]
  },
  {
   "cell_type": "markdown",
   "metadata": {},
   "source": [
    "实现\".\"与\"*\"的正则匹配，前者代表任意字符，后者代表任意次数。"
   ]
  },
  {
   "cell_type": "code",
   "execution_count": 11,
   "metadata": {},
   "outputs": [
    {
     "data": {
      "text/plain": [
       "False"
      ]
     },
     "execution_count": 11,
     "metadata": {},
     "output_type": "execute_result"
    }
   ],
   "source": [
    "# 注意\"*\"号的出现是难点，可以匹配0次，可以匹配1次，可以匹配多次\n",
    "# 注意\"*\"号的判断优先级要高于\".\"\n",
    "def re_match(string, pattern):\n",
    "    # 几种特殊情况\n",
    "    if string is None or pattern is None:\n",
    "        return False\n",
    "    elif len(string) == 0 and len(pattern) == 0:\n",
    "        return True\n",
    "    elif len(string) > 0 and len(pattern) == 0:\n",
    "        return False\n",
    "\n",
    "    # 匹配位置后面出现\"*\"的情况，\"*\"的优先级要高于\".\"\n",
    "    elif len(pattern) > 1 and pattern[1] == '*':\n",
    "        # 分为两种情况，可以匹配或无法匹配\n",
    "        if len(string) > 0 and (string[0] == pattern[0] or pattern[0] == '.'):  # 可以匹配，字符相等或出现任意符\n",
    "            return (re_match(string, pattern[2:]) or  # 跳过'*'\n",
    "                    re_match(string[1:], pattern[2:]) or  # '*'匹配一次\n",
    "                    re_match(string[1:], pattern))  # '*'匹配多次\n",
    "        else:  # 无法匹配\n",
    "            return re_match(string, pattern[2:])\n",
    "\n",
    "    # 匹配成功的情况，字符相等或遇到任意匹配符\".\"\n",
    "    elif len(string) > 0 and (string[0] == pattern[0] or pattern[0] == '.'):\n",
    "        return re_match(string[1:], pattern[1:])\n",
    "\n",
    "    # 字符不等\n",
    "    else:\n",
    "        return False"
   ]
  },
  {
   "cell_type": "code",
   "execution_count": null,
   "metadata": {},
   "outputs": [],
   "source": [
    "[]()。"
   ]
  },
  {
   "cell_type": "markdown",
   "metadata": {},
   "source": [
    "判断字符串是否表示一个数值。"
   ]
  },
  {
   "cell_type": "code",
   "execution_count": 54,
   "metadata": {},
   "outputs": [
    {
     "data": {
      "text/plain": [
       "False"
      ]
     },
     "execution_count": 54,
     "metadata": {},
     "output_type": "execute_result"
    }
   ],
   "source": [
    "# 最简单的，使用内置float()函数判断\n",
    "# 或者写一个正则匹配规则去判断\n",
    "# 难点在于模拟正则的匹配过程\n",
    "# 判断顺序为：[正负号],[整数部分],[.],[小数部分],[e],[符号],[阶码]\n",
    "# 本体还有一个难点在于Python字符串没有结束符'\\0'，所以需要细致考虑越界情况\n",
    "\n",
    "idx = 0  # 全局指针\n",
    "\n",
    "\n",
    "def is_numeric(string):\n",
    "    if string is None or len(string) == 0:\n",
    "        return False\n",
    "\n",
    "    global idx\n",
    "    num_head = scan_int(string)  # 判断是否数字开头，且把指针移至数字后\n",
    "\n",
    "    # 这一部分代码判断底数的合法性\n",
    "    if idx < len(string) and string[idx] == '.':\n",
    "        idx += 1\n",
    "        # 如果数字打头，则小数点后有无数字无所谓；如果不是数字打头，则小数点后必须有数字。两者中必须有一个成立\n",
    "        # 注意顺序，继续扫描的优先级要高于后者，否则指针会停在小数点后一位\n",
    "        num_head = (scan_uint(string) or num_head)\n",
    "\n",
    "    # 这一部分代码判断阶码的合法性\n",
    "    if idx < len(string) and (string[idx] == 'e' or string[idx] == 'E'):\n",
    "        idx += 1\n",
    "        # 如果数字打头，则e后面必须有数字；如果不是数字打头，那么e后面有数字也没用。两者必须同时成立\n",
    "        num_head = (num_head and scan_int(string))\n",
    "\n",
    "    return num_head and idx == len(string)  # 后一个条件用于判断是否扫描完整个字符串\n",
    "\n",
    "\n",
    "# 扫描数字，并将指针移至数字后\n",
    "def scan_int(string):\n",
    "    global idx\n",
    "    # 有符号则指针后移\n",
    "    if (idx < len(string)) and (string[idx] == '+' or string[idx] == '-'):\n",
    "        idx += 1\n",
    "    return scan_uint(string)\n",
    "\n",
    "\n",
    "def scan_uint(string):\n",
    "    global idx\n",
    "    tmp = idx  # 初始指针位置\n",
    "    while (idx < len(string)) and (string[idx] >= '0') and (string[idx] <= '9'):\n",
    "        idx += 1\n",
    "    return idx > tmp  # 指针变化说明存在数字\n",
    "\n",
    "\n",
    "is_numeric('123e')"
   ]
  },
  {
   "cell_type": "markdown",
   "metadata": {},
   "source": [
    "实现```int(str)```函数。当str无法转成int类型时返回0。"
   ]
  },
  {
   "cell_type": "code",
   "execution_count": 12,
   "metadata": {},
   "outputs": [
    {
     "data": {
      "text/plain": [
       "0"
      ]
     },
     "execution_count": 12,
     "metadata": {},
     "output_type": "execute_result"
    }
   ],
   "source": [
    "# 思路：功能实现不难，难点在于各种特殊情况的考虑\n",
    "\n",
    "\n",
    "def Int(s):\n",
    "    stat = False    # 数字0与非法字符串都会返回0，需要一个状态变量指示是否非法数字\n",
    "    if not s or s == '+' or s == '-':\n",
    "        stat = True\n",
    "        return 0\n",
    "\n",
    "    # 提取符号位\n",
    "    sign = 1\n",
    "    if s[0] == '+':\n",
    "        s = s[1:]\n",
    "    elif s[0] == '-':\n",
    "        sign = -1\n",
    "        s = s[1:]\n",
    "\n",
    "    num = 0\n",
    "    for ch in s:\n",
    "        cur_num = ord(ch)-48\n",
    "        if 0 <= cur_num <= 9:\n",
    "            num = num*10+cur_num\n",
    "        else:\n",
    "            stat = -True\n",
    "            return 0\n",
    "\n",
    "    return num*sign\n",
    "\n",
    "\n",
    "Int('asdas')"
   ]
  },
  {
   "cell_type": "markdown",
   "metadata": {},
   "source": [
    "[Insert Delete GetRandom O(1)](https://leetcode.com/problems/insert-delete-getrandom-o1/)。实现一个高效的随机增删数据结构，还要求能够高效地随机弹出一个元素。"
   ]
  },
  {
   "cell_type": "code",
   "execution_count": null,
   "metadata": {},
   "outputs": [],
   "source": [
    "# 思路：在插入跟删除之前，需要高效地判断该元素是否存在，对应数据结构为dict与set\n",
    "# 但是该题的题意其实就是考察哈希表的背后实现，准确来说需要一个哈希表与数组\n",
    "# 元素实际存储在数组中，哈希表只存储元素与数组位置的一个映射关系\n",
    "# 数组的插入是O(1)，但是删除的话需要把待删除元素与最后一个元素调换再删除才是O(1)\n",
    "# 至于随机弹出元素，产生随机数即可\n",
    "\n",
    "import random\n",
    "\n",
    "\n",
    "class RandomizedSet:\n",
    "\n",
    "    def __init__(self):\n",
    "        \"\"\"\n",
    "        Initialize your data structure here.\n",
    "        \"\"\"\n",
    "        self.stor = list()\n",
    "        self.table = dict()\n",
    "        self.ptr = 0    # 指向最后一个元素的指针\n",
    "\n",
    "    def insert(self, val: int) -> bool:\n",
    "        \"\"\"\n",
    "        Inserts a value to the set. Returns true if the set did not already contain the specified element.\n",
    "        \"\"\"\n",
    "        if val not in self.table.keys():    # 不存在才插入\n",
    "            self.stor.append(val)\n",
    "            self.table[val] = self.ptr\n",
    "            self.ptr += 1\n",
    "            return True\n",
    "        return False\n",
    "\n",
    "    def remove(self, val: int) -> bool:\n",
    "        \"\"\"\n",
    "        Removes a value from the set. Returns true if the set contained the specified element.\n",
    "        \"\"\"\n",
    "        if val in self.table.keys():    # 存在才删除\n",
    "            item_idx = self.table[val]    # 待删除元素的idx\n",
    "            last_idx = self.ptr-1     # 末元素的idx\n",
    "            last_item = self.stor[last_idx]    # 末元素\n",
    "            self.stor[item_idx] = last_item    # 末元素覆盖掉待删除元素\n",
    "            self.stor.pop()    # 删除末元素\n",
    "\n",
    "            # 更新映射表与尾指针\n",
    "            self.table[last_item] = item_idx\n",
    "            del self.table[val]\n",
    "            self.ptr -= 1\n",
    "            if self.ptr < 0:\n",
    "                self.ptr = 0\n",
    "            return True\n",
    "        return False\n",
    "\n",
    "    def getRandom(self) -> int:\n",
    "        \"\"\"\n",
    "        Get a random element from the set.\n",
    "        \"\"\"\n",
    "        return self.stor[random.randint(0,self.ptr-1)]"
   ]
  },
  {
   "cell_type": "code",
   "execution_count": null,
   "metadata": {},
   "outputs": [],
   "source": []
  }
 ],
 "metadata": {
  "hide_input": false,
  "kernelspec": {
   "display_name": "Python 3",
   "language": "python",
   "name": "python3"
  },
  "language_info": {
   "codemirror_mode": {
    "name": "ipython",
    "version": 3
   },
   "file_extension": ".py",
   "mimetype": "text/x-python",
   "name": "python",
   "nbconvert_exporter": "python",
   "pygments_lexer": "ipython3",
   "version": "3.6.6"
  },
  "toc": {
   "base_numbering": 1,
   "nav_menu": {},
   "number_sections": true,
   "sideBar": true,
   "skip_h1_title": false,
   "title_cell": "Table of Contents",
   "title_sidebar": "Contents",
   "toc_cell": false,
   "toc_position": {},
   "toc_section_display": true,
   "toc_window_display": false
  }
 },
 "nbformat": 4,
 "nbformat_minor": 2
}
