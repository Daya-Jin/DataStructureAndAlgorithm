{
 "cells": [
  {
   "cell_type": "code",
   "execution_count": 1,
   "metadata": {},
   "outputs": [],
   "source": [
    "class ListNode:\n",
    "    def __init__(self, x):\n",
    "        self.val = x\n",
    "        self.next = None"
   ]
  },
  {
   "cell_type": "markdown",
   "metadata": {},
   "source": [
    "[Insertion Sort List](https://leetcode.com/problems/insertion-sort-list/)。在链表上实现插入排序。\n",
    "\n",
    "思路：使用一个新链表来保存有序链表，那么移动一个节点需要维护新链表的前驱位置与旧链表的后继位置。"
   ]
  },
  {
   "cell_type": "code",
   "execution_count": 2,
   "metadata": {},
   "outputs": [],
   "source": [
    "def insertionSortList(head: ListNode) -> ListNode:\n",
    "    if not head or not head.next:\n",
    "        return head\n",
    "\n",
    "    dummy = ListNode(-0x80000000)\n",
    "    idx = head\n",
    "\n",
    "    while idx:\n",
    "        # 扫描寻找插入位置\n",
    "        pre = dummy\n",
    "        post = idx.next    # 原链表的后继\n",
    "        while pre.next and pre.next.val <= idx.val:\n",
    "            pre = pre.next\n",
    "        pre.next, idx.next = idx, pre.next\n",
    "        idx = post\n",
    "\n",
    "    return dummy.next"
   ]
  },
  {
   "cell_type": "markdown",
   "metadata": {},
   "source": [
    "[Remove Linked List Elements](https://leetcode.com/problems/remove-linked-list-elements/)。给一链表与一个key，删除所有值为key的节点。\n",
    "\n",
    "思路：基本操作"
   ]
  },
  {
   "cell_type": "code",
   "execution_count": null,
   "metadata": {},
   "outputs": [],
   "source": [
    "def removeElements(head: ListNode, val: int) -> ListNode:\n",
    "    if not head:\n",
    "        return head\n",
    "\n",
    "    dummy = ListNode(None)\n",
    "    dummy.next = head\n",
    "    pre = dummy\n",
    "\n",
    "    while pre and pre.next:\n",
    "        if pre.next.val == val:\n",
    "            pre.next = pre.next.next\n",
    "        else:\n",
    "            pre = pre.next\n",
    "\n",
    "    return dummy.next"
   ]
  },
  {
   "cell_type": "markdown",
   "metadata": {},
   "source": [
    "[Add Two Numbers II](https://leetcode.com/problems/add-two-numbers-ii/)。给两链表，每个节点表示一位数，每个链表表示一个数。对两链表求和。\n",
    "\n",
    "思路：因为数字加和是从最低位开始加的，所以可以用栈。首先建立两个栈将两链表的所有值全压进去，然后依次取值进行相加。同时还要维护一个位数的指针$k$，高位加和还需要乘上$10$的$k$次方。最后将总和转成字符串便于处理。"
   ]
  },
  {
   "cell_type": "code",
   "execution_count": 13,
   "metadata": {},
   "outputs": [
    {
     "data": {
      "text/plain": [
       "1"
      ]
     },
     "execution_count": 13,
     "metadata": {},
     "output_type": "execute_result"
    }
   ],
   "source": [
    "def addTwoNumbers(l1: ListNode, l2: ListNode) -> ListNode:\n",
    "    # 1. 边界条件\n",
    "    if not l1:\n",
    "        return l2\n",
    "    if not l2:\n",
    "        return l1\n",
    "\n",
    "    # 2. 双链表入双栈\n",
    "    s1, s2 = list(), list()\n",
    "    idx = l1\n",
    "    while idx:\n",
    "        s1.append(idx.val)\n",
    "        idx = idx.next\n",
    "    idx = l2\n",
    "    while idx:\n",
    "        s2.append(idx.val)\n",
    "        idx = idx.next\n",
    "\n",
    "    # 3. 求和\n",
    "    res = 0\n",
    "    bit = 0    # 记录加到哪一位了\n",
    "    while s1 and s2:\n",
    "        cur_sum = s1.pop()+s2.pop()\n",
    "        res += cur_sum*(10**bit)\n",
    "        bit += 1\n",
    "\n",
    "    while s1:\n",
    "        res += s1.pop()*(10**bit)\n",
    "        bit += 1\n",
    "    while s2:\n",
    "        res += s2.pop()*(10**bit)\n",
    "        bit += 1\n",
    "\n",
    "    # 4. 构建返回链表\n",
    "    res = str(res)\n",
    "    dummy = ListNode(None)\n",
    "    idx = dummy\n",
    "    while res:\n",
    "        idx.next = ListNode(int(res[0]))\n",
    "        res = res[1:]\n",
    "        idx = idx.next\n",
    "\n",
    "    return dummy.next"
   ]
  },
  {
   "cell_type": "markdown",
   "metadata": {},
   "source": [
    "[Split Linked List in Parts](https://leetcode.com/problems/split-linked-list-in-parts/)。给一链表与$k$个桶，要求把链表尽量均分到$k$个桶中，\n",
    "\n",
    "思路：$2$-pass，第一趟首先计算出链表的长度；第二趟开始做划分。若链表长度为$n$，那么每一个桶至少能分到$n//k$个节点，余数为$n\\%k$，即前$n\\%k$个桶都能额外分到一个节点。"
   ]
  },
  {
   "cell_type": "code",
   "execution_count": 16,
   "metadata": {},
   "outputs": [
    {
     "data": {
      "text/plain": [
       "[<__main__.ListNode at 0x1f1787ae208>, <__main__.ListNode at 0x1f1787aed68>]"
      ]
     },
     "execution_count": 16,
     "metadata": {},
     "output_type": "execute_result"
    }
   ],
   "source": [
    "def splitListToParts(root: ListNode, k: int):\n",
    "    res = [None for _ in range(k)]\n",
    "\n",
    "    # 计算链表长度\n",
    "    idx = root\n",
    "    n = 0\n",
    "    while idx:\n",
    "        n += 1\n",
    "        idx = idx.next\n",
    "\n",
    "    # 每个桶的基数与所有余数\n",
    "    base, ex = divmod(n, k)\n",
    "    idx = root    # 原链表的指针\n",
    "    for i in range(k):\n",
    "        sub_idx = res[i]    # 子链表的指针\n",
    "        if ex:    # 如果有余数，优先加到前面的桶\n",
    "            if sub_idx:\n",
    "                sub_idx.next = ListNode(idx.val)\n",
    "                sub_idx = sub_idx.next\n",
    "            else:\n",
    "                res[i] = ListNode(idx.val)\n",
    "                sub_idx = res[i]\n",
    "            idx = idx.next\n",
    "            ex -= 1\n",
    "        for j in range(base):\n",
    "            if sub_idx:\n",
    "                sub_idx.next = ListNode(idx.val)\n",
    "                sub_idx = sub_idx.next\n",
    "            else:\n",
    "                res[i] = ListNode(idx.val)\n",
    "                sub_idx = res[i]\n",
    "            idx = idx.next\n",
    "    return res"
   ]
  },
  {
   "cell_type": "markdown",
   "metadata": {},
   "source": [
    "[Flatten a Multilevel Doubly Linked List](https://leetcode.com/problems/flatten-a-multilevel-doubly-linked-list/)。一双向链表，除了有前驱节点指针与后继结点指针外，还有一个child指针，指向另一个双向链表的首节点。这样的节点构造构成了一个有层次的多链表结构。现要求把多层结构展开成单层结构，当存在child指针时，优先连接子链表。\n",
    "\n",
    "思路：从首节点开始扫描，当遇到既有后继又有child的节点时，将后继节点入栈即可。注意是双向链表，入栈时需要完全断链。总共有四种情况，无next无child、有next无child、有child无next、无next无child。"
   ]
  },
  {
   "cell_type": "code",
   "execution_count": null,
   "metadata": {},
   "outputs": [],
   "source": [
    "class Node:\n",
    "    def __init__(self, val, prev, next, child):\n",
    "        self.val = val\n",
    "        self.prev = prev\n",
    "        self.next = next\n",
    "        self.child = child\n",
    "\n",
    "\n",
    "def flatten(head: 'Node') -> 'Node':\n",
    "    if not head:\n",
    "        return head\n",
    "\n",
    "    s = list()\n",
    "    idx = head\n",
    "\n",
    "    while idx.next or idx.child or s:\n",
    "        if not idx.next and not idx.child:    # 无next无child\n",
    "            next_node = s.pop()\n",
    "            idx.next = next_node\n",
    "            next_node.prev = idx\n",
    "            idx = idx.next\n",
    "        elif not idx.child and idx.next:    # 有next无child\n",
    "            idx = idx.next\n",
    "        else:\n",
    "            if idx.next:    # 有next有child\n",
    "                s.append(idx.next)\n",
    "                idx.next.prev = None\n",
    "            idx.next = idx.child\n",
    "            idx.child.prev = idx\n",
    "            idx.child = None\n",
    "            idx = idx.next\n",
    "\n",
    "    return head"
   ]
  },
  {
   "cell_type": "markdown",
   "metadata": {},
   "source": [
    "[Linked List Components](https://leetcode.com/problems/linked-list-components/)。给一个链表，每个节点的值都不一样；在给一数组，每个元素都是链表中的节点值，判断这些值在链表中构成了几个相连的部分。\n",
    "\n",
    "思路：找分部的尾节点即可。扫描链表，如果当前节点不在G中，则跳过；若当前节点在G中但是下一个节点不在G中，说明是一个分部的尾节点。"
   ]
  },
  {
   "cell_type": "code",
   "execution_count": null,
   "metadata": {},
   "outputs": [],
   "source": [
    "def numComponents(head: ListNode, G) -> int:\n",
    "    G = set(G)\n",
    "    idx = head\n",
    "    res = 0\n",
    "\n",
    "    while idx:\n",
    "        if idx.val in G:\n",
    "            if idx.next and idx.next.val not in G:\n",
    "                res += 1\n",
    "            if not idx.next:    # 末尾\n",
    "                res += 1\n",
    "\n",
    "        idx = idx.next\n",
    "\n",
    "    return res"
   ]
  },
  {
   "cell_type": "code",
   "execution_count": null,
   "metadata": {},
   "outputs": [],
   "source": []
  }
 ],
 "metadata": {
  "hide_input": false,
  "kernelspec": {
   "display_name": "Python 3",
   "language": "python",
   "name": "python3"
  },
  "language_info": {
   "codemirror_mode": {
    "name": "ipython",
    "version": 3
   },
   "file_extension": ".py",
   "mimetype": "text/x-python",
   "name": "python",
   "nbconvert_exporter": "python",
   "pygments_lexer": "ipython3",
   "version": "3.7.4"
  },
  "toc": {
   "base_numbering": 1,
   "nav_menu": {},
   "number_sections": true,
   "sideBar": true,
   "skip_h1_title": false,
   "title_cell": "Table of Contents",
   "title_sidebar": "Contents",
   "toc_cell": false,
   "toc_position": {},
   "toc_section_display": true,
   "toc_window_display": false
  }
 },
 "nbformat": 4,
 "nbformat_minor": 2
}
