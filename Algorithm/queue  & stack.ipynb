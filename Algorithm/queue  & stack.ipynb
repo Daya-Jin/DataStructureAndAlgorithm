{
 "cells": [
  {
   "cell_type": "markdown",
   "metadata": {},
   "source": [
    "[Min Stack](https://leetcode.com/problems/min-stack/)。实现一个栈结构，其push, pop, min的时间复杂度均为O(1)。"
   ]
  },
  {
   "cell_type": "code",
   "execution_count": null,
   "metadata": {},
   "outputs": [],
   "source": [
    "# 设立一个辅助栈，其空间大小与原栈相等，但是栈顶始终记录原栈中的最小值以实现min()\n",
    "# 入栈时，辅助栈只入小值；出栈时，两栈栈顶相等时才同时出栈；辅助栈元素总是少于等于原栈\n",
    "\n",
    "\n",
    "class Min_Stack:\n",
    "    def __init__(self):\n",
    "        self.item = list()\n",
    "        self.min_s = list()\n",
    "\n",
    "    # 入栈时，原栈正常操作，辅助栈只入小值\n",
    "    def push(self, x):\n",
    "        self.item.append(x)\n",
    "        if not self.min_s or x <= self.min_s[-1]:\n",
    "            self.min_s.append(x)\n",
    "\n",
    "    # 出栈时，原栈正常操作，当原栈栈顶为最小值时，辅助栈才出栈\n",
    "    def pop(self):\n",
    "        if self.item[-1] == self.min[-1]:\n",
    "            self.min_s.pop()\n",
    "        return self.item.pop()\n",
    "\n",
    "    def min(self):\n",
    "        return self.min_s[-1]"
   ]
  },
  {
   "cell_type": "markdown",
   "metadata": {},
   "source": [
    "[Number of Recent Calls](https://leetcode.com/problems/number-of-recent-calls/). 实现一个电话类，只记录最近3000s之内的电话记录。"
   ]
  },
  {
   "cell_type": "code",
   "execution_count": 2,
   "metadata": {},
   "outputs": [
    {
     "data": {
      "text/plain": [
       "1"
      ]
     },
     "execution_count": 2,
     "metadata": {},
     "output_type": "execute_result"
    }
   ],
   "source": [
    "# 思路：使用一个队列，每次来电时将来电时间入队\n",
    "# 同时弹出队列中所有3000s之前的记录，最后返回队列长度\n",
    "\n",
    "class RecentCounter(object):\n",
    "    def __init__(self):\n",
    "        self.q = list()\n",
    "\n",
    "    def ping(self, t):\n",
    "        self.q.append(t)\n",
    "        while self.q[0] < t-3000:    # 弹出队列中所有过期的通话记录\n",
    "            self.q.pop(0)\n",
    "\n",
    "        return len(self.q)"
   ]
  },
  {
   "cell_type": "code",
   "execution_count": null,
   "metadata": {},
   "outputs": [],
   "source": []
  }
 ],
 "metadata": {
  "hide_input": false,
  "kernelspec": {
   "display_name": "Python 3",
   "language": "python",
   "name": "python3"
  },
  "language_info": {
   "codemirror_mode": {
    "name": "ipython",
    "version": 3
   },
   "file_extension": ".py",
   "mimetype": "text/x-python",
   "name": "python",
   "nbconvert_exporter": "python",
   "pygments_lexer": "ipython3",
   "version": "3.7.4"
  },
  "toc": {
   "base_numbering": 1,
   "nav_menu": {},
   "number_sections": true,
   "sideBar": true,
   "skip_h1_title": false,
   "title_cell": "Table of Contents",
   "title_sidebar": "Contents",
   "toc_cell": false,
   "toc_position": {},
   "toc_section_display": true,
   "toc_window_display": false
  }
 },
 "nbformat": 4,
 "nbformat_minor": 2
}
