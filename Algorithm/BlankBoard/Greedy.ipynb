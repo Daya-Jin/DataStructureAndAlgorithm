{
 "cells": [
  {
   "cell_type": "markdown",
   "metadata": {},
   "source": [
    "[Maximum Subarray](https://leetcode.com/problems/maximum-subarray/)。给一整形数组，求最大连续子数组的和。\n",
    "\n",
    "思路：线性扫描，维护一个最大和与当前和。若当前和小于$0$，则将```cur_sum```置零重新开始加和。"
   ]
  },
  {
   "cell_type": "code",
   "execution_count": null,
   "metadata": {},
   "outputs": [],
   "source": [
    "def maxSubArray(nums) -> int:\n",
    "    res = -0x80000000\n",
    "    cur_sum = 0\n",
    "\n",
    "    for num in nums:\n",
    "        if cur_sum < 0:\n",
    "            cur_sum = num\n",
    "        else:\n",
    "            cur_sum += num\n",
    "\n",
    "        res = max(res, cur_sum)\n",
    "\n",
    "    return res"
   ]
  },
  {
   "cell_type": "markdown",
   "metadata": {},
   "source": [
    "[Gas Station](https://leetcode.com/problems/gas-station/)。一个环路上有若干加气站，现有两个数组，一个数组```gas```表示每个加气站的加气量，```cost```数组表示到下个加气站所需要的气量。求一个能跑完整个环路的起点加气站。不存在则返回$-1$。\n",
    "\n",
    "思路：为了避免环形扫描，首先判断是否存在满足题意的起点加气站。若$sum(gas)>sum(cost)$，则必定存在一个这样的起点加气站。线性扫描加气站，若剩余气量+加气量>所需气量，说明可以到达下一个加气站，更新剩余气量。"
   ]
  },
  {
   "cell_type": "code",
   "execution_count": 2,
   "metadata": {},
   "outputs": [
    {
     "data": {
      "text/plain": [
       "0"
      ]
     },
     "execution_count": 2,
     "metadata": {},
     "output_type": "execute_result"
    }
   ],
   "source": [
    "def canCompleteCircuit(gas, cost) -> int:\n",
    "    if sum(gas) < sum(cost):\n",
    "        return -1\n",
    "\n",
    "    left_gas = 0\n",
    "    n = len(gas)\n",
    "    res = 0\n",
    "\n",
    "    for idx in range(n):\n",
    "        left_gas += gas[idx]\n",
    "        \n",
    "        if left_gas >= cost[idx]:\n",
    "            left_gas -= cost[idx]\n",
    "        else:\n",
    "            left_gas = 0\n",
    "            res = idx+1\n",
    "\n",
    "    return res"
   ]
  },
  {
   "cell_type": "markdown",
   "metadata": {},
   "source": [
    "[Best Time to Buy and Sell Stock](https://leetcode.com/problems/best-time-to-buy-and-sell-stock/)。给一数组表示一只股票的历史价格，限定买卖一次，求最大利润。\n",
    "\n",
    "思路：贪心算法，线性扫描，需要维护两个变量，一个是到目前为止的最低价，另一个是最大利润。"
   ]
  },
  {
   "cell_type": "code",
   "execution_count": null,
   "metadata": {},
   "outputs": [],
   "source": [
    "def maxProfit(prices) -> int:\n",
    "    if len(prices) < 2:\n",
    "        return 0\n",
    "\n",
    "    min_val = 0x7FFFFFFF\n",
    "    res = -0x80000000\n",
    "\n",
    "    for price in prices:\n",
    "        min_val = min(min_val, price)\n",
    "        res = max(res, price-min_val)\n",
    "\n",
    "    return res"
   ]
  },
  {
   "cell_type": "markdown",
   "metadata": {},
   "source": [
    "[Best Time to Buy and Sell Stock II](https://leetcode.com/problems/best-time-to-buy-and-sell-stock-ii/)。给一数组表示一只股票的历史价格，限定每天只能买卖一次，但不限定总交易次数。求最大利润。\n",
    "\n",
    "思路：贪心算法。由于给出了股票的历史价格，假设一直秉持低买高卖的策略，那么整个曲线中的涨势差价是可以完美赚到的。所以只要计算数组中的上涨差价即可。"
   ]
  },
  {
   "cell_type": "code",
   "execution_count": null,
   "metadata": {},
   "outputs": [],
   "source": [
    "def maxProfit(prices) -> int:\n",
    "    res = 0\n",
    "\n",
    "    for idx in range(len(prices)-1):\n",
    "        if prices[idx+1] > prices[idx]:\n",
    "            res += prices[idx+1]-prices[idx]\n",
    "\n",
    "    return res"
   ]
  },
  {
   "cell_type": "markdown",
   "metadata": {},
   "source": [
    "[Longest Continuous Increasing Subsequence](https://leetcode.com/problems/longest-continuous-increasing-subsequence/)。最长连续递增序列的长度。\n",
    "\n",
    "思路：贪心算法。"
   ]
  },
  {
   "cell_type": "code",
   "execution_count": 4,
   "metadata": {},
   "outputs": [
    {
     "data": {
      "text/plain": [
       "4"
      ]
     },
     "execution_count": 4,
     "metadata": {},
     "output_type": "execute_result"
    }
   ],
   "source": [
    "def findLengthOfLCIS(nums) -> int:\n",
    "    n = len(nums)\n",
    "    if n == 0:\n",
    "        return 0\n",
    "\n",
    "    res = cur_res = 1\n",
    "    for idx in range(1, n):\n",
    "        if nums[idx] > nums[idx-1]:\n",
    "            cur_res += 1\n",
    "            res = max(res, cur_res)\n",
    "        else:\n",
    "            cur_res = 1\n",
    "    return res"
   ]
  },
  {
   "cell_type": "markdown",
   "metadata": {},
   "source": [
    "[Third Maximum Number](https://leetcode.com/problems/third-maximum-number/)。给一非空数组，找到数组中第三大的数，如有重复值则忽略，不存在则返回最大值。\n",
    "\n",
    "思路：$32$位整形最小值是$-0x80000000$，维护一个最大三值的列表，初始值设为$-0x80000001$。注意跳过重复值。"
   ]
  },
  {
   "cell_type": "code",
   "execution_count": null,
   "metadata": {},
   "outputs": [],
   "source": [
    "def thirdMax(nums) -> int:\n",
    "    tmp=[0x80000000]*3\n",
    "    "
   ]
  }
 ],
 "metadata": {
  "hide_input": false,
  "kernelspec": {
   "display_name": "Python 3",
   "language": "python",
   "name": "python3"
  },
  "language_info": {
   "codemirror_mode": {
    "name": "ipython",
    "version": 3
   },
   "file_extension": ".py",
   "mimetype": "text/x-python",
   "name": "python",
   "nbconvert_exporter": "python",
   "pygments_lexer": "ipython3",
   "version": "3.7.4"
  },
  "toc": {
   "base_numbering": 1,
   "nav_menu": {},
   "number_sections": true,
   "sideBar": true,
   "skip_h1_title": false,
   "title_cell": "Table of Contents",
   "title_sidebar": "Contents",
   "toc_cell": false,
   "toc_position": {},
   "toc_section_display": true,
   "toc_window_display": false
  }
 },
 "nbformat": 4,
 "nbformat_minor": 2
}
