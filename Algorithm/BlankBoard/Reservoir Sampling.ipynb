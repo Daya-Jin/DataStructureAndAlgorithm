{
 "cells": [
  {
   "cell_type": "markdown",
   "metadata": {},
   "source": [
    "[Random Pick Index](https://leetcode.com/problems/random-pick-index/)。给一极长数组```nums```跟一个目标值```target```，随机返回一个```target```的索引。\n",
    "\n",
    "思路：大数据中的随机抽样，水塘抽样算法。该题中水塘容量$k=1$，并且只有当```num==target```时才对$t$进行增加。"
   ]
  },
  {
   "cell_type": "code",
   "execution_count": null,
   "metadata": {},
   "outputs": [],
   "source": [
    "class Solution:\n",
    "    def __init__(self, nums):\n",
    "        self.nums = nums\n",
    "        self.k = 1\n",
    "        import random\n",
    "\n",
    "    def pick(self, target: int) -> int:\n",
    "        t = 0\n",
    "        for idx, num in enumerate(self.nums):\n",
    "            if num == target:\n",
    "                t += 1\n",
    "                m = random.randint(0, t-1)    # [0,t-1]\n",
    "                if m < self.k:\n",
    "                    res = idx\n",
    "\n",
    "        return res"
   ]
  },
  {
   "cell_type": "markdown",
   "metadata": {},
   "source": [
    "[Linked List Random Node](https://leetcode.com/problems/linked-list-random-node/)。给一单链表，要求随机返回一个节点值，只允许扫描一遍。保证头结点不为空。\n",
    "\n",
    "思路：水塘抽样，$k=1$。"
   ]
  },
  {
   "cell_type": "code",
   "execution_count": null,
   "metadata": {},
   "outputs": [],
   "source": [
    "class ListNode:\n",
    "    def __init__(self, x):\n",
    "        self.val = x\n",
    "        self.next = None\n",
    "\n",
    "\n",
    "class Solution:\n",
    "    def __init__(self, head: ListNode):\n",
    "        self.k = 1\n",
    "        self.head = head\n",
    "        import random\n",
    "\n",
    "    def getRandom(self) -> int:\n",
    "        t = 0\n",
    "        idx = self.head\n",
    "        while idx:\n",
    "            t += 1\n",
    "            m = random.randint(0, t-1)\n",
    "            if m < self.k:\n",
    "                res = idx.val\n",
    "            idx = idx.next\n",
    "\n",
    "        return res"
   ]
  },
  {
   "cell_type": "markdown",
   "metadata": {},
   "source": [
    "[Shuffle an Array](https://leetcode.com/problems/shuffle-an-array/)。将一数组随机洗牌，使得所有可能的结果等可能出现。\n",
    "\n",
    "思路：随机算法，线性扫描所有位置，设为$i$，每次生成一个$[0,i]$的随机索引，然后将$i$位置上的数字与随机索引交换即可。"
   ]
  },
  {
   "cell_type": "code",
   "execution_count": null,
   "metadata": {},
   "outputs": [],
   "source": [
    "class Solution:\n",
    "    def __init__(self, nums: List[int]):\n",
    "        self._raw_arr = nums[:]\n",
    "        self.arr = nums\n",
    "        import random\n",
    "\n",
    "    def reset(self) -> List[int]:\n",
    "        \"\"\"\n",
    "        Resets the array to its original configuration and return it.\n",
    "        \"\"\"\n",
    "        self.arr = self._raw_arr[:]\n",
    "        return self.arr\n",
    "\n",
    "    def shuffle(self) -> List[int]:\n",
    "        \"\"\"\n",
    "        Returns a random shuffling of the array.\n",
    "        \"\"\"\n",
    "        for i in range(len(self.arr)):\n",
    "            random_idx = random.randint(0, i)\n",
    "            self.arr[i], self.arr[random_idx] = self.arr[random_idx], self.arr[i]\n",
    "\n",
    "        return self.arr"
   ]
  }
 ],
 "metadata": {
  "hide_input": false,
  "kernelspec": {
   "display_name": "Python 3",
   "language": "python",
   "name": "python3"
  },
  "language_info": {
   "codemirror_mode": {
    "name": "ipython",
    "version": 3
   },
   "file_extension": ".py",
   "mimetype": "text/x-python",
   "name": "python",
   "nbconvert_exporter": "python",
   "pygments_lexer": "ipython3",
   "version": "3.7.4"
  },
  "toc": {
   "base_numbering": 1,
   "nav_menu": {},
   "number_sections": true,
   "sideBar": true,
   "skip_h1_title": false,
   "title_cell": "Table of Contents",
   "title_sidebar": "Contents",
   "toc_cell": false,
   "toc_position": {},
   "toc_section_display": true,
   "toc_window_display": false
  }
 },
 "nbformat": 4,
 "nbformat_minor": 2
}
