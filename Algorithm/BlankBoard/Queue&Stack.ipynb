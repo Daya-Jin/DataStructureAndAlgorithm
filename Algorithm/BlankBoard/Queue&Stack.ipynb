{
 "cells": [
  {
   "cell_type": "markdown",
   "metadata": {},
   "source": [
    "[Next Greater Element I](https://leetcode.com/problems/next-greater-element-i/)。给一不含重复元素的数组$nums2$，选出一个子集$nums1$，求$nums1$中所有数字在$nums2$中最近的比它大的数字。\n",
    "\n",
    "思路：求出每一个数字的最近比它大的数字很简单，单调栈即可解决。如果是一组数，使用哈希表记录即可。"
   ]
  },
  {
   "cell_type": "code",
   "execution_count": 20,
   "metadata": {},
   "outputs": [],
   "source": [
    "def nextGreaterElement(nums1, nums2):\n",
    "    table = dict()\n",
    "    s = list()\n",
    "\n",
    "    for num in nums2:\n",
    "        if not s:\n",
    "            s.append(num)\n",
    "\n",
    "        while s and num > s[-1]:\n",
    "            pre_num = s.pop()\n",
    "            table[pre_num] = num\n",
    "\n",
    "        s.append(num)\n",
    "\n",
    "    while s:\n",
    "        pre_num = s.pop()\n",
    "        table[pre_num] = -1\n",
    "\n",
    "    return [table[num] for num in nums1]"
   ]
  },
  {
   "cell_type": "markdown",
   "metadata": {},
   "source": [
    "[Next Greater Element II](https://leetcode.com/problems/next-greater-element-ii/)。给一循环数组，求数组中所有数字的最近比它大的数字。\n",
    "\n",
    "思路：该题有两个坑，一是循环，二是有重复数字。对于循环，可以将原数组加倍后再遍历；而对于重复数字和求所有数字的下一个大数，可以使用数组来代替哈希表。"
   ]
  },
  {
   "cell_type": "code",
   "execution_count": 21,
   "metadata": {},
   "outputs": [],
   "source": [
    "def nextGreaterElements(nums):\n",
    "    double_nums = nums+nums\n",
    "    n = len(nums)\n",
    "    s = list()\n",
    "    res = [-1]*n\n",
    "\n",
    "    for idx, num in enumerate(double_nums):\n",
    "        if not s:\n",
    "            s.append(idx % n)\n",
    "            continue\n",
    "\n",
    "        while s and num > nums[s[-1]]:\n",
    "            pre_num_idx = s.pop()\n",
    "            res[pre_num_idx] = num\n",
    "\n",
    "        s.append(idx % n)\n",
    "\n",
    "    return res"
   ]
  },
  {
   "cell_type": "code",
   "execution_count": null,
   "metadata": {},
   "outputs": [],
   "source": []
  }
 ],
 "metadata": {
  "hide_input": false,
  "kernelspec": {
   "display_name": "Python 3",
   "language": "python",
   "name": "python3"
  },
  "language_info": {
   "codemirror_mode": {
    "name": "ipython",
    "version": 3
   },
   "file_extension": ".py",
   "mimetype": "text/x-python",
   "name": "python",
   "nbconvert_exporter": "python",
   "pygments_lexer": "ipython3",
   "version": "3.7.4"
  },
  "toc": {
   "base_numbering": 1,
   "nav_menu": {},
   "number_sections": true,
   "sideBar": true,
   "skip_h1_title": false,
   "title_cell": "Table of Contents",
   "title_sidebar": "Contents",
   "toc_cell": false,
   "toc_position": {},
   "toc_section_display": true,
   "toc_window_display": false
  }
 },
 "nbformat": 4,
 "nbformat_minor": 2
}
