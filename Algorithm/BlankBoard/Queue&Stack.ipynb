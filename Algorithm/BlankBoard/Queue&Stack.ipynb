{
 "cells": [
  {
   "cell_type": "markdown",
   "metadata": {},
   "source": [
    "[Next Greater Element I](https://leetcode.com/problems/next-greater-element-i/)。给一不含重复元素的数组$nums2$，选出一个子集$nums1$，求$nums1$中所有数字在$nums2$中最近的比它大的数字。\n",
    "\n",
    "思路：求出每一个数字的最近比它大的数字很简单，单调栈即可解决。如果是一组数，使用哈希表记录即可。"
   ]
  },
  {
   "cell_type": "code",
   "execution_count": 20,
   "metadata": {},
   "outputs": [],
   "source": [
    "def nextGreaterElement(nums1, nums2):\n",
    "    table = dict()\n",
    "    s = list()\n",
    "\n",
    "    for num in nums2:\n",
    "        if not s:\n",
    "            s.append(num)\n",
    "\n",
    "        while s and num > s[-1]:\n",
    "            pre_num = s.pop()\n",
    "            table[pre_num] = num\n",
    "\n",
    "        s.append(num)\n",
    "\n",
    "    while s:\n",
    "        pre_num = s.pop()\n",
    "        table[pre_num] = -1\n",
    "\n",
    "    return [table[num] for num in nums1]"
   ]
  },
  {
   "cell_type": "markdown",
   "metadata": {},
   "source": [
    "[Next Greater Element II](https://leetcode.com/problems/next-greater-element-ii/)。给一循环数组，求数组中所有数字的最近比它大的数字。\n",
    "\n",
    "思路：该题有两个坑，一是循环，二是有重复数字。对于循环，可以将原数组加倍后再遍历；而对于重复数字和求所有数字的下一个大数，可以使用数组来代替哈希表。"
   ]
  },
  {
   "cell_type": "code",
   "execution_count": 21,
   "metadata": {},
   "outputs": [],
   "source": [
    "def nextGreaterElements(nums):\n",
    "    double_nums = nums+nums\n",
    "    n = len(nums)\n",
    "    s = list()\n",
    "    res = [-1]*n\n",
    "\n",
    "    for idx, num in enumerate(double_nums):\n",
    "        if not s:\n",
    "            s.append(idx % n)\n",
    "            continue\n",
    "\n",
    "        while s and num > nums[s[-1]]:\n",
    "            pre_num_idx = s.pop()\n",
    "            res[pre_num_idx] = num\n",
    "\n",
    "        s.append(idx % n)\n",
    "\n",
    "    return res"
   ]
  },
  {
   "cell_type": "markdown",
   "metadata": {},
   "source": [
    "[Implement Queue using Stacks](https://leetcode.com/problems/implement-queue-using-stacks/)。用栈实现队列。\n",
    "\n",
    "思路：使用两个栈，一个```s_in```负责入队，一个```s_out```负责出队。入队时直接把元素压入```s_in```中，出队时，直接```s_out```弹栈，若```s_out```为空，需要把```s_in```所有元素转移到```s_out```中。"
   ]
  },
  {
   "cell_type": "code",
   "execution_count": null,
   "metadata": {},
   "outputs": [],
   "source": [
    "class MyQueue:\n",
    "    def __init__(self):\n",
    "        \"\"\"\n",
    "        Initialize your data structure here.\n",
    "        \"\"\"\n",
    "        self.s_in = list()\n",
    "        self.s_out = list()\n",
    "\n",
    "    def push(self, x: int) -> None:\n",
    "        \"\"\"\n",
    "        Push element x to the back of queue.\n",
    "        \"\"\"\n",
    "        self.s_in.append(x)\n",
    "\n",
    "    def pop(self) -> int:\n",
    "        \"\"\"\n",
    "        Removes the element from in front of queue and returns that element.\n",
    "        \"\"\"\n",
    "        if len(self.s_out) == 0:\n",
    "            while len(self.s_in) > 0:\n",
    "                self.s_out.append(self.s_in.pop())\n",
    "\n",
    "        return self.s_out.pop()\n",
    "\n",
    "    def peek(self) -> int:\n",
    "        \"\"\"\n",
    "        Get the front element.\n",
    "        \"\"\"\n",
    "        return self.s_out[-1] if len(self.s_out) > 0 else self.s_in[0]\n",
    "\n",
    "    def empty(self) -> bool:\n",
    "        \"\"\"\n",
    "        Returns whether the queue is empty.\n",
    "        \"\"\"\n",
    "        return len(self.s_out) == 0 and len(self.s_in) == 0"
   ]
  },
  {
   "cell_type": "markdown",
   "metadata": {},
   "source": [
    "[Implement Stack using Queues](https://leetcode.com/problems/implement-stack-using-queues/)。使用队列实现栈。\n",
    "\n",
    "思路：使用了两个队列实现栈，一个空队列与一个非空队列。每次入栈将元素加到非空队列中；每次弹栈时，需要想办法取出非空队列的队尾元素，将除队尾元素的所有元素转移到空队列，再返回队尾元素。"
   ]
  },
  {
   "cell_type": "code",
   "execution_count": 2,
   "metadata": {},
   "outputs": [
    {
     "data": {
      "text/plain": [
       "False"
      ]
     },
     "execution_count": 2,
     "metadata": {},
     "output_type": "execute_result"
    }
   ],
   "source": [
    "class MyStack:\n",
    "    def __init__(self):\n",
    "        self.q1 = list()\n",
    "        self.q2 = list()\n",
    "        self.q1_emp_flag = False\n",
    "\n",
    "    def push(self, x: int) -> None:\n",
    "        if self.q1_emp_flag:\n",
    "            emp_q, non_emp_q = self.q1, self.q2\n",
    "        else:\n",
    "            emp_q, non_emp_q = self.q2, self.q1\n",
    "        non_emp_q.append(x)\n",
    "\n",
    "    def pop(self) -> int:\n",
    "        if self.q1_emp_flag:\n",
    "            emp_q, non_emp_q = self.q1, self.q2\n",
    "        else:\n",
    "            emp_q, non_emp_q = self.q2, self.q1\n",
    "\n",
    "        while len(non_emp_q) > 1:\n",
    "            emp_q.append(non_emp_q.pop(0))\n",
    "\n",
    "        self.q1_emp_flag = not self.q1_emp_flag\n",
    "        return non_emp_q.pop(0)\n",
    "\n",
    "    def top(self) -> int:\n",
    "        if self.q1_emp_flag:\n",
    "            emp_q, non_emp_q = self.q1, self.q2\n",
    "        else:\n",
    "            emp_q, non_emp_q = self.q2, self.q1\n",
    "\n",
    "        return non_emp_q[-1]\n",
    "\n",
    "    def empty(self) -> bool:\n",
    "        return len(self.q1) == 0 and len(self.q2) == 0"
   ]
  },
  {
   "cell_type": "markdown",
   "metadata": {},
   "source": [
    "[Validate Stack Sequences](https://leetcode.com/problems/validate-stack-sequences/)。给一压栈序列与一弹栈序列，判断两序列是否相对应。\n",
    "\n",
    "思路：设置一个栈模拟即可。"
   ]
  },
  {
   "cell_type": "code",
   "execution_count": 3,
   "metadata": {},
   "outputs": [
    {
     "data": {
      "text/plain": [
       "True"
      ]
     },
     "execution_count": 3,
     "metadata": {},
     "output_type": "execute_result"
    }
   ],
   "source": [
    "def validateStackSequences(pushed, popped) -> bool:\n",
    "    pop_idx = 0\n",
    "    s = list()\n",
    "\n",
    "    for num in pushed:\n",
    "        s.append(num)\n",
    "\n",
    "        while s and s[-1] == popped[pop_idx]:\n",
    "            s.pop()\n",
    "            pop_idx += 1\n",
    "\n",
    "    return pop_idx == len(popped)"
   ]
  },
  {
   "cell_type": "markdown",
   "metadata": {},
   "source": [
    "[Flatten Nested List Iterator](https://leetcode.com/problems/flatten-nested-list-iterator/)。设计一个迭代器，该迭代器接受一个数组或嵌套数组，每次调用返回单个元素。\n",
    "\n",
    "思路：该题关键在于怎么将嵌套数组扁平化。设置一个栈，首先将所有元素逆序入栈。然后每次判断栈顶元素是否是数字，若是数字则可以弹栈，若不是数字(是数组)，将数组弹栈，再将数组中的所有元素逆序入栈。一直重复直至栈顶是数字为止。"
   ]
  },
  {
   "cell_type": "code",
   "execution_count": 12,
   "metadata": {},
   "outputs": [
    {
     "name": "stdout",
     "output_type": "stream",
     "text": [
      "[1, 1, 2, 1, 1]\n"
     ]
    }
   ],
   "source": [
    "class NestedIterator(object):\n",
    "    def __init__(self, nestedList):\n",
    "        self.s = nestedList[::-1]\n",
    "\n",
    "    def next(self):\n",
    "        return self.s.pop()\n",
    "\n",
    "    def hasNext(self):\n",
    "        while self.s:\n",
    "            if isinstance(self.s[-1], int):\n",
    "                return True\n",
    "            else:\n",
    "                tmp = self.s.pop()\n",
    "                self.s.extend(tmp[::-1])\n",
    "\n",
    "        return False"
   ]
  },
  {
   "cell_type": "markdown",
   "metadata": {},
   "source": [
    "[Evaluate Reverse Polish Notation](https://leetcode.com/problems/evaluate-reverse-polish-notation/)。计算后缀表达式，要求除法向$0$截断，如$1/2=0$，$-1/2=0$。输入保证不含除零操作。\n",
    "\n",
    "思路：栈的典型应用，需要注意的是除法向$0$取整，并不是简单的向下取整。使用```int(a/b)```实现。"
   ]
  },
  {
   "cell_type": "code",
   "execution_count": 20,
   "metadata": {},
   "outputs": [
    {
     "data": {
      "text/plain": [
       "22"
      ]
     },
     "execution_count": 20,
     "metadata": {},
     "output_type": "execute_result"
    }
   ],
   "source": [
    "def evalRPN(tokens) -> int:\n",
    "    s = list()\n",
    "    opts = ('+', '-', '*', '/')\n",
    "\n",
    "    for token in tokens:\n",
    "        if token in opts:\n",
    "            op2 = int(s.pop())\n",
    "            op1 = int(s.pop())\n",
    "\n",
    "            if token == '+':\n",
    "                res = op1+op2\n",
    "            elif token == '-':\n",
    "                res = op1-op2\n",
    "            elif token == '*':\n",
    "                res = op1*op2\n",
    "            else:\n",
    "                res = int(op1/op2)\n",
    "\n",
    "            s.append(res)\n",
    "        else:\n",
    "            s.append(token)\n",
    "\n",
    "    return int(s[-1])"
   ]
  },
  {
   "cell_type": "markdown",
   "metadata": {},
   "source": [
    "[Number of Recent Calls](https://leetcode.com/problems/number-of-recent-calls/)。设计一个通话计数类，其能对$[t-3000,t]$时刻的通话记录计数。\n",
    "\n",
    "思路：使用队列即可，当有新通话时将当前时刻$t$入队，然后所有小于$t-3000$的通话时刻出队。"
   ]
  },
  {
   "cell_type": "code",
   "execution_count": null,
   "metadata": {},
   "outputs": [],
   "source": [
    "class RecentCounter:\n",
    "    def __init__(self):\n",
    "        self.q = list()\n",
    "        self.cnt = 0\n",
    "\n",
    "    def ping(self, t: int) -> int:\n",
    "        self.q.append(t)\n",
    "        self.cnt += 1\n",
    "\n",
    "        while self.q[0] < t-3000:\n",
    "            self.q.pop(0)\n",
    "            self.cnt -= 1\n",
    "\n",
    "        return self.cnt"
   ]
  }
 ],
 "metadata": {
  "hide_input": false,
  "kernelspec": {
   "display_name": "Python 3",
   "language": "python",
   "name": "python3"
  },
  "language_info": {
   "codemirror_mode": {
    "name": "ipython",
    "version": 3
   },
   "file_extension": ".py",
   "mimetype": "text/x-python",
   "name": "python",
   "nbconvert_exporter": "python",
   "pygments_lexer": "ipython3",
   "version": "3.7.4"
  },
  "toc": {
   "base_numbering": 1,
   "nav_menu": {},
   "number_sections": true,
   "sideBar": true,
   "skip_h1_title": false,
   "title_cell": "Table of Contents",
   "title_sidebar": "Contents",
   "toc_cell": false,
   "toc_position": {},
   "toc_section_display": true,
   "toc_window_display": false
  }
 },
 "nbformat": 4,
 "nbformat_minor": 2
}
