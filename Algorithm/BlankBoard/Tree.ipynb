{
 "cells": [
  {
   "cell_type": "code",
   "execution_count": 1,
   "metadata": {},
   "outputs": [],
   "source": [
    "class TreeNode:\n",
    "    def __init__(self, x):\n",
    "        self.val = x\n",
    "        self.left = None\n",
    "        self.right = None"
   ]
  },
  {
   "cell_type": "markdown",
   "metadata": {},
   "source": [
    "关于树的考点基本就两种，一种是通过遍历树来解，另一种是通过递归或者栈来解。还有一种罕见的将树转化成图来解的，那部分归到图中去了。\n",
    "\n",
    "遍历型无非就是四种遍历方式，前序、中序、后序跟层次遍历，其中后序遍历最难，但是可以通过变种前序遍历得到一个逆后序序列。\n",
    "\n",
    "递归型或栈型就是属于常规解法了，其实都可以归类到递归跟栈里面去。\n",
    "\n",
    "## 遍历型"
   ]
  },
  {
   "cell_type": "markdown",
   "metadata": {},
   "source": [
    "[Binary Tree Preorder Traversal](https://leetcode.com/problems/binary-tree-preorder-traversal/)。二叉树的先序遍历。[Binary Tree Postorder Traversal](https://leetcode.com/problems/binary-tree-postorder-traversal/)。二叉树的后序遍历。\n",
    "\n",
    "思路：栈，每访问一个节点，先右子节点入栈，再左子节点入栈。入栈顺序反过来就可以得到逆后序遍历。"
   ]
  },
  {
   "cell_type": "code",
   "execution_count": 2,
   "metadata": {},
   "outputs": [],
   "source": [
    "def preorderTraversal(root: TreeNode):\n",
    "    res = list()\n",
    "    if not root:\n",
    "        return res\n",
    "\n",
    "    s = [root]\n",
    "    while s:\n",
    "        vis = s.pop()\n",
    "        res.append(vis.val)\n",
    "\n",
    "        # 1. 先序遍历\n",
    "        if vis.right:\n",
    "            s.append(vis.right)\n",
    "        if vis.left:\n",
    "            s.append(vis.left)\n",
    "\n",
    "        # 2. 后序遍历\n",
    "#         if vis.left:\n",
    "#             s.append(vis.left)\n",
    "#         if vis.right:\n",
    "#             s.append(vis.right)\n",
    "\n",
    "    return res    # 1. 先序遍历\n",
    "    # return reversed(res)    # 2. 后序遍历"
   ]
  },
  {
   "cell_type": "markdown",
   "metadata": {},
   "source": [
    "[N-ary Tree Preorder Traversal](https://leetcode.com/problems/n-ary-tree-preorder-traversal/)。 多叉树的先序遍历。[N-ary Tree Postorder Traversal](https://leetcode.com/problems/n-ary-tree-postorder-traversal/)。 多叉树的后序遍历。每个节点的所有子节点以列表形式给出。\n",
    "\n",
    "思路：注意入栈顺序即可，二叉树的入栈顺序是先右后左，列表形式的话需要以翻转的顺序入栈。后序遍历的话，同样需要把入栈顺序反过来即可。"
   ]
  },
  {
   "cell_type": "code",
   "execution_count": 3,
   "metadata": {},
   "outputs": [],
   "source": [
    "class Node:\n",
    "    def __init__(self, val, children):\n",
    "        self.val = val\n",
    "        self.children = children\n",
    "\n",
    "\n",
    "def preorder(root: 'Node'):\n",
    "    res = list()\n",
    "    if not root:\n",
    "        return res\n",
    "\n",
    "    s = [root]\n",
    "    while s:\n",
    "        vis_node = s.pop()\n",
    "        res.append(vis_node.val)\n",
    "\n",
    "        if vis_node.children:\n",
    "            # 1. 先序遍历\n",
    "            s.extend(reversed(vis_node.children))\n",
    "            # 2. 后序遍历\n",
    "#             s.extend(vis_node.children)\n",
    "\n",
    "    return res    # 1. 先序遍历\n",
    "#     return reversed(res)    # 2.后序遍历"
   ]
  },
  {
   "cell_type": "markdown",
   "metadata": {},
   "source": [
    "[Flatten Binary Tree to Linked List](https://leetcode.com/problems/flatten-binary-tree-to-linked-list/)。给一二叉树，将其转换成只具有右分支的单边二叉树，从而形成一个等效链表。节点之间的顺序由先序遍历确定。\n",
    "\n",
    "思路：首先肯定是要写一个先序遍历的，将每个点以先序遍历的顺序接到上一个点的```right```指针下即可。"
   ]
  },
  {
   "cell_type": "code",
   "execution_count": 4,
   "metadata": {},
   "outputs": [],
   "source": [
    "def flatten(root: TreeNode) -> None:\n",
    "    if not root:\n",
    "        return root\n",
    "\n",
    "    dummy = pre = TreeNode(None)\n",
    "\n",
    "    s = [root]\n",
    "    while s:\n",
    "        vis_node = s.pop()\n",
    "\n",
    "        if vis_node.right:\n",
    "            s.append(vis_node.right)\n",
    "        if vis_node.left:\n",
    "            s.append(vis_node.left)\n",
    "\n",
    "        pre.right = vis_node\n",
    "        pre.left = None\n",
    "        pre = vis_node"
   ]
  },
  {
   "cell_type": "markdown",
   "metadata": {},
   "source": [
    "[Check Completeness of a Binary Tree](https://leetcode.com/problems/check-completeness-of-a-binary-tree/)。给一二叉树，判断其是否是一颗完全二叉树。\n",
    "\n",
    "思路：层次遍历，给二叉树所有的节点都打上索引标号，左节点打$2i$，右节点打$2i+1$，同时对树的节点计数。若节点数等于最后一个节点的标号，则说明是完全二叉树。"
   ]
  },
  {
   "cell_type": "code",
   "execution_count": 5,
   "metadata": {},
   "outputs": [],
   "source": [
    "def isCompleteTree(root: TreeNode) -> bool:\n",
    "    cnt = 0\n",
    "    q = [(root, 1)]\n",
    "\n",
    "    while q:\n",
    "        level_size = len(q)\n",
    "        for _ in range(level_size):\n",
    "            vis_node, idx = q.pop(0)\n",
    "            cnt += 1\n",
    "            if vis_node.left:\n",
    "                q.append((vis_node.left, idx*2))\n",
    "            if vis_node.right:\n",
    "                q.append((vis_node.right, idx*2+1))\n",
    "\n",
    "    return idx == cnt"
   ]
  },
  {
   "cell_type": "markdown",
   "metadata": {},
   "source": [
    "### 中序遍历\n",
    "因为中序遍历的题是最多了，要写吐了，干脆单独弄出来。"
   ]
  },
  {
   "cell_type": "markdown",
   "metadata": {},
   "source": [
    "[Binary Tree Inorder Traversal](https://leetcode.com/problems/binary-tree-inorder-traversal/)。二叉树中序遍历。\n",
    "\n",
    "思路：栈。首先走到树的最左端，然后开始弹栈并访问。为了避免重复访问，有必要区分开root和vis_node。"
   ]
  },
  {
   "cell_type": "code",
   "execution_count": 6,
   "metadata": {},
   "outputs": [],
   "source": [
    "def inorderTraversal(root: TreeNode):\n",
    "    res = list()\n",
    "    if not root:\n",
    "        return res\n",
    "\n",
    "    s = list()\n",
    "    while root or s:\n",
    "        while root:\n",
    "            s.append(root)\n",
    "            root = root.left\n",
    "\n",
    "        vis_node = s.pop()\n",
    "        res.append(vis_node.val)\n",
    "\n",
    "        if vis_node.right:\n",
    "            root = vis_node.right\n",
    "\n",
    "    return res"
   ]
  },
  {
   "cell_type": "markdown",
   "metadata": {},
   "source": [
    "[Validate Binary Search Tree](https://leetcode.com/problems/validate-binary-search-tree/)。判断二叉搜索树的合法性，题目要求左分支要严格小于根节点，右分支要严格大于根节点。\n",
    "\n",
    "思路：据题意要求，中序遍历会得到一个严格递增的序列。"
   ]
  },
  {
   "cell_type": "code",
   "execution_count": 7,
   "metadata": {},
   "outputs": [],
   "source": [
    "def isValidBST(root: TreeNode) -> bool:\n",
    "    s = list()\n",
    "    pre = -0x80000001    # 32位有符号数的最小值为0x80000000\n",
    "\n",
    "    while root or s:\n",
    "        while root:\n",
    "            s.append(root)\n",
    "            root = root.left\n",
    "\n",
    "        vis_node = s.pop()\n",
    "\n",
    "        if vis_node.val <= pre:\n",
    "            return False\n",
    "        else:\n",
    "            pre = vis_node.val\n",
    "\n",
    "        if vis_node.right:\n",
    "            root = vis_node.right\n",
    "\n",
    "    return True"
   ]
  },
  {
   "cell_type": "markdown",
   "metadata": {},
   "source": [
    "[Two Sum IV - Input is a BST](https://leetcode.com/problems/two-sum-iv-input-is-a-bst/)。给定一棵树搜索二叉树与一个目标值$k$，判断该树中是否存在等于给定值的两个数。\n",
    "\n",
    "思路：中序遍历将树转化成有序数组，然后使用双指针方法做。"
   ]
  },
  {
   "cell_type": "code",
   "execution_count": 8,
   "metadata": {},
   "outputs": [],
   "source": [
    "def findTarget(root: TreeNode, k: int) -> bool:\n",
    "    arr = list()\n",
    "\n",
    "    # 中序遍历\n",
    "    s = list()\n",
    "    while root or s:\n",
    "        while root:\n",
    "            s.append(root)\n",
    "            root = root.left\n",
    "\n",
    "        vis_node = s.pop()\n",
    "        arr.append(vis_node.val)\n",
    "        if vis_node.right:\n",
    "            root = vis_node.right\n",
    "\n",
    "    # 双指针\n",
    "    left, right = 0, len(arr)-1\n",
    "    while left < right:\n",
    "        cur_sum = arr[left]+arr[right]\n",
    "        if cur_sum == k:\n",
    "            return True\n",
    "        elif cur_sum > k:\n",
    "            right -= 1\n",
    "        else:\n",
    "            left += 1\n",
    "\n",
    "    return False"
   ]
  },
  {
   "cell_type": "markdown",
   "metadata": {},
   "source": [
    "[Minimum Distance Between BST Nodes](https://leetcode.com/problems/minimum-distance-between-bst-nodes/)。给一颗二叉搜索树，求其中任意两节点之间的最小差值。\n",
    "\n",
    "思路：最小差值肯定出现在相邻的元素之间，中序遍历搜索，同时维护一个最小差即可。"
   ]
  },
  {
   "cell_type": "code",
   "execution_count": 9,
   "metadata": {},
   "outputs": [],
   "source": [
    "def minDiffInBST(root: TreeNode) -> int:\n",
    "    res = 0x7FFFFFFF\n",
    "    pre = None\n",
    "\n",
    "    s = list()\n",
    "    while root or s:\n",
    "        while root:\n",
    "            s.append(root)\n",
    "            root = root.left\n",
    "\n",
    "        vis_node = s.pop()\n",
    "        if pre is None:\n",
    "            pre = vis_node.val\n",
    "        else:\n",
    "            res = min(res, vis_node.val-pre)\n",
    "            pre = vis_node.val\n",
    "\n",
    "        if vis_node.right:\n",
    "            root = vis_node.right\n",
    "\n",
    "    return res"
   ]
  },
  {
   "cell_type": "markdown",
   "metadata": {},
   "source": [
    "[Range Sum of BST](https://leetcode.com/problems/range-sum-of-bst/)。在BST中给定两个范围，求BST中处于$[L,R]$范围内所有元素的和。\n",
    "\n",
    "思路：中序遍历，其实什么遍历都一样。只不过中序遍历是一个升序序列，当```vis_node>R```时可以提前结束。"
   ]
  },
  {
   "cell_type": "code",
   "execution_count": null,
   "metadata": {},
   "outputs": [],
   "source": [
    "def rangeSumBST(root: TreeNode, L: int, R: int) -> int:\n",
    "    res = 0\n",
    "\n",
    "    s = list()\n",
    "    while root or s:\n",
    "        while root:\n",
    "            s.append(root)\n",
    "            root = root.left\n",
    "\n",
    "        vis_node = s.pop()\n",
    "        if L < vis_node.val < R:\n",
    "            res += vis_node.val\n",
    "        if vis_node.val > R:\n",
    "            return res\n",
    "\n",
    "        if vis_node.right:\n",
    "            root = vis_node.right\n",
    "\n",
    "    return res"
   ]
  },
  {
   "cell_type": "markdown",
   "metadata": {},
   "source": [
    "## 递归型或栈型"
   ]
  },
  {
   "cell_type": "markdown",
   "metadata": {},
   "source": [
    "[Verify Preorder Serialization of a Binary Tree](https://leetcode.com/problems/verify-preorder-serialization-of-a-binary-tree/)。给出一颗二叉树的前序序列，空位置使用'#'号填充，判断序列是否是一颗合法的二叉树。\n",
    "\n",
    "思路：易得所有叶子节点的合法后继序列是'##'，设立一个栈保存前序序列，当数字后面有连续两个'#'时，将该部分使用'#'来替换。"
   ]
  },
  {
   "cell_type": "code",
   "execution_count": 10,
   "metadata": {},
   "outputs": [],
   "source": [
    "def isValidSerialization(preorder: str) -> bool:\n",
    "    s = list()\n",
    "    preorder = preorder.split(',')\n",
    "    for ch in preorder:\n",
    "        s.append(ch)\n",
    "\n",
    "        while len(s) > 2 and s[-1] == s[-2] == '#' and s[-3] != '#':\n",
    "            s.pop()\n",
    "            s.pop()\n",
    "            s.pop()\n",
    "            s.append('#')\n",
    "\n",
    "    return s == ['#']"
   ]
  },
  {
   "cell_type": "markdown",
   "metadata": {},
   "source": [
    "[Symmetric Tree](https://leetcode.com/problems/symmetric-tree/)，2019作业帮手撕代码。判断一颗二叉树是否镜像对称。\n",
    "\n",
    "思路：一棵二叉树镜像对称，实质上是其左右分支对称。定义一个双节点参数的递归函数即可。"
   ]
  },
  {
   "cell_type": "code",
   "execution_count": 11,
   "metadata": {},
   "outputs": [],
   "source": [
    "def isSymmetric(root: TreeNode) -> bool:\n",
    "    if not root or (not root.left and not root.right):\n",
    "        \n",
    "        return True\n",
    "\n",
    "    if not root.left or not root.right or root.left.val != root.right.val:\n",
    "        return False\n",
    "\n",
    "    def sym(root1, root2):\n",
    "        '''\n",
    "        判断两分支是否对称\n",
    "        '''\n",
    "        if not root1 and not root2:\n",
    "            return True\n",
    "        if not root1 or not root2 or root1.val != root2.val:\n",
    "            return False\n",
    "        return sym(root1.left, root2.right) and sym(root1.right, root2.left)\n",
    "\n",
    "    return sym(root.left, root.right)"
   ]
  },
  {
   "cell_type": "markdown",
   "metadata": {},
   "source": [
    "[Flip Equivalent Binary Trees](https://leetcode.com/problems/flip-equivalent-binary-trees/)。给两棵树，判断两棵树是否翻转等价。定义一次翻转操作为交换该节点的左右分支。\n",
    "\n",
    "思路：基准情况，若两树均空，返回True；若两节点均是叶节点且值相等，返回True；然后递归，翻转等效只有两种情况：```equal(root1.left,root2.left) and equal(root1.right,root2.right)```或者```equal(root1.left,root2.right) and equal(root1.right,root2.left)```。"
   ]
  },
  {
   "cell_type": "code",
   "execution_count": null,
   "metadata": {},
   "outputs": [],
   "source": [
    "def flipEquiv(root1: TreeNode, root2: TreeNode) -> bool:\n",
    "    if not root1 and not root2:\n",
    "        return True\n",
    "\n",
    "    if not root1 or not root2 or root1.val != root2.val:\n",
    "        return False\n",
    "\n",
    "    return (flipEquiv(root1.left, root2.left) and flipEquiv(root1.right, root2.right)) or \\\n",
    "        (flipEquiv(root1.left, root2.right) and flipEquiv(root1.right, root2.left))"
   ]
  }
 ],
 "metadata": {
  "hide_input": false,
  "kernelspec": {
   "display_name": "Python 3",
   "language": "python",
   "name": "python3"
  },
  "language_info": {
   "codemirror_mode": {
    "name": "ipython",
    "version": 3
   },
   "file_extension": ".py",
   "mimetype": "text/x-python",
   "name": "python",
   "nbconvert_exporter": "python",
   "pygments_lexer": "ipython3",
   "version": "3.7.4"
  },
  "toc": {
   "base_numbering": 1,
   "nav_menu": {},
   "number_sections": true,
   "sideBar": true,
   "skip_h1_title": false,
   "title_cell": "Table of Contents",
   "title_sidebar": "Contents",
   "toc_cell": false,
   "toc_position": {},
   "toc_section_display": true,
   "toc_window_display": false
  }
 },
 "nbformat": 4,
 "nbformat_minor": 2
}
