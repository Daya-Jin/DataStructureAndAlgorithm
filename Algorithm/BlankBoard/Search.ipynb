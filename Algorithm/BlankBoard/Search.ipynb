{
 "cells": [
  {
   "cell_type": "markdown",
   "metadata": {},
   "source": [
    "[Search in Rotated Sorted Array](https://leetcode.com/problems/search-in-rotated-sorted-array/)。在一个不含重复元素的旋转有序数组中查找关键字，找不到返回$-1$。\n",
    "\n",
    "思路：旋转数组的有序性被破坏掉了，但是仍然保留了一部分的有序性，关键就是找出有序的部分。首先定位到中点```mid```，一个正常的有序数组，其中值应该大于左边界而小于右边界。因为在计算中值时会偏左，考虑到左右边界相邻时的特殊情况，选择将中值与右边界比较。\n",
    "\n",
    "若中值小于右边界，则中值右边是一个有序子数组，判断关键字是否在右边；若中值大于右边界，则中值左边是一个有序数组，判断关键字是否在左边。"
   ]
  },
  {
   "cell_type": "code",
   "execution_count": 4,
   "metadata": {},
   "outputs": [
    {
     "data": {
      "text/plain": [
       "1"
      ]
     },
     "execution_count": 4,
     "metadata": {},
     "output_type": "execute_result"
    }
   ],
   "source": [
    "def search(nums, target: int) -> int:\n",
    "    if not nums:\n",
    "        return -1\n",
    "\n",
    "    left, right = 0, len(nums)-1\n",
    "    while left < right:\n",
    "        mid = (left+right) >> 1\n",
    "        if nums[mid] == target:\n",
    "            return mid\n",
    "\n",
    "        if nums[mid] < nums[right]:    # mid及其右边是有序的\n",
    "            if nums[mid] <= target <= nums[right]:\n",
    "                left = mid+1\n",
    "            else:\n",
    "                right = mid\n",
    "        else:    # mid及其左边是有序的\n",
    "            if nums[left] <= target <= nums[mid]:\n",
    "                right = mid\n",
    "            else:\n",
    "                left = mid+1\n",
    "\n",
    "    return left if nums[left] == target else -1"
   ]
  },
  {
   "cell_type": "markdown",
   "metadata": {},
   "source": [
    "[Search in Rotated Sorted Array II](https://leetcode.com/problems/search-in-rotated-sorted-array-ii/)。在一含重复元素的有序旋转数组中判定关键字是否存在。\n",
    "\n",
    "思路：思路同上题，仍然是在有序的部分中进行查找。但是因为引入了重复元素，所以需要增加一种情况：中值与右边界相等。当中值有右边界相等时，说明遇到了重复元素，最简单的处理办法就是逐元素地缩小边界。这样一来最坏的时间复杂度为$O(n)$。"
   ]
  },
  {
   "cell_type": "code",
   "execution_count": 6,
   "metadata": {},
   "outputs": [
    {
     "data": {
      "text/plain": [
       "False"
      ]
     },
     "execution_count": 6,
     "metadata": {},
     "output_type": "execute_result"
    }
   ],
   "source": [
    "def search(nums, target: int) -> bool:\n",
    "    if not nums:\n",
    "        return False\n",
    "\n",
    "    left, right = 0, len(nums)-1\n",
    "    while left < right:\n",
    "        mid = (left+right) >> 1\n",
    "        if nums[mid] == target:\n",
    "            return True\n",
    "\n",
    "        if nums[mid] < nums[right]:\n",
    "            if nums[mid] <= target <= nums[right]:\n",
    "                left = mid+1\n",
    "            else:\n",
    "                right = mid\n",
    "        elif nums[mid] > nums[right]:\n",
    "            if nums[left] <= target <= nums[mid]:\n",
    "                right = mid\n",
    "            else:\n",
    "                left = mid+1\n",
    "        else:    # 新增加的情况\n",
    "            right -= 1\n",
    "\n",
    "    return True if nums[left] == target else False"
   ]
  },
  {
   "cell_type": "markdown",
   "metadata": {},
   "source": [
    "[Find Minimum in Rotated Sorted Array](https://leetcode.com/problems/find-minimum-in-rotated-sorted-array/)。在旋转数组中寻找最小值。\n",
    "\n",
    "思路：在旋转数组中寻找值的思路，就是将中值与右值去比较。"
   ]
  },
  {
   "cell_type": "code",
   "execution_count": 2,
   "metadata": {},
   "outputs": [
    {
     "data": {
      "text/plain": [
       "0"
      ]
     },
     "execution_count": 2,
     "metadata": {},
     "output_type": "execute_result"
    }
   ],
   "source": [
    "def findMin(nums) -> int:\n",
    "    n = len(nums)\n",
    "    if n == 1:\n",
    "        return nums[0]\n",
    "\n",
    "    left, right = 0, n-1\n",
    "    while left < right:\n",
    "        mid = (left+right) >> 1\n",
    "        if nums[mid] <= nums[right]:\n",
    "            right = mid\n",
    "        else:\n",
    "            left = mid+1\n",
    "\n",
    "    return nums[left]"
   ]
  },
  {
   "cell_type": "markdown",
   "metadata": {},
   "source": [
    "[Peak Index in a Mountain Array](https://leetcode.com/problems/peak-index-in-a-mountain-array/)。顶峰搜索，给一长度大于$3$的数组，该数组前一段满足递增，后一段满足递减。求该数组中的最大值。保证顶峰存在。\n",
    "\n",
    "思路：最简单的线性扫描时间复杂度为$O(n)$，使用二分搜索查找一个同时大于左右邻居的位置。"
   ]
  },
  {
   "cell_type": "code",
   "execution_count": 8,
   "metadata": {},
   "outputs": [
    {
     "data": {
      "text/plain": [
       "1"
      ]
     },
     "execution_count": 8,
     "metadata": {},
     "output_type": "execute_result"
    }
   ],
   "source": [
    "def peakIndexInMountainArray(A) -> int:\n",
    "    n = len(A)\n",
    "    left, right = 1, n-2\n",
    "    \n",
    "    while left < right:\n",
    "        mid = (left+right) >> 1\n",
    "        \n",
    "        if A[mid-1] < A[mid] > A[mid+1]:\n",
    "            return mid\n",
    "        elif A[mid-1] < A[mid] < A[mid+1]:\n",
    "            left = mid+1\n",
    "        else:\n",
    "            right = mid\n",
    "\n",
    "    return left"
   ]
  },
  {
   "cell_type": "markdown",
   "metadata": {},
   "source": [
    "[Find First and Last Position of Element in Sorted Array](https://leetcode.com/problems/find-first-and-last-position-of-element-in-sorted-array/)。给一有序整形数组$nums$，查找一个元素出现的位置范围。\n",
    "\n",
    "思路：二分查找有一个变种，就是不管找没找到都会返回一个插入位置。另外因为数组是整形，所以可以查找$target-0.5$与$target+0.5$的插入位置。"
   ]
  },
  {
   "cell_type": "code",
   "execution_count": 5,
   "metadata": {},
   "outputs": [
    {
     "data": {
      "text/plain": [
       "[-1, -1]"
      ]
     },
     "execution_count": 5,
     "metadata": {},
     "output_type": "execute_result"
    }
   ],
   "source": [
    "def searchRange(nums, target: int):\n",
    "    def BinSearch(key):\n",
    "        left, right = 0, len(nums)\n",
    "        while left < right:\n",
    "            mid = (left+right) >> 1\n",
    "            if nums[mid] < key:\n",
    "                left = mid+1\n",
    "            else:\n",
    "                right = mid\n",
    "        return left\n",
    "\n",
    "    start = BinSearch(target-0.5)\n",
    "    end = BinSearch(target+0.5)-1    # 末位位置要-1\n",
    "\n",
    "    return [start, end] if start <= end else [-1, -1]"
   ]
  },
  {
   "cell_type": "markdown",
   "metadata": {},
   "source": [
    "[First Bad Version](https://leetcode.com/problems/first-bad-version/)。给一个长度为$n$的正整数数组，其中从某一个数开始后都是坏点，有一个API```isBadVersion(num)```用于检测坏点。找到坏点开始的位置。\n",
    "\n",
    "\n",
    "思路：二分查找。"
   ]
  },
  {
   "cell_type": "code",
   "execution_count": null,
   "metadata": {},
   "outputs": [],
   "source": [
    "def firstBadVersion(n: int) -> int:\n",
    "    res = None\n",
    "    left, right = 0, n-1\n",
    "    while left < right:\n",
    "        mid = (left+right) >> 1\n",
    "        if isBadVersion(mid+1):\n",
    "            res = mid+1\n",
    "            right = mid\n",
    "        else:\n",
    "            left = mid+1\n",
    "\n",
    "    return left+1 if isBadVersion(left+1) else res"
   ]
  },
  {
   "cell_type": "markdown",
   "metadata": {},
   "source": [
    "[Find Peak Element](https://leetcode.com/problems/find-peak-element/)。给一数组$nums$，假设数组两边的边界都是负无穷，随便返回一个大于邻居值的位置索引。\n",
    "\n",
    "思路：只要数组不为空就必定存在一个顶峰。二分搜索，如果中值大于其右边的值，则中值及其左边的部分至少存在一个顶峰；否则在右边至少存在一个顶峰。"
   ]
  },
  {
   "cell_type": "code",
   "execution_count": 7,
   "metadata": {},
   "outputs": [
    {
     "data": {
      "text/plain": [
       "5"
      ]
     },
     "execution_count": 7,
     "metadata": {},
     "output_type": "execute_result"
    }
   ],
   "source": [
    "def findPeakElement(nums) -> int:\n",
    "    n = len(nums)\n",
    "    if n < 2:\n",
    "        return 0\n",
    "\n",
    "    left, right = 0, n-1\n",
    "    while left < right:\n",
    "        mid = (left+right) >> 1\n",
    "        if nums[mid] > nums[mid+1]:\n",
    "            right = mid\n",
    "        else:\n",
    "            left = mid+1\n",
    "\n",
    "    return left"
   ]
  },
  {
   "cell_type": "markdown",
   "metadata": {},
   "source": [
    "[Valid Perfect Square](https://leetcode.com/problems/valid-perfect-square/)。判断一数字是否是一个完全平方数。\n",
    "\n",
    "思路：在$[0,num]$范围内二分搜索，若$mid^{2}>num$则在左区间搜索，反之在右区间搜索。"
   ]
  },
  {
   "cell_type": "code",
   "execution_count": 2,
   "metadata": {},
   "outputs": [
    {
     "data": {
      "text/plain": [
       "False"
      ]
     },
     "execution_count": 2,
     "metadata": {},
     "output_type": "execute_result"
    }
   ],
   "source": [
    "def isPerfectSquare(num: int) -> bool:\n",
    "    left, right = 0, num\n",
    "    while left < right:\n",
    "        mid = (left+right) >> 1\n",
    "        test = mid*mid\n",
    "\n",
    "        if test == num:\n",
    "            return True\n",
    "        elif test > num:\n",
    "            right = mid\n",
    "        else:\n",
    "            left = mid+1\n",
    "\n",
    "    return left*left == num"
   ]
  },
  {
   "cell_type": "code",
   "execution_count": null,
   "metadata": {},
   "outputs": [],
   "source": []
  }
 ],
 "metadata": {
  "hide_input": false,
  "kernelspec": {
   "display_name": "Python 3",
   "language": "python",
   "name": "python3"
  },
  "language_info": {
   "codemirror_mode": {
    "name": "ipython",
    "version": 3
   },
   "file_extension": ".py",
   "mimetype": "text/x-python",
   "name": "python",
   "nbconvert_exporter": "python",
   "pygments_lexer": "ipython3",
   "version": "3.7.4"
  },
  "toc": {
   "base_numbering": 1,
   "nav_menu": {},
   "number_sections": true,
   "sideBar": true,
   "skip_h1_title": false,
   "title_cell": "Table of Contents",
   "title_sidebar": "Contents",
   "toc_cell": false,
   "toc_position": {},
   "toc_section_display": true,
   "toc_window_display": false
  }
 },
 "nbformat": 4,
 "nbformat_minor": 2
}
