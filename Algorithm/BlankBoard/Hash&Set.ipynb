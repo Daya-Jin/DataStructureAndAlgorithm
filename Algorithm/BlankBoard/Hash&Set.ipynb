{
 "cells": [
  {
   "cell_type": "markdown",
   "metadata": {},
   "source": [
    "## HashTable\n",
    "哈希表在题目中常见的用途有三种：\n",
    "- 统计元素的频数\n",
    "- 记录元素的位置\n",
    "- 映射转换"
   ]
  },
  {
   "cell_type": "markdown",
   "metadata": {},
   "source": [
    "[Longest Substring Without Repeating Characters](https://leetcode.com/problems/longest-substring-without-repeating-characters/)。给一字串，要求不含重复字符的最长子串的长度。\n",
    "\n",
    "思路：滑动窗口+哈希表。滑动窗口中始终保持一个不含重复字符的字串，而哈希表记录每个字符的出现位置。若右指针字符未出现过，则在哈希表中添加记录；若右指针出现过，则需要分两种情况讨论。若在窗口之外出现过则无所谓，只要更新哈希表即可；若在窗口内出现，则窗口需要缩小，同时更新记录。"
   ]
  },
  {
   "cell_type": "code",
   "execution_count": 1,
   "metadata": {},
   "outputs": [],
   "source": [
    "def lengthOfLongestSubstring(s: str) -> int:\n",
    "    n = len(s)\n",
    "    left = right = 0\n",
    "    idx_lookup = dict()\n",
    "    res = 0\n",
    "\n",
    "    while left < n and right < n:\n",
    "        if s[right] not in idx_lookup:\n",
    "            idx_lookup[s[right]] = right\n",
    "        else:\n",
    "            if idx_lookup[s[right]] >= left:\n",
    "                left = idx_lookup[s[right]]+1\n",
    "            idx_lookup[s[right]] = right\n",
    "\n",
    "        res = max(res, right-left+1)\n",
    "        right += 1\n",
    "\n",
    "    return res"
   ]
  },
  {
   "cell_type": "markdown",
   "metadata": {},
   "source": [
    "[Two Sum](https://leetcode.com/problems/two-sum/)。给一数组与一目标值，返回和等于目标值的两个索引。假设数组中只存在一对符合条件的数。\n",
    "\n",
    "思路：因为要返回的是索引而不是数，所以不能对数组排序会破坏原索引。线性扫描，每扫描到一个数字时，首先查看$target-num$在不在表中，在的话直接返回，否则加入表。"
   ]
  },
  {
   "cell_type": "code",
   "execution_count": 2,
   "metadata": {},
   "outputs": [],
   "source": [
    "def twoSum(nums, target):\n",
    "    lookup = dict()\n",
    "    for idx, num in enumerate(nums):\n",
    "        if target-num in lookup:\n",
    "            return [lookup[target-num], idx]\n",
    "        else:\n",
    "            lookup[num] = idx"
   ]
  },
  {
   "cell_type": "markdown",
   "metadata": {},
   "source": [
    "[Maximum Swap](https://leetcode.com/problems/maximum-swap/)。一个数字，只允许对两位交换一次，求能得到的最大数。\n",
    "\n",
    "思路：假设交换的两个位置为$i$和$j$，令$i<j$，首先由高往低扫描并固定$i$，然后在$i$的后面找到比$nums[i]$大且最大最靠后的数字，设为$j$，然后交换即可。考虑到每位数字只有$10$种取值，使用哈希表记录每个数字最后出现的位置。"
   ]
  },
  {
   "cell_type": "code",
   "execution_count": 3,
   "metadata": {},
   "outputs": [],
   "source": [
    "def maximumSwap(num: int) -> int:\n",
    "    nums = list(map(int, str(num)))\n",
    "\n",
    "    # 1. 记录每个数字最后出现的位置\n",
    "    idx_lookup = dict()\n",
    "    for i, x in enumerate(nums):\n",
    "        idx_lookup[x] = i\n",
    "\n",
    "    n = len(nums)\n",
    "\n",
    "    for swap_i, x in enumerate(nums):\n",
    "        for larger in range(9, x, -1):    # 从最大的开始找\n",
    "            swap_j = idx_lookup.get(larger, None)\n",
    "            if swap_j and swap_j > swap_i:\n",
    "                nums[swap_i], nums[swap_j] = nums[swap_j], nums[swap_i]\n",
    "                return int(''.join(map(str, nums)))\n",
    "\n",
    "    return num"
   ]
  },
  {
   "cell_type": "markdown",
   "metadata": {},
   "source": [
    "[Valid Parentheses](https://leetcode.com/problems/valid-parentheses/)。给一只含括号的字串，判断字串中的括号序列是否合法\n",
    "\n",
    "思路：构建左右括号的映射字典，在设立一个栈保存左括号。扫描字串，左括号入栈，右括号需要看栈顶的括号是否匹配。"
   ]
  },
  {
   "cell_type": "code",
   "execution_count": 4,
   "metadata": {},
   "outputs": [],
   "source": [
    "def isValid(self, s: str) -> bool:\n",
    "    p_map = {')': '(',\n",
    "             ']': '[',\n",
    "             '}': '{'}\n",
    "    stack = list()\n",
    "\n",
    "    for ch in s:\n",
    "        if ch in p_map.keys():\n",
    "            if stack and stack[-1] == p_map[ch]:\n",
    "                stack.pop()\n",
    "            else:\n",
    "                return False\n",
    "        else:\n",
    "            stack.append(ch)\n",
    "\n",
    "    return True if not stack else False"
   ]
  },
  {
   "cell_type": "markdown",
   "metadata": {},
   "source": [
    "[4Sum II](https://leetcode.com/problems/4sum-ii/)。给四个数组$A$、$B$、$C$、$D$，从每个数组中各取出一个数，问四个数求和等于$0$的方案数。\n",
    "\n",
    "思路：使用一个哈希表记录前两个数的和，再以后两个数求和的相反数去哈希表中查找。"
   ]
  },
  {
   "cell_type": "code",
   "execution_count": 5,
   "metadata": {},
   "outputs": [],
   "source": [
    "def fourSumCount(A, B, C, D) -> int:\n",
    "    twosum_lookup = dict()\n",
    "    for a in A:\n",
    "        for b in B:\n",
    "            twosum = a+b\n",
    "            twosum_lookup.setdefault(twosum, 0)\n",
    "            twosum_lookup[twosum] += 1\n",
    "\n",
    "    res = 0\n",
    "    for c in C:\n",
    "        for d in D:\n",
    "            twosum = -c-d\n",
    "            if twosum in twosum_lookup:\n",
    "                res += twosum_lookup[twosum]\n",
    "\n",
    "    return res"
   ]
  },
  {
   "cell_type": "markdown",
   "metadata": {},
   "source": [
    "[Intersection of Two Arrays II](https://leetcode.com/problems/intersection-of-two-arrays-ii/)。给两数组代表两个集合，求交集。\n",
    "\n",
    "思路：使用哈希表记录其中一个集合中的所有元素及出现次数，再扫描另一个集合。"
   ]
  },
  {
   "cell_type": "code",
   "execution_count": 6,
   "metadata": {},
   "outputs": [],
   "source": [
    "def intersect(nums1, nums2):\n",
    "    cnt_lookup = dict()\n",
    "    for num in nums1:\n",
    "        cnt_lookup.setdefault(num, 0)\n",
    "        cnt_lookup[num] += 1\n",
    "\n",
    "    res = list()\n",
    "    for num in nums2:\n",
    "        if num in cnt_lookup and cnt_lookup[num] > 0:\n",
    "            res.append(num)\n",
    "            cnt_lookup[num] -= 1\n",
    "\n",
    "    return res"
   ]
  },
  {
   "cell_type": "markdown",
   "metadata": {},
   "source": [
    "[Ransom Note](https://leetcode.com/problems/ransom-note/)。给两字串```ransomNote```和```magazine```，判断```ransomNote```是否可以由```magazine```中的字符拼接而来。\n",
    "\n",
    "思路：字典计数即可。"
   ]
  },
  {
   "cell_type": "code",
   "execution_count": null,
   "metadata": {},
   "outputs": [],
   "source": [
    "def canConstruct(ransomNote: str, magazine: str) -> bool:\n",
    "    ch_cnts = dict()\n",
    "    for ch in magazine:\n",
    "        ch_cnts.setdefault(ch, 0)\n",
    "        ch_cnts[ch] += 1\n",
    "\n",
    "    for ch in ransomNote:\n",
    "        if ch not in ch_cnts or ch_cnts[ch] == 0:\n",
    "            return False\n",
    "        else:\n",
    "            ch_cnts[ch] -= 1\n",
    "\n",
    "    return True"
   ]
  },
  {
   "cell_type": "markdown",
   "metadata": {},
   "source": [
    "[First Unique Character in a String](https://leetcode.com/problems/first-unique-character-in-a-string/)。给一字串，返回第一个非重复字符的索引。\n",
    "\n",
    "思路：$2$pass，$1st$-pass记录字符的首次出现的索引与出现次数，$2nd$-pass找到出现次数为$1$且最靠前的索引。由于Python3.6的```dict```是有序的，所以直接对字串的字符计数，然后再扫描字典即可。"
   ]
  },
  {
   "cell_type": "code",
   "execution_count": null,
   "metadata": {},
   "outputs": [],
   "source": [
    "def firstUniqChar(s: str) -> int:\n",
    "    lookup = dict()\n",
    "    for ch in s:\n",
    "        lookup.setdefault(ch, 0)\n",
    "        lookup[ch] += 1\n",
    "\n",
    "    for idx, ch in enumerate(s):\n",
    "        if lookup[ch] == 1:\n",
    "            return idx\n",
    "\n",
    "    return -1"
   ]
  },
  {
   "cell_type": "markdown",
   "metadata": {},
   "source": [
    "[Reorganize String](https://leetcode.com/problems/reorganize-string/)。给一字串$S$，重排该字串，要求相邻位置的字符都不相等。\n",
    "\n",
    "思路：首先用哈希表对所有字符计数。重排的一个最朴素的思想，每次放置字符时，选取剩余次数最多且与之前字符不同的字符。如$aaabb$，首先放置$a$，然后只能选取$b$。"
   ]
  },
  {
   "cell_type": "code",
   "execution_count": 12,
   "metadata": {},
   "outputs": [
    {
     "data": {
      "text/plain": [
       "'ababa'"
      ]
     },
     "execution_count": 12,
     "metadata": {},
     "output_type": "execute_result"
    }
   ],
   "source": [
    "def reorganizeString(S: str) -> str:\n",
    "    lookup = dict()\n",
    "    for ch in S:\n",
    "        lookup.setdefault(ch, 0)\n",
    "        lookup[ch] += 1\n",
    "\n",
    "    n = len(S)\n",
    "    res = ''\n",
    "    pre_ch = '#'\n",
    "    \n",
    "    for _ in range(n):    # 放置n次\n",
    "        max_ch, max_cnt = '#', 0\n",
    "        for ch, cnt in lookup.items():\n",
    "            if cnt > max_cnt and ch != pre_ch:\n",
    "                max_ch, max_cnt = ch, cnt\n",
    "\n",
    "        if max_ch == '#':\n",
    "            return str()\n",
    "\n",
    "        pre_ch = max_ch\n",
    "        res += max_ch\n",
    "        lookup[max_ch] -= 1\n",
    "\n",
    "    return res"
   ]
  },
  {
   "cell_type": "markdown",
   "metadata": {},
   "source": [
    "[Array of Doubled Pairs](https://leetcode.com/problems/array-of-doubled-pairs/)。给一长度为偶数的整形数组$A$，判断$A$是否能重排，满足对于任意的$0\\le{i}<len(A)/2$，都有```A[2 * i + 1] = 2 * A[2 * i]```。\n",
    "\n",
    "思路：题意即需要所有奇数位置的值是偶数位置的两倍。一对一对凑即可，使用哈希表对所有数字计数。"
   ]
  },
  {
   "cell_type": "code",
   "execution_count": 15,
   "metadata": {},
   "outputs": [
    {
     "data": {
      "text/plain": [
       "True"
      ]
     },
     "execution_count": 15,
     "metadata": {},
     "output_type": "execute_result"
    }
   ],
   "source": [
    "def canReorderDoubled(A) -> bool:\n",
    "    cnts = dict()\n",
    "    for num in A:\n",
    "        cnts.setdefault(num, 0)\n",
    "        cnts[num] += 1\n",
    "\n",
    "    A.sort(key=abs)\n",
    "    for num in A:\n",
    "        if cnts[num] == 0:\n",
    "            continue\n",
    "        if cnts.get(2*num, 0) == 0:\n",
    "            return False\n",
    "        else:\n",
    "            cnts[num] -= 1\n",
    "            cnts[2*num] -= 1\n",
    "\n",
    "    return True"
   ]
  },
  {
   "cell_type": "markdown",
   "metadata": {},
   "source": [
    "[Subarray Sum Equals K](https://leetcode.com/problems/subarray-sum-equals-k/)。给一整形数组，求出连续区间和等于$K$的区间数量。\n",
    "\n",
    "思路：首先需要想到计算累加数组```sum_arr```，若```sum_arr[j]-sum_arr[i]=k```则说明该段区间的和等于$K$。然后利用哈希表优化，将所有可能的区间和存入哈希表，当计算一个新位置的累加和时，去哈希表查找```cur_sum-k```是否存在。"
   ]
  },
  {
   "cell_type": "code",
   "execution_count": 1,
   "metadata": {},
   "outputs": [
    {
     "data": {
      "text/plain": [
       "2"
      ]
     },
     "execution_count": 1,
     "metadata": {},
     "output_type": "execute_result"
    }
   ],
   "source": [
    "def subarraySum(nums, k: int) -> int:\n",
    "    n = len(nums)\n",
    "    res = 0\n",
    "    lookup = dict()\n",
    "    lookup[0] = 1\n",
    "\n",
    "    total_sum = 0\n",
    "    for i in range(n):\n",
    "        total_sum += nums[i]\n",
    "        res += lookup.get(total_sum-k, 0)\n",
    "        lookup.setdefault(total_sum, 0)\n",
    "        lookup[total_sum] += 1\n",
    "    return res"
   ]
  },
  {
   "cell_type": "markdown",
   "metadata": {},
   "source": [
    "## Set\n",
    "set常用于去重和存在性判断。"
   ]
  },
  {
   "cell_type": "markdown",
   "metadata": {},
   "source": [
    "[Find the Duplicate Number](https://leetcode.com/problems/find-the-duplicate-number/)。给一长度为$n+1$的数组，其中数字范围为$[1,n]$，其中有且仅有一个数字重复出现了多次，找出该数字。\n",
    "\n",
    "思路：原题要求时间复杂度$O(n)$且空间复杂度$O(1)$，有点难。使用set直接判重。"
   ]
  },
  {
   "cell_type": "code",
   "execution_count": 7,
   "metadata": {},
   "outputs": [],
   "source": [
    "def findDuplicate(nums) -> int:\n",
    "    set_ = set()\n",
    "    for num in nums:\n",
    "        if num in set_:\n",
    "            return num\n",
    "        else:\n",
    "            set_.add(num)"
   ]
  },
  {
   "cell_type": "markdown",
   "metadata": {},
   "source": [
    "[判别顺子](https://www.nowcoder.com/questionTerminal/762836f4d43d43ca9deb273b3de8e1f4)。给五张牌，判断能否形成顺子。大小王用$0$表示，可变牌面。\n",
    "\n",
    "思路：记录数组最大值与最小值，极差$<5$且不含重复牌面即可。"
   ]
  },
  {
   "cell_type": "code",
   "execution_count": 8,
   "metadata": {},
   "outputs": [],
   "source": [
    "def isContinuous(numbers) -> bool:\n",
    "    if not numbers or len(numbers) != 5:\n",
    "        return False\n",
    "\n",
    "    unicards = set()\n",
    "    for num in numbers:\n",
    "        if num == 0:\n",
    "            continue\n",
    "        else:\n",
    "            if num in unicards:\n",
    "                return False\n",
    "            else:\n",
    "                unicards.add(num)\n",
    "\n",
    "    return max(unicards)-min(unicards) < 5"
   ]
  },
  {
   "cell_type": "markdown",
   "metadata": {},
   "source": [
    "[Powerful Integers](https://leetcode.com/problems/powerful-integers/)。若一个整数$n$可以表示成$n=x^{i}+y^{j}$，那么就称$n$是一个强整数。给一个上限$bound$，求所有的强整数。\n",
    "\n",
    "思路：暴力法，使用一个```set```去重。"
   ]
  },
  {
   "cell_type": "code",
   "execution_count": 9,
   "metadata": {},
   "outputs": [],
   "source": [
    "def powerfulIntegers(x: int, y: int, bound: int):\n",
    "    res = set()\n",
    "\n",
    "    for i in range(31):\n",
    "        for j in range(31):\n",
    "            cur_num = x**i+y**j\n",
    "            if cur_num <= bound:\n",
    "                res.add(cur_num)\n",
    "            else:\n",
    "                break\n",
    "\n",
    "    return list(res)"
   ]
  },
  {
   "cell_type": "markdown",
   "metadata": {},
   "source": [
    "[Longest Consecutive Sequence](https://leetcode.com/problems/longest-consecutive-sequence/)。给一无序整形数组，求其中最长连续区间的长度。\n",
    "\n",
    "思路：将原数组去重后存储在```set```中以供查找。线性扫描原数组，当```num-1```不存在时，说明```num```是一个区间的起点，然后连续查找下去，随时记录最大长度。"
   ]
  },
  {
   "cell_type": "code",
   "execution_count": null,
   "metadata": {},
   "outputs": [],
   "source": [
    "def longestConsecutive(nums) -> int:\n",
    "    if not nums:\n",
    "        return 0\n",
    "\n",
    "    lookup = set(nums)\n",
    "    res = 1\n",
    "\n",
    "    for num in nums:\n",
    "        if num-1 not in lookup:    # 找到区间起点\n",
    "            cur_num = num\n",
    "            cur_len = 1\n",
    "\n",
    "            while cur_num+1 in lookup:    # 连续查找\n",
    "                cur_len += 1\n",
    "                cur_num += 1\n",
    "\n",
    "            res = max(res, cur_len)\n",
    "\n",
    "    return res"
   ]
  },
  {
   "cell_type": "markdown",
   "metadata": {},
   "source": [
    "[Repeated DNA Sequences](https://leetcode.com/problems/repeated-dna-sequences/)。给一串只含\"AGCT\"的DNA序列，返回所有长度为$10$且重复出现过的DNA段。\n",
    "\n",
    "思路：暴力，滑动窗口+```set```。"
   ]
  },
  {
   "cell_type": "code",
   "execution_count": null,
   "metadata": {},
   "outputs": [],
   "source": [
    "def findRepeatedDnaSequences(s: str):\n",
    "    lookup = set()\n",
    "    res = set()\n",
    "    n = len(s)\n",
    "\n",
    "    for idx in range(n-10+1):\n",
    "        sub_s = s[idx:idx+10]\n",
    "        if sub_s not in lookup:\n",
    "            lookup.add(sub_s)\n",
    "        else:\n",
    "            res.add(sub_s)\n",
    "\n",
    "    return list(res)"
   ]
  }
 ],
 "metadata": {
  "hide_input": false,
  "kernelspec": {
   "display_name": "Python 3",
   "language": "python",
   "name": "python3"
  },
  "language_info": {
   "codemirror_mode": {
    "name": "ipython",
    "version": 3
   },
   "file_extension": ".py",
   "mimetype": "text/x-python",
   "name": "python",
   "nbconvert_exporter": "python",
   "pygments_lexer": "ipython3",
   "version": "3.7.4"
  },
  "toc": {
   "base_numbering": 1,
   "nav_menu": {},
   "number_sections": true,
   "sideBar": true,
   "skip_h1_title": false,
   "title_cell": "Table of Contents",
   "title_sidebar": "Contents",
   "toc_cell": false,
   "toc_position": {},
   "toc_section_display": true,
   "toc_window_display": false
  }
 },
 "nbformat": 4,
 "nbformat_minor": 2
}
