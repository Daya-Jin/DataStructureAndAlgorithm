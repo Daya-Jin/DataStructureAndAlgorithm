{
 "cells": [
  {
   "cell_type": "markdown",
   "metadata": {},
   "source": [
    "## DFS\n",
    "深度搜索的程序模版：\n",
    "\n",
    "```python\n",
    "def func():\n",
    "    res=list()\n",
    "    \n",
    "    def dfs(idx, path):\n",
    "        '''\n",
    "        dfs函数，因为是闭包，可以直接访问外部res\n",
    "        :param idx: 对于全局来说，dfs所在的位置\n",
    "        :param path: 目前为止dfs已探索的路径\n",
    "        :return:\n",
    "        '''\n",
    "        pass\n",
    "        dfs(idx + 1, path + something)    # 若path是地址引用，需要改成path[:]\n",
    "        pass\n",
    "\n",
    "    init_path = None  # 初始探索路径，一般为0，空字串或空列表\n",
    "    dfs(0, init_path)\n",
    "    return res\n",
    "```\n",
    "\n",
    "个人习惯把```dfs(idx, path)```写在外部函数中构成闭包，这样做的好处是可以减少```dfs```函数的参数量。需要注意的有两点：\n",
    "- 如果要在```dfs```函数中修改```res```的话，```res```必须是一个地址引用，如```list```；\n",
    "- 若```path```是一个地址引用，在递归调用```dfs```时需要传入一个副本```path[:]```。"
   ]
  },
  {
   "cell_type": "markdown",
   "metadata": {},
   "source": [
    "[Subsets II](https://leetcode.com/problems/subsets-ii/)。给定一可能有重复元素的数组，求其所有子集。\n",
    "\n",
    "思路：可能存在重复元素，那么关键就在于避免重复组合。将数组排序后，每次可判断当前新加入的数字是否与上轮数字相同，相同则跳过即可。"
   ]
  },
  {
   "cell_type": "code",
   "execution_count": 1,
   "metadata": {},
   "outputs": [],
   "source": [
    "def subsetsWithDup(nums):\n",
    "    res = list()\n",
    "    nums.sort()\n",
    "    n = len(nums)\n",
    "\n",
    "    def dfs(idx, path):\n",
    "        res.append(path)\n",
    "        if idx == n:\n",
    "            return\n",
    "\n",
    "        for i in range(idx, n):\n",
    "            if i > idx and nums[i] == nums[i-1]:\n",
    "                continue\n",
    "            else:\n",
    "                dfs(i+1, path+[nums[i]])\n",
    "\n",
    "    dfs(0, list())\n",
    "    return res"
   ]
  },
  {
   "cell_type": "markdown",
   "metadata": {},
   "source": [
    "[Combination Sum III](https://leetcode.com/problems/combination-sum-iii/)。给定$[1,9]$的数字，不放回地取出$k$个数使其加和等于$n$，求所有可能的配置。\n",
    "\n",
    "思路："
   ]
  },
  {
   "cell_type": "code",
   "execution_count": 2,
   "metadata": {},
   "outputs": [
    {
     "data": {
      "text/plain": [
       "[[1, 2, 4]]"
      ]
     },
     "execution_count": 2,
     "metadata": {},
     "output_type": "execute_result"
    }
   ],
   "source": [
    "def combinationSum3(k: int, n: int):\n",
    "    res = list()\n",
    "\n",
    "    def dfs(idx, path):\n",
    "        if len(path) == k and sum(path) == n:\n",
    "            res.append(path)\n",
    "            return\n",
    "\n",
    "        for i in range(idx, 10):\n",
    "            dfs(i+1, path+[i])\n",
    "\n",
    "    dfs(1, list())\n",
    "    return res"
   ]
  },
  {
   "cell_type": "markdown",
   "metadata": {},
   "source": [
    "[Increasing Subsequences](https://leetcode.com/problems/increasing-subsequences/)。给一数组，求出所有可能的递增子序列，序列长度至少为$2$。\n",
    "\n",
    "思路：从左往右DFS，难点在于重复值的处理。在每一个dfs函数中，维护一个集合记录已经出现过的数字，跳过重复数字。"
   ]
  },
  {
   "cell_type": "code",
   "execution_count": 10,
   "metadata": {},
   "outputs": [],
   "source": [
    "def findSubsequences(nums):\n",
    "    res = list()\n",
    "    n = len(nums)\n",
    "\n",
    "    def dfs(idx, path):\n",
    "        if len(path) > 1:\n",
    "            res.append(path)\n",
    "        if idx == n:\n",
    "            return\n",
    "\n",
    "        seen = set()\n",
    "        for i in range(idx, n):\n",
    "            if nums[i] in seen:\n",
    "                continue\n",
    "\n",
    "            seen.add(nums[i])\n",
    "            if not path or nums[i] >= path[-1]:\n",
    "                dfs(i+1, path+[nums[i]])\n",
    "\n",
    "    dfs(0, list())\n",
    "    return res"
   ]
  },
  {
   "cell_type": "markdown",
   "metadata": {},
   "source": [
    "[Binary Tree Paths](https://leetcode.com/problems/binary-tree-paths/)。给一个二叉树，返回所有根节点到叶节点的路径。每一条路径以$node.val->node.val->...$的形式返回。\n",
    "\n",
    "思路："
   ]
  },
  {
   "cell_type": "code",
   "execution_count": null,
   "metadata": {},
   "outputs": [],
   "source": [
    "def binaryTreePaths(self, root: TreeNode) -> List[str]:\n",
    "    res = list()\n",
    "    if not root:\n",
    "        return res\n",
    "\n",
    "    def dfs(idx, path):\n",
    "        if not idx.left and not idx.right:\n",
    "            res.append(path+[idx.val])\n",
    "            return\n",
    "\n",
    "        if idx.left:\n",
    "            dfs(idx.left, path+[idx.val])\n",
    "        if idx.right:\n",
    "            dfs(idx.right, path+[idx.val])\n",
    "\n",
    "    dfs(root, list())\n",
    "    return ['->'.join(map(str, ans)) for ans in res]"
   ]
  },
  {
   "cell_type": "markdown",
   "metadata": {},
   "source": [
    "[Sum Root to Leaf Numbers](https://leetcode.com/problems/sum-root-to-leaf-numbers/)。给一颗二叉树，根节点到叶节点路径上的所有数字拼接起来构成一个大数，求所有路径构成数字的总和。\n",
    "\n",
    "思路：DFS。每深入一层，已有答案需要乘$10$后再加上节点值。"
   ]
  },
  {
   "cell_type": "code",
   "execution_count": null,
   "metadata": {},
   "outputs": [],
   "source": [
    "def sumNumbers(root: TreeNode) -> int:\n",
    "    res = 0\n",
    "    if not root:\n",
    "        return res\n",
    "\n",
    "    def dfs(idx, path):\n",
    "        nonlocal res\n",
    "        if not idx.left and not idx.right:\n",
    "            res += path\n",
    "\n",
    "        if idx.left:\n",
    "            dfs(idx.left, path*10+idx.left.val)\n",
    "        if idx.right:\n",
    "            dfs(idx.right, path*10+idx.right.val)\n",
    "\n",
    "    dfs(root, root.val)\n",
    "    return res"
   ]
  },
  {
   "cell_type": "markdown",
   "metadata": {},
   "source": [
    "[Word Search](https://leetcode.com/problems/word-search/)。在一个字符矩阵中搜索指定字串。\n",
    "\n",
    "思路：首先将问题抽象成DFS模版。在矩阵中搜索，那么```idx```肯定是一个坐标二元组。```path```是已经成功探索的路径，这里就是已匹配成功的字串长度。当```path```等于字串长度时就返回True，否则返回False。为了避免重复访问，在递归调用```dfs```时将已匹配的位置设成特殊字符。"
   ]
  },
  {
   "cell_type": "code",
   "execution_count": 3,
   "metadata": {},
   "outputs": [
    {
     "data": {
      "text/plain": [
       "True"
      ]
     },
     "execution_count": 3,
     "metadata": {},
     "output_type": "execute_result"
    }
   ],
   "source": [
    "def exist(board, word: str) -> bool:\n",
    "    n = len(word)\n",
    "    rows, cols = len(board), len(board[0])\n",
    "\n",
    "    def dfs(row, col, path):\n",
    "        if path == n:\n",
    "            return True\n",
    "        if row < 0 or row >= rows or col < 0 or col >= cols or board[row][col] != word[path]:\n",
    "            return False\n",
    "\n",
    "        tmp = board[row][col]\n",
    "        board[row][col] = '#'    # 避免重复访问\n",
    "        res = dfs(row+1, col, path+1) or dfs(row-1, col, path+1) \\\n",
    "            or dfs(row, col+1, path+1) or dfs(row, col-1, path+1)\n",
    "        board[row][col] = tmp\n",
    "\n",
    "        return res\n",
    "\n",
    "    for row in range(rows):\n",
    "        for col in range(cols):\n",
    "            if dfs(row, col, 0):\n",
    "                return True\n",
    "\n",
    "    return False"
   ]
  },
  {
   "cell_type": "markdown",
   "metadata": {},
   "source": [
    "## BFS\n",
    "BFS同DFS，模版几乎相同，不过遍历的方法稍微有区别。某些场景下个人更熟悉使用队列实现BFS。"
   ]
  },
  {
   "cell_type": "markdown",
   "metadata": {},
   "source": [
    "[Friend Circles](https://leetcode.com/problems/friend-circles/)。给一无向图的邻接矩阵，求联通分量数。\n",
    "\n",
    "思路：无向图的BFS，使用队列实现，需要维护一个访问状态。"
   ]
  },
  {
   "cell_type": "code",
   "execution_count": null,
   "metadata": {},
   "outputs": [],
   "source": [
    "def findCircleNum(M) -> int:\n",
    "    n = len(M)\n",
    "    visited = [False]*n\n",
    "    q = list()\n",
    "    res = 0\n",
    "\n",
    "    for idx in range(n):\n",
    "        if not visited[idx]:\n",
    "            res += 1\n",
    "            q.append(idx)\n",
    "\n",
    "            while q:\n",
    "                vis_node = q.pop()\n",
    "                visited[vis_node] = True\n",
    "\n",
    "                for node_idx in range(n):\n",
    "                    if not visited[node_idx] and M[vis_node][node_idx]:    # 未访问的邻居\n",
    "                        q.append(node_idx)\n",
    "\n",
    "    return res"
   ]
  }
 ],
 "metadata": {
  "hide_input": false,
  "kernelspec": {
   "display_name": "Python 3",
   "language": "python",
   "name": "python3"
  },
  "language_info": {
   "codemirror_mode": {
    "name": "ipython",
    "version": 3
   },
   "file_extension": ".py",
   "mimetype": "text/x-python",
   "name": "python",
   "nbconvert_exporter": "python",
   "pygments_lexer": "ipython3",
   "version": "3.7.4"
  },
  "toc": {
   "base_numbering": 1,
   "nav_menu": {},
   "number_sections": true,
   "sideBar": true,
   "skip_h1_title": false,
   "title_cell": "Table of Contents",
   "title_sidebar": "Contents",
   "toc_cell": false,
   "toc_position": {},
   "toc_section_display": true,
   "toc_window_display": false
  }
 },
 "nbformat": 4,
 "nbformat_minor": 2
}
