{
 "cells": [
  {
   "cell_type": "markdown",
   "metadata": {},
   "source": [
    "[Climbing Stairs](https://leetcode.com/problems/climbing-stairs/)。有$n$个台阶，每次只能往上走一阶或两阶，问爬上顶层有多少种方法。\n",
    "\n",
    "思路："
   ]
  },
  {
   "cell_type": "code",
   "execution_count": null,
   "metadata": {},
   "outputs": [],
   "source": [
    "def climbStairs(n: int) -> int:\n",
    "    if n < 3:\n",
    "        return n\n",
    "\n",
    "    dp = [0]*n\n",
    "    dp[0], dp[1] = 1, 2\n",
    "\n",
    "    for i in range(2, n):\n",
    "        dp[i] = dp[i-1]+dp[i-2]\n",
    "\n",
    "    return dp[-1]"
   ]
  },
  {
   "cell_type": "markdown",
   "metadata": {},
   "source": [
    "[Min Cost Climbing Stairs](https://leetcode.com/problems/min-cost-climbing-stairs/)。一个数组表示$n$个台阶，每个数字表示跨越当前台阶的花费，每次跨越台阶可以选择跨一阶或跨两阶，求到达最高层的最小化费。起点可以在第一阶与第二阶中任选。\n",
    "\n",
    "思路：易得每一层的状态只能有两种状态转换而来，前一层跨一层，前两层跨两层。所以设dp数组，其中$dp[i]$表示到达$i$层的最小花费，状态转移方程为：\n",
    "$$\n",
    "dp[i]=min(dp[i-1]+cost[i-1],dp[i-2]+cost[i-2])\n",
    "$$"
   ]
  },
  {
   "cell_type": "code",
   "execution_count": 5,
   "metadata": {},
   "outputs": [
    {
     "data": {
      "text/plain": [
       "6"
      ]
     },
     "execution_count": 5,
     "metadata": {},
     "output_type": "execute_result"
    }
   ],
   "source": [
    "def minCostClimbingStairs(cost) -> int:\n",
    "    n = len(cost)\n",
    "    dp = [0]*(n+1)\n",
    "\n",
    "    for i in range(2, n+1):\n",
    "        dp[i] = min(dp[i-1]+cost[i-1], dp[i-2]+cost[i-2])\n",
    "\n",
    "    return dp[-1]"
   ]
  },
  {
   "cell_type": "markdown",
   "metadata": {},
   "source": [
    "[Coin Change](https://leetcode.com/problems/coin-change/)。给定若干面额的硬币，再给一个数值$num$，求组成$num$所需最少的硬币数。\n",
    "\n",
    "思路：动态规划。设立dp数组，其中$dp[i]$表示对于数值$i$最少需要的硬币数，初始状态$dp[0]=0$，其他位置初始化为最大值。对于数值$i$与面值$denomination$，状态转移方程为：\n",
    "$$\n",
    "dp[i]=min(dp[i],dp[i-denomination]+1)\n",
    "$$"
   ]
  },
  {
   "cell_type": "code",
   "execution_count": 8,
   "metadata": {},
   "outputs": [
    {
     "data": {
      "text/plain": [
       "3"
      ]
     },
     "execution_count": 8,
     "metadata": {},
     "output_type": "execute_result"
    }
   ],
   "source": [
    "def coinChange(coins, amount: int) -> int:\n",
    "    dp = [0x7FFFFFFF]*(amount+1)\n",
    "    dp[0] = 0\n",
    "\n",
    "    for val in range(1, amount+1):\n",
    "        for denomination in coins:\n",
    "            if denomination <= val:\n",
    "                dp[val] = min(dp[val], dp[val-denomination]+1)\n",
    "\n",
    "    return dp[-1] if dp[-1] < 0x7FFFFFFF else -1"
   ]
  },
  {
   "cell_type": "markdown",
   "metadata": {},
   "source": [
    "[Coin Change 2](https://leetcode.com/problems/coin-change-2/)。给定若干面额的硬币，再给一个数值，求组成$num$有几种方式。\n",
    "\n",
    "思路：设立dp数组，其中$dp[i]$表示组成$i$有多少种方法。该题难点就在于怎么避免计算重复的答案，如$1+2=3$和$2+1=3$是重复答案。假设初始状态只有一种面额的硬币，那么状态转移方程就为：\n",
    "$$\n",
    "dp[val]=dp[val-denomination]+dp[val-2*denomination]+...\n",
    "$$\n",
    "即只有$val$能被$denomination$整除时才有解。然后再加入一种面额，状态转移方程不变。"
   ]
  },
  {
   "cell_type": "code",
   "execution_count": 6,
   "metadata": {},
   "outputs": [
    {
     "data": {
      "text/plain": [
       "4"
      ]
     },
     "execution_count": 6,
     "metadata": {},
     "output_type": "execute_result"
    }
   ],
   "source": [
    "def change(amount: int, coins) -> int:\n",
    "    n = len(coins)\n",
    "    dp = [0]*(amount+1)\n",
    "    dp[0] = 1\n",
    "\n",
    "    for denomination in coins:    # 以增加面额的方式来考虑问题\n",
    "        for val in range(denomination, amount+1):\n",
    "            dp[val] += dp[val-denomination]\n",
    "\n",
    "    return dp[-1]"
   ]
  },
  {
   "cell_type": "markdown",
   "metadata": {},
   "source": [
    "[Unique Paths](https://leetcode.com/problems/unique-paths/)。从一个矩形的左上方走到右下方有多少种不同的走法？只能往右或往下走。\n",
    "\n",
    "思路：设立dp矩阵，其中$dp[row][col]$表示从左上方走到$(row,col)$的可能数。初始状态，首行跟首列的位置只能是$1$，状态转移方程为：\n",
    "$$\n",
    "dp[row][col]=dp[row-1][col]+dp[row][col-1]\n",
    "$$"
   ]
  },
  {
   "cell_type": "code",
   "execution_count": null,
   "metadata": {},
   "outputs": [],
   "source": [
    "def uniquePaths(m: int, n: int) -> int:\n",
    "    dp = [[1]*n for _ in range(m)]\n",
    "    for row in range(1, m):\n",
    "        for col in range(1, n):\n",
    "            dp[row][col] = dp[row-1][col]+dp[row][col-1]\n",
    "\n",
    "    return dp[-1][-1]"
   ]
  },
  {
   "cell_type": "markdown",
   "metadata": {},
   "source": [
    "[Longest Increasing Subsequence](https://leetcode.com/problems/longest-increasing-subsequence/)。给一数组，求出其最长递增子序列的长度。\n",
    "\n",
    "思路：设立一个dp数组，其中$dp[i]$表示以索引$i$结尾的字串最长子序列的长度，初始状态为$dp[i]=1$，因为任一单字符都可构成一个子序列。那么状态转移方程为：\n",
    "$$\n",
    "dp[i]=max(dp[i],dp[j_{1}]+1,dp[j_{2}]+1,...,dp[j_{k}]+1)\n",
    "$$\n",
    "其中$j$特指$nums[j]<nums[i]$的索引。注意该题的状态转移并不由之前的单个状态决定，而是需要遍历。"
   ]
  },
  {
   "cell_type": "code",
   "execution_count": 9,
   "metadata": {},
   "outputs": [
    {
     "data": {
      "text/plain": [
       "4"
      ]
     },
     "execution_count": 9,
     "metadata": {},
     "output_type": "execute_result"
    }
   ],
   "source": [
    "def lengthOfLIS(nums) -> int:\n",
    "    if not nums:\n",
    "        return 0\n",
    "\n",
    "    n = len(nums)\n",
    "    dp = [1]*n\n",
    "\n",
    "    for i in range(1, n):\n",
    "        for j in range(i):\n",
    "            if nums[j] < nums[i]:\n",
    "                dp[i] = max(dp[i], dp[j]+1)\n",
    "\n",
    "    return max(dp)"
   ]
  },
  {
   "cell_type": "markdown",
   "metadata": {},
   "source": [
    "[Jump Game II](https://leetcode.com/problems/jump-game-ii/)。给一数组，每个数字表示在当前位置可以前进的最大距离。现在保证从起点出发一定可以到达终点，求最小的步数。\n",
    "\n",
    "思路：设立dp数组，其中$dp[i]$表示到达$i$位置的最小步数。那么可以根据$dp[i]$与$nums[i]$的值去更新后面dp的值。思路应该没错，但是超时了，时间复杂度为$O(n^{2})$。"
   ]
  },
  {
   "cell_type": "code",
   "execution_count": null,
   "metadata": {},
   "outputs": [],
   "source": [
    "def jump(nums) -> int:\n",
    "    n = len(nums)\n",
    "    dp = [0x7FFFFFFF]*n\n",
    "    dp[0] = 0\n",
    "\n",
    "    for idx, num in enumerate(nums):\n",
    "        for offset in range(1, num+1):\n",
    "            pos = idx+offset if idx+offset < n else n-1\n",
    "            dp[pos] = min(dp[pos], dp[idx]+1)\n",
    "\n",
    "    return dp[-1]"
   ]
  },
  {
   "cell_type": "markdown",
   "metadata": {},
   "source": [
    "[Best Time to Buy and Sell Stock III](https://leetcode.com/problems/best-time-to-buy-and-sell-stock-iii/)。给一数组表示一只股票的历史价格，允许买卖两次，求最大利润。\n",
    "\n",
    "思路：设立dp数组，其中$dp[i][j]$表示在允许交易$i$次的条件下第$j$天的最大利润。同时对每一个不同$i$的配置，维护一个余额变量```balance```，表示持股状态下的最大余额。易得初始状态为$dp[0][j]=0$，$balance=-prices[0]$，两者的状态转移方程为：\n",
    "$$\n",
    "\\left\\{\n",
    "\\begin{align}\n",
    "dp[i][j]&=max(dp[i][j-1],balance+prices[j]) \\\\\n",
    "balance&=max(balance,dp[i-1][j-1]-prices[j]) \\\\\n",
    "\\end{align}\n",
    "\\right.\n",
    "$$"
   ]
  },
  {
   "cell_type": "code",
   "execution_count": null,
   "metadata": {},
   "outputs": [],
   "source": [
    "def maxProfit(prices) -> int:\n",
    "    if len(prices) < 2:\n",
    "        return 0\n",
    "\n",
    "    n = len(prices)\n",
    "    dp = [[0]*n for _ in range(2+1)]\n",
    "\n",
    "    for i in range(1, 3):\n",
    "        balance = -prices[0]\n",
    "        for j in range(1, n):\n",
    "            dp[i][j] = max(dp[i][j-1], balance+prices[j])    # 不操作或者卖掉\n",
    "            balance = max(balance, dp[i-1][j-1]-prices[j])    # 不操作或者买进\n",
    "\n",
    "    return dp[-1][-1]"
   ]
  },
  {
   "cell_type": "markdown",
   "metadata": {},
   "source": [
    "[Best Time to Buy and Sell Stock IV](https://leetcode.com/problems/best-time-to-buy-and-sell-stock-iv/)。给一数组表示一只股票的历史价格，允许至多买卖$k$次，求最大利润。\n",
    "\n",
    "思路：同上题。但是测试用例中有$k$特别大的情况。当$k$大于天数的一半时，相当于不限买卖次数，等同于[Best Time to Buy and Sell Stock II](https://leetcode.com/problems/best-time-to-buy-and-sell-stock-ii/)。"
   ]
  },
  {
   "cell_type": "code",
   "execution_count": 2,
   "metadata": {},
   "outputs": [
    {
     "data": {
      "text/plain": [
       "7"
      ]
     },
     "execution_count": 2,
     "metadata": {},
     "output_type": "execute_result"
    }
   ],
   "source": [
    "def maxProfit(k: int, prices) -> int:\n",
    "    n = len(prices)\n",
    "    if n < 2:\n",
    "        return 0\n",
    "\n",
    "    if k > (n//2):    # 同等于不限买卖次数的条件\n",
    "        res = 0\n",
    "        for idx in range(n-1):\n",
    "            if prices[idx+1] > prices[idx]:\n",
    "                res += prices[idx+1]-prices[idx]\n",
    "        return res\n",
    "\n",
    "    n = len(prices)\n",
    "    dp = [[0]*n for _ in range(k+1)]\n",
    "\n",
    "    for i in range(1, k+1):\n",
    "        balance = -prices[0]\n",
    "        for j in range(1, n):\n",
    "            dp[i][j] = max(dp[i][j-1], balance+prices[j])\n",
    "            balance = max(balance, dp[i-1][j-1]-prices[j])\n",
    "\n",
    "    return dp[-1][-1]"
   ]
  },
  {
   "cell_type": "markdown",
   "metadata": {},
   "source": [
    "[Best Time to Buy and Sell Stock with Cooldown](https://leetcode.com/problems/best-time-to-buy-and-sell-stock-with-cooldown/)。给一数组表示一只股票的历史价格，不限定买卖次数，但是抛售之后需要隔一天才能再买，求最大利润。\n",
    "\n",
    "思路：设两个dp数组，```hold```与```unhold```分别表示持股与不持股的最大利润，需要返回的是```unhold[-1]```。首先考虑初始状态，对于```hold```数组而言，```hold[0]=-price[0]```，即买入亏钱；```hold[1]=max(-prices[0],-prices[1])```，前两天选择价格最低的买入以获得最大利润或最小亏损；```unhold[0]=0```，因为第一天无法卖出；```unhold[1]=max(unhold[0],hold[0]+prices[1])```，不操作或者卖出第一天买入的股票。\n",
    "\n",
    "状态转移方程为：\n",
    "$$\n",
    "\\begin{align}\n",
    "hold[i]&=max(hold[i-1],unhold[i-2]-prices[i]) \\\\\n",
    "unhold[i]&=max(unhold[i-1],hold[i-1]+prices[i]) \\\\\n",
    "\\end{align}\n",
    "$$\n",
    "状态方程简而言之就是两种可能：无操作或者买入(卖出)，注意卖出之后买入需要隔天。"
   ]
  },
  {
   "cell_type": "code",
   "execution_count": null,
   "metadata": {},
   "outputs": [],
   "source": [
    "def maxProfit(prices) -> int:\n",
    "    n = len(prices)\n",
    "    if n < 2:\n",
    "        return 0\n",
    "\n",
    "    hold, unhold = [0]*n, [0]*n\n",
    "\n",
    "    hold[0] = -prices[0]\n",
    "    hold[1] = max(-prices[0], -prices[1])\n",
    "    unhold[1] = max(unhold[0], hold[0]+prices[1])\n",
    "\n",
    "    for i in range(2, n):\n",
    "        hold[i] = max(hold[i-1], unhold[i-2]-prices[i])\n",
    "        unhold[i] = max(unhold[i-1], hold[i-1]+prices[i])\n",
    "\n",
    "    return unhold[-1]"
   ]
  },
  {
   "cell_type": "markdown",
   "metadata": {},
   "source": [
    "[Best Time to Buy and Sell Stock with Transaction Fee](https://leetcode.com/problems/best-time-to-buy-and-sell-stock-with-transaction-fee/)。\n",
    "\n",
    "思路：同样设立两个dp数组，```hold```与```unhold```分别表示持股与不持股下的最大利润，最后返回```unhold[-1]```。初始状态，```hold[0]=-prices[0]```，```unhold[0]=0```，状态转移方程：\n",
    "$$\n",
    "\\begin{align}\n",
    "hold[i]&=max(hold[i-1],unhold[i-1]-prices[i]) \\\\\n",
    "unhold[i]&=max(unhold[i-1],hold[i-1]+prices[i]-fee) \\\\\n",
    "\\end{align}\n",
    "$$"
   ]
  },
  {
   "cell_type": "code",
   "execution_count": 3,
   "metadata": {},
   "outputs": [
    {
     "data": {
      "text/plain": [
       "8"
      ]
     },
     "execution_count": 3,
     "metadata": {},
     "output_type": "execute_result"
    }
   ],
   "source": [
    "def maxProfit(prices, fee: int) -> int:\n",
    "    n = len(prices)\n",
    "    if n < 2:\n",
    "        return 0\n",
    "\n",
    "    hold, unhold = [0]*n, [0]*n\n",
    "    hold[0] = -prices[0]\n",
    "\n",
    "    for i in range(1, n):\n",
    "        hold[i] = max(hold[i-1], unhold[i-1]-prices[i])\n",
    "        unhold[i] = max(unhold[i-1], hold[i-1]+prices[i]-fee)\n",
    "\n",
    "    return unhold[-1]"
   ]
  },
  {
   "cell_type": "markdown",
   "metadata": {},
   "source": [
    "[Maximum Product Subarray](https://leetcode.com/problems/maximum-product-subarray/)。给一整形数组，找一连续子区间，返回该子区间的最大乘积。\n",
    "\n",
    "思路：因为数组包含负数，所以要考虑负负得正的情况。维护两个$dp$数组```max_dp```和```min_dp```，其中$dp[i]$表示以$i$结尾且包含$i$的最大(小)乘积。状态转移方程为：\n",
    "$$\n",
    "\\begin{align}\n",
    "max\\_dp[i]&=max(nums[i],min\\_dp[i-1]*nums[i],max\\_dp[i-1]*nums[i]) \\\\\n",
    "min\\_dp[i]&=min(nums[i],min\\_dp[i-1]*nums[i],max\\_dp[i-1]*nums[i]) \\\\\n",
    "\\end{align}\n",
    "$$\n",
    "因为最大乘积不一定包含最后一个数，所以返回的不是```dp[-1]```，而是需要随时记录最大乘积。注意到状态转移只取决于上一个位置，所以不需要设置数组，只需要设置变量即可。"
   ]
  },
  {
   "cell_type": "code",
   "execution_count": 15,
   "metadata": {},
   "outputs": [
    {
     "data": {
      "text/plain": [
       "6"
      ]
     },
     "execution_count": 15,
     "metadata": {},
     "output_type": "execute_result"
    }
   ],
   "source": [
    "def maxProduct(nums) -> int:\n",
    "    n = len(nums)\n",
    "    if n == 0:\n",
    "        return 0\n",
    "    if n == 1:\n",
    "        return nums[0]\n",
    "\n",
    "    min_pre = max_pre = nums[0]\n",
    "    res = nums[0]\n",
    "    for idx in range(1, n):\n",
    "        min_cur = min(nums[idx], min_pre*nums[idx], max_pre*nums[idx])\n",
    "        max_cur = max(nums[idx], min_pre*nums[idx], max_pre*nums[idx])\n",
    "\n",
    "        res = max(res, max_cur)\n",
    "        min_pre, max_pre = min_cur, max_cur\n",
    "\n",
    "    return res\n",
    "\n",
    "\n",
    "maxProduct([2, 3, -2, 4])"
   ]
  },
  {
   "cell_type": "markdown",
   "metadata": {},
   "source": [
    "[01背包问题](https://www.acwing.com/problem/content/2/)。给出若干件物品的价值$v_{i}$跟重量$w_{i}$，现有一个负重量为$W$的背包，求能得到的最大价值。\n",
    "\n",
    "思路：经典DP问题。设立一个二维$dp$矩阵，其中$dp[i][j]$表示在有$j$负重量的条件下考虑前$i$件物品能得到的最大利润。易得初始状态为$dp[0][0]=0$，然后推状态转移方程。新增一个物品时，有两种决定：拿或不拿。不拿的情况下，dp值不变，$dp[i][j]=dp[i-1][j]$；拿的话，势必要给物品先腾地方，$dp[i][j]=dp[i-1][j-w[i]]+v[i]$。那么状态转移方程就为：\n",
    "$$\n",
    "dp[i][j]=max(dp[i-1][j],dp[i-1][j-w[i]]+v[i])\n",
    "$$"
   ]
  },
  {
   "cell_type": "code",
   "execution_count": null,
   "metadata": {},
   "outputs": [],
   "source": [
    "def Knapsack(v, w, W):\n",
    "    v.insert(0, 0)    # 保持idx一致，为第0件物品添加体积跟价值\n",
    "    w.insert(0, 0)\n",
    "    dp = [[0]*(W+1) for _ in range(N+1)]\n",
    "\n",
    "    for i in range(1, N+1):\n",
    "        for j in range(W+1):\n",
    "            dp[i][j] = dp[i-1][j]\n",
    "\n",
    "            if j >= w[i]:\n",
    "                dp[i][j] = max(dp[i][j],\n",
    "                               dp[i-1][j-w[i]]+v[i])\n",
    "\n",
    "    return dp[-1][-1]"
   ]
  },
  {
   "cell_type": "markdown",
   "metadata": {},
   "source": [
    "[完全背包问题](https://www.acwing.com/problem/content/3/)。现有不限量的$N$种物品，给出每种物品的价值$v$与重量$w$，还有一个负重量为$W$的背包，求能带走的最大价值。\n",
    "\n",
    "思路：虽然题意指出每种物品不限量，但因为背包负重量是有限的，所以实际上所能拿的每种物品也是有限的。设$j$为递推时的背包负重量，那第$i$件物品的最大数量上限为$j//w[i]$。所以该题只需要在01背包问题上面加一重循环即可。"
   ]
  },
  {
   "cell_type": "code",
   "execution_count": null,
   "metadata": {},
   "outputs": [],
   "source": [
    "def Knapsack(v, w, W):\n",
    "    v.insert(0, 0)\n",
    "    w.insert(0, 0)\n",
    "    dp = [[0]*(W+1) for _ in range(N+1)]\n",
    "\n",
    "    for i in range(1, N+1):\n",
    "        for j in range(W+1):\n",
    "            dp[i][j] = dp[i-1][j]\n",
    "\n",
    "            max_cnt = j//w[i]\n",
    "            for k in range(max_cnt+1):\n",
    "                dp[i][j] = max(dp[i][j],\n",
    "                               dp[i-1][j-k*w[i]]+k*v[i])\n",
    "\n",
    "    return dp[-1][-1]"
   ]
  },
  {
   "cell_type": "markdown",
   "metadata": {},
   "source": [
    "[Minimum Path Sum](https://leetcode.com/problems/minimum-path-sum/)。给一个$m\\times{n}$的矩阵，以左上角为起点，每次只能向下或向右移动，求最小路径和。\n",
    "\n",
    "思路：典型的动态规划。设立dp数组，其中$dp[i][j]$表示走到$(i,j)$位置时的最小路径和。每一个位置只能由两个状态变换而来，上边和左边，所以状态转移方程为：\n",
    "\n",
    "$$\n",
    "dp[i][j]=min(dp[i-1][j],dp[i][j-1])+nums[i][j]\n",
    "$$"
   ]
  },
  {
   "cell_type": "code",
   "execution_count": 6,
   "metadata": {},
   "outputs": [
    {
     "data": {
      "text/plain": [
       "7"
      ]
     },
     "execution_count": 6,
     "metadata": {},
     "output_type": "execute_result"
    }
   ],
   "source": [
    "def minPathSum(grid) -> int:\n",
    "    rows, cols = len(grid), len(grid[0])\n",
    "    dp = [[0]*cols for _ in range(rows)]\n",
    "\n",
    "    # 首行首列需特殊处理\n",
    "    dp[0][0] = grid[0][0]\n",
    "    for col in range(1, cols):\n",
    "        dp[0][col] = dp[0][col-1]+grid[0][col]\n",
    "    for row in range(1, rows):\n",
    "        dp[row][0] = dp[row-1][0]+grid[row][0]\n",
    "\n",
    "    for row in range(1, rows):\n",
    "        for col in range(1, cols):\n",
    "            dp[row][col] = min(dp[row-1][col],\n",
    "                               dp[row][col-1])+grid[row][col]\n",
    "\n",
    "    return dp[-1][-1]"
   ]
  },
  {
   "cell_type": "code",
   "execution_count": null,
   "metadata": {},
   "outputs": [],
   "source": []
  }
 ],
 "metadata": {
  "hide_input": false,
  "kernelspec": {
   "display_name": "Python 3",
   "language": "python",
   "name": "python3"
  },
  "language_info": {
   "codemirror_mode": {
    "name": "ipython",
    "version": 3
   },
   "file_extension": ".py",
   "mimetype": "text/x-python",
   "name": "python",
   "nbconvert_exporter": "python",
   "pygments_lexer": "ipython3",
   "version": "3.7.4"
  },
  "toc": {
   "base_numbering": 1,
   "nav_menu": {},
   "number_sections": true,
   "sideBar": true,
   "skip_h1_title": false,
   "title_cell": "Table of Contents",
   "title_sidebar": "Contents",
   "toc_cell": false,
   "toc_position": {},
   "toc_section_display": true,
   "toc_window_display": false
  }
 },
 "nbformat": 4,
 "nbformat_minor": 2
}
