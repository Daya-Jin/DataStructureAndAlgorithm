{
 "cells": [
  {
   "cell_type": "markdown",
   "metadata": {},
   "source": [
    "[Search in Rotated Sorted Array](https://leetcode.com/problems/search-in-rotated-sorted-array/)。在一个不含重复元素的旋转有序数组中查找关键字，找不到返回$-1$。\n",
    "\n",
    "思路：旋转数组的有序性被破坏掉了，但是仍然保留了一部分的有序性，关键就是找出有序的部分。首先定位到中点```mid```，一个正常的有序数组，其中值应该大于左边界而小于右边界。因为在计算中值时会偏左，考虑到左右边界相邻时的特殊情况，选择将中值与右边界比较。\n",
    "\n",
    "若中值小于右边界，则中值右边是一个有序子数组，判断关键字是否在右边；若中值大于右边界，则中值左边是一个有序数组，判断关键字是否在左边。"
   ]
  },
  {
   "cell_type": "code",
   "execution_count": 4,
   "metadata": {},
   "outputs": [
    {
     "data": {
      "text/plain": [
       "1"
      ]
     },
     "execution_count": 4,
     "metadata": {},
     "output_type": "execute_result"
    }
   ],
   "source": [
    "def search(nums, target: int) -> int:\n",
    "    if not nums:\n",
    "        return -1\n",
    "\n",
    "    left, right = 0, len(nums)-1\n",
    "    while left < right:\n",
    "        mid = (left+right) >> 1\n",
    "        if nums[mid] == target:\n",
    "            return mid\n",
    "\n",
    "        if nums[mid] < nums[right]:    # mid及其右边是有序的\n",
    "            if nums[mid] <= target <= nums[right]:\n",
    "                left = mid+1\n",
    "            else:\n",
    "                right = mid\n",
    "        else:    # mid及其左边是有序的\n",
    "            if nums[left] <= target <= nums[mid]:\n",
    "                right = mid\n",
    "            else:\n",
    "                left = mid+1\n",
    "\n",
    "    return left if nums[left] == target else -1"
   ]
  },
  {
   "cell_type": "markdown",
   "metadata": {},
   "source": [
    "[Search in Rotated Sorted Array II](https://leetcode.com/problems/search-in-rotated-sorted-array-ii/)。在一含重复元素的有序旋转数组中判定关键字是否存在。\n",
    "\n",
    "思路：思路同上题，仍然是在有序的部分中进行查找。但是因为引入了重复元素，所以需要增加一种情况：中值与右边界相等。当中值有右边界相等时，说明遇到了重复元素，最简单的处理办法就是逐元素地缩小边界。这样一来最坏的时间复杂度为$O(n)$。"
   ]
  },
  {
   "cell_type": "code",
   "execution_count": 6,
   "metadata": {},
   "outputs": [
    {
     "data": {
      "text/plain": [
       "False"
      ]
     },
     "execution_count": 6,
     "metadata": {},
     "output_type": "execute_result"
    }
   ],
   "source": [
    "def search(nums, target: int) -> bool:\n",
    "    if not nums:\n",
    "        return False\n",
    "\n",
    "    left, right = 0, len(nums)-1\n",
    "    while left < right:\n",
    "        mid = (left+right) >> 1\n",
    "        if nums[mid] == target:\n",
    "            return True\n",
    "\n",
    "        if nums[mid] < nums[right]:\n",
    "            if nums[mid] <= target <= nums[right]:\n",
    "                left = mid+1\n",
    "            else:\n",
    "                right = mid\n",
    "        elif nums[mid] > nums[right]:\n",
    "            if nums[left] <= target <= nums[mid]:\n",
    "                right = mid\n",
    "            else:\n",
    "                left = mid+1\n",
    "        else:    # 新增加的情况\n",
    "            right -= 1\n",
    "\n",
    "    return True if nums[left] == target else False"
   ]
  },
  {
   "cell_type": "markdown",
   "metadata": {},
   "source": [
    "[Peak Index in a Mountain Array](https://leetcode.com/problems/peak-index-in-a-mountain-array/)。顶峰搜索，给一长度大于$3$的数组，该数组前一段满足递增，后一段满足递减。求该数组中的最大值。保证顶峰存在。\n",
    "\n",
    "思路：最简单的线性扫描时间复杂度为$O(n)$，使用二分搜索查找一个同时大于左右邻居的位置。"
   ]
  },
  {
   "cell_type": "code",
   "execution_count": 8,
   "metadata": {},
   "outputs": [
    {
     "data": {
      "text/plain": [
       "1"
      ]
     },
     "execution_count": 8,
     "metadata": {},
     "output_type": "execute_result"
    }
   ],
   "source": [
    "def peakIndexInMountainArray(A) -> int:\n",
    "    n = len(A)\n",
    "    left, right = 1, n-2\n",
    "    \n",
    "    while left < right:\n",
    "        mid = (left+right) >> 1\n",
    "        \n",
    "        if A[mid-1] < A[mid] > A[mid+1]:\n",
    "            return mid\n",
    "        elif A[mid-1] < A[mid] < A[mid+1]:\n",
    "            left = mid+1\n",
    "        else:\n",
    "            right = mid\n",
    "\n",
    "    return left"
   ]
  },
  {
   "cell_type": "code",
   "execution_count": null,
   "metadata": {},
   "outputs": [],
   "source": []
  }
 ],
 "metadata": {
  "hide_input": false,
  "kernelspec": {
   "display_name": "Python 3",
   "language": "python",
   "name": "python3"
  },
  "language_info": {
   "codemirror_mode": {
    "name": "ipython",
    "version": 3
   },
   "file_extension": ".py",
   "mimetype": "text/x-python",
   "name": "python",
   "nbconvert_exporter": "python",
   "pygments_lexer": "ipython3",
   "version": "3.6.6"
  },
  "toc": {
   "base_numbering": 1,
   "nav_menu": {},
   "number_sections": true,
   "sideBar": true,
   "skip_h1_title": false,
   "title_cell": "Table of Contents",
   "title_sidebar": "Contents",
   "toc_cell": false,
   "toc_position": {},
   "toc_section_display": true,
   "toc_window_display": false
  }
 },
 "nbformat": 4,
 "nbformat_minor": 2
}
