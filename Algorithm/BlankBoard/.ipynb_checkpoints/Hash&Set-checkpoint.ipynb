{
 "cells": [
  {
   "cell_type": "markdown",
   "metadata": {},
   "source": [
    "[Longest Substring Without Repeating Characters](https://leetcode.com/problems/longest-substring-without-repeating-characters/)。给一字串，要求不含重复字符的最长子串的长度。\n",
    "\n",
    "思路：滑动窗口+哈希表。滑动窗口中始终保持一个不含重复字符的字串，而哈希表记录每个字符的出现位置。若右指针字符未出现过，则在哈希表中添加记录；若右指针出现过，则需要分两种情况讨论。若在窗口之外出现过则无所谓，只要更新哈希表即可；若在窗口内出现，则窗口需要缩小，同时更新记录。"
   ]
  },
  {
   "cell_type": "code",
   "execution_count": 12,
   "metadata": {},
   "outputs": [
    {
     "data": {
      "text/plain": [
       "5"
      ]
     },
     "execution_count": 12,
     "metadata": {},
     "output_type": "execute_result"
    }
   ],
   "source": [
    "def lengthOfLongestSubstring(s: str) -> int:\n",
    "    n = len(s)\n",
    "    if n < 1:\n",
    "        return 0\n",
    "\n",
    "    left = right = 0\n",
    "    idx_lookup = dict()\n",
    "    res = 1\n",
    "\n",
    "    while left < n and right < n:\n",
    "        if s[right] not in idx_lookup:\n",
    "            idx_lookup[s[right]] = right\n",
    "        else:\n",
    "            if idx_lookup[s[right]] >= left:\n",
    "                left = idx_lookup[s[right]]+1\n",
    "            idx_lookup[s[right]] = right\n",
    "\n",
    "        res = max(res, right-left+1)\n",
    "        right += 1\n",
    "\n",
    "    return res"
   ]
  },
  {
   "cell_type": "markdown",
   "metadata": {},
   "source": [
    "[Find the Duplicate Number](https://leetcode.com/problems/find-the-duplicate-number/)。给一长度为$n+1$的数组，其中数字范围为$[1,n]$，其中有且仅有一个数字重复出现了多次，找出该数字。\n",
    "\n",
    "思路：原题要求时间复杂度$O(n)$且空间复杂度$O(1)$，有点难。使用set直接判重。"
   ]
  },
  {
   "cell_type": "code",
   "execution_count": 1,
   "metadata": {},
   "outputs": [
    {
     "data": {
      "text/plain": [
       "2"
      ]
     },
     "execution_count": 1,
     "metadata": {},
     "output_type": "execute_result"
    }
   ],
   "source": [
    "def findDuplicate(nums) -> int:\n",
    "    set_ = set()\n",
    "    for num in nums:\n",
    "        if num in set_:\n",
    "            return num\n",
    "        else:\n",
    "            set_.add(num)"
   ]
  },
  {
   "cell_type": "markdown",
   "metadata": {},
   "source": [
    "[Two Sum](https://leetcode.com/problems/two-sum/)。给一数组与一目标值，返回和等于目标值的两个索引。假设数组中只存在一对符合条件的数。\n",
    "\n",
    "思路：因为要返回的是索引而不是数，所以不能对数组排序会破坏原索引。线性扫描，每扫描到一个数字时，首先查看$target-num$在不在表中，在的话直接返回，否则加入表。"
   ]
  },
  {
   "cell_type": "code",
   "execution_count": null,
   "metadata": {},
   "outputs": [],
   "source": [
    "def twoSum(nums, target):\n",
    "    lookup = dict()\n",
    "    for idx, num in enumerate(nums):\n",
    "        if target-num in lookup:\n",
    "            return [lookup[target-num], idx]\n",
    "        else:\n",
    "            lookup[num] = idx"
   ]
  },
  {
   "cell_type": "markdown",
   "metadata": {},
   "source": [
    "[Maximum Swap](https://leetcode.com/problems/maximum-swap/)。一个数字，只允许对两位交换一次，求能得到的最大数。\n",
    "\n",
    "思路：假设交换的两个位置为$i$和$j$，令$i<j$，首先由高往低扫描并固定$i$，然后在$i$的后面找到比$nums[i]$大且最大最靠后的数字，设为$j$，然后交换即可。考虑到每位数字只有$10$种取值，使用哈希表记录每个数字最后出现的位置。"
   ]
  },
  {
   "cell_type": "code",
   "execution_count": 2,
   "metadata": {},
   "outputs": [],
   "source": [
    "def maximumSwap(num: int) -> int:\n",
    "    nums = list(map(int, str(num)))\n",
    "\n",
    "    # 1. 记录每个数字最后出现的位置\n",
    "    idx_lookup = dict()\n",
    "    for i, x in enumerate(nums):\n",
    "        idx_lookup[x] = i\n",
    "\n",
    "    n = len(nums)\n",
    "\n",
    "    for swap_i, x in enumerate(nums):\n",
    "        for larger in range(9, x, -1):    # 从最大的开始找\n",
    "            swap_j = idx_lookup.get(larger, None)\n",
    "            if swap_j and swap_j > swap_i:\n",
    "                nums[swap_i], nums[swap_j] = nums[swap_j], nums[swap_i]\n",
    "                return int(''.join(map(str, nums)))\n",
    "\n",
    "    return num"
   ]
  },
  {
   "cell_type": "markdown",
   "metadata": {},
   "source": [
    "[Valid Parentheses](https://leetcode.com/problems/valid-parentheses/)。给一只含括号的字串，判断字串中的括号序列是否合法\n",
    "\n",
    "思路：构建左右括号的映射字典，在设立一个栈保存左括号。扫描字串，左括号入栈，右括号需要看栈顶的括号是否匹配。"
   ]
  },
  {
   "cell_type": "code",
   "execution_count": null,
   "metadata": {},
   "outputs": [],
   "source": [
    "def isValid(self, s: str) -> bool:\n",
    "    p_map = {')': '(',\n",
    "             ']': '[',\n",
    "             '}': '{'}\n",
    "    stack = list()\n",
    "\n",
    "    for ch in s:\n",
    "        if ch in p_map.keys():\n",
    "            if stack and stack[-1] == p_map[ch]:\n",
    "                stack.pop()\n",
    "            else:\n",
    "                return False\n",
    "        else:\n",
    "            stack.append(ch)\n",
    "\n",
    "    return True if not stack else False"
   ]
  },
  {
   "cell_type": "markdown",
   "metadata": {},
   "source": [
    "[判别顺子](https://www.nowcoder.com/questionTerminal/762836f4d43d43ca9deb273b3de8e1f4)。给五张牌，判断能否形成顺子。大小王用$0$表示，可变牌面。\n",
    "\n",
    "思路：记录数组最大值与最小值，极差$<5$且不含重复牌面即可。"
   ]
  },
  {
   "cell_type": "code",
   "execution_count": null,
   "metadata": {},
   "outputs": [],
   "source": [
    "def isContinuous(numbers) -> bool:\n",
    "    if not numbers or len(numbers) != 5:\n",
    "        return False\n",
    "\n",
    "    unicards = set()\n",
    "    for num in numbers:\n",
    "        if num == 0:\n",
    "            continue\n",
    "        else:\n",
    "            if num in unicards:\n",
    "                return False\n",
    "            else:\n",
    "                unicards.add(num)\n",
    "\n",
    "    return max(unicards)-min(unicards) < 5"
   ]
  },
  {
   "cell_type": "markdown",
   "metadata": {},
   "source": [
    "[Intersection of Two Arrays II](https://leetcode.com/problems/intersection-of-two-arrays-ii/)。给两数组代表两个集合，求交集。\n",
    "\n",
    "思路：使用哈希表记录其中一个集合中的所有元素及出现次数，再扫描另一个集合。"
   ]
  },
  {
   "cell_type": "code",
   "execution_count": 1,
   "metadata": {},
   "outputs": [
    {
     "data": {
      "text/plain": [
       "[2, 2]"
      ]
     },
     "execution_count": 1,
     "metadata": {},
     "output_type": "execute_result"
    }
   ],
   "source": [
    "def intersect(nums1, nums2):\n",
    "    cnt_lookup = dict()\n",
    "    for num in nums1:\n",
    "        cnt_lookup.setdefault(num, 0)\n",
    "        cnt_lookup[num] += 1\n",
    "\n",
    "    res = list()\n",
    "    for num in nums2:\n",
    "        if num in cnt_lookup and cnt_lookup[num] > 0:\n",
    "            res.append(num)\n",
    "            cnt_lookup[num] -= 1\n",
    "\n",
    "    return res"
   ]
  },
  {
   "cell_type": "markdown",
   "metadata": {},
   "source": [
    "[4Sum II](https://leetcode.com/problems/4sum-ii/)。给四个数组$A$、$B$、$C$、$D$，从每个数组中各取出一个数，问四个数求和等于$0$的方案数。\n",
    "\n",
    "思路：使用一个哈希表记录前两个数的和，再以后两个数求和的相反数去哈希表中查找。"
   ]
  },
  {
   "cell_type": "code",
   "execution_count": 2,
   "metadata": {},
   "outputs": [
    {
     "data": {
      "text/plain": [
       "2"
      ]
     },
     "execution_count": 2,
     "metadata": {},
     "output_type": "execute_result"
    }
   ],
   "source": [
    "def fourSumCount(A, B, C, D) -> int:\n",
    "    twosum_lookup = dict()\n",
    "    for a in A:\n",
    "        for b in B:\n",
    "            twosum = a+b\n",
    "            twosum_lookup.setdefault(twosum, 0)\n",
    "            twosum_lookup[twosum] += 1\n",
    "\n",
    "    res = 0\n",
    "    for c in C:\n",
    "        for d in D:\n",
    "            twosum = -c-d\n",
    "            if twosum in twosum_lookup:\n",
    "                res += twosum_lookup[twosum]\n",
    "\n",
    "    return res"
   ]
  },
  {
   "cell_type": "markdown",
   "metadata": {},
   "source": [
    "[Powerful Integers](https://leetcode.com/problems/powerful-integers/)。若一个整数$n$可以表示成$n=x^{i}+y^{j}$，那么就称$n$是一个强整数。给一个上限$bound$，求所有的强整数。\n",
    "\n",
    "思路：暴力法，使用一个```set```去重。"
   ]
  },
  {
   "cell_type": "code",
   "execution_count": 4,
   "metadata": {},
   "outputs": [
    {
     "data": {
      "text/plain": [
       "[2, 3, 4, 5, 7, 9, 10]"
      ]
     },
     "execution_count": 4,
     "metadata": {},
     "output_type": "execute_result"
    }
   ],
   "source": [
    "def powerfulIntegers(x: int, y: int, bound: int):\n",
    "    res = set()\n",
    "\n",
    "    for i in range(31):\n",
    "        for j in range(31):\n",
    "            cur_num = x**i+y**j\n",
    "            if cur_num <= bound:\n",
    "                res.add(cur_num)\n",
    "            else:\n",
    "                break\n",
    "\n",
    "    return list(res)"
   ]
  },
  {
   "cell_type": "code",
   "execution_count": null,
   "metadata": {},
   "outputs": [],
   "source": []
  }
 ],
 "metadata": {
  "hide_input": false,
  "kernelspec": {
   "display_name": "Python 3",
   "language": "python",
   "name": "python3"
  },
  "language_info": {
   "codemirror_mode": {
    "name": "ipython",
    "version": 3
   },
   "file_extension": ".py",
   "mimetype": "text/x-python",
   "name": "python",
   "nbconvert_exporter": "python",
   "pygments_lexer": "ipython3",
   "version": "3.7.4"
  },
  "toc": {
   "base_numbering": 1,
   "nav_menu": {},
   "number_sections": true,
   "sideBar": true,
   "skip_h1_title": false,
   "title_cell": "Table of Contents",
   "title_sidebar": "Contents",
   "toc_cell": false,
   "toc_position": {},
   "toc_section_display": true,
   "toc_window_display": false
  }
 },
 "nbformat": 4,
 "nbformat_minor": 2
}
