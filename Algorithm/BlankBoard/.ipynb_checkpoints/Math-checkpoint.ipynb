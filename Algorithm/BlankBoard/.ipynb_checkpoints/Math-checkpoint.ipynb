{
 "cells": [
  {
   "cell_type": "markdown",
   "metadata": {},
   "source": [
    "[Fraction to Recurring Decimal](https://leetcode.com/problems/fraction-to-recurring-decimal/)。将分数转换成小数形式，当出现循环小数时，将循环部分加上括号。\n",
    "\n",
    "思路：首先明确分数中分子为除数，分母为被除数。手动做一下除法就不难发现，当某一次的余数在之前出现过时，肯定就会出现循环小数，所以该题解法是先正常的做除法，并记录每一次余数出现的位置，当余数重复时即出现循环小数。"
   ]
  },
  {
   "cell_type": "code",
   "execution_count": 2,
   "metadata": {},
   "outputs": [
    {
     "name": "stdout",
     "output_type": "stream",
     "text": [
      "1\n"
     ]
    },
    {
     "data": {
      "text/plain": [
       "'0.0'"
      ]
     },
     "execution_count": 2,
     "metadata": {},
     "output_type": "execute_result"
    }
   ],
   "source": [
    "def fractionToDecimal(numerator: int, denominator: int) -> str:\n",
    "    res = '-' if numerator*denominator < 0 else ''    # 符号\n",
    "    numerator, denominator = abs(numerator), abs(denominator)\n",
    "    integer, remainder = divmod(numerator, denominator)    # 首个商与余数\n",
    "    res += str(integer)\n",
    "\n",
    "    if remainder:\n",
    "        res += '.'\n",
    "    else:\n",
    "        return res\n",
    "\n",
    "    remainder_idx = dict()    # 记录余数位置的字典\n",
    "    while remainder:\n",
    "        if remainder not in remainder_idx:\n",
    "            remainder_idx[remainder] = len(res)\n",
    "            integer, remainder = divmod(remainder*10, denominator)\n",
    "            res += str(integer)\n",
    "        else:\n",
    "            idx = remainder_idx[remainder]\n",
    "            res = '{}({})'.format(res[:idx], res[idx:])\n",
    "            break\n",
    "\n",
    "    return res"
   ]
  },
  {
   "cell_type": "markdown",
   "metadata": {},
   "source": [
    "[Excel Sheet Column Number](https://leetcode.com/problems/excel-sheet-column-number/)。在Excel中列号是以字母来表示的，给定一个字母表示的列号，求出其数字形式。A->1，b->2，...。\n",
    "\n",
    "思路：该题实质就是26进制转10进制。首先建立一个字母与数字的映射表，然后按照进制转换来做。"
   ]
  },
  {
   "cell_type": "code",
   "execution_count": 13,
   "metadata": {},
   "outputs": [
    {
     "data": {
      "text/plain": [
       "27"
      ]
     },
     "execution_count": 13,
     "metadata": {},
     "output_type": "execute_result"
    }
   ],
   "source": [
    "def titleToNumber(s: str) -> int:\n",
    "    ch2num = {chr(65+idx): idx+1 for idx in range(26)}    # ord('A')=65\n",
    "\n",
    "    n = len(s)\n",
    "    res = 0\n",
    "    for idx, ch in enumerate(s):\n",
    "        res += ch2num[ch]*(26**(n-idx-1))\n",
    "\n",
    "    return res"
   ]
  },
  {
   "cell_type": "markdown",
   "metadata": {},
   "source": [
    "[Permutations](https://leetcode.com/problems/permutations/)。全排列。\n",
    "\n",
    "思路：第一个答案肯定是原数组，对第一个答案的首元素进行循环交换得到第二组答案；再对所有答案的第二个元素进行循环交换；再对所有答案的第三个元素进行循环交换...。那么初始res是原数组，假设交换的左右指针分别为$i$和$j$，那么需要写三个循环，最外层循环遍历所有可能的$i$，第二个循环遍历已有的答案，第三个循环遍历所有可能的$j$。"
   ]
  },
  {
   "cell_type": "code",
   "execution_count": null,
   "metadata": {},
   "outputs": [],
   "source": [
    "def permute(nums):\n",
    "    if not nums:\n",
    "        return list()\n",
    "\n",
    "    def gen_swap(l, i, j):\n",
    "        tmp = l[:]\n",
    "        tmp[i], tmp[j] = tmp[j], tmp[i]\n",
    "        return tmp\n",
    "\n",
    "    n = len(nums)\n",
    "    res = [nums]\n",
    "    for swap_i in range(n-1):    # i指针只到倒数第二位\n",
    "        for ans in res[:]:\n",
    "            for swap_j in range(swap_i+1, n):\n",
    "                res.append(gen_swap(ans, swap_i, swap_j))\n",
    "\n",
    "    return res"
   ]
  },
  {
   "cell_type": "markdown",
   "metadata": {},
   "source": [
    "[Permutations II](https://leetcode.com/problems/permutations-ii/)。给一可能含有重复元素的数组，求全排列。\n",
    "\n",
    "思路：该题关键在与去重，暂时使用$tuple+set$的技巧来实现。"
   ]
  },
  {
   "cell_type": "code",
   "execution_count": 11,
   "metadata": {},
   "outputs": [
    {
     "data": {
      "text/plain": [
       "[(1, 2, 1), (2, 1, 1), (1, 1, 2)]"
      ]
     },
     "execution_count": 11,
     "metadata": {},
     "output_type": "execute_result"
    }
   ],
   "source": [
    "def permuteUnique(nums):\n",
    "    res = [tuple(nums)]\n",
    "    n = len(nums)\n",
    "\n",
    "    def swap(i, j, arr):\n",
    "        tmp = list(arr)\n",
    "        tmp[i], tmp[j] = tmp[j], tmp[i]\n",
    "        return tuple(tmp)\n",
    "\n",
    "    for i in range(n-1):\n",
    "        for ans in res[:]:\n",
    "            for j in range(i+1, n):\n",
    "                res.append(swap(i, j, ans))\n",
    "\n",
    "    return list(set(res))"
   ]
  },
  {
   "cell_type": "markdown",
   "metadata": {},
   "source": [
    "[Next Permutation](https://leetcode.com/problems/next-permutation/)。求下一个全排列。\n",
    "\n",
    "思路：数学题，思路须记住，不然做不出。\n",
    "- 由后往前扫描，找到首个pre<cur的一个cur位置；\n",
    "- 反转cur及其之后的部分；\n",
    "- 由cur开始往后扫描，找到首个idx>pre的位置，交换idx与pre。"
   ]
  },
  {
   "cell_type": "code",
   "execution_count": 17,
   "metadata": {},
   "outputs": [
    {
     "data": {
      "text/plain": [
       "[2, 1, 3]"
      ]
     },
     "execution_count": 17,
     "metadata": {},
     "output_type": "execute_result"
    }
   ],
   "source": [
    "def nextPermutation(nums) -> None:\n",
    "    n = len(nums)\n",
    "\n",
    "    # 1. 找到cur\n",
    "    for cur in range(n-1, -1, -1):    # 注意倒序遍历最终会遍历到0与-1\n",
    "        if nums[cur-1] < nums[cur]:\n",
    "            break\n",
    "\n",
    "    if cur == 0:\n",
    "        nums.sort()\n",
    "        return\n",
    "\n",
    "    # 2. 反转\n",
    "    def reverse(i, j):\n",
    "        while i < j:\n",
    "            nums[i], nums[j] = nums[j], nums[i]\n",
    "            i += 1\n",
    "            j -= 1\n",
    "    reverse(cur, n-1)\n",
    "\n",
    "    # 3. 找到idx>pre，然后交换\n",
    "    for idx in range(cur, n):\n",
    "        if nums[idx] > nums[cur-1]:\n",
    "            break\n",
    "\n",
    "    nums[idx], nums[cur-1] = nums[cur-1], nums[idx]\n",
    "    return"
   ]
  },
  {
   "cell_type": "markdown",
   "metadata": {},
   "source": [
    "[Permutation Sequence](https://leetcode.com/problems/permutation-sequence/)。给$[1,n]$个数字，其中$n<10$，求这$n$个数字从小到大的第$k$个排列。\n",
    "\n",
    "思路：使用[Next Permutation](https://leetcode.com/problems/next-permutation/)的方法是没有错的，但是会超时。"
   ]
  },
  {
   "cell_type": "code",
   "execution_count": 19,
   "metadata": {},
   "outputs": [
    {
     "data": {
      "text/plain": [
       "'792861534'"
      ]
     },
     "execution_count": 19,
     "metadata": {},
     "output_type": "execute_result"
    }
   ],
   "source": [
    "def getPermutation(n: int, k: int) -> str:\n",
    "    nums = list(range(1, n+1))\n",
    "\n",
    "    def reverse(i, j):\n",
    "        while i < j:\n",
    "            nums[i], nums[j] = nums[j], nums[i]\n",
    "            i += 1\n",
    "            j -= 1\n",
    "\n",
    "    for _ in range(k-1):\n",
    "        for cur in range(n-1, -1, -1):\n",
    "            if nums[cur-1] < nums[cur]:\n",
    "                pre = cur-1\n",
    "                break\n",
    "\n",
    "        reverse(cur, n-1)\n",
    "\n",
    "        for idx in range(cur, n):\n",
    "            if nums[idx] > nums[pre]:\n",
    "                break\n",
    "\n",
    "        nums[pre], nums[idx] = nums[idx], nums[pre]\n",
    "\n",
    "    return ''.join(map(str, nums))"
   ]
  },
  {
   "cell_type": "markdown",
   "metadata": {},
   "source": [
    "求倒数第$Q$个排列，2019网易笔试题。给$n$个自然数，然后指定其中一个排列，假设选中的是第$Q$个排列，求倒数第$Q$个排列。如$n=3$，选中排列$123$，它是第$1$个排列，那么要求倒数第$i$个排列$321$。\n",
    "\n",
    "思路：找规律，第$Q$个排列和倒数第$Q$个排列，对应位的数字相加恰好等于$n+1$。"
   ]
  },
  {
   "cell_type": "code",
   "execution_count": 21,
   "metadata": {},
   "outputs": [
    {
     "data": {
      "text/plain": [
       "321"
      ]
     },
     "execution_count": 21,
     "metadata": {},
     "output_type": "execute_result"
    }
   ],
   "source": [
    "def func(n, num):\n",
    "    num = list(str(num))\n",
    "    res = list()\n",
    "\n",
    "    for bit in num:\n",
    "        res.append(n+1-int(bit))\n",
    "\n",
    "    return int(''.join(map(str, res)))\n",
    "\n",
    "\n",
    "func(3, 123)"
   ]
  },
  {
   "cell_type": "markdown",
   "metadata": {},
   "source": [
    "[Next Greater Element III](https://leetcode.com/problems/next-greater-element-iii/)。给一个正整数$n$，求满足同数字组合的条件下，大于$n$的最小的重排数字，不存在则返回$-1$。\n",
    "\n",
    "思路：该题等同于next_permutatiion。唯一要注意的是溢出。"
   ]
  },
  {
   "cell_type": "code",
   "execution_count": null,
   "metadata": {},
   "outputs": [],
   "source": [
    "def nextGreaterElement(n: int) -> int:\n",
    "    num = list(str(n))\n",
    "    n = len(num)\n",
    "\n",
    "    for cur in range(n-1, -1, -1):\n",
    "        if int(num[cur-1]) < int(num[cur]):\n",
    "            break\n",
    "\n",
    "    if cur == 0:\n",
    "        return -1\n",
    "\n",
    "    def reverse(i, j):\n",
    "        while i < j:\n",
    "            num[i], num[j] = num[j], num[i]\n",
    "            i += 1\n",
    "            j -= 1\n",
    "    reverse(cur, n-1)\n",
    "\n",
    "    for idx in range(cur, n):\n",
    "        if int(num[idx]) > int(num[cur-1]):\n",
    "            break\n",
    "    num[idx], num[cur-1] = num[cur-1], num[idx]\n",
    "\n",
    "    res = int(''.join(num))\n",
    "    return res if res < 0x7FFFFFFF else -1"
   ]
  },
  {
   "cell_type": "markdown",
   "metadata": {},
   "source": [
    "[Factorial Trailing Zeroes](https://leetcode.com/problems/factorial-trailing-zeroes/)。求$n!$末尾$0$的个数。\n",
    "\n",
    "思路：$n!=1\\times{2}\\times{3}\\times{...}\\times{n}$，若$n!$末尾有$k$个$0$，即是说$n!=x\\times{10}^{k}$。连乘式中能构成$10$的只有$2\\times{5}$，易得阶乘式中$2$的数量一定比$5$多，所以对$n!$做因式分解，找出$5$的个数即可。"
   ]
  },
  {
   "cell_type": "code",
   "execution_count": null,
   "metadata": {},
   "outputs": [],
   "source": [
    "def trailingZeroes(n: int) -> int:\n",
    "    res = 0\n",
    "    while n >= 5:\n",
    "        res += n//5\n",
    "        n //= 5\n",
    "\n",
    "    return res"
   ]
  },
  {
   "cell_type": "markdown",
   "metadata": {},
   "source": [
    "[Non-decreasing Array](https://leetcode.com/problems/non-decreasing-array/)。给一数组，判断该数组在最多修改一个数字的情况下是否能满足非递减性质。\n",
    "\n",
    "思路："
   ]
  },
  {
   "cell_type": "code",
   "execution_count": 14,
   "metadata": {},
   "outputs": [
    {
     "data": {
      "text/plain": [
       "True"
      ]
     },
     "execution_count": 14,
     "metadata": {},
     "output_type": "execute_result"
    }
   ],
   "source": [
    "def checkPossibility(nums) -> bool:\n",
    "    pass"
   ]
  },
  {
   "cell_type": "markdown",
   "metadata": {},
   "source": [
    "[Integer Break](https://leetcode.com/problems/integer-break/)。给一个正整数$n$，要求将拆成多个数(至少为$2$)的和，使得拆分后的数乘积最大。\n",
    "\n",
    "思路：基准情况。$2$只能拆成$[1,1]$，$3$只能拆成$[1,2]$，$4$的最大拆分方案为$[2,2]$。可以证明，拆分后的数中不会存在大于$3$的数。\n",
    "- 假设$n>=4$，拆出一个$2$，拆分后的乘积为$2(n-2)$，未拆分的乘积为$n$。可以证明$2(n-2)\\ge{n}$；\n",
    "- 假设$n>=5$，拆出一个$3$，拆分后的乘积为$3(n-3)$，未拆分的乘积为$n$。可以证明$3(n-3)\\ge{2(n-2)}>{n}$。"
   ]
  },
  {
   "cell_type": "code",
   "execution_count": 16,
   "metadata": {},
   "outputs": [
    {
     "data": {
      "text/plain": [
       "9"
      ]
     },
     "execution_count": 16,
     "metadata": {},
     "output_type": "execute_result"
    }
   ],
   "source": [
    "def integerBreak(n: int) -> int:\n",
    "    if n < 4:\n",
    "        return n-1\n",
    "\n",
    "    twos = threes = 0\n",
    "    while n >= 5:\n",
    "        threes += 1\n",
    "        n -= 3\n",
    "\n",
    "    return n*(3**threes)"
   ]
  },
  {
   "cell_type": "markdown",
   "metadata": {},
   "source": [
    "[Super Pow](https://leetcode.com/problems/super-pow/)。实现一个幂函数，底数以数字形式给出，指数以数组形式给出，数组每一个元素代表一位数字。返回模$1337$后的结果。\n",
    "\n",
    "思路：逐位做乘方。例如$2^{123}=((2^{1})^{10}\\times{2^{2}})^{10}\\times{2^{3}}$"
   ]
  },
  {
   "cell_type": "code",
   "execution_count": 2,
   "metadata": {},
   "outputs": [
    {
     "data": {
      "text/plain": [
       "1024"
      ]
     },
     "execution_count": 2,
     "metadata": {},
     "output_type": "execute_result"
    }
   ],
   "source": [
    "def superPow(a: int, b) -> int:\n",
    "    res = a**b[0] % 1337\n",
    "\n",
    "    b = b[1:]\n",
    "    for bit in b:\n",
    "        res = (res**10)*(a**bit) % 1337\n",
    "\n",
    "    return res"
   ]
  },
  {
   "cell_type": "markdown",
   "metadata": {},
   "source": [
    "[Nim Game](https://leetcode.com/problems/nim-game/)。一堆石头，两人轮流拿，每次能拿$[1,3]$个石头。双方均已最优策略拿石头，$A$先拿，判断$A$是否能稳赢。\n",
    "\n",
    "思路：$[1,3]$个石头$A$稳赢，$4$个石头$A$必输，$[5,7]$个石头$A$稳赢，$8$个石头$A$必输。不难发现谁面临$4n$个石头谁就必输。"
   ]
  },
  {
   "cell_type": "code",
   "execution_count": 3,
   "metadata": {},
   "outputs": [
    {
     "data": {
      "text/plain": [
       "False"
      ]
     },
     "execution_count": 3,
     "metadata": {},
     "output_type": "execute_result"
    }
   ],
   "source": [
    "def canWinNim(n: int) -> bool:\n",
    "    return n % 4 != 0"
   ]
  },
  {
   "cell_type": "markdown",
   "metadata": {},
   "source": [
    "[Implement Rand10() Using Rand7()](https://leetcode.com/problems/implement-rand10-using-rand7/)。现有一个产生$[1,7]$范围随机数的函数```rand7()```，利用该函数实现一个```rand10()```。\n",
    "\n",
    "思路：一次随机选择肯定不行，设置一个$7\\times{7}$的矩阵，里面有$49$个值，通过两次随机信号来选定一个单元格，那么就可以生成$[1,49]$的随机数。抛弃掉$[41,49]$区间的数字即可。"
   ]
  },
  {
   "cell_type": "code",
   "execution_count": 5,
   "metadata": {},
   "outputs": [],
   "source": [
    "def rand7():\n",
    "    pass\n",
    "\n",
    "def rand10() -> int:\n",
    "    row, col = rand7(), rand7()\n",
    "    idx = (row-1)*7+col\n",
    "\n",
    "    while idx > 40:\n",
    "        row, col = rand7(), rand7()\n",
    "        idx = (row-1)*7+col\n",
    "\n",
    "    return idx % 10+1"
   ]
  },
  {
   "cell_type": "code",
   "execution_count": null,
   "metadata": {},
   "outputs": [],
   "source": []
  }
 ],
 "metadata": {
  "hide_input": false,
  "kernelspec": {
   "display_name": "Python 3",
   "language": "python",
   "name": "python3"
  },
  "language_info": {
   "codemirror_mode": {
    "name": "ipython",
    "version": 3
   },
   "file_extension": ".py",
   "mimetype": "text/x-python",
   "name": "python",
   "nbconvert_exporter": "python",
   "pygments_lexer": "ipython3",
   "version": "3.7.4"
  },
  "toc": {
   "base_numbering": 1,
   "nav_menu": {},
   "number_sections": true,
   "sideBar": true,
   "skip_h1_title": false,
   "title_cell": "Table of Contents",
   "title_sidebar": "Contents",
   "toc_cell": false,
   "toc_position": {},
   "toc_section_display": true,
   "toc_window_display": false
  }
 },
 "nbformat": 4,
 "nbformat_minor": 2
}
