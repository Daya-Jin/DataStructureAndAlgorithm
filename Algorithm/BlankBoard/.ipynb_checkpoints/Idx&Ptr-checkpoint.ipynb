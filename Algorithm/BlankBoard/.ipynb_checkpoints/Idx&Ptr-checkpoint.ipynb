{
 "cells": [
  {
   "cell_type": "markdown",
   "metadata": {},
   "source": [
    "## Idx&Ptr\n",
    "索引与指针。索引常用与数组与字串的题目，而指针专用于链表。"
   ]
  },
  {
   "cell_type": "markdown",
   "metadata": {},
   "source": [
    "[Two Sum II - Input array is sorted](https://leetcode.com/problems/two-sum-ii-input-array-is-sorted/)。给一有序数组与一个目标值，返回和为目标值的两索引。注意，该题索引以$1$为起点，且假设数组中只有一对满足条件的值。\n",
    "\n",
    "思路：数组已经有序，那么设立首尾双指针。若首尾相加小于target，说明需要加大，则左指针右移；反之右指针左移。"
   ]
  },
  {
   "cell_type": "code",
   "execution_count": null,
   "metadata": {},
   "outputs": [],
   "source": [
    "def twoSum(numbers, target: int):\n",
    "    left, right = 0, len(numbers)-1\n",
    "\n",
    "    while left < right:\n",
    "        cur_sum = numbers[left]+numbers[right]\n",
    "\n",
    "        if cur_sum == target:\n",
    "            return [left+1, right+1]\n",
    "        elif cur_sum < target:\n",
    "            left += 1\n",
    "        else:\n",
    "            right -= 1"
   ]
  },
  {
   "cell_type": "markdown",
   "metadata": {},
   "source": [
    "[3Sum](https://leetcode.com/problems/3sum/)。给定一数组，找出所有满足a+b+c=0的三元组。\n",
    "\n",
    "思路：首先对数组排序，然后使用三指针。其中一个指针从左往右固定住一个数字，然后在该数字后面使用首位双指针寻找另外两个数。实际上还是相当于双指针。"
   ]
  },
  {
   "cell_type": "code",
   "execution_count": null,
   "metadata": {},
   "outputs": [],
   "source": [
    "def threeSum(nums):\n",
    "    n = len(nums)\n",
    "    nums.sort()\n",
    "    res = list()\n",
    "\n",
    "    for idx in range(n-2):\n",
    "        if idx > 0 and nums[idx] == nums[idx-1]:\n",
    "            continue\n",
    "\n",
    "        left, right = idx+1, n-1\n",
    "        while left < right:\n",
    "            cur_sum = nums[idx]+nums[left]+nums[right]\n",
    "\n",
    "            if cur_sum < 0:\n",
    "                left += 1\n",
    "            elif cur_sum > 0:\n",
    "                right -= 1\n",
    "            else:\n",
    "                res.append([nums[idx], nums[left], nums[right]])\n",
    "                left += 1\n",
    "                right -= 1\n",
    "\n",
    "                while left < right and nums[left] == nums[left-1]:\n",
    "                    left += 1\n",
    "                while left < right and nums[right] == nums[right+1]:\n",
    "                    right -= 1\n",
    "\n",
    "    return res"
   ]
  },
  {
   "cell_type": "markdown",
   "metadata": {},
   "source": [
    "[4Sum](https://leetcode.com/problems/4sum/)。给定一数组，找出满足a+b+c+d=sum的所有四元组。\n",
    "\n",
    "思路：固定前两个数字，后两个数字使用首尾双指针法去寻找。注意跳过重复数字。"
   ]
  },
  {
   "cell_type": "code",
   "execution_count": null,
   "metadata": {},
   "outputs": [],
   "source": [
    "def fourSum(nums, target: int):\n",
    "    n = len(nums)\n",
    "    nums.sort()\n",
    "    res = list()\n",
    "\n",
    "    for idx_1 in range(n-3):\n",
    "        if idx_1 > 0 and nums[idx_1] == nums[idx_1-1]:\n",
    "            continue\n",
    "\n",
    "        for idx_2 in range(idx_1+1, n-2):\n",
    "            if idx_2 > (idx_1+1) and nums[idx_2] == nums[idx_2-1]:\n",
    "                continue\n",
    "\n",
    "            left, right = idx_2+1, n-1\n",
    "            while left < right:\n",
    "                cur_sum = nums[idx_1]+nums[idx_2]+nums[left]+nums[right]\n",
    "                if cur_sum < target:\n",
    "                    left += 1\n",
    "                elif cur_sum > target:\n",
    "                    right -= 1\n",
    "                else:\n",
    "                    res.append([nums[idx_1], nums[idx_2],\n",
    "                                nums[left], nums[right]])\n",
    "                    left += 1\n",
    "                    right -= 1\n",
    "\n",
    "                    while left < right and nums[left] == nums[left-1]:\n",
    "                        left += 1\n",
    "                    while left < right and nums[right] == nums[right+1]:\n",
    "                        right -= 1\n",
    "\n",
    "    return res"
   ]
  },
  {
   "cell_type": "markdown",
   "metadata": {},
   "source": [
    "给一长度为$n$的数组，其中的数字范围为$[0,n-1]$，判断该数组中是否有重复数字。\n",
    "\n",
    "思路：若数组中没有重复数字，发现数字恰好和索引是一一对应的。可以使用替换放置的思想，线性扫描数组，若数字与索引不匹配，则尝试将该数字归位，若对应位置上已经有摆放正确的数字，说明有重复数字。"
   ]
  },
  {
   "cell_type": "code",
   "execution_count": 65,
   "metadata": {},
   "outputs": [
    {
     "name": "stdout",
     "output_type": "stream",
     "text": [
      "[0 0 1 2 3] True\n",
      "[0 0 0 0 0] True\n",
      "[0 4 3 2 1] False\n",
      "[0 2 1 0 4] True\n",
      "[1 3 0 1 1] True\n"
     ]
    }
   ],
   "source": [
    "def is_duplicate(arr):\n",
    "    n = len(arr)\n",
    "    for idx in range(n):\n",
    "        while arr[idx] != idx:\n",
    "            val = arr[idx]\n",
    "            if arr[val] == arr[idx]:\n",
    "                return True\n",
    "            else:\n",
    "                arr[idx], arr[val] = arr[val], arr[idx]\n",
    "\n",
    "    return False"
   ]
  },
  {
   "cell_type": "markdown",
   "metadata": {},
   "source": [
    "[Reverse Words in a String III](https://leetcode.com/problems/reverse-words-in-a-string-iii/)。给一句子，反转所有单词。\n",
    "\n",
    "思路：首先将字符串转成列表便于交换。扫描到第一个非空格字符的位置，记录为```start```，从```start```开始扫描到第一个空格字符的位置，记录为```end```。交换```start```与```end-1```之间的字符。"
   ]
  },
  {
   "cell_type": "code",
   "execution_count": 5,
   "metadata": {},
   "outputs": [
    {
     "data": {
      "text/plain": [
       "\"s'teL ekat edoCteeL tsetnoc\""
      ]
     },
     "execution_count": 5,
     "metadata": {},
     "output_type": "execute_result"
    }
   ],
   "source": [
    "def reverseWords(s: str) -> str:\n",
    "    n = len(s)\n",
    "    start = 0\n",
    "    s = list(s)\n",
    "\n",
    "    def reverse(left, right):\n",
    "        while left < right:\n",
    "            s[left], s[right] = s[right], s[left]\n",
    "            left += 1\n",
    "            right -= 1\n",
    "\n",
    "    while start < n:\n",
    "        # 1. 第一个非空格字符\n",
    "        while start < n and s[start] == ' ':\n",
    "            start += 1\n",
    "\n",
    "        # 2. 第一个空格字符\n",
    "        end = start\n",
    "        while end < n and s[end] != ' ':\n",
    "            end += 1\n",
    "\n",
    "        # 3. 交换\n",
    "        reverse(start, end-1)\n",
    "        start = end\n",
    "\n",
    "    return ''.join(s)"
   ]
  },
  {
   "cell_type": "markdown",
   "metadata": {},
   "source": [
    "[Reverse Words in a String](https://leetcode.com/problems/reverse-words-in-a-string/)。给一句子，返回单词逆序的句子，返回字串中不应包含多余的空格。\n",
    "\n",
    "思路：首先将字串转成列表便于交换。反转整个字串，再反转每个单词。去除空格比较麻烦，首尾空格可以使用```strip()```方法，去除中间的空格可以额外扫描一遍。"
   ]
  },
  {
   "cell_type": "code",
   "execution_count": 13,
   "metadata": {},
   "outputs": [
    {
     "data": {
      "text/plain": [
       "'example good a'"
      ]
     },
     "execution_count": 13,
     "metadata": {},
     "output_type": "execute_result"
    }
   ],
   "source": [
    "def reverseWords(s: str) -> str:\n",
    "    s = list(s.strip().replace('  ', ' '))\n",
    "    n = len(s)\n",
    "    start = 0\n",
    "\n",
    "    def reverse(left, right):\n",
    "        while left < right:\n",
    "            s[left], s[right] = s[right], s[left]\n",
    "            left += 1\n",
    "            right -= 1\n",
    "\n",
    "    reverse(0, n-1)\n",
    "\n",
    "    while start < n:\n",
    "        while start < n and s[start] == ' ':\n",
    "            start += 1\n",
    "\n",
    "        end = start\n",
    "        while end < n and s[end] != ' ':\n",
    "            end += 1\n",
    "\n",
    "        reverse(start, end-1)\n",
    "        start = end\n",
    "\n",
    "    # 去除中间多余的空格\n",
    "    for idx in range(n-1):\n",
    "        if s[idx] == ' ' and s[idx+1] == ' ':\n",
    "            s[idx] = ''\n",
    "\n",
    "    return ''.join(s)"
   ]
  },
  {
   "cell_type": "markdown",
   "metadata": {},
   "source": [
    "[Is Subsequence](https://leetcode.com/problems/is-subsequence/)。给两字串$s$和$t$，判断$s$是否是$t$的子序列。子序列不要求连续。\n",
    "\n",
    "思路：子序列意味着$s$的所有字符都按顺序出现在$t$中，那么设双指针，当字符相等时，双指针均移动；否则只有$t$的指针移动。"
   ]
  },
  {
   "cell_type": "code",
   "execution_count": 1,
   "metadata": {},
   "outputs": [
    {
     "data": {
      "text/plain": [
       "True"
      ]
     },
     "execution_count": 1,
     "metadata": {},
     "output_type": "execute_result"
    }
   ],
   "source": [
    "def isSubsequence(s: str, t: str) -> bool:\n",
    "    s_idx = t_idx = 0\n",
    "    n_s, n_t = len(s), len(t)\n",
    "    while s_idx < n_s and t_idx < n_t:\n",
    "        if s[s_idx] == t[t_idx]:\n",
    "            s_idx += 1\n",
    "        t_idx += 1\n",
    "\n",
    "    return s_idx == n_s"
   ]
  },
  {
   "cell_type": "markdown",
   "metadata": {},
   "source": [
    "[Number of Matching Subsequences](https://leetcode.com/problems/number-of-matching-subsequences/)。给一字串$S$与一组字串$words$，计算$words$中有多少字串是$S$的子序列。\n",
    "\n",
    "思路：判断子序列还是使用双指针法，但是因为测试用例有特殊例子，所以需要考虑优化。设立两个集合保存已经判断过的字串。"
   ]
  },
  {
   "cell_type": "code",
   "execution_count": 2,
   "metadata": {},
   "outputs": [
    {
     "data": {
      "text/plain": [
       "3"
      ]
     },
     "execution_count": 2,
     "metadata": {},
     "output_type": "execute_result"
    }
   ],
   "source": [
    "def numMatchingSubseq(S: str, words) -> int:\n",
    "    res = 0\n",
    "    passed, not_passed = set(), set()\n",
    "\n",
    "    def isSub(s, S):\n",
    "        if s in passed:\n",
    "            return True\n",
    "        if s in not_passed:\n",
    "            return False\n",
    "\n",
    "        n_s, n_S = len(s), len(S)\n",
    "        idx_s = idx_S = 0\n",
    "        while idx_s < n_s and idx_S < n_S:\n",
    "            if s[idx_s] == S[idx_S]:\n",
    "                idx_s += 1\n",
    "            idx_S += 1\n",
    "        if idx_s == n_s:\n",
    "            passed.add(s)\n",
    "            return True\n",
    "        else:\n",
    "            not_passed.add(s)\n",
    "            return False\n",
    "\n",
    "    for s in words:\n",
    "        if isSub(s, S):\n",
    "            res += 1\n",
    "\n",
    "    return res"
   ]
  },
  {
   "cell_type": "markdown",
   "metadata": {},
   "source": [
    "[Valid Palindrome](https://leetcode.com/problems/valid-palindrome/)。判断一字串是否构成回文，只考虑数字与字母，并且忽略大小写。\n",
    "\n",
    "思路：因为只考虑数字字母且忽略大小写，那么设立首尾双指针向中间移动。碰到非数字字母时跳过即可，比较两字符是否相等前需要同意转成小写。"
   ]
  },
  {
   "cell_type": "code",
   "execution_count": 13,
   "metadata": {},
   "outputs": [
    {
     "data": {
      "text/plain": [
       "True"
      ]
     },
     "execution_count": 13,
     "metadata": {},
     "output_type": "execute_result"
    }
   ],
   "source": [
    "def isPalindrome(s: str) -> bool:\n",
    "    n = len(s)\n",
    "    if n < 2:\n",
    "        return True\n",
    "\n",
    "    left, right = 0, n-1\n",
    "    while left < right:\n",
    "        while left < right and not s[left].isalnum():\n",
    "            left += 1\n",
    "        while left < right and not s[right].isalnum():\n",
    "            right -= 1\n",
    "\n",
    "        s_left, s_right = s[left].lower(), s[right].lower()\n",
    "        if s_left != s_right:\n",
    "            return False\n",
    "        else:\n",
    "            left += 1\n",
    "            right -= 1\n",
    "\n",
    "    return True"
   ]
  },
  {
   "cell_type": "markdown",
   "metadata": {},
   "source": [
    "[Valid Palindrome II](https://leetcode.com/problems/valid-palindrome-ii/)。允许删除一个字符，判定字串能够构成回文。\n",
    "\n",
    "思路：检测回文的方法就是设立首尾双指针向中间靠近。若碰到两指针不相等，则有两种选择：跳过左指针字符或右指针字符。"
   ]
  },
  {
   "cell_type": "code",
   "execution_count": 16,
   "metadata": {},
   "outputs": [
    {
     "data": {
      "text/plain": [
       "True"
      ]
     },
     "execution_count": 16,
     "metadata": {},
     "output_type": "execute_result"
    }
   ],
   "source": [
    "def validPalindrome(s: str) -> bool:\n",
    "    def valid(s):\n",
    "        left, right = 0, len(s)-1\n",
    "        while left < right:\n",
    "            if s[left] != s[right]:\n",
    "                return False\n",
    "            else:\n",
    "                left += 1\n",
    "                right -= 1\n",
    "        return True\n",
    "\n",
    "    left, right = 0, len(s)-1\n",
    "    while left < right:\n",
    "        if s[left] != s[right]:\n",
    "            return valid(s[left+1:right+1]) or valid(s[left:right])\n",
    "        else:\n",
    "            left += 1\n",
    "            right -= 1\n",
    "\n",
    "    return True"
   ]
  },
  {
   "cell_type": "markdown",
   "metadata": {},
   "source": [
    "[Palindromic Substrings](https://leetcode.com/problems/palindromic-substrings/)。给一字符串，找出该字串中有多少个回文子串。不同索引位置的回文即算不同。\n",
    "\n",
    "思路：判断回文的方法是从中心往两边扩展，但是中心字符的选取却又奇偶两种方式。以奇数形式展开时，中心字符只有一个，即$i==j$；以偶数形式展开时，中心字符有两个，即$i$和$i+1$。"
   ]
  },
  {
   "cell_type": "code",
   "execution_count": 10,
   "metadata": {},
   "outputs": [
    {
     "data": {
      "text/plain": [
       "3"
      ]
     },
     "execution_count": 10,
     "metadata": {},
     "output_type": "execute_result"
    }
   ],
   "source": [
    "def countSubstrings(s: str) -> int:\n",
    "    n = len(s)\n",
    "    if n < 2:\n",
    "        return n\n",
    "\n",
    "    res = 0\n",
    "\n",
    "    def expand(left, right):\n",
    "        nonlocal res\n",
    "        while left >= 0 and right < n and s[left] == s[right]:\n",
    "            left -= 1\n",
    "            right += 1\n",
    "            res += 1\n",
    "\n",
    "    for idx in range(n):\n",
    "        expand(idx, idx)\n",
    "        expand(idx, idx+1)\n",
    "\n",
    "    return res"
   ]
  },
  {
   "cell_type": "markdown",
   "metadata": {},
   "source": [
    "[Longest Palindromic Substring](https://leetcode.com/problems/longest-palindromic-substring/)。给一字符串，求出其中最长的回文子串。\n",
    "\n",
    "思路：要找回文串，从中心开始往两边扩展。注意有奇数和偶数两种情况。"
   ]
  },
  {
   "cell_type": "code",
   "execution_count": 11,
   "metadata": {},
   "outputs": [
    {
     "data": {
      "text/plain": [
       "'bab'"
      ]
     },
     "execution_count": 11,
     "metadata": {},
     "output_type": "execute_result"
    }
   ],
   "source": [
    "def longestPalindrome(s: str) -> str:\n",
    "    n = len(s)\n",
    "    if n < 2:\n",
    "        return s\n",
    "\n",
    "    res = str()\n",
    "\n",
    "    def expand(left, right):\n",
    "        nonlocal res\n",
    "        while left >= 0 and right < n and s[left] == s[right]:\n",
    "            left -= 1\n",
    "            right += 1\n",
    "        if right-left-1 > len(res):\n",
    "            res = s[left+1:right]\n",
    "\n",
    "    for idx in range(n):\n",
    "        expand(idx, idx)    # 奇数扩展\n",
    "        expand(idx, idx+1)    # 偶数扩展\n",
    "\n",
    "    return res"
   ]
  },
  {
   "cell_type": "markdown",
   "metadata": {},
   "source": [
    "[Maximum Width Ramp](https://leetcode.com/problems/maximum-width-ramp/)。给一数组$A$，定义一个ramp为$(i,j)$，其中$i<j$且$A[i]\\le{A[j]}$。求范围最大的ramp的范围。\n",
    "\n",
    "思路：首先对数组排序，排序后得到的index数组是始终满足$A[i]\\le{A[j]}$的。然后只要求$max(j-i)$即可，可参照[该题](https://leetcode.com/problems/best-time-to-buy-and-sell-stock/)。"
   ]
  },
  {
   "cell_type": "code",
   "execution_count": 7,
   "metadata": {},
   "outputs": [
    {
     "data": {
      "text/plain": [
       "1"
      ]
     },
     "execution_count": 7,
     "metadata": {},
     "output_type": "execute_result"
    }
   ],
   "source": [
    "def maxWidthRamp(A) -> int:\n",
    "    arr = sorted([(idx, val) for idx, val in enumerate(A)], key=lambda x: x[1])\n",
    "    res, min_idx = -0x80000000, 0x7FFFFFFF\n",
    "\n",
    "    for idx, _ in arr:\n",
    "        min_idx = min(min_idx, idx)\n",
    "        res = max(res, idx-min_idx)\n",
    "\n",
    "    return res\n",
    "\n",
    "\n",
    "maxWidthRamp([0, 1])"
   ]
  },
  {
   "cell_type": "markdown",
   "metadata": {},
   "source": [
    "[Max Consecutive Ones](https://leetcode.com/problems/max-consecutive-ones/)。给一$01$数组，求连续$1$的最大长度。\n",
    "\n",
    "思路：双指针移动即可。"
   ]
  },
  {
   "cell_type": "code",
   "execution_count": null,
   "metadata": {},
   "outputs": [],
   "source": [
    "def findMaxConsecutiveOnes(self, nums: List[int]) -> int:\n",
    "    res = 0\n",
    "    start = 0\n",
    "    n = len(nums)\n",
    "\n",
    "    while start < n:\n",
    "        while start < n and nums[start] == 0:\n",
    "            start += 1\n",
    "\n",
    "        end = start\n",
    "        while end < n and nums[end] == 1:\n",
    "            end += 1\n",
    "\n",
    "        res = max(res, end-start)\n",
    "        start = end\n",
    "\n",
    "    return res"
   ]
  },
  {
   "cell_type": "markdown",
   "metadata": {},
   "source": [
    "[Maximize Distance to Closest Person](https://leetcode.com/problems/maximize-distance-to-closest-person/)。给一$01$数组表示座位，$0$表示空而$1$表示非空。现求一个距离最近的人最远的座位，返回最远的距离。令相邻距离为$1$。\n",
    "\n",
    "思路：在原数组中找连续的$0$序列，与相邻人最远的距离应该为$0$序列长度的一半。注意两个边界条件，当$0$序列处于开头或末尾时，可以选择边角座位，这时距离就为$0$序列的长度。"
   ]
  },
  {
   "cell_type": "code",
   "execution_count": null,
   "metadata": {},
   "outputs": [],
   "source": [
    "def maxDistToClosest(self, seats: List[int]) -> int:\n",
    "    max_zeros = -1\n",
    "    idx = 0\n",
    "    n = len(seats)\n",
    "    start = 0\n",
    "\n",
    "    while start < n:\n",
    "        while start < n and seats[start] == 1:\n",
    "            start += 1\n",
    "\n",
    "        end = start\n",
    "        while end < n and seats[end] == 0:\n",
    "            end += 1\n",
    "\n",
    "        cur_len = end-start if (start == 0 or end == n) else (end-start+1) >> 1\n",
    "        if cur_len > max_zeros:\n",
    "            max_zeros = cur_len\n",
    "            idx = start\n",
    "        start = end\n",
    "\n",
    "    return max_zeros"
   ]
  },
  {
   "cell_type": "markdown",
   "metadata": {},
   "source": [
    "## In-Place\n",
    "\n",
    "在涉及数组与字串的题目中，有一部分是不改变原数据的顺序并且要求in-place操作的，这种题目大都是需要利用已有数组的前一部分来充当新数组，并使用双指针的方法来模拟```append```操作。以下几个题都是例子。"
   ]
  },
  {
   "cell_type": "markdown",
   "metadata": {},
   "source": [
    "[String Compression](https://leetcode.com/problems/string-compression/)。给一字串，将其求地压缩，要求压缩后的字符串长度总是小于等于原字串。返回压缩后字串的截断位置。\n",
    "\n",
    "思路：基本的字串压缩方法就是把重复字符替换成数字。题目要求压缩字串长度总是小于等于原字串，说明只有重复次数大于$1$时才压缩。就地压缩的话需要维护三个指针，字符的起始指针和结束指针，还有一个写入指针。"
   ]
  },
  {
   "cell_type": "code",
   "execution_count": 10,
   "metadata": {},
   "outputs": [
    {
     "data": {
      "text/plain": [
       "['a', '2', 'b', '2', 'c', '3']"
      ]
     },
     "execution_count": 10,
     "metadata": {},
     "output_type": "execute_result"
    }
   ],
   "source": [
    "def compress(chars) -> int:\n",
    "    n = len(chars)\n",
    "    start = write = 0\n",
    "\n",
    "    while start < n:\n",
    "        end = start\n",
    "        while end < n and chars[end] == chars[start]:\n",
    "            end += 1\n",
    "        chars[write] = chars[start]\n",
    "        write += 1\n",
    "\n",
    "        if end > start+1:\n",
    "            for digit in str(end-start):\n",
    "                chars[write] = digit\n",
    "                write += 1\n",
    "\n",
    "        start = end\n",
    "\n",
    "    return write"
   ]
  },
  {
   "cell_type": "markdown",
   "metadata": {},
   "source": [
    "[Remove Duplicates from Sorted Array](https://leetcode.com/problems/remove-duplicates-from-sorted-array/)。给定一有序数组，就地删掉其中所有冗余的元素，返回非重复元素的个数。\n",
    "\n",
    "思路：因为是有序数组，所以新出现的非重复元素肯定大于已存在元素。维护一个```last```指针指示已存在的最后一个元素，当工作指针指向的数大于它时，进行覆盖追加。"
   ]
  },
  {
   "cell_type": "code",
   "execution_count": 22,
   "metadata": {},
   "outputs": [
    {
     "data": {
      "text/plain": [
       "2"
      ]
     },
     "execution_count": 22,
     "metadata": {},
     "output_type": "execute_result"
    }
   ],
   "source": [
    "def removeDuplicates(nums) -> int:\n",
    "    n = len(nums)\n",
    "    if n < 2:\n",
    "        return n\n",
    "\n",
    "    last, idx = 0, 1\n",
    "    while idx < n:\n",
    "        if nums[idx] > nums[last]:\n",
    "            last += 1\n",
    "            nums[last] = nums[idx]\n",
    "        idx += 1\n",
    "\n",
    "    return last+1"
   ]
  },
  {
   "cell_type": "markdown",
   "metadata": {},
   "source": [
    "[Remove Duplicates from Sorted Array II](https://leetcode.com/problems/remove-duplicates-from-sorted-array-ii/)。给定一有序数组，允许元素出现两次，就地删除冗余元素，返回删除后的数组长度。\n",
    "\n",
    "思路：相比于上题增加一种情况，若扫描指针的值不大于```last```指针但是允许重复，仍然要做覆盖替换。"
   ]
  },
  {
   "cell_type": "code",
   "execution_count": 29,
   "metadata": {},
   "outputs": [
    {
     "data": {
      "text/plain": [
       "5"
      ]
     },
     "execution_count": 29,
     "metadata": {},
     "output_type": "execute_result"
    }
   ],
   "source": [
    "def removeDuplicates(nums) -> int:\n",
    "    n = len(nums)\n",
    "    if n < 2:\n",
    "        return n\n",
    "\n",
    "    last, idx = 0, 1\n",
    "    tol = 1\n",
    "    while idx < n:\n",
    "        if nums[idx] > nums[last]:\n",
    "            last += 1\n",
    "            nums[last] = nums[idx]\n",
    "            tol = 1\n",
    "        else:\n",
    "            if tol == 1:\n",
    "                last += 1\n",
    "                nums[last] = nums[idx]\n",
    "                tol -= 1\n",
    "\n",
    "        idx += 1\n",
    "\n",
    "    return last+1"
   ]
  },
  {
   "cell_type": "markdown",
   "metadata": {},
   "source": [
    "[Remove Element](https://leetcode.com/problems/remove-element/)。就地删除数组中的所有指定元素，返回删除后的数组长度。\n",
    "\n",
    "思路：双指针。"
   ]
  },
  {
   "cell_type": "code",
   "execution_count": 30,
   "metadata": {},
   "outputs": [
    {
     "data": {
      "text/plain": [
       "2"
      ]
     },
     "execution_count": 30,
     "metadata": {},
     "output_type": "execute_result"
    }
   ],
   "source": [
    "def removeElement(nums, val: int) -> int:\n",
    "    last = 0\n",
    "    n = len(nums)\n",
    "\n",
    "    for idx in range(n):\n",
    "        if nums[idx] != val:\n",
    "            nums[last] = nums[idx]\n",
    "            last += 1\n",
    "\n",
    "    return last"
   ]
  },
  {
   "cell_type": "code",
   "execution_count": null,
   "metadata": {},
   "outputs": [],
   "source": []
  }
 ],
 "metadata": {
  "hide_input": false,
  "kernelspec": {
   "display_name": "Python 3",
   "language": "python",
   "name": "python3"
  },
  "language_info": {
   "codemirror_mode": {
    "name": "ipython",
    "version": 3
   },
   "file_extension": ".py",
   "mimetype": "text/x-python",
   "name": "python",
   "nbconvert_exporter": "python",
   "pygments_lexer": "ipython3",
   "version": "3.7.4"
  },
  "toc": {
   "base_numbering": 1,
   "nav_menu": {},
   "number_sections": true,
   "sideBar": true,
   "skip_h1_title": false,
   "title_cell": "Table of Contents",
   "title_sidebar": "Contents",
   "toc_cell": false,
   "toc_position": {},
   "toc_section_display": true,
   "toc_window_display": false
  }
 },
 "nbformat": 4,
 "nbformat_minor": 2
}
