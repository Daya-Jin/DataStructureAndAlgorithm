{
 "cells": [
  {
   "cell_type": "code",
   "execution_count": 1,
   "metadata": {},
   "outputs": [],
   "source": [
    "class ListNode:\n",
    "    def __init__(self, x):\n",
    "        self.val = x\n",
    "        self.next = None"
   ]
  },
  {
   "cell_type": "markdown",
   "metadata": {},
   "source": [
    "[Delete Node in a Linked List](https://leetcode.com/problems/delete-node-in-a-linked-list/)。只给出待删除节点的指针，保证该节点不是尾节点，在链表中删除该节点。\n",
    "\n",
    "思路：一般删除链表节点需要pre指针，该题保证不是尾节点，那么可以使用覆盖的方式来实现等效删除。"
   ]
  },
  {
   "cell_type": "code",
   "execution_count": 2,
   "metadata": {},
   "outputs": [],
   "source": [
    "def deleteNode(node):\n",
    "    node.val = node.next.val\n",
    "    node.next = node.next.next"
   ]
  },
  {
   "cell_type": "markdown",
   "metadata": {},
   "source": [
    "[Remove Duplicates from Sorted List](https://leetcode.com/problems/remove-duplicates-from-sorted-list/)。删除有序链表中冗余的节点。\n",
    "\n",
    "思路：判断下一个节点值是否等于当前节点，等于则删除，不等则下一个。"
   ]
  },
  {
   "cell_type": "code",
   "execution_count": null,
   "metadata": {},
   "outputs": [],
   "source": [
    "def deleteDuplicates(head: ListNode) -> ListNode:\n",
    "    if not head:\n",
    "        return head\n",
    "\n",
    "    idx = head\n",
    "    while idx.next:\n",
    "        if idx.next.val == idx.val:\n",
    "            idx.next = idx.next.next\n",
    "        else:\n",
    "            idx = idx.next\n",
    "\n",
    "    return head"
   ]
  },
  {
   "cell_type": "markdown",
   "metadata": {},
   "source": [
    "[Remove Duplicates from Sorted List II](https://leetcode.com/problems/remove-duplicates-from-sorted-list-ii/)。删除有序链表中所有的重复节点。\n",
    "\n",
    "思路：维护双指针，pre指向最后一个非重复节点，last指向最后一个重复节点。初始状态pre指向哑节点，那么每次都需要从```last=pre.next```开始寻找重复节点。若```last!=pre.next```则说明last有移动，即有重复节点，删除即可。"
   ]
  },
  {
   "cell_type": "code",
   "execution_count": null,
   "metadata": {},
   "outputs": [],
   "source": [
    "def deleteDuplicates(head: ListNode) -> ListNode:\n",
    "    if not head or not head.next:\n",
    "        return head\n",
    "\n",
    "    dummy = ListNode(None)\n",
    "    dummy.next = head\n",
    "    pre = dummy\n",
    "\n",
    "    while pre.next:\n",
    "        last = pre.next\n",
    "        while last.next and last.next.val == last.val:\n",
    "            last = last.next\n",
    "        if pre.next != last:\n",
    "            pre.next = last.next\n",
    "        else:\n",
    "            pre = pre.next\n",
    "\n",
    "    return dummy.next"
   ]
  },
  {
   "cell_type": "markdown",
   "metadata": {},
   "source": [
    "[Reverse Linked List](https://leetcode.com/problems/reverse-linked-list/)。反转链表。\n",
    "\n",
    "思路：个人认为最通用的反转链表方法如下。假如现在有一链表：\n",
    "$$\n",
    "1\\to{2}\\to{3}\\to{4}\n",
    "$$\n",
    "需要把该状态转变成如下状态：\n",
    "$$\n",
    "1\\rightleftharpoons{2}\\gets{3}\\gets{4}\n",
    "$$\n",
    "使用```left```跟```right```指示每次反转的节点对，首先要保存的是```right```的后继```post```，然后倒置```left```与```right```的指针，接着双指针后移即可。"
   ]
  },
  {
   "cell_type": "code",
   "execution_count": 4,
   "metadata": {},
   "outputs": [],
   "source": [
    "def reverseList(head: ListNode) -> ListNode:\n",
    "    if not head or not head.next:\n",
    "        return head\n",
    "\n",
    "    left = head\n",
    "    right = left.next\n",
    "    while right:\n",
    "        post = right.next    # 1. 保存后继\n",
    "\n",
    "        right.next = left    # 2. 倒置指针\n",
    "\n",
    "        left = right    # 双指针后移\n",
    "        right = post\n",
    "\n",
    "    head.next = right\n",
    "    return left"
   ]
  },
  {
   "cell_type": "markdown",
   "metadata": {},
   "source": [
    "[Palindrome Linked List](https://leetcode.com/problems/palindrome-linked-list/)。判断单链表是否对称。\n",
    "\n",
    "思路：首先使用快慢指针找到单链表的中点，然后断链，反转某一半链表，再逐一比较即可。"
   ]
  },
  {
   "cell_type": "code",
   "execution_count": null,
   "metadata": {},
   "outputs": [],
   "source": [
    "def isPalindrome(head: ListNode) -> bool:\n",
    "    if not head or not head.next:\n",
    "        return True\n",
    "\n",
    "    slow = fast = head\n",
    "    while fast and fast.next and fast.next.next:\n",
    "        slow = slow.next\n",
    "        fast = fast.next.next\n",
    "\n",
    "    head_2 = slow.next\n",
    "    slow.next = None\n",
    "\n",
    "    def reverse_ll(head):\n",
    "        if not head or not head.next:\n",
    "            return head\n",
    "\n",
    "        left, right = head, head.next\n",
    "        while right:\n",
    "            post = right.next\n",
    "            right.next = left\n",
    "            left = right\n",
    "            right = post\n",
    "        head.next = right\n",
    "        return left\n",
    "    head_2 = reverse_ll(head_2)\n",
    "\n",
    "    while head and head_2:\n",
    "        if head.val != head_2.val:\n",
    "            return False\n",
    "        head = head.next\n",
    "        head_2 = head_2.next\n",
    "\n",
    "    return True"
   ]
  },
  {
   "cell_type": "markdown",
   "metadata": {},
   "source": [
    "[Reverse Linked List II](https://leetcode.com/problems/reverse-linked-list-ii/)。给一个区间$[m,n]$，将该区间的链表节点做反转。\n",
    "\n",
    "思路：首先定位到需要反转的起点位置，然后对该部分做$n-m-1$次反转。"
   ]
  },
  {
   "cell_type": "code",
   "execution_count": 6,
   "metadata": {},
   "outputs": [
    {
     "data": {
      "text/plain": [
       "<__main__.ListNode at 0x2c9912292e8>"
      ]
     },
     "execution_count": 6,
     "metadata": {},
     "output_type": "execute_result"
    }
   ],
   "source": [
    "def reverseBetween(head: ListNode, m: int, n: int) -> ListNode:\n",
    "    dummy = ListNode(None)\n",
    "    dummy.next = head\n",
    "    idx = dummy\n",
    "    for i in range(m-1):\n",
    "        idx = idx.next\n",
    "\n",
    "    pre = idx\n",
    "    raw_start = left = pre.next\n",
    "    right = left.next\n",
    "    for i in range(n-m-1):\n",
    "        post = right.next\n",
    "        right.next = left\n",
    "        left = right\n",
    "        right = post\n",
    "\n",
    "    raw_start.next = right\n",
    "    pre.next = left\n",
    "\n",
    "    return dummy.next"
   ]
  },
  {
   "cell_type": "markdown",
   "metadata": {},
   "source": [
    "[Remove Nth Node From End of List](https://leetcode.com/problems/remove-nth-node-from-end-of-list/)。删除链表倒数第$k$个节点。给定的$k$是合法的。\n",
    "\n",
    "思路：经典题，快慢双指针，快指针先走$k$步。"
   ]
  },
  {
   "cell_type": "code",
   "execution_count": null,
   "metadata": {},
   "outputs": [],
   "source": [
    "def removeNthFromEnd(head: ListNode, n: int) -> ListNode:\n",
    "    dummy = ListNode(None)\n",
    "    dummy.next = head\n",
    "\n",
    "    slow = fast = dummy\n",
    "    for _ in range(n):\n",
    "        fast = fast.next\n",
    "\n",
    "    while fast and fast.next:\n",
    "        slow = slow.next\n",
    "        fast = fast.next\n",
    "\n",
    "    slow.next = slow.next.next\n",
    "    return dummy.next"
   ]
  },
  {
   "cell_type": "markdown",
   "metadata": {},
   "source": [
    "[Linked List Cycle](https://leetcode.com/problems/linked-list-cycle/)。单链表判环。\n",
    "\n",
    "思路：快慢双指针，若有环，两指针必会相遇。"
   ]
  },
  {
   "cell_type": "code",
   "execution_count": null,
   "metadata": {},
   "outputs": [],
   "source": [
    "def hasCycle(head):\n",
    "    if not head or not head.next:\n",
    "        return False\n",
    "\n",
    "    slow = fast = head\n",
    "    while fast and fast.next:\n",
    "        slow = slow.next\n",
    "        fast = fast.next.next\n",
    "        if slow is fast:\n",
    "            return True\n",
    "\n",
    "    return False"
   ]
  },
  {
   "cell_type": "markdown",
   "metadata": {},
   "source": [
    "[Linked List Cycle II](https://leetcode.com/problems/linked-list-cycle-ii/)。单链表判环，还需要找出环的入口。\n",
    "\n",
    "思路：经典题。第一步判环，设立快慢双指针，若有环则两指针必会相遇。第二步找到环的入口，快慢指针相遇时，相遇点与头结点距环入口的距离是相等的，在头结点与相遇点出分别设立指针移动即可。"
   ]
  },
  {
   "cell_type": "code",
   "execution_count": null,
   "metadata": {},
   "outputs": [],
   "source": [
    "def detectCycle(head):\n",
    "    if not head or not head.next:\n",
    "        return None\n",
    "\n",
    "    slow = fast = head\n",
    "    while fast and fast.next:\n",
    "        slow = slow.next\n",
    "        fast = fast.next.next\n",
    "\n",
    "        if slow is fast:\n",
    "            slow = head\n",
    "            while slow is not fast:\n",
    "                slow = slow.next\n",
    "                fast = fast.next\n",
    "            return slow\n",
    "\n",
    "    return None"
   ]
  },
  {
   "cell_type": "markdown",
   "metadata": {},
   "source": [
    "[Intersection of Two Linked Lists](https://leetcode.com/problems/intersection-of-two-linked-lists/)。求两单链表的交点。\n",
    "\n",
    "思路：解法比较巧妙。从两链表的头结点处分别设立两个指针线性扫描，关键在于扫描完之后，A链表上的指针转移到B的头结点，B链表上的指针转移到A的头结点。这样一来，若有交点，两指针必会在交点处相遇；若无交点，两指针也会同时指向空。"
   ]
  },
  {
   "cell_type": "code",
   "execution_count": null,
   "metadata": {},
   "outputs": [],
   "source": [
    "def getIntersectionNode(headA, headB):\n",
    "    A, B = headA, headB\n",
    "    while A is not B:\n",
    "        A = A.next if A else headB\n",
    "        B = B.next if B else headA\n",
    "\n",
    "    return A"
   ]
  },
  {
   "cell_type": "markdown",
   "metadata": {},
   "source": [
    "[Odd Even Linked List](https://leetcode.com/problems/odd-even-linked-list/)。给一单链表，令索引从$1$开始，将链表中所有奇数索引的节点都移动到偶数索引节点的前面。\n",
    "\n",
    "思路：$2-pass$。$1st-pass$按索引将链表拆分成两个链表，$2nd-pass$找到奇链表的尾节点，然后将偶链表接到奇链表后面。"
   ]
  },
  {
   "cell_type": "code",
   "execution_count": null,
   "metadata": {},
   "outputs": [],
   "source": [
    "def oddEvenList(head: ListNode) -> ListNode:\n",
    "    if not head or not head.next:\n",
    "        return head\n",
    "\n",
    "    # 1st-pass\n",
    "    even_head = head.next\n",
    "    idx = head\n",
    "    while idx.next:\n",
    "        tmp = idx.next\n",
    "        idx.next = idx.next.next\n",
    "        idx = tmp\n",
    "\n",
    "    # 2nd-pass\n",
    "    idx = head\n",
    "    while idx.next:\n",
    "        idx = idx.next\n",
    "    idx.next = even_head\n",
    "\n",
    "    return head"
   ]
  },
  {
   "cell_type": "markdown",
   "metadata": {},
   "source": [
    "[Copy List with Random Pointer](https://leetcode.com/problems/copy-list-with-random-pointer/)。复杂链表的复制。假设一个简单单链表，给每个节点再增加一个随机指针，其指向链表中的随机节点。复制这个特殊链表。\n",
    "\n",
    "思路：$3-pass$。$1st-pass$复制节点的值，每一个复制节点跟在原节点后面；$2nd-pass$，复制原节点的随机指针；$3rd-pass$，将链表拆成两条。"
   ]
  },
  {
   "cell_type": "code",
   "execution_count": 1,
   "metadata": {},
   "outputs": [],
   "source": [
    "class Node:\n",
    "    def __init__(self, val, next, random):\n",
    "        self.val = val\n",
    "        self.next = next\n",
    "        self.random = random\n",
    "\n",
    "\n",
    "def copyRandomList(head: 'Node') -> 'Node':\n",
    "    if not head:\n",
    "        return None\n",
    "\n",
    "    # 1st-pass\n",
    "    org_node = head\n",
    "    while org_node:\n",
    "        copy_node = Node(org_node.val)\n",
    "        copy_node.next = org_node.next\n",
    "        org_node.next = copy_node\n",
    "        org_node = copy_node.next\n",
    "\n",
    "    # 2nd-pass\n",
    "    org_node = head\n",
    "    while org_node:\n",
    "        copy_node = org_node.next\n",
    "        if org_node.random:\n",
    "            copy_node.random = org_node.random.next\n",
    "        org_node = copy_node.next\n",
    "\n",
    "    # 3rd-pass\n",
    "    copy_head = head.next\n",
    "    idx = head\n",
    "    while idx.next:\n",
    "        tmp = idx.next\n",
    "        idx.next = idx.next.next\n",
    "        idx = tmp\n",
    "\n",
    "    return copy_head"
   ]
  },
  {
   "cell_type": "markdown",
   "metadata": {},
   "source": [
    "[Add Two Numbers](https://leetcode.com/problems/add-two-numbers/)。给两单链表，分别表示两个数字的逆序表示，每个节点表示一位。对该两链表求和。\n",
    "\n",
    "思路：逐节点相加产生新节点即可。"
   ]
  },
  {
   "cell_type": "code",
   "execution_count": null,
   "metadata": {},
   "outputs": [],
   "source": [
    "def addTwoNumbers(l1: ListNode, l2: ListNode) -> ListNode:\n",
    "    dummy = ListNode(None)\n",
    "    idx = dummy\n",
    "    carry = 0\n",
    "\n",
    "    while l1 or l2:\n",
    "        if l1:\n",
    "            carry += l1.val\n",
    "            l1 = l1.next\n",
    "        if l2:\n",
    "            carry += l2.val\n",
    "            l2 = l2.next\n",
    "\n",
    "        idx.next = ListNode(carry % 10)\n",
    "        idx = idx.next\n",
    "        carry = carry//10\n",
    "\n",
    "    if carry > 0:\n",
    "        node = ListNode(carry % 10)\n",
    "        idx.next = node\n",
    "\n",
    "    return dummy.next"
   ]
  },
  {
   "cell_type": "markdown",
   "metadata": {},
   "source": [
    "[Merge Two Sorted Lists](https://leetcode.com/problems/merge-two-sorted-lists/)，2019作业帮手撕代码。合并两有序链表。\n",
    "\n",
    "思路：最简单的，新建链表。"
   ]
  },
  {
   "cell_type": "code",
   "execution_count": null,
   "metadata": {},
   "outputs": [],
   "source": [
    "def mergeTwoLists(l1: ListNode, l2: ListNode) -> ListNode:\n",
    "    dummy = ListNode(None)\n",
    "    idx = dummy\n",
    "\n",
    "    while l1 and l2:\n",
    "        if l1.val < l2.val:\n",
    "            idx.next = ListNode(l1.val)\n",
    "            l1 = l1.next\n",
    "        else:\n",
    "            idx.next = ListNode(l2.val)\n",
    "            l2 = l2.next\n",
    "        idx = idx.next\n",
    "\n",
    "    while l1:\n",
    "        idx.next = ListNode(l1.val)\n",
    "        l1 = l1.next\n",
    "        idx = idx.next\n",
    "    while l2:\n",
    "        idx.next = ListNode(l2.val)\n",
    "        idx = idx.next\n",
    "        l2 = l2.next\n",
    "\n",
    "    return dummy.next"
   ]
  }
 ],
 "metadata": {
  "hide_input": false,
  "kernelspec": {
   "display_name": "Python 3",
   "language": "python",
   "name": "python3"
  },
  "language_info": {
   "codemirror_mode": {
    "name": "ipython",
    "version": 3
   },
   "file_extension": ".py",
   "mimetype": "text/x-python",
   "name": "python",
   "nbconvert_exporter": "python",
   "pygments_lexer": "ipython3",
   "version": "3.7.4"
  },
  "toc": {
   "base_numbering": 1,
   "nav_menu": {},
   "number_sections": true,
   "sideBar": true,
   "skip_h1_title": false,
   "title_cell": "Table of Contents",
   "title_sidebar": "Contents",
   "toc_cell": false,
   "toc_position": {},
   "toc_section_display": true,
   "toc_window_display": false
  }
 },
 "nbformat": 4,
 "nbformat_minor": 2
}
