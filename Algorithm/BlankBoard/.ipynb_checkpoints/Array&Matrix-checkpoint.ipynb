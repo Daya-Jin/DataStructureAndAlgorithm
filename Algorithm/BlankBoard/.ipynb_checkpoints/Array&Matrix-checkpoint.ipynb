{
 "cells": [
  {
   "cell_type": "markdown",
   "metadata": {},
   "source": [
    "[Rotate Array](https://leetcode.com/problems/rotate-array/)。给一数组与一个$k$，对数组实现循环右移$k$位。\n",
    "\n",
    "思路：循环右移，那么以倒数第$k$个元素为分界线，分别反转前一部分与后一部分，然后反转整个数组。"
   ]
  },
  {
   "cell_type": "code",
   "execution_count": null,
   "metadata": {},
   "outputs": [],
   "source": [
    "def rotate(nums, k: int) -> None:\n",
    "    def reverse(start, end):\n",
    "        while start < end:\n",
    "            nums[start], nums[end] = nums[end], nums[start]\n",
    "            start += 1\n",
    "            end -= 1\n",
    "\n",
    "    n = len(nums)\n",
    "    k = k % n\n",
    "    reverse(0, n-k-1)\n",
    "    reverse(n-k, n-1)\n",
    "    reverse(0, n-1)"
   ]
  },
  {
   "cell_type": "markdown",
   "metadata": {},
   "source": [
    "[Delete Columns to Make Sorted](https://leetcode.com/problems/delete-columns-to-make-sorted/)。给若干个长度相等的字串，堆叠起来构成一个矩阵。问需要删掉几列才能满足每一列的字符顺序都是非降序的。\n",
    "\n",
    "思路：从左往右遍历以列的方式遍历每一列，当一列中出现降序字符顺序时，返回值$+1$。Python可以直接比较字符顺序。"
   ]
  },
  {
   "cell_type": "code",
   "execution_count": null,
   "metadata": {},
   "outputs": [],
   "source": [
    "def minDeletionSize(A: List[str]) -> int:\n",
    "    rows, cols = len(A), len(A[0])\n",
    "\n",
    "    res = 0\n",
    "    for col in range(cols):\n",
    "        for row in range(rows-1):\n",
    "            if A[row+1][col] < A[row][col]:\n",
    "                res += 1\n",
    "                break\n",
    "\n",
    "    return res"
   ]
  },
  {
   "cell_type": "markdown",
   "metadata": {},
   "source": [
    "[Rotate Image](https://leetcode.com/problems/rotate-image/)。给一矩阵，将其就地顺时针旋转$90$度。\n",
    "\n",
    "思路：首先把每一列都进行反转，然后按照主对角线做轴镜像反转。"
   ]
  },
  {
   "cell_type": "code",
   "execution_count": 3,
   "metadata": {},
   "outputs": [],
   "source": [
    "def rotate(matrix) -> None:\n",
    "    def reverse(start, end):\n",
    "        while start < end:\n",
    "            matrix[start], matrix[end] = matrix[end], matrix[start]\n",
    "            start += 1\n",
    "            end -= 1\n",
    "\n",
    "    rows, cols = len(matrix), len(matrix[0])\n",
    "    reverse(0, rows-1)\n",
    "\n",
    "    for row in range(rows):\n",
    "        for col in range(row):\n",
    "            matrix[row][col], matrix[col][row] = matrix[col][row], matrix[row][col]"
   ]
  },
  {
   "cell_type": "markdown",
   "metadata": {},
   "source": [
    "[Product of Array Except Self](https://leetcode.com/problems/product-of-array-except-self/)。给定一个已知数组$A=[a_{0},a_{1},...,a_{n-1}]$，求数组$B=[b_{0},b_{1},...,b_{n-1}]$，其中$b_{i}=a_{0}{\\times}...{\\times}a_{i-1}{\\times}a_{i+1}{\\times}...{\\times}a_{n-1}$，每一个位置等于$A$数组除去当前位置数字的累乘。\n",
    "\n",
    "思路：2-pass。1-pass从前往后，首先求出所有位置之前的累乘；2-pass从后往前，求出把所有位置之后的累乘乘到第一部分上。"
   ]
  },
  {
   "cell_type": "code",
   "execution_count": 8,
   "metadata": {},
   "outputs": [
    {
     "data": {
      "text/plain": [
       "[24, 12, 8, 6]"
      ]
     },
     "execution_count": 8,
     "metadata": {},
     "output_type": "execute_result"
    }
   ],
   "source": [
    "def productExceptSelf(nums):\n",
    "    n = len(nums)\n",
    "    prod = [1]*n\n",
    "\n",
    "    base = 1\n",
    "    for i in range(1, n):\n",
    "        base *= nums[i-1]\n",
    "        prod[i] *= base\n",
    "\n",
    "    base = 1\n",
    "    for i in range(n-2, -1, -1):\n",
    "        base *= nums[i+1]\n",
    "        prod[i] *= base\n",
    "\n",
    "    return prod"
   ]
  },
  {
   "cell_type": "markdown",
   "metadata": {},
   "source": [
    "[Range Sum Query - Immutable](https://leetcode.com/problems/range-sum-query-immutable/)。设计一个类，该类读入一个数组，可以随时检索范围$[i,j]$之间的数组和。\n",
    "\n",
    "思路：维护一个累计和数组```sum```，其中```sum[i]```表示$[0,i]$之间的数组和。为了覆盖到$i=0$的情况，在```num```数组前设一个$0$。"
   ]
  },
  {
   "cell_type": "code",
   "execution_count": 18,
   "metadata": {},
   "outputs": [],
   "source": [
    "class NumArray:\n",
    "    def __init__(self, nums):\n",
    "        n = len(nums)\n",
    "        self._sum = [0]*(n+1)\n",
    "        for i in range(1, n+1):\n",
    "            self._sum[i] = self._sum[i-1]+nums[i-1]\n",
    "\n",
    "    def sumRange(self, i: int, j: int) -> int:\n",
    "        return self._sum[j+1]-self._sum[i]"
   ]
  },
  {
   "cell_type": "markdown",
   "metadata": {},
   "source": [
    "[Range Sum Query - Mutable](https://leetcode.com/problems/range-sum-query-mutable/)。设计一个类，该类读入一个数组，可以随时检索范围$[i,j]$之间的数组和。该类还有一个```update(i,val)```函数用于修改数组。\n",
    "\n",
    "思路：超时。当更改数组中$i$位置的值时，会影响到$i$及其之后位置的累加和。每次修改需要更新```sum```数组$i$之后的值。"
   ]
  },
  {
   "cell_type": "code",
   "execution_count": 26,
   "metadata": {},
   "outputs": [
    {
     "data": {
      "text/plain": [
       "6"
      ]
     },
     "execution_count": 26,
     "metadata": {},
     "output_type": "execute_result"
    }
   ],
   "source": [
    "class NumArray:\n",
    "    def __init__(self, nums):\n",
    "        self._n = len(nums)\n",
    "        self._nums = nums\n",
    "        self._sum = [0]*(self._n+1)\n",
    "        for i in range(1, self._n+1):\n",
    "            self._sum[i] = self._sum[i-1]+nums[i-1]\n",
    "\n",
    "    def update(self, i: int, val: int) -> None:\n",
    "        diff = val-self._nums[i]\n",
    "        self._nums[i] = val\n",
    "        for idx in range(i+1, self._n+1):\n",
    "            self._sum[idx] += diff\n",
    "\n",
    "    def sumRange(self, i: int, j: int) -> int:\n",
    "        return self._sum[j+1]-self._sum[i]"
   ]
  },
  {
   "cell_type": "markdown",
   "metadata": {},
   "source": [
    "[Range Sum Query 2D - Immutable](https://leetcode.com/problems/range-sum-query-2d-immutable/)。设计一个类，该类读入一整形数组，可以随时检索某一区域内的累加和。区域有左上角与右下角定位。\n",
    "\n",
    "思路：维护一个累加和矩阵```sum```，其中```sum[i][j]```表示从$(0,0)$到$(i,j)$的区域和。"
   ]
  },
  {
   "cell_type": "code",
   "execution_count": 29,
   "metadata": {},
   "outputs": [
    {
     "data": {
      "text/plain": [
       "8"
      ]
     },
     "execution_count": 29,
     "metadata": {},
     "output_type": "execute_result"
    }
   ],
   "source": [
    "class NumMatrix:\n",
    "    def __init__(self, matrix):\n",
    "        if not matrix or not matrix[0]:\n",
    "            return\n",
    "\n",
    "        rows, cols = len(matrix), len(matrix[0])\n",
    "        self._sum = [[0]*(cols+1) for _ in range(rows+1)]\n",
    "        for row in range(1, rows+1):\n",
    "            for col in range(1, cols+1):\n",
    "                self._sum[row][col] = self._sum[row - 1][col] + self._sum[row][col-1] \\\n",
    "                    - self._sum[row - 1][col-1] + matrix[row-1][col-1]\n",
    "\n",
    "    def sumRegion(self, row1: int, col1: int, row2: int, col2: int) -> int:\n",
    "        return self._sum[row2+1][col2+1]-self._sum[row2+1][col1]-self._sum[row1][col2+1] \\\n",
    "            + self._sum[row1][col1]"
   ]
  },
  {
   "cell_type": "markdown",
   "metadata": {},
   "source": [
    "[Majority Element](https://leetcode.com/problems/majority-element/)。数组中出现次数超过数组长度一半的元素称为主元素，给一存在主元素的数组，找出主元素。\n",
    "\n",
    "思路：线性扫描数组，维护一个备选主元素与一个计数值。当扫描值等于备选时，计数值$+1$，否则$-1$。计数值为$0$时注意更新备选。"
   ]
  },
  {
   "cell_type": "code",
   "execution_count": 32,
   "metadata": {},
   "outputs": [
    {
     "data": {
      "text/plain": [
       "3"
      ]
     },
     "execution_count": 32,
     "metadata": {},
     "output_type": "execute_result"
    }
   ],
   "source": [
    "def majorityElement(nums) -> int:\n",
    "    res = None\n",
    "    cnt = 0\n",
    "\n",
    "    for num in nums:\n",
    "        if num == res:\n",
    "            cnt += 1\n",
    "        else:\n",
    "            if cnt == 0:\n",
    "                res = num\n",
    "                cnt += 1\n",
    "            else:\n",
    "                cnt -= 1\n",
    "\n",
    "    return res"
   ]
  },
  {
   "cell_type": "markdown",
   "metadata": {},
   "source": [
    "[Majority Element II](https://leetcode.com/problems/majority-element-ii/)。给一数组，找出其中出现次数超过数组长度$1/3$的值。\n",
    "\n",
    "思路：出现次数超过$n/3$的元素至多有两个。可以维护两个备选，同样使用计数的方法，1-pass可以得到两个备选；然后再进行2-pass，筛出出现次数超过$n/3$的元素。"
   ]
  },
  {
   "cell_type": "code",
   "execution_count": 34,
   "metadata": {},
   "outputs": [],
   "source": [
    "def majorityElement(nums):\n",
    "    # 1-pass\n",
    "    major_1 = major_2 = None\n",
    "    cnt_1 = cnt_2 = 0\n",
    "    for num in nums:\n",
    "        if num == major_1:\n",
    "            cnt_1 += 1\n",
    "        elif num == major_2:\n",
    "            cnt_2 += 1\n",
    "        else:\n",
    "            if cnt_1 == 0:\n",
    "                major_1 = num\n",
    "                cnt_1 += 1\n",
    "            elif cnt_2 == 0:\n",
    "                major_2 = num\n",
    "                cnt_2 += 1\n",
    "            else:\n",
    "                cnt_1 -= 1\n",
    "                cnt_2 -= 1\n",
    "\n",
    "    # 2-pass\n",
    "    cnt_1 = cnt_2 = 0\n",
    "    for num in nums:\n",
    "        if num == major_1:\n",
    "            cnt_1 += 1\n",
    "        elif num == major_2:\n",
    "            cnt_2 += 1\n",
    "        else:\n",
    "            continue\n",
    "\n",
    "    res = list()\n",
    "    thresh = len(nums)//3\n",
    "    if cnt_1 > thresh:\n",
    "        res.append(major_1)\n",
    "    if cnt_2 > thresh:\n",
    "        res.append(major_2)\n",
    "\n",
    "    return res"
   ]
  },
  {
   "cell_type": "markdown",
   "metadata": {},
   "source": [
    "[Find the Town Judge](https://leetcode.com/problems/find-the-town-judge/)。"
   ]
  }
 ],
 "metadata": {
  "hide_input": false,
  "kernelspec": {
   "display_name": "Python 3",
   "language": "python",
   "name": "python3"
  },
  "language_info": {
   "codemirror_mode": {
    "name": "ipython",
    "version": 3
   },
   "file_extension": ".py",
   "mimetype": "text/x-python",
   "name": "python",
   "nbconvert_exporter": "python",
   "pygments_lexer": "ipython3",
   "version": "3.6.6"
  },
  "toc": {
   "base_numbering": 1,
   "nav_menu": {},
   "number_sections": true,
   "sideBar": true,
   "skip_h1_title": false,
   "title_cell": "Table of Contents",
   "title_sidebar": "Contents",
   "toc_cell": false,
   "toc_position": {},
   "toc_section_display": true,
   "toc_window_display": false
  }
 },
 "nbformat": 4,
 "nbformat_minor": 2
}
