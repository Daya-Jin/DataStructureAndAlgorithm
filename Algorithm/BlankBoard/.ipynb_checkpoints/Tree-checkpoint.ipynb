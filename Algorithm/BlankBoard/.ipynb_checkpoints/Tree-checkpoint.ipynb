{
 "cells": [
  {
   "cell_type": "code",
   "execution_count": null,
   "metadata": {},
   "outputs": [],
   "source": [
    "class TreeNode:\n",
    "    def __init__(self, x):\n",
    "        self.val = x\n",
    "        self.left = None\n",
    "        self.right = None"
   ]
  },
  {
   "cell_type": "markdown",
   "metadata": {},
   "source": [
    "[Binary Tree Inorder Traversal](https://leetcode.com/problems/binary-tree-inorder-traversal/)。二叉树中序遍历。\n",
    "\n",
    "思路：栈。首先走到树的最左端，然后开始弹栈并访问。为了避免重复访问，有必要区分开root和vis_node。"
   ]
  },
  {
   "cell_type": "code",
   "execution_count": null,
   "metadata": {},
   "outputs": [],
   "source": [
    "def inorderTraversal(root: TreeNode):\n",
    "    res = list()\n",
    "    if not root:\n",
    "        return res\n",
    "\n",
    "    s = list()\n",
    "    while root or s:\n",
    "        while root:\n",
    "            s.append(root)\n",
    "            root = root.left\n",
    "\n",
    "        vis_node = s.pop()\n",
    "        res.append(vis_node.val)\n",
    "\n",
    "        if vis_node.right:\n",
    "            root = vis_node.right\n",
    "\n",
    "    return res"
   ]
  },
  {
   "cell_type": "markdown",
   "metadata": {},
   "source": [
    "[Validate Binary Search Tree](https://leetcode.com/problems/validate-binary-search-tree/)。判断二叉搜索树的合法性，题目要求左分支要严格小于根节点，右分支要严格大于根节点。\n",
    "\n",
    "思路：据题意要求，中序遍历会得到一个严格递增的序列。"
   ]
  },
  {
   "cell_type": "code",
   "execution_count": null,
   "metadata": {},
   "outputs": [],
   "source": [
    "def isValidBST(root: TreeNode) -> bool:\n",
    "    s = list()\n",
    "    pre = -0x80000001    # 32位有符号数的最小值为0x80000000\n",
    "\n",
    "    while root or s:\n",
    "        while root:\n",
    "            s.append(root)\n",
    "            root = root.left\n",
    "\n",
    "        vis_node = s.pop()\n",
    "\n",
    "        if vis_node.val <= pre:\n",
    "            return False\n",
    "        else:\n",
    "            pre = vis_node.val\n",
    "\n",
    "        if vis_node.right:\n",
    "            root = vis_node.right\n",
    "\n",
    "    return True"
   ]
  },
  {
   "cell_type": "markdown",
   "metadata": {},
   "source": [
    "[Construct Binary Tree from Preorder and Postorder Traversal](https://leetcode.com/problems/construct-binary-tree-from-preorder-and-postorder-traversal/)。给一颗二叉树的先序遍历与后序遍历，重构这颗二叉树。\n",
    "\n",
    "思路："
   ]
  },
  {
   "cell_type": "code",
   "execution_count": null,
   "metadata": {},
   "outputs": [],
   "source": [
    "pass"
   ]
  },
  {
   "cell_type": "markdown",
   "metadata": {},
   "source": [
    "[Flatten Binary Tree to Linked List](https://leetcode.com/problems/flatten-binary-tree-to-linked-list/)。给一二叉树，将其转换成只具有右分支的单边二叉树，从而形成一个等效链表。节点之间的顺序由先序遍历确定。\n",
    "\n",
    "思路：首先肯定是要写一个先序遍历的，将每个点以先序遍历的顺序接到上一个点的```right```指针下即可。"
   ]
  },
  {
   "cell_type": "code",
   "execution_count": null,
   "metadata": {},
   "outputs": [],
   "source": [
    "def flatten(root: TreeNode) -> None:\n",
    "    if not root:\n",
    "        return root\n",
    "\n",
    "    dummy = pre = TreeNode(None)\n",
    "\n",
    "    s = [root]\n",
    "    while s:\n",
    "        vis_node = s.pop()\n",
    "\n",
    "        if vis_node.right:\n",
    "            s.append(vis_node.right)\n",
    "        if vis_node.left:\n",
    "            s.append(vis_node.left)\n",
    "\n",
    "        pre.right = vis_node\n",
    "        pre.left = None\n",
    "        pre = vis_node"
   ]
  }
 ],
 "metadata": {
  "hide_input": false,
  "kernelspec": {
   "display_name": "Python 3",
   "language": "python",
   "name": "python3"
  },
  "language_info": {
   "codemirror_mode": {
    "name": "ipython",
    "version": 3
   },
   "file_extension": ".py",
   "mimetype": "text/x-python",
   "name": "python",
   "nbconvert_exporter": "python",
   "pygments_lexer": "ipython3",
   "version": "3.7.4"
  },
  "toc": {
   "base_numbering": 1,
   "nav_menu": {},
   "number_sections": true,
   "sideBar": true,
   "skip_h1_title": false,
   "title_cell": "Table of Contents",
   "title_sidebar": "Contents",
   "toc_cell": false,
   "toc_position": {},
   "toc_section_display": true,
   "toc_window_display": false
  }
 },
 "nbformat": 4,
 "nbformat_minor": 2
}
