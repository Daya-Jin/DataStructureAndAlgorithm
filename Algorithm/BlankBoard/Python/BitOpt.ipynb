{
 "cells": [
  {
   "cell_type": "markdown",
   "metadata": {},
   "source": [
    "[Number of 1 Bits](https://leetcode.com/problems/number-of-1-bits/)。 求一个无符号数的二进制表示中有多少个'1'。\n",
    "\n",
    "思路：按位与。"
   ]
  },
  {
   "cell_type": "code",
   "execution_count": 3,
   "metadata": {},
   "outputs": [
    {
     "data": {
      "text/plain": [
       "2"
      ]
     },
     "execution_count": 3,
     "metadata": {},
     "output_type": "execute_result"
    }
   ],
   "source": [
    "def hammingWeight(n):\n",
    "    res = 0\n",
    "    for _ in range(32):\n",
    "        res += n & 1\n",
    "        n >>= 1\n",
    "    return res"
   ]
  },
  {
   "cell_type": "markdown",
   "metadata": {},
   "source": [
    "[Counting Bits](https://leetcode.com/problems/counting-bits/)。给一个数$num$，求$[0,num]$里所有数的二进制形式中$1$的个数。\n",
    "\n",
    "思路：可使用动态规划+位操作来实现，如果一个数```num```的二进制最低位为1，则$1$的个数为```dp[num>>1]+1```，否则就为```dp[num>>1]```。"
   ]
  },
  {
   "cell_type": "code",
   "execution_count": null,
   "metadata": {},
   "outputs": [],
   "source": [
    "def countBits(n):\n",
    "    dp = [0]*(n+1)\n",
    "    dp[1] = 1\n",
    "\n",
    "    for i in range(2, n+1):\n",
    "        if i & 1:\n",
    "            dp[i] = dp[i >> 1]+1\n",
    "        else:\n",
    "            dp[i] = dp[i >> 1]\n",
    "\n",
    "    return sum(dp)"
   ]
  },
  {
   "cell_type": "markdown",
   "metadata": {},
   "source": [
    "[Reverse Bits](https://leetcode.com/problems/reverse-bits/)。 一个无符号32位整形，输出其二进制码翻转后对应的数字。\n",
    "\n",
    "思路：设一个返回值res，每次将原数字的最后一位加到res上，然后res左移，原数字右移。难点在于res要先左移再加上尾数。"
   ]
  },
  {
   "cell_type": "code",
   "execution_count": null,
   "metadata": {},
   "outputs": [],
   "source": [
    "def reverseBits(n):\n",
    "    res = 0\n",
    "    for _ in range(32):\n",
    "        res <<= 1    # 左移之后再加尾数\n",
    "        res += n & 1\n",
    "        n >>= 1\n",
    "    return res"
   ]
  },
  {
   "cell_type": "markdown",
   "metadata": {},
   "source": [
    "[Subsets](https://leetcode.com/problems/subsets/)。给定一数组，要求返回所有可能的子集。\n",
    "\n",
    "思路：假设数组中有$n$个元素，那么每个元素都有两个状态，选或不选。所有可能的状态加起来就构成了全组合。"
   ]
  },
  {
   "cell_type": "code",
   "execution_count": 7,
   "metadata": {},
   "outputs": [
    {
     "data": {
      "text/plain": [
       "[[], [1], [2], [1, 2]]"
      ]
     },
     "execution_count": 7,
     "metadata": {},
     "output_type": "execute_result"
    }
   ],
   "source": [
    "def subsets(nums):\n",
    "    n = len(nums)\n",
    "    possibility = 1 << n\n",
    "    res = list()\n",
    "\n",
    "    for state in range(possibility):\n",
    "        cur_res = [nums[i] for i in range(n) if (state >> i) & 1]\n",
    "        res.append(cur_res)\n",
    "\n",
    "    return res"
   ]
  },
  {
   "cell_type": "markdown",
   "metadata": {},
   "source": [
    "[Single Number](https://leetcode.com/problems/single-number/)。 非空数组，其中只有一个数字出现单次，其他数字都出现了两次，找出这个单个数字。\n",
    "\n",
    "思路：异或"
   ]
  },
  {
   "cell_type": "code",
   "execution_count": null,
   "metadata": {},
   "outputs": [],
   "source": [
    "def singleNumber(nums) -> int:\n",
    "    res = 0\n",
    "    for num in nums:\n",
    "        res ^= num\n",
    "\n",
    "    return res"
   ]
  },
  {
   "cell_type": "markdown",
   "metadata": {},
   "source": [
    "[Missing Number](https://leetcode.com/problems/missing-number/)。在$[0,n]$内取出$n$个不重复的自然数，求没有取到的那个数。\n",
    "\n",
    "思路：$n$个数的数组索引为$[0,n-1]$，假设没取到的数字是$i$，那么把数组中的所有数字与索引进行异或，得到的结果是$i\\oplus{n}$。因为在数字中，$i$是缺失的，所以索引中的$i$没有被抵消；而在索引中不存在$n$，所以数字中的$n$也没有被抵消。假设$n$个数中恰好取了$[0,n-1]$，那么异或结果是0."
   ]
  },
  {
   "cell_type": "code",
   "execution_count": null,
   "metadata": {},
   "outputs": [],
   "source": [
    "def missingNumber(nums) -> int:\n",
    "    res = 0\n",
    "    n = len(nums)\n",
    "    for idx, num in enumerate(nums):\n",
    "        res ^= idx ^ num\n",
    "    return res ^ n"
   ]
  },
  {
   "cell_type": "markdown",
   "metadata": {},
   "source": [
    "[Single Number II](https://leetcode.com/problems/single-number-ii/)。给一非空数组，其中只有一个数字$x$只出现了$1$次，其他数字都出现了$3$次，求$x$。\n",
    "\n",
    "思路：对所有数字按位处理，若所有数字在某位上的和是$3$的倍数，则说明$x$在该位上是$0$，否则为$1$。注意符号位即可。"
   ]
  },
  {
   "cell_type": "code",
   "execution_count": 1,
   "metadata": {},
   "outputs": [
    {
     "data": {
      "text/plain": [
       "3"
      ]
     },
     "execution_count": 1,
     "metadata": {},
     "output_type": "execute_result"
    }
   ],
   "source": [
    "def singleNumber(nums) -> int:\n",
    "    res = 0\n",
    "    sign = True\n",
    "\n",
    "    for i in range(32):\n",
    "        cnt = 0\n",
    "        for num in nums:\n",
    "            if (num >> i) & 1:\n",
    "                cnt += 1\n",
    "\n",
    "        if cnt % 3 != 0:\n",
    "            res += 2**i\n",
    "\n",
    "            if i == 31:\n",
    "                sign = False\n",
    "\n",
    "    return res if sign else res-2**32"
   ]
  },
  {
   "cell_type": "markdown",
   "metadata": {},
   "source": [
    "[Single Number III](https://leetcode.com/problems/single-number-iii/)。一数组中有两个数字只出现一次，其他数字均出现两次，找出这两个数字。\n",
    "\n",
    "思路：设该两个数字为$a$跟$b$，那么所有数字异或起来的结果实际等于$a$异或$b$，在这个结果中随便取一个值为$1$的位，以该位的取值可以将原数组分为两组。对两组数组各做异或，得到的结果就是两个数字。"
   ]
  },
  {
   "cell_type": "code",
   "execution_count": null,
   "metadata": {},
   "outputs": [],
   "source": [
    "def singleNumber(nums):\n",
    "    tmp = 0\n",
    "    for num in nums:\n",
    "        tmp ^= num\n",
    "\n",
    "    for offset in range(31):\n",
    "        if (tmp >> offset) & 1:\n",
    "            break\n",
    "\n",
    "    part_1 = [num for num in nums if (num >> offset) & 1]\n",
    "    part_2 = [num for num in nums if not (num >> offset) & 1]\n",
    "\n",
    "    a = b = 0\n",
    "    for num in part_1:\n",
    "        a ^= num\n",
    "    for num in part_2:\n",
    "        b ^= num\n",
    "\n",
    "    return a, b"
   ]
  },
  {
   "cell_type": "markdown",
   "metadata": {},
   "source": [
    "[Hamming Distance](https://leetcode.com/problems/hamming-distance/)。海明距离。\n",
    "\n",
    "思路：将两数异或就可求出哪些位不相等，再对异或结果中的$1$做统计即可。"
   ]
  },
  {
   "cell_type": "code",
   "execution_count": 2,
   "metadata": {},
   "outputs": [
    {
     "data": {
      "text/plain": [
       "2"
      ]
     },
     "execution_count": 2,
     "metadata": {},
     "output_type": "execute_result"
    }
   ],
   "source": [
    "def hammingDistance(x: int, y: int) -> int:\n",
    "    xor_res = x ^ y\n",
    "    res = 0\n",
    "\n",
    "    for i in range(32):\n",
    "        res += (xor_res >> i) & 1\n",
    "\n",
    "    return res"
   ]
  },
  {
   "cell_type": "markdown",
   "metadata": {},
   "source": [
    "[Flipping an Image](https://leetcode.com/problems/flipping-an-image/)。给一$01$矩阵，翻转该矩阵。首先对每一行做翻转，然后对所有元素取反。\n",
    "\n",
    "思路：对每一行做翻转可以使用swap的方式，取反可以与$1$异或。"
   ]
  },
  {
   "cell_type": "code",
   "execution_count": 7,
   "metadata": {},
   "outputs": [
    {
     "data": {
      "text/plain": [
       "[[1, 0, 0], [0, 1, 0], [1, 1, 1]]"
      ]
     },
     "execution_count": 7,
     "metadata": {},
     "output_type": "execute_result"
    }
   ],
   "source": [
    "def flipAndInvertImage(A):\n",
    "    cols = len(A[0])\n",
    "\n",
    "    for row in range(len(A)):\n",
    "        for col in range((cols+1)//2):\n",
    "            A[row][col], A[row][cols-col-1] = A[row][cols-col-1] ^ 1, A[row][col] ^ 1\n",
    "\n",
    "    return A"
   ]
  },
  {
   "cell_type": "markdown",
   "metadata": {},
   "source": [
    "不使用额外空间交换两变量的值。\n",
    "\n",
    "思路：首先将a,b的和覆盖掉a，然后用和减去b得到a的值，覆盖掉b，这样就把a的值转移给了b；然后再用和减去b，得到的实际上是b的值，用这个值覆盖掉a即可。"
   ]
  },
  {
   "cell_type": "code",
   "execution_count": 8,
   "metadata": {},
   "outputs": [],
   "source": [
    "def swap(a, b):\n",
    "    a = a+b    # 和\n",
    "    b = a-b    # 和-b得到a，覆盖掉b，此时b是a的值\n",
    "    a = a-b    # 和-b，相当于和-a，得到的是b的值，覆盖掉a\n",
    "    return a, b\n",
    "\n",
    "# 思路2：类似的，根据异或的性质，假设s为a,b的异或结果，有s^a=b，s^b=a\n",
    "# 有了这个性质，只要把上述代码中的符号变成异或即可达到同样的功能\n",
    "\n",
    "\n",
    "def swap(a, b):\n",
    "    a = a ^ b    # 异或和s\n",
    "    b = a ^ b    # s^b得到a，覆盖掉b，此时b是a的值\n",
    "    a = a ^ b    # s^b，相当于s^a，得到的是b的值，覆盖掉a\n",
    "    return a, b"
   ]
  },
  {
   "cell_type": "markdown",
   "metadata": {},
   "source": [
    "[Power of Two](https://leetcode.com/problems/power-of-two/)。判断$n$是否是$2$的幂级数。\n",
    "\n",
    "思路：$2$的幂级数，转化成二进制，其中数字位只有一个$1$，对$1$计数即可。"
   ]
  },
  {
   "cell_type": "code",
   "execution_count": null,
   "metadata": {},
   "outputs": [],
   "source": [
    "def isPowerOfTwo(n: int) -> bool:\n",
    "    res = 0\n",
    "    for i in range(31):\n",
    "        res += (n >> i) & 1\n",
    "\n",
    "    return res == 1 and n > 0"
   ]
  },
  {
   "cell_type": "markdown",
   "metadata": {},
   "source": [
    "[Power of Four](https://leetcode.com/problems/power-of-four/)。判断$n$是否是$4$的幂级数。\n",
    "\n",
    "思路：$4^{0}=2^{0}$，$4^{1}=2^{2}$，$4^{2}=2^{4}$。$4$的幂级数转化成二进制，其中数字位只有一个$1$，而且$1$是位于偶数位置上。"
   ]
  },
  {
   "cell_type": "code",
   "execution_count": null,
   "metadata": {},
   "outputs": [],
   "source": [
    "def isPowerOfFour(num: int) -> bool:\n",
    "    res = 0\n",
    "    for i in range(31):\n",
    "        flag = (num >> i) & 1\n",
    "        res += flag\n",
    "\n",
    "        if flag and i & 1:\n",
    "            return False\n",
    "\n",
    "    return res == 1 and num > 0"
   ]
  }
 ],
 "metadata": {
  "hide_input": false,
  "kernelspec": {
   "display_name": "Python 3",
   "language": "python",
   "name": "python3"
  },
  "language_info": {
   "codemirror_mode": {
    "name": "ipython",
    "version": 3
   },
   "file_extension": ".py",
   "mimetype": "text/x-python",
   "name": "python",
   "nbconvert_exporter": "python",
   "pygments_lexer": "ipython3",
   "version": "3.7.4"
  },
  "toc": {
   "base_numbering": 1,
   "nav_menu": {},
   "number_sections": true,
   "sideBar": true,
   "skip_h1_title": false,
   "title_cell": "Table of Contents",
   "title_sidebar": "Contents",
   "toc_cell": false,
   "toc_position": {},
   "toc_section_display": true,
   "toc_window_display": false
  }
 },
 "nbformat": 4,
 "nbformat_minor": 2
}
