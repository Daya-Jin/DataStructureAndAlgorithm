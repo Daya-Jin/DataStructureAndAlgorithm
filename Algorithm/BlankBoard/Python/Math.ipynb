{
 "cells": [
  {
   "cell_type": "markdown",
   "metadata": {},
   "source": [
    "[Excel Sheet Column Number](https://leetcode.com/problems/excel-sheet-column-number/)。在Excel中列号是以字母来表示的，给定一个字母表示的列号，求出其数字形式。A->1，b->2，...。\n",
    "\n",
    "思路：该题实质就是26进制转10进制。首先建立一个字母与数字的映射表，然后按照进制转换来做。"
   ]
  },
  {
   "cell_type": "code",
   "execution_count": 13,
   "metadata": {},
   "outputs": [
    {
     "data": {
      "text/plain": [
       "27"
      ]
     },
     "execution_count": 13,
     "metadata": {},
     "output_type": "execute_result"
    }
   ],
   "source": [
    "def titleToNumber(s: str) -> int:\n",
    "    ch2num = {chr(65+idx): idx+1 for idx in range(26)}    # ord('A')=65\n",
    "\n",
    "    n = len(s)\n",
    "    res = 0\n",
    "    for idx, ch in enumerate(s):\n",
    "        res += ch2num[ch]*(26**(n-idx-1))\n",
    "\n",
    "    return res"
   ]
  },
  {
   "cell_type": "markdown",
   "metadata": {},
   "source": [
    "[Permutations](https://leetcode.com/problems/permutations/)。全排列。\n",
    "\n",
    "思路：第一个答案肯定是原数组，对第一个答案的首元素进行循环交换得到第二组答案；再对所有答案的第二个元素进行循环交换；再对所有答案的第三个元素进行循环交换...。那么初始res是原数组，假设交换的左右指针分别为$i$和$j$，那么需要写三个循环，最外层循环遍历所有可能的$i$，第二个循环遍历已有的答案，第三个循环遍历所有可能的$j$。"
   ]
  },
  {
   "cell_type": "code",
   "execution_count": null,
   "metadata": {},
   "outputs": [],
   "source": [
    "def permute(nums):\n",
    "    if not nums:\n",
    "        return list()\n",
    "\n",
    "    def gen_swap(l, i, j):\n",
    "        tmp = l[:]\n",
    "        tmp[i], tmp[j] = tmp[j], tmp[i]\n",
    "        return tmp\n",
    "\n",
    "    n = len(nums)\n",
    "    res = [nums]\n",
    "    for swap_i in range(n-1):    # i指针只到倒数第二位\n",
    "        for ans in res[:]:\n",
    "            for swap_j in range(swap_i+1, n):\n",
    "                res.append(gen_swap(ans, swap_i, swap_j))\n",
    "\n",
    "    return res"
   ]
  },
  {
   "cell_type": "markdown",
   "metadata": {},
   "source": [
    "[Permutations II](https://leetcode.com/problems/permutations-ii/)。给一可能含有重复元素的数组，求全排列。\n",
    "\n",
    "思路：该题关键在与去重，暂时使用$tuple+set$的技巧来实现。"
   ]
  },
  {
   "cell_type": "code",
   "execution_count": 11,
   "metadata": {},
   "outputs": [
    {
     "data": {
      "text/plain": [
       "[(1, 2, 1), (2, 1, 1), (1, 1, 2)]"
      ]
     },
     "execution_count": 11,
     "metadata": {},
     "output_type": "execute_result"
    }
   ],
   "source": [
    "def permuteUnique(nums):\n",
    "    res = [tuple(nums)]\n",
    "    n = len(nums)\n",
    "\n",
    "    def swap(i, j, arr):\n",
    "        tmp = list(arr)\n",
    "        tmp[i], tmp[j] = tmp[j], tmp[i]\n",
    "        return tuple(tmp)\n",
    "\n",
    "    for i in range(n-1):\n",
    "        for ans in res[:]:\n",
    "            for j in range(i+1, n):\n",
    "                res.append(swap(i, j, ans))\n",
    "\n",
    "    return list(set(res))"
   ]
  },
  {
   "cell_type": "markdown",
   "metadata": {},
   "source": [
    "[Next Permutation](https://leetcode.com/problems/next-permutation/)。求下一个全排列。\n",
    "\n",
    "思路：数学题，思路须记住，不然做不出。\n",
    "- 由后往前扫描，找到首个pre<cur的一个cur位置；\n",
    "- 反转cur及其之后的部分；\n",
    "- 由cur开始往后扫描，找到首个idx>pre的位置，交换idx与pre。"
   ]
  },
  {
   "cell_type": "code",
   "execution_count": 17,
   "metadata": {},
   "outputs": [
    {
     "data": {
      "text/plain": [
       "[2, 1, 3]"
      ]
     },
     "execution_count": 17,
     "metadata": {},
     "output_type": "execute_result"
    }
   ],
   "source": [
    "def nextPermutation(nums) -> None:\n",
    "    n = len(nums)\n",
    "\n",
    "    # 1. 找到cur\n",
    "    for cur in range(n-1, -1, -1):    # 注意倒序遍历最终会遍历到0与-1\n",
    "        if nums[cur-1] < nums[cur]:\n",
    "            break\n",
    "\n",
    "    if cur == 0:\n",
    "        nums.sort()\n",
    "        return\n",
    "\n",
    "    # 2. 反转\n",
    "    def reverse(i, j):\n",
    "        while i < j:\n",
    "            nums[i], nums[j] = nums[j], nums[i]\n",
    "            i += 1\n",
    "            j -= 1\n",
    "    reverse(cur, n-1)\n",
    "\n",
    "    # 3. 找到idx>pre，然后交换\n",
    "    for idx in range(cur, n):\n",
    "        if nums[idx] > nums[cur-1]:\n",
    "            break\n",
    "\n",
    "    nums[idx], nums[cur-1] = nums[cur-1], nums[idx]\n",
    "    return"
   ]
  },
  {
   "cell_type": "markdown",
   "metadata": {},
   "source": [
    "[Permutation Sequence](https://leetcode.com/problems/permutation-sequence/)。给$[1,n]$个数字，其中$n<10$，求这$n$个数字从小到大的第$k$个排列。\n",
    "\n",
    "思路：使用[Next Permutation](https://leetcode.com/problems/next-permutation/)的方法是没有错的，但是会超时。"
   ]
  },
  {
   "cell_type": "code",
   "execution_count": 19,
   "metadata": {},
   "outputs": [
    {
     "data": {
      "text/plain": [
       "'792861534'"
      ]
     },
     "execution_count": 19,
     "metadata": {},
     "output_type": "execute_result"
    }
   ],
   "source": [
    "def getPermutation(n: int, k: int) -> str:\n",
    "    nums = list(range(1, n+1))\n",
    "\n",
    "    def reverse(i, j):\n",
    "        while i < j:\n",
    "            nums[i], nums[j] = nums[j], nums[i]\n",
    "            i += 1\n",
    "            j -= 1\n",
    "\n",
    "    for _ in range(k-1):\n",
    "        for cur in range(n-1, -1, -1):\n",
    "            if nums[cur-1] < nums[cur]:\n",
    "                pre = cur-1\n",
    "                break\n",
    "\n",
    "        reverse(cur, n-1)\n",
    "\n",
    "        for idx in range(cur, n):\n",
    "            if nums[idx] > nums[pre]:\n",
    "                break\n",
    "\n",
    "        nums[pre], nums[idx] = nums[idx], nums[pre]\n",
    "\n",
    "    return ''.join(map(str, nums))"
   ]
  },
  {
   "cell_type": "markdown",
   "metadata": {},
   "source": [
    "[Next Greater Element III](https://leetcode.com/problems/next-greater-element-iii/)。给一个正整数$n$，求满足同数字组合的条件下，大于$n$的最小的重排数字，不存在则返回$-1$。\n",
    "\n",
    "思路：该题等同于next_permutatiion。唯一要注意的是溢出。"
   ]
  },
  {
   "cell_type": "code",
   "execution_count": null,
   "metadata": {},
   "outputs": [],
   "source": [
    "def nextGreaterElement(n: int) -> int:\n",
    "    num = list(str(n))\n",
    "    n = len(num)\n",
    "\n",
    "    for cur in range(n-1, -1, -1):\n",
    "        if int(num[cur-1]) < int(num[cur]):\n",
    "            break\n",
    "\n",
    "    if cur == 0:\n",
    "        return -1\n",
    "\n",
    "    def reverse(i, j):\n",
    "        while i < j:\n",
    "            num[i], num[j] = num[j], num[i]\n",
    "            i += 1\n",
    "            j -= 1\n",
    "    reverse(cur, n-1)\n",
    "\n",
    "    for idx in range(cur, n):\n",
    "        if int(num[idx]) > int(num[cur-1]):\n",
    "            break\n",
    "    num[idx], num[cur-1] = num[cur-1], num[idx]\n",
    "\n",
    "    res = int(''.join(num))\n",
    "    return res if res < 0x7FFFFFFF else -1"
   ]
  },
  {
   "cell_type": "markdown",
   "metadata": {},
   "source": [
    "[Factorial Trailing Zeroes](https://leetcode.com/problems/factorial-trailing-zeroes/)。求$n!$末尾$0$的个数。\n",
    "\n",
    "思路：$n!=1\\times{2}\\times{3}\\times{...}\\times{n}$，若$n!$末尾有$k$个$0$，即是说$n!=x\\times{10}^{k}$。连乘式中能构成$10$的只有$2\\times{5}$，易得阶乘式中$2$的数量一定比$5$多，所以对$n!$做因式分解，找出$5$的个数即可。"
   ]
  },
  {
   "cell_type": "code",
   "execution_count": null,
   "metadata": {},
   "outputs": [],
   "source": [
    "def trailingZeroes(n: int) -> int:\n",
    "    res = 0\n",
    "    while n >= 5:\n",
    "        res += n//5\n",
    "        n //= 5\n",
    "\n",
    "    return res"
   ]
  },
  {
   "cell_type": "markdown",
   "metadata": {},
   "source": [
    "[Non-decreasing Array](https://leetcode.com/problems/non-decreasing-array/)。给一数组，判断该数组在最多修改一个数字的情况下是否能满足非递减性质。\n",
    "\n",
    "思路："
   ]
  },
  {
   "cell_type": "code",
   "execution_count": 14,
   "metadata": {},
   "outputs": [
    {
     "data": {
      "text/plain": [
       "True"
      ]
     },
     "execution_count": 14,
     "metadata": {},
     "output_type": "execute_result"
    }
   ],
   "source": [
    "def checkPossibility(nums) -> bool:\n",
    "    pass"
   ]
  },
  {
   "cell_type": "markdown",
   "metadata": {},
   "source": [
    "[Integer Break](https://leetcode.com/problems/integer-break/)。给一个正整数$n$，要求将拆成多个数(至少为$2$)的和，使得拆分后的数乘积最大。\n",
    "\n",
    "思路：基准情况。$2$只能拆成$[1,1]$，$3$只能拆成$[1,2]$，$4$的最大拆分方案为$[2,2]$。可以证明，拆分后的数中不会存在大于$3$的数。\n",
    "- 假设$n>=4$，拆出一个$2$，拆分后的乘积为$2(n-2)$，未拆分的乘积为$n$。可以证明$2(n-2)\\ge{n}$；\n",
    "- 假设$n>=5$，拆出一个$3$，拆分后的乘积为$3(n-3)$，未拆分的乘积为$n$。可以证明$3(n-3)\\ge{2(n-2)}>{n}$。"
   ]
  },
  {
   "cell_type": "code",
   "execution_count": 16,
   "metadata": {},
   "outputs": [
    {
     "data": {
      "text/plain": [
       "9"
      ]
     },
     "execution_count": 16,
     "metadata": {},
     "output_type": "execute_result"
    }
   ],
   "source": [
    "def integerBreak(n: int) -> int:\n",
    "    if n < 4:\n",
    "        return n-1\n",
    "\n",
    "    twos = threes = 0\n",
    "    while n >= 5:\n",
    "        threes += 1\n",
    "        n -= 3\n",
    "\n",
    "    return n*(3**threes)"
   ]
  },
  {
   "cell_type": "markdown",
   "metadata": {},
   "source": [
    "[Super Pow](https://leetcode.com/problems/super-pow/)。实现一个幂函数，底数以数字形式给出，指数以数组形式给出，数组每一个元素代表一位数字。返回模$1337$后的结果。\n",
    "\n",
    "思路：逐位做乘方。例如$2^{123}=((2^{1})^{10}\\times{2^{2}})^{10}\\times{2^{3}}$"
   ]
  },
  {
   "cell_type": "code",
   "execution_count": 2,
   "metadata": {},
   "outputs": [
    {
     "data": {
      "text/plain": [
       "1024"
      ]
     },
     "execution_count": 2,
     "metadata": {},
     "output_type": "execute_result"
    }
   ],
   "source": [
    "def superPow(a: int, b) -> int:\n",
    "    res = a**b[0] % 1337\n",
    "\n",
    "    b = b[1:]\n",
    "    for bit in b:\n",
    "        res = (res**10)*(a**bit) % 1337\n",
    "\n",
    "    return res"
   ]
  },
  {
   "cell_type": "markdown",
   "metadata": {},
   "source": [
    "[Nim Game](https://leetcode.com/problems/nim-game/)。一堆石头，两人轮流拿，每次能拿$[1,3]$个石头。双方均已最优策略拿石头，$A$先拿，判断$A$是否能稳赢。\n",
    "\n",
    "思路：$[1,3]$个石头$A$稳赢，$4$个石头$A$必输，$[5,7]$个石头$A$稳赢，$8$个石头$A$必输。不难发现谁面临$4n$个石头谁就必输。"
   ]
  },
  {
   "cell_type": "code",
   "execution_count": 3,
   "metadata": {},
   "outputs": [
    {
     "data": {
      "text/plain": [
       "False"
      ]
     },
     "execution_count": 3,
     "metadata": {},
     "output_type": "execute_result"
    }
   ],
   "source": [
    "def canWinNim(n: int) -> bool:\n",
    "    return n % 4 != 0"
   ]
  },
  {
   "cell_type": "markdown",
   "metadata": {},
   "source": [
    "[Implement Rand10() Using Rand7()](https://leetcode.com/problems/implement-rand10-using-rand7/)。现有一个产生$[1,7]$范围随机数的函数```rand7()```，利用该函数实现一个```rand10()```。\n",
    "\n",
    "思路：一次随机选择肯定不行，设置一个$7\\times{7}$的矩阵，里面有$49$个值，通过两次随机信号来选定一个单元格，那么就可以生成$[1,49]$的随机数。抛弃掉$[41,49]$区间的数字即可。"
   ]
  },
  {
   "cell_type": "code",
   "execution_count": 5,
   "metadata": {},
   "outputs": [],
   "source": [
    "def rand7():\n",
    "    pass\n",
    "\n",
    "def rand10() -> int:\n",
    "    row, col = rand7(), rand7()\n",
    "    idx = (row-1)*7+col\n",
    "\n",
    "    while idx > 40:\n",
    "        row, col = rand7(), rand7()\n",
    "        idx = (row-1)*7+col\n",
    "\n",
    "    return idx % 10+1"
   ]
  },
  {
   "cell_type": "markdown",
   "metadata": {},
   "source": [
    "[Reverse Integer](https://leetcode.com/problems/reverse-integer/)。给一整数，返回将其翻转后的数字。\n",
    "\n",
    "思路：模十与除以十分别能实现提取最低位和移除最低位，设置一个返回结果，每次都乘以十再加上最低位即可。"
   ]
  },
  {
   "cell_type": "code",
   "execution_count": 1,
   "metadata": {},
   "outputs": [],
   "source": [
    "def reverse(x: int) -> int:\n",
    "    sign = 1 if x > 0 else -1\n",
    "    x = abs(x)\n",
    "\n",
    "    res = 0\n",
    "\n",
    "    while x > 0:\n",
    "        res = res*10+x % 10\n",
    "        x //= 10\n",
    "\n",
    "    return res*sign if res < 0x80000000 else 0"
   ]
  },
  {
   "cell_type": "markdown",
   "metadata": {},
   "source": [
    "[Non-decreasing Array](https://leetcode.com/problems/non-decreasing-array/)。给一数组，判断该数组能否在最多修改一个数字的条件下成为非减数组。\n",
    "\n",
    "思路：该题其实只要考虑两种情况。\n",
    "- $[3,4,2]$，前两位都大于当前位，这种情况只能把$2$改成$4$，即```nums[i]=nums[i-1]```；\n",
    "- $[1,4,2]$，前一位大于当前位，这种情况只能把$4$改成$2$，即```nums[i-1]=nums[i]```。"
   ]
  },
  {
   "cell_type": "code",
   "execution_count": null,
   "metadata": {},
   "outputs": [],
   "source": [
    "def checkPossibility(nums) -> bool:\n",
    "    inv_cnt = 0\n",
    "\n",
    "    for i in range(1, len(nums)):\n",
    "        if nums[i] < nums[i-1]:\n",
    "            inv_cnt += 1\n",
    "            if inv_cnt > 1:\n",
    "                return False\n",
    "\n",
    "            if i > 1 and nums[i] < nums[i-2]:\n",
    "                nums[i] = nums[i-1]\n",
    "            else:\n",
    "                nums[i-1] = nums[i]\n",
    "\n",
    "    return True"
   ]
  },
  {
   "cell_type": "markdown",
   "metadata": {},
   "source": [
    "[Smallest Range I](https://leetcode.com/problems/smallest-range-i/)。给一数组，现允许每个元素都可以偏移$[-K,K]$的量，求数组的最小极差。\n",
    "\n",
    "思路：原数组的最小极差由最大值与最小值决定，引入偏移后极差还是取决于最大值与最小值，最大值减去$K$，最小值加上$K$，比较两者即可。"
   ]
  },
  {
   "cell_type": "code",
   "execution_count": 5,
   "metadata": {},
   "outputs": [
    {
     "data": {
      "text/plain": [
       "0"
      ]
     },
     "execution_count": 5,
     "metadata": {},
     "output_type": "execute_result"
    }
   ],
   "source": [
    "def smallestRangeI(A, K: int) -> int:\n",
    "    return max(0,(max(A)-K)-(min(A)+K))"
   ]
  },
  {
   "cell_type": "markdown",
   "metadata": {},
   "source": [
    "[Array Partition I](https://leetcode.com/problems/array-partition-i/)。给一偶数长度的数组，将该数组进行两两分组得到$\\{(a_{i},b_{i})\\}$，求下式的最大值：\n",
    "$$\n",
    "\\sum\\min(a_{i},b_{i})\n",
    "$$\n",
    "\n",
    "思路："
   ]
  },
  {
   "cell_type": "code",
   "execution_count": 7,
   "metadata": {},
   "outputs": [
    {
     "data": {
      "text/plain": [
       "4"
      ]
     },
     "execution_count": 7,
     "metadata": {},
     "output_type": "execute_result"
    }
   ],
   "source": [
    "def arrayPairSum(nums) -> int:\n",
    "    nums.sort()\n",
    "    res = 0\n",
    "\n",
    "    for i in range(0, len(nums), 2):\n",
    "        res += nums[i]\n",
    "\n",
    "    return res"
   ]
  },
  {
   "cell_type": "markdown",
   "metadata": {},
   "source": [
    "[N-Repeated Element in Size 2N Array](https://leetcode.com/problems/n-repeated-element-in-size-2n-array/)。给一长度为$2N$的数组，其中有且仅有一个数子重复并且重复了$N$次，找出该数字。\n",
    "\n",
    "思路：随机抽取两个样本进行比较，相等则返回。"
   ]
  },
  {
   "cell_type": "code",
   "execution_count": null,
   "metadata": {},
   "outputs": [],
   "source": [
    "def repeatedNTimes(A) -> int:\n",
    "    import random\n",
    "\n",
    "    while True:\n",
    "        samples = random.sample(A, 2)\n",
    "        if samples[0] == samples[1]:\n",
    "            return samples[0]"
   ]
  },
  {
   "cell_type": "markdown",
   "metadata": {},
   "source": [
    "[DI String Match](https://leetcode.com/problems/di-string-match/)。给一长度为$n$且只包含'I'和'D'的字串，根据该字串构造一个$[0,N]$的乱序自然数数组，字符'I'指示下一位置要满足升序，字符'D'指示下一位置要满足降序。\n",
    "\n",
    "思路：遇到'I'时，放置一个最小值；遇到'D'时，放置一个最大值。"
   ]
  },
  {
   "cell_type": "code",
   "execution_count": 1,
   "metadata": {},
   "outputs": [
    {
     "data": {
      "text/plain": [
       "[0, 4, 1, 3, 2]"
      ]
     },
     "execution_count": 1,
     "metadata": {},
     "output_type": "execute_result"
    }
   ],
   "source": [
    "def diStringMatch(S: str):\n",
    "    n = len(S)\n",
    "    res = [0]*(n+1)\n",
    "    min_val, max_val = 0, n\n",
    "\n",
    "    for i in range(n):\n",
    "        if S[i] == 'I':\n",
    "            res[i] = min_val\n",
    "            min_val += 1\n",
    "        else:\n",
    "            res[i] = max_val\n",
    "            max_val -= 1\n",
    "\n",
    "    res[-1] = min_val    # max_val一样的\n",
    "    return res"
   ]
  },
  {
   "cell_type": "markdown",
   "metadata": {},
   "source": [
    "[Wiggle Sort II](https://leetcode.com/problems/wiggle-sort-ii/)。对数组排序，使得排序后的数组严格满足(小大小大...)的关系。\n",
    "\n",
    "思路：首先将数组排序，以中点分成一大一小两部分。轮流从两部分中取值放置即可。"
   ]
  },
  {
   "cell_type": "code",
   "execution_count": 7,
   "metadata": {},
   "outputs": [
    {
     "name": "stdout",
     "output_type": "stream",
     "text": [
      "[1, 1, 1, 4, 5, 6] 2\n"
     ]
    },
    {
     "data": {
      "text/plain": [
       "[1, 6, 1, 5, 1, 4]"
      ]
     },
     "execution_count": 7,
     "metadata": {},
     "output_type": "execute_result"
    }
   ],
   "source": [
    "def wiggleSort(nums) -> None:\n",
    "    tmp = sorted(nums)\n",
    "    n = len(nums)\n",
    "    mid = (n-1) >> 1\n",
    "    tail = n-1\n",
    "\n",
    "    for idx in range(n):\n",
    "        if idx & 1 == 0:\n",
    "            nums[idx] = tmp[mid]\n",
    "            mid -= 1\n",
    "        else:\n",
    "            nums[idx] = tmp[tail]\n",
    "            tail -= 1"
   ]
  },
  {
   "cell_type": "markdown",
   "metadata": {},
   "source": [
    "[Add Binary](https://leetcode.com/problems/add-binary/)。字符串形式的无符号二进制加法。\n",
    "\n",
    "思路：由低往高逐位相加，注意维护进位即可。"
   ]
  },
  {
   "cell_type": "code",
   "execution_count": 10,
   "metadata": {},
   "outputs": [
    {
     "data": {
      "text/plain": [
       "'100'"
      ]
     },
     "execution_count": 10,
     "metadata": {},
     "output_type": "execute_result"
    }
   ],
   "source": [
    "def addBinary(a: str, b: str) -> str:\n",
    "    n, m = len(a), len(b)\n",
    "    carry = 0\n",
    "    res = list()\n",
    "\n",
    "    idx_a, idx_b = n-1, m-1\n",
    "    while idx_a >= 0 or idx_b >= 0:\n",
    "        bit_a = int(a[idx_a]) if idx_a >= 0 else 0\n",
    "        bit_b = int(b[idx_b]) if idx_b >= 0 else 0\n",
    "\n",
    "        cur_sum = bit_a+bit_b+carry\n",
    "        res.append(cur_sum % 2)\n",
    "        carry = 1 if cur_sum > 1 else 0\n",
    "\n",
    "        idx_a -= 1\n",
    "        idx_b -= 1\n",
    "\n",
    "    if carry > 0:\n",
    "        res.append(carry)\n",
    "    return ''.join(map(str, reversed(res)))"
   ]
  },
  {
   "cell_type": "code",
   "execution_count": null,
   "metadata": {},
   "outputs": [],
   "source": []
  }
 ],
 "metadata": {
  "hide_input": false,
  "kernelspec": {
   "display_name": "Python 3",
   "language": "python",
   "name": "python3"
  },
  "language_info": {
   "codemirror_mode": {
    "name": "ipython",
    "version": 3
   },
   "file_extension": ".py",
   "mimetype": "text/x-python",
   "name": "python",
   "nbconvert_exporter": "python",
   "pygments_lexer": "ipython3",
   "version": "3.7.4"
  },
  "toc": {
   "base_numbering": 1,
   "nav_menu": {},
   "number_sections": true,
   "sideBar": true,
   "skip_h1_title": false,
   "title_cell": "Table of Contents",
   "title_sidebar": "Contents",
   "toc_cell": false,
   "toc_position": {},
   "toc_section_display": true,
   "toc_window_display": false
  }
 },
 "nbformat": 4,
 "nbformat_minor": 2
}
