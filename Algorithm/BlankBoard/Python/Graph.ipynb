{
 "cells": [
  {
   "cell_type": "markdown",
   "metadata": {},
   "source": [
    "[Course Schedule II](https://leetcode.com/problems/course-schedule-ii/)。以边的形式$[to,from]$给出一个有向图，求该图的拓扑排序序列。若无则返回空列表。\n",
    "\n",
    "思路：照着拓扑排序的思想实现即可。首先根据给出的数据建立一个邻接表与入度数组，设置一个队列装载入度为$0$的节点。每弹出一个节点，将该点加入到res中，并将其所有邻居的入度$-1$，若出现新的入度为$0$的点，则加入队列。"
   ]
  },
  {
   "cell_type": "code",
   "execution_count": 4,
   "metadata": {},
   "outputs": [
    {
     "data": {
      "text/plain": [
       "[0, 1, 2, 3]"
      ]
     },
     "execution_count": 4,
     "metadata": {},
     "output_type": "execute_result"
    }
   ],
   "source": [
    "def findOrder(numCourses: int, prerequisites):\n",
    "    adj_table = [list() for _ in range(numCourses)]\n",
    "    D_in = [0]*numCourses\n",
    "\n",
    "    for to_idx, from_idx in prerequisites:\n",
    "        adj_table[from_idx].append(to_idx)\n",
    "        D_in[to_idx] += 1\n",
    "\n",
    "    q = list()\n",
    "    for node in range(numCourses):\n",
    "        if D_in[node] == 0:\n",
    "            q.append(node)\n",
    "\n",
    "    res = list()\n",
    "    while q:\n",
    "        vis_node = q.pop(0)\n",
    "        res.append(vis_node)\n",
    "        for neigh in adj_table[vis_node]:\n",
    "            D_in[neigh] -= 1\n",
    "            if D_in[neigh] == 0:\n",
    "                q.append(neigh)\n",
    "\n",
    "    return res if len(res) == numCourses else list()\n",
    "\n",
    "\n",
    "findOrder(4, [[1, 0], [2, 0], [3, 1], [3, 2]])"
   ]
  },
  {
   "cell_type": "markdown",
   "metadata": {},
   "source": [
    "[Minimum Height Trees](https://leetcode.com/problems/minimum-height-trees/)。给一个无环无向图，那么它可以看做是一棵树，其中任意点都能成为树的根节点。求具有最小高度的根节点。\n",
    "\n",
    "思路：要想树高度最小，那么根节点肯定只能是最中心的节点。从叶节点开始进行层次遍历，遍历到最后的节点就是最中心的节点。首先构建邻接表与度数组，设置一个队列装载度为$1$的点(叶节点)。"
   ]
  },
  {
   "cell_type": "code",
   "execution_count": 9,
   "metadata": {},
   "outputs": [
    {
     "data": {
      "text/plain": [
       "[3, 4]"
      ]
     },
     "execution_count": 9,
     "metadata": {},
     "output_type": "execute_result"
    }
   ],
   "source": [
    "def findMinHeightTrees(n: int, edges):\n",
    "    if n < 2:\n",
    "        return [0]\n",
    "\n",
    "    adj_table = [list() for _ in range(n)]\n",
    "    D = [0]*n\n",
    "\n",
    "    for i, j in edges:\n",
    "        adj_table[i].append(j)\n",
    "        adj_table[j].append(i)\n",
    "        D[i] += 1\n",
    "        D[j] += 1\n",
    "\n",
    "    # 以下为层次遍历\n",
    "    q = list()\n",
    "    for node in range(n):\n",
    "        if D[node] == 1:\n",
    "            q.append(node)\n",
    "\n",
    "    while q:\n",
    "        level_size = len(q)\n",
    "        res = list()\n",
    "        for _ in range(level_size):\n",
    "            leaf_node = q.pop(0)\n",
    "            res.append(leaf_node)\n",
    "\n",
    "            for neigh in adj_table[leaf_node]:\n",
    "                D[neigh] -= 1\n",
    "                if D[neigh] == 1:\n",
    "                    q.append(neigh)\n",
    "\n",
    "            D[leaf_node] -= 1    # 已访问的叶节点度置零，防止重复访问\n",
    "\n",
    "    return res"
   ]
  },
  {
   "cell_type": "code",
   "execution_count": null,
   "metadata": {},
   "outputs": [],
   "source": []
  }
 ],
 "metadata": {
  "hide_input": false,
  "kernelspec": {
   "display_name": "Python 3",
   "language": "python",
   "name": "python3"
  },
  "language_info": {
   "codemirror_mode": {
    "name": "ipython",
    "version": 3
   },
   "file_extension": ".py",
   "mimetype": "text/x-python",
   "name": "python",
   "nbconvert_exporter": "python",
   "pygments_lexer": "ipython3",
   "version": "3.7.4"
  },
  "toc": {
   "base_numbering": 1,
   "nav_menu": {},
   "number_sections": true,
   "sideBar": true,
   "skip_h1_title": false,
   "title_cell": "Table of Contents",
   "title_sidebar": "Contents",
   "toc_cell": false,
   "toc_position": {},
   "toc_section_display": true,
   "toc_window_display": false
  }
 },
 "nbformat": 4,
 "nbformat_minor": 2
}
