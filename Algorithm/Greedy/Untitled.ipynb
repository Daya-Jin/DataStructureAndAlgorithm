{
 "cells": [
  {
   "cell_type": "markdown",
   "metadata": {},
   "source": [
    "[Wiggle Subsequence](https://leetcode.com/problems/wiggle-subsequence/)。曲折子序列，给定一数组，求其能构成曲折子数组的最大长度。\n",
    "\n",
    "思路：扫描数组，若连续上升或连续下降，则找到区间的极值点；难点在于首个弯曲点的处理。"
   ]
  },
  {
   "cell_type": "code",
   "execution_count": null,
   "metadata": {},
   "outputs": [],
   "source": [
    "def wiggleMaxLength(nums) -> int:\n",
    "    if len(nums) < 2:\n",
    "        return len(nums)\n",
    "\n",
    "    res = 0\n",
    "    pre_sign = None    # 之前的符号，True表正，False表负\n",
    "\n",
    "    for idx in range(1, len(nums)):\n",
    "        if nums[idx] > nums[idx-1] and (pre_sign is None or not pre_sign):\n",
    "            pre_sign = True\n",
    "            res += 1\n",
    "        elif nums[idx] < nums[idx-1] and (pre_sign is None or pre_sign):\n",
    "            pre_sign = False\n",
    "            res += 1\n",
    "\n",
    "    return res+1    # 加上首个数字"
   ]
  },
  {
   "cell_type": "markdown",
   "metadata": {},
   "source": [
    "[Longest Word in Dictionary](https://leetcode.com/problems/longest-word-in-dictionary/)。给一个字典，求出该字典包含完整拼写过程的最长字符串。\n",
    "\n",
    "思路：若字典中包含了某一字符串的完整拼写过程，说明该字符串的所有前缀都包含在字典里面。使用set进行暴力查找。"
   ]
  },
  {
   "cell_type": "code",
   "execution_count": 21,
   "metadata": {},
   "outputs": [],
   "source": [
    "def longestWord(words) -> str:\n",
    "    res = ''\n",
    "\n",
    "    for s in words:\n",
    "        n = len(s)\n",
    "        i = 1\n",
    "\n",
    "        while i <= n:\n",
    "            if s[:i] in words:\n",
    "                i += 1\n",
    "            else:\n",
    "                break\n",
    "\n",
    "        if i == n+1:    # 完全匹配\n",
    "            if len(s) > len(res):\n",
    "                res = s\n",
    "            elif len(s) == len(res):\n",
    "                res = min(res, s)\n",
    "\n",
    "    return res"
   ]
  },
  {
   "cell_type": "markdown",
   "metadata": {},
   "source": [
    "[Longest Word in Dictionary through Deleting](https://leetcode.com/problems/longest-word-in-dictionary-through-deleting/)。给一个字符串与一个字典，找出在只能删除字符的情况下，在字典中能匹配到的最长的字符串。当多个匹配字符串长度相等时，返回字母序靠前的。\n",
    "\n",
    "思路：暴力搜索，维护一个匹配值，当新匹配的字典值长度大于之前的，又或者等于之前的但是字母序在前时，这两种情况需要替换。Python可以直接比较字典序。"
   ]
  },
  {
   "cell_type": "code",
   "execution_count": 20,
   "metadata": {},
   "outputs": [
    {
     "data": {
      "text/plain": [
       "'a'"
      ]
     },
     "execution_count": 20,
     "metadata": {},
     "output_type": "execute_result"
    }
   ],
   "source": [
    "def findLongestWord(s: str, d) -> str:\n",
    "    res = ''\n",
    "    n_s = len(s)\n",
    "\n",
    "    for word in d:\n",
    "        i = j = 0\n",
    "        n_word = len(word)\n",
    "\n",
    "        while i < n_s and j < n_word:    # 顺序匹配\n",
    "            if s[i] == word[j]:\n",
    "                i += 1\n",
    "                j += 1\n",
    "            else:\n",
    "                i += 1\n",
    "\n",
    "        if j == n_word:    # 完全匹配\n",
    "            if len(word) > len(res):\n",
    "                res = word\n",
    "            elif len(word) == len(res):\n",
    "                res = min(res, word)\n",
    "\n",
    "    return res"
   ]
  },
  {
   "cell_type": "code",
   "execution_count": null,
   "metadata": {},
   "outputs": [],
   "source": []
  }
 ],
 "metadata": {
  "hide_input": false,
  "kernelspec": {
   "display_name": "Python 3",
   "language": "python",
   "name": "python3"
  },
  "language_info": {
   "codemirror_mode": {
    "name": "ipython",
    "version": 3
   },
   "file_extension": ".py",
   "mimetype": "text/x-python",
   "name": "python",
   "nbconvert_exporter": "python",
   "pygments_lexer": "ipython3",
   "version": "3.7.4"
  },
  "toc": {
   "base_numbering": 1,
   "nav_menu": {},
   "number_sections": true,
   "sideBar": true,
   "skip_h1_title": false,
   "title_cell": "Table of Contents",
   "title_sidebar": "Contents",
   "toc_cell": false,
   "toc_position": {},
   "toc_section_display": true,
   "toc_window_display": false
  }
 },
 "nbformat": 4,
 "nbformat_minor": 2
}
