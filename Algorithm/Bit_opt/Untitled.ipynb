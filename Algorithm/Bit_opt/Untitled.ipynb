{
 "cells": [
  {
   "cell_type": "markdown",
   "metadata": {},
   "source": [
    "[Single Number II](https://leetcode.com/problems/single-number-ii/)。一数组中出了一个数字只出现一次外，其他数字都出现了三次，找出那个单独的数字。\n",
    "\n",
    "思路：按位将所有数字求和，那些出现三次的数字的位数求和肯定是3的倍数，而位数和中不为3的倍数的位肯定是单独数字。"
   ]
  },
  {
   "cell_type": "code",
   "execution_count": 14,
   "metadata": {},
   "outputs": [
    {
     "data": {
      "text/plain": [
       "3"
      ]
     },
     "execution_count": 14,
     "metadata": {},
     "output_type": "execute_result"
    }
   ],
   "source": [
    "# 对Python的位运算机制不是很懂，使用字典来做\n",
    "def singleNumber(nums) -> int:\n",
    "    if not nums:\n",
    "        return 0\n",
    "    if len(nums) == 1:\n",
    "        return nums[0]\n",
    "\n",
    "    tabel = dict()\n",
    "    for num in nums:\n",
    "        tabel.setdefault(num, 0)\n",
    "        tabel[num] += 1\n",
    "    for num in tabel.keys():\n",
    "        if tabel[num] == 1:\n",
    "            return num"
   ]
  },
  {
   "cell_type": "markdown",
   "metadata": {},
   "source": [
    "[Integer Replacement](https://leetcode.com/problems/integer-replacement/)。给一个数字$n$，作如下操作，偶数除以二，奇数则$+1$或$-1$。问将$n$变成$1$最少需多少次变换。\n",
    "\n",
    "思路：无脑减一或除二的思路是错误的。从位运算的角度来思考，考虑以下两种奇数情况：\n",
    "- 最低两位是$01$，如果$+1$的话，只能除一次，而$-1$可以连续除两次；\n",
    "- 最低两位是$11$，如果$+1$的话，之后可以连续除两次，而$-1$只能除以次。\n",
    "不难知道当除法次数最多时数字减小的最快，所以当数字为奇数时，需要考虑两种情况来决定$+1$还是$-1$，最低两位的值是用位运算来判断。"
   ]
  },
  {
   "cell_type": "code",
   "execution_count": null,
   "metadata": {},
   "outputs": [],
   "source": [
    "def integerReplacement(self, n: int) -> int:\n",
    "    if n <= 3:\n",
    "        return n-1    # 1需要0次，2需要1次，3需要2次\n",
    "\n",
    "    res = 0\n",
    "    mask = 3    # 提取低两位\n",
    "    while n > 3:\n",
    "        if n & 1 == 0:\n",
    "            n >>= 1\n",
    "        elif n & mask == 1:\n",
    "            n -= 1\n",
    "        else:\n",
    "            n += 1\n",
    "\n",
    "        res += 1\n",
    "\n",
    "    return res+n-1"
   ]
  },
  {
   "cell_type": "code",
   "execution_count": null,
   "metadata": {},
   "outputs": [],
   "source": []
  }
 ],
 "metadata": {
  "hide_input": false,
  "kernelspec": {
   "display_name": "Python 3",
   "language": "python",
   "name": "python3"
  },
  "language_info": {
   "codemirror_mode": {
    "name": "ipython",
    "version": 3
   },
   "file_extension": ".py",
   "mimetype": "text/x-python",
   "name": "python",
   "nbconvert_exporter": "python",
   "pygments_lexer": "ipython3",
   "version": "3.6.6"
  },
  "toc": {
   "base_numbering": 1,
   "nav_menu": {},
   "number_sections": true,
   "sideBar": true,
   "skip_h1_title": false,
   "title_cell": "Table of Contents",
   "title_sidebar": "Contents",
   "toc_cell": false,
   "toc_position": {},
   "toc_section_display": true,
   "toc_window_display": false
  }
 },
 "nbformat": 4,
 "nbformat_minor": 2
}
