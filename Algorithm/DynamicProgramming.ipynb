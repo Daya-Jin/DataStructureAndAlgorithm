{
 "cells": [
  {
   "cell_type": "markdown",
   "metadata": {},
   "source": [
    "n个骰子点数和的概率。"
   ]
  },
  {
   "cell_type": "code",
   "execution_count": 4,
   "metadata": {},
   "outputs": [],
   "source": [
    "# 思路：令f(n,s)为n个骰子和为s的组合数，则\n",
    "# f(n,s)=f(n-1,s-1)+f(n-1,s-2)+f(n-1,s-3)+f(n-1,s-4)+f(n-1,s-5)+f(n-1,s-6)\n",
    "# 可见f(n,*)只与f(n-1,*)时的状态有关，设立两个数组，分别轮番表示f(n-1,*)与f(n,*)时的状态\n",
    "\n",
    "def P(n):\n",
    "    if n<1:\n",
    "        return 0\n",
    "    \n",
    "    max_value=6    # 预定义骰子的最大点数\n",
    "    \n",
    "    # n个骰子的点数范围为n-6n，把数组长度设为6n，非法位置设为0\n",
    "    arr1=[0 for _ in range(max_value*n+1)]\n",
    "    arr2=[0 for _ in range(max_value*n+1)]\n",
    "    arr=[arr1,arr2]\n",
    "    flag=0    # 用于在两数组中进行状态轮切\n",
    "    \n",
    "    # 初始状态f(1,1)=f(1,2)=...=f(1,6)=1\n",
    "    for i in range(1,max_value+1):\n",
    "        arr[flag][i]=1\n",
    "    \n",
    "    for k in range(2,n+1):    # 逐个增加骰子\n",
    "        for val in range(0,k-1):    # 小于骰子数的面值概率都为0\n",
    "            arr[1-flag][val]=0\n",
    "            \n",
    "        for val in range(k,max_value*k+1):\n",
    "            arr[1-flag][val]=0    # 初始值设为0\n",
    "            \n",
    "            j=1    # 逐个加上上一状态时-1,-2,...,-6的组合数\n",
    "            while j<=val and j<=max_value:\n",
    "                arr[1-flag][val]+=arr[flag][val-j]\n",
    "                j+=1\n",
    "        \n",
    "        flag=1-flag    # 转换状态\n",
    "        \n",
    "    tol_comb=pow(max_value,n)\n",
    "    for i in range(n,max_value*n+1):\n",
    "        print(arr[flag][i]/tol_comb)"
   ]
  },
  {
   "cell_type": "markdown",
   "metadata": {},
   "source": [
    "(没搞懂！)[歌单方案数](https://www.nowcoder.com/questionTerminal/f3ab6fe72af34b71a2fd1d83304cbbb3?orderByHotValue=1&page=1&onlyReference=false)，手头有X首A分钟的歌，还有Y首B分钟的歌，要组成一个总长K分钟的歌单，有多少种方案。$K\\le1000$，$X,Y\\le100$"
   ]
  },
  {
   "cell_type": "code",
   "execution_count": 17,
   "metadata": {
    "scrolled": true
   },
   "outputs": [
    {
     "data": {
      "text/plain": [
       "9"
      ]
     },
     "execution_count": 17,
     "metadata": {},
     "output_type": "execute_result"
    }
   ],
   "source": [
    "# 思路：动态规划，设index为歌单内歌的数量，column为歌单长度\n",
    "# 难点在于状态转移方程，C(n,k)= C(n-1,k) + C(n-1,k-1)\n",
    "# n表示歌总数，k表示选出来的歌的数量，题目中k是以时长表示的\n",
    "# 所以该题的状态方程为\n",
    "# dp[num_song][total_duration]=dp[num_song-1][total_duration]+dp[num_song-1][total_duration-len_song]\n",
    "\n",
    "\n",
    "def solution(A, X, B, Y, K):\n",
    "    dp = [[0 for _ in range(K+1)] for _ in range(X+Y+1)]\n",
    "    lens = [0]*(X+Y+1)\n",
    "\n",
    "    dp[0][0] = 1    # 0首歌组成0分钟的歌单，一种方案\n",
    "    for i in range(1, X+1):\n",
    "        lens[i] = A\n",
    "    for i in range(X+1, X+Y+1):\n",
    "        lens[i] = B\n",
    "\n",
    "    for num_song in range(1, X+Y+1):\n",
    "        for total_duration in range(0, K+1):\n",
    "            dp[num_song][total_duration] = dp[num_song-1][total_duration] if total_duration < lens[num_song] \\\n",
    "                else dp[num_song - 1][total_duration]+dp[num_song-1][total_duration-lens[num_song]]\n",
    "\n",
    "    return dp[X+Y][K]"
   ]
  },
  {
   "cell_type": "code",
   "execution_count": null,
   "metadata": {},
   "outputs": [],
   "source": []
  }
 ],
 "metadata": {
  "hide_input": false,
  "kernelspec": {
   "display_name": "Python 3",
   "language": "python",
   "name": "python3"
  },
  "language_info": {
   "codemirror_mode": {
    "name": "ipython",
    "version": 3
   },
   "file_extension": ".py",
   "mimetype": "text/x-python",
   "name": "python",
   "nbconvert_exporter": "python",
   "pygments_lexer": "ipython3",
   "version": "3.7.4"
  },
  "toc": {
   "base_numbering": 1,
   "nav_menu": {},
   "number_sections": true,
   "sideBar": true,
   "skip_h1_title": false,
   "title_cell": "Table of Contents",
   "title_sidebar": "Contents",
   "toc_cell": false,
   "toc_position": {},
   "toc_section_display": true,
   "toc_window_display": false
  }
 },
 "nbformat": 4,
 "nbformat_minor": 2
}
