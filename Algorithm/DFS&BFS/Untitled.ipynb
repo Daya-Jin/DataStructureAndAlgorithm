{
 "cells": [
  {
   "cell_type": "markdown",
   "metadata": {},
   "source": [
    "[Word Ladder](https://leetcode.com/problems/word-ladder/)。给定一个源单词与目标单词还有一个词典，每次允许变换一个字母，求从源单词变为目标单词需要的步数。\n",
    "\n",
    "思路：BFS，每次改变源单词的一个字母，找到对应的字典中的词，并维护一个访问状态。"
   ]
  },
  {
   "cell_type": "code",
   "execution_count": 9,
   "metadata": {},
   "outputs": [
    {
     "data": {
      "text/plain": [
       "4"
      ]
     },
     "execution_count": 9,
     "metadata": {},
     "output_type": "execute_result"
    }
   ],
   "source": [
    "def ladderLength(beginWord: str, endWord: str, wordList) -> int:\n",
    "    word_set = set(wordList)\n",
    "    visited = set()\n",
    "    q = list()\n",
    "    q.append((beginWord, 0))    # 将word与step组成二元组\n",
    "\n",
    "    while q:\n",
    "        cur_word, step = q.pop(0)\n",
    "\n",
    "        if cur_word == endWord:\n",
    "            return step\n",
    "        if cur_word in visited:\n",
    "            continue\n",
    "        visited.add(cur_word)\n",
    "\n",
    "        for ch_idx in range(len(cur_word)):\n",
    "            for i in range(26):\n",
    "                trans_word = cur_word[:ch_idx]+chr(97+i)+cur_word[ch_idx+1:]\n",
    "                if trans_word in word_set:\n",
    "                    q.append((trans_word, step+1))\n",
    "\n",
    "    return -1"
   ]
  },
  {
   "cell_type": "markdown",
   "metadata": {},
   "source": [
    "[Surrounded Regions](https://leetcode.com/problems/surrounded-regions/)。给一个由'X'和'O'构成的矩阵，将所有被'X'包围的'O'转换成'X'。\n",
    "\n",
    "思路：DFS转换，但是需要注意的是边界的'O'不会被转换，所以需要特殊处理。分为两步，首先将所有与边界相通的'O'转换成一个特殊字符，那么剩下未被转换的'O'肯定是被'X'包围的，将这些'O'全转换成'X'，再将特殊字符转换成'O'。"
   ]
  },
  {
   "cell_type": "code",
   "execution_count": 18,
   "metadata": {},
   "outputs": [
    {
     "name": "stdout",
     "output_type": "stream",
     "text": [
      "[['X', '#', 'X', '#', 'X', '#'], ['#', 'X', 'O', 'X', 'O', 'X'], ['X', 'O', 'X', 'O', 'X', '#'], ['#', 'X', '#', 'X', '#', 'X']]\n"
     ]
    },
    {
     "data": {
      "text/plain": [
       "[['X', 'O', 'X', 'O', 'X', 'O'],\n",
       " ['O', 'X', 'X', 'X', 'X', 'X'],\n",
       " ['X', 'X', 'X', 'X', 'X', 'O'],\n",
       " ['O', 'X', 'O', 'X', 'O', 'X']]"
      ]
     },
     "execution_count": 18,
     "metadata": {},
     "output_type": "execute_result"
    }
   ],
   "source": [
    "def solve(board) -> None:\n",
    "    if not board or not board[0]:\n",
    "        return\n",
    "    rows, cols = len(board), len(board[0])\n",
    "\n",
    "    def trans_rec(row, col):\n",
    "        if board[row][col] == 'O':\n",
    "            board[row][col] = '#'\n",
    "            if row > 0 and board[row-1][col] == 'O':\n",
    "                trans_rec(row-1, col)\n",
    "            if row < rows-1 and board[row+1][col] == 'O':\n",
    "                trans_rec(row+1, col)\n",
    "            if col > 0 and board[row][col-1] == 'O':\n",
    "                trans_rec(row, col-1)\n",
    "            if col < cols-1 and board[row][col+1] == 'O':\n",
    "                trans_rec(row, col+1)\n",
    "\n",
    "    # 将跟边缘连接的'O'保护起来\n",
    "    for row in range(rows):\n",
    "        for col in range(cols):\n",
    "            if (board[row][col] == 'O' and (row == 0 or col == 0 or row == rows-1 or col == cols-1)):\n",
    "                trans_rec(row, col)\n",
    "\n",
    "    for row in range(rows):\n",
    "        for col in range(cols):\n",
    "            if board[row][col] == 'O':\n",
    "                board[row][col] = 'X'\n",
    "            if board[row][col] == '#':\n",
    "                board[row][col] = 'O'"
   ]
  },
  {
   "cell_type": "markdown",
   "metadata": {},
   "source": [
    "[Restore IP Addresses](https://leetcode.com/problems/restore-ip-addresses/)。给定一只含数字的字符串，求其能生成的所有合法IP地址。\n",
    "\n",
    "思路：求出所有可可能结果，DFS，需要两个变量在递归中传递，一个是最重的返回结果```res```，另一个是存储临时结果的```tmp_res```，只有当```tmp_res```完全合格时才会加入到```res```中。该题中有一个隐含条件，IP字段范围是$[0,255]$且不能以$0$开头。"
   ]
  },
  {
   "cell_type": "code",
   "execution_count": 12,
   "metadata": {},
   "outputs": [
    {
     "data": {
      "text/plain": [
       "['255.255.11.135', '255.255.111.35']"
      ]
     },
     "execution_count": 12,
     "metadata": {},
     "output_type": "execute_result"
    }
   ],
   "source": [
    "def restoreIpAddresses(s: str):\n",
    "    res = list()\n",
    "    if len(s) > 12:\n",
    "        return res\n",
    "\n",
    "    tmp_res = list()\n",
    "\n",
    "    def dfs(s, tmp_res, res):\n",
    "        # 合法res的最大字段数为4，每个字段最多为3，s大于该长度就直接返回\n",
    "        thresh = (4-len(tmp_res))*3\n",
    "        if len(s) > thresh:\n",
    "            return\n",
    "\n",
    "        if not s and len(tmp_res) == 4:\n",
    "            res.append('.'.join(tmp_res))\n",
    "\n",
    "        # 遍历所有可能的分割，0|1|2|，数字为索引，竖线为切割位置\n",
    "        for i in range(1, 4):\n",
    "            if i <= len(s):    # 不要越界\n",
    "                # 当数字不以0开头且小于等于255，则可以加入tem_res继续遍历\n",
    "                cur_num = int(s[:i])\n",
    "                if str(cur_num) == s[:i] and cur_num <= 255:\n",
    "                    dfs(s[i:], tmp_res+[s[:i]], res)\n",
    "\n",
    "    dfs(s, tmp_res, res)\n",
    "    return res"
   ]
  },
  {
   "cell_type": "markdown",
   "metadata": {},
   "source": [
    "[Open the Lock](https://leetcode.com/problems/open-the-lock/)。四位旋转密码锁，其中有几个位置是死区(deadend)，一旦转到该位置锁会锁死。给定一系列死区，初始状态为```0000```，问开锁需要转几次旋钮。\n",
    "\n",
    "思路：BST，用队列实现。"
   ]
  },
  {
   "cell_type": "code",
   "execution_count": 18,
   "metadata": {},
   "outputs": [],
   "source": [
    "def openLock(deadends, target: str) -> int:\n",
    "    lock = True\n",
    "    deadends = set(deadends)\n",
    "    visited = set()\n",
    "    q = [('0000', 0)]    # (stat, cnt)\n",
    "\n",
    "    while q:\n",
    "        stat, cnt = q.pop(0)\n",
    "\n",
    "        if stat == target:\n",
    "            return cnt\n",
    "        elif stat in visited or stat in deadends:\n",
    "            continue\n",
    "        else:\n",
    "            visited.add(stat)\n",
    "            for i in range(4):\n",
    "                plus1 = stat[:i]+str((int(stat[i])+1) % 10)+stat[i+1:]\n",
    "                q.append((plus1, cnt+1))\n",
    "                minus1 = stat[:i]+str((int(stat[i])-1) % 10)+stat[i+1:]\n",
    "                q.append((minus1, cnt+1))\n",
    "\n",
    "    return -1"
   ]
  },
  {
   "cell_type": "markdown",
   "metadata": {},
   "source": [
    "[Unique Binary Search Trees](https://leetcode.com/problems/unique-binary-search-trees/)。给定长度为$n$的正数序列，求其能构成多少种不同的BST。\n",
    "\n",
    "思路：遍历以每一个数字做为根节点，当以数字$i$作为根节点时，那么$[1,i-1]$构成左分支，$[i+1,n]$构成右分支，当前BST的数量为左右分支的可能组合数。设$k$个连续数字可构成$dp[k]$种BST，那么当有$n$个节点时，遍历所有数字分别充当根节点，假设以$i$为根节点，那么其左分支有$i-1$个节点，右分支有$n-i$个节点，那么当前的BST数量为$dp[i-1]*dp[n-i]$。"
   ]
  },
  {
   "cell_type": "code",
   "execution_count": null,
   "metadata": {},
   "outputs": [],
   "source": [
    "def numTrees(n: int) -> int:\n",
    "    if n < 2:\n",
    "        return n\n",
    "\n",
    "    dp = [0 for _ in range(n+1)]\n",
    "    dp[0] = 1    # 因为是乘法，不能设为0\n",
    "    dp[1] = 1\n",
    "\n",
    "    for k in range(2, n+1):    # k: 2->n\n",
    "        for i in range(1, k+1):    # 遍历所有可能的根节点\n",
    "            dp[k] += dp[i-1]*dp[k-i]\n",
    "\n",
    "    return dp[-1]"
   ]
  },
  {
   "cell_type": "markdown",
   "metadata": {},
   "source": [
    "[Smallest String Starting From Leaf](https://leetcode.com/problems/smallest-string-starting-from-leaf/)。给一颗字符二叉树，求一条从叶结点到根节点且字典序最小的路径。规定在同样前缀的情况下，字符越短字典序越小。\n",
    "\n",
    "思路：DFS。路径由叶节点到根节点，那么路径字串的首字符由叶节点决定，所以在走到叶节点之前是无法确定字典序的。每当DFS走到叶节点，比较已有结果与当前路径的字典序。"
   ]
  },
  {
   "cell_type": "code",
   "execution_count": null,
   "metadata": {},
   "outputs": [],
   "source": [
    "def smallestFromLeaf(root: TreeNode) -> str:\n",
    "    if not root:\n",
    "        return ''\n",
    "\n",
    "    res = '{'    # 大括号的ASCII码大于所有字母\n",
    "\n",
    "    def dfs(vis_node, path):\n",
    "        path.append(chr(vis_node.val+97))    # 'a':97\n",
    "\n",
    "        if not vis_node.left and not vis_node.right:\n",
    "            path_s = ''.join(reversed(path))\n",
    "            res = min(res, path_s)\n",
    "        if vis_node.left:\n",
    "            dfs(vis_node.left, path)\n",
    "        if vis_node.right:\n",
    "            dfs(vis_node.right, path)\n",
    "\n",
    "        path.pop()    # 注意参数path是一个list，需要还原\n",
    "\n",
    "    dfs(root, list())\n",
    "    return res"
   ]
  },
  {
   "cell_type": "markdown",
   "metadata": {},
   "source": [
    "[Binary Tree Right Side View](https://leetcode.com/problems/binary-tree-right-side-view/)。给一颗二叉树，求右视图所看到的节点序列。\n",
    "\n",
    "思路：树的层次遍历(BST)，维护一个层级节点数即可，每访问到当前层的最后一个节点就加入返回列表。"
   ]
  },
  {
   "cell_type": "code",
   "execution_count": null,
   "metadata": {},
   "outputs": [],
   "source": [
    "def rightSideView(root: TreeNode):\n",
    "    res = list()\n",
    "    if not root:\n",
    "        return res\n",
    "\n",
    "    q = [root]\n",
    "    while q:\n",
    "        level_size = len(q)\n",
    "        for idx in range(level_size):\n",
    "            vis_node = q.pop(0)\n",
    "            if idx == level_size-1:\n",
    "                res.append(vis_node.val)\n",
    "\n",
    "            if vis_node.left:\n",
    "                q.append(vis_node.left)\n",
    "            if vis_node.right:\n",
    "                q.append(vis_node.right)\n",
    "\n",
    "    return res"
   ]
  },
  {
   "cell_type": "markdown",
   "metadata": {},
   "source": [
    "[Minesweeper](https://leetcode.com/problems/minesweeper/)。扫雷模拟，'M'表示地雷，'E'表示未点击方块，'B'表示空白块，$[1-8]$的数字表示周围的地雷数，'X'表示踩雷。给一个游戏盘与一个点击位置，返回点击后的状态。\n",
    "\n",
    "思路：逻辑实现，递归。如果点击到'B'与数字，无改变；踩到雷，改成'X'；点击'E'，若周围没有雷，则递归点击周围所有格子，否则改成数字。难点在于周围八个点的存在性判断，最蠢的方法就是写多个判断条件。"
   ]
  },
  {
   "cell_type": "code",
   "execution_count": 7,
   "metadata": {},
   "outputs": [
    {
     "data": {
      "text/plain": [
       "[['B', '1', 'E', '1', 'B'],\n",
       " ['B', '1', 'M', '1', 'B'],\n",
       " ['B', '1', '1', '1', 'B'],\n",
       " ['B', 'B', 'B', 'B', 'B']]"
      ]
     },
     "execution_count": 7,
     "metadata": {},
     "output_type": "execute_result"
    }
   ],
   "source": [
    "def updateBoard(board, click):\n",
    "    rows, cols = len(board), len(board[0])\n",
    "    int_l = ['1', '2', '3', '4', '5', '6', '7', '8']\n",
    "\n",
    "    def bfs(row, col):\n",
    "        if row < 0 or row >= rows or col < 0 or col >= cols:     # 输入合法性判断\n",
    "            return\n",
    "\n",
    "        if board[row][col] == 'M':\n",
    "            board[row][col] = 'X'\n",
    "            return\n",
    "\n",
    "        if board[row][col] == 'B' or board[row][col] in int_l:\n",
    "            return\n",
    "\n",
    "        if board[row][col] == 'E':\n",
    "            n = 0\n",
    "            # 首先扫描周围的雷，八个判断\n",
    "            if row > 0:    # 上\n",
    "                if board[row-1][col] == 'M':\n",
    "                    n += 1\n",
    "\n",
    "            if col > 0:    # 左\n",
    "                if board[row][col-1] == 'M':\n",
    "                    n += 1\n",
    "\n",
    "            if row > 0 and col > 0:    # 左上\n",
    "                if board[row-1][col-1] == 'M':\n",
    "                    n += 1\n",
    "\n",
    "            if row < rows-1:    # 下\n",
    "                if board[row+1][col] == 'M':\n",
    "                    n += 1\n",
    "\n",
    "            if col > 0 and row < rows-1:    # 左下\n",
    "                if board[row+1][col-1] == 'M':\n",
    "                    n += 1\n",
    "\n",
    "            if col < cols-1:    # 右\n",
    "                if board[row][col+1] == 'M':\n",
    "                    n += 1\n",
    "\n",
    "            if row > 0 and col < cols-1:\n",
    "                if board[row-1][col+1] == 'M':\n",
    "                    n += 1\n",
    "\n",
    "            if row < rows-1 and col < cols-1:\n",
    "                if board[row+1][col+1] == 'M':\n",
    "                    n += 1\n",
    "\n",
    "            if n == 0:\n",
    "                board[row][col] = 'B'\n",
    "                bfs(row-1, col-1)\n",
    "                bfs(row-1, col)\n",
    "                bfs(row-1, col+1)\n",
    "                bfs(row, col+1)\n",
    "                bfs(row+1, col+1)\n",
    "                bfs(row+1, col)\n",
    "                bfs(row+1, col-1)\n",
    "                bfs(row, col-1)\n",
    "            else:\n",
    "                board[row][col] = str(n)\n",
    "                return\n",
    "\n",
    "    bfs(click[0], click[1])\n",
    "    return board"
   ]
  },
  {
   "cell_type": "markdown",
   "metadata": {},
   "source": [
    "[01 Matrix](https://leetcode.com/problems/01-matrix/)。给一个只含$0$和$1$的矩阵，返回一个矩阵，该矩阵记录的是相应位置元素离最近$0$元素的距离，距离只算上下左右，不能斜着走。\n",
    "\n",
    "思路：BFS。因为矩阵中存在$0$元素，并且要求的也是距$0$的距离，那么BFS的起点就是矩阵中的所有$0$元素。"
   ]
  },
  {
   "cell_type": "code",
   "execution_count": 25,
   "metadata": {},
   "outputs": [
    {
     "data": {
      "text/plain": [
       "[[0, 0, 0], [0, 1, 0], [1, 2, 1]]"
      ]
     },
     "execution_count": 25,
     "metadata": {},
     "output_type": "execute_result"
    }
   ],
   "source": [
    "def updateMatrix(matrix):\n",
    "    rows, cols = len(matrix), len(matrix[0])\n",
    "    q = list()\n",
    "    res = [[0x7FFFFFFF for _ in range(cols)] for _ in range(rows)]\n",
    "\n",
    "    for row in range(rows):\n",
    "        for col in range(cols):\n",
    "            if matrix[row][col] == 0:\n",
    "                q.append((row, col))\n",
    "                res[row][col] = 0\n",
    "\n",
    "    while q:\n",
    "        row, col = q.pop(0)\n",
    "\n",
    "        if row > 0:\n",
    "            if res[row-1][col] > res[row][col]+1:\n",
    "                res[row-1][col] = res[row][col]+1\n",
    "                q.append((row-1, col))\n",
    "\n",
    "        if row < rows-1:\n",
    "            if res[row+1][col] > res[row][col]+1:\n",
    "                res[row+1][col] = res[row][col]+1\n",
    "                q.append((row+1, col))\n",
    "\n",
    "        if col > 0:\n",
    "            if res[row][col-1] > res[row][col]+1:\n",
    "                res[row][col-1] = res[row][col]+1\n",
    "                q.append((row, col-1))\n",
    "\n",
    "        if col < cols-1:\n",
    "            if res[row][col+1] > res[row][col]+1:\n",
    "                res[row][col+1] = res[row][col]+1\n",
    "                q.append((row, col+1))\n",
    "\n",
    "    return res"
   ]
  },
  {
   "cell_type": "markdown",
   "metadata": {},
   "source": [
    "[Keys and Rooms](https://leetcode.com/problems/keys-and-rooms/)。给一个列表，每个元素表示一个房间，每个房间里有若干把钥匙。第一个房间未锁，判断给出的配置能否成功打开所有房间。\n",
    "\n",
    "思路：DFS或BFS，BFS可用队列实现优先考虑BFS。维护访问状态，从第一个房间进入拿钥匙加入队列，并标记访问；依次取出"
   ]
  },
  {
   "cell_type": "code",
   "execution_count": 9,
   "metadata": {},
   "outputs": [
    {
     "data": {
      "text/plain": [
       "True"
      ]
     },
     "execution_count": 9,
     "metadata": {},
     "output_type": "execute_result"
    }
   ],
   "source": [
    "def canVisitAllRooms(rooms) -> bool:\n",
    "    n = len(rooms)\n",
    "    visited = [False]*n\n",
    "    q = [key for key in rooms[0]]\n",
    "    visited[0] = True\n",
    "    res = 0\n",
    "\n",
    "    while q:\n",
    "        room_idx = q.pop(0)    # 其实用栈也可以，无顺序要求，用栈更快\n",
    "        if visited[room_idx]:\n",
    "            continue\n",
    "        else:\n",
    "            visited[room_idx] = True\n",
    "            for key in rooms[room_idx]:\n",
    "                q.append(key)\n",
    "\n",
    "    return all(visited)"
   ]
  },
  {
   "cell_type": "markdown",
   "metadata": {},
   "source": [
    "[Possible Bipartition](https://leetcode.com/problems/possible-bipartition/)。染色问题，给$N$个点，然后给出这些点的连接关系，现有两种颜色，直接相连的点不能同色。判断能否存在染色方案。\n",
    "\n",
    "思路：BFS。因为只有两种颜色，首先随便选一个点进行染色，那么与它相邻的所有点均只能染另外一种颜色。另外测试用例有这样一种情况：节点不一定全部连接在一起，即图不一定是连通的。所以最外层需要遍历所有节点，防止漏点。"
   ]
  },
  {
   "cell_type": "code",
   "execution_count": null,
   "metadata": {},
   "outputs": [],
   "source": [
    "def possibleBipartition(N: int, dislikes) -> bool:\n",
    "    adj_table = [list() for _ in range(N)]    # 邻接表\n",
    "    for node_pair in dislikes:\n",
    "        adj_table[node_pair[0]-1].append(node_pair[1]-1)\n",
    "        adj_table[node_pair[1]-1].append(node_pair[0]-1)\n",
    "\n",
    "    color_arr = [None]*N    # 染色状态数组，有三种取值None, True, False\n",
    "\n",
    "    for node in range(N):\n",
    "        if color_arr[node] is None:\n",
    "            q = [node]\n",
    "            color_arr[node] = True\n",
    "            while q:\n",
    "                vis_node = q.pop(0)\n",
    "                for neighbor in adj_table[vis_node]:\n",
    "                    if color_arr[neighbor] is not None:\n",
    "                        if color_arr[neighbor] == color_arr[vis_node]:\n",
    "                            return False\n",
    "                    else:\n",
    "                        color_arr[neighbor] = not color_arr[vis_node]\n",
    "                        q.append(neighbor)\n",
    "\n",
    "    return True"
   ]
  }
 ],
 "metadata": {
  "hide_input": false,
  "kernelspec": {
   "display_name": "Python 3",
   "language": "python",
   "name": "python3"
  },
  "language_info": {
   "codemirror_mode": {
    "name": "ipython",
    "version": 3
   },
   "file_extension": ".py",
   "mimetype": "text/x-python",
   "name": "python",
   "nbconvert_exporter": "python",
   "pygments_lexer": "ipython3",
   "version": "3.7.4"
  },
  "toc": {
   "base_numbering": 1,
   "nav_menu": {},
   "number_sections": true,
   "sideBar": true,
   "skip_h1_title": false,
   "title_cell": "Table of Contents",
   "title_sidebar": "Contents",
   "toc_cell": false,
   "toc_position": {},
   "toc_section_display": true,
   "toc_window_display": false
  }
 },
 "nbformat": 4,
 "nbformat_minor": 2
}
