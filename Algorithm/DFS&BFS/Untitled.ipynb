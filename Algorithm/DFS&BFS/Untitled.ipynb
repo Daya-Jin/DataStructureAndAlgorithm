{
 "cells": [
  {
   "cell_type": "markdown",
   "metadata": {},
   "source": [
    "[Smallest String Starting From Leaf](https://leetcode.com/problems/smallest-string-starting-from-leaf/)。给一颗字符二叉树，求一条从叶结点到根节点且字典序最小的路径。规定在同样前缀的情况下，字符越短字典序越小。\n",
    "\n",
    "思路：DFS。路径由叶节点到根节点，那么路径字串的首字符由叶节点决定，所以在走到叶节点之前是无法确定字典序的。每当DFS走到叶节点，比较已有结果与当前路径的字典序。"
   ]
  },
  {
   "cell_type": "code",
   "execution_count": null,
   "metadata": {},
   "outputs": [],
   "source": [
    "def smallestFromLeaf(root: TreeNode) -> str:\n",
    "    if not root:\n",
    "        return ''\n",
    "\n",
    "    res = '{'    # 大括号的ASCII码大于所有字母\n",
    "\n",
    "    def dfs(vis_node, path):\n",
    "        path.append(chr(vis_node.val+97))    # 'a':97\n",
    "\n",
    "        if not vis_node.left and not vis_node.right:\n",
    "            path_s = ''.join(reversed(path))\n",
    "            res = min(res, path_s)\n",
    "        if vis_node.left:\n",
    "            dfs(vis_node.left, path)\n",
    "        if vis_node.right:\n",
    "            dfs(vis_node.right, path)\n",
    "\n",
    "        path.pop()    # 注意参数path是一个list，需要还原\n",
    "\n",
    "    dfs(root, list())\n",
    "    return res"
   ]
  },
  {
   "cell_type": "markdown",
   "metadata": {},
   "source": [
    "[Minesweeper](https://leetcode.com/problems/minesweeper/)。扫雷模拟，'M'表示地雷，'E'表示未点击方块，'B'表示空白块，$[1-8]$的数字表示周围的地雷数，'X'表示踩雷。给一个游戏盘与一个点击位置，返回点击后的状态。\n",
    "\n",
    "思路：逻辑实现，递归。如果点击到'B'与数字，无改变；踩到雷，改成'X'；点击'E'，若周围没有雷，则递归点击周围所有格子，否则改成数字。难点在于周围八个点的存在性判断，最蠢的方法就是写多个判断条件。"
   ]
  },
  {
   "cell_type": "code",
   "execution_count": 7,
   "metadata": {},
   "outputs": [
    {
     "data": {
      "text/plain": [
       "[['B', '1', 'E', '1', 'B'],\n",
       " ['B', '1', 'M', '1', 'B'],\n",
       " ['B', '1', '1', '1', 'B'],\n",
       " ['B', 'B', 'B', 'B', 'B']]"
      ]
     },
     "execution_count": 7,
     "metadata": {},
     "output_type": "execute_result"
    }
   ],
   "source": [
    "def updateBoard(board, click):\n",
    "    rows, cols = len(board), len(board[0])\n",
    "    int_l = ['1', '2', '3', '4', '5', '6', '7', '8']\n",
    "\n",
    "    def bfs(row, col):\n",
    "        if row < 0 or row >= rows or col < 0 or col >= cols:     # 输入合法性判断\n",
    "            return\n",
    "\n",
    "        if board[row][col] == 'M':\n",
    "            board[row][col] = 'X'\n",
    "            return\n",
    "\n",
    "        if board[row][col] == 'B' or board[row][col] in int_l:\n",
    "            return\n",
    "\n",
    "        if board[row][col] == 'E':\n",
    "            n = 0\n",
    "            # 首先扫描周围的雷，八个判断\n",
    "            if row > 0:    # 上\n",
    "                if board[row-1][col] == 'M':\n",
    "                    n += 1\n",
    "\n",
    "            if col > 0:    # 左\n",
    "                if board[row][col-1] == 'M':\n",
    "                    n += 1\n",
    "\n",
    "            if row > 0 and col > 0:    # 左上\n",
    "                if board[row-1][col-1] == 'M':\n",
    "                    n += 1\n",
    "\n",
    "            if row < rows-1:    # 下\n",
    "                if board[row+1][col] == 'M':\n",
    "                    n += 1\n",
    "\n",
    "            if col > 0 and row < rows-1:    # 左下\n",
    "                if board[row+1][col-1] == 'M':\n",
    "                    n += 1\n",
    "\n",
    "            if col < cols-1:    # 右\n",
    "                if board[row][col+1] == 'M':\n",
    "                    n += 1\n",
    "\n",
    "            if row > 0 and col < cols-1:\n",
    "                if board[row-1][col+1] == 'M':\n",
    "                    n += 1\n",
    "\n",
    "            if row < rows-1 and col < cols-1:\n",
    "                if board[row+1][col+1] == 'M':\n",
    "                    n += 1\n",
    "\n",
    "            if n == 0:\n",
    "                board[row][col] = 'B'\n",
    "                bfs(row-1, col-1)\n",
    "                bfs(row-1, col)\n",
    "                bfs(row-1, col+1)\n",
    "                bfs(row, col+1)\n",
    "                bfs(row+1, col+1)\n",
    "                bfs(row+1, col)\n",
    "                bfs(row+1, col-1)\n",
    "                bfs(row, col-1)\n",
    "            else:\n",
    "                board[row][col] = str(n)\n",
    "                return\n",
    "\n",
    "    bfs(click[0], click[1])\n",
    "    return board"
   ]
  },
  {
   "cell_type": "markdown",
   "metadata": {},
   "source": [
    "[01 Matrix](https://leetcode.com/problems/01-matrix/)。给一个只含$0$和$1$的矩阵，返回一个矩阵，该矩阵记录的是相应位置元素离最近$0$元素的距离，距离只算上下左右，不能斜着走。\n",
    "\n",
    "思路：BFS。因为矩阵中存在$0$元素，并且要求的也是距$0$的距离，那么BFS的起点就是矩阵中的所有$0$元素。"
   ]
  },
  {
   "cell_type": "code",
   "execution_count": 25,
   "metadata": {},
   "outputs": [
    {
     "data": {
      "text/plain": [
       "[[0, 0, 0], [0, 1, 0], [1, 2, 1]]"
      ]
     },
     "execution_count": 25,
     "metadata": {},
     "output_type": "execute_result"
    }
   ],
   "source": [
    "def updateMatrix(matrix):\n",
    "    rows, cols = len(matrix), len(matrix[0])\n",
    "    q = list()\n",
    "    res = [[0x7FFFFFFF for _ in range(cols)] for _ in range(rows)]\n",
    "\n",
    "    for row in range(rows):\n",
    "        for col in range(cols):\n",
    "            if matrix[row][col] == 0:\n",
    "                q.append((row, col))\n",
    "                res[row][col] = 0\n",
    "\n",
    "    while q:\n",
    "        row, col = q.pop(0)\n",
    "\n",
    "        if row > 0:\n",
    "            if res[row-1][col] > res[row][col]+1:\n",
    "                res[row-1][col] = res[row][col]+1\n",
    "                q.append((row-1, col))\n",
    "\n",
    "        if row < rows-1:\n",
    "            if res[row+1][col] > res[row][col]+1:\n",
    "                res[row+1][col] = res[row][col]+1\n",
    "                q.append((row+1, col))\n",
    "\n",
    "        if col > 0:\n",
    "            if res[row][col-1] > res[row][col]+1:\n",
    "                res[row][col-1] = res[row][col]+1\n",
    "                q.append((row, col-1))\n",
    "\n",
    "        if col < cols-1:\n",
    "            if res[row][col+1] > res[row][col]+1:\n",
    "                res[row][col+1] = res[row][col]+1\n",
    "                q.append((row, col+1))\n",
    "\n",
    "    return res"
   ]
  },
  {
   "cell_type": "markdown",
   "metadata": {},
   "source": [
    "[Keys and Rooms](https://leetcode.com/problems/keys-and-rooms/)。给一个列表，每个元素表示一个房间，每个房间里有若干把钥匙。第一个房间未锁，判断给出的配置能否成功打开所有房间。\n",
    "\n",
    "思路：DFS或BFS，BFS可用队列实现优先考虑BFS。维护访问状态，从第一个房间进入拿钥匙加入队列，并标记访问；依次取出"
   ]
  },
  {
   "cell_type": "code",
   "execution_count": 9,
   "metadata": {},
   "outputs": [
    {
     "data": {
      "text/plain": [
       "True"
      ]
     },
     "execution_count": 9,
     "metadata": {},
     "output_type": "execute_result"
    }
   ],
   "source": [
    "def canVisitAllRooms(rooms) -> bool:\n",
    "    n = len(rooms)\n",
    "    visited = [False]*n\n",
    "    q = [key for key in rooms[0]]\n",
    "    visited[0] = True\n",
    "    res = 0\n",
    "\n",
    "    while q:\n",
    "        room_idx = q.pop(0)    # 其实用栈也可以，无顺序要求，用栈更快\n",
    "        if visited[room_idx]:\n",
    "            continue\n",
    "        else:\n",
    "            visited[room_idx] = True\n",
    "            for key in rooms[room_idx]:\n",
    "                q.append(key)\n",
    "\n",
    "    return all(visited)"
   ]
  },
  {
   "cell_type": "markdown",
   "metadata": {},
   "source": [
    "[Possible Bipartition](https://leetcode.com/problems/possible-bipartition/)。染色问题，给$N$个点，然后给出这些点的连接关系，现有两种颜色，直接相连的点不能同色。判断能否存在染色方案。\n",
    "\n",
    "思路：BFS。因为只有两种颜色，首先随便选一个点进行染色，那么与它相邻的所有点均只能染另外一种颜色。另外测试用例有这样一种情况：节点不一定全部连接在一起，即图不一定是连通的。所以最外层需要遍历所有节点，防止漏点。"
   ]
  },
  {
   "cell_type": "code",
   "execution_count": null,
   "metadata": {},
   "outputs": [],
   "source": [
    "def possibleBipartition(N: int, dislikes) -> bool:\n",
    "    adj_table = [list() for _ in range(N)]    # 邻接表\n",
    "    for node_pair in dislikes:\n",
    "        adj_table[node_pair[0]-1].append(node_pair[1]-1)\n",
    "        adj_table[node_pair[1]-1].append(node_pair[0]-1)\n",
    "\n",
    "    color_arr = [None]*N    # 染色状态数组，有三种取值None, True, False\n",
    "\n",
    "    for node in range(N):\n",
    "        if color_arr[node] is None:\n",
    "            q = [node]\n",
    "            color_arr[node] = True\n",
    "            while q:\n",
    "                vis_node = q.pop(0)\n",
    "                for neighbor in adj_table[vis_node]:\n",
    "                    if color_arr[neighbor] is not None:\n",
    "                        if color_arr[neighbor] == color_arr[vis_node]:\n",
    "                            return False\n",
    "                    else:\n",
    "                        color_arr[neighbor] = not color_arr[vis_node]\n",
    "                        q.append(neighbor)\n",
    "\n",
    "    return True"
   ]
  }
 ],
 "metadata": {
  "hide_input": false,
  "kernelspec": {
   "display_name": "Python 3",
   "language": "python",
   "name": "python3"
  },
  "language_info": {
   "codemirror_mode": {
    "name": "ipython",
    "version": 3
   },
   "file_extension": ".py",
   "mimetype": "text/x-python",
   "name": "python",
   "nbconvert_exporter": "python",
   "pygments_lexer": "ipython3",
   "version": "3.7.4"
  },
  "toc": {
   "base_numbering": 1,
   "nav_menu": {},
   "number_sections": true,
   "sideBar": true,
   "skip_h1_title": false,
   "title_cell": "Table of Contents",
   "title_sidebar": "Contents",
   "toc_cell": false,
   "toc_position": {},
   "toc_section_display": true,
   "toc_window_display": false
  }
 },
 "nbformat": 4,
 "nbformat_minor": 2
}
