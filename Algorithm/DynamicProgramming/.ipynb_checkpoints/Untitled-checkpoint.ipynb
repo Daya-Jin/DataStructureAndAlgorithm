{
 "cells": [
  {
   "cell_type": "markdown",
   "metadata": {},
   "source": [
    "[Last Stone Weight II](https://leetcode.com/problems/last-stone-weight-ii/)。一堆石头，两两碰撞，质量小的完全消失，质量大的相应抵消。问最后能剩下的石头的最小质量是多少？\n",
    "\n",
    "思路：根据石头个数的奇偶性，最后只可能剩下$0$个或$1$个石头。假设$n$个石头总质量为$sum$，题目要求个数不超过$n//2$、质量不超过$sum//2$的条件下取出石头的最大质量，即背包问题。"
   ]
  },
  {
   "cell_type": "code",
   "execution_count": null,
   "metadata": {},
   "outputs": [],
   "source": []
  },
  {
   "cell_type": "markdown",
   "metadata": {},
   "source": [
    "[Perfect Squares](https://leetcode.com/problems/perfect-squares/)。给一个数$n$，问其最少能用多少个完全平方数来求和得到。\n",
    "\n",
    "思路：从数学角度上来说，根据四平方和定理，任意正整数都可以表示成不超过$4$个完全平方数的和，但是该定理一般人都不知道。因此使用动态规划来解。令```dp[i]```表示正整数$i$可以表示成多少个完全平方数的和，首先```dp[0]=0```，令完全平方数的基数为$1$，即只考虑$1*1$，更新dp数组，然后考虑$2*2$，再更新dp数组。\n",
    "\n",
    "注：动态规划方法现在不能再通过了，全部超时。"
   ]
  },
  {
   "cell_type": "code",
   "execution_count": 30,
   "metadata": {},
   "outputs": [
    {
     "data": {
      "text/plain": [
       "1"
      ]
     },
     "execution_count": 30,
     "metadata": {},
     "output_type": "execute_result"
    }
   ],
   "source": [
    "def numSquares(n: int) -> int:\n",
    "    dp = [4]*(n+1)\n",
    "    dp[0] = 0\n",
    "\n",
    "    for i in range(n+1):\n",
    "        for base in range(1, int(n**0.5)+1):    # 完全平方数的基数\n",
    "            new_num = i+base**2\n",
    "            if new_num <= n:\n",
    "                # 从dp[i]到dp[i+base**2]只加了一个完全平方数\n",
    "                dp[new_num] = min(dp[new_num], dp[i]+1)\n",
    "\n",
    "    return dp[-1]"
   ]
  },
  {
   "cell_type": "markdown",
   "metadata": {},
   "source": [
    "[Ones and Zeroes](https://leetcode.com/problems/ones-and-zeroes/)。给定一系列只包含$0$和$1$的字串，限定$0$的个数为$m$，$1$的个数为$n$，不能重复取，问最多在字典中取出几个字串。\n",
    "\n",
    "思路：动态规划，设立一个二维dp数组，行表示$0$的数量，列表式$1$的数量。初始```dp[0][0]=0```，将$m$与$n$看做是容量，那么类似于0-1背包问题，将大问题分解成子问题，由后往前遍历(难点)，```dp[row][col]=max(dp[row-zeros][col-ones]+1, dp[row][col])```。"
   ]
  },
  {
   "cell_type": "code",
   "execution_count": 46,
   "metadata": {},
   "outputs": [
    {
     "data": {
      "text/plain": [
       "4"
      ]
     },
     "execution_count": 46,
     "metadata": {},
     "output_type": "execute_result"
    }
   ],
   "source": [
    "def findMaxForm(strs, m: int, n: int) -> int:\n",
    "    n_zeros, n_ones = m, n\n",
    "    dp = [[0 for _ in range(n_ones+1)] for _ in range(n_zeros+1)]\n",
    "\n",
    "    for s in strs:\n",
    "        zeros = len([ch for ch in s if ch == '0'])\n",
    "        ones = len([ch for ch in s if ch == '1'])\n",
    "\n",
    "        # 由后往前更新\n",
    "        for row in range(n_zeros, zeros-1, -1):\n",
    "            for col in range(n_ones, ones-1, -1):\n",
    "                dp[row][col] = max(dp[row-zeros][col-ones]+1, dp[row][col])\n",
    "\n",
    "    return dp[-1][-1]"
   ]
  },
  {
   "cell_type": "markdown",
   "metadata": {},
   "source": [
    "[Target Sum](https://leetcode.com/problems/target-sum/)。给一个长度为$n$的非负数组，以及一个目标值$S$，在数组的所有元素前选择加上```+```或```-```，使得数组和为$S$。求有多少种配置。\n",
    "\n",
    "思路：DFS方法超时，使用DP。注意每增加一个元素，都会引入两种可能：$+x$和$-x$。对于$0$个数，可能构成的和只有$1$种：$\\{0\\}$；增加一个数$x_{1}$，那么可能构成的和至多有两种：$\\{-x_{1},x_{1}\\}$；再增加一个数$x_{2}$，可能构成的和至多有$4$种：$\\{-x_{1}-x_{2},-x_{1}+x_{2},x_{1}-x_{2},x_{1}+x_{2}\\}$。\n",
    "\n",
    "题目保证原数组的和不会超过$1000$，那么考虑全部加```-```号的情况，所有可能的和范围在$[-1000,1000]$共$2001$种情况。设立二维$dp$数组，$dp[i][j]$表示使用$i$个数字构成和$j$有多少种情况。那么转态转移方程为：\n",
    "\n",
    "$$\n",
    "dp[i][j]=dp[i-1][j-nums[i]]+dp[i-1][j+nums[i]]\n",
    "$$"
   ]
  },
  {
   "cell_type": "code",
   "execution_count": 9,
   "metadata": {},
   "outputs": [
    {
     "data": {
      "text/plain": [
       "0"
      ]
     },
     "execution_count": 9,
     "metadata": {},
     "output_type": "execute_result"
    }
   ],
   "source": [
    "def findTargetSumWays(nums, S: int) -> int:\n",
    "    if not nums or abs(S) > sum(nums):\n",
    "        return 0\n",
    "\n",
    "    num_sum = sum(nums)\n",
    "    col_range = 2*num_sum+1\n",
    "    row_range = len(nums)+1\n",
    "\n",
    "    dp = [[0 for _ in range(col_range)] for _ in range(row_range)]\n",
    "    dp[0][num_sum] = 1\n",
    "\n",
    "    for i in range(1, row_range):\n",
    "        for j in range(col_range):\n",
    "            if j-nums[i-1] >= 0:\n",
    "                dp[i][j] += dp[i-1][j-nums[i-1]]\n",
    "            if j+nums[i-1] < col_range:\n",
    "                dp[i][j] += dp[i-1][j+nums[i-1]]\n",
    "\n",
    "    return dp[-1][num_sum+S]"
   ]
  },
  {
   "cell_type": "markdown",
   "metadata": {},
   "source": [
    "[Delete Operation for Two Strings](https://leetcode.com/problems/delete-operation-for-two-strings/)。给两字符串，问最少需要做多少次删除操作才能使得两字符串相等。\n",
    "\n",
    "思路：该题是求两字符串最长公共子序列的反向题目。设一个二维数组$dp$，其中$dp[i][j]$表示字串$1$的前$i$位与字串$2$的前$j$位的最长公共子序列长度，易得$dp[0][0]=0$。不难得出状态转移方程为：\n",
    "\n",
    "$$\n",
    "dp[i][j]=\n",
    "\\begin{cases}\n",
    "dp[i-1][j-1]+1 & str_{1}[i-1]==str_{2}[j-1] \\\\\n",
    "max(dp[i][j-1],dp[i-1][j]) & str_{1}[i-1]{\\ne}str_{2}[j-1] \\\\\n",
    "\\end{cases}\n",
    "$$\n",
    "\n",
    "原理是这样：若两字符串的某一位置相等，则LCS长度可以直接加一；若不相等，则需要取错位比较下的最大长度。"
   ]
  },
  {
   "cell_type": "code",
   "execution_count": 2,
   "metadata": {},
   "outputs": [
    {
     "data": {
      "text/plain": [
       "2"
      ]
     },
     "execution_count": 2,
     "metadata": {},
     "output_type": "execute_result"
    }
   ],
   "source": [
    "def minDistance(word1: str, word2: str) -> int:\n",
    "    n, m = len(word1), len(word2)\n",
    "    dp = [[0]*(m+1) for _ in range(n+1)]\n",
    "    for i in range(1, n+1):\n",
    "        for j in range(1, m+1):\n",
    "            if word1[i-1] == word2[j-1]:\n",
    "                dp[i][j] = dp[i-1][j-1]+1\n",
    "            else:\n",
    "                dp[i][j] = max(dp[i-1][j], dp[i][j-1])\n",
    "\n",
    "    return m+n-2*dp[-1][-1]"
   ]
  },
  {
   "cell_type": "markdown",
   "metadata": {},
   "source": [
    "[Longest Palindromic Subsequence](https://leetcode.com/problems/longest-palindromic-subsequence/)。给一字符串，求其最长回文子序列。\n",
    "\n",
    "思路：找回文的方法就是从中心往两边扩展。因为子序列不要求连续，所以使用dp的方法来解。设一个二维数组$dp$，其中$dp[i][j]$表示$[i,j]$区间内的最长回文子序列的长度，那么易得有$0\\le{i\\le{j}}$，所以只使用dp数组的上三角。扩展即可得到状态转移方程：\n",
    "\n",
    "$$\n",
    "dp[i][j]=\n",
    "\\begin{cases}\n",
    "dp[i+1][j-1]+2 & s[i]=s[j] \\\\\n",
    "max(dp[i+1][j],dp[i][j-1]) & s[i]\\ne{s[j]} \\\\\n",
    "\\end{cases}\n",
    "$$\n",
    "\n",
    "注意最后返回的答案是$dp[0][-1]$，并且填充dp数组时由下往上填充。"
   ]
  },
  {
   "cell_type": "code",
   "execution_count": 1,
   "metadata": {},
   "outputs": [
    {
     "data": {
      "text/plain": [
       "4"
      ]
     },
     "execution_count": 1,
     "metadata": {},
     "output_type": "execute_result"
    }
   ],
   "source": [
    "def longestPalindromeSubseq(s: str) -> int:\n",
    "    n = len(s)\n",
    "    if n < 2:\n",
    "        return n\n",
    "\n",
    "    dp = [[0]*n for _ in range(n)]\n",
    "    for i in range(n-1, -1, -1):\n",
    "        dp[i][i] = 1    # 单字符为1\n",
    "        for j in range(i+1, n):\n",
    "            if s[i] == s[j]:\n",
    "                dp[i][j] = dp[i+1][j-1]+2\n",
    "            else:\n",
    "                dp[i][j] = max(dp[i+1][j], dp[i][j-1])\n",
    "\n",
    "    return dp[0][-1]"
   ]
  }
 ],
 "metadata": {
  "hide_input": false,
  "kernelspec": {
   "display_name": "Python 3",
   "language": "python",
   "name": "python3"
  },
  "language_info": {
   "codemirror_mode": {
    "name": "ipython",
    "version": 3
   },
   "file_extension": ".py",
   "mimetype": "text/x-python",
   "name": "python",
   "nbconvert_exporter": "python",
   "pygments_lexer": "ipython3",
   "version": "3.7.4"
  },
  "toc": {
   "base_numbering": 1,
   "nav_menu": {},
   "number_sections": true,
   "sideBar": true,
   "skip_h1_title": false,
   "title_cell": "Table of Contents",
   "title_sidebar": "Contents",
   "toc_cell": false,
   "toc_position": {},
   "toc_section_display": true,
   "toc_window_display": false
  }
 },
 "nbformat": 4,
 "nbformat_minor": 2
}
