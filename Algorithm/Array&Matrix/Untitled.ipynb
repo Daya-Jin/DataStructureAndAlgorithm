{
 "cells": [
  {
   "cell_type": "markdown",
   "metadata": {},
   "source": [
    "[Spiral Matrix](https://leetcode.com/problems/spiral-matrix/)。顺时针螺旋输出矩阵元素。\n",
    "\n",
    "思路：将一个螺旋看成是一次跑圈，每一次跑圈至少会减少两行两列，所以能够跑的条件是起点的坐标小于等于行列数的一半。而每一圈又可以分为四个部分：向右、向下、向左、向上，每做完一步需要判断下一步的可行性。"
   ]
  },
  {
   "cell_type": "code",
   "execution_count": null,
   "metadata": {},
   "outputs": [],
   "source": [
    "def spiralOrder(matrix):\n",
    "    if not matrix:\n",
    "        return matrix\n",
    "\n",
    "    rows, cols = len(matrix), len(matrix[0])\n",
    "    epoch = 0    # epoch同时代表了start_row与start_col\n",
    "    res = list()\n",
    "\n",
    "    while 2*epoch < rows and 2*epoch < cols:\n",
    "        # 边界\n",
    "        end_row = rows-1-epoch\n",
    "        end_col = cols-1-epoch\n",
    "\n",
    "        # 向右\n",
    "        for col in range(epoch, end_col+1):\n",
    "            res.append(matrix[epoch][col])\n",
    "\n",
    "        # 向下\n",
    "        if epoch < end_row:\n",
    "            for row in range(epoch+1, end_row+1):\n",
    "                res.append(matrix[row][end_col])\n",
    "\n",
    "            # 向左\n",
    "            if epoch < end_col:\n",
    "                for col in range(end_col-1, epoch-1, -1):\n",
    "                    res.append(matrix[end_row][col])\n",
    "\n",
    "                # 向上\n",
    "                if epoch < end_row-1:\n",
    "                    for row in range(end_row-1, epoch, -1):\n",
    "                        res.append(matrix[row][epoch])\n",
    "        epoch += 1\n",
    "\n",
    "    return res"
   ]
  },
  {
   "cell_type": "markdown",
   "metadata": {},
   "source": [
    "[Spiral Matrix II](https://leetcode.com/problems/spiral-matrix-ii/)。限定方阵的尺寸$n$，使用自然数螺旋填充该方阵。\n",
    "\n",
    "思路：同Spiral Matrix，每个epoch可分解为四步：向右、向下、向左、向上。"
   ]
  },
  {
   "cell_type": "code",
   "execution_count": 27,
   "metadata": {},
   "outputs": [
    {
     "data": {
      "text/plain": [
       "[[1, 2, 3], [8, 9, 4], [7, 6, 5]]"
      ]
     },
     "execution_count": 27,
     "metadata": {},
     "output_type": "execute_result"
    }
   ],
   "source": [
    "def generateMatrix(n: int):\n",
    "    limits = (n+1)//2\n",
    "    num = 1\n",
    "    mat = [[0 for _ in range(n)] for _ in range(n)]\n",
    "\n",
    "    for epoch in range(limits):\n",
    "        x = y = epoch    # 起点坐标\n",
    "\n",
    "        # 向右\n",
    "        for col in range(x, n-x):\n",
    "            mat[x][col] = num\n",
    "            num += 1\n",
    "\n",
    "        if y < n-y-1:\n",
    "            # 向下\n",
    "            for row in range(y+1, n-y):\n",
    "                mat[row][n-y-1] = num\n",
    "                num += 1\n",
    "\n",
    "            if x < n-x-1:\n",
    "                # 向左\n",
    "                for col in range(n-x-2, x-1, -1):\n",
    "                    mat[n-x-1][col] = num\n",
    "                    num += 1\n",
    "\n",
    "                if x+1 < n-x-1:\n",
    "                    for row in range(n-x-2, x, -1):\n",
    "                        mat[row][y] = num\n",
    "                        num += 1\n",
    "\n",
    "    return mat\n",
    "\n",
    "\n",
    "generateMatrix(3)"
   ]
  },
  {
   "cell_type": "markdown",
   "metadata": {},
   "source": [
    "[Delete Columns to Make Sorted II](https://leetcode.com/problems/delete-columns-to-make-sorted-ii/)。给定一个字串的列表，将其看做是字符矩阵，要求删除某几列，使得每一行的字串由上往下是非递减的。\n",
    "\n",
    "思路：暴力解法，由上往下遍逐行遍历每两个字串的每一位，当出现递减时说明需要删掉该列。主要需要注意这种情况：```['az','by']```，虽然```z>y```，但是```az<by```，说明比较是有优先级的。需要一直比较的只有两种情况：该列需要删除或者相等。"
   ]
  },
  {
   "cell_type": "code",
   "execution_count": 9,
   "metadata": {},
   "outputs": [
    {
     "data": {
      "text/plain": [
       "0"
      ]
     },
     "execution_count": 9,
     "metadata": {},
     "output_type": "execute_result"
    }
   ],
   "source": [
    "def minDeletionSize(A) -> int:\n",
    "    res_cols = set()\n",
    "    if not A or not A[0] or len(A) == 1:\n",
    "        return 0\n",
    "\n",
    "    rows, cols = len(A), len(A[0])\n",
    "    row = 1\n",
    "    while row < len(A):\n",
    "        for col in range(cols):\n",
    "            if col in res_cols or A[row-1][col] == A[row][col]:\n",
    "                continue\n",
    "            elif A[row-1][col] > A[row][col]:    # 不满足条件\n",
    "                res_cols.add(col)\n",
    "                row = 0    # 重新开始比\n",
    "            break    # 高位满足条件就不用比了，下一行\n",
    "\n",
    "        row += 1\n",
    "    return len(res_cols)"
   ]
  },
  {
   "cell_type": "markdown",
   "metadata": {},
   "source": [
    "[3Sum](https://leetcode.com/problems/3sum/)。给定一数组，求所有三个数之和为零的配置。\n",
    "\n",
    "思路：首先对数组排序，固定一个首元素，然后使用首尾双指针的方法来寻找另外两个元素。难点其实在于跳过重复的配置，首先是首元素，若首元素跟上一轮的相图，那么需要跳过；其次是二三元素，每当找到一个合法答案，双指针互相靠拢，如果双指针指向的数字跟上一轮一样，同样需要跳过。"
   ]
  },
  {
   "cell_type": "code",
   "execution_count": 9,
   "metadata": {},
   "outputs": [
    {
     "data": {
      "text/plain": [
       "[[-1, -1, 2], [-1, 0, 1]]"
      ]
     },
     "execution_count": 9,
     "metadata": {},
     "output_type": "execute_result"
    }
   ],
   "source": [
    "def threeSum(nums):\n",
    "    n = len(nums)\n",
    "    nums.sort()\n",
    "    res = list()\n",
    "\n",
    "    for idx in range(n-2):    # 首元素\n",
    "        if nums[idx] > 0:\n",
    "            continue\n",
    "        if idx > 0 and nums[idx] == nums[idx-1]:    # 跳过重复首元素\n",
    "            continue\n",
    "\n",
    "        left, right = idx+1, n-1\n",
    "        while left < right:\n",
    "            cur_sum = nums[idx]+nums[left]+nums[right]\n",
    "            if cur_sum == 0:\n",
    "                res.append([nums[idx], nums[left], nums[right]])\n",
    "                left += 1\n",
    "                right -= 1\n",
    "                # 跳过重复的二三元素\n",
    "                while left < right and nums[left] == nums[left-1]:\n",
    "                    left += 1\n",
    "                while left < right and nums[right] == nums[right+1]:\n",
    "                    right -= 1\n",
    "            elif cur_sum > 0:\n",
    "                right -= 1\n",
    "            else:\n",
    "                left += 1\n",
    "                \n",
    "    return res"
   ]
  },
  {
   "cell_type": "markdown",
   "metadata": {},
   "source": [
    "[3Sum Closest](https://leetcode.com/problems/3sum-closest/)。给定一数组与一目标值，求数组中三个数之和最接近目标值的配置。\n",
    "\n",
    "思路：类似上题，排序，固定首元素，使用双指针去寻找另外两个数字。每次需要计算当前和与目标值的距离，保存最小的。"
   ]
  },
  {
   "cell_type": "code",
   "execution_count": 19,
   "metadata": {},
   "outputs": [
    {
     "data": {
      "text/plain": [
       "2"
      ]
     },
     "execution_count": 19,
     "metadata": {},
     "output_type": "execute_result"
    }
   ],
   "source": [
    "def threeSumClosest(nums, target: int) -> int:\n",
    "    diff = 0x7FFFFFFF\n",
    "    nums.sort()\n",
    "    n = len(nums)\n",
    "    res = None\n",
    "\n",
    "    for idx in range(n-2):\n",
    "        left, right = idx+1, n-1\n",
    "        while left < right:\n",
    "            cur_sum = nums[idx]+nums[left]+nums[right]\n",
    "            cur_dist = abs(cur_sum-target)\n",
    "            if cur_dist < diff:\n",
    "                diff = cur_dist\n",
    "                res = cur_sum\n",
    "            if cur_sum < target:\n",
    "                left += 1\n",
    "            else:\n",
    "                right -= 1\n",
    "\n",
    "    return res"
   ]
  },
  {
   "cell_type": "markdown",
   "metadata": {},
   "source": [
    "[Pascal's Triangle](https://leetcode.com/problems/pascals-triangle/)。构建Pascal(杨辉)三角。\n",
    "\n",
    "思路：每行的元素数等于行标号，除了边界元素为$1$，其他元素全由上行相加得出。"
   ]
  },
  {
   "cell_type": "code",
   "execution_count": 30,
   "metadata": {},
   "outputs": [
    {
     "data": {
      "text/plain": [
       "[[1], [1, 1], [1, 2, 1], [1, 3, 3, 1], [1, 4, 6, 4, 1]]"
      ]
     },
     "execution_count": 30,
     "metadata": {},
     "output_type": "execute_result"
    }
   ],
   "source": [
    "def generate(numRows: int):\n",
    "    res = list()\n",
    "    for row_idx in range(1, numRows+1):\n",
    "        cur_row = [1 for _ in range(row_idx)]\n",
    "        for col_idx in range(1, row_idx-1):\n",
    "            cur_row[col_idx] = res[-1][col_idx-1]+res[-1][col_idx]\n",
    "        res.append(cur_row)\n",
    "\n",
    "    return res"
   ]
  },
  {
   "cell_type": "markdown",
   "metadata": {},
   "source": [
    "[Pascal's Triangle II](https://leetcode.com/problems/pascals-triangle-ii/)。给一行索引，返回杨辉三角的特定一行，行索引从$0$开始。\n",
    "\n",
    "思路：类似动态规划，只保存上一行即可。"
   ]
  },
  {
   "cell_type": "code",
   "execution_count": 38,
   "metadata": {},
   "outputs": [
    {
     "data": {
      "text/plain": [
       "[1]"
      ]
     },
     "execution_count": 38,
     "metadata": {},
     "output_type": "execute_result"
    }
   ],
   "source": [
    "def getRow(rowIndex: int):\n",
    "    last_row = list()\n",
    "    rowIndex += 1\n",
    "    for row_idx in range(1, rowIndex+1):\n",
    "        cur_row = [1 for _ in range(row_idx)]\n",
    "        for col_idx in range(1, row_idx-1):\n",
    "            cur_row[col_idx] = last_row[col_idx-1]+last_row[col_idx]\n",
    "        last_row = cur_row\n",
    "    return last_row"
   ]
  },
  {
   "cell_type": "markdown",
   "metadata": {},
   "source": [
    "[Summary Ranges](https://leetcode.com/problems/summary-ranges/)。给一有序数组，整理该数组的连续区间。\n",
    "\n",
    "思路：双指针法。难点在于最后一段需要单独处理。"
   ]
  },
  {
   "cell_type": "code",
   "execution_count": 3,
   "metadata": {},
   "outputs": [
    {
     "data": {
      "text/plain": [
       "['0', '2->4', '6', '8->9']"
      ]
     },
     "execution_count": 3,
     "metadata": {},
     "output_type": "execute_result"
    }
   ],
   "source": [
    "def summaryRanges(nums):\n",
    "    start = end = 0\n",
    "    res = list()\n",
    "    if not nums:\n",
    "        return res\n",
    "\n",
    "    while end+1 < len(nums):\n",
    "        if nums[end]+1 == nums[end+1]:\n",
    "            end += 1\n",
    "        else:\n",
    "            if start == end:\n",
    "                res.append(str(nums[start]))\n",
    "                start += 1\n",
    "                end += 1\n",
    "            else:\n",
    "                res.append('{}->{}'.format(nums[start], nums[end]))\n",
    "                start = end+1\n",
    "                end = start\n",
    "\n",
    "    # 最后一段单独处理\n",
    "    if start == end:\n",
    "        res.append(str(nums[start]))\n",
    "    else:\n",
    "        res.append('{}->{}'.format(nums[start], nums[end]))\n",
    "\n",
    "    return res"
   ]
  },
  {
   "cell_type": "markdown",
   "metadata": {},
   "source": [
    "[Third Maximum Number](https://leetcode.com/problems/third-maximum-number/)。给一非空数组，找到数组中第三大的数，如有重复值则忽略，不存在则返回最大值。\n",
    "\n",
    "思路：$32$位整形最小值是$-0x80000000$，维护一个最大三值的列表，初始值设为$-0x80000001$。注意跳过重复值。"
   ]
  },
  {
   "cell_type": "code",
   "execution_count": 13,
   "metadata": {},
   "outputs": [
    {
     "data": {
      "text/plain": [
       "2"
      ]
     },
     "execution_count": 13,
     "metadata": {},
     "output_type": "execute_result"
    }
   ],
   "source": [
    "def thirdMax(nums) -> int:\n",
    "    res = [-0x80000001, -0x80000001, -0x80000001]\n",
    "    for num in nums:\n",
    "        if num > res[0] and num not in res:\n",
    "            res[0], res[1], res[2] = num, res[0], res[1]\n",
    "        elif num > res[1] and num not in res:\n",
    "            res[1], res[2] = num, res[1]\n",
    "        elif num > res[2] and num not in res:\n",
    "            res[2] = num\n",
    "\n",
    "    return res[2] if res[2] > -0x80000001 else res[0]"
   ]
  },
  {
   "cell_type": "code",
   "execution_count": null,
   "metadata": {},
   "outputs": [],
   "source": []
  }
 ],
 "metadata": {
  "hide_input": false,
  "kernelspec": {
   "display_name": "Python 3",
   "language": "python",
   "name": "python3"
  },
  "language_info": {
   "codemirror_mode": {
    "name": "ipython",
    "version": 3
   },
   "file_extension": ".py",
   "mimetype": "text/x-python",
   "name": "python",
   "nbconvert_exporter": "python",
   "pygments_lexer": "ipython3",
   "version": "3.6.6"
  },
  "toc": {
   "base_numbering": 1,
   "nav_menu": {},
   "number_sections": true,
   "sideBar": true,
   "skip_h1_title": false,
   "title_cell": "Table of Contents",
   "title_sidebar": "Contents",
   "toc_cell": false,
   "toc_position": {},
   "toc_section_display": true,
   "toc_window_display": false
  }
 },
 "nbformat": 4,
 "nbformat_minor": 2
}
