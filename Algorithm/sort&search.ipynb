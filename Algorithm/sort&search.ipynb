{
 "cells": [
  {
   "cell_type": "markdown",
   "metadata": {},
   "source": [
    "Reorder Log Files. 给定一系列日志文件，日志首元素为字母+数字的组合，后跟日志内容，按日志内容可将日志分为两种：字母日志跟数字日志。重拍日志文件，使得字母日志在数字日志之前，并且保证字母日志之间按日志内容的字母顺序排列，而数字日志之间则保持其原来的相对顺序。"
   ]
  },
  {
   "cell_type": "code",
   "execution_count": 16,
   "metadata": {},
   "outputs": [],
   "source": [
    "# 思路：最简单的，扫描一遍日志文件，将日志文件分成两类并存储起来\n",
    "# 对字母日志进行排序，然后把数字日志拼接到后面\n",
    "\n",
    "\n",
    "def reorderLogFiles(logs):\n",
    "    # 划分\n",
    "    str_log = [log for log in logs if not log.split()[1].isdigit()]\n",
    "    num_log = [log for log in logs if log.split()[1].isdigit()]\n",
    "\n",
    "    # 以首元素之后的日志内容为key来排序\n",
    "    orderd_str_log = sorted(str_log, key=lambda x: ' '.join(x.split()[1:]))\n",
    "    return orderd_str_log+num_log"
   ]
  },
  {
   "cell_type": "markdown",
   "metadata": {},
   "source": [
    "[Sort Colors](https://leetcode.com/problems/sort-colors/)。数组中有三种数字代表三种颜色，排序。"
   ]
  },
  {
   "cell_type": "code",
   "execution_count": 7,
   "metadata": {},
   "outputs": [
    {
     "data": {
      "text/plain": [
       "[0, 0, 1, 1, 2, 2]"
      ]
     },
     "execution_count": 7,
     "metadata": {},
     "output_type": "execute_result"
    }
   ],
   "source": [
    "# 思路：设立三个指针，分割颜色的左右指针还有一个工作指针\n",
    "# 如果遇到0就交换到左边，如果遇到2就交换到右边\n",
    "# left指向第一个1，right指向最后一个非二\n",
    "# 从左边交换过来的值只可能是1，但从右边交换过来的值可能是0和1\n",
    "# 所以在对右边做交换时需要再判断\n",
    "\n",
    "\n",
    "def sortColors(nums) -> None:\n",
    "    left, right = 0, len(nums)-1\n",
    "    i = 0\n",
    "    while i <= right:\n",
    "        if nums[i] == 0:    # 0交换到左边\n",
    "            nums[i], nums[left] = nums[left], nums[i]\n",
    "            left += 1\n",
    "            i += 1\n",
    "        elif nums[i] == 1:\n",
    "            i += 1\n",
    "        else:\n",
    "            nums[i], nums[right] = nums[right], nums[i]\n",
    "            right -= 1\n",
    "    return nums"
   ]
  },
  {
   "cell_type": "markdown",
   "metadata": {},
   "source": [
    "[Wiggle Sort II](https://leetcode.com/problems/wiggle-sort-ii/)。对数组排序，使得排序后的数组严格满足(小大小大...)的大小关系。"
   ]
  },
  {
   "cell_type": "code",
   "execution_count": 20,
   "metadata": {},
   "outputs": [
    {
     "name": "stdout",
     "output_type": "stream",
     "text": [
      "[3, 1, 2]\n"
     ]
    }
   ],
   "source": [
    "# 思路：此题难点在于数组要满足一个严格的大小关系，所以再在重复数字的情况下\n",
    "# 需要实现能将重复数字打散的方法\n",
    "# 先排序数组，然后找到一个中位数\n",
    "# 返回列表的第一个值放中位数，第二个值放最大数\n",
    "# 第三个位置放中位数左边的值，第四个位置放第二大的数\n",
    "# 还有一个难点在于奇偶数\n",
    "\n",
    "\n",
    "def wiggleSort(nums) -> None:\n",
    "    nums.sort(reverse=True)    # 倒序排序就免去了奇偶性判断\n",
    "    nums[::2], nums[1::2] = nums[len(nums)//2:], nums[:len(nums)//2]"
   ]
  }
 ],
 "metadata": {
  "hide_input": false,
  "kernelspec": {
   "display_name": "Python 3",
   "language": "python",
   "name": "python3"
  },
  "language_info": {
   "codemirror_mode": {
    "name": "ipython",
    "version": 3
   },
   "file_extension": ".py",
   "mimetype": "text/x-python",
   "name": "python",
   "nbconvert_exporter": "python",
   "pygments_lexer": "ipython3",
   "version": "3.7.4"
  },
  "toc": {
   "base_numbering": 1,
   "nav_menu": {},
   "number_sections": true,
   "sideBar": true,
   "skip_h1_title": false,
   "title_cell": "Table of Contents",
   "title_sidebar": "Contents",
   "toc_cell": false,
   "toc_position": {},
   "toc_section_display": true,
   "toc_window_display": false
  }
 },
 "nbformat": 4,
 "nbformat_minor": 2
}
