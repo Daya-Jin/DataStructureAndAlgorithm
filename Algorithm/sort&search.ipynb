{
 "cells": [
  {
   "cell_type": "markdown",
   "metadata": {},
   "source": [
    "Arranging Coins. 用n个硬币铺台阶，第i级台阶必须放满i个硬币，求n个硬币能铺满几级台阶。"
   ]
  },
  {
   "cell_type": "code",
   "execution_count": 13,
   "metadata": {},
   "outputs": [],
   "source": [
    "# 思路：二分查找，找到(1+i)*i/2<=n的最大的i\n",
    "\n",
    "\n",
    "def arrangeCoins(n):\n",
    "    start = 0\n",
    "    end = n\n",
    "\n",
    "    while start <= end:\n",
    "        step = (start+end)//2    # 阶梯数\n",
    "        need_coins = (1+step)*step/2    # i级阶梯需要的硬币数\n",
    "\n",
    "        if need_coins <= n:\n",
    "            start = step+1\n",
    "        else:\n",
    "            end = step-1\n",
    "\n",
    "    return start-1"
   ]
  },
  {
   "cell_type": "markdown",
   "metadata": {},
   "source": [
    "N-Repeated Element in Size 2N Array. 在长度为2N的数组中查找重复次数为N的元素，该数组有且仅有一个元素重复。"
   ]
  },
  {
   "cell_type": "code",
   "execution_count": 14,
   "metadata": {},
   "outputs": [],
   "source": [
    "# 思路：注意到题目中一个重要条件！有且只有一个元素重复，且重复次数较多，可使用随机大法！\n",
    "\n",
    "\n",
    "def repeatedNTimes(A):\n",
    "    import random\n",
    "    while True:\n",
    "        random_two = random.sample(A, 2)\n",
    "        if random_two[0] == random_two[1]:\n",
    "            return random_two[0]"
   ]
  },
  {
   "cell_type": "markdown",
   "metadata": {},
   "source": [
    "Squares of a Sorted Array. 对排序数组中的元素进行平方，返回排序数组。原数组是按非减排序的。"
   ]
  },
  {
   "cell_type": "code",
   "execution_count": 15,
   "metadata": {},
   "outputs": [],
   "source": [
    "# 思路：此题的隐含条件为负数，负数的存在会导致直接平方的乱序\n",
    "# 逆向思考，从原数组两端(最大的)值开始做平方运算，设立双指针，比较绝对值\n",
    "# 优化：填充位置的指针可使用r_idx-l_idx来替代\n",
    "\n",
    "\n",
    "def sortedSquares(A):\n",
    "    if len(A) == 1:\n",
    "        return [A[0]*A[0]]\n",
    "\n",
    "    res = [0]*len(A)\n",
    "    l_idx, r_idx = 0, len(A)-1\n",
    "\n",
    "    while l_idx <= r_idx:\n",
    "        l_val, r_val = A[l_idx], A[r_idx]\n",
    "\n",
    "        if abs(l_val) > abs(r_val):\n",
    "            res[r_idx-l_idx] = l_val**2\n",
    "            l_idx += 1\n",
    "        else:\n",
    "            res[r_idx-l_idx] = r_val**2\n",
    "            r_idx -= 1\n",
    "\n",
    "    return res"
   ]
  },
  {
   "cell_type": "markdown",
   "metadata": {},
   "source": [
    "Reorder Log Files. 给定一系列日志文件，日志首元素为字母+数字的组合，后跟日志内容，按日志内容可将日志分为两种：字母日志跟数字日志。重拍日志文件，使得字母日志在数字日志之前，并且保证字母日志之间按日志内容的字母顺序排列，而数字日志之间则保持其原来的相对顺序。"
   ]
  },
  {
   "cell_type": "code",
   "execution_count": 16,
   "metadata": {},
   "outputs": [],
   "source": [
    "# 思路：最简单的，扫描一遍日志文件，将日志文件分成两类并存储起来\n",
    "# 对字母日志进行排序，然后把数字日志拼接到后面\n",
    "\n",
    "\n",
    "def reorderLogFiles(logs):\n",
    "    # 划分\n",
    "    str_log = [log for log in logs if not log.split()[1].isdigit()]\n",
    "    num_log = [log for log in logs if log.split()[1].isdigit()]\n",
    "\n",
    "    # 以首元素之后的日志内容为key来排序\n",
    "    orderd_str_log = sorted(str_log, key=lambda x: ' '.join(x.split()[1:]))\n",
    "    return orderd_str_log+num_log"
   ]
  },
  {
   "cell_type": "markdown",
   "metadata": {},
   "source": [
    "Merge Sorted Array. 合并两有序数组，其中一有序数组有富余空间。"
   ]
  },
  {
   "cell_type": "code",
   "execution_count": 17,
   "metadata": {},
   "outputs": [],
   "source": [
    "# 思路：此题不同于传统的合并有序数组，而是给了富余空间，明显示意需要利用这些富余空间\n",
    "# 从末尾开始填充，维护三个指针，两个尾指针，一个写入指针\n",
    "\n",
    "\n",
    "def merge(nums1, m, nums2, n):\n",
    "    # 从m，n开始计数，注意要减一以及边界的判断，范围为[1,m]和[1,n]\n",
    "    while m > 0 and n > 0:\n",
    "        if nums1[m-1] > nums2[n-1]:\n",
    "            nums1[m+n-1] = nums1[m-1]\n",
    "            m -= 1\n",
    "        else:\n",
    "            nums1[m+n-1] = nums2[n-1]\n",
    "            n -= 1\n",
    "\n",
    "#     if m>0:\n",
    "#         nums1[:m]=nums1[:m]\n",
    "    if n > 0:\n",
    "        nums1[:n] = nums2[:n]"
   ]
  },
  {
   "cell_type": "markdown",
   "metadata": {},
   "source": [
    "贪吃的小Q。父母出差，留下若干块巧克力，小Q需要每天吃巧克力，并且每天的量不少与前一天的一半，求小Q第一天最多能吃几块巧克力。"
   ]
  },
  {
   "cell_type": "code",
   "execution_count": 53,
   "metadata": {},
   "outputs": [
    {
     "name": "stdout",
     "output_type": "stream",
     "text": [
      "144\n",
      "25004\n"
     ]
    }
   ],
   "source": [
    "# 思路：最开始题目没看清，以为可以用等比数列计算，但思路是错的\n",
    "# 假设第一天吃k个巧克力，则第二天至少要吃(k+1//2块)，n天需要的最低巧克力只能暴力求和\n",
    "# 至于k的求解，在[1,n]之间使用二分搜索，注意边界条件\n",
    "\n",
    "\n",
    "def solution(day, num_choc):\n",
    "    if day < 2:\n",
    "        return num_choc\n",
    "\n",
    "    def total_choc(day, start):\n",
    "        need = 0\n",
    "        for _ in range(day):\n",
    "            need += start\n",
    "            start = (start+1)//2\n",
    "        return need\n",
    "\n",
    "    start, end = 0, num_choc\n",
    "    while start < end:\n",
    "        mid = (start+end)//2    # 整除，mid会偏左，当s与e相邻时m==s\n",
    "        if total_choc(day, mid) == num_choc:\n",
    "            return mid\n",
    "        elif total_choc(day, mid) < num_choc:\n",
    "            start = mid+1    #\n",
    "        else:\n",
    "            end = mid    # s,e相邻时，m指向s，移动e\n",
    "\n",
    "    return start-1"
   ]
  },
  {
   "cell_type": "markdown",
   "metadata": {},
   "source": [
    "[纸牌游戏](https://www.nowcoder.com/questionTerminal/ebec6fac8a834bf7aed2d5da7c8aa432?orderByHotValue=1&page=1&onlyReference=false)，两人按最优策略轮流抽牌，求最终两人牌面值的差。"
   ]
  },
  {
   "cell_type": "code",
   "execution_count": 60,
   "metadata": {},
   "outputs": [
    {
     "data": {
      "text/plain": [
       "5"
      ]
     },
     "execution_count": 60,
     "metadata": {},
     "output_type": "execute_result"
    }
   ],
   "source": [
    "# 思路：排序，加上偶数位，减去奇数位\n",
    "\n",
    "def solution(nums):\n",
    "    nums.sort(reverse=True)\n",
    "\n",
    "    diff = 0\n",
    "    for idx in range(len(nums)):\n",
    "        diff += nums[idx] if idx % 2 == 0 else -nums[idx]\n",
    "\n",
    "    return diff"
   ]
  },
  {
   "cell_type": "markdown",
   "metadata": {},
   "source": [
    "[Monotonic Array](https://leetcode.com/problems/monotonic-array/). 判断数组是否单调。"
   ]
  },
  {
   "cell_type": "code",
   "execution_count": 9,
   "metadata": {},
   "outputs": [
    {
     "data": {
      "text/plain": [
       "True"
      ]
     },
     "execution_count": 9,
     "metadata": {},
     "output_type": "execute_result"
    }
   ],
   "source": [
    "# 思路：扫描数组，记录出现过的单调性\n",
    "# 如果同时出现两种单调性则返回False\n",
    "\n",
    "def isMonotonic(A):\n",
    "    if len(A)<3:\n",
    "        return True\n",
    "    \n",
    "    ge=le=False\n",
    "    for idx in range(len(A)-1):\n",
    "        if A[idx]<A[idx+1]:\n",
    "            ge=True\n",
    "        if A[idx]>A[idx+1]:\n",
    "            le=True\n",
    "            \n",
    "        if ge and le:\n",
    "            return False\n",
    "        \n",
    "    return True"
   ]
  },
  {
   "cell_type": "markdown",
   "metadata": {},
   "source": [
    "[DI String Match](https://leetcode.com/problems/di-string-match/). 一字符串只含'I'与'D'，要求给出一个连续自然数填充的数组，'I'表示increase，当前位置小于后一位置，'D'表示decrease，当前位置大于后一位置。"
   ]
  },
  {
   "cell_type": "code",
   "execution_count": 10,
   "metadata": {},
   "outputs": [
    {
     "data": {
      "text/plain": [
       "[0, 4, 1, 3, 2]"
      ]
     },
     "execution_count": 10,
     "metadata": {},
     "output_type": "execute_result"
    }
   ],
   "source": [
    "# 思路：字符串对应一个len(s)+1的数组，扫描字符串并实时填充数组\n",
    "# 当遇到I时，填一个最小值，当遇到'D'时，填一个最大值\n",
    "\n",
    "def diStringMatch(S):\n",
    "    min_num,max_num=0,len(S)\n",
    "    res=[0]*(len(S)+1)\n",
    "    \n",
    "    for idx,ch in enumerate(S):\n",
    "        if ch=='I':\n",
    "            res[idx]=min_num\n",
    "            min_num+=1\n",
    "        else:\n",
    "            res[idx]=max_num\n",
    "            max_num-=1\n",
    "            \n",
    "    res[-1]=max_num\n",
    "    return res"
   ]
  },
  {
   "cell_type": "markdown",
   "metadata": {},
   "source": [
    "[Move Zeroes](https://leetcode.com/problems/move-zeroes/). 给定一数组，将所有的零移到数组尾部，保持非零元素的相对顺序。"
   ]
  },
  {
   "cell_type": "code",
   "execution_count": null,
   "metadata": {},
   "outputs": [],
   "source": [
    "# 思路：将题目反过来看，把所有非零元素移到数组头部并保持相对顺序\n",
    "# 双指针，一个扫描指针，一个非零元素的末尾指针\n",
    "\n",
    "\n",
    "def moveZeroes(nums) -> None:\n",
    "    if len(nums) < 2:\n",
    "        return None\n",
    "\n",
    "    non_zero_tail = 0\n",
    "    for idx, num in enumerate(nums):\n",
    "        if num != 0:\n",
    "            nums[non_zero_tail], nums[idx] = nums[idx], nums[non_zero_tail]\n",
    "            non_zero_tail += 1"
   ]
  },
  {
   "cell_type": "markdown",
   "metadata": {},
   "source": [
    "[Kth Smallest Element in a Sorted Matrix](https://leetcode.com/problems/kth-smallest-element-in-a-sorted-matrix/)。一矩阵中的元素每行每列都满足升序排列，找出第k小的数。"
   ]
  },
  {
   "cell_type": "code",
   "execution_count": 6,
   "metadata": {},
   "outputs": [
    {
     "data": {
      "text/plain": [
       "13"
      ]
     },
     "execution_count": 6,
     "metadata": {},
     "output_type": "execute_result"
    }
   ],
   "source": [
    "# 思路：二分查找，左上角最小，右下角最大\n",
    "# 在矩阵中查找小于中值的元素个数有个技巧：从左下角开始搜索\n",
    "\n",
    "\n",
    "def kthSmallest(matrix, k: int) -> int:\n",
    "    left, right = matrix[0][0], matrix[-1][-1]\n",
    "\n",
    "    def func(mid):    # 统计矩阵中小于等于mid的元素个数\n",
    "        row, col = len(matrix)-1, 0    # 从左下角开始找\n",
    "        res = 0    # 小于mid的个数\n",
    "        while row >= 0 and col < len(matrix):\n",
    "            if matrix[row][col] <= mid:\n",
    "                res += row+1\n",
    "                col += 1\n",
    "            else:\n",
    "                row -= 1\n",
    "        return res\n",
    "\n",
    "    while left < right:\n",
    "        mid = (left+right)//2\n",
    "        cnt = func(mid)    # 统计矩阵中小于等于mid的元素个数\n",
    "        if cnt < k:\n",
    "            left = mid+1\n",
    "        else:\n",
    "            right = mid\n",
    "    return left"
   ]
  },
  {
   "cell_type": "markdown",
   "metadata": {},
   "source": [
    "[Sort Colors](https://leetcode.com/problems/sort-colors/)。数组中有三种数字代表三种颜色，排序。"
   ]
  },
  {
   "cell_type": "code",
   "execution_count": 7,
   "metadata": {},
   "outputs": [
    {
     "data": {
      "text/plain": [
       "[0, 0, 1, 1, 2, 2]"
      ]
     },
     "execution_count": 7,
     "metadata": {},
     "output_type": "execute_result"
    }
   ],
   "source": [
    "# 思路：设立三个指针，分割颜色的左右指针还有一个工作指针\n",
    "# 如果遇到0就交换到左边，如果遇到2就交换到右边\n",
    "# left指向第一个1，right指向最后一个非二\n",
    "# 从左边交换过来的值只可能是1，但从右边交换过来的值可能是0和1\n",
    "# 所以在对右边做交换时需要再判断\n",
    "\n",
    "\n",
    "def sortColors(nums) -> None:\n",
    "    left, right = 0, len(nums)-1\n",
    "    i = 0\n",
    "    while i <= right:\n",
    "        if nums[i] == 0:    # 0交换到左边\n",
    "            nums[i], nums[left] = nums[left], nums[i]\n",
    "            left += 1\n",
    "            i += 1\n",
    "        elif nums[i] == 1:\n",
    "            i += 1\n",
    "        else:\n",
    "            nums[i], nums[right] = nums[right], nums[i]\n",
    "            right -= 1\n",
    "    return nums"
   ]
  },
  {
   "cell_type": "markdown",
   "metadata": {},
   "source": [
    "[Wiggle Sort II](https://leetcode.com/problems/wiggle-sort-ii/)。对数组排序，使得排序后的数组严格满足(小大小大...)的大小关系。"
   ]
  },
  {
   "cell_type": "code",
   "execution_count": 20,
   "metadata": {},
   "outputs": [
    {
     "name": "stdout",
     "output_type": "stream",
     "text": [
      "[3, 1, 2]\n"
     ]
    }
   ],
   "source": [
    "# 思路：此题难点在于数组要满足一个严格的大小关系，所以再在重复数字的情况下\n",
    "# 需要实现能将重复数字打散的方法\n",
    "# 先排序数组，然后找到一个中位数\n",
    "# 返回列表的第一个值放中位数，第二个值放最大数\n",
    "# 第三个位置放中位数左边的值，第四个位置放第二大的数\n",
    "# 还有一个难点在于奇偶数\n",
    "\n",
    "\n",
    "def wiggleSort(nums) -> None:\n",
    "    nums.sort(reverse=True)    # 倒序排序就免去了奇偶性判断\n",
    "    nums[::2], nums[1::2] = nums[len(nums)//2:], nums[:len(nums)//2]"
   ]
  }
 ],
 "metadata": {
  "hide_input": false,
  "kernelspec": {
   "display_name": "Python 3",
   "language": "python",
   "name": "python3"
  },
  "language_info": {
   "codemirror_mode": {
    "name": "ipython",
    "version": 3
   },
   "file_extension": ".py",
   "mimetype": "text/x-python",
   "name": "python",
   "nbconvert_exporter": "python",
   "pygments_lexer": "ipython3",
   "version": "3.7.4"
  },
  "toc": {
   "base_numbering": 1,
   "nav_menu": {},
   "number_sections": true,
   "sideBar": true,
   "skip_h1_title": false,
   "title_cell": "Table of Contents",
   "title_sidebar": "Contents",
   "toc_cell": false,
   "toc_position": {},
   "toc_section_display": true,
   "toc_window_display": false
  }
 },
 "nbformat": 4,
 "nbformat_minor": 2
}
