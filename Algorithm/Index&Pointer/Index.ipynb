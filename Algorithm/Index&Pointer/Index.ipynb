{
 "cells": [
  {
   "cell_type": "markdown",
   "metadata": {},
   "source": [
    "[Circular Array Loop](https://leetcode.com/problems/circular-array-loop/)。给定一数组，假设其循环，每一个数字代表所走的步数，假设只能往前走或只能往后走，且环的长度需要大于$1$，求该数组中是否有环。\n",
    "\n",
    "思路：双指针，难点在于需要判断下一步的idx；另外还需要注意，环路不一定存在与$0$下标，需要尝试所有可能的起点。"
   ]
  },
  {
   "cell_type": "code",
   "execution_count": 7,
   "metadata": {},
   "outputs": [
    {
     "data": {
      "text/plain": [
       "False"
      ]
     },
     "execution_count": 7,
     "metadata": {},
     "output_type": "execute_result"
    }
   ],
   "source": [
    "def circularArrayLoop(nums) -> bool:\n",
    "    if not nums or len(nums) < 2:\n",
    "        return False\n",
    "\n",
    "    n = len(nums)\n",
    "\n",
    "    def next_idx(cur_idx):\n",
    "        '''\n",
    "        得到下一个idx，正负数同处理\n",
    "        '''\n",
    "        return (cur_idx+nums[cur_idx]+n) % n\n",
    "\n",
    "    for start in range(n):    # 尝试所有可能的起点\n",
    "        slow, fast = start, next_idx(start)\n",
    "\n",
    "        while nums[fast]*nums[next_idx(fast)] > 0 and nums[next_idx(fast)]*nums[next_idx(next_idx(fast))] > 0:\n",
    "            slow = next_idx(slow)\n",
    "            fast = next_idx(next_idx(fast))\n",
    "            if slow == fast:\n",
    "                if slow == next_idx(slow):    # 排除单点循环\n",
    "                    break\n",
    "                return True\n",
    "\n",
    "    return False"
   ]
  },
  {
   "cell_type": "code",
   "execution_count": null,
   "metadata": {},
   "outputs": [],
   "source": []
  }
 ],
 "metadata": {
  "hide_input": false,
  "kernelspec": {
   "display_name": "Python 3",
   "language": "python",
   "name": "python3"
  },
  "language_info": {
   "codemirror_mode": {
    "name": "ipython",
    "version": 3
   },
   "file_extension": ".py",
   "mimetype": "text/x-python",
   "name": "python",
   "nbconvert_exporter": "python",
   "pygments_lexer": "ipython3",
   "version": "3.7.4"
  },
  "toc": {
   "base_numbering": 1,
   "nav_menu": {},
   "number_sections": true,
   "sideBar": true,
   "skip_h1_title": false,
   "title_cell": "Table of Contents",
   "title_sidebar": "Contents",
   "toc_cell": false,
   "toc_position": {},
   "toc_section_display": true,
   "toc_window_display": false
  }
 },
 "nbformat": 4,
 "nbformat_minor": 2
}
