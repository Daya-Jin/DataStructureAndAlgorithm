{
 "cells": [
  {
   "cell_type": "markdown",
   "metadata": {},
   "source": [
    "判断一手扑克牌(手牌数为5)是否为顺子，假设大小王初始值为0，并可以转换成任意牌面值。"
   ]
  },
  {
   "cell_type": "code",
   "execution_count": 15,
   "metadata": {},
   "outputs": [],
   "source": [
    "# 思路：易得当手牌中存在对子时就不可能是顺子；\n",
    "# 然后满足顺子的必要条件为max-min<5，没有抽到大小王时，max-min=4；抽到时则小于4\n",
    "# 所以大小王需要特殊对待。设立一个记录出现次数的数字，然后在维护一个最大最小值即可\n",
    "\n",
    "\n",
    "def IsContinuous(cards):\n",
    "    if not cards or len(cards) != 5:\n",
    "        return False\n",
    "\n",
    "    cnts = [0]*14\n",
    "    cnts[0] = -1    # 代码中遇到>1的值会返回False，而大小王只有两张牌\n",
    "    min_val, max_val = 14, 0\n",
    " \n",
    "    for val in cards:\n",
    "        cnts[val] += 1\n",
    "\n",
    "        if val == 0:\n",
    "            continue\n",
    "\n",
    "        if cnts[val] > 1:\n",
    "            return False\n",
    "\n",
    "        if val > max_val:\n",
    "            max_val = val\n",
    "        if val < min_val:\n",
    "            min_val = val\n",
    "\n",
    "    return True if max_val-min_val < 5 else False"
   ]
  },
  {
   "cell_type": "markdown",
   "metadata": {},
   "source": [
    "Maximum Average Subarray With Length K. 给定一个数组与窗口大小k，求窗口可能的最大(平均)值。"
   ]
  },
  {
   "cell_type": "code",
   "execution_count": 18,
   "metadata": {},
   "outputs": [],
   "source": [
    "# 思路：扫描一遍数组，使用额外变量记录最大和与出现最大和的位置即可\n",
    "\n",
    "\n",
    "def findMaxAverage(nums: 'List[int]', k: int) -> float:\n",
    "    max_sum = sum([nums[i] for i in range(k)])\n",
    "    cur_sum = max_sum\n",
    "\n",
    "    for idx in range(1, len(nums)-k+1):\n",
    "        cur_sum = cur_sum-nums[idx-1]+nums[idx+k-1]\n",
    "        if cur_sum > max_sum:\n",
    "            max_sum = cur_sum\n",
    "            pos = idx\n",
    "\n",
    "    return max_sum/k"
   ]
  },
  {
   "cell_type": "markdown",
   "metadata": {},
   "source": [
    "Robot Return to Origin. 二维平面上有一机器人，给定一个字符串形式的移动序列指令，判断机器人是否回到了原点。"
   ]
  },
  {
   "cell_type": "code",
   "execution_count": 22,
   "metadata": {},
   "outputs": [],
   "source": [
    "def judgeCircle(moves):\n",
    "    d = {\n",
    "        'U': 0,\n",
    "        'D': 0,\n",
    "        'L': 0,\n",
    "        'R': 0\n",
    "    }\n",
    "\n",
    "    for move in moves:\n",
    "        d[move] += 1\n",
    "    return d['U'] == d['D'] and d['L'] == d['R']"
   ]
  },
  {
   "cell_type": "markdown",
   "metadata": {},
   "source": [
    "Intersection of Two Arrays II. 查找两数组的交集部分。(不是求公共子序列，只是求子集)"
   ]
  },
  {
   "cell_type": "code",
   "execution_count": 23,
   "metadata": {},
   "outputs": [],
   "source": [
    "# 思路：1. 排序后使用双指针，双指针指向值相等时就加入返回列表，继续扫描\n",
    "# 2. 数字计数，将长度较短的数组所有数字都记录下来\n",
    "\n",
    "\n",
    "def intersect(nums1, nums2):\n",
    "    cnt = dict()\n",
    "    for num in nums1:\n",
    "        if num in cnt:\n",
    "            cnt[num] += 1\n",
    "        else:\n",
    "            cnt[num] = 1\n",
    "\n",
    "    res = []\n",
    "    for num in nums2:\n",
    "        if num in cnt and cnt[num] > 0:\n",
    "            res.append(num)\n",
    "            cnt[num] -= 1\n",
    "\n",
    "    return res"
   ]
  },
  {
   "cell_type": "markdown",
   "metadata": {},
   "source": [
    "Available Captures for Rook. 棋盘上车能吃的棋子数。8*8的国际棋盘，有一个白车(R)，若干白象(B)和黑卒(p)，求白车当前捕获到的对方旗子数量。"
   ]
  },
  {
   "cell_type": "code",
   "execution_count": 24,
   "metadata": {},
   "outputs": [],
   "source": [
    "# 思路：上下左右四个方位必须直线相通才能捕获到，并且不能被B阻拦\n",
    "# 输入字符串化，在行内判断是否存在'pR'或'Rp'\n",
    "# 在列的方向上判断是否存在'pR'或'Rp'\n",
    "\n",
    "\n",
    "def numRookCaptures(board):\n",
    "    res = 0\n",
    "    # 首先索引到R的坐标\n",
    "    for row in board:\n",
    "        if 'R' in row:\n",
    "            tmp = ''.join(row).replace('.','')\n",
    "            res += 1 if 'pR' in tmp else 0\n",
    "            res += 1 if 'Rp' in tmp else 0\n",
    "\n",
    "            col_idx = row.index('R')\n",
    "            break\n",
    "\n",
    "    # 将'R'所在的一列提取出来\n",
    "    col = [row[col_idx] for row in board]\n",
    "    col = ''.join(col).replace('.','')\n",
    "    res += 1 if 'pR' in col else 0\n",
    "    res += 1 if 'Rp' in col else 0\n",
    "\n",
    "    return res"
   ]
  },
  {
   "cell_type": "markdown",
   "metadata": {},
   "source": [
    "[Fizz Buzz](https://leetcode.com/problems/fizz-buzz/). 自然数数组，替换其中的数字，替换规则如下：若能被3整除，用'Fizz'替换，若能被5整除，用'Buzz'替换，两者都满足，用'FizzBuzz'替换。"
   ]
  },
  {
   "cell_type": "code",
   "execution_count": 28,
   "metadata": {},
   "outputs": [],
   "source": [
    "# 思路：把替换规则用哈希表存起来\n",
    "\n",
    "\n",
    "def fizzBuzz(n: int):\n",
    "    replace_table = {\n",
    "        3: 'Fizz',\n",
    "        5: 'Buzz',\n",
    "    }\n",
    "    ans = []\n",
    "\n",
    "    for num in range(1, n+1):\n",
    "        re_str = ''\n",
    "        for key in replace_table:\n",
    "            if num % key == 0:\n",
    "                re_str += replace_table[key]\n",
    "\n",
    "        ans.append(re_str) if re_str else ans.append(str(num))\n",
    "\n",
    "    return ans"
   ]
  },
  {
   "cell_type": "markdown",
   "metadata": {},
   "source": [
    "[Game of Life](https://leetcode.com/problems/game-of-life/)。给定一个细胞矩阵，0代表死细胞，1代表活细胞。细胞的状态转移规则如下：\n",
    "- 周围活细胞数目为2或3则该细胞正常存活\n",
    "- 周围活细胞数目小于2则该细胞死亡\n",
    "- 周围活细胞数目大于3则该细胞死亡\n",
    "- 周围活细胞数目等于3则该细胞复活"
   ]
  },
  {
   "cell_type": "code",
   "execution_count": 3,
   "metadata": {},
   "outputs": [
    {
     "data": {
      "text/plain": [
       "[[0, 0, 0], [1, 0, 1], [0, 1, 1], [0, 1, 0]]"
      ]
     },
     "execution_count": 3,
     "metadata": {},
     "output_type": "execute_result"
    }
   ],
   "source": [
    "# 思路：程序实现时是逐行逐列扫描并改变矩阵值的，那么怎么保存转换之前的转态是关键\n",
    "# 使用状态码，不难得出有四种可能的状态：\n",
    "# 0.死细胞变死细胞；1.活细胞变死细胞；2.死细胞变活细胞；3.活细胞变活细胞\n",
    "# 注意这里状态码的设置有一个技巧，状态码模2为转换前的存活状态，状态码整除2为转换后的存活状态\n",
    "# 并且模2运算的状态与初始状态相同\n",
    "# 扫描矩阵两次，第一次做模运算设置状态码，第二次做整除运算设置存活状态\n",
    "\n",
    "\n",
    "def gameOfLife(board) -> None:\n",
    "    rows, cols = len(board), len(board[0])\n",
    "    delta = list(zip([-1, -1, -1, 0, 1, 1, 1, 0], [-1, 0, 1, 1, 1, 0, -1, -1]))\n",
    "\n",
    "    def check_staus(row, col):\n",
    "        live_nb = 0    # 转换前存活的邻居数\n",
    "\n",
    "        for dx, dy in delta:\n",
    "            x = row + dx\n",
    "            y = col + dy\n",
    "            if 0 <= x < rows and 0 <= y < cols and board[x][y] % 2 == 1:\n",
    "                live_nb += 1\n",
    "\n",
    "        if board[row][col] % 2 == 0 and live_nb == 3:    # 死细胞复活\n",
    "            return 2\n",
    "        elif board[row][col] % 2 == 1:    # 之前为活细胞\n",
    "            if live_nb == 2 or live_nb == 3:    # 存活\n",
    "                return 3\n",
    "            else:    # 死亡\n",
    "                return 1\n",
    "        else:\n",
    "            return 0\n",
    "\n",
    "    # 设置状态码\n",
    "    for row in range(rows):\n",
    "        for col in range(cols):\n",
    "            board[row][col] = check_staus(row, col)\n",
    "\n",
    "    # 根据状态码设置存活状态\n",
    "    for row in range(rows):\n",
    "        for col in range(cols):\n",
    "            board[row][col] = board[row][col]//2"
   ]
  },
  {
   "cell_type": "code",
   "execution_count": null,
   "metadata": {},
   "outputs": [],
   "source": []
  }
 ],
 "metadata": {
  "hide_input": false,
  "kernelspec": {
   "display_name": "Python 3",
   "language": "python",
   "name": "python3"
  },
  "language_info": {
   "codemirror_mode": {
    "name": "ipython",
    "version": 3
   },
   "file_extension": ".py",
   "mimetype": "text/x-python",
   "name": "python",
   "nbconvert_exporter": "python",
   "pygments_lexer": "ipython3",
   "version": "3.6.6"
  },
  "toc": {
   "base_numbering": 1,
   "nav_menu": {},
   "number_sections": true,
   "sideBar": true,
   "skip_h1_title": false,
   "title_cell": "Table of Contents",
   "title_sidebar": "Contents",
   "toc_cell": false,
   "toc_position": {},
   "toc_section_display": true,
   "toc_window_display": false
  }
 },
 "nbformat": 4,
 "nbformat_minor": 2
}
