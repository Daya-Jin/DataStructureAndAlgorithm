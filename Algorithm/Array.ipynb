{
 "cells": [
  {
   "cell_type": "markdown",
   "metadata": {},
   "source": [
    "Available Captures for Rook. 棋盘上车能吃的棋子数。8*8的国际棋盘，有一个白车(R)，若干白象(B)和黑卒(p)，求白车当前捕获到的对方旗子数量。"
   ]
  },
  {
   "cell_type": "code",
   "execution_count": 24,
   "metadata": {},
   "outputs": [],
   "source": [
    "# 思路：上下左右四个方位必须直线相通才能捕获到，并且不能被B阻拦\n",
    "# 输入字符串化，在行内判断是否存在'pR'或'Rp'\n",
    "# 在列的方向上判断是否存在'pR'或'Rp'\n",
    "\n",
    "\n",
    "def numRookCaptures(board):\n",
    "    res = 0\n",
    "    # 首先索引到R的坐标\n",
    "    for row in board:\n",
    "        if 'R' in row:\n",
    "            tmp = ''.join(row).replace('.','')\n",
    "            res += 1 if 'pR' in tmp else 0\n",
    "            res += 1 if 'Rp' in tmp else 0\n",
    "\n",
    "            col_idx = row.index('R')\n",
    "            break\n",
    "\n",
    "    # 将'R'所在的一列提取出来\n",
    "    col = [row[col_idx] for row in board]\n",
    "    col = ''.join(col).replace('.','')\n",
    "    res += 1 if 'pR' in col else 0\n",
    "    res += 1 if 'Rp' in col else 0\n",
    "\n",
    "    return res"
   ]
  },
  {
   "cell_type": "markdown",
   "metadata": {},
   "source": [
    "[Game of Life](https://leetcode.com/problems/game-of-life/)。给定一个细胞矩阵，0代表死细胞，1代表活细胞。细胞的状态转移规则如下：\n",
    "- 周围活细胞数目为2或3则该细胞正常存活\n",
    "- 周围活细胞数目小于2则该细胞死亡\n",
    "- 周围活细胞数目大于3则该细胞死亡\n",
    "- 周围活细胞数目等于3则该细胞复活"
   ]
  },
  {
   "cell_type": "code",
   "execution_count": 3,
   "metadata": {},
   "outputs": [
    {
     "data": {
      "text/plain": [
       "[[0, 0, 0], [1, 0, 1], [0, 1, 1], [0, 1, 0]]"
      ]
     },
     "execution_count": 3,
     "metadata": {},
     "output_type": "execute_result"
    }
   ],
   "source": [
    "# 思路：程序实现时是逐行逐列扫描并改变矩阵值的，那么怎么保存转换之前的转态是关键\n",
    "# 使用状态码，不难得出有四种可能的状态：\n",
    "# 0.死细胞变死细胞；1.活细胞变死细胞；2.死细胞变活细胞；3.活细胞变活细胞\n",
    "# 注意这里状态码的设置有一个技巧，状态码模2为转换前的存活状态，状态码整除2为转换后的存活状态\n",
    "# 并且模2运算的状态与初始状态相同\n",
    "# 扫描矩阵两次，第一次做模运算设置状态码，第二次做整除运算设置存活状态\n",
    "\n",
    "\n",
    "def gameOfLife(board) -> None:\n",
    "    rows, cols = len(board), len(board[0])\n",
    "    delta = list(zip([-1, -1, -1, 0, 1, 1, 1, 0], [-1, 0, 1, 1, 1, 0, -1, -1]))\n",
    "\n",
    "    def check_staus(row, col):\n",
    "        live_nb = 0    # 转换前存活的邻居数\n",
    "\n",
    "        for dx, dy in delta:\n",
    "            x = row + dx\n",
    "            y = col + dy\n",
    "            if 0 <= x < rows and 0 <= y < cols and board[x][y] % 2 == 1:\n",
    "                live_nb += 1\n",
    "\n",
    "        if board[row][col] % 2 == 0 and live_nb == 3:    # 死细胞复活\n",
    "            return 2\n",
    "        elif board[row][col] % 2 == 1:    # 之前为活细胞\n",
    "            if live_nb == 2 or live_nb == 3:    # 存活\n",
    "                return 3\n",
    "            else:    # 死亡\n",
    "                return 1\n",
    "        else:\n",
    "            return 0\n",
    "\n",
    "    # 设置状态码\n",
    "    for row in range(rows):\n",
    "        for col in range(cols):\n",
    "            board[row][col] = check_staus(row, col)\n",
    "\n",
    "    # 根据状态码设置存活状态\n",
    "    for row in range(rows):\n",
    "        for col in range(cols):\n",
    "            board[row][col] = board[row][col]//2"
   ]
  },
  {
   "cell_type": "code",
   "execution_count": null,
   "metadata": {},
   "outputs": [],
   "source": []
  }
 ],
 "metadata": {
  "hide_input": false,
  "kernelspec": {
   "display_name": "Python 3",
   "language": "python",
   "name": "python3"
  },
  "language_info": {
   "codemirror_mode": {
    "name": "ipython",
    "version": 3
   },
   "file_extension": ".py",
   "mimetype": "text/x-python",
   "name": "python",
   "nbconvert_exporter": "python",
   "pygments_lexer": "ipython3",
   "version": "3.7.4"
  },
  "toc": {
   "base_numbering": 1,
   "nav_menu": {},
   "number_sections": true,
   "sideBar": true,
   "skip_h1_title": false,
   "title_cell": "Table of Contents",
   "title_sidebar": "Contents",
   "toc_cell": false,
   "toc_position": {},
   "toc_section_display": true,
   "toc_window_display": false
  }
 },
 "nbformat": 4,
 "nbformat_minor": 2
}
