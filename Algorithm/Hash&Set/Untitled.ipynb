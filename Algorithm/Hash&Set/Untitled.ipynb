{
 "cells": [
  {
   "cell_type": "markdown",
   "metadata": {},
   "source": [
    "[Contains Duplicate II](https://leetcode.com/problems/contains-duplicate-ii/)。给一数组与一间距$k$，判断数组中是否存在间隔至多为$k$的两相同元素。\n",
    "\n",
    "思路：使用哈希表，建立元素与最后出现次数的映射，每次新扫描元素时判断是否存在，存在还要判断距离是否小于$k$。"
   ]
  },
  {
   "cell_type": "code",
   "execution_count": 3,
   "metadata": {},
   "outputs": [
    {
     "data": {
      "text/plain": [
       "97"
      ]
     },
     "execution_count": 3,
     "metadata": {},
     "output_type": "execute_result"
    }
   ],
   "source": [
    "def containsNearbyDuplicate(nums, k: int) -> bool:\n",
    "    table = dict()\n",
    "    for idx, num in enumerate(nums):\n",
    "        if num in table:\n",
    "            diff = idx-table[num]\n",
    "            if diff <= k:\n",
    "                return True\n",
    "            else:\n",
    "                table[num] = idx\n",
    "        else:\n",
    "            table[num] = idx\n",
    "\n",
    "    return False"
   ]
  },
  {
   "cell_type": "markdown",
   "metadata": {},
   "source": [
    "[Custom Sort String](https://leetcode.com/problems/custom-sort-string/)。给一字符串$T$，再给一排序标准$S$，按照$S$的顺序规则重排$T$。不在$S$中的字符所在顺序不考虑。\n",
    "\n",
    "思路：不在$S$中的字符顺序不考虑的话就简单了。首先对$T$进行字符计数，然后扫描$S$，若字符存在于$S$中，则放置字符。最后将无所谓的字符放置在末尾。"
   ]
  },
  {
   "cell_type": "code",
   "execution_count": 4,
   "metadata": {},
   "outputs": [
    {
     "data": {
      "text/plain": [
       "'cbad'"
      ]
     },
     "execution_count": 4,
     "metadata": {},
     "output_type": "execute_result"
    }
   ],
   "source": [
    "def customSortString(S: str, T: str) -> str:\n",
    "    cnts = dict()\n",
    "    for ch in T:\n",
    "        cnts.setdefault(ch, 0)\n",
    "        cnts[ch] += 1\n",
    "\n",
    "    res = ''\n",
    "    for ch in S:\n",
    "        if ch in cnts:\n",
    "            res += ch*cnts[ch]\n",
    "            cnts[ch] = 0\n",
    "\n",
    "    for ch in cnts:\n",
    "        res += ch*cnts[ch]\n",
    "        cnts[ch] = 0\n",
    "\n",
    "    return res"
   ]
  },
  {
   "cell_type": "markdown",
   "metadata": {},
   "source": [
    "[Most Common Word](https://leetcode.com/problems/most-common-word/)。给一句子，找出句子中频数最高的单词。\n",
    "\n",
    "思路：2-pass。第一遍记录所有单词及其出现次数，第二遍扫描哈希表得到最频繁的单词。"
   ]
  },
  {
   "cell_type": "code",
   "execution_count": 7,
   "metadata": {},
   "outputs": [
    {
     "data": {
      "text/plain": [
       "'ball'"
      ]
     },
     "execution_count": 7,
     "metadata": {},
     "output_type": "execute_result"
    }
   ],
   "source": [
    "def mostCommonWord(paragraph: str, banned) -> str:\n",
    "    start = 0\n",
    "    n = len(paragraph)\n",
    "    table = dict()\n",
    "\n",
    "    while start < n:\n",
    "        while start < n and not paragraph[start].isalpha():\n",
    "            start += 1\n",
    "        end = start\n",
    "        while end < n and paragraph[end].isalpha():\n",
    "            end += 1\n",
    "        word = paragraph[start:end].lower()\n",
    "        if word and word not in banned:\n",
    "            table.setdefault(word, 0)\n",
    "            table[word] += 1\n",
    "\n",
    "        start = end\n",
    "\n",
    "    max_cnt = 0\n",
    "    res = ''\n",
    "    for word in table:\n",
    "        if table[word] > max_cnt:\n",
    "            max_cnt = table[word]\n",
    "            res = word\n",
    "\n",
    "    return res"
   ]
  },
  {
   "cell_type": "code",
   "execution_count": null,
   "metadata": {},
   "outputs": [],
   "source": []
  }
 ],
 "metadata": {
  "hide_input": false,
  "kernelspec": {
   "display_name": "Python 3",
   "language": "python",
   "name": "python3"
  },
  "language_info": {
   "codemirror_mode": {
    "name": "ipython",
    "version": 3
   },
   "file_extension": ".py",
   "mimetype": "text/x-python",
   "name": "python",
   "nbconvert_exporter": "python",
   "pygments_lexer": "ipython3",
   "version": "3.7.4"
  },
  "toc": {
   "base_numbering": 1,
   "nav_menu": {},
   "number_sections": true,
   "sideBar": true,
   "skip_h1_title": false,
   "title_cell": "Table of Contents",
   "title_sidebar": "Contents",
   "toc_cell": false,
   "toc_position": {},
   "toc_section_display": true,
   "toc_window_display": false
  }
 },
 "nbformat": 4,
 "nbformat_minor": 2
}
