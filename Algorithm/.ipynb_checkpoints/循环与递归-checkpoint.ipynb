{
 "cells": [
  {
   "cell_type": "markdown",
   "metadata": {},
   "source": [
    "给定一个最大位数n，输出位数小于等于n的所有自然数。"
   ]
  },
  {
   "cell_type": "code",
   "execution_count": 5,
   "metadata": {
    "scrolled": true
   },
   "outputs": [],
   "source": [
    "def print_num(n):\n",
    "    if n < 1:\n",
    "        return None\n",
    "    num = ['0'] * n\n",
    "\n",
    "    for i in range(10):\n",
    "        num[0] = chr(ord('0') + i)        # 将最高位依次置为0-9\n",
    "        print_num_rec(num, n, 1)    # 从第二位开始递归置位\n",
    "\n",
    "\n",
    "def print_num_rec(num, n, idx):\n",
    "    if idx == n:    # 如果越界则说明所有位已设置完\n",
    "        print(''.join(num))\n",
    "    else:\n",
    "        for i in range(10):\n",
    "            num[idx] = chr(ord('0') + i)\n",
    "            print_num_rec(num, n, idx + 1)"
   ]
  },
  {
   "cell_type": "markdown",
   "metadata": {},
   "source": [
    "不使用判断、循环与乘除法，实现[1,n]的累加求和。"
   ]
  },
  {
   "cell_type": "code",
   "execution_count": 8,
   "metadata": {},
   "outputs": [],
   "source": [
    "# 思路：使用递归，不难写出下面的版本：\n",
    "# def Sum(n):\n",
    "#     if n==0:\n",
    "#         return 0\n",
    "#     return n+Sum(n-1)\n",
    "# 但若无法使用if关键字，需要在代码上重新设计逻辑\n",
    "# 考虑到a and b语句，若a为假，后面的语句则会被忽略，以避免不必要的计算\n",
    "# 利用这一特性，不难写出以下代码\n",
    "\n",
    "\n",
    "def Sum(n):\n",
    "    return n and n+Sum(n-1)    # 当n=0时递归自动终止"
   ]
  },
  {
   "cell_type": "markdown",
   "metadata": {},
   "source": [
    "Generate Parentheses. 给一个括号对的数量，生成所有合法的括号组合。"
   ]
  },
  {
   "cell_type": "code",
   "execution_count": 9,
   "metadata": {},
   "outputs": [],
   "source": [
    "# 思路：递归，类似生成树\n",
    "\n",
    "\n",
    "def generateParenthesis(n):\n",
    "    ans = []\n",
    "\n",
    "    # 递归函数，s参数为当前生成的字串，后两个参数为s中包含的左括号数与右括号数\n",
    "    def generateParenthesis_rec(generate_s='', open_bracket_num=0, close_bracket_num=0):\n",
    "        if len(generate_s) == 2*n:    # 树的深度最大为2n，达到最大深度时返回\n",
    "            ans.append(generate_s)\n",
    "            return None\n",
    "\n",
    "        # 先加左括号\n",
    "        if open_bracket_num < n:\n",
    "            generateParenthesis_rec(\n",
    "                generate_s+'(', open_bracket_num+1, close_bracket_num)\n",
    "        # 再加右括号\n",
    "        if close_bracket_num < open_bracket_num:\n",
    "            generateParenthesis_rec(generate_s+')',\n",
    "                                    open_bracket_num, close_bracket_num+1)\n",
    "\n",
    "    generateParenthesis_rec()\n",
    "    return ans"
   ]
  },
  {
   "cell_type": "markdown",
   "metadata": {},
   "source": [
    "Letter Combinations of a Phone Number. 九宫格键盘能实现的字符串，给定一组数字，求出九宫格键盘按该序列能拼出的字符串。"
   ]
  },
  {
   "cell_type": "code",
   "execution_count": 10,
   "metadata": {},
   "outputs": [],
   "source": [
    "# 思路：注意九宫格的1是没有对应字母的，只有2-9键才对应字母\n",
    "# 首先建立一个数字-字母映射表，然后使用广度遍历或深度遍历构造字符串即可\n",
    "\n",
    "\n",
    "def letterCombinations(digits):\n",
    "    if not digits:\n",
    "        return []\n",
    "\n",
    "    table = [\"\", \"\", \"abc\", \"def\", \"ghi\", \"jkl\", \"mno\", \"pqrs\", \"tuv\", \"wxyz\"]\n",
    "    res = ['']\n",
    "\n",
    "    # 广度遍历，每新按一个键，就在已有的字符串上加一个字符\n",
    "    for digit in digits:    # 对于每次的一个按键\n",
    "        tmp = []\n",
    "        possible_ch = table[ord(digit)-ord('0')]    # 当前按键可能的字符\n",
    "\n",
    "        for ch in possible_ch:    # 对每一个可能的字符\n",
    "            for string in res:    # 都要加到已有结果的字符串中去\n",
    "                tmp.append(string+ch)\n",
    "\n",
    "        res = tmp\n",
    "    return res"
   ]
  },
  {
   "cell_type": "markdown",
   "metadata": {},
   "source": [
    "[Self Dividing Numbers](https://leetcode.com/problems/self-dividing-numbers/). 给定一个范围，求出范围内所有的SDN。SDN定义为能被自身中所有数字整除的数，并且SDN不允许包含0."
   ]
  },
  {
   "cell_type": "code",
   "execution_count": 15,
   "metadata": {},
   "outputs": [],
   "source": [
    "# 思路：暴力，关键在于十进制中如何逐位提取数字\n",
    "\n",
    "\n",
    "def selfDividingNumbers(left, right):\n",
    "    if left > right:\n",
    "        return 0\n",
    "\n",
    "    res = list()\n",
    "    for num in range(left, right+1):\n",
    "        mask = 1\n",
    "        flag = True\n",
    "        tmp = num\n",
    "\n",
    "        while tmp:\n",
    "            bit = tmp % 10\n",
    "            # 包含0，或者无法整除都不行\n",
    "            if not bit or num % bit:\n",
    "                flag = False\n",
    "                break\n",
    "            else:\n",
    "                tmp //= 10\n",
    "\n",
    "        if flag:\n",
    "            res.append(num)\n",
    "\n",
    "    return res"
   ]
  },
  {
   "cell_type": "markdown",
   "metadata": {},
   "source": [
    "[Increasing Triplet Subsequence](https://leetcode.com/problems/increasing-triplet-subsequence/)。判断数组中是否存在一个递增的三元组。"
   ]
  },
  {
   "cell_type": "code",
   "execution_count": 11,
   "metadata": {},
   "outputs": [
    {
     "data": {
      "text/plain": [
       "False"
      ]
     },
     "execution_count": 11,
     "metadata": {},
     "output_type": "execute_result"
    }
   ],
   "source": [
    "# 思路：设立两个指针，分别代表递增三元组的前两个元素，且ptr1<ptr2\n",
    "# 同时为了满足能找到三元组，应该保证ptr1与ptr2尽量小\n",
    "# 扫描数组，如果当前值小于ptr1，则更新ptr1\n",
    "# 如果大于ptr1小于ptr2，则更新ptr2\n",
    "# 大于ptr2时说明找到三元组\n",
    "\n",
    "\n",
    "def increasingTriplet(nums) -> bool:\n",
    "    ptr1 = 0xFFFFFFFF\n",
    "    ptr2 = 0xFFFFFFFF\n",
    "\n",
    "    for num in nums:\n",
    "        if num <= ptr1:\n",
    "            ptr1 = num\n",
    "        elif num <= ptr2:\n",
    "            ptr2 = num\n",
    "        else:\n",
    "            return True\n",
    "    return False"
   ]
  },
  {
   "cell_type": "markdown",
   "metadata": {},
   "source": [
    "[Set Matrix Zeroes](https://leetcode.com/problems/set-matrix-zeroes/)。将矩阵中零元素的行列元素全部置零。"
   ]
  },
  {
   "cell_type": "code",
   "execution_count": null,
   "metadata": {},
   "outputs": [],
   "source": [
    "# 思路：首先记录零元素的位置，然后将这些位置对应的行列全部置零\n",
    "# 扫描一遍矩阵，将零元素的首行与首列位置置零作为记录\n",
    "# 根据首行首列的零元素，把整行整列全部置零\n",
    "# 注意左上角是特殊位置，需要一个额外变量来判断是首行为0还是首列为0\n",
    "\n",
    "\n",
    "def setZeroes(matrix) -> None:\n",
    "    rows, cols = len(matrix), len(matrix[0])\n",
    "\n",
    "    # 判断首行首列是否需要置零\n",
    "    head_row_zero, head_col_zero = False, False\n",
    "    for col in range(cols):\n",
    "        if matrix[0][col] == 0:\n",
    "            head_row_zero = True\n",
    "    for row in range(rows):\n",
    "        if matrix[row][0] == 0:\n",
    "            head_col_zero = True\n",
    "\n",
    "    for row in range(rows):\n",
    "        for col in range(cols):\n",
    "            if matrix[row][col] == 0:\n",
    "                matrix[0][col] = 0\n",
    "                matrix[row][0] = 0\n",
    "\n",
    "    # 首行首列有记录，遍历除了首行首列的右下部分并把相应位置置零\n",
    "    for row in range(1, rows):\n",
    "        for col in range(1, cols):\n",
    "            if matrix[row][0] == 0 or matrix[0][col] == 0:\n",
    "                matrix[row][col] = 0\n",
    "\n",
    "    # 首行首列的情况\n",
    "    if head_row_zero:\n",
    "        for col in range(cols):\n",
    "            matrix[0][col] = 0\n",
    "    if head_col_zero:\n",
    "        for row in range(rows):\n",
    "            matrix[row][0] = 0"
   ]
  },
  {
   "cell_type": "code",
   "execution_count": null,
   "metadata": {},
   "outputs": [],
   "source": []
  }
 ],
 "metadata": {
  "hide_input": false,
  "kernelspec": {
   "display_name": "Python 3",
   "language": "python",
   "name": "python3"
  },
  "language_info": {
   "codemirror_mode": {
    "name": "ipython",
    "version": 3
   },
   "file_extension": ".py",
   "mimetype": "text/x-python",
   "name": "python",
   "nbconvert_exporter": "python",
   "pygments_lexer": "ipython3",
   "version": "3.7.4"
  },
  "toc": {
   "base_numbering": 1,
   "nav_menu": {},
   "number_sections": true,
   "sideBar": true,
   "skip_h1_title": false,
   "title_cell": "Table of Contents",
   "title_sidebar": "Contents",
   "toc_cell": false,
   "toc_position": {},
   "toc_section_display": true,
   "toc_window_display": false
  }
 },
 "nbformat": 4,
 "nbformat_minor": 2
}
