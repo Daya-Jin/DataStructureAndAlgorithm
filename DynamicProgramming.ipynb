{
 "cells": [
  {
   "cell_type": "markdown",
   "metadata": {},
   "source": [
    "剪绳子，把一根长度为n>1的绳子剪成m>1段，求各段长度累乘值最大的剪切方案。此题难点在于找到最开始的几个特殊情况，即什么长度下不剪的总长度要小于剪开的长度累乘？"
   ]
  },
  {
   "cell_type": "code",
   "execution_count": 1,
   "metadata": {},
   "outputs": [],
   "source": [
    "# 设解为f(n)，列出f(n)<n的特殊情况\n",
    "# n=0，f(0)无解；n=1，f(1)无解；n=2，f(2)=1*1=1；n=3，f(3)=1*2=2；n=4，f(4)=4=n\n",
    "# n>3时，DP递推式为f(n)=max(f(i)*f(n-i))，i为切割点\n",
    "\n",
    "\n",
    "def MaxProductCut(n):\n",
    "    if n < 2:\n",
    "        return None\n",
    "    if n == 2:\n",
    "        return 1\n",
    "    if n == 3:\n",
    "        return 2\n",
    "\n",
    "    f_n = [0]*(n+1)    # 存储能用于递推式的f(n)的数组\n",
    "    f_n[1] = 1\n",
    "    f_n[2] = 2\n",
    "    f_n[3] = 3\n",
    "\n",
    "    for i in range(4, n+1):    # 从小到大求出所有最优解\n",
    "        max_product = 0\n",
    "        for cut_point in range(1, i//2+1):    # 尝试所有切分点，切割长度至少为1\n",
    "            cur_product = f_n[cut_point]*f_n[i-cut_point]\n",
    "            if cur_product > max_product:\n",
    "                max_product = cur_product\n",
    "        f_n[i] = max_product\n",
    "    return f_n[-1]"
   ]
  },
  {
   "cell_type": "markdown",
   "metadata": {},
   "source": [
    "矩阵中得到最大和的路线。一个矩阵，每个单元格上均有一个数字，从左上角开始，每次只能往右或往下，求一条能得到最大和的路径。"
   ]
  },
  {
   "cell_type": "code",
   "execution_count": 2,
   "metadata": {},
   "outputs": [],
   "source": [
    "# 思路：动态规划，维护一个最大价值矩阵，该矩阵中每个元素的值均由max(up,left)+cur计算得出\n",
    "# 手动模拟时发现，在计算时最多只用到了上一行的数据，所以在空间上可以进一步优化，不需要维护个完整的矩阵\n",
    "\n",
    "\n",
    "def getMaxSum(values, rows, cols):\n",
    "    '''\n",
    "    values:数字序列\n",
    "    rows,cols:矩阵行列数\n",
    "    '''\n",
    "    sum_mat = [[0 for _ in range(cols)] for _ in range(rows)]    # sum矩阵\n",
    "\n",
    "    # 从左往右逐行扫描\n",
    "    for row in range(rows):\n",
    "        for col in range(cols):\n",
    "            up = sum_mat[row-1][col] if row > 0 else 0    # 如果是第一行，上格子值设为0\n",
    "            left = sum_mat[row][col-1] if col > 0 else 0    # 如果是第一列，左格子值设为0\n",
    "\n",
    "            sum_mat[row][col] = max(up, left)+values[row*cols+col]\n",
    "\n",
    "    return sum_mat[-1][-1]"
   ]
  },
  {
   "cell_type": "markdown",
   "metadata": {},
   "source": [
    "非重复最长子串。给定一个字符串，求其中不含重复字母的最长子串长度。"
   ]
  },
  {
   "cell_type": "code",
   "execution_count": 3,
   "metadata": {},
   "outputs": [],
   "source": [
    "# 思路：为26个字母维护一个记录出现位置的数组，扫描字符串\n",
    "# 如果上次出现位置在当前子串之前，则将该字母纳入子串\n",
    "# 如果该字母已出现在子串内，则删掉重复字母及之前的部分，再将该字母纳入子串\n",
    "\n",
    "\n",
    "def LongestSubstringWithoutDup(s):\n",
    "    max_len = 0\n",
    "    cur_len = 0\n",
    "    ch_appear_pos = [-1]*26    # 记录每个字母最近一次出现的位置\n",
    "\n",
    "    for idx in (range(len(s))):    # 扫描字符串\n",
    "        pre_pos = ch_appear_pos[ord(s[idx])-ord('a')]    # 当前字母上次出现的位置\n",
    "\n",
    "        if pre_pos < 0 or idx-pre_pos > cur_len:    # 如果上次出现的距离比当前保存的距离还远\n",
    "            cur_len += 1    # 则把该字母加入子串中\n",
    "        else:    # 如果该字母是子串中已出现的字母，则需要缩短子串\n",
    "            if cur_len > max_len:\n",
    "                max_len = cur_len\n",
    "            cur_len = idx-pre_pos    # 去掉该字母上次出现位置及之前的部分\n",
    "        ch_appear_pos[ord(s[idx])-ord('a')] = idx    # 更新该字母出现位置\n",
    "\n",
    "    if cur_len > max_len:\n",
    "        max_len = cur_len\n",
    "\n",
    "    return max_len"
   ]
  },
  {
   "cell_type": "markdown",
   "metadata": {},
   "source": [
    "n个骰子点数和的概率。"
   ]
  },
  {
   "cell_type": "code",
   "execution_count": 4,
   "metadata": {},
   "outputs": [],
   "source": [
    "# 思路：令f(n,s)为n个骰子和为s的组合数，则\n",
    "# f(n,s)=f(n-1,s-1)+f(n-1,s-2)+f(n-1,s-3)+f(n-1,s-4)+f(n-1,s-5)+f(n-1,s-6)\n",
    "# 可见f(n,*)只与f(n-1,*)时的状态有关，设立两个数组，分别轮番表示f(n-1,*)与f(n,*)时的状态\n",
    "\n",
    "def P(n):\n",
    "    if n<1:\n",
    "        return 0\n",
    "    \n",
    "    max_value=6    # 预定义骰子的最大点数\n",
    "    \n",
    "    # n个骰子的点数范围为n-6n，把数组长度设为6n，非法位置设为0\n",
    "    arr1=[0 for _ in range(max_value*n+1)]\n",
    "    arr2=[0 for _ in range(max_value*n+1)]\n",
    "    arr=[arr1,arr2]\n",
    "    flag=0    # 用于在两数组中进行状态轮切\n",
    "    \n",
    "    # 初始状态f(1,1)=f(1,2)=...=f(1,6)=1\n",
    "    for i in range(1,max_value+1):\n",
    "        arr[flag][i]=1\n",
    "    \n",
    "    for k in range(2,n+1):    # 逐个增加骰子\n",
    "        for val in range(0,k-1):    # 小于骰子数的面值概率都为0\n",
    "            arr[1-flag][val]=0\n",
    "            \n",
    "        for val in range(k,max_value*k+1):\n",
    "            arr[1-flag][val]=0    # 初始值设为0\n",
    "            \n",
    "            j=1    # 逐个加上上一状态时-1,-2,...,-6的组合数\n",
    "            while j<=val and j<=max_value:\n",
    "                arr[1-flag][val]+=arr[flag][val-j]\n",
    "                j+=1\n",
    "        \n",
    "        flag=1-flag    # 转换状态\n",
    "        \n",
    "    tol_comb=pow(max_value,n)\n",
    "    for i in range(n,max_value*n+1):\n",
    "        print(arr[flag][i]/tol_comb)"
   ]
  },
  {
   "cell_type": "markdown",
   "metadata": {},
   "source": [
    "Ugly Number II. 丑数。除1之外，只有因子2，3，5的数称为丑数。查找第n个丑数。"
   ]
  },
  {
   "cell_type": "code",
   "execution_count": 5,
   "metadata": {},
   "outputs": [],
   "source": [
    "# 思路：1是第一个丑数，也可看作是所有丑数的基数\n",
    "# 任何丑数都是由某个丑数乘以2、或乘以3、或乘以5得到\n",
    "# 如2，3，5就是分别由1乘2，乘3，乘5得到\n",
    "# 任何丑数都有*2，*3和*5的机会，所以设立三个指针\n",
    "# 三个指针在已有的丑数数组上逐位移动\n",
    "\n",
    "def nthUglyNumber(n):\n",
    "    ugly_nums=[1]\n",
    "    if n==1:\n",
    "        return ugly_nums[-1]\n",
    "    \n",
    "    # 乘2乘3乘5的机会指针\n",
    "    mutil2_idx=mutil3_idx=mutil5_idx=0\n",
    "    \n",
    "    cnt=1    # 计数\n",
    "    while cnt<n:\n",
    "        cur_ugly=min(ugly_nums[mutil2_idx]*2,ugly_nums[mutil3_idx]*3,ugly_nums[mutil5_idx]*5)\n",
    "        \n",
    "        if cur_ugly>ugly_nums[-1]:\n",
    "            ugly_nums.append(cur_ugly)\n",
    "            cnt+=1\n",
    "        \n",
    "        if cur_ugly==ugly_nums[mutil2_idx]*2:\n",
    "            mutil2_idx+=1\n",
    "        elif cur_ugly==ugly_nums[mutil3_idx]*3:\n",
    "            mutil3_idx+=1\n",
    "        else:\n",
    "            mutil5_idx+=1\n",
    "            \n",
    "    return ugly_nums[-1]"
   ]
  },
  {
   "cell_type": "markdown",
   "metadata": {},
   "source": [
    "(没搞懂！)[歌单方案数](https://www.nowcoder.com/questionTerminal/f3ab6fe72af34b71a2fd1d83304cbbb3?orderByHotValue=1&page=1&onlyReference=false)，手头有X首A分钟的歌，还有Y首B分钟的歌，要组成一个总长K分钟的歌单，有多少种方案。$K\\le1000$，$X,Y\\le100$"
   ]
  },
  {
   "cell_type": "code",
   "execution_count": 17,
   "metadata": {
    "scrolled": true
   },
   "outputs": [
    {
     "data": {
      "text/plain": [
       "9"
      ]
     },
     "execution_count": 17,
     "metadata": {},
     "output_type": "execute_result"
    }
   ],
   "source": [
    "# 思路：动态规划，设index为歌单内歌的数量，column为歌单长度\n",
    "# 难点在于状态转移方程，C(n,k)= C(n-1,k) + C(n-1,k-1)\n",
    "# n表示歌总数，k表示选出来的歌的数量，题目中k是以时长表示的\n",
    "# 所以该题的状态方程为\n",
    "# dp[num_song][total_duration]=dp[num_song-1][total_duration]+dp[num_song-1][total_duration-len_song]\n",
    "\n",
    "\n",
    "def solution(A, X, B, Y, K):\n",
    "    dp = [[0 for _ in range(K+1)] for _ in range(X+Y+1)]\n",
    "    lens = [0]*(X+Y+1)\n",
    "\n",
    "    dp[0][0] = 1    # 0首歌组成0分钟的歌单，一种方案\n",
    "    for i in range(1, X+1):\n",
    "        lens[i] = A\n",
    "    for i in range(X+1, X+Y+1):\n",
    "        lens[i] = B\n",
    "\n",
    "    for num_song in range(1, X+Y+1):\n",
    "        for total_duration in range(0, K+1):\n",
    "            dp[num_song][total_duration] = dp[num_song-1][total_duration] if total_duration < lens[num_song] \\\n",
    "                else dp[num_song - 1][total_duration]+dp[num_song-1][total_duration-lens[num_song]]\n",
    "\n",
    "    return dp[X+Y][K]"
   ]
  },
  {
   "cell_type": "markdown",
   "metadata": {},
   "source": [
    "[Fibonacci Number](https://leetcode.com/problems/fibonacci-number/). "
   ]
  },
  {
   "cell_type": "code",
   "execution_count": 6,
   "metadata": {},
   "outputs": [
    {
     "data": {
      "text/plain": [
       "3"
      ]
     },
     "execution_count": 6,
     "metadata": {},
     "output_type": "execute_result"
    }
   ],
   "source": [
    "# 思路：空间换时间\n",
    "\n",
    "\n",
    "def fib(N: int) -> int:\n",
    "    if N < 2:\n",
    "        return N\n",
    "\n",
    "    pre = 0\n",
    "    cur = 1\n",
    "\n",
    "    for _ in range(2, N+1):\n",
    "        pre += cur    # 前两个数加起来，覆盖pre\n",
    "        pre, cur = cur, pre    # 交换两值\n",
    "\n",
    "    return cur"
   ]
  },
  {
   "cell_type": "markdown",
   "metadata": {},
   "source": [
    "[Jump Game](https://leetcode.com/problems/jump-game/)。给定一数组，数组中的数字代表弹簧的最大弹力，即最远能往前走多远，判断能否走到最后一个单元。"
   ]
  },
  {
   "cell_type": "code",
   "execution_count": 6,
   "metadata": {},
   "outputs": [
    {
     "data": {
      "text/plain": [
       "False"
      ]
     },
     "execution_count": 6,
     "metadata": {},
     "output_type": "execute_result"
    }
   ],
   "source": [
    "# 思路：动态规划，维护一个未发挥弹力的数组，即达到某位置没有利用的弹力\n",
    "# 若求得最后一个位置的未发挥弹力单位大于等于0则说明可以到达\n",
    "# 状态转移方程：dp[i]=max(dp[i-1],nums[i-1])-1\n",
    "\n",
    "def canJump(nums) -> bool:\n",
    "    remain=[0 for _ in range(len(nums))]\n",
    "    for idx in range(1,len(nums)):\n",
    "        remain[idx]=max(remain[idx-1],nums[idx-1])-1\n",
    "        if remain[idx]<0:\n",
    "            return False\n",
    "    \n",
    "    return True"
   ]
  },
  {
   "cell_type": "markdown",
   "metadata": {},
   "source": [
    "[Coin Change](https://leetcode.com/problems/coin-change/)。硬币找零，求最小硬币数。"
   ]
  },
  {
   "cell_type": "code",
   "execution_count": 5,
   "metadata": {},
   "outputs": [
    {
     "data": {
      "text/plain": [
       "3"
      ]
     },
     "execution_count": 5,
     "metadata": {},
     "output_type": "execute_result"
    }
   ],
   "source": [
    "# 思路：动态规划的典型例子\n",
    "# 设硬币可能的面额为denomination，状态转移方程为dp[i]=min(dp[i],dp[i-denomination]+1)\n",
    "# 关键在于动态数组的初始化，将所有位置初始化为一个大值，且dp[0]=0\n",
    "\n",
    "\n",
    "def coinChange(coins, amount: int) -> int:\n",
    "    if not coins:\n",
    "        return -1\n",
    "    if amount == 0:\n",
    "        return 0\n",
    "\n",
    "    max_val = 1e8\n",
    "    dp = [max_val for _ in range(amount+1)]\n",
    "    dp[0] = 0\n",
    "\n",
    "    for i in range(1, amount+1):\n",
    "        for denomination in coins:\n",
    "            if denomination <= i:\n",
    "                dp[i] = min(dp[i], dp[i-denomination]+1)\n",
    "\n",
    "    return dp[-1] if dp[-1] != max_val else -1"
   ]
  },
  {
   "cell_type": "markdown",
   "metadata": {},
   "source": [
    "[Maximum Product Subarray](https://leetcode.com/problems/maximum-product-subarray/)。给定一整数数组，求出可能的子数组最大乘积。"
   ]
  },
  {
   "cell_type": "code",
   "execution_count": 11,
   "metadata": {},
   "outputs": [
    {
     "data": {
      "text/plain": [
       "12"
      ]
     },
     "execution_count": 11,
     "metadata": {},
     "output_type": "execute_result"
    }
   ],
   "source": [
    "# 思路：维护两个动态数组，一个保存最大值，一个保存最小值，后者是用于乘负数的情况\n",
    "# 状态转移方程为max_dp[i]=max(max_dp[i-1]*nums[i],nums[i],min_dp[i-1]*nums[i])\n",
    "# min_dp[i]=min(max_dp[i-1]*nums[i],nums[i],min_dp[i-1]*nums[i])\n",
    "# 但是注意到状态转移方程只依赖前一个状态，所以不需要两个数组，只需要两个变量\n",
    "\n",
    "\n",
    "def maxProduct(nums) -> int:\n",
    "    if not nums:\n",
    "        return 0\n",
    "    if len(nums) == 1:\n",
    "        return nums[0]\n",
    "\n",
    "    max_dp = nums[0]\n",
    "    min_dp = nums[0]\n",
    "    res = nums[0]\n",
    "\n",
    "    for idx in range(1, len(nums)):\n",
    "        max_tmp = max(max_dp*nums[idx], nums[idx], min_dp*nums[idx])\n",
    "        min_tmp = min(max_dp*nums[idx], nums[idx], min_dp*nums[idx])\n",
    "\n",
    "        max_dp, min_dp = max_tmp, min_tmp\n",
    "        res = max(res, max_dp)\n",
    "\n",
    "    return res"
   ]
  },
  {
   "cell_type": "markdown",
   "metadata": {},
   "source": [
    "[Unique Paths](https://leetcode.com/problems/unique-paths/)。从一个矩形的左上方走到右下方有多少种不同的走法？只能往右或往下走。"
   ]
  },
  {
   "cell_type": "code",
   "execution_count": 2,
   "metadata": {},
   "outputs": [
    {
     "data": {
      "text/plain": [
       "28"
      ]
     },
     "execution_count": 2,
     "metadata": {},
     "output_type": "execute_result"
    }
   ],
   "source": [
    "# 思路：典型的动态规划，正常维护一个二维数组，状态转移：dp[row][col]=dp[row-1][col]+dp[row][col-1]\n",
    "# 每一个格子的来源只能是左边或右边\n",
    "\n",
    "\n",
    "def uniquePaths(rows: int, cols: int) -> int:\n",
    "    if rows < 2 or cols < 2:\n",
    "        return 1\n",
    "\n",
    "    dp = [[1 for _ in range(cols)]for _ in range(rows)]    # 初始的上边界与左边界都只有一种走法\n",
    "    for row in range(1, rows):\n",
    "        for col in range(1, cols):\n",
    "            dp[row][col] = dp[row-1][col]+dp[row][col-1]\n",
    "\n",
    "    return dp[-1][-1]"
   ]
  },
  {
   "cell_type": "markdown",
   "metadata": {},
   "source": [
    "[Unique Paths II](https://leetcode.com/problems/unique-paths-ii/)。走迷宫限定版，只能往下或往右走，从迷宫的左上角走到右下角有多少种走法。"
   ]
  },
  {
   "cell_type": "code",
   "execution_count": 5,
   "metadata": {},
   "outputs": [
    {
     "data": {
      "text/plain": [
       "2"
      ]
     },
     "execution_count": 5,
     "metadata": {},
     "output_type": "execute_result"
    }
   ],
   "source": [
    "# 思路：动态规划，不过需要考虑障碍物，障碍物格子的dp值为0\n",
    "# 另外，注意第一行和第一列，由于只能往下和往右，所以第一行中障碍物右边的所有格子dp值均为0\n",
    "# 同理，第一列中障碍物下面的所有格子dp值为0\n",
    "# 即首行dp[0][col]+=dp[0][col-1]，首列dp[row][0]+=dp[row-1][0]\n",
    "\n",
    "\n",
    "def uniquePathsWithObstacles(obstacleGrid) -> int:\n",
    "    if obstacleGrid[0][0] == 1:    # 保证起点的存在性\n",
    "        return 0\n",
    "\n",
    "    rows, cols = len(obstacleGrid), len(obstacleGrid[0])\n",
    "    dp = [[0 for _ in range(cols)] for _ in range(rows)]\n",
    "\n",
    "    # 首行首列只加一半\n",
    "    for row in range(rows):\n",
    "        for col in range(cols):\n",
    "            if row == 0 and col == 0:\n",
    "                dp[row][col] = 1\n",
    "            elif obstacleGrid[row][col] == 1:\n",
    "                dp[row][col] = 0\n",
    "            else:\n",
    "                if row >= 1:\n",
    "                    dp[row][col] += dp[row-1][col]\n",
    "                if col >= 1:\n",
    "                    dp[row][col] += dp[row][col-1]\n",
    "\n",
    "    return dp[-1][-1]"
   ]
  },
  {
   "cell_type": "markdown",
   "metadata": {},
   "source": [
    "[Longest Increasing Subsequence](https://leetcode.com/problems/longest-increasing-subsequence/)。最长递增序列，只需返回长度。"
   ]
  },
  {
   "cell_type": "code",
   "execution_count": 1,
   "metadata": {},
   "outputs": [
    {
     "data": {
      "text/plain": [
       "4"
      ]
     },
     "execution_count": 1,
     "metadata": {},
     "output_type": "execute_result"
    }
   ],
   "source": [
    "# 思路：动态规划，设dp[i]存放的是以索引i结尾的最长递增序列长度\n",
    "# 即dp[i]存放的是i之前小于num[i]的元素数量再+1\n",
    "\n",
    "\n",
    "def lengthOfLIS(nums) -> int:\n",
    "    if not nums:\n",
    "        return 0\n",
    "\n",
    "    dp = [1]*len(nums)\n",
    "    res = 1\n",
    "    for i in range(1, len(nums)):\n",
    "        for j in range(0, i):\n",
    "            if nums[j] < nums[i]:    # 只有小于最后一个元素才序列长度才能增加\n",
    "                dp[i] = max(dp[i], dp[j]+1)    # +1，但是只记录最大值\n",
    "        res = max(res, dp[i])\n",
    "\n",
    "    return res"
   ]
  },
  {
   "cell_type": "code",
   "execution_count": null,
   "metadata": {},
   "outputs": [],
   "source": []
  }
 ],
 "metadata": {
  "hide_input": false,
  "kernelspec": {
   "display_name": "Python 3",
   "language": "python",
   "name": "python3"
  },
  "language_info": {
   "codemirror_mode": {
    "name": "ipython",
    "version": 3
   },
   "file_extension": ".py",
   "mimetype": "text/x-python",
   "name": "python",
   "nbconvert_exporter": "python",
   "pygments_lexer": "ipython3",
   "version": "3.6.6"
  },
  "toc": {
   "base_numbering": 1,
   "nav_menu": {},
   "number_sections": true,
   "sideBar": true,
   "skip_h1_title": false,
   "title_cell": "Table of Contents",
   "title_sidebar": "Contents",
   "toc_cell": false,
   "toc_position": {},
   "toc_section_display": true,
   "toc_window_display": false
  }
 },
 "nbformat": 4,
 "nbformat_minor": 2
}
