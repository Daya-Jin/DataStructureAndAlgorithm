{
 "cells": [
  {
   "cell_type": "markdown",
   "metadata": {},
   "source": [
    "[Two Sum II - Input array is sorted](https://leetcode.com/problems/two-sum-ii-input-array-is-sorted/)。给一有序数组与一个目标值，返回和为目标值的两索引。注意，该题索引以$1$为起点，且假设数组中只有一对满足条件的值。\n",
    "\n",
    "思路：数组已经有序，那么设立首尾双指针。若首尾相加小于target，说明需要加大，则左指针右移；反之右指针左移。"
   ]
  },
  {
   "cell_type": "code",
   "execution_count": null,
   "metadata": {},
   "outputs": [],
   "source": [
    "def twoSum(numbers, target: int):\n",
    "    left, right = 0, len(numbers)-1\n",
    "\n",
    "    while left < right:\n",
    "        cur_sum = numbers[left]+numbers[right]\n",
    "\n",
    "        if cur_sum == target:\n",
    "            return [left+1, right+1]\n",
    "        elif cur_sum < target:\n",
    "            left += 1\n",
    "        else:\n",
    "            right -= 1"
   ]
  },
  {
   "cell_type": "markdown",
   "metadata": {},
   "source": [
    "[Reverse Words in a String III](https://leetcode.com/problems/reverse-words-in-a-string-iii/)。给一句子，反转所有单词。\n",
    "\n",
    "思路：首先将字符串转成列表便于交换。扫描到第一个非空格字符的位置，记录为```start```，从```start```开始扫描到第一个空格字符的位置，记录为```end```。交换```start```与```end-1```之间的字符。"
   ]
  },
  {
   "cell_type": "code",
   "execution_count": 5,
   "metadata": {},
   "outputs": [
    {
     "data": {
      "text/plain": [
       "\"s'teL ekat edoCteeL tsetnoc\""
      ]
     },
     "execution_count": 5,
     "metadata": {},
     "output_type": "execute_result"
    }
   ],
   "source": [
    "def reverseWords(s: str) -> str:\n",
    "    n = len(s)\n",
    "    start = 0\n",
    "    s = list(s)\n",
    "\n",
    "    def reverse(left, right):\n",
    "        while left < right:\n",
    "            s[left], s[right] = s[right], s[left]\n",
    "            left += 1\n",
    "            right -= 1\n",
    "\n",
    "    while start < n:\n",
    "        # 1. 第一个非空格字符\n",
    "        while start < n and s[start] == ' ':\n",
    "            start += 1\n",
    "\n",
    "        # 2. 第一个空格字符\n",
    "        end = start\n",
    "        while end < n and s[end] != ' ':\n",
    "            end += 1\n",
    "\n",
    "        # 3. 交换\n",
    "        reverse(start, end-1)\n",
    "        start = end\n",
    "\n",
    "    return ''.join(s)"
   ]
  },
  {
   "cell_type": "markdown",
   "metadata": {},
   "source": [
    "[Reverse Words in a String](https://leetcode.com/problems/reverse-words-in-a-string/)。给一句子，返回单词逆序的句子，返回字串中不应包含多余的空格。\n",
    "\n",
    "思路：首先将字串转成列表便于交换。反转整个字串，再反转每个单词。去除空格比较麻烦，首尾空格可以使用```strip()```方法，去除中间的空格可以额外扫描一遍。"
   ]
  },
  {
   "cell_type": "code",
   "execution_count": 13,
   "metadata": {},
   "outputs": [
    {
     "data": {
      "text/plain": [
       "'example good a'"
      ]
     },
     "execution_count": 13,
     "metadata": {},
     "output_type": "execute_result"
    }
   ],
   "source": [
    "def reverseWords(s: str) -> str:\n",
    "    s = list(s.strip().replace('  ', ' '))\n",
    "    n = len(s)\n",
    "    start = 0\n",
    "\n",
    "    def reverse(left, right):\n",
    "        while left < right:\n",
    "            s[left], s[right] = s[right], s[left]\n",
    "            left += 1\n",
    "            right -= 1\n",
    "\n",
    "    reverse(0, n-1)\n",
    "\n",
    "    while start < n:\n",
    "        while start < n and s[start] == ' ':\n",
    "            start += 1\n",
    "\n",
    "        end = start\n",
    "        while end < n and s[end] != ' ':\n",
    "            end += 1\n",
    "\n",
    "        reverse(start, end-1)\n",
    "        start = end\n",
    "\n",
    "    # 去除中间多余的空格\n",
    "    for idx in range(n-1):\n",
    "        if s[idx] == ' ' and s[idx+1] == ' ':\n",
    "            s[idx] = ''\n",
    "\n",
    "    return ''.join(s)"
   ]
  },
  {
   "cell_type": "code",
   "execution_count": null,
   "metadata": {},
   "outputs": [],
   "source": []
  }
 ],
 "metadata": {
  "hide_input": false,
  "kernelspec": {
   "display_name": "Python 3",
   "language": "python",
   "name": "python3"
  },
  "language_info": {
   "codemirror_mode": {
    "name": "ipython",
    "version": 3
   },
   "file_extension": ".py",
   "mimetype": "text/x-python",
   "name": "python",
   "nbconvert_exporter": "python",
   "pygments_lexer": "ipython3",
   "version": "3.6.6"
  },
  "toc": {
   "base_numbering": 1,
   "nav_menu": {},
   "number_sections": true,
   "sideBar": true,
   "skip_h1_title": false,
   "title_cell": "Table of Contents",
   "title_sidebar": "Contents",
   "toc_cell": false,
   "toc_position": {},
   "toc_section_display": true,
   "toc_window_display": false
  }
 },
 "nbformat": 4,
 "nbformat_minor": 2
}
