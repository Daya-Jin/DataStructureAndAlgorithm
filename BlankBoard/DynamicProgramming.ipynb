{
 "cells": [
  {
   "cell_type": "markdown",
   "metadata": {},
   "source": [
    "[Minimum Path Sum](https://leetcode.com/problems/minimum-path-sum/)。给一$m\\times{n}$的矩阵，从左上角出发，到达右下角。求最小路径和。\n",
    "\n",
    "思路：动态规划，首行首列只能手动计算。"
   ]
  },
  {
   "cell_type": "code",
   "execution_count": 3,
   "metadata": {},
   "outputs": [
    {
     "data": {
      "text/plain": [
       "7"
      ]
     },
     "execution_count": 3,
     "metadata": {},
     "output_type": "execute_result"
    }
   ],
   "source": [
    "def minPathSum(grid) -> int:\n",
    "    rows, cols = len(grid), len(grid[0])\n",
    "    dp = [[0x7FFFFFFF]*cols for _ in range(rows)]\n",
    "    dp[0][0] = grid[0][0]\n",
    "\n",
    "    for row in range(1, rows):\n",
    "        dp[row][0] = dp[row-1][0]+grid[row][0]\n",
    "    for col in range(1, cols):\n",
    "        dp[0][col] = dp[0][col-1]+grid[0][col]\n",
    "\n",
    "    for row in range(1, rows):\n",
    "        for col in range(1, cols):\n",
    "            dp[row][col] = min(dp[row-1][col],\n",
    "                               dp[row][col-1])+grid[row][col]\n",
    "\n",
    "    return dp[-1][-1]"
   ]
  },
  {
   "cell_type": "markdown",
   "metadata": {},
   "source": [
    "[Coin Change](https://leetcode.com/problems/coin-change/)。给定若干面额的硬币，再给一个数值$num$，求组成$num$所需最少的硬币数。\n",
    "\n",
    "思路：动态规划。设立dp数组，其中$dp[i]$表示对于数值$i$最少需要的硬币数，初始状态$dp[0]=0$，其他位置初始化为最大值。对于数值$i$与面值$denomination$，状态转移方程为：\n",
    "$$\n",
    "dp[i]=min(dp[i],dp[i-denomination]+1)\n",
    "$$"
   ]
  },
  {
   "cell_type": "code",
   "execution_count": 8,
   "metadata": {},
   "outputs": [
    {
     "data": {
      "text/plain": [
       "3"
      ]
     },
     "execution_count": 8,
     "metadata": {},
     "output_type": "execute_result"
    }
   ],
   "source": [
    "def coinChange(coins, amount: int) -> int:\n",
    "    dp = [0x7FFFFFFF]*(amount+1)\n",
    "    dp[0] = 0\n",
    "\n",
    "    for val in range(1, amount+1):\n",
    "        for denomination in coins:\n",
    "            if denomination <= val:\n",
    "                dp[val] = min(dp[val], dp[val-denomination]+1)\n",
    "\n",
    "    return dp[-1] if dp[-1] < 0x7FFFFFFF else -1"
   ]
  },
  {
   "cell_type": "markdown",
   "metadata": {},
   "source": [
    "[Unique Paths](https://leetcode.com/problems/unique-paths/)。从一个矩形的左上方走到右下方有多少种不同的走法？只能往右或往下走。\n",
    "\n",
    "思路：设立dp矩阵，其中$dp[row][col$表示从左上方走到$(row,col)$的可能数。初始状态，首行跟首列的位置只能是$1$，状态转移方程为：\n",
    "$$\n",
    "dp[row][col]=dp[row-1][col]+dp[row][col-1]\n",
    "$$"
   ]
  },
  {
   "cell_type": "code",
   "execution_count": null,
   "metadata": {},
   "outputs": [],
   "source": [
    "def uniquePaths(m: int, n: int) -> int:\n",
    "    dp = [[1]*n for _ in range(m)]\n",
    "    for row in range(1, m):\n",
    "        for col in range(1, n):\n",
    "            dp[row][col] = dp[row-1][col]+dp[row][col-1]\n",
    "\n",
    "    return dp[-1][-1]"
   ]
  },
  {
   "cell_type": "markdown",
   "metadata": {},
   "source": [
    "[Longest Increasing Subsequence](https://leetcode.com/problems/longest-increasing-subsequence/)。给一数组，求出其最长递增子序列的长度。\n",
    "\n",
    "思路：设立一个dp数组，其中$dp[i]$表示以索引$i$结尾的字串最长子序列的长度，初始状态为$dp[i]=1$，因为任一单字符都可构成一个子序列。那么状态转移方程为：\n",
    "$$\n",
    "dp[i]=max(dp[i],dp[j_{1}]+1,dp[j_{2}]+1,...,dp[j_{k}]+1)\n",
    "$$\n",
    "其中$j$特指$nums[j]<nums[i]$的索引。注意该题的状态转移并不由之前的单个状态决定，而是需要遍历。"
   ]
  },
  {
   "cell_type": "code",
   "execution_count": 9,
   "metadata": {},
   "outputs": [
    {
     "data": {
      "text/plain": [
       "4"
      ]
     },
     "execution_count": 9,
     "metadata": {},
     "output_type": "execute_result"
    }
   ],
   "source": [
    "def lengthOfLIS(nums) -> int:\n",
    "    if not nums:\n",
    "        return 0\n",
    "\n",
    "    n = len(nums)\n",
    "    dp = [1]*n\n",
    "\n",
    "    for i in range(1, n):\n",
    "        for j in range(i):\n",
    "            if nums[j] < nums[i]:\n",
    "                dp[i] = max(dp[i], dp[j]+1)\n",
    "\n",
    "    return max(dp)"
   ]
  },
  {
   "cell_type": "markdown",
   "metadata": {},
   "source": [
    "[Jump Game II](https://leetcode.com/problems/jump-game-ii/)。给一数组，每个数字表示在当前位置可以前进的最大距离。现在保证从起点出发一定可以到达终点，求最小的步数。\n",
    "\n",
    "思路：设立dp数组，其中$dp[i]$表示到达$i$位置的最小步数。那么可以根据$dp[i]$与$nums[i]$的值去更新后面dp的值。思路应该没错，但是超时了，时间复杂度为$O(n^{2})$。"
   ]
  },
  {
   "cell_type": "code",
   "execution_count": null,
   "metadata": {},
   "outputs": [],
   "source": [
    "def jump(nums) -> int:\n",
    "    n = len(nums)\n",
    "    dp = [0x7FFFFFFF]*n\n",
    "    dp[0] = 0\n",
    "\n",
    "    for idx, num in enumerate(nums):\n",
    "        for offset in range(1, num+1):\n",
    "            pos = idx+offset if idx+offset < n else n-1\n",
    "            dp[pos] = min(dp[pos], dp[idx]+1)\n",
    "\n",
    "    return dp[-1]"
   ]
  }
 ],
 "metadata": {
  "hide_input": false,
  "kernelspec": {
   "display_name": "Python 3",
   "language": "python",
   "name": "python3"
  },
  "language_info": {
   "codemirror_mode": {
    "name": "ipython",
    "version": 3
   },
   "file_extension": ".py",
   "mimetype": "text/x-python",
   "name": "python",
   "nbconvert_exporter": "python",
   "pygments_lexer": "ipython3",
   "version": "3.6.6"
  },
  "toc": {
   "base_numbering": 1,
   "nav_menu": {},
   "number_sections": true,
   "sideBar": true,
   "skip_h1_title": false,
   "title_cell": "Table of Contents",
   "title_sidebar": "Contents",
   "toc_cell": false,
   "toc_position": {},
   "toc_section_display": true,
   "toc_window_display": false
  }
 },
 "nbformat": 4,
 "nbformat_minor": 2
}
