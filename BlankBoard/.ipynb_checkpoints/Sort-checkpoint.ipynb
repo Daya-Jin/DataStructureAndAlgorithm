{
 "cells": [
  {
   "cell_type": "markdown",
   "metadata": {},
   "source": [
    "[Kth Largest Element in an Array](https://leetcode.com/problems/kth-largest-element-in-an-array/)。在无序数组中找出第$k$大的元素。\n",
    "\n",
    "思路：魔改倒序快排。"
   ]
  },
  {
   "cell_type": "code",
   "execution_count": 9,
   "metadata": {},
   "outputs": [
    {
     "data": {
      "text/plain": [
       "5"
      ]
     },
     "execution_count": 9,
     "metadata": {},
     "output_type": "execute_result"
    }
   ],
   "source": [
    "def findKthLargest(nums, k: int) -> int:\n",
    "    def partion(left, right):\n",
    "        pivot = nums[left]\n",
    "        while left < right:\n",
    "            while left < right and nums[right] <= nums[left]:\n",
    "                right -= 1\n",
    "            nums[left] = nums[right]\n",
    "\n",
    "            while left < right and nums[left] >= pivot:\n",
    "                left += 1\n",
    "            nums[right] = nums[left]\n",
    "\n",
    "        nums[left] = pivot\n",
    "\n",
    "        # 魔改部分\n",
    "        if left == k-1:\n",
    "            return nums[left]\n",
    "        elif left < k-1:\n",
    "            return partion(left+1, len(nums)-1)\n",
    "        else:\n",
    "            return partion(0, left-1)\n",
    "\n",
    "        return pivot\n",
    "\n",
    "    return partion(0, len(nums)-1)"
   ]
  },
  {
   "cell_type": "markdown",
   "metadata": {},
   "source": [
    "[Sort Array By Parity](https://leetcode.com/problems/sort-array-by-parity/)。按照奇偶性对数组排序，奇数排在偶数后面。\n",
    "\n",
    "思路：维护一个偶数尾指针，该指针之前都是偶数。使用工作指针扫描数组，遇到偶数则与尾指针交换。"
   ]
  },
  {
   "cell_type": "code",
   "execution_count": 3,
   "metadata": {},
   "outputs": [
    {
     "data": {
      "text/plain": [
       "[2, 4, 3, 1]"
      ]
     },
     "execution_count": 3,
     "metadata": {},
     "output_type": "execute_result"
    }
   ],
   "source": [
    "def sortArrayByParity(A):\n",
    "    left = right = 0\n",
    "    n = len(A)\n",
    "    even_tail = 0\n",
    "\n",
    "    for idx, num in enumerate(A):\n",
    "        if not num & 1:\n",
    "            A[even_tail], A[idx] = A[idx], A[even_tail]\n",
    "            even_tail += 1\n",
    "\n",
    "    return A"
   ]
  },
  {
   "cell_type": "markdown",
   "metadata": {},
   "source": [
    "[Sort Array By Parity II](https://leetcode.com/problems/sort-array-by-parity-ii/)。给一偶数长度的数组，其中一半是奇数一半是偶数。对数组重排，要求奇数位置上放奇数，偶数位置上放偶数。\n",
    "\n",
    "思路：双指针法，一个扫描奇数位置，一个扫描偶数位置。当偶数位置上出现奇数时，再去找一个奇数位置上的偶数，然后交换。注意该题如果用Python for循环写的话容易写成$O(n^{2})$的复杂度，最好使用while写。"
   ]
  },
  {
   "cell_type": "code",
   "execution_count": 10,
   "metadata": {},
   "outputs": [
    {
     "data": {
      "text/plain": [
       "[4, 5, 2, 7]"
      ]
     },
     "execution_count": 10,
     "metadata": {},
     "output_type": "execute_result"
    }
   ],
   "source": [
    "def sortArrayByParityII(A):\n",
    "    even_idx, odd_idx = 0, 1\n",
    "    n = len(A)\n",
    "\n",
    "    while even_idx < n-1 and odd_idx < n:\n",
    "        if A[even_idx] % 2:\n",
    "            while odd_idx < n:\n",
    "                if not A[odd_idx] % 2:\n",
    "                    A[even_idx], A[odd_idx] = A[odd_idx], A[even_idx]\n",
    "                    break\n",
    "                odd_idx += 2\n",
    "        even_idx += 2\n",
    "\n",
    "    return A"
   ]
  },
  {
   "cell_type": "markdown",
   "metadata": {},
   "source": [
    "[Top K Frequent Elements](https://leetcode.com/problems/top-k-frequent-elements/)。给一非空整形数组，找到出现频数排名前$k$名的数字。\n",
    "\n",
    "思路：首先对数字进行计数，然后对频数使用快排魔改版。"
   ]
  },
  {
   "cell_type": "code",
   "execution_count": 19,
   "metadata": {},
   "outputs": [
    {
     "name": "stdout",
     "output_type": "stream",
     "text": [
      "0 2\n",
      "1 2\n"
     ]
    },
    {
     "data": {
      "text/plain": [
       "[1, 2]"
      ]
     },
     "execution_count": 19,
     "metadata": {},
     "output_type": "execute_result"
    }
   ],
   "source": [
    "def topKFrequent(nums, k: int):\n",
    "    cnt_lookup = dict()\n",
    "    for num in nums:\n",
    "        cnt_lookup.setdefault(num, 0)\n",
    "        cnt_lookup[num] += 1\n",
    "\n",
    "    l = list(cnt_lookup.items())\n",
    "\n",
    "    def partion(left, right):\n",
    "        lo, hi = left, right\n",
    "        pivot = l[lo]\n",
    "\n",
    "        while lo < hi:\n",
    "            while lo < hi and l[hi][1] <= pivot[1]:\n",
    "                hi -= 1\n",
    "            l[lo] = l[hi]\n",
    "\n",
    "            while lo < hi and l[lo][1] >= pivot[1]:\n",
    "                lo += 1\n",
    "            l[hi] = l[lo]\n",
    "\n",
    "        l[lo] = pivot\n",
    "\n",
    "        if lo == k-1:\n",
    "            return lo\n",
    "        elif lo < k-1:\n",
    "            return partion(lo+1, right)\n",
    "        else:\n",
    "            return partion(left, lo-1)\n",
    "\n",
    "    idx = partion(0, len(l)-1)\n",
    "    return [l[i][0] for i in range(idx+1)]"
   ]
  },
  {
   "cell_type": "markdown",
   "metadata": {},
   "source": [
    "[Reverse Pairs](https://leetcode.com/problems/reverse-pairs/)。给一数组，求其逆序对的数量。这里的逆序对定义为：$i<j$且$nums[i]>2nums[j]$。\n",
    "\n",
    "思路：求逆序对的方法是使用魔改的归并排序。假如在某一次归并中，左右两边都有序且知道左右两边各自的逆序对，那么要求的就是左右之间的排序与逆序对计算。\n",
    "\n",
    "设$i$、$j$分别是左右两部分的工作指针，易得初始$i$、$j$分别指向左右部分的最小值。假设$nums[i]>2nums[j]$，那么$nums[i]$后面的所有数字都构成逆序对，然后$j$右移；若$nums[i]\\le{2nums[j]}$，则$nums[i]$与$nums[j]$后面的所有数字都无法构成逆序对。\n",
    "\n",
    "那么递归函数的工作就有三步：\n",
    "- 对左右部分分别递归计数与递归排序\n",
    "- 计算左边与右边构成的逆序对\n",
    "- 对左右部分合起来排序"
   ]
  },
  {
   "cell_type": "code",
   "execution_count": 27,
   "metadata": {},
   "outputs": [
    {
     "data": {
      "text/plain": [
       "2"
      ]
     },
     "execution_count": 27,
     "metadata": {},
     "output_type": "execute_result"
    }
   ],
   "source": [
    "def reversePairs(nums) -> int:\n",
    "    def rec(left, right):\n",
    "        if left >= right:\n",
    "            return 0\n",
    "\n",
    "        # 1. 递归计数且排序\n",
    "        mid = (left+right) >> 1\n",
    "        left_res = rec(left, mid)\n",
    "        right_res = rec(mid+1, right)\n",
    "\n",
    "        # 2. 计算左右两部分构成的逆序对\n",
    "        i, j = left, mid+1\n",
    "        cur_res = 0\n",
    "        while i <= mid and j <= right:\n",
    "            if nums[i] > 2*nums[j]:\n",
    "                cur_res += mid-i+1\n",
    "                j += 1\n",
    "            else:\n",
    "                i += 1\n",
    "\n",
    "        # 3. 左右归并排序\n",
    "        nums[left:right+1] = sorted(nums[left:right+1])\n",
    "\n",
    "        return left_res+cur_res+right_res\n",
    "\n",
    "    return rec(0, len(nums)-1)"
   ]
  },
  {
   "cell_type": "markdown",
   "metadata": {},
   "source": [
    "[Sort an Array](https://leetcode.com/problems/sort-an-array/)。排序数组。\n",
    "\n",
    "思路：使用任意一种排序算法即可。"
   ]
  },
  {
   "cell_type": "code",
   "execution_count": 28,
   "metadata": {},
   "outputs": [
    {
     "data": {
      "text/plain": [
       "[1, 2, 3, 5]"
      ]
     },
     "execution_count": 28,
     "metadata": {},
     "output_type": "execute_result"
    }
   ],
   "source": [
    "# 快速排序\n",
    "def sortArray(nums):\n",
    "    def partion(left, right):\n",
    "        if left >= right:\n",
    "            return\n",
    "\n",
    "        pivot = nums[left]\n",
    "\n",
    "        lo, hi = left, right\n",
    "        while lo < hi:\n",
    "            while lo < hi and nums[hi] >= pivot:\n",
    "                hi -= 1\n",
    "            nums[lo] = nums[hi]\n",
    "\n",
    "            while lo < hi and nums[lo] <= pivot:\n",
    "                lo += 1\n",
    "            nums[hi] = nums[lo]\n",
    "\n",
    "        nums[lo] = pivot\n",
    "\n",
    "        partion(left, lo-1)\n",
    "        partion(lo+1, right)\n",
    "\n",
    "    partion(0, len(nums)-1)\n",
    "    return nums"
   ]
  },
  {
   "cell_type": "code",
   "execution_count": 32,
   "metadata": {},
   "outputs": [
    {
     "data": {
      "text/plain": [
       "[1, 2, 3, 5]"
      ]
     },
     "execution_count": 32,
     "metadata": {},
     "output_type": "execute_result"
    }
   ],
   "source": [
    "# 归并排序\n",
    "def sortArray(nums):\n",
    "    def merge(left, right):\n",
    "        if left >= right:\n",
    "            return\n",
    "\n",
    "        mid = (left+right) >> 1\n",
    "        merge(left, mid)\n",
    "        merge(mid+1, right)\n",
    "\n",
    "        nums[left:right+1] = sorted(nums[left:right+1])\n",
    "\n",
    "    merge(0, len(nums)-1)\n",
    "    return nums"
   ]
  },
  {
   "cell_type": "code",
   "execution_count": null,
   "metadata": {},
   "outputs": [],
   "source": []
  }
 ],
 "metadata": {
  "hide_input": false,
  "kernelspec": {
   "display_name": "Python 3",
   "language": "python",
   "name": "python3"
  },
  "language_info": {
   "codemirror_mode": {
    "name": "ipython",
    "version": 3
   },
   "file_extension": ".py",
   "mimetype": "text/x-python",
   "name": "python",
   "nbconvert_exporter": "python",
   "pygments_lexer": "ipython3",
   "version": "3.6.6"
  },
  "toc": {
   "base_numbering": 1,
   "nav_menu": {},
   "number_sections": true,
   "sideBar": true,
   "skip_h1_title": false,
   "title_cell": "Table of Contents",
   "title_sidebar": "Contents",
   "toc_cell": false,
   "toc_position": {},
   "toc_section_display": true,
   "toc_window_display": false
  }
 },
 "nbformat": 4,
 "nbformat_minor": 2
}
