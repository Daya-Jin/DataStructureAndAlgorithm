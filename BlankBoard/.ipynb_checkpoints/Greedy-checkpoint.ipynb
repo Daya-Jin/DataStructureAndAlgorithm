{
 "cells": [
  {
   "cell_type": "markdown",
   "metadata": {},
   "source": [
    "[Jump Game](https://leetcode.com/problems/jump-game/)。给定一数组，数组中的数字代表弹簧的最大弹力，即最远能往前走多远，判断能否走到最后一个单元。\n",
    "\n",
    "思路：贪心算法，维护一个最远距离的变量。扫描数组，首先判断该位置能否到达，即$idx<=max\\_reach$，若能到达，再更新最远距离。"
   ]
  },
  {
   "cell_type": "code",
   "execution_count": null,
   "metadata": {},
   "outputs": [],
   "source": [
    "def canJump(nums) -> bool:\n",
    "    n = len(nums)\n",
    "    if n < 2:\n",
    "        return True\n",
    "\n",
    "    max_reach = 0\n",
    "\n",
    "    for idx, num in enumerate(nums):\n",
    "        if idx <= max_reach:\n",
    "            max_reach = max(max_reach, num+idx)\n",
    "        if max_reach >= n-1:\n",
    "            return True\n",
    "\n",
    "    return False"
   ]
  }
 ],
 "metadata": {
  "hide_input": false,
  "kernelspec": {
   "display_name": "Python 3",
   "language": "python",
   "name": "python3"
  },
  "language_info": {
   "codemirror_mode": {
    "name": "ipython",
    "version": 3
   },
   "file_extension": ".py",
   "mimetype": "text/x-python",
   "name": "python",
   "nbconvert_exporter": "python",
   "pygments_lexer": "ipython3",
   "version": "3.6.6"
  },
  "toc": {
   "base_numbering": 1,
   "nav_menu": {},
   "number_sections": true,
   "sideBar": true,
   "skip_h1_title": false,
   "title_cell": "Table of Contents",
   "title_sidebar": "Contents",
   "toc_cell": false,
   "toc_position": {},
   "toc_section_display": true,
   "toc_window_display": false
  }
 },
 "nbformat": 4,
 "nbformat_minor": 2
}
