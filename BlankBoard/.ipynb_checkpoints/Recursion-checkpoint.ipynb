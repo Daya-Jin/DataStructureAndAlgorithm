{
 "cells": [
  {
   "cell_type": "code",
   "execution_count": 1,
   "metadata": {},
   "outputs": [],
   "source": [
    "class ListNode:\n",
    "    def __init__(self, x):\n",
    "        self.val = x\n",
    "        self.next = None\n",
    "\n",
    "\n",
    "class TreeNode:\n",
    "    def __init__(self, x):\n",
    "        self.val = x\n",
    "        self.left = None\n",
    "        self.right = None"
   ]
  },
  {
   "cell_type": "markdown",
   "metadata": {},
   "source": [
    "[Unique Binary Search Trees II](https://leetcode.com/problems/unique-binary-search-trees-ii/)。给定长度为$n$的正数序列$[1,2,...,n]$，求所有可能的BST结构。\n",
    "\n",
    "思路：递归。因为给的是有序的正数序列，任意选取一个数字作为根节点，则左分支就为该数字左边的数字，而右分支为其右边的数字。设计一个递归函数```rec(i,j)```，其会返回$[i,j]$之间数字可能构成的所有BST。"
   ]
  },
  {
   "cell_type": "code",
   "execution_count": 3,
   "metadata": {},
   "outputs": [
    {
     "data": {
      "text/plain": [
       "[<__main__.TreeNode at 0x1ca698076d8>,\n",
       " <__main__.TreeNode at 0x1ca69807978>,\n",
       " <__main__.TreeNode at 0x1ca698075c0>,\n",
       " <__main__.TreeNode at 0x1ca69807ba8>,\n",
       " <__main__.TreeNode at 0x1ca69807be0>]"
      ]
     },
     "execution_count": 3,
     "metadata": {},
     "output_type": "execute_result"
    }
   ],
   "source": [
    "def generateTrees(n: int):\n",
    "    def rec(i, j):\n",
    "        if i > j:\n",
    "            return [None]\n",
    "        if i == j:\n",
    "            return [TreeNode(i)]\n",
    "\n",
    "        res = list()\n",
    "        for root_val in range(i, j+1):\n",
    "            left_branches = rec(i, root_val-1)\n",
    "            right_branches = rec(root_val+1, j)\n",
    "\n",
    "            for left_branch in left_branches:\n",
    "                for right_branch in right_branches:\n",
    "                    root = TreeNode(root_val)\n",
    "                    root.left = left_branch\n",
    "                    root.right = right_branch\n",
    "                    res.append(root)\n",
    "\n",
    "        return res\n",
    "\n",
    "    return rec(1, n) if n >= 1 else list()"
   ]
  },
  {
   "cell_type": "markdown",
   "metadata": {},
   "source": [
    "[Lowest Common Ancestor of a Binary Tree](https://leetcode.com/problems/lowest-common-ancestor-of-a-binary-tree/)。给一二叉树与两个节点，返回两节点的最低公共祖先。\n",
    "\n",
    "思路：设计一个递归函数，基准情况如下。若根节点空则返回空，若两节点之一是根节点，则返回根节点。然后递归地在左右分支中查找LCA。如果左分支返回不为空，则说明左分支至少包含两节点中的一个，右边也一样。若左右返回都不为空，说明两节点分属于左右分支，则当前根节点是一个LCA。"
   ]
  },
  {
   "cell_type": "code",
   "execution_count": null,
   "metadata": {},
   "outputs": [],
   "source": [
    "def lowestCommonAncestor(root: TreeNode, p: TreeNode, q: TreeNode) -> TreeNode:\n",
    "    if root is None:\n",
    "        return None\n",
    "\n",
    "    if root == p or root == q:\n",
    "        return root\n",
    "\n",
    "    left_LCA = lowestCommonAncestor(root.left, p, q)\n",
    "    right_LCA = lowestCommonAncestor(root.right, p, q)\n",
    "\n",
    "    if left_LCA and right_LCA:\n",
    "        return root\n",
    "    elif left_LCA:\n",
    "        return left_LCA\n",
    "    else:\n",
    "        return right_LCA"
   ]
  },
  {
   "cell_type": "markdown",
   "metadata": {},
   "source": [
    "[Convert Sorted Array to Binary Search Tree](https://leetcode.com/problems/convert-sorted-array-to-binary-search-tree/)。有序数组转平衡搜索二叉树。\n",
    "\n",
    "思路：递归。要想生成的二叉搜索树平衡，那么每次将数组的中间元素作为根节点生成树即可。"
   ]
  },
  {
   "cell_type": "code",
   "execution_count": null,
   "metadata": {},
   "outputs": [],
   "source": [
    "def sortedArrayToBST(nums) -> TreeNode:\n",
    "    if not nums:\n",
    "        return None\n",
    "\n",
    "    n = len(nums)\n",
    "    if n == 1:\n",
    "        return TreeNode(nums[0])\n",
    "\n",
    "    mid = (n-1) >> 1\n",
    "    root = TreeNode(nums[mid])\n",
    "    root.left = sortedArrayToBST(nums[:mid])\n",
    "    root.right = sortedArrayToBST(nums[mid+1:])\n",
    "\n",
    "    return root"
   ]
  },
  {
   "cell_type": "markdown",
   "metadata": {},
   "source": [
    "[Convert Sorted List to Binary Search Tree](https://leetcode.com/problems/convert-sorted-list-to-binary-search-tree/)。有序单链表转平衡搜索二叉树。\n",
    "\n",
    "思路：链表转数组，再递归。"
   ]
  },
  {
   "cell_type": "code",
   "execution_count": null,
   "metadata": {},
   "outputs": [],
   "source": [
    "def sortedListToBST(head: ListNode) -> TreeNode:\n",
    "    def ll2l(head):    # linked list to list\n",
    "        nums = list()\n",
    "        while head:\n",
    "            nums.append(head.val)\n",
    "            head = head.next\n",
    "        return nums\n",
    "\n",
    "    def l2bst(nums):\n",
    "        if not nums:\n",
    "            return None\n",
    "        n = len(nums)\n",
    "        if n == 1:\n",
    "            return TreeNode(nums[0])\n",
    "\n",
    "        mid = (n-1) >> 1\n",
    "        root = TreeNode(nums[mid])\n",
    "        root.left = l2bst(nums[:mid])\n",
    "        root.right = l2bst(nums[mid+1:])\n",
    "\n",
    "        return root\n",
    "\n",
    "    nums = ll2l(head)\n",
    "    return l2bst(nums)"
   ]
  },
  {
   "cell_type": "markdown",
   "metadata": {},
   "source": [
    "[Construct Binary Tree from Inorder and Postorder Traversal](https://leetcode.com/problems/construct-binary-tree-from-inorder-and-postorder-traversal/)。由中序序列与后序序列重构二叉树。\n",
    "\n",
    "思路：递归。后序遍历的最后一个节点为根节点，中序遍历左右划分后分别是左右子树。"
   ]
  },
  {
   "cell_type": "code",
   "execution_count": 2,
   "metadata": {},
   "outputs": [],
   "source": [
    "def buildTree(inorder, postorder) -> TreeNode:\n",
    "    if not postorder:\n",
    "        return None\n",
    "    if len(postorder) == 1:\n",
    "        return TreeNode(postorder[0])\n",
    "\n",
    "    root_node = TreeNode(postorder[-1])\n",
    "    root_in_idx = inorder.index(root_node.val)\n",
    "    left_branch = buildTree(inorder[:root_in_idx],\n",
    "                            postorder[:root_in_idx])\n",
    "    right_branch = buildTree(inorder[root_in_idx+1:],\n",
    "                             postorder[root_in_idx:-1])\n",
    "    root_node.left = left_branch\n",
    "    root_node.right = right_branch\n",
    "\n",
    "    return root_node"
   ]
  },
  {
   "cell_type": "markdown",
   "metadata": {},
   "source": [
    "[Construct Binary Tree from Preorder and Inorder Traversal](https://leetcode.com/problems/construct-binary-tree-from-preorder-and-inorder-traversal/)。给定一棵二叉树的先序序列跟中序序列，重构这颗二叉树，返回根节点。\n",
    "\n",
    "思路：递归。"
   ]
  },
  {
   "cell_type": "code",
   "execution_count": 3,
   "metadata": {},
   "outputs": [],
   "source": [
    "def buildTree(preorder, inorder) -> TreeNode:\n",
    "    if not preorder:\n",
    "        return None\n",
    "    if len(preorder) == 1:\n",
    "        return TreeNode(preorder[0])\n",
    "\n",
    "    root_val = preorder[0]\n",
    "    root_in_idx = inorder.index(root_val)\n",
    "    root = TreeNode(root_val)\n",
    "\n",
    "    left_branch = buildTree(preorder[1:root_in_idx+1], inorder[:root_in_idx])\n",
    "    right_branch = buildTree(preorder[root_in_idx+1:], inorder[root_in_idx+1:])\n",
    "\n",
    "    root.left = left_branch\n",
    "    root.right = right_branch\n",
    "\n",
    "    return root"
   ]
  },
  {
   "cell_type": "code",
   "execution_count": null,
   "metadata": {},
   "outputs": [],
   "source": []
  }
 ],
 "metadata": {
  "hide_input": false,
  "kernelspec": {
   "display_name": "Python 3",
   "language": "python",
   "name": "python3"
  },
  "language_info": {
   "codemirror_mode": {
    "name": "ipython",
    "version": 3
   },
   "file_extension": ".py",
   "mimetype": "text/x-python",
   "name": "python",
   "nbconvert_exporter": "python",
   "pygments_lexer": "ipython3",
   "version": "3.6.6"
  },
  "toc": {
   "base_numbering": 1,
   "nav_menu": {},
   "number_sections": true,
   "sideBar": true,
   "skip_h1_title": false,
   "title_cell": "Table of Contents",
   "title_sidebar": "Contents",
   "toc_cell": false,
   "toc_position": {},
   "toc_section_display": true,
   "toc_window_display": false
  }
 },
 "nbformat": 4,
 "nbformat_minor": 2
}
