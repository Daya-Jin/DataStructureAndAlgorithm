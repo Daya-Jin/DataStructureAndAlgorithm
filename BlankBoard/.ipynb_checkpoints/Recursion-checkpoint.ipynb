{
 "cells": [
  {
   "cell_type": "markdown",
   "metadata": {},
   "source": [
    "[Unique Binary Search Trees II](https://leetcode.com/problems/unique-binary-search-trees-ii/)。给定长度为$n$的正数序列$[1,2,...,n]$，求所有可能的BST结构。\n",
    "\n",
    "思路：递归。因为给的是有序的正数序列，任意选取一个数字作为根节点，则左分支就为该数字左边的数字，而右分支为其右边的数字。设计一个递归函数```rec(i,j)```，其会返回$[i,j]$之间数字可能构成的所有BST。"
   ]
  },
  {
   "cell_type": "code",
   "execution_count": 3,
   "metadata": {},
   "outputs": [
    {
     "data": {
      "text/plain": [
       "[<__main__.TreeNode at 0x1ca698076d8>,\n",
       " <__main__.TreeNode at 0x1ca69807978>,\n",
       " <__main__.TreeNode at 0x1ca698075c0>,\n",
       " <__main__.TreeNode at 0x1ca69807ba8>,\n",
       " <__main__.TreeNode at 0x1ca69807be0>]"
      ]
     },
     "execution_count": 3,
     "metadata": {},
     "output_type": "execute_result"
    }
   ],
   "source": [
    "def generateTrees(n: int):\n",
    "    def rec(i, j):\n",
    "        if i > j:\n",
    "            return [None]\n",
    "        if i == j:\n",
    "            return [TreeNode(i)]\n",
    "\n",
    "        res = list()\n",
    "        for root_val in range(i, j+1):\n",
    "            left_branches = rec(i, root_val-1)\n",
    "            right_branches = rec(root_val+1, j)\n",
    "\n",
    "            for left_branch in left_branches:\n",
    "                for right_branch in right_branches:\n",
    "                    root = TreeNode(root_val)\n",
    "                    root.left = left_branch\n",
    "                    root.right = right_branch\n",
    "                    res.append(root)\n",
    "\n",
    "        return res\n",
    "\n",
    "    return rec(1, n) if n >= 1 else list()"
   ]
  },
  {
   "cell_type": "code",
   "execution_count": null,
   "metadata": {},
   "outputs": [],
   "source": []
  }
 ],
 "metadata": {
  "hide_input": false,
  "kernelspec": {
   "display_name": "Python 3",
   "language": "python",
   "name": "python3"
  },
  "language_info": {
   "codemirror_mode": {
    "name": "ipython",
    "version": 3
   },
   "file_extension": ".py",
   "mimetype": "text/x-python",
   "name": "python",
   "nbconvert_exporter": "python",
   "pygments_lexer": "ipython3",
   "version": "3.6.6"
  },
  "toc": {
   "base_numbering": 1,
   "nav_menu": {},
   "number_sections": true,
   "sideBar": true,
   "skip_h1_title": false,
   "title_cell": "Table of Contents",
   "title_sidebar": "Contents",
   "toc_cell": false,
   "toc_position": {},
   "toc_section_display": true,
   "toc_window_display": false
  }
 },
 "nbformat": 4,
 "nbformat_minor": 2
}
