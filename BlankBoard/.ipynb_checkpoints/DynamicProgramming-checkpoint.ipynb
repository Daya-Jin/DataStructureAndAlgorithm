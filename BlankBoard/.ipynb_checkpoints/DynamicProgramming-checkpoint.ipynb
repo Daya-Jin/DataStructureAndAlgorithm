{
 "cells": [
  {
   "cell_type": "markdown",
   "metadata": {},
   "source": [
    "[Minimum Path Sum](https://leetcode.com/problems/minimum-path-sum/)。给一$m\\times{n}$的矩阵，从左上角出发，到达右下角。求最小路径和。\n",
    "\n",
    "思路：动态规划，首行首列只能手动计算。"
   ]
  },
  {
   "cell_type": "code",
   "execution_count": 3,
   "metadata": {},
   "outputs": [
    {
     "data": {
      "text/plain": [
       "7"
      ]
     },
     "execution_count": 3,
     "metadata": {},
     "output_type": "execute_result"
    }
   ],
   "source": [
    "def minPathSum(grid) -> int:\n",
    "    rows, cols = len(grid), len(grid[0])\n",
    "    dp = [[0x7FFFFFFF]*cols for _ in range(rows)]\n",
    "    dp[0][0] = grid[0][0]\n",
    "\n",
    "    for row in range(1, rows):\n",
    "        dp[row][0] = dp[row-1][0]+grid[row][0]\n",
    "    for col in range(1, cols):\n",
    "        dp[0][col] = dp[0][col-1]+grid[0][col]\n",
    "\n",
    "    for row in range(1, rows):\n",
    "        for col in range(1, cols):\n",
    "            dp[row][col] = min(dp[row-1][col],\n",
    "                               dp[row][col-1])+grid[row][col]\n",
    "\n",
    "    return dp[-1][-1]"
   ]
  },
  {
   "cell_type": "markdown",
   "metadata": {},
   "source": [
    "[Coin Change](https://leetcode.com/problems/coin-change/)。给定若干面额的硬币，再给一个数值$num$，求组成$num$所需最少的硬币数。\n",
    "\n",
    "思路：动态规划。设立dp数组，其中$dp[i]$表示对于数值$i$最少需要的硬币数，初始状态$dp[0]=0$，其他位置初始化为最大值。对于数值$i$与面值$denomination$，状态转移方程为：\n",
    "$$\n",
    "dp[i]=min(dp[i],dp[i-denomination]+1)\n",
    "$$"
   ]
  },
  {
   "cell_type": "code",
   "execution_count": 8,
   "metadata": {},
   "outputs": [
    {
     "data": {
      "text/plain": [
       "3"
      ]
     },
     "execution_count": 8,
     "metadata": {},
     "output_type": "execute_result"
    }
   ],
   "source": [
    "def coinChange(coins, amount: int) -> int:\n",
    "    dp = [0x7FFFFFFF]*(amount+1)\n",
    "    dp[0] = 0\n",
    "\n",
    "    for val in range(1, amount+1):\n",
    "        for denomination in coins:\n",
    "            if denomination <= val:\n",
    "                dp[val] = min(dp[val], dp[val-denomination]+1)\n",
    "\n",
    "    return dp[-1] if dp[-1] < 0x7FFFFFFF else -1"
   ]
  },
  {
   "cell_type": "markdown",
   "metadata": {},
   "source": [
    "[Unique Paths](https://leetcode.com/problems/unique-paths/)。从一个矩形的左上方走到右下方有多少种不同的走法？只能往右或往下走。\n",
    "\n",
    "思路：设立dp矩阵，其中$dp[row][col$表示从左上方走到$(row,col)$的可能数。初始状态，首行跟首列的位置只能是$1$，状态转移方程为：\n",
    "$$\n",
    "dp[row][col]=dp[row-1][col]+dp[row][col-1]\n",
    "$$"
   ]
  },
  {
   "cell_type": "code",
   "execution_count": null,
   "metadata": {},
   "outputs": [],
   "source": [
    "def uniquePaths(m: int, n: int) -> int:\n",
    "    dp = [[1]*n for _ in range(m)]\n",
    "    for row in range(1, m):\n",
    "        for col in range(1, n):\n",
    "            dp[row][col] = dp[row-1][col]+dp[row][col-1]\n",
    "\n",
    "    return dp[-1][-1]"
   ]
  },
  {
   "cell_type": "markdown",
   "metadata": {},
   "source": [
    "[Longest Increasing Subsequence](https://leetcode.com/problems/longest-increasing-subsequence/)。给一数组，求出其最长递增子序列的长度。\n",
    "\n",
    "思路：设立一个dp数组，其中$dp[i]$表示以索引$i$结尾的字串最长子序列的长度，初始状态为$dp[i]=1$，因为任一单字符都可构成一个子序列。那么状态转移方程为：\n",
    "$$\n",
    "dp[i]=max(dp[i],dp[j_{1}]+1,dp[j_{2}]+1,...,dp[j_{k}]+1)\n",
    "$$\n",
    "其中$j$特指$nums[j]<nums[i]$的索引。注意该题的状态转移并不由之前的单个状态决定，而是需要遍历。"
   ]
  },
  {
   "cell_type": "code",
   "execution_count": 9,
   "metadata": {},
   "outputs": [
    {
     "data": {
      "text/plain": [
       "4"
      ]
     },
     "execution_count": 9,
     "metadata": {},
     "output_type": "execute_result"
    }
   ],
   "source": [
    "def lengthOfLIS(nums) -> int:\n",
    "    if not nums:\n",
    "        return 0\n",
    "\n",
    "    n = len(nums)\n",
    "    dp = [1]*n\n",
    "\n",
    "    for i in range(1, n):\n",
    "        for j in range(i):\n",
    "            if nums[j] < nums[i]:\n",
    "                dp[i] = max(dp[i], dp[j]+1)\n",
    "\n",
    "    return max(dp)"
   ]
  },
  {
   "cell_type": "markdown",
   "metadata": {},
   "source": [
    "[Jump Game II](https://leetcode.com/problems/jump-game-ii/)。给一数组，每个数字表示在当前位置可以前进的最大距离。现在保证从起点出发一定可以到达终点，求最小的步数。\n",
    "\n",
    "思路：设立dp数组，其中$dp[i]$表示到达$i$位置的最小步数。那么可以根据$dp[i]$与$nums[i]$的值去更新后面dp的值。思路应该没错，但是超时了，时间复杂度为$O(n^{2})$。"
   ]
  },
  {
   "cell_type": "code",
   "execution_count": null,
   "metadata": {},
   "outputs": [],
   "source": [
    "def jump(nums) -> int:\n",
    "    n = len(nums)\n",
    "    dp = [0x7FFFFFFF]*n\n",
    "    dp[0] = 0\n",
    "\n",
    "    for idx, num in enumerate(nums):\n",
    "        for offset in range(1, num+1):\n",
    "            pos = idx+offset if idx+offset < n else n-1\n",
    "            dp[pos] = min(dp[pos], dp[idx]+1)\n",
    "\n",
    "    return dp[-1]"
   ]
  },
  {
   "cell_type": "markdown",
   "metadata": {},
   "source": [
    "[Best Time to Buy and Sell Stock III](https://leetcode.com/problems/best-time-to-buy-and-sell-stock-iii/)。给一数组表示一只股票的历史价格，允许买卖两次，求最大利润。\n",
    "\n",
    "思路：设立dp数组，其中$dp[i][j]$表示在允许交易$i$次的条件下第$j$天的最大利润。同时对每一个不同$i$的配置，维护一个余额变量```balance```，表示持股状态下的最大余额。易得初始状态为$dp[0][j]=0$，$balance=-prices[0]$，两者的状态转移方程为：\n",
    "$$\n",
    "\\left\\{\n",
    "\\begin{align}\n",
    "dp[i][j]&=max(dp[i][j-1],balance+prices[j]) \\\\\n",
    "balance&=max(balance,dp[i-1][j-1]-prices[j]) \\\\\n",
    "\\end{align}\n",
    "\\right.\n",
    "$$"
   ]
  },
  {
   "cell_type": "code",
   "execution_count": null,
   "metadata": {},
   "outputs": [],
   "source": [
    "def maxProfit(prices) -> int:\n",
    "    if len(prices) < 2:\n",
    "        return 0\n",
    "\n",
    "    n = len(prices)\n",
    "    dp = [[0]*n for _ in range(2+1)]\n",
    "\n",
    "    for i in range(1, 3):\n",
    "        balance = -prices[0]\n",
    "        for j in range(1, n):\n",
    "            dp[i][j] = max(dp[i][j-1], balance+prices[j])    # 不操作或者卖掉\n",
    "            balance = max(balance, dp[i-1][j-1]-prices[j])    # 不操作或者买进\n",
    "\n",
    "    return dp[-1][-1]"
   ]
  },
  {
   "cell_type": "markdown",
   "metadata": {},
   "source": [
    "[Best Time to Buy and Sell Stock IV](https://leetcode.com/problems/best-time-to-buy-and-sell-stock-iv/)。给一数组表示一只股票的历史价格，允许至多买卖$k$次，求最大利润。\n",
    "\n",
    "思路：同上题。但是测试用例中有$k$特别大的情况。当$k$大于天数的一半时，相当于不限买卖次数，等同于[Best Time to Buy and Sell Stock II](https://leetcode.com/problems/best-time-to-buy-and-sell-stock-ii/)。"
   ]
  },
  {
   "cell_type": "code",
   "execution_count": 2,
   "metadata": {},
   "outputs": [
    {
     "data": {
      "text/plain": [
       "7"
      ]
     },
     "execution_count": 2,
     "metadata": {},
     "output_type": "execute_result"
    }
   ],
   "source": [
    "def maxProfit(k: int, prices) -> int:\n",
    "    n = len(prices)\n",
    "    if n < 2:\n",
    "        return 0\n",
    "\n",
    "    if k > (n//2):    # 同等于不限买卖次数的条件\n",
    "        res = 0\n",
    "        for idx in range(n-1):\n",
    "            if prices[idx+1] > prices[idx]:\n",
    "                res += prices[idx+1]-prices[idx]\n",
    "        return res\n",
    "\n",
    "    n = len(prices)\n",
    "    dp = [[0]*n for _ in range(k+1)]\n",
    "\n",
    "    for i in range(1, k+1):\n",
    "        balance = -prices[0]\n",
    "        for j in range(1, n):\n",
    "            dp[i][j] = max(dp[i][j-1], balance+prices[j])\n",
    "            balance = max(balance, dp[i-1][j-1]-prices[j])\n",
    "\n",
    "    return dp[-1][-1]"
   ]
  },
  {
   "cell_type": "markdown",
   "metadata": {},
   "source": [
    "[Best Time to Buy and Sell Stock with Cooldown](https://leetcode.com/problems/best-time-to-buy-and-sell-stock-with-cooldown/)。给一数组表示一只股票的历史价格，不限定买卖次数，但是抛售之后需要隔一天才能再买，求最大利润。\n",
    "\n",
    "思路：设两个dp数组，```hold```与```unhold```分别表示持股与不持股的最大利润，需要返回的是```unhold[-1]```。首先考虑初始状态，对于```hold```数组而言，```hold[0]=-price[0]```，即买入亏钱；```hold[1]=max(-prices[0],-prices[1])```，前两天选择价格最低的买入以获得最大利润或最小亏损；```unhold[0]=0```，因为第一天无法卖出；```unhold[1]=max(unhold[0],hold[0]+prices[1])```，不操作或者卖出第一天买入的股票。\n",
    "\n",
    "状态转移方程为：\n",
    "$$\n",
    "\\begin{align}\n",
    "hold[i]&=max(hold[i-1],unhold[i-2]-prices[i]) \\\\\n",
    "unhold[i]&=max(unhold[i-1],hold[i-1]+prices[i]) \\\\\n",
    "\\end{align}\n",
    "$$\n",
    "状态方程简而言之就是两种可能：无操作或者买入(卖出)，注意卖出之后买入需要隔天。"
   ]
  },
  {
   "cell_type": "code",
   "execution_count": null,
   "metadata": {},
   "outputs": [],
   "source": [
    "def maxProfit(prices) -> int:\n",
    "    n = len(prices)\n",
    "    if n < 2:\n",
    "        return 0\n",
    "\n",
    "    hold, unhold = [0]*n, [0]*n\n",
    "\n",
    "    hold[0] = -prices[0]\n",
    "    hold[1] = max(-prices[0], -prices[1])\n",
    "    unhold[1] = max(unhold[0], hold[0]+prices[1])\n",
    "\n",
    "    for i in range(2, n):\n",
    "        hold[i] = max(hold[i-1], unhold[i-2]-prices[i])\n",
    "        unhold[i] = max(unhold[i-1], hold[i-1]+prices[i])\n",
    "\n",
    "    return unhold[-1]"
   ]
  },
  {
   "cell_type": "markdown",
   "metadata": {},
   "source": [
    "[Best Time to Buy and Sell Stock with Transaction Fee](https://leetcode.com/problems/best-time-to-buy-and-sell-stock-with-transaction-fee/)。\n",
    "\n",
    "思路：同样设立两个dp数组，```hold```与```unhold```分别表示持股与不持股下的最大利润，最后返回```unhold[-1]```。初始状态，```hold[0]=-prices[0]```，```unhold[0]=0```，状态转移方程：\n",
    "$$\n",
    "\\begin{align}\n",
    "hold[i]&=max(hold[i-1],unhold[i-1]-prices[i]) \\\\\n",
    "unhold[i]&=max(unhold[i-1],hold[i-1]+prices[i]-fee) \\\\\n",
    "\\end{align}\n",
    "$$"
   ]
  },
  {
   "cell_type": "code",
   "execution_count": 3,
   "metadata": {},
   "outputs": [
    {
     "data": {
      "text/plain": [
       "8"
      ]
     },
     "execution_count": 3,
     "metadata": {},
     "output_type": "execute_result"
    }
   ],
   "source": [
    "def maxProfit(prices, fee: int) -> int:\n",
    "    n = len(prices)\n",
    "    if n < 2:\n",
    "        return 0\n",
    "\n",
    "    hold, unhold = [0]*n, [0]*n\n",
    "    hold[0] = -prices[0]\n",
    "\n",
    "    for i in range(1, n):\n",
    "        hold[i] = max(hold[i-1], unhold[i-1]-prices[i])\n",
    "        unhold[i] = max(unhold[i-1], hold[i-1]+prices[i]-fee)\n",
    "\n",
    "    return unhold[-1]"
   ]
  },
  {
   "cell_type": "code",
   "execution_count": null,
   "metadata": {},
   "outputs": [],
   "source": []
  }
 ],
 "metadata": {
  "hide_input": false,
  "kernelspec": {
   "display_name": "Python 3",
   "language": "python",
   "name": "python3"
  },
  "language_info": {
   "codemirror_mode": {
    "name": "ipython",
    "version": 3
   },
   "file_extension": ".py",
   "mimetype": "text/x-python",
   "name": "python",
   "nbconvert_exporter": "python",
   "pygments_lexer": "ipython3",
   "version": "3.6.6"
  },
  "toc": {
   "base_numbering": 1,
   "nav_menu": {},
   "number_sections": true,
   "sideBar": true,
   "skip_h1_title": false,
   "title_cell": "Table of Contents",
   "title_sidebar": "Contents",
   "toc_cell": false,
   "toc_position": {},
   "toc_section_display": true,
   "toc_window_display": false
  }
 },
 "nbformat": 4,
 "nbformat_minor": 2
}
