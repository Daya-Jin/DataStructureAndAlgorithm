{
 "cells": [
  {
   "cell_type": "markdown",
   "metadata": {},
   "source": [
    "[Number of 1 Bits](https://leetcode.com/problems/number-of-1-bits/)。 求一个无符号数的二进制表示中有多少个'1'。\n",
    "\n",
    "思路：按位与。"
   ]
  },
  {
   "cell_type": "code",
   "execution_count": 3,
   "metadata": {},
   "outputs": [
    {
     "data": {
      "text/plain": [
       "2"
      ]
     },
     "execution_count": 3,
     "metadata": {},
     "output_type": "execute_result"
    }
   ],
   "source": [
    "def hammingWeight(n):\n",
    "    res = 0\n",
    "    for _ in range(32):\n",
    "        res += n & 1\n",
    "        n >>= 1\n",
    "    return res"
   ]
  },
  {
   "cell_type": "markdown",
   "metadata": {},
   "source": [
    "[Counting Bits](https://leetcode.com/problems/counting-bits/)。给一个数$num$，求$[0,num]$里所有数的二进制形式中$1$的个数。\n",
    "\n",
    "思路：可使用动态规划+位操作来实现，如果一个数```num```的二进制最低位为1，则$1$的个数为```dp[num>>1]+1```，否则就为```dp[num>>1]```。"
   ]
  },
  {
   "cell_type": "code",
   "execution_count": null,
   "metadata": {},
   "outputs": [],
   "source": [
    "def countBits(n):\n",
    "    dp = [0]*(n+1)\n",
    "    dp[1] = 1\n",
    "\n",
    "    for i in range(2, n+1):\n",
    "        if i & 1:\n",
    "            dp[i] = dp[i >> 1]+1\n",
    "        else:\n",
    "            dp[i] = dp[i >> 1]\n",
    "\n",
    "    return sum(dp)"
   ]
  },
  {
   "cell_type": "markdown",
   "metadata": {},
   "source": [
    "[Reverse Bits](https://leetcode.com/problems/reverse-bits/)。 一个无符号32位整形，输出其二进制码翻转后对应的数字。\n",
    "\n",
    "思路：设一个返回值res，每次将原数字的最后一位加到res上，然后res左移，原数字右移。难点在于res要先左移再加上尾数。"
   ]
  },
  {
   "cell_type": "code",
   "execution_count": null,
   "metadata": {},
   "outputs": [],
   "source": [
    "def reverseBits(n):\n",
    "    res = 0\n",
    "    for _ in range(32):\n",
    "        res <<= 1    # 左移之后再加尾数\n",
    "        res += n & 1\n",
    "        n >>= 1\n",
    "    return res"
   ]
  },
  {
   "cell_type": "markdown",
   "metadata": {},
   "source": [
    "[Subsets](https://leetcode.com/problems/subsets/)。给定一数组，要求返回所有可能的子集。\n",
    "\n",
    "思路：假设数组中有$n$个元素，那么每个元素都有两个状态，选或不选。所有可能的状态加起来就构成了全组合。"
   ]
  },
  {
   "cell_type": "code",
   "execution_count": 7,
   "metadata": {},
   "outputs": [
    {
     "data": {
      "text/plain": [
       "[[], [1], [2], [1, 2]]"
      ]
     },
     "execution_count": 7,
     "metadata": {},
     "output_type": "execute_result"
    }
   ],
   "source": [
    "def subsets(nums):\n",
    "    n = len(nums)\n",
    "    possibility = 1 << n\n",
    "    res = list()\n",
    "\n",
    "    for state in range(possibility):\n",
    "        cur_res = [nums[i] for i in range(n) if (state >> i) & 1]\n",
    "        res.append(cur_res)\n",
    "\n",
    "    return res"
   ]
  },
  {
   "cell_type": "markdown",
   "metadata": {},
   "source": [
    "[Single Number](https://leetcode.com/problems/single-number/)。 非空数组，其中只有一个数字出现单次，其他数字都出现了两次，找出这个单个数字。\n",
    "\n",
    "思路：异或"
   ]
  },
  {
   "cell_type": "code",
   "execution_count": null,
   "metadata": {},
   "outputs": [],
   "source": [
    "def singleNumber(nums) -> int:\n",
    "    res = 0\n",
    "    for num in nums:\n",
    "        res ^= num\n",
    "\n",
    "    return res"
   ]
  },
  {
   "cell_type": "markdown",
   "metadata": {},
   "source": [
    "[Missing Number](https://leetcode.com/problems/missing-number/)。在$[0,n]$内取出$n$个不重复的自然数，求没有取到的那个数。\n",
    "\n",
    "思路：$n$个数的数组索引为$[0,n-1]$，假设没取到的数字是$i$，那么把数组中的所有数字与索引进行异或，得到的结果是$i\\oplus{n}$。因为在数字中，$i$是缺失的，所以索引中的$i$没有被抵消；而在索引中不存在$n$，所以数字中的$n$也没有被抵消。假设$n$个数中恰好取了$[0,n-1]$，那么异或结果是0."
   ]
  },
  {
   "cell_type": "code",
   "execution_count": null,
   "metadata": {},
   "outputs": [],
   "source": [
    "def missingNumber(nums) -> int:\n",
    "    res = 0\n",
    "    n = len(nums)\n",
    "    for idx, num in enumerate(nums):\n",
    "        res ^= idx ^ num\n",
    "    return res ^ n"
   ]
  },
  {
   "cell_type": "markdown",
   "metadata": {},
   "source": [
    "[Single Number III](https://leetcode.com/problems/single-number-iii/)。一数组中有两个数字只出现一次，其他数字均出现两次，找出这两个数字。\n",
    "\n",
    "思路：设该两个数字为$a$跟$b$，那么所有数字异或起来的结果实际等于$a$异或$b$，在这个结果中随便取一个值为$1$的位，以该位的取值可以将原数组分为两组。对两组数组各做异或，得到的结果就是两个数字。"
   ]
  },
  {
   "cell_type": "code",
   "execution_count": null,
   "metadata": {},
   "outputs": [],
   "source": [
    "def singleNumber(nums):\n",
    "    tmp=0\n",
    "    for num in nums:\n",
    "        tmp^=num\n",
    "    \n",
    "    offset=0\n",
    "    for _ in range(31):\n",
    "        if (tmp>>offset)&1:\n",
    "            break\n",
    "            \n",
    "    part_1,part_2=list(),list()"
   ]
  }
 ],
 "metadata": {
  "hide_input": false,
  "kernelspec": {
   "display_name": "Python 3",
   "language": "python",
   "name": "python3"
  },
  "language_info": {
   "codemirror_mode": {
    "name": "ipython",
    "version": 3
   },
   "file_extension": ".py",
   "mimetype": "text/x-python",
   "name": "python",
   "nbconvert_exporter": "python",
   "pygments_lexer": "ipython3",
   "version": "3.6.6"
  },
  "toc": {
   "base_numbering": 1,
   "nav_menu": {},
   "number_sections": true,
   "sideBar": true,
   "skip_h1_title": false,
   "title_cell": "Table of Contents",
   "title_sidebar": "Contents",
   "toc_cell": false,
   "toc_position": {},
   "toc_section_display": true,
   "toc_window_display": false
  }
 },
 "nbformat": 4,
 "nbformat_minor": 2
}
