{
 "cells": [
  {
   "cell_type": "markdown",
   "metadata": {},
   "source": [
    "[Maximum Subarray](https://leetcode.com/problems/maximum-subarray/)。给一整形数组，求最大连续子数组的和。\n",
    "\n",
    "思路：线性扫描，维护一个最大和与当前和。若当前和小于$0$，则将```cur_sum```置零重新开始加和。"
   ]
  },
  {
   "cell_type": "code",
   "execution_count": null,
   "metadata": {},
   "outputs": [],
   "source": [
    "def maxSubArray(nums) -> int:\n",
    "    res = -0x80000000\n",
    "    cur_sum = 0\n",
    "\n",
    "    for num in nums:\n",
    "        if cur_sum < 0:\n",
    "            cur_sum = num\n",
    "        else:\n",
    "            cur_sum += num\n",
    "\n",
    "        res = max(res, cur_sum)\n",
    "\n",
    "    return res"
   ]
  },
  {
   "cell_type": "markdown",
   "metadata": {},
   "source": [
    "[Gas Station](https://leetcode.com/problems/gas-station/)。一个环路上有若干加气站，现有两个数组，一个数组```gas```表示每个加气站的加气量，```cost```数组表示到下个加气站所需要的气量。求一个能跑完整个环路的起点加气站。不存在则返回$-1$。\n",
    "\n",
    "思路：为了避免环形扫描，首先判断是否存在满足题意的起点加气站。若$sum(gas)>sum(cost)$，则必定存在一个这样的起点加气站。线性扫描加气站，若剩余气量+加气量>所需气量，说明可以到达下一个加气站，更新剩余气量。"
   ]
  },
  {
   "cell_type": "code",
   "execution_count": 2,
   "metadata": {},
   "outputs": [
    {
     "data": {
      "text/plain": [
       "0"
      ]
     },
     "execution_count": 2,
     "metadata": {},
     "output_type": "execute_result"
    }
   ],
   "source": [
    "def canCompleteCircuit(gas, cost) -> int:\n",
    "    if sum(gas) < sum(cost):\n",
    "        return -1\n",
    "\n",
    "    left_gas = 0\n",
    "    n = len(gas)\n",
    "    res = 0\n",
    "\n",
    "    for idx in range(n):\n",
    "        left_gas += gas[idx]\n",
    "        \n",
    "        if left_gas >= cost[idx]:\n",
    "            left_gas -= cost[idx]\n",
    "        else:\n",
    "            left_gas = 0\n",
    "            res = idx+1\n",
    "\n",
    "    return res"
   ]
  },
  {
   "cell_type": "code",
   "execution_count": null,
   "metadata": {},
   "outputs": [],
   "source": []
  }
 ],
 "metadata": {
  "hide_input": false,
  "kernelspec": {
   "display_name": "Python 3",
   "language": "python",
   "name": "python3"
  },
  "language_info": {
   "codemirror_mode": {
    "name": "ipython",
    "version": 3
   },
   "file_extension": ".py",
   "mimetype": "text/x-python",
   "name": "python",
   "nbconvert_exporter": "python",
   "pygments_lexer": "ipython3",
   "version": "3.6.6"
  },
  "toc": {
   "base_numbering": 1,
   "nav_menu": {},
   "number_sections": true,
   "sideBar": true,
   "skip_h1_title": false,
   "title_cell": "Table of Contents",
   "title_sidebar": "Contents",
   "toc_cell": false,
   "toc_position": {},
   "toc_section_display": true,
   "toc_window_display": false
  }
 },
 "nbformat": 4,
 "nbformat_minor": 2
}
