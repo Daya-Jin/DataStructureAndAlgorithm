{
 "cells": [
  {
   "cell_type": "code",
   "execution_count": 1,
   "metadata": {},
   "outputs": [],
   "source": [
    "class ListNode:\n",
    "    def __init__(self, x):\n",
    "        self.val = x\n",
    "        self.next = None"
   ]
  },
  {
   "cell_type": "markdown",
   "metadata": {},
   "source": [
    "[Delete Node in a Linked List](https://leetcode.com/problems/delete-node-in-a-linked-list/)。只给出待删除节点的指针，保证该节点不是尾节点，在链表中删除该节点。\n",
    "\n",
    "思路：一般删除链表节点需要pre指针，该题保证不是尾节点，那么可以使用覆盖的方式来实现等效删除。"
   ]
  },
  {
   "cell_type": "code",
   "execution_count": 2,
   "metadata": {},
   "outputs": [],
   "source": [
    "def deleteNode(node):\n",
    "    node.val = node.next.val\n",
    "    node.next = node.next.next"
   ]
  },
  {
   "cell_type": "markdown",
   "metadata": {},
   "source": [
    "[Remove Duplicates from Sorted List](https://leetcode.com/problems/remove-duplicates-from-sorted-list/)。删除有序链表中冗余的节点。\n",
    "\n",
    "思路：判断下一个节点值是否等于当前节点，等于则删除，不等则下一个。"
   ]
  },
  {
   "cell_type": "code",
   "execution_count": null,
   "metadata": {},
   "outputs": [],
   "source": [
    "def deleteDuplicates(head: ListNode) -> ListNode:\n",
    "    if not head:\n",
    "        return head\n",
    "\n",
    "    idx = head\n",
    "    while idx.next:\n",
    "        if idx.next.val == idx.val:\n",
    "            idx.next = idx.next.next\n",
    "        else:\n",
    "            idx = idx.next\n",
    "\n",
    "    return head"
   ]
  },
  {
   "cell_type": "markdown",
   "metadata": {},
   "source": [
    "[Remove Duplicates from Sorted List II](https://leetcode.com/problems/remove-duplicates-from-sorted-list-ii/)。删除有序链表中所有的重复节点。\n",
    "\n",
    "思路：维护双指针，pre指向最后一个非重复节点，last指向最后一个重复节点。初始状态pre指向哑节点，那么每次都需要从```last=pre.next```开始寻找重复节点。若```last!=pre.next```则说明last有移动，即有重复节点，删除即可。"
   ]
  },
  {
   "cell_type": "code",
   "execution_count": null,
   "metadata": {},
   "outputs": [],
   "source": [
    "def deleteDuplicates(head: ListNode) -> ListNode:\n",
    "    if not head or not head.next:\n",
    "        return head\n",
    "\n",
    "    dummy = ListNode(None)\n",
    "    dummy.next = head\n",
    "    pre = dummy\n",
    "\n",
    "    while pre.next:\n",
    "        last = pre.next\n",
    "        while last.next and last.next.val == last.val:\n",
    "            last = last.next\n",
    "        if pre.next != last:\n",
    "            pre.next = last.next\n",
    "        else:\n",
    "            pre = pre.next\n",
    "\n",
    "    return dummy.next"
   ]
  },
  {
   "cell_type": "markdown",
   "metadata": {},
   "source": [
    "[Reverse Linked List](https://leetcode.com/problems/reverse-linked-list/)。反转链表。\n",
    "\n",
    "思路：个人认为最通用的反转链表方法如下。假如现在有一链表：\n",
    "$$\n",
    "1\\to{2}\\to{3}\\to{4}\n",
    "$$\n",
    "需要把该状态转变成如下状态：\n",
    "$$\n",
    "1\\rightleftharpoons{2}\\gets{3}\\gets{4}\n",
    "$$\n",
    "使用```left```跟```right```指示每次反转的节点对，首先要保存的是```right```的后继```post```，然后倒置```left```与```right```的指针，接着双指针后移即可。"
   ]
  },
  {
   "cell_type": "code",
   "execution_count": 4,
   "metadata": {},
   "outputs": [],
   "source": [
    "def reverseList(head: ListNode) -> ListNode:\n",
    "    if not head or not head.next:\n",
    "        return head\n",
    "\n",
    "    left = head\n",
    "    right = left.next\n",
    "    while right:\n",
    "        post = right.next    # 1. 保存后继\n",
    "\n",
    "        right.next = left    # 2. 倒置指针\n",
    "\n",
    "        left = right    # 双指针后移\n",
    "        right = post\n",
    "\n",
    "    head.next = right\n",
    "    return left"
   ]
  },
  {
   "cell_type": "markdown",
   "metadata": {},
   "source": [
    "[Palindrome Linked List](https://leetcode.com/problems/palindrome-linked-list/)。判断单链表是否对称。\n",
    "\n",
    "思路：首先使用快慢指针找到单链表的中点，然后断链，反转某一半链表，再逐一比较即可。"
   ]
  },
  {
   "cell_type": "code",
   "execution_count": null,
   "metadata": {},
   "outputs": [],
   "source": [
    "def isPalindrome(head: ListNode) -> bool:\n",
    "    if not head or not head.next:\n",
    "        return True\n",
    "\n",
    "    slow = fast = head\n",
    "    while fast and fast.next and fast.next.next:\n",
    "        slow = slow.next\n",
    "        fast = fast.next.next\n",
    "\n",
    "    head_2 = slow.next\n",
    "    slow.next = None\n",
    "\n",
    "    def reverse_ll(head):\n",
    "        if not head or not head.next:\n",
    "            return head\n",
    "\n",
    "        left, right = head, head.next\n",
    "        while right:\n",
    "            post = right.next\n",
    "            right.next = left\n",
    "            left = right\n",
    "            right = post\n",
    "        head.next = right\n",
    "        return left\n",
    "    head_2 = reverse_ll(head_2)\n",
    "\n",
    "    while head and head_2:\n",
    "        if head.val != head_2.val:\n",
    "            return False\n",
    "        head = head.next\n",
    "        head_2 = head_2.next\n",
    "\n",
    "    return True"
   ]
  },
  {
   "cell_type": "markdown",
   "metadata": {},
   "source": [
    "[Reverse Linked List II](https://leetcode.com/problems/reverse-linked-list-ii/)。给一个区间$[m,n]$，将该区间的链表节点做反转。\n",
    "\n",
    "思路：首先定位到需要反转的起点位置，然后对该部分做$n-m-1$次反转。"
   ]
  },
  {
   "cell_type": "code",
   "execution_count": 6,
   "metadata": {},
   "outputs": [
    {
     "data": {
      "text/plain": [
       "<__main__.ListNode at 0x2c9912292e8>"
      ]
     },
     "execution_count": 6,
     "metadata": {},
     "output_type": "execute_result"
    }
   ],
   "source": [
    "def reverseBetween(head: ListNode, m: int, n: int) -> ListNode:\n",
    "    dummy = ListNode(None)\n",
    "    dummy.next = head\n",
    "    idx = dummy\n",
    "    for i in range(m-1):\n",
    "        idx = idx.next\n",
    "\n",
    "    pre = idx\n",
    "    raw_start = left = pre.next\n",
    "    right = left.next\n",
    "    for i in range(n-m-1):\n",
    "        post = right.next\n",
    "        right.next = left\n",
    "        left = right\n",
    "        right = post\n",
    "\n",
    "    raw_start.next = right\n",
    "    pre.next = left\n",
    "\n",
    "    return dummy.next"
   ]
  },
  {
   "cell_type": "code",
   "execution_count": null,
   "metadata": {},
   "outputs": [],
   "source": []
  }
 ],
 "metadata": {
  "hide_input": false,
  "kernelspec": {
   "display_name": "Python 3",
   "language": "python",
   "name": "python3"
  },
  "language_info": {
   "codemirror_mode": {
    "name": "ipython",
    "version": 3
   },
   "file_extension": ".py",
   "mimetype": "text/x-python",
   "name": "python",
   "nbconvert_exporter": "python",
   "pygments_lexer": "ipython3",
   "version": "3.6.6"
  },
  "toc": {
   "base_numbering": 1,
   "nav_menu": {},
   "number_sections": true,
   "sideBar": true,
   "skip_h1_title": false,
   "title_cell": "Table of Contents",
   "title_sidebar": "Contents",
   "toc_cell": false,
   "toc_position": {},
   "toc_section_display": true,
   "toc_window_display": false
  }
 },
 "nbformat": 4,
 "nbformat_minor": 2
}
