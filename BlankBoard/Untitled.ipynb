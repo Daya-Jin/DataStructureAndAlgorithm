{
 "cells": [
  {
   "cell_type": "markdown",
   "metadata": {},
   "source": [
    "[Fraction to Recurring Decimal](https://leetcode.com/problems/fraction-to-recurring-decimal/)。将分数转换成小数形式，当出现循环小数时，将循环部分加上括号。\n",
    "\n",
    "思路：首先明确分数中分子为除数，分母为被除数。手动做一下除法就不难发现，当某一次的余数在之前出现过时，肯定就会出现循环小数，所以该题解法是先正常的做除法，并记录每一次余数出现的位置，当余数重复时即出现循环小数。"
   ]
  },
  {
   "cell_type": "code",
   "execution_count": 2,
   "metadata": {},
   "outputs": [
    {
     "name": "stdout",
     "output_type": "stream",
     "text": [
      "1\n"
     ]
    },
    {
     "data": {
      "text/plain": [
       "'0.0'"
      ]
     },
     "execution_count": 2,
     "metadata": {},
     "output_type": "execute_result"
    }
   ],
   "source": [
    "def fractionToDecimal(numerator: int, denominator: int) -> str:\n",
    "    res = '-' if numerator*denominator < 0 else ''    # 符号\n",
    "    numerator, denominator = abs(numerator), abs(denominator)\n",
    "    integer, remainder = divmod(numerator, denominator)    # 首个商与余数\n",
    "    res += str(integer)\n",
    "\n",
    "    if remainder:\n",
    "        res += '.'\n",
    "    else:\n",
    "        return res\n",
    "\n",
    "    remainder_idx = dict()    # 记录余数位置的字典\n",
    "    while remainder:\n",
    "        if remainder not in remainder_idx:\n",
    "            remainder_idx[remainder] = len(res)\n",
    "            integer, remainder = divmod(remainder*10, denominator)\n",
    "            res += str(integer)\n",
    "        else:\n",
    "            idx = remainder_idx[remainder]\n",
    "            res = '{}({})'.format(res[:idx], res[idx:])\n",
    "            break\n",
    "\n",
    "    return res"
   ]
  },
  {
   "cell_type": "markdown",
   "metadata": {},
   "source": [
    "[Excel Sheet Column Number](https://leetcode.com/problems/excel-sheet-column-number/)。在Excel中列号是以字母来表示的，给定一个字母表示的列号，求出其数字形式。A->1，b->2，...。\n",
    "\n",
    "思路：该题实质就是26进制转10进制。首先建立一个字母与数字的映射表，然后按照进制转换来做。"
   ]
  },
  {
   "cell_type": "code",
   "execution_count": 13,
   "metadata": {},
   "outputs": [
    {
     "data": {
      "text/plain": [
       "27"
      ]
     },
     "execution_count": 13,
     "metadata": {},
     "output_type": "execute_result"
    }
   ],
   "source": [
    "def titleToNumber(s: str) -> int:\n",
    "    ch2num = {chr(65+idx): idx+1 for idx in range(26)}    # ord('A')=65\n",
    "\n",
    "    n = len(s)\n",
    "    res = 0\n",
    "    for idx, ch in enumerate(s):\n",
    "        res += ch2num[ch]*(26**(n-idx-1))\n",
    "\n",
    "    return res"
   ]
  },
  {
   "cell_type": "markdown",
   "metadata": {},
   "source": [
    "[Permutations](https://leetcode.com/problems/permutations/)。全排列。\n",
    "\n",
    "思路：第一个答案肯定是原数组，对第一个答案的首元素进行循环交换得到第二组答案；再对所有答案的第二个元素进行循环交换；再对所有答案的第三个元素进行循环交换...。那么初始res是原数组，假设交换的左右指针分别为$i$和$j$，那么需要写三个循环，最外层循环遍历所有可能的$i$，第二个循环遍历已有的答案，第三个循环遍历所有可能的$j$。"
   ]
  },
  {
   "cell_type": "code",
   "execution_count": null,
   "metadata": {},
   "outputs": [],
   "source": [
    "def permute(nums):\n",
    "    if not nums:\n",
    "        return list()\n",
    "\n",
    "    def gen_swap(l, i, j):\n",
    "        tmp = l[:]\n",
    "        tmp[i], tmp[j] = tmp[j], tmp[i]\n",
    "        return tmp\n",
    "\n",
    "    n = len(nums)\n",
    "    res = [nums]\n",
    "    for swap_i in range(n-1):    # i指针只到倒数第二位\n",
    "        for ans in res[:]:\n",
    "            for swap_j in range(swap_i+1, n):\n",
    "                res.append(gen_swap(ans, swap_i, swap_j))\n",
    "\n",
    "    return res"
   ]
  },
  {
   "cell_type": "markdown",
   "metadata": {},
   "source": [
    "[Next Permutation](https://leetcode.com/problems/next-permutation/)。求下一个全排列。\n",
    "\n",
    "思路：数学题，思路须记住，不然做不出。\n",
    "- 由后往前扫描，找到首个pre<cur的一个cur位置；\n",
    "- 反转cur及其之后的部分；\n",
    "- 由cur开始往后扫描，找到首个idx>pre的位置，交换idx与pre。"
   ]
  },
  {
   "cell_type": "code",
   "execution_count": null,
   "metadata": {},
   "outputs": [],
   "source": [
    "def nextPermutation(nums) -> None:\n",
    "    n = len(nums)\n",
    "\n",
    "    # 1. 找到cur\n",
    "    for cur in range(n-1, -1, -1):    # 注意倒序遍历最终会遍历到0与-1\n",
    "        if nums[cur-1] < nums[cur]:\n",
    "            break\n",
    "\n",
    "    if cur == 0:\n",
    "        nums.sort()\n",
    "        return\n",
    "\n",
    "    # 2. 反转\n",
    "    def reverse(i, j):\n",
    "        while i < j:\n",
    "            nums[i], nums[j] = nums[j], nums[i]\n",
    "            i += 1\n",
    "            j -= 1\n",
    "    reverse(cur, n-1)\n",
    "\n",
    "    # 3. 找到idx>pre，然后交换\n",
    "    for idx in range(cur, n):\n",
    "        if nums[idx] > nums[cur-1]:\n",
    "            break\n",
    "\n",
    "    nums[idx], nums[cur-1] = nums[cur-1], nums[idx]\n",
    "    return"
   ]
  },
  {
   "cell_type": "markdown",
   "metadata": {},
   "source": [
    "[Next Greater Element III](https://leetcode.com/problems/next-greater-element-iii/)。给一个正整数$n$，求满足同数字组合的条件下，大于$n$的最小的重排数字，不存在则返回$-1$。\n",
    "\n",
    "思路：该题等同于next_permutatiion。唯一要注意的是溢出。"
   ]
  },
  {
   "cell_type": "code",
   "execution_count": null,
   "metadata": {},
   "outputs": [],
   "source": [
    "def nextGreaterElement(n: int) -> int:\n",
    "    num = list(str(n))\n",
    "    n = len(num)\n",
    "\n",
    "    for cur in range(n-1, -1, -1):\n",
    "        if int(num[cur-1]) < int(num[cur]):\n",
    "            break\n",
    "\n",
    "    if cur == 0:\n",
    "        return -1\n",
    "\n",
    "    def reverse(i, j):\n",
    "        while i < j:\n",
    "            num[i], num[j] = num[j], num[i]\n",
    "            i += 1\n",
    "            j -= 1\n",
    "    reverse(cur, n-1)\n",
    "\n",
    "    for idx in range(cur, n):\n",
    "        if int(num[idx]) > int(num[cur-1]):\n",
    "            break\n",
    "    num[idx], num[cur-1] = num[cur-1], num[idx]\n",
    "\n",
    "    res = int(''.join(num))\n",
    "    return res if res < 0x7FFFFFFF else -1"
   ]
  },
  {
   "cell_type": "markdown",
   "metadata": {},
   "source": [
    "[Factorial Trailing Zeroes](https://leetcode.com/problems/factorial-trailing-zeroes/)。求$n!$末尾$0$的个数。\n",
    "\n",
    "思路：$n!=1\\times{2}\\times{3}\\times{...}\\times{n}$，若$n!$末尾有$k$个$0$，即是说$n!=x\\times{10}^{k}$。连乘式中能构成$10$的只有$2\\times{5}$，易得阶乘式中$2$的数量一定比$5$多，所以对$n!$做因式分解，找出$5$的个数即可。"
   ]
  },
  {
   "cell_type": "code",
   "execution_count": null,
   "metadata": {},
   "outputs": [],
   "source": [
    "def trailingZeroes(n: int) -> int:\n",
    "    res = 0\n",
    "    while n >= 5:\n",
    "        res += n//5\n",
    "        n //= 5\n",
    "\n",
    "    return res"
   ]
  },
  {
   "cell_type": "markdown",
   "metadata": {},
   "source": [
    "[Non-decreasing Array](https://leetcode.com/problems/non-decreasing-array/)。给一数组，判断该数组在最多修改一个数字的情况下是否能满足非递减性质。\n",
    "\n",
    "思路："
   ]
  },
  {
   "cell_type": "code",
   "execution_count": 14,
   "metadata": {},
   "outputs": [
    {
     "data": {
      "text/plain": [
       "True"
      ]
     },
     "execution_count": 14,
     "metadata": {},
     "output_type": "execute_result"
    }
   ],
   "source": [
    "def checkPossibility(nums) -> bool:\n",
    "    pass"
   ]
  },
  {
   "cell_type": "code",
   "execution_count": null,
   "metadata": {},
   "outputs": [],
   "source": []
  }
 ],
 "metadata": {
  "hide_input": false,
  "kernelspec": {
   "display_name": "Python 3",
   "language": "python",
   "name": "python3"
  },
  "language_info": {
   "codemirror_mode": {
    "name": "ipython",
    "version": 3
   },
   "file_extension": ".py",
   "mimetype": "text/x-python",
   "name": "python",
   "nbconvert_exporter": "python",
   "pygments_lexer": "ipython3",
   "version": "3.6.6"
  },
  "toc": {
   "base_numbering": 1,
   "nav_menu": {},
   "number_sections": true,
   "sideBar": true,
   "skip_h1_title": false,
   "title_cell": "Table of Contents",
   "title_sidebar": "Contents",
   "toc_cell": false,
   "toc_position": {},
   "toc_section_display": true,
   "toc_window_display": false
  }
 },
 "nbformat": 4,
 "nbformat_minor": 2
}
