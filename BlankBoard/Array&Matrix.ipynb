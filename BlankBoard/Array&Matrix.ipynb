{
 "cells": [
  {
   "cell_type": "markdown",
   "metadata": {},
   "source": [
    "[Rotate Array](https://leetcode.com/problems/rotate-array/)。给一数组与一个$k$，对数组实现循环右移$k$位。\n",
    "\n",
    "思路：循环右移，那么以倒数第$k$个元素为分界线，分别反转前一部分与后一部分，然后反转整个数组。"
   ]
  },
  {
   "cell_type": "code",
   "execution_count": null,
   "metadata": {},
   "outputs": [],
   "source": [
    "def rotate(nums, k: int) -> None:\n",
    "    def reverse(start, end):\n",
    "        while start < end:\n",
    "            nums[start], nums[end] = nums[end], nums[start]\n",
    "            start += 1\n",
    "            end -= 1\n",
    "\n",
    "    n = len(nums)\n",
    "    k = k % n\n",
    "    reverse(0, n-k-1)\n",
    "    reverse(n-k, n-1)\n",
    "    reverse(0, n-1)"
   ]
  },
  {
   "cell_type": "markdown",
   "metadata": {},
   "source": [
    "[Delete Columns to Make Sorted](https://leetcode.com/problems/delete-columns-to-make-sorted/)。给若干个长度相等的字串，堆叠起来构成一个矩阵。问需要删掉几列才能满足每一列的字符顺序都是非降序的。\n",
    "\n",
    "思路：从左往右遍历以列的方式遍历每一列，当一列中出现降序字符顺序时，返回值$+1$。Python可以直接比较字符顺序。"
   ]
  },
  {
   "cell_type": "code",
   "execution_count": null,
   "metadata": {},
   "outputs": [],
   "source": [
    "def minDeletionSize(A: List[str]) -> int:\n",
    "    rows, cols = len(A), len(A[0])\n",
    "\n",
    "    res = 0\n",
    "    for col in range(cols):\n",
    "        for row in range(rows-1):\n",
    "            if A[row+1][col] < A[row][col]:\n",
    "                res += 1\n",
    "                break\n",
    "\n",
    "    return res"
   ]
  },
  {
   "cell_type": "markdown",
   "metadata": {},
   "source": [
    "[Rotate Image](https://leetcode.com/problems/rotate-image/)。给一矩阵，将其就地顺时针旋转$90$度。\n",
    "\n",
    "思路：首先把每一列都进行反转，然后按照主对角线做轴镜像反转。"
   ]
  },
  {
   "cell_type": "code",
   "execution_count": 3,
   "metadata": {},
   "outputs": [],
   "source": [
    "def rotate(matrix) -> None:\n",
    "    def reverse(start, end):\n",
    "        while start < end:\n",
    "            matrix[start], matrix[end] = matrix[end], matrix[start]\n",
    "            start += 1\n",
    "            end -= 1\n",
    "\n",
    "    rows, cols = len(matrix), len(matrix[0])\n",
    "    reverse(0, rows-1)\n",
    "\n",
    "    for row in range(rows):\n",
    "        for col in range(row):\n",
    "            matrix[row][col], matrix[col][row] = matrix[col][row], matrix[row][col]"
   ]
  },
  {
   "cell_type": "code",
   "execution_count": null,
   "metadata": {},
   "outputs": [],
   "source": []
  }
 ],
 "metadata": {
  "hide_input": false,
  "kernelspec": {
   "display_name": "Python 3",
   "language": "python",
   "name": "python3"
  },
  "language_info": {
   "codemirror_mode": {
    "name": "ipython",
    "version": 3
   },
   "file_extension": ".py",
   "mimetype": "text/x-python",
   "name": "python",
   "nbconvert_exporter": "python",
   "pygments_lexer": "ipython3",
   "version": "3.6.6"
  },
  "toc": {
   "base_numbering": 1,
   "nav_menu": {},
   "number_sections": true,
   "sideBar": true,
   "skip_h1_title": false,
   "title_cell": "Table of Contents",
   "title_sidebar": "Contents",
   "toc_cell": false,
   "toc_position": {},
   "toc_section_display": true,
   "toc_window_display": false
  }
 },
 "nbformat": 4,
 "nbformat_minor": 2
}
