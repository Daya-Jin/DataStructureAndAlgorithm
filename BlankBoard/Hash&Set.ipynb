{
 "cells": [
  {
   "cell_type": "markdown",
   "metadata": {},
   "source": [
    "[Longest Substring Without Repeating Characters](https://leetcode.com/problems/longest-substring-without-repeating-characters/)。给一字串，要求不含重复字符的最长子串的长度。\n",
    "\n",
    "思路：滑动窗口+哈希表。滑动窗口中始终保持一个不含重复字符的字串，而哈希表记录每个字符的出现位置。若右指针字符未出现过，则在哈希表中添加记录；若右指针出现过，则需要分两种情况讨论。若在窗口之外出现过则无所谓，只要更新哈希表即可；若在窗口内出现，则窗口需要缩小，同时更新记录。（LeetCode挂了，待提交）"
   ]
  },
  {
   "cell_type": "code",
   "execution_count": 12,
   "metadata": {},
   "outputs": [
    {
     "data": {
      "text/plain": [
       "5"
      ]
     },
     "execution_count": 12,
     "metadata": {},
     "output_type": "execute_result"
    }
   ],
   "source": [
    "def lengthOfLongestSubstring(s: str) -> int:\n",
    "    n = len(s)\n",
    "    if n < 1:\n",
    "        return 0\n",
    "\n",
    "    left = right = 0\n",
    "    idx_lookup = dict()\n",
    "    res = 1\n",
    "\n",
    "    while left < n and right < n:\n",
    "        if s[right] not in idx_lookup:\n",
    "            idx_lookup[s[right]] = right\n",
    "        else:\n",
    "            if idx_lookup[s[right]] >= left:\n",
    "                left = idx_lookup[s[right]]+1\n",
    "            idx_lookup[s[right]] = right\n",
    "\n",
    "        res = max(res, right-left+1)\n",
    "        right += 1\n",
    "\n",
    "    return res\n",
    "\n",
    "\n",
    "lengthOfLongestSubstring(\"tmmzuxt\")"
   ]
  },
  {
   "cell_type": "code",
   "execution_count": null,
   "metadata": {},
   "outputs": [],
   "source": []
  }
 ],
 "metadata": {
  "hide_input": false,
  "kernelspec": {
   "display_name": "Python 3",
   "language": "python",
   "name": "python3"
  },
  "language_info": {
   "codemirror_mode": {
    "name": "ipython",
    "version": 3
   },
   "file_extension": ".py",
   "mimetype": "text/x-python",
   "name": "python",
   "nbconvert_exporter": "python",
   "pygments_lexer": "ipython3",
   "version": "3.6.6"
  },
  "toc": {
   "base_numbering": 1,
   "nav_menu": {},
   "number_sections": true,
   "sideBar": true,
   "skip_h1_title": false,
   "title_cell": "Table of Contents",
   "title_sidebar": "Contents",
   "toc_cell": false,
   "toc_position": {},
   "toc_section_display": true,
   "toc_window_display": false
  }
 },
 "nbformat": 4,
 "nbformat_minor": 2
}
