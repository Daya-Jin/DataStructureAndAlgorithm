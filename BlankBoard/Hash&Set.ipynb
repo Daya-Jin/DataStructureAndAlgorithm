{
 "cells": [
  {
   "cell_type": "markdown",
   "metadata": {},
   "source": [
    "[Longest Substring Without Repeating Characters](https://leetcode.com/problems/longest-substring-without-repeating-characters/)。给一字串，要求不含重复字符的最长子串的长度。\n",
    "\n",
    "思路：滑动窗口+哈希表。滑动窗口中始终保持一个不含重复字符的字串，而哈希表记录每个字符的出现位置。若右指针字符未出现过，则在哈希表中添加记录；若右指针出现过，则需要分两种情况讨论。若在窗口之外出现过则无所谓，只要更新哈希表即可；若在窗口内出现，则窗口需要缩小，同时更新记录。（LeetCode挂了，待提交）"
   ]
  },
  {
   "cell_type": "code",
   "execution_count": 12,
   "metadata": {},
   "outputs": [
    {
     "data": {
      "text/plain": [
       "5"
      ]
     },
     "execution_count": 12,
     "metadata": {},
     "output_type": "execute_result"
    }
   ],
   "source": [
    "def lengthOfLongestSubstring(s: str) -> int:\n",
    "    n = len(s)\n",
    "    if n < 1:\n",
    "        return 0\n",
    "\n",
    "    left = right = 0\n",
    "    idx_lookup = dict()\n",
    "    res = 1\n",
    "\n",
    "    while left < n and right < n:\n",
    "        if s[right] not in idx_lookup:\n",
    "            idx_lookup[s[right]] = right\n",
    "        else:\n",
    "            if idx_lookup[s[right]] >= left:\n",
    "                left = idx_lookup[s[right]]+1\n",
    "            idx_lookup[s[right]] = right\n",
    "\n",
    "        res = max(res, right-left+1)\n",
    "        right += 1\n",
    "\n",
    "    return res"
   ]
  },
  {
   "cell_type": "markdown",
   "metadata": {},
   "source": [
    "[Find the Duplicate Number](https://leetcode.com/problems/find-the-duplicate-number/)。给一长度为$n+1$的数组，其中数字范围为$[1,n]$，其中有且仅有一个数字重复出现了多次，找出该数字。\n",
    "\n",
    "思路：原题要求时间复杂度$O(n)$且空间复杂度$O(1)$，有点难。使用set直接判重。"
   ]
  },
  {
   "cell_type": "code",
   "execution_count": 1,
   "metadata": {},
   "outputs": [
    {
     "data": {
      "text/plain": [
       "2"
      ]
     },
     "execution_count": 1,
     "metadata": {},
     "output_type": "execute_result"
    }
   ],
   "source": [
    "def findDuplicate(nums) -> int:\n",
    "    set_ = set()\n",
    "    for num in nums:\n",
    "        if num in set_:\n",
    "            return num\n",
    "        else:\n",
    "            set_.add(num)"
   ]
  },
  {
   "cell_type": "markdown",
   "metadata": {},
   "source": [
    "[Two Sum](https://leetcode.com/problems/two-sum/)。给一数组与一目标值，返回和等于目标值的两个索引。假设数组中只存在一对符合条件的数。\n",
    "\n",
    "思路：因为要返回的是索引而不是数，所以不能对数组排序会破坏原索引。线性扫描，每扫描到一个数字时，首先查看$target-num$在不在表中，在的话直接返回，否则加入表。"
   ]
  },
  {
   "cell_type": "code",
   "execution_count": null,
   "metadata": {},
   "outputs": [],
   "source": [
    "def twoSum(nums, target):\n",
    "    lookup = dict()\n",
    "    for idx, num in enumerate(nums):\n",
    "        if target-num in lookup:\n",
    "            return [lookup[target-num], idx]\n",
    "        else:\n",
    "            lookup[num] = idx"
   ]
  },
  {
   "cell_type": "markdown",
   "metadata": {},
   "source": [
    "[Maximum Swap](https://leetcode.com/problems/maximum-swap/)。一个数字，只允许对两位交换一次，求能得到的最大数。\n",
    "\n",
    "思路：假设交换的两个位置为$i$和$j$，令$i<j$，首先由高往低扫描并固定$i$，然后在$i$的后面找到比$nums[i]$大且最大最靠后的数字，设为$j$，然后交换即可。考虑到每位数字只有$10$种取值，使用哈希表记录每个数字最后出现的位置。"
   ]
  },
  {
   "cell_type": "code",
   "execution_count": 2,
   "metadata": {},
   "outputs": [],
   "source": [
    "def maximumSwap(num: int) -> int:\n",
    "    nums = list(map(int, str(num)))\n",
    "\n",
    "    # 1. 记录每个数字最后出现的位置\n",
    "    idx_lookup = dict()\n",
    "    for i, x in enumerate(nums):\n",
    "        idx_lookup[x] = i\n",
    "\n",
    "    n = len(nums)\n",
    "\n",
    "    for swap_i, x in enumerate(nums):\n",
    "        for larger in range(9, x, -1):    # 从最大的开始找\n",
    "            swap_j = idx_lookup.get(larger, None)\n",
    "            if swap_j and swap_j > swap_i:\n",
    "                nums[swap_i], nums[swap_j] = nums[swap_j], nums[swap_i]\n",
    "                return int(''.join(map(str, nums)))\n",
    "\n",
    "    return num"
   ]
  },
  {
   "cell_type": "code",
   "execution_count": null,
   "metadata": {},
   "outputs": [],
   "source": []
  }
 ],
 "metadata": {
  "hide_input": false,
  "kernelspec": {
   "display_name": "Python 3",
   "language": "python",
   "name": "python3"
  },
  "language_info": {
   "codemirror_mode": {
    "name": "ipython",
    "version": 3
   },
   "file_extension": ".py",
   "mimetype": "text/x-python",
   "name": "python",
   "nbconvert_exporter": "python",
   "pygments_lexer": "ipython3",
   "version": "3.6.6"
  },
  "toc": {
   "base_numbering": 1,
   "nav_menu": {},
   "number_sections": true,
   "sideBar": true,
   "skip_h1_title": false,
   "title_cell": "Table of Contents",
   "title_sidebar": "Contents",
   "toc_cell": false,
   "toc_position": {},
   "toc_section_display": true,
   "toc_window_display": false
  }
 },
 "nbformat": 4,
 "nbformat_minor": 2
}
