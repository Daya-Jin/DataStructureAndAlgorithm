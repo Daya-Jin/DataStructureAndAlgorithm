{
 "cells": [
  {
   "cell_type": "markdown",
   "metadata": {},
   "source": [
    "[Decode Ways](https://leetcode.com/problems/decode-ways/)。数字与字母的映射组合。给定一个数字与字母的映射法则：1->a，2->b，26->z，求一个数字n有多少种字母表示法。\n",
    "\n",
    "思路：显而易见，$[1,10]$之间的数只有一种字母表示法，$[11,26]$之间的数字有两种表示法，$[26,99]$之间的数字只有一种表示法。当增加到三位数时，需要分情况讨论。如果从末尾往前推，那么可以用动态规划来解决，令dp[i]表示第$i$位及其以后的数字部分共有多少种字母表示法，dp[i-1]表示左边增加一位数字时有多少种表示方法，易得$dp[-1]=1$。注意当碰到'0'开头时表示方式为0。"
   ]
  },
  {
   "cell_type": "code",
   "execution_count": null,
   "metadata": {},
   "outputs": [],
   "source": [
    "def PresentCnt(n):\n",
    "    if not s or int(s) <= 0:\n",
    "        return 0\n",
    "\n",
    "    n = len(s)\n",
    "    dp = [1 for _ in range(n)]\n",
    "    dp[-1] = 1 if int(s[-1]) != 0 else 0\n",
    "    \n",
    "    for i in range(n-2, -1, -1):\n",
    "        if s[i] == '0':    # 如果数字以0开头则不存在表示方法\n",
    "            dp[i] = 0\n",
    "            continue\n",
    "            \n",
    "        cur_num = int(s[i:i+2])\n",
    "        \n",
    "        if 1 <= cur_num <= 26:\n",
    "            if i < n-2:\n",
    "                dp[i] = dp[i+1]+dp[i+2]\n",
    "            else:\n",
    "                dp[i] = dp[i+1]+1\n",
    "        else:\n",
    "            dp[i] = dp[i+1]\n",
    "\n",
    "    return dp[0]"
   ]
  },
  {
   "cell_type": "markdown",
   "metadata": {},
   "source": [
    "[Word Break](https://leetcode.com/problems/word-break/discuss/?currentPage=1&orderBy=newest_to_oldest&query=)。给定一个字串与字典，判断该字串能否分解成字典中的词。\n",
    "\n",
    "思路：动态规划，令dp[i]表示s[:i]是可分解的，即dp记录的是切分后左半段字串是否可分解，易得dp[0]=True，那么怎么判定dp[i+1]的值？首先需要遍历所有i+1之前的dp值，只有当dp[j]为True且s[j:i]也在字典中时才说明可分解。"
   ]
  },
  {
   "cell_type": "code",
   "execution_count": 8,
   "metadata": {
    "scrolled": true
   },
   "outputs": [
    {
     "data": {
      "text/plain": [
       "True"
      ]
     },
     "execution_count": 8,
     "metadata": {},
     "output_type": "execute_result"
    }
   ],
   "source": [
    "def wordBreak(s: str, wordDict) -> bool:\n",
    "    if not s:\n",
    "        return True\n",
    "\n",
    "    wordDict = set(wordDict)\n",
    "\n",
    "    n = len(s)\n",
    "    dp = [False for _ in range(n+1)]    # dp[0]对应空字串\n",
    "    dp[0] = True\n",
    "    \n",
    "    for tail in range(1, n+1):    # 从左往右递增字串\n",
    "        for cut in range(0, tail+1):\n",
    "            right_s = s[cut:tail]    # 切分后的右半段，左半段的切分性由dp[cut]决定\n",
    "            if dp[cut] == True and right_s in wordDict:\n",
    "                dp[tail] = True\n",
    "                break\n",
    "    return dp[-1]"
   ]
  },
  {
   "cell_type": "markdown",
   "metadata": {},
   "source": [
    "[Climbing Stairs](https://leetcode.com/problems/climbing-stairs/)。爬楼梯，每次能爬一阶或两阶，爬上$n$阶楼梯有多少种走法，其中$n>0$。\n",
    "\n",
    "思路：最简单的动态规划题，状态转移方程为：$dp[i]=dp[i-1]+dp[i-2]$。"
   ]
  },
  {
   "cell_type": "code",
   "execution_count": null,
   "metadata": {},
   "outputs": [],
   "source": [
    "def climbStairs(n: int) -> int:\n",
    "    if n < 3:\n",
    "        return n\n",
    "\n",
    "    dp = [0 for _ in range(n)]\n",
    "    dp[0] = 1\n",
    "    dp[1] = 2\n",
    "\n",
    "    for i in range(2, n):\n",
    "        dp[i] = dp[i-2]+dp[i-1]\n",
    "\n",
    "    return dp[-1]"
   ]
  },
  {
   "cell_type": "markdown",
   "metadata": {},
   "source": [
    "[House Robber](https://leetcode.com/problems/house-robber/)。一数组表示各房屋内的金钱，不能同时搜刮相邻的两个房子，问最多能偷到多少钱。\n",
    "\n",
    "思路：典型的动态规划，设```dp[i]```为有$i$个房子时最多能偷到的钱，因为不能偷相邻的房子，所以状态转移方程为$dp[i]=max(dp[i-2]+house[i],dp[i-1])$。空间可优化。"
   ]
  },
  {
   "cell_type": "code",
   "execution_count": null,
   "metadata": {},
   "outputs": [],
   "source": [
    "def rob(nums: List[int]) -> int:\n",
    "    if not nums:\n",
    "        return 0\n",
    "    if len(nums) < 3:\n",
    "        return max(nums)\n",
    "\n",
    "    dp = [0 for _ in range(len(nums))]\n",
    "    dp[0] = nums[0]\n",
    "    dp[1] = max(nums[0], nums[1])\n",
    "\n",
    "    for i in range(2, len(nums)):\n",
    "        dp[i] = max(dp[i-2]+nums[i], dp[i-1])\n",
    "\n",
    "    return dp[-1]"
   ]
  },
  {
   "cell_type": "markdown",
   "metadata": {},
   "source": [
    "[House Robber II](https://leetcode.com/problems/house-robber-ii/)。同上题，不过现在房子围成了一个圈，此时给出的数组首位相等。\n",
    "\n",
    "思路：现在首尾相连，那么需要把环拆成数组，需要考虑两种情况。一是首元素还是首元素，删掉尾元素；二是删掉首元素，保留尾元素。"
   ]
  },
  {
   "cell_type": "code",
   "execution_count": 2,
   "metadata": {},
   "outputs": [
    {
     "data": {
      "text/plain": [
       "3"
      ]
     },
     "execution_count": 2,
     "metadata": {},
     "output_type": "execute_result"
    }
   ],
   "source": [
    "def rob(nums) -> int:\n",
    "    if not nums:\n",
    "        return 0\n",
    "    if len(nums) < 3:\n",
    "        return max(nums)\n",
    "\n",
    "    def rob_max(nums):\n",
    "        dp = [0 for _ in range(len(nums))]\n",
    "        dp[0] = nums[0]\n",
    "        dp[1] = max(nums[0], nums[1])\n",
    "\n",
    "        for i in range(2, len(nums)):\n",
    "            dp[i] = max(dp[i-2]+nums[i], dp[i-1])\n",
    "\n",
    "        return dp[-1]\n",
    "\n",
    "    nums_1 = nums[1:]\n",
    "    nums_2 = nums[:-1]\n",
    "    return max(rob_max(nums_1), rob_max(nums_2))"
   ]
  },
  {
   "cell_type": "markdown",
   "metadata": {},
   "source": [
    "[All Possible Full Binary Trees](https://leetcode.com/problems/all-possible-full-binary-trees/)。给定$n$个节点，求出所有可能的满二叉树，返回根节点的列表。\n",
    "\n",
    "思路：满二叉树的节点数肯定为奇数，偶数情况直接返回空。易得$n=1$答案即根节点，$n=3$时答案即整棵树，$n=5$时，答案有两个，并且可以在$n=3$的基础上得来。所以使用DP来解。"
   ]
  },
  {
   "cell_type": "code",
   "execution_count": null,
   "metadata": {},
   "outputs": [],
   "source": [
    "class TreeNode:\n",
    "    def __init__(self, x):\n",
    "        self.val = x\n",
    "        self.left = None\n",
    "        self.right = None\n",
    "\n",
    "\n",
    "def allPossibleFBT(N: int):\n",
    "    dp = [list() for _ in range(N+1)]\n",
    "    dp[1].append(TreeNode(0))\n",
    "\n",
    "    if N % 2 == 0:\n",
    "        return dp[0]\n",
    "\n",
    "    for node_cnt in range(3, N+1, 2):    # 总结点数，以2为步长\n",
    "        for left_node in range(1, node_cnt, 2):    # 左分支节点数\n",
    "            right_node = node_cnt-left_node-1    # 右分支节点数\n",
    "\n",
    "            for left in dp[left_node]:\n",
    "                for right in dp[right_node]:\n",
    "                    root = TreeNode(0)\n",
    "                    root.left = left\n",
    "                    root.right = right\n",
    "                    dp[node_cnt].append(root)\n",
    "\n",
    "    return dp[-1]"
   ]
  },
  {
   "cell_type": "markdown",
   "metadata": {},
   "source": [
    "[Last Stone Weight II](https://leetcode.com/problems/last-stone-weight-ii/)。一堆石头，两两碰撞，质量小的完全消失，质量大的相应抵消。问最后能剩下的石头的最小质量是多少？\n",
    "\n",
    "思路：根据石头个数的奇偶性，最后只可能剩下$0$个或$1$个石头。假设$n$个石头总质量为$sum$，题目要求个数不超过$n//2$、质量不超过$sum//2$的条件下取出石头的最大质量，即背包问题。"
   ]
  },
  {
   "cell_type": "code",
   "execution_count": null,
   "metadata": {},
   "outputs": [],
   "source": []
  },
  {
   "cell_type": "markdown",
   "metadata": {},
   "source": [
    "[Perfect Squares](https://leetcode.com/problems/perfect-squares/)。给一个数$n$，问其最少能用多少个完全平方数来求和得到。\n",
    "\n",
    "思路：从数学角度上来说，根据四平方和定理，任意正整数都可以表示成不超过$4$个完全平方数的和，但是该定理一般人都不知道。因此使用动态规划来解。令```dp[i]```表示正整数$i$可以表示成多少个完全平方数的和，首先```dp[0]=0```，令完全平方数的基数为$1$，即只考虑$1*1$，更新dp数组，然后考虑$2*2$，再更新dp数组。\n",
    "\n",
    "注：动态规划方法现在不能再通过了，全部超时。"
   ]
  },
  {
   "cell_type": "code",
   "execution_count": 30,
   "metadata": {},
   "outputs": [
    {
     "data": {
      "text/plain": [
       "1"
      ]
     },
     "execution_count": 30,
     "metadata": {},
     "output_type": "execute_result"
    }
   ],
   "source": [
    "def numSquares(n: int) -> int:\n",
    "    dp = [4]*(n+1)\n",
    "    dp[0] = 0\n",
    "\n",
    "    for i in range(n+1):\n",
    "        for base in range(1, int(n**0.5)+1):    # 完全平方数的基数\n",
    "            new_num = i+base**2\n",
    "            if new_num <= n:\n",
    "                # 从dp[i]到dp[i+base**2]只加了一个完全平方数\n",
    "                dp[new_num] = min(dp[new_num], dp[i]+1)\n",
    "\n",
    "    return dp[-1]"
   ]
  },
  {
   "cell_type": "markdown",
   "metadata": {},
   "source": [
    "[Triangle](https://leetcode.com/problems/triangle/)。给一个三角形数组，求一个自顶向下路径的最小和。\n",
    "```\n",
    "2\n",
    "3 4\n",
    "6 5 7\n",
    "4 1 8 3\n",
    "```\n",
    "\n",
    "思路：逆向思考，自底向上寻找路径去求和，dp数组的大小为(底，高)。状态转移方程为：\n",
    "$$\n",
    "dp[row][col]=min(dp[row+1][col],dp[row+1][col+1])+A[row][col]\n",
    "$$"
   ]
  },
  {
   "cell_type": "code",
   "execution_count": 35,
   "metadata": {},
   "outputs": [
    {
     "data": {
      "text/plain": [
       "-4"
      ]
     },
     "execution_count": 35,
     "metadata": {},
     "output_type": "execute_result"
    }
   ],
   "source": [
    "def minimumTotal(triangle) -> int:\n",
    "    height, width = len(triangle), len(triangle[-1])\n",
    "    dp = [[0 for _ in range(width)] for _ in range(height-1)]\n",
    "    dp.append(triangle[-1])\n",
    "\n",
    "    for row in range(height-2, -1, -1):\n",
    "        for col in range(width-(height-row)+1):\n",
    "            dp[row][col] = min(dp[row+1][col],\n",
    "                               dp[row+1][col+1])+triangle[row][col]\n",
    "\n",
    "    return dp[0][0]"
   ]
  },
  {
   "cell_type": "markdown",
   "metadata": {},
   "source": [
    "[Best Time to Buy and Sell Stock with Cooldown](https://leetcode.com/problems/best-time-to-buy-and-sell-stock-with-cooldown/)。一数组代表股票的历史价格，假设卖出后的冷却时间为一天，求能获得的最大利润。(腾讯实习有类似笔试题)\n",
    "\n",
    "思路：多重动态规划，对于任意一天，状态有两种，持股与不持股。\n",
    "\n",
    "设立两个dp数组，一个表示第$i$天持股的最大利润，另一个表示不持股的最大利润。那么基准情况为```hold[0]=-price[0]```，因为买入是要花钱的；```hold[1]=max(-price[0],-price[1])```，即持股可能是今天买了也可能是昨天买了，取成本最低的那一个；```unhold[0]```=0，不买不花钱。\n",
    "\n",
    "```hold[i]=max(unhold[i-2]-price[i],hold[i-1])```，前者表示今天买入(前天卖出今天买入)，后者表示今天持旧股无操作；```unhold[i]=max(hold[i-1]+price[i],unhold[i-1])```，前者表示今天卖出(昨天的最大利润+持股价格)，后者表示今天不买入无操作。"
   ]
  },
  {
   "cell_type": "code",
   "execution_count": 38,
   "metadata": {},
   "outputs": [
    {
     "data": {
      "text/plain": [
       "3"
      ]
     },
     "execution_count": 38,
     "metadata": {},
     "output_type": "execute_result"
    }
   ],
   "source": [
    "def maxProfit(prices) -> int:\n",
    "    n = len(prices)\n",
    "    if n < 2:\n",
    "        return 0\n",
    "\n",
    "    hold, unhold = [0]*n, [0]*n\n",
    "    hold[0] = -prices[0]\n",
    "    hold[1] = max(-prices[0], -prices[1])\n",
    "    unhold[1] = max(unhold[0], hold[0]+prices[1])\n",
    "\n",
    "    for i in range(2, n):\n",
    "        hold[i] = max(hold[i-1], unhold[i-2]-prices[i])\n",
    "        unhold[i] = max(unhold[i-1], hold[i-1]+prices[i])\n",
    "\n",
    "    return unhold[-1]"
   ]
  },
  {
   "cell_type": "markdown",
   "metadata": {},
   "source": [
    "[Ones and Zeroes](https://leetcode.com/problems/ones-and-zeroes/)。给定一系列只包含$0$和$1$的字串，限定$0$的个数为$m$，$1$的个数为$n$，不能重复取，问最多在字典中取出几个字串。\n",
    "\n",
    "思路：动态规划，设立一个二维dp数组，行表示$0$的数量，列表式$1$的数量。初始```dp[0][0]=0```，将$m$与$n$看做是容量，那么类似于0-1背包问题，将大问题分解成子问题，由后往前遍历(难点)，```dp[row][col]=max(dp[row-zeros][col-ones]+1, dp[row][col])```。"
   ]
  },
  {
   "cell_type": "code",
   "execution_count": 46,
   "metadata": {},
   "outputs": [
    {
     "data": {
      "text/plain": [
       "4"
      ]
     },
     "execution_count": 46,
     "metadata": {},
     "output_type": "execute_result"
    }
   ],
   "source": [
    "def findMaxForm(strs, m: int, n: int) -> int:\n",
    "    n_zeros, n_ones = m, n\n",
    "    dp = [[0 for _ in range(n_ones+1)] for _ in range(n_zeros+1)]\n",
    "\n",
    "    for s in strs:\n",
    "        zeros = len([ch for ch in s if ch == '0'])\n",
    "        ones = len([ch for ch in s if ch == '1'])\n",
    "\n",
    "        # 由后往前更新\n",
    "        for row in range(n_zeros, zeros-1, -1):\n",
    "            for col in range(n_ones, ones-1, -1):\n",
    "                dp[row][col] = max(dp[row-zeros][col-ones]+1, dp[row][col])\n",
    "\n",
    "    return dp[-1][-1]"
   ]
  },
  {
   "cell_type": "code",
   "execution_count": null,
   "metadata": {},
   "outputs": [],
   "source": []
  }
 ],
 "metadata": {
  "hide_input": false,
  "kernelspec": {
   "display_name": "Python 3",
   "language": "python",
   "name": "python3"
  },
  "language_info": {
   "codemirror_mode": {
    "name": "ipython",
    "version": 3
   },
   "file_extension": ".py",
   "mimetype": "text/x-python",
   "name": "python",
   "nbconvert_exporter": "python",
   "pygments_lexer": "ipython3",
   "version": "3.6.6"
  },
  "toc": {
   "base_numbering": 1,
   "nav_menu": {},
   "number_sections": true,
   "sideBar": true,
   "skip_h1_title": false,
   "title_cell": "Table of Contents",
   "title_sidebar": "Contents",
   "toc_cell": false,
   "toc_position": {},
   "toc_section_display": true,
   "toc_window_display": false
  }
 },
 "nbformat": 4,
 "nbformat_minor": 2
}
