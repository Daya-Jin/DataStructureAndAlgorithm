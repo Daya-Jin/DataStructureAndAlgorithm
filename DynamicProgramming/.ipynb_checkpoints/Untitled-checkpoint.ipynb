{
 "cells": [
  {
   "cell_type": "markdown",
   "metadata": {},
   "source": [
    "[Decode Ways](https://leetcode.com/problems/decode-ways/)。数字与字母的映射组合。给定一个数字与字母的映射法则：1->a，2->b，26->z，求一个数字n有多少种字母表示法。\n",
    "\n",
    "思路：显而易见，$[1,10]$之间的数只有一种字母表示法，$[11,26]$之间的数字有两种表示法，$[26,99]$之间的数字只有一种表示法。当增加到三位数时，需要分情况讨论。如果从末尾往前推，那么可以用动态规划来解决，令dp[i]表示第$i$位及其以后的数字部分共有多少种字母表示法，dp[i-1]表示左边增加一位数字时有多少种表示方法，易得$dp[-1]=1$。注意当碰到'0'开头时表示方式为0。"
   ]
  },
  {
   "cell_type": "code",
   "execution_count": null,
   "metadata": {},
   "outputs": [],
   "source": [
    "def PresentCnt(n):\n",
    "    if not s or int(s) <= 0:\n",
    "        return 0\n",
    "\n",
    "    n = len(s)\n",
    "    dp = [1 for _ in range(n)]\n",
    "    dp[-1] = 1 if int(s[-1]) != 0 else 0\n",
    "    \n",
    "    for i in range(n-2, -1, -1):\n",
    "        if s[i] == '0':    # 如果数字以0开头则不存在表示方法\n",
    "            dp[i] = 0\n",
    "            continue\n",
    "            \n",
    "        cur_num = int(s[i:i+2])\n",
    "        \n",
    "        if 1 <= cur_num <= 26:\n",
    "            if i < n-2:\n",
    "                dp[i] = dp[i+1]+dp[i+2]\n",
    "            else:\n",
    "                dp[i] = dp[i+1]+1\n",
    "        else:\n",
    "            dp[i] = dp[i+1]\n",
    "\n",
    "    return dp[0]"
   ]
  },
  {
   "cell_type": "markdown",
   "metadata": {},
   "source": [
    "[Word Break](https://leetcode.com/problems/word-break/discuss/?currentPage=1&orderBy=newest_to_oldest&query=)。给定一个字串与字典，判断该字串能否分解成字典中的词。\n",
    "\n",
    "思路：动态规划，令dp[i]表示s[:i]是可分解的，即dp记录的是切分后左半段字串是否可分解，易得dp[0]=True，那么怎么判定dp[i+1]的值？首先需要遍历所有i+1之前的dp值，只有当dp[j]为True且s[j:i]也在字典中时才说明可分解。"
   ]
  },
  {
   "cell_type": "code",
   "execution_count": 8,
   "metadata": {
    "scrolled": true
   },
   "outputs": [
    {
     "data": {
      "text/plain": [
       "True"
      ]
     },
     "execution_count": 8,
     "metadata": {},
     "output_type": "execute_result"
    }
   ],
   "source": [
    "def wordBreak(s: str, wordDict) -> bool:\n",
    "    if not s:\n",
    "        return True\n",
    "\n",
    "    wordDict = set(wordDict)\n",
    "\n",
    "    n = len(s)\n",
    "    dp = [False for _ in range(n+1)]    # dp[0]对应空字串\n",
    "    dp[0] = True\n",
    "    for tail in range(1, n+1):    # 从左往右递增字串\n",
    "        for cut in range(0, tail+1):\n",
    "            right_s = s[cut:tail]    # 切分后的右半段，左半段的切分性由dp[cut]决定\n",
    "            if dp[cut] == True and right_s in wordDict:\n",
    "                dp[tail] = True\n",
    "                break\n",
    "    return dp[-1]"
   ]
  },
  {
   "cell_type": "markdown",
   "metadata": {},
   "source": [
    "[Climbing Stairs](https://leetcode.com/problems/climbing-stairs/)。爬楼梯，每次能爬一阶或两阶，爬上$n$阶楼梯有多少种走法，其中$n>0$。\n",
    "\n",
    "思路：最简单的动态规划题，状态转移方程为：$dp[i]=dp[i-1]+dp[i-2]$。"
   ]
  },
  {
   "cell_type": "code",
   "execution_count": null,
   "metadata": {},
   "outputs": [],
   "source": [
    "def climbStairs(n: int) -> int:\n",
    "    if n < 3:\n",
    "        return n\n",
    "\n",
    "    dp = [0 for _ in range(n)]\n",
    "    dp[0] = 1\n",
    "    dp[1] = 2\n",
    "\n",
    "    for i in range(2, n):\n",
    "        dp[i] = dp[i-2]+dp[i-1]\n",
    "\n",
    "    return dp[-1]"
   ]
  },
  {
   "cell_type": "markdown",
   "metadata": {},
   "source": [
    "[House Robber](https://leetcode.com/problems/house-robber/)。一数组表示各房屋内的金钱，不能同时搜刮相邻的两个房子，问最多能偷到多少钱。\n",
    "\n",
    "思路：典型的动态规划，设```dp[i]```为有$i$个房子时最多能偷到的钱，因为不能偷相邻的房子，所以状态转移方程为$dp[i]=max(dp[i-2]+house[i],dp[i-1])$。空间可优化。"
   ]
  },
  {
   "cell_type": "code",
   "execution_count": null,
   "metadata": {},
   "outputs": [],
   "source": [
    "def rob(nums: List[int]) -> int:\n",
    "    if not nums:\n",
    "        return 0\n",
    "    if len(nums) < 3:\n",
    "        return max(nums)\n",
    "\n",
    "    dp = [0 for _ in range(len(nums))]\n",
    "    dp[0] = nums[0]\n",
    "    dp[1] = max(nums[0], nums[1])\n",
    "\n",
    "    for i in range(2, len(nums)):\n",
    "        dp[i] = max(dp[i-2]+nums[i], dp[i-1])\n",
    "\n",
    "    return dp[-1]"
   ]
  },
  {
   "cell_type": "markdown",
   "metadata": {},
   "source": [
    "[House Robber II](https://leetcode.com/problems/house-robber-ii/)。同上题，不过现在房子围成了一个圈，此时给出的数组首位相等。\n",
    "\n",
    "思路：现在首尾相连，那么需要把环拆成数组，需要考虑两种情况。一是首元素还是首元素，删掉尾元素；二是删掉首元素，保留尾元素。"
   ]
  },
  {
   "cell_type": "code",
   "execution_count": 2,
   "metadata": {},
   "outputs": [
    {
     "data": {
      "text/plain": [
       "3"
      ]
     },
     "execution_count": 2,
     "metadata": {},
     "output_type": "execute_result"
    }
   ],
   "source": [
    "def rob(nums) -> int:\n",
    "    if not nums:\n",
    "        return 0\n",
    "    if len(nums) < 3:\n",
    "        return max(nums)\n",
    "\n",
    "    def rob_max(nums):\n",
    "        dp = [0 for _ in range(len(nums))]\n",
    "        dp[0] = nums[0]\n",
    "        dp[1] = max(nums[0], nums[1])\n",
    "\n",
    "        for i in range(2, len(nums)):\n",
    "            dp[i] = max(dp[i-2]+nums[i], dp[i-1])\n",
    "\n",
    "        return dp[-1]\n",
    "\n",
    "    nums_1 = nums[1:]\n",
    "    nums_2 = nums[:-1]\n",
    "    return max(rob_max(nums_1), rob_max(nums_2))"
   ]
  },
  {
   "cell_type": "markdown",
   "metadata": {},
   "source": [
    "[All Possible Full Binary Trees](https://leetcode.com/problems/all-possible-full-binary-trees/)。给定$n$个节点，求出所有可能的满二叉树，返回根节点的列表。\n",
    "\n",
    "思路：满二叉树的节点数肯定为奇数，偶数情况直接返回空。易得$n=1$答案即根节点，$n=3$时答案即整棵树，$n=5$时，答案有两个，并且可以在$n=3$的基础上得来。所以使用DP来解。"
   ]
  },
  {
   "cell_type": "code",
   "execution_count": null,
   "metadata": {},
   "outputs": [],
   "source": [
    "class TreeNode:\n",
    "    def __init__(self, x):\n",
    "        self.val = x\n",
    "        self.left = None\n",
    "        self.right = None\n",
    "\n",
    "\n",
    "def allPossibleFBT(N: int):\n",
    "    dp = [list() for _ in range(N+1)]\n",
    "    dp[1].append(TreeNode(0))\n",
    "\n",
    "    if N % 2 == 0:\n",
    "        return dp[0]\n",
    "\n",
    "    for node_cnt in range(3, N+1, 2):    # 总结点数，以2为步长\n",
    "        for left_node in range(1, node_cnt, 2):    # 左分支节点数\n",
    "            right_node = node_cnt-left_node-1    # 右分支节点数\n",
    "\n",
    "            for left in dp[left_node]:\n",
    "                for right in dp[right_node]:\n",
    "                    root = TreeNode(0)\n",
    "                    root.left = left\n",
    "                    root.right = right\n",
    "                    dp[node_cnt].append(root)\n",
    "\n",
    "    return dp[-1]"
   ]
  }
 ],
 "metadata": {
  "hide_input": false,
  "kernelspec": {
   "display_name": "Python 3",
   "language": "python",
   "name": "python3"
  },
  "language_info": {
   "codemirror_mode": {
    "name": "ipython",
    "version": 3
   },
   "file_extension": ".py",
   "mimetype": "text/x-python",
   "name": "python",
   "nbconvert_exporter": "python",
   "pygments_lexer": "ipython3",
   "version": "3.6.6"
  },
  "toc": {
   "base_numbering": 1,
   "nav_menu": {},
   "number_sections": true,
   "sideBar": true,
   "skip_h1_title": false,
   "title_cell": "Table of Contents",
   "title_sidebar": "Contents",
   "toc_cell": false,
   "toc_position": {},
   "toc_section_display": true,
   "toc_window_display": false
  }
 },
 "nbformat": 4,
 "nbformat_minor": 2
}
