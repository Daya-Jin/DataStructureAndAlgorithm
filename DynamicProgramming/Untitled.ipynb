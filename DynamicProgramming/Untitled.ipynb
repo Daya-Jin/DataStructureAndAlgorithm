{
 "cells": [
  {
   "cell_type": "markdown",
   "metadata": {},
   "source": [
    "数字与字母的映射组合。给定一个数字与字母的映射法则：0->a，1->b，25->z，求一个数字n有多少种字母表示法。\n",
    "\n",
    "思路：显而易见，$[0,9]$之间的数只有一种字母表示法，$[10,25]$之间的数字有两种表示法，$[26,99]$之间的数字只有一种表示法。当增加到三位数时，需要分情况讨论。如果从末尾往前推，那么可以用动态规划来解决，令dp[i]表示第$i$位及其以后的数字部分共有多少种字母表示法，dp[i-1]表示左边增加一位数字时有多少种表示方法，易得$dp[-1]=1$。"
   ]
  },
  {
   "cell_type": "code",
   "execution_count": null,
   "metadata": {},
   "outputs": [],
   "source": [
    "def PresentCnt(n):\n",
    "    if n < 0:\n",
    "        return 0\n",
    "    if n < 10:\n",
    "        return 1\n",
    "\n",
    "    s = str(n)\n",
    "    dp = [1 for _ in range(len(s))]\n",
    "\n",
    "    for i in range(len(s)-2, -1, -1):    # 从倒数第二位开始反推\n",
    "        cur_num = int(s[i])*10+int(s[i+1])\n",
    "\n",
    "        if 10 <= cur_num <= 25:    # 当前两位数属于特定区间时才能增加表达数量\n",
    "            if i < len(s)-2:    # 注意边界\n",
    "                dp[i] = dp[i+1]+dp[i+2]\n",
    "            else:\n",
    "                dp[i] = dp[i+1]+1\n",
    "\n",
    "        else:\n",
    "            dp[i] = dp[i+1]"
   ]
  }
 ],
 "metadata": {
  "hide_input": false,
  "kernelspec": {
   "display_name": "Python 3",
   "language": "python",
   "name": "python3"
  },
  "language_info": {
   "codemirror_mode": {
    "name": "ipython",
    "version": 3
   },
   "file_extension": ".py",
   "mimetype": "text/x-python",
   "name": "python",
   "nbconvert_exporter": "python",
   "pygments_lexer": "ipython3",
   "version": "3.6.6"
  },
  "toc": {
   "base_numbering": 1,
   "nav_menu": {},
   "number_sections": true,
   "sideBar": true,
   "skip_h1_title": false,
   "title_cell": "Table of Contents",
   "title_sidebar": "Contents",
   "toc_cell": false,
   "toc_position": {},
   "toc_section_display": true,
   "toc_window_display": false
  }
 },
 "nbformat": 4,
 "nbformat_minor": 2
}
