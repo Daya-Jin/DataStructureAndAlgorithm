{
 "cells": [
  {
   "cell_type": "markdown",
   "metadata": {},
   "source": [
    "给定一棵二叉树的先序序列跟中序序列，重构这颗二叉树，返回根节点。"
   ]
  },
  {
   "cell_type": "code",
   "execution_count": 8,
   "metadata": {},
   "outputs": [
    {
     "name": "stdout",
     "output_type": "stream",
     "text": [
      "1 2 3 4 5\n"
     ]
    }
   ],
   "source": [
    "class TreeNode:\n",
    "    def __init__(self, x):\n",
    "        self.val = x\n",
    "        self.left = None\n",
    "        self.right = None\n",
    "\n",
    "\n",
    "pre_order = [1, 2, 4, 7, 3, 5, 6, 8]\n",
    "in_order = [4, 7, 2, 1, 5, 3, 8, 6]\n",
    "\n",
    "\n",
    "def reConstructBinaryTree(pre_order, in_order):\n",
    "    if len(pre_order) == 0:\n",
    "        return None\n",
    "    if len(pre_order) == 1:\n",
    "        return TreeNode(pre_order[0])\n",
    "\n",
    "    cur_root = TreeNode(pre_order[0])  # 先序序列的首元素肯定是根节点\n",
    "\n",
    "    # 找到根节点在中序序列中的位置，左边是左子树元素，右边是右子树元素\n",
    "    cur_root_index = in_order.index(pre_order[0])\n",
    "\n",
    "    cur_root.left = reConstructBinaryTree(pre_order[1:cur_root_index + 1], in_order[:cur_root_index])\n",
    "    cur_root.right = reConstructBinaryTree(pre_order[cur_root_index + 1:], in_order[cur_root_index + 1:])\n",
    "    return cur_root\n",
    "\n",
    "\n",
    "tree = reConstructBinaryTree(pre_order, in_order)\n",
    "print(tree.val, tree.left.val, tree.right.val, tree.left.left.val, tree.right.left.val)"
   ]
  },
  {
   "cell_type": "markdown",
   "metadata": {},
   "source": [
    "给定一颗二叉树与一个节点，找出其中序序列的下一个节点，节点有三个指针，分别指向左子节点、右子节点和父节点。"
   ]
  },
  {
   "cell_type": "code",
   "execution_count": 22,
   "metadata": {},
   "outputs": [
    {
     "data": {
      "text/plain": [
       "0"
      ]
     },
     "execution_count": 22,
     "metadata": {},
     "output_type": "execute_result"
    }
   ],
   "source": [
    "class TreeNode:\n",
    "    def __init__(self, x=None):\n",
    "        self.val = x\n",
    "        self.left = None\n",
    "        self.right = None\n",
    "        self.p = None\n",
    "\n",
    "# 分情况讨论\n",
    "# 有右子树\n",
    "#     则找到右子树中最左的节点\n",
    "# 无右子树\n",
    "#     有父节点\n",
    "#         该节点是父节点的左子树，则返回父节点\n",
    "#         该节点是父节点的右子树，向上搜索找到最近的左子节点\n",
    "#     无父节点\n",
    "#         返回空\n",
    "def next_node(node):\n",
    "    if node is None:\n",
    "        return None\n",
    "\n",
    "    next_node = None  # 返回值置空\n",
    "\n",
    "    if node.right is not None:  # 存在右子树\n",
    "        node = node.right\n",
    "        while node.left is not None:\n",
    "            node = node.left\n",
    "        next_node = node\n",
    "    elif node.p is not None:  # 无右子树有父节点\n",
    "        cur_node = node\n",
    "        while cur_node.p is not None and cur_node == cur_node.p.right:  # 向上搜索最近的左子节点\n",
    "            cur_node = cur_node.p\n",
    "        next_node = cur_node.p\n",
    "\n",
    "    return next_node"
   ]
  },
  {
   "cell_type": "markdown",
   "metadata": {},
   "source": [
    "给定两棵树，判断后者是不是包含在前者中。空树不算子结构。"
   ]
  },
  {
   "cell_type": "code",
   "execution_count": null,
   "metadata": {},
   "outputs": [],
   "source": [
    "class TreeNode:\n",
    "    def __init__(self, x):\n",
    "        self.val = x\n",
    "        self.left = None\n",
    "        self.right = None\n",
    "\n",
    "\n",
    "# 判断以root2为根节点的树是否包含在以root1为根节点的树中\n",
    "def has_substruct(root1, root2):\n",
    "    if root1 is None or root2 is None:  # 左右任一根节点空则失匹，因为空树不算子结构\n",
    "        return False\n",
    "    if root1.val != root2.val:\n",
    "        return False\n",
    "    else:\n",
    "        # 首先从根节点判断是否左边包含右边\n",
    "        return (contain_rec(root1, root2) or\n",
    "                has_substruct(root1.left, root2) or\n",
    "                has_substruct(root1.right, root2))\n",
    "\n",
    "\n",
    "# 递归判断左节点是否包含右节点，并且空树的处理由has_substruct()完成\n",
    "# 所以这里当右节点为空时应该返回True\n",
    "def contain_rec(node1, node2):\n",
    "    if node2 is None:\n",
    "        return True\n",
    "    if node1 is None or node1.val != node2.val:\n",
    "        return False\n",
    "    return contain_rec(node1.left, node2.left) and contain_rec(node1.right, node2.right)"
   ]
  },
  {
   "cell_type": "markdown",
   "metadata": {},
   "source": [
    "给定一颗二叉树，输出其按照根节点左右翻转的镜像。"
   ]
  },
  {
   "cell_type": "code",
   "execution_count": null,
   "metadata": {},
   "outputs": [],
   "source": [
    "class TreeNode:\n",
    "    def __init__(self, x):\n",
    "        self.val = x\n",
    "        self.left = None\n",
    "        self.right = None\n",
    "\n",
    "\n",
    "class Stack:\n",
    "    def __init__(self):\n",
    "        self.items = []\n",
    "        self.size = 0\n",
    "\n",
    "    def push(self, x):\n",
    "        self.items.insert(0, x)\n",
    "        self.size += 1\n",
    "\n",
    "    def pop(self):\n",
    "        self.size -= 1\n",
    "        return self.items.pop()\n",
    "\n",
    "\n",
    "# 使用循环与栈来模拟递归\n",
    "# 先将根节点入栈，然后类似层次遍历，左右子节点入栈\n",
    "# 每弹出一个节点，交换其左右子节点\n",
    "def mirror_tree(root_node):\n",
    "    if root_node is None:  # 空树判断\n",
    "        return root_node\n",
    "\n",
    "    stack = Stack()\n",
    "    stack.push(root_node)  # 根节点入栈\n",
    "\n",
    "    while stack.size > 0:\n",
    "        node = stack.pop()\n",
    "        node.left, node.right = node.right, node.left  # 镜像翻转子节点\n",
    "        # 再把子节点入栈\n",
    "        if node.left:\n",
    "            stack.push(node.left)\n",
    "        if node.right:\n",
    "            stack.push(node.right)"
   ]
  },
  {
   "cell_type": "markdown",
   "metadata": {},
   "source": [
    "给定一颗二叉树，判断其是否镜像对称。"
   ]
  },
  {
   "cell_type": "code",
   "execution_count": null,
   "metadata": {},
   "outputs": [],
   "source": [
    "class TreeNode:\n",
    "    def __init__(self, x):\n",
    "        self.val = x\n",
    "        self.left = None\n",
    "        self.right = None\n",
    "\n",
    "\n",
    "# 判断两节点是否相等\n",
    "def left_eq_right(left, right):\n",
    "    # 两节点均为空\n",
    "    if not left and not right:\n",
    "        return True\n",
    "\n",
    "    # 只存在单节点\n",
    "    if left and not right:\n",
    "        return False\n",
    "    if right and not left:\n",
    "        return False\n",
    "\n",
    "    # 双节点均存在且值相等\n",
    "    if left.val == right.val:\n",
    "        return left_eq_right(left.left, right.right) and left_eq_right(left.right, right.left)\n",
    "\n",
    "    # 值不相等\n",
    "    return False\n",
    "\n",
    "\n",
    "def is_symmetrical(root_node):\n",
    "    # 根节点空\n",
    "    if not root_node:\n",
    "        return True\n",
    "\n",
    "    # 单边树\n",
    "    if root_node.left and not root_node.right:\n",
    "        return False\n",
    "    if root_node.right and not root_node.left:\n",
    "        return False\n",
    "\n",
    "    # 存在根节点，且两子节点要不都存在，要不都不存在\n",
    "    return left_eq_right(root_node.left, root_node.right)"
   ]
  },
  {
   "cell_type": "markdown",
   "metadata": {},
   "source": [
    "二叉树的层次遍历。"
   ]
  },
  {
   "cell_type": "code",
   "execution_count": null,
   "metadata": {},
   "outputs": [],
   "source": [
    "class TreeNode:\n",
    "    def __init__(self, x):\n",
    "        self.val = x\n",
    "        self.left = None\n",
    "        self.right = None\n",
    "        \n",
    "def LevelTrav(root_node):\n",
    "    if not root_node:\n",
    "        return []\n",
    "    \n",
    "    queue=[root_node]\n",
    "    res=[]\n",
    "    \n",
    "    while queue:\n",
    "        cur_node=queue.pop(0)\n",
    "        res.append(cur_node.val)\n",
    "        if cur_node.left:\n",
    "            queue.append(cur_node.left)\n",
    "        if cur_node.right:\n",
    "            queue.append(cur_node.right)\n",
    "    \n",
    "    return res"
   ]
  },
  {
   "cell_type": "markdown",
   "metadata": {},
   "source": [
    "二叉树的层次遍历。不同层的叶子节点输出到不同行。"
   ]
  },
  {
   "cell_type": "code",
   "execution_count": null,
   "metadata": {},
   "outputs": [],
   "source": [
    "class TreeNode:\n",
    "    def __init__(self, x):\n",
    "        self.val = x\n",
    "        self.left = None\n",
    "        self.right = None\n",
    "\n",
    "\n",
    "def LevelTrav_level(root_node):\n",
    "    if not root_node:\n",
    "        return None\n",
    "\n",
    "    cur_level=[root_node]\n",
    "    res=[]\n",
    "    \n",
    "    while cur_level:\n",
    "        next_level=[]\n",
    "        for node in cur_level:\n",
    "            if node.left:\n",
    "                next_level.append(node.left)\n",
    "            if node.right:\n",
    "                next_level.append(node.right)\n",
    "        \n",
    "        res.append([node.val for node in cur_level])\n",
    "        cur_level=next_level\n",
    "        \n",
    "    return res"
   ]
  },
  {
   "cell_type": "markdown",
   "metadata": {},
   "source": [
    "二叉树的层次遍历，不同层的节点输出到不同行，并且每隔一层就更换输出顺序。"
   ]
  },
  {
   "cell_type": "code",
   "execution_count": 1,
   "metadata": {},
   "outputs": [
    {
     "ename": "SyntaxError",
     "evalue": "invalid syntax (<ipython-input-1-59ba26d9344d>, line 24)",
     "output_type": "error",
     "traceback": [
      "\u001b[1;36m  File \u001b[1;32m\"<ipython-input-1-59ba26d9344d>\"\u001b[1;36m, line \u001b[1;32m24\u001b[0m\n\u001b[1;33m    if flag\u001b[0m\n\u001b[1;37m           ^\u001b[0m\n\u001b[1;31mSyntaxError\u001b[0m\u001b[1;31m:\u001b[0m invalid syntax\n"
     ]
    }
   ],
   "source": [
    "class TreeNode:\n",
    "    def __init__(self, x):\n",
    "        self.val = x\n",
    "        self.left = None\n",
    "        self.right = None\n",
    "\n",
    "# 思路：同样是二叉树的层次遍历，不过最优解应该是使用双端队列，这里用了Python语法糖\n",
    "        \n",
    "def LevelTravZigzag(root_node):\n",
    "    if not root_node:\n",
    "        return None\n",
    "\n",
    "    cur_level=[root_node]\n",
    "    res=[]\n",
    "    flag=1\n",
    "    \n",
    "    while cur_level:\n",
    "        next_level=[]\n",
    "        for node in cur_level:\n",
    "            if node.left:\n",
    "                next_level.append(node.left)\n",
    "            if node.right:\n",
    "                next_level.append(node.right)\n",
    "        \n",
    "        if flag:\n",
    "            res.append([node.val for node in cur_level])\n",
    "        else:\n",
    "            res.append([node.val for node in cur_level][::-1])    # 此是Python语法糖\n",
    "            \n",
    "        cur_level=next_level\n",
    "        flag=1-flag\n",
    "        \n",
    "    return res"
   ]
  },
  {
   "cell_type": "markdown",
   "metadata": {},
   "source": [
    "二叉搜索树的后序遍历合法性判断。给定一个无重复的序列，判断是否是一颗二叉搜索树的后序遍历序列。假设空序列为False。"
   ]
  },
  {
   "cell_type": "code",
   "execution_count": 10,
   "metadata": {},
   "outputs": [
    {
     "data": {
      "text/plain": [
       "True"
      ]
     },
     "execution_count": 10,
     "metadata": {},
     "output_type": "execute_result"
    }
   ],
   "source": [
    "# 如果某序列是二叉搜索树的后序遍历，那么根节点之前的序列可分为两部分，左子树(小于根节点)和右子树(大于根节点)\n",
    "def VerifySquenceOfBST(s):\n",
    "    if not s:\n",
    "        return True\n",
    "\n",
    "    root_val = s[-1]\n",
    "\n",
    "    # 找到左子树的边界位置\n",
    "    for i in range(len(s)):\n",
    "        if s[i] > root_val:\n",
    "            break\n",
    "\n",
    "    # 判断右子树是否都大于根节点\n",
    "    for j in range(i, len(s)):\n",
    "        if s[j] < root_val:\n",
    "            return False\n",
    "\n",
    "    # 把左右标记默认设为True，对应空子树的情况，当左右子树的元素数量>0时才做递归判断\n",
    "    left_flag = True\n",
    "    right_flag = True\n",
    "    if i > 0:\n",
    "        left_flag = VerifySquenceOfBST(s[:i])\n",
    "    if i < len(s)-1:\n",
    "        right_flag = VerifySquenceOfBST(s[i:-1])\n",
    "\n",
    "    return left_flag and right_flag\n",
    "\n",
    "\n",
    "VerifySquenceOfBST([5, 7, 6, 9, 11, 10, 8])"
   ]
  },
  {
   "cell_type": "markdown",
   "metadata": {},
   "source": [
    "二叉树中的求和路径。给定一个数字，求出二叉树中满足和等于该值的路径。"
   ]
  },
  {
   "cell_type": "code",
   "execution_count": null,
   "metadata": {},
   "outputs": [],
   "source": [
    "class TreeNode:\n",
    "    def __init__(self, x):\n",
    "        self.val = x\n",
    "        self.left = None\n",
    "        self.right = None\n",
    "\n",
    "# 思路，递归，逆推法。使用先序遍历访问所有可能的节点，同时更新差值，当叶子节点值等于剩余差值时，记录该叶节点，并向上回溯\n",
    "\n",
    "\n",
    "def SumPath(root_node, num):\n",
    "    if not root_node:\n",
    "        return []\n",
    "\n",
    "    # 单节点时，返回满足条件的叶子节点\n",
    "    if root_node and not root_node.left and not root_node.right and root_node.val == num:\n",
    "        return [[root_node.val]]\n",
    "\n",
    "    # 每次递归返回只增加一个节点\n",
    "    left_path = SumPath(root_node.left, num -\n",
    "                        root_node.val)    # 向左走，并更新差值，直到叶子节点\n",
    "    right_path = SumPath(root_node.right, num -\n",
    "                         root_node.val)   # 向右走，更新差值，直到叶子节点\n",
    "    res = []\n",
    "\n",
    "    for path in left_path+right_path:\n",
    "        res.append([root_node.val]+path)    # 首先把探索到的路径与当前节点拼接起来，再加入返回值列表\n",
    "    return res"
   ]
  },
  {
   "cell_type": "markdown",
   "metadata": {},
   "source": [
    "二叉搜索树转有序双向链表。"
   ]
  },
  {
   "cell_type": "code",
   "execution_count": null,
   "metadata": {},
   "outputs": [],
   "source": [
    "class TreeNode:\n",
    "    def __init__(self, x):\n",
    "        self.val = x\n",
    "        self.left = None\n",
    "        self.right = None\n",
    "\n",
    "# 思路：二叉搜索树可递归地分为两部分，左分支，右分支；转换后的链表也可递归地分为两部分\n",
    "# 使用中序遍历来保证有序\n",
    "\n",
    "\n",
    "def ST2DL(tree_root):\n",
    "    # 空节点判断\n",
    "    if not tree_root:\n",
    "        return None\n",
    "    # 叶节点判断\n",
    "    if not tree_root.left and not tree_root.right:\n",
    "        return tree_root\n",
    "\n",
    "    left_root = ST2DL(tree_root.left)   # 往左递归直到遇到左空或左叶\n",
    "    if left_root:    # 存在左叶\n",
    "        # 找到左边部分的最大值\n",
    "        cur_max = left_root\n",
    "        while cur_max and cur_max.right:\n",
    "            cur_max = cur_max.right\n",
    "\n",
    "        # 把root与左最大值转成双链表\n",
    "        cur_max.right = tree_root\n",
    "        tree_root.left = cur_max\n",
    "\n",
    "    # 右分支\n",
    "    right_root = ST2DL(tree_root.right)\n",
    "    if right_root:\n",
    "        cur_min = right_root\n",
    "        while cur_min and cur_min.left:\n",
    "            cur_min = cur_min.left\n",
    "\n",
    "        cur_min.left = tree_root\n",
    "        tree_root.right = cur_min\n",
    "\n",
    "    return left_root if left_root else tree_root    # 返回链表头结点"
   ]
  },
  {
   "cell_type": "markdown",
   "metadata": {},
   "source": [
    "二叉树的序列化与反序列化。"
   ]
  },
  {
   "cell_type": "code",
   "execution_count": 30,
   "metadata": {},
   "outputs": [
    {
     "data": {
      "text/plain": [
       "<__main__.TreeNode at 0x1cd63063d30>"
      ]
     },
     "execution_count": 30,
     "metadata": {},
     "output_type": "execute_result"
    }
   ],
   "source": [
    "class TreeNode:\n",
    "    def __init__(self, x):\n",
    "        self.val = x\n",
    "        self.left = None\n",
    "        self.right = None\n",
    "\n",
    "# 思路：虽然前序遍历和中序遍历可以唯一确定一颗二叉树，但是不适合流式工作\n",
    "# 使用字符串形式来存储二叉树的前序遍历，使用特殊字符来指明空指针\n",
    "\n",
    "\n",
    "def SerializeTree(root_node):\n",
    "    if not root_node:\n",
    "        return '$'\n",
    "    else:\n",
    "        return str(root_node.val)+','+SerializeTree(root_node.left)+','+SerializeTree(root_node.right)\n",
    "\n",
    "\n",
    "idx = 0\n",
    "def DeSerializeTree(string):\n",
    "    global idx\n",
    "    l = string.split(',')    # str2list\n",
    "    if idx < len(l):\n",
    "        if l[idx] == '$':\n",
    "            idx += 1\n",
    "            return None\n",
    "\n",
    "        if l[idx] != '$':\n",
    "            root_node = TreeNode(int(l[idx]))\n",
    "            idx += 1\n",
    "            root_node.left = DeSerializeTree(string)\n",
    "            root_node.right = DeSerializeTree(string)\n",
    "            return root_node"
   ]
  },
  {
   "cell_type": "markdown",
   "metadata": {},
   "source": [
    "二叉搜索树中第k大的节点。"
   ]
  },
  {
   "cell_type": "code",
   "execution_count": null,
   "metadata": {},
   "outputs": [],
   "source": [
    "class TreeNode:\n",
    "    def __init__(self, x):\n",
    "        self.val = x\n",
    "        self.left = None\n",
    "        self.right = None\n",
    "\n",
    "\n",
    "# 中序遍历，维护一个充当计数器的全局变量即可\n",
    "cnt = 0\n",
    "\n",
    "\n",
    "def KthNodeInST(root_node, k):\n",
    "    if root_node:    # 节点存在\n",
    "        res = KthNodeInST(root_node.left, k)    # 往左走\n",
    "        if res:    # 在左分支得到了答案则直接返回\n",
    "            return res\n",
    "\n",
    "        # 判断当前节点是否是需要搜索的点\n",
    "        cnt += 1\n",
    "        if cnt == k:    # 找到了直接返回\n",
    "            return root_node\n",
    "\n",
    "        res = KthNodeInST(root_node.right, k)    # 往右走\n",
    "        if res:\n",
    "            return res\n",
    "    else:\n",
    "        return None"
   ]
  },
  {
   "cell_type": "markdown",
   "metadata": {},
   "source": [
    "求二叉树的深度。"
   ]
  },
  {
   "cell_type": "code",
   "execution_count": null,
   "metadata": {},
   "outputs": [],
   "source": [
    "class TreeNode:\n",
    "    def __init__(self, x):\n",
    "        self.val = x\n",
    "        self.left = None\n",
    "        self.right = None\n",
    "\n",
    "# 思路：层次遍历，记录深度即可。维护当前层的节点数组与下一层的节点数组\n",
    "\n",
    "\n",
    "def BTreeDepth(root_node):\n",
    "    if not root_node:\n",
    "        return 0\n",
    "\n",
    "    cur_level_nodes = [root_node]    # 当前层的节点\n",
    "    depth = 0\n",
    "\n",
    "    while cur_level_nodes:\n",
    "        depth += 1\n",
    "        next_level_nodes = []    # 下层节点\n",
    "        # 将当前层节点的所有子节点加入到next数组中\n",
    "        for node in cur_level_nodes:\n",
    "            if node.left:\n",
    "                next_level_nodes.append(node.left)\n",
    "            if node.right:\n",
    "                next_level_nodes.append(node.right)\n",
    "        cur_level_nodes = next_level_nodes\n",
    "\n",
    "    return depth"
   ]
  },
  {
   "cell_type": "markdown",
   "metadata": {},
   "source": [
    "判别平衡二叉树。"
   ]
  },
  {
   "cell_type": "code",
   "execution_count": null,
   "metadata": {},
   "outputs": [],
   "source": [
    "# 思路：使用递归的后序遍历\n",
    "# 每个递归函数返回以输入节点为根的子树深度，当子树不是平衡树时返回特殊值-1\n",
    "\n",
    "def IsBalanceTree(root_node):\n",
    "    if not root_node:    # 空节点返回0，表示深度\n",
    "        return 0\n",
    "    \n",
    "    left_res=IsBalanceTree(root_node.left)    # 对左子树判断\n",
    "    if left_res==-1:    # 如果左子树不是平衡树则返回-1\n",
    "        return -1\n",
    "    \n",
    "    right_res=IsBalanceTree(root_node.right)\n",
    "    if right_res==-1:\n",
    "        return -1\n",
    "    \n",
    "    # 若左右子树都是平衡树，在判断左右子树的高度差\n",
    "    return max(left_res,right_res)+1 if abs(left_res-right_res)<2 else -1"
   ]
  },
  {
   "cell_type": "markdown",
   "metadata": {},
   "source": [
    "Find Mode in Binary Search Tree. 求二叉搜索树中的众数。"
   ]
  },
  {
   "cell_type": "code",
   "execution_count": null,
   "metadata": {},
   "outputs": [],
   "source": [
    "# 思路：二叉搜索树的中序遍历为排序数组，该题可转化成在排序数组中查找众数\n",
    "\n",
    "\n",
    "def findMode(root: TreeNode) -> List[int]:\n",
    "    if not root:\n",
    "        return []\n",
    "\n",
    "    # 全局状态变量\n",
    "    max_cnt = 0\n",
    "    cur_cnt = 0\n",
    "    res = list()\n",
    "    pre = None\n",
    "\n",
    "    MidTrav(root)\n",
    "\n",
    "    return res\n",
    "\n",
    "\n",
    "def MidTrav(root):\n",
    "    if not root:    # 空判定，防止传入空值\n",
    "        return None\n",
    "\n",
    "    nonlocal max_cnt\n",
    "    nonlocal cur_cnt\n",
    "    nonlocal res\n",
    "    nonlocal pre\n",
    "\n",
    "    # 往左走\n",
    "    MidTrav(root.left)\n",
    "\n",
    "    if root.val == pre:\n",
    "        cur_cnt += 1\n",
    "    else:\n",
    "        cur_cnt = 1\n",
    "        pre = root.val\n",
    "\n",
    "    if cur_cnt > max_cnt:\n",
    "        res = [root.val]    # 重新赋值\n",
    "        max_cnt = cur_cnt\n",
    "    elif cur_cnt == max_cnt:\n",
    "        res.append(root.val)\n",
    "\n",
    "    MidTrav(root.right)"
   ]
  }
 ],
 "metadata": {
  "kernelspec": {
   "display_name": "Python 3",
   "language": "python",
   "name": "python3"
  },
  "language_info": {
   "codemirror_mode": {
    "name": "ipython",
    "version": 3
   },
   "file_extension": ".py",
   "mimetype": "text/x-python",
   "name": "python",
   "nbconvert_exporter": "python",
   "pygments_lexer": "ipython3",
   "version": "3.6.6"
  }
 },
 "nbformat": 4,
 "nbformat_minor": 2
}
