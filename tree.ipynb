{
 "cells": [
  {
   "cell_type": "markdown",
   "metadata": {},
   "source": []
  },
  {
   "cell_type": "code",
   "execution_count": null,
   "metadata": {},
   "outputs": [],
   "source": [
    "# 思路：递归。结束条件分别是输入空则返回空，输入单元素列表则返回单节点，否则递归\n",
    "# 先序序列的首元素是当前轮次的根节点，然后在中序序列中找到根节点的idx\n",
    "# 划分先序序列与中序序列进行递归\n",
    "\n",
    "\n",
    "def build_rec(preorder, inorder):\n",
    "    if not preorder:\n",
    "        return None\n",
    "    elif len(preorder) == 1:\n",
    "        return TreeNode(preorder[0])\n",
    "\n",
    "    cur_root = TreeNode(preorder[0])    # 先序序列的首元素是根节点\n",
    "    root_inorder_idx = inorder.index(cur_root.val)    # 找到根节点的中序索引\n",
    "\n",
    "    # 左边是左子树，右边是右子树\n",
    "    cur_root.left = build_rec(preorder[1:root_inorder_idx+1],\n",
    "                              inorder[:root_inorder_idx])\n",
    "    cur_root.right = build_rec(preorder[root_inorder_idx+1:],\n",
    "                               inorder[root_inorder_idx+1:])\n",
    "    return cur_root"
   ]
  },
  {
   "cell_type": "markdown",
   "metadata": {},
   "source": [
    "给定一颗二叉树与一个节点，找出其中序序列的下一个节点，节点有三个指针，分别指向左子节点、右子节点和父节点。"
   ]
  },
  {
   "cell_type": "code",
   "execution_count": 2,
   "metadata": {},
   "outputs": [],
   "source": [
    "class TreeNode:\n",
    "    def __init__(self, x=None):\n",
    "        self.val = x\n",
    "        self.left = None\n",
    "        self.right = None\n",
    "        self.p = None\n",
    "\n",
    "# 分情况讨论\n",
    "# 有右子树\n",
    "#     则找到右子树中最左的节点\n",
    "# 无右子树\n",
    "#     有父节点\n",
    "#         该节点是父节点的左子树，则返回父节点\n",
    "#         该节点是父节点的右子树，向上搜索找到最近的左子节点\n",
    "#     无父节点\n",
    "#         返回空\n",
    "def next_node(node):\n",
    "    if node is None:\n",
    "        return None\n",
    "\n",
    "    next_node = None  # 返回值置空\n",
    "\n",
    "    if node.right is not None:  # 存在右子树\n",
    "        node = node.right\n",
    "        while node.left is not None:\n",
    "            node = node.left\n",
    "        next_node = node\n",
    "    elif node.p is not None:  # 无右子树有父节点\n",
    "        cur_node = node\n",
    "        while cur_node.p is not None and cur_node == cur_node.p.right:  # 向上搜索最近的左子节点\n",
    "            cur_node = cur_node.p\n",
    "        next_node = cur_node.p\n",
    "\n",
    "    return next_node"
   ]
  },
  {
   "cell_type": "markdown",
   "metadata": {},
   "source": [
    "给定两棵树，判断后者是不是包含在前者中。空树不算子结构。"
   ]
  },
  {
   "cell_type": "code",
   "execution_count": 3,
   "metadata": {},
   "outputs": [],
   "source": [
    "class TreeNode:\n",
    "    def __init__(self, x):\n",
    "        self.val = x\n",
    "        self.left = None\n",
    "        self.right = None\n",
    "\n",
    "\n",
    "# 判断以root2为根节点的树是否包含在以root1为根节点的树中\n",
    "def has_substruct(root1, root2):\n",
    "    if root1 is None or root2 is None:  # 左右任一根节点空则失匹，因为空树不算子结构\n",
    "        return False\n",
    "    if root1.val != root2.val:\n",
    "        return False\n",
    "    else:\n",
    "        # 首先从根节点判断是否左边包含右边\n",
    "        return (contain_rec(root1, root2) or\n",
    "                has_substruct(root1.left, root2) or\n",
    "                has_substruct(root1.right, root2))\n",
    "\n",
    "\n",
    "# 递归判断左节点是否包含右节点，并且空树的处理由has_substruct()完成\n",
    "# 所以这里当右节点为空时应该返回True\n",
    "def contain_rec(node1, node2):\n",
    "    if node2 is None:\n",
    "        return True\n",
    "    if node1 is None or node1.val != node2.val:\n",
    "        return False\n",
    "    return contain_rec(node1.left, node2.left) and contain_rec(node1.right, node2.right)"
   ]
  },
  {
   "cell_type": "markdown",
   "metadata": {},
   "source": [
    "给定一颗二叉树，输出其按照根节点左右翻转的镜像。"
   ]
  },
  {
   "cell_type": "code",
   "execution_count": 4,
   "metadata": {},
   "outputs": [],
   "source": [
    "class TreeNode:\n",
    "    def __init__(self, x):\n",
    "        self.val = x\n",
    "        self.left = None\n",
    "        self.right = None\n",
    "\n",
    "\n",
    "class Stack:\n",
    "    def __init__(self):\n",
    "        self.items = []\n",
    "        self.size = 0\n",
    "\n",
    "    def push(self, x):\n",
    "        self.items.insert(0, x)\n",
    "        self.size += 1\n",
    "\n",
    "    def pop(self):\n",
    "        self.size -= 1\n",
    "        return self.items.pop()\n",
    "\n",
    "\n",
    "# 使用循环与栈来模拟递归\n",
    "# 先将根节点入栈，然后类似层次遍历，左右子节点入栈\n",
    "# 每弹出一个节点，交换其左右子节点\n",
    "def mirror_tree(root_node):\n",
    "    if root_node is None:  # 空树判断\n",
    "        return root_node\n",
    "\n",
    "    stack = Stack()\n",
    "    stack.push(root_node)  # 根节点入栈\n",
    "\n",
    "    while stack.size > 0:\n",
    "        node = stack.pop()\n",
    "        node.left, node.right = node.right, node.left  # 镜像翻转子节点\n",
    "        # 再把子节点入栈\n",
    "        if node.left:\n",
    "            stack.push(node.left)\n",
    "        if node.right:\n",
    "            stack.push(node.right)"
   ]
  },
  {
   "cell_type": "markdown",
   "metadata": {},
   "source": [
    "二叉树的层次遍历。"
   ]
  },
  {
   "cell_type": "code",
   "execution_count": 6,
   "metadata": {},
   "outputs": [],
   "source": [
    "# 需要队列来实现，每访问一个节点就将其子节点加入队列\n",
    "\n",
    "def LevelTrav(root_node):\n",
    "    if not root_node:\n",
    "        return []\n",
    "\n",
    "    queue = [root_node]\n",
    "    res = []\n",
    "\n",
    "    while queue:\n",
    "        cur_node = queue.pop(0)\n",
    "        res.append(cur_node.val)\n",
    "        if cur_node.left:\n",
    "            queue.append(cur_node.left)\n",
    "        if cur_node.right:\n",
    "            queue.append(cur_node.right)\n",
    "\n",
    "    return res"
   ]
  },
  {
   "cell_type": "markdown",
   "metadata": {},
   "source": [
    "二叉搜索树的后序遍历合法性判断。给定一个无重复的序列，判断是否是一颗二叉搜索树的后序遍历序列。假设空序列为False。"
   ]
  },
  {
   "cell_type": "code",
   "execution_count": 9,
   "metadata": {},
   "outputs": [],
   "source": [
    "# 如果某序列是二叉搜索树的后序遍历，那么根节点之前的序列可分为两部分，左子树(小于根节点)和右子树(大于根节点)\n",
    "def VerifySquenceOfBST(s):\n",
    "    if not s:\n",
    "        return True\n",
    "\n",
    "    root_val = s[-1]\n",
    "\n",
    "    # 找到左子树的边界位置\n",
    "    for i in range(len(s)):\n",
    "        if s[i] > root_val:\n",
    "            break\n",
    "\n",
    "    # 判断右子树是否都大于根节点\n",
    "    for j in range(i, len(s)):\n",
    "        if s[j] < root_val:\n",
    "            return False\n",
    "\n",
    "    # 把左右标记默认设为True，对应空子树的情况，当左右子树的元素数量>0时才做递归判断\n",
    "    left_flag = True\n",
    "    right_flag = True\n",
    "    \n",
    "    if i > 0:\n",
    "        left_flag = VerifySquenceOfBST(s[:i])\n",
    "    if i < len(s)-1:\n",
    "        right_flag = VerifySquenceOfBST(s[i:-1])\n",
    "\n",
    "    return left_flag and right_flag"
   ]
  },
  {
   "cell_type": "markdown",
   "metadata": {},
   "source": [
    "二叉树中的求和路径。给定一个数字，求出二叉树中满足和等于该值的路径。"
   ]
  },
  {
   "cell_type": "code",
   "execution_count": 10,
   "metadata": {},
   "outputs": [],
   "source": [
    "# 思路，递归，逆推法。\n",
    "# 使用先序遍历访问所有可能的节点，同时更新差值\n",
    "# 当叶子节点值等于剩余差值时，记录该叶节点，并向上回溯\n",
    "\n",
    "\n",
    "def SumPath(root_node, num):\n",
    "    if not root_node:\n",
    "        return []\n",
    "\n",
    "    # 单节点，并等于差值时\n",
    "    if root_node and not root_node.left and not root_node.right and root_node.val == num:\n",
    "        return [[root_node.val]]    # 返回一个单节点路径\n",
    "\n",
    "    # 向左探索，并更新差值，直到叶子节点\n",
    "    left_path = SumPath(root_node.left, num -\n",
    "                        root_node.val) if root_node.left else []\n",
    "    # 向右探索，更新差值，直到叶子节点\n",
    "    right_path = SumPath(root_node.right, num -\n",
    "                         root_node.val) if root_node.right else []\n",
    "\n",
    "    res = []\n",
    "    for path in left_path+right_path:\n",
    "        res.append([root_node.val]+path)    # 把探索到的合法路径拼到当前节点后面，再加入返回列表\n",
    "    return res"
   ]
  },
  {
   "cell_type": "markdown",
   "metadata": {},
   "source": [
    "二叉搜索树转有序双向链表。"
   ]
  },
  {
   "cell_type": "code",
   "execution_count": 11,
   "metadata": {},
   "outputs": [],
   "source": [
    "# 思路：二叉搜索树可递归地分为两部分，左分支，右分支；转换后的链表也可递归地分为两部分\n",
    "# 使用中序遍历来保证有序\n",
    "\n",
    "\n",
    "def ST2DL(tree_root):\n",
    "    # 空节点判断\n",
    "    if not tree_root:\n",
    "        return None\n",
    "    # 叶节点判断\n",
    "    if not tree_root.left and not tree_root.right:\n",
    "        return tree_root\n",
    "\n",
    "    left_root = ST2DL(tree_root.left)   # 往左递归直到遇到左空或左叶\n",
    "    if left_root:    # 存在左叶\n",
    "        # 找到左边部分的最大值\n",
    "        cur_max = left_root\n",
    "        while cur_max and cur_max.right:\n",
    "            cur_max = cur_max.right\n",
    "\n",
    "        # 把root与左最大值转成双链表\n",
    "        cur_max.right = tree_root\n",
    "        tree_root.left = cur_max\n",
    "\n",
    "    # 右分支\n",
    "    right_root = ST2DL(tree_root.right)\n",
    "    if right_root:\n",
    "        cur_min = right_root\n",
    "        while cur_min and cur_min.left:\n",
    "            cur_min = cur_min.left\n",
    "\n",
    "        cur_min.left = tree_root\n",
    "        tree_root.right = cur_min\n",
    "\n",
    "    return left_root if left_root else tree_root    # 返回链表头结点"
   ]
  },
  {
   "cell_type": "markdown",
   "metadata": {},
   "source": [
    "二叉搜索树中第k大的节点。"
   ]
  },
  {
   "cell_type": "code",
   "execution_count": 13,
   "metadata": {},
   "outputs": [],
   "source": [
    "# 中序遍历，维护一个充当计数器的全局变量即可\n",
    "cnt = 0\n",
    "\n",
    "\n",
    "def KthNodeInST(root_node, k):\n",
    "    if root_node:    # 节点存在\n",
    "        res = KthNodeInST(root_node.left, k)    # 往左走\n",
    "        if res:    # 在左分支得到了答案则直接返回\n",
    "            return res\n",
    "\n",
    "        # 判断当前节点是否是需要搜索的点\n",
    "        cnt += 1\n",
    "        if cnt == k:    # 找到了直接返回\n",
    "            return root_node\n",
    "\n",
    "        res = KthNodeInST(root_node.right, k)    # 往右走\n",
    "        if res:\n",
    "            return res\n",
    "    else:\n",
    "        return None"
   ]
  },
  {
   "cell_type": "markdown",
   "metadata": {},
   "source": [
    "Balanced Binary Tree. 判别平衡二叉树。"
   ]
  },
  {
   "cell_type": "code",
   "execution_count": 15,
   "metadata": {},
   "outputs": [],
   "source": [
    "# 思路：后序遍历\n",
    "# 每个递归函数返回以输入节点为根的子树深度，当子树不是平衡树时返回特殊值-1\n",
    "\n",
    "def isBalanced(root):\n",
    "    return self.isBalanced_rec(root)!=-1\n",
    "\n",
    "def isBalanced_rec(root):\n",
    "    if not root:    # 叶子节点返回0\n",
    "        return 0\n",
    "\n",
    "    # 左子树不平衡返回-1\n",
    "    if isBalanced_rec(root.left)==-1:\n",
    "        return -1\n",
    "    # 右子树不平衡返回-1\n",
    "    if isBalanced_rec(root.right)==-1:\n",
    "        return -1\n",
    "\n",
    "    # 如果左右子树高度差小于2，则返回最大深度；否则返回-1\n",
    "    return max(left_dep,right_dep)+1 if abs(left_dep-right_dep)<2 else -1"
   ]
  },
  {
   "cell_type": "markdown",
   "metadata": {},
   "source": [
    "Find Mode in Binary Search Tree. 求二叉搜索树中的众数。"
   ]
  },
  {
   "cell_type": "code",
   "execution_count": 16,
   "metadata": {},
   "outputs": [
    {
     "ename": "SyntaxError",
     "evalue": "no binding for nonlocal 'max_cnt' found (cell_name, line 26)",
     "output_type": "error",
     "traceback": [
      "\u001b[1;36m  File \u001b[1;32m\"cell_name\"\u001b[1;36m, line \u001b[1;32m26\u001b[0m\n\u001b[1;31mSyntaxError\u001b[0m\u001b[1;31m:\u001b[0m no binding for nonlocal 'max_cnt' found\n"
     ]
    }
   ],
   "source": [
    "# 思路：二叉搜索树的中序遍历为排序数组，该题可转化成在排序数组中查找众数\n",
    "\n",
    "\n",
    "def findMode(root: TreeNode) -> List[int]:\n",
    "    if not root:\n",
    "        return []\n",
    "\n",
    "    # 全局状态变量\n",
    "    max_cnt = 0\n",
    "    cur_cnt = 0\n",
    "    res = list()\n",
    "    pre = None\n",
    "\n",
    "    MidTrav(root)\n",
    "\n",
    "    return res\n",
    "\n",
    "\n",
    "def MidTrav(root):\n",
    "    if not root:    # 空判定，防止传入空值\n",
    "        return None\n",
    "\n",
    "    nonlocal max_cnt\n",
    "    nonlocal cur_cnt\n",
    "    nonlocal res\n",
    "    nonlocal pre\n",
    "\n",
    "    # 往左走\n",
    "    MidTrav(root.left)\n",
    "\n",
    "    if root.val == pre:\n",
    "        cur_cnt += 1\n",
    "    else:\n",
    "        cur_cnt = 1\n",
    "        pre = root.val\n",
    "\n",
    "    if cur_cnt > max_cnt:\n",
    "        res = [root.val]    # 重新赋值\n",
    "        max_cnt = cur_cnt\n",
    "    elif cur_cnt == max_cnt:\n",
    "        res.append(root.val)"
   ]
  },
  {
   "cell_type": "markdown",
   "metadata": {},
   "source": [
    "Binary Tree Level Order Traversal. 二叉树的层次遍历，按层级输出。"
   ]
  },
  {
   "cell_type": "code",
   "execution_count": null,
   "metadata": {},
   "outputs": [],
   "source": [
    "# 思路：正常的层次遍历，使用队列实现\n",
    "# 要实现按层级输出，需要在内循环内在设置一个循环对每层做单独处理\n",
    "\n",
    "\n",
    "def levelOrder(root):\n",
    "    if not root:\n",
    "        return []\n",
    "\n",
    "    q = list()\n",
    "    q.append(root)\n",
    "    res=[]\n",
    "\n",
    "    while q:\n",
    "        level_size = len(q)    # 当前层的节点数\n",
    "        cur_level = [None]*level_size    # 设置临时数组以整体形式保存当前层的节点\n",
    "\n",
    "        # 同一层级的遍历\n",
    "        for idx in range(level_size):\n",
    "            cur_node = q.pop(0)\n",
    "            cur_level[idx]=cur_node.val\n",
    "            \n",
    "            # 子节点入队\n",
    "            if cur_node.left:\n",
    "                q.append(cur_node.left)\n",
    "            if cur_node.right:\n",
    "                q.append(cur_node.right)\n",
    "        \n",
    "        res.append(cur_level)\n",
    "        \n",
    "    return res"
   ]
  },
  {
   "cell_type": "markdown",
   "metadata": {},
   "source": [
    "Binary Tree Level Order Traversal II. 二叉树的逆层级遍历，按层级输出。"
   ]
  },
  {
   "cell_type": "code",
   "execution_count": null,
   "metadata": {},
   "outputs": [],
   "source": [
    "# 思路：正常的层序遍历，不过把结果压入栈，然后再反转\n",
    "# 一个队列实现正常的层次遍历，栈实现结果的反转\n",
    "\n",
    "\n",
    "def levelOrderBottom(self, root):\n",
    "    if not root:\n",
    "        return []\n",
    "\n",
    "    q = list()\n",
    "    s = list()\n",
    "    q.append(root)\n",
    "\n",
    "    while q:\n",
    "        # 对当前层节点计数\n",
    "        level_size = len(q)\n",
    "        cur_level = [None]*level_size\n",
    "\n",
    "        # 同一层次内的操作\n",
    "        for idx in range(level_size):\n",
    "            cur_node = q.pop(0)\n",
    "            cur_level[idx] = cur_node.val\n",
    "\n",
    "            if cur_node.left:\n",
    "                q.append(cur_node.left)\n",
    "            if cur_node.right:\n",
    "                q.append(cur_node.right)\n",
    "\n",
    "        s.append(cur_level)    # 该层所有节点入栈\n",
    "\n",
    "    res = []\n",
    "    while s:    # 弹栈\n",
    "        res.append(s.pop())\n",
    "\n",
    "    return res"
   ]
  },
  {
   "cell_type": "markdown",
   "metadata": {},
   "source": [
    "[Binary Tree Zigzag Level Order Traversal](https://leetcode.com/problems/binary-tree-zigzag-level-order-traversal/)。二叉树的层级遍历，按之字形输出。"
   ]
  },
  {
   "cell_type": "code",
   "execution_count": null,
   "metadata": {},
   "outputs": [],
   "source": [
    "# 思路：记录层数，按层数选择输出方式\n",
    "\n",
    "\n",
    "def zigzagLevelOrder(root):\n",
    "    if not root:\n",
    "        return list()\n",
    "\n",
    "    res = list()\n",
    "    q = [root]\n",
    "    even_level = True    # 偶数层标志\n",
    "\n",
    "    while q:\n",
    "        level_size = len(q)\n",
    "        cur_level = [None]*level_size\n",
    "        \n",
    "        for idx in range(level_size):\n",
    "            cur_node = q.pop(0)\n",
    "            cur_level[idx] = cur_node.val\n",
    "\n",
    "            if cur_node.left:\n",
    "                q.append(cur_node.left)\n",
    "            if cur_node.right:\n",
    "                q.append(cur_node.right)\n",
    "\n",
    "        if not even_level:\n",
    "            res.append(list(reversed(cur_level)))\n",
    "        else:\n",
    "            res.append(cur_level)\n",
    "        even_level = not even_level\n",
    "\n",
    "    return res"
   ]
  },
  {
   "cell_type": "markdown",
   "metadata": {},
   "source": [
    "Minimum Depth of Binary Tree. 二叉树的最小深度，令根节点深度为1。"
   ]
  },
  {
   "cell_type": "code",
   "execution_count": null,
   "metadata": {},
   "outputs": [],
   "source": [
    "# 思路：层次遍历，一旦遇到叶节点立马返回深度\n",
    "\n",
    "\n",
    "def minDepth(root):\n",
    "    if not root:\n",
    "        return 0\n",
    "\n",
    "    q = list()\n",
    "    q.append(root)\n",
    "    dep = 0\n",
    "\n",
    "    while q:\n",
    "        dep += 1\n",
    "        level_size = len(q)\n",
    "\n",
    "        for _ in range(level_size):    # 单层遍历\n",
    "            cur_node = q.pop(0)\n",
    "\n",
    "            # 碰到叶节点立即返回\n",
    "            if not cur_node.left and not cur_node.right:\n",
    "                return dep\n",
    "\n",
    "            if cur_node.left:\n",
    "                q.append(cur_node.left)\n",
    "            if cur_node.right:\n",
    "                q.append(cur_node.right)"
   ]
  },
  {
   "cell_type": "markdown",
   "metadata": {},
   "source": [
    "Maximum Depth of Binary Tree. 二叉树的最大深度，令根节点深度为1."
   ]
  },
  {
   "cell_type": "code",
   "execution_count": null,
   "metadata": {},
   "outputs": [],
   "source": [
    "# 思路，进行一次完整的层次扫描\n",
    "\n",
    "\n",
    "def maxDepth(root):\n",
    "    if not root:\n",
    "        return 0\n",
    "\n",
    "    q = list()\n",
    "    q.append(root)\n",
    "    dep = 0\n",
    "\n",
    "    while q:\n",
    "        dep += 1\n",
    "        level_size = len(q)\n",
    "\n",
    "        for _ in range(level_size):\n",
    "            cur_node = q.pop(0)\n",
    "\n",
    "            if cur_node.left:\n",
    "                q.append(cur_node.left)\n",
    "            if cur_node.right:\n",
    "                q.append(cur_node.right)\n",
    "\n",
    "    return dep"
   ]
  },
  {
   "cell_type": "markdown",
   "metadata": {},
   "source": [
    "[Merge Two Binary Trees](https://leetcode.com/problems/merge-two-binary-trees/). 合并两二叉树，同样位置的节点用和来覆盖。"
   ]
  },
  {
   "cell_type": "code",
   "execution_count": null,
   "metadata": {},
   "outputs": [],
   "source": [
    "# 思路：本质上还是树的遍历，不过遍历时要将两棵树对应节点作为一个节点组来看待\n",
    "# 以下代码将右树合并到左树中\n",
    "\n",
    "\n",
    "def mergeTrees(t1, t2):\n",
    "    if not t1:\n",
    "        return t2\n",
    "\n",
    "    s = []\n",
    "    s.append((t1, t2))    # 压根节点组\n",
    "\n",
    "    while s:\n",
    "        cur_node = s.pop()    # 访问节点组\n",
    "        if not cur_node[0] or not cur_node[1]:\n",
    "            continue\n",
    "\n",
    "        cur_node[0].val += cur_node[1].val    # 当前节点的合并\n",
    "\n",
    "        if not cur_node[0].left:    # 如果左树的左子节点为空，则用右树的节点覆盖\n",
    "            cur_node[0].left = cur_node[1].left\n",
    "        else:\n",
    "            s.append((cur_node[0].left, cur_node[1].left))\n",
    "\n",
    "        if not cur_node[0].right:\n",
    "            cur_node[0].right = cur_node[1].right\n",
    "        else:\n",
    "            s.append((cur_node[0].right, cur_node[1].right))\n",
    "\n",
    "    return t1"
   ]
  },
  {
   "cell_type": "markdown",
   "metadata": {},
   "source": [
    "[Univalued Binary Tree](https://leetcode.com/problems/univalued-binary-tree/). 判断一颗二叉树中所有节点值是否相同。"
   ]
  },
  {
   "cell_type": "code",
   "execution_count": null,
   "metadata": {},
   "outputs": [],
   "source": [
    "# 思路：记录根节点的值，然后遍历，下述代码使用先序遍历\n",
    "# 先序遍历：根左右，先访问根节点，然后右节点入栈，再左节点入栈\n",
    "\n",
    "\n",
    "def isUnivalTree(root):\n",
    "    if not root:\n",
    "        return True\n",
    "\n",
    "    val = root.val\n",
    "    s = list()\n",
    "    s.append(root)\n",
    "\n",
    "    while s:\n",
    "        cur_node = s.pop()\n",
    "\n",
    "        if cur_node.val != val:\n",
    "            return False\n",
    "\n",
    "        if cur_node.right:\n",
    "            s.append(cur_node.right)\n",
    "        if cur_node.left:\n",
    "            s.append(cur_node.left)\n",
    "\n",
    "    return True"
   ]
  },
  {
   "cell_type": "markdown",
   "metadata": {},
   "source": [
    "[N-ary Tree Postorder Traversal](https://leetcode.com/problems/n-ary-tree-postorder-traversal/). 多叉树的后序遍历。"
   ]
  },
  {
   "cell_type": "code",
   "execution_count": null,
   "metadata": {},
   "outputs": [],
   "source": [
    "# 思路：非递归实现后序遍历是比较难的，想办法先得到一个逆序的后序遍历\n",
    "# 后序遍历顺序为左右根，使用根右左的遍历顺序得到一个遍历序列，再反转即可\n",
    "\n",
    "def postorder(root: 'Node') -> List[int]:\n",
    "    if not root:\n",
    "        return []\n",
    "    \n",
    "    s=list()\n",
    "    s.append(root)\n",
    "    res=list()\n",
    "    \n",
    "    while s:\n",
    "        cur_node=s.pop()\n",
    "        res.append(cur_node.val)\n",
    "        \n",
    "        # 子节点以列表存在，从左往右依次入栈，可用语法糖\n",
    "        s.extend(cur_node.children)\n",
    "                \n",
    "    # 将遍历序列反转\n",
    "    return res[::-1]"
   ]
  },
  {
   "cell_type": "markdown",
   "metadata": {},
   "source": [
    "[N-ary Tree Preorder Traversal](https://leetcode.com/problems/n-ary-tree-preorder-traversal/). 多叉树的先序遍历。"
   ]
  },
  {
   "cell_type": "code",
   "execution_count": null,
   "metadata": {},
   "outputs": [],
   "source": [
    "# 思路：先序遍历的顺序为根左右，那么入栈顺序就为右左\n",
    "\n",
    "def preorder(root: 'Node') -> List[int]:\n",
    "    if not root:\n",
    "        return []\n",
    "    \n",
    "    s=list()\n",
    "    s.append(root)\n",
    "    res=[]\n",
    "    \n",
    "    while s:\n",
    "        cur_node=s.pop()\n",
    "        res.append(cur_node.val)\n",
    "        \n",
    "        # 从右往左入栈，可用语法糖\n",
    "        s.extend(reversed(cur_node.children))\n",
    "            \n",
    "    return res"
   ]
  },
  {
   "cell_type": "markdown",
   "metadata": {},
   "source": [
    "[Maximum Depth of N-ary Tree](https://leetcode.com/problems/maximum-depth-of-n-ary-tree/). 求多叉树的深度。"
   ]
  },
  {
   "cell_type": "code",
   "execution_count": null,
   "metadata": {},
   "outputs": [],
   "source": [
    "# 思路，层次遍历\n",
    "\n",
    "\n",
    "def maxDepth(root) -> int:\n",
    "    if not root:\n",
    "        return 0\n",
    "\n",
    "    q = list()\n",
    "    q.append(root)\n",
    "    dep = 0\n",
    "\n",
    "    while q:\n",
    "        level_size = len(q)\n",
    "        dep += 1\n",
    "\n",
    "        for _ in range(level_size):\n",
    "            cur_node = q.pop(0)\n",
    "\n",
    "            if cur_node.children:\n",
    "                q.extend(cur_node.children)\n",
    "\n",
    "    return dep"
   ]
  },
  {
   "cell_type": "markdown",
   "metadata": {},
   "source": [
    "[Kth Smallest Element in a BST](https://leetcode.com/problems/kth-smallest-element-in-a-bst/)。"
   ]
  },
  {
   "cell_type": "code",
   "execution_count": null,
   "metadata": {},
   "outputs": [],
   "source": [
    "# 思路，中序遍历的同时计数，计数值到达一定时返回\n",
    "\n",
    "\n",
    "def kthSmallest(root, k: int) -> int:\n",
    "    s = []\n",
    "    while root or s:\n",
    "        while root:\n",
    "            s.append(root)\n",
    "            root = root.left\n",
    "\n",
    "        root = s.pop()\n",
    "        k -= 1\n",
    "\n",
    "        if k == 0:\n",
    "            return root.val\n",
    "        root = root.right"
   ]
  },
  {
   "cell_type": "markdown",
   "metadata": {},
   "source": [
    "[Populating Next Right Pointers in Each Node](https://leetcode.com/problems/populating-next-right-pointers-in-each-node/)。一颗满二叉树，将同层次的节点使用next指针连接起来，最右边的节点置空。"
   ]
  },
  {
   "cell_type": "code",
   "execution_count": null,
   "metadata": {},
   "outputs": [],
   "source": [
    "class Node:\n",
    "    def __init__(self, val, left, right, next):\n",
    "        self.val = val\n",
    "        self.left = left\n",
    "        self.right = right\n",
    "        self.next = None\n",
    "\n",
    "# 思路：层次遍历，因为是满二叉树，所以左子节点必定存在next节点\n",
    "# 而右子节点是否存在next节点需要判断父节点是否存在next节点\n",
    "\n",
    "\n",
    "def connect(root: 'Node') -> 'Node':\n",
    "    if not root:\n",
    "        return root\n",
    "\n",
    "    q = [root]\n",
    "\n",
    "    while q:\n",
    "        level_size = len(q)\n",
    "\n",
    "        for idx in range(level_size):    # 同层遍历\n",
    "            cur_node = q.pop(0)\n",
    "\n",
    "            if cur_node.left:    # 存在左子节点必定存在右子节点\n",
    "                cur_node.left.next = cur_node.right    # 左子节点的next为右子节点\n",
    "                if cur_node.next:\n",
    "                    cur_node.right.next = cur_node.next.left    # 右子节点的next为父节点next的左子节点\n",
    "\n",
    "                q.append(cur_node.left)\n",
    "                q.append(cur_node.right)\n",
    "\n",
    "    return root"
   ]
  }
 ],
 "metadata": {
  "hide_input": false,
  "kernelspec": {
   "display_name": "Python 3",
   "language": "python",
   "name": "python3"
  },
  "language_info": {
   "codemirror_mode": {
    "name": "ipython",
    "version": 3
   },
   "file_extension": ".py",
   "mimetype": "text/x-python",
   "name": "python",
   "nbconvert_exporter": "python",
   "pygments_lexer": "ipython3",
   "version": "3.6.6"
  },
  "toc": {
   "base_numbering": 1,
   "nav_menu": {},
   "number_sections": true,
   "sideBar": true,
   "skip_h1_title": false,
   "title_cell": "Table of Contents",
   "title_sidebar": "Contents",
   "toc_cell": false,
   "toc_position": {},
   "toc_section_display": true,
   "toc_window_display": false
  }
 },
 "nbformat": 4,
 "nbformat_minor": 2
}
