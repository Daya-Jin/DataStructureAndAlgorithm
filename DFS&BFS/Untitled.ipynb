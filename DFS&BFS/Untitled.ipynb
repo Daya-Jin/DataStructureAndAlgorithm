{
 "cells": [
  {
   "cell_type": "markdown",
   "metadata": {},
   "source": [
    "[Word Ladder](https://leetcode.com/problems/word-ladder/)。给定一个源单词与目标单词还有一个词典，每次允许变换一个字母，求从源单词变为目标单词需要的步数。\n",
    "\n",
    "思路：BFS，每次改变源单词的一个字母，找到对应的字典中的词，并维护一个访问状态。"
   ]
  },
  {
   "cell_type": "code",
   "execution_count": 9,
   "metadata": {},
   "outputs": [
    {
     "data": {
      "text/plain": [
       "4"
      ]
     },
     "execution_count": 9,
     "metadata": {},
     "output_type": "execute_result"
    }
   ],
   "source": [
    "def ladderLength(beginWord: str, endWord: str, wordList) -> int:\n",
    "    word_set = set(wordList)\n",
    "    visited = set()\n",
    "    q = list()\n",
    "    q.append((beginWord, 0))    # 将word与step组成二元组\n",
    "\n",
    "    while q:\n",
    "        cur_word, step = q.pop(0)\n",
    "        \n",
    "        if cur_word == endWord:\n",
    "            return step\n",
    "        if cur_word in visited:\n",
    "            continue\n",
    "        visited.add(cur_word)\n",
    "\n",
    "        for ch_idx in range(len(cur_word)):\n",
    "            for i in range(26):\n",
    "                trans_word = cur_word[:ch_idx]+chr(97+i)+cur_word[ch_idx+1:]\n",
    "                if trans_word in word_set:\n",
    "                    q.append((trans_word, step+1))\n",
    "\n",
    "    return -1"
   ]
  },
  {
   "cell_type": "markdown",
   "metadata": {},
   "source": [
    "[Surrounded Regions](https://leetcode.com/problems/surrounded-regions/)。给一个由'X'和'O'构成的矩阵，将所有被'X'包围的'O'转换成'X'。\n",
    "\n",
    "思路：DFS转换，但是需要注意的是边界的'O'不会被转换，所以需要特殊处理。分为两步，首先将所有与边界相通的'O'转换成一个特殊字符，那么剩下未被转换的'O'肯定是被'X'包围的，将这些'O'全转换成'X'，再将特殊字符转换成'O'。"
   ]
  },
  {
   "cell_type": "code",
   "execution_count": 18,
   "metadata": {},
   "outputs": [
    {
     "name": "stdout",
     "output_type": "stream",
     "text": [
      "[['X', '#', 'X', '#', 'X', '#'], ['#', 'X', 'O', 'X', 'O', 'X'], ['X', 'O', 'X', 'O', 'X', '#'], ['#', 'X', '#', 'X', '#', 'X']]\n"
     ]
    },
    {
     "data": {
      "text/plain": [
       "[['X', 'O', 'X', 'O', 'X', 'O'],\n",
       " ['O', 'X', 'X', 'X', 'X', 'X'],\n",
       " ['X', 'X', 'X', 'X', 'X', 'O'],\n",
       " ['O', 'X', 'O', 'X', 'O', 'X']]"
      ]
     },
     "execution_count": 18,
     "metadata": {},
     "output_type": "execute_result"
    }
   ],
   "source": [
    "def solve(board) -> None:\n",
    "    if not board or not board[0]:\n",
    "        return\n",
    "    rows, cols = len(board), len(board[0])\n",
    "\n",
    "    def trans_rec(row, col):\n",
    "        if board[row][col] == 'O':\n",
    "            board[row][col] = '#'\n",
    "            if row > 0 and board[row-1][col] == 'O':\n",
    "                trans_rec(row-1, col)\n",
    "            if row < rows-1 and board[row+1][col] == 'O':\n",
    "                trans_rec(row+1, col)\n",
    "            if col > 0 and board[row][col-1] == 'O':\n",
    "                trans_rec(row, col-1)\n",
    "            if col < cols-1 and board[row][col+1] == 'O':\n",
    "                trans_rec(row, col+1)\n",
    "\n",
    "    # 将跟边缘连接的'O'保护起来\n",
    "    for row in range(rows):\n",
    "        for col in range(cols):\n",
    "            if (board[row][col] == 'O' and (row == 0 or col == 0 or row == rows-1 or col == cols-1)):\n",
    "                trans_rec(row, col)\n",
    "\n",
    "    for row in range(rows):\n",
    "        for col in range(cols):\n",
    "            if board[row][col] == 'O':\n",
    "                board[row][col] = 'X'\n",
    "            if board[row][col] == '#':\n",
    "                board[row][col] = 'O'"
   ]
  },
  {
   "cell_type": "markdown",
   "metadata": {},
   "source": [
    "[Restore IP Addresses](https://leetcode.com/problems/restore-ip-addresses/)。给定一只含数字的字符串，求其能生成的所有合法IP地址。\n",
    "\n",
    "思路：求出所有可可能结果，DFS，需要两个变量在递归中传递，一个是最重的返回结果```res```，另一个是存储临时结果的```tmp_res```，只有当```tmp_res```完全合格时才会加入到```res```中。该题中有一个隐含条件，IP字段范围是$[0,255]$且不能以$0$开头。"
   ]
  },
  {
   "cell_type": "code",
   "execution_count": 12,
   "metadata": {},
   "outputs": [
    {
     "data": {
      "text/plain": [
       "['255.255.11.135', '255.255.111.35']"
      ]
     },
     "execution_count": 12,
     "metadata": {},
     "output_type": "execute_result"
    }
   ],
   "source": [
    "def restoreIpAddresses(s: str):\n",
    "    res = list()\n",
    "    if len(s) > 12:\n",
    "        return res\n",
    "\n",
    "    tmp_res = list()\n",
    "\n",
    "    def dfs(s, tmp_res, res):\n",
    "        # 合法res的最大字段数为4，每个字段最多为3，s大于该长度就直接返回\n",
    "        thresh = (4-len(tmp_res))*3\n",
    "        if len(s) > thresh:\n",
    "            return\n",
    "\n",
    "        if not s and len(tmp_res) == 4:\n",
    "            res.append('.'.join(tmp_res))\n",
    "\n",
    "        # 遍历所有可能的分割，0|1|2|，数字为索引，竖线为切割位置\n",
    "        for i in range(1, 4):\n",
    "            if i <= len(s):    # 不要越界\n",
    "                # 当数字不以0开头且小于等于255，则可以加入tem_res继续遍历\n",
    "                cur_num = int(s[:i])\n",
    "                if str(cur_num) == s[:i] and cur_num <= 255:\n",
    "                    dfs(s[i:], tmp_res+[s[:i]], res)\n",
    "\n",
    "    dfs(s, tmp_res, res)\n",
    "    return res\n",
    "\n",
    "\n",
    "restoreIpAddresses(\"25525511135\")"
   ]
  },
  {
   "cell_type": "code",
   "execution_count": 4,
   "metadata": {},
   "outputs": [
    {
     "data": {
      "text/plain": [
       "'ab'"
      ]
     },
     "execution_count": 4,
     "metadata": {},
     "output_type": "execute_result"
    }
   ],
   "source": [
    "'abc'[:2]"
   ]
  },
  {
   "cell_type": "code",
   "execution_count": null,
   "metadata": {},
   "outputs": [],
   "source": []
  }
 ],
 "metadata": {
  "hide_input": false,
  "kernelspec": {
   "display_name": "Python 3",
   "language": "python",
   "name": "python3"
  },
  "language_info": {
   "codemirror_mode": {
    "name": "ipython",
    "version": 3
   },
   "file_extension": ".py",
   "mimetype": "text/x-python",
   "name": "python",
   "nbconvert_exporter": "python",
   "pygments_lexer": "ipython3",
   "version": "3.6.6"
  },
  "toc": {
   "base_numbering": 1,
   "nav_menu": {},
   "number_sections": true,
   "sideBar": true,
   "skip_h1_title": false,
   "title_cell": "Table of Contents",
   "title_sidebar": "Contents",
   "toc_cell": false,
   "toc_position": {},
   "toc_section_display": true,
   "toc_window_display": false
  }
 },
 "nbformat": 4,
 "nbformat_minor": 2
}
