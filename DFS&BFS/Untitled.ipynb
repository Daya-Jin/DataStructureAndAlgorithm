{
 "cells": [
  {
   "cell_type": "markdown",
   "metadata": {},
   "source": [
    "[Word Ladder](https://leetcode.com/problems/word-ladder/)。给定一个源单词与目标单词还有一个词典，每次允许变换一个字母，求从源单词变为目标单词需要的步数。\n",
    "\n",
    "思路：BFS，每次改变源单词的一个字母，找到对应的字典中的词，并维护一个访问状态。"
   ]
  },
  {
   "cell_type": "code",
   "execution_count": 9,
   "metadata": {},
   "outputs": [
    {
     "data": {
      "text/plain": [
       "4"
      ]
     },
     "execution_count": 9,
     "metadata": {},
     "output_type": "execute_result"
    }
   ],
   "source": [
    "def ladderLength(beginWord: str, endWord: str, wordList) -> int:\n",
    "    word_set = set(wordList)\n",
    "    visited = set()\n",
    "    q = list()\n",
    "    q.append((beginWord, 0))    # 将word与step组成二元组\n",
    "\n",
    "    while q:\n",
    "        cur_word, step = q.pop(0)\n",
    "        \n",
    "        if cur_word == endWord:\n",
    "            return step\n",
    "        if cur_word in visited:\n",
    "            continue\n",
    "        visited.add(cur_word)\n",
    "\n",
    "        for ch_idx in range(len(cur_word)):\n",
    "            for i in range(26):\n",
    "                trans_word = cur_word[:ch_idx]+chr(97+i)+cur_word[ch_idx+1:]\n",
    "                if trans_word in word_set:\n",
    "                    q.append((trans_word, step+1))\n",
    "\n",
    "    return -1"
   ]
  },
  {
   "cell_type": "markdown",
   "metadata": {},
   "source": [
    "[Surrounded Regions](https://leetcode.com/problems/surrounded-regions/)。给一个由'X'和'O'构成的矩阵，将所有被'X'包围的'O'转换成'X'。\n",
    "\n",
    "思路：DFS转换，但是需要注意的是边界的'O'不会被转换，所以需要特殊处理。分为两步，首先将所有与边界相通的'O'转换成一个特殊字符，那么剩下未被转换的'O'肯定是被'X'包围的，将这些'O'全转换成'X'，再将特殊字符转换成'O'。"
   ]
  },
  {
   "cell_type": "code",
   "execution_count": 18,
   "metadata": {},
   "outputs": [
    {
     "name": "stdout",
     "output_type": "stream",
     "text": [
      "[['X', '#', 'X', '#', 'X', '#'], ['#', 'X', 'O', 'X', 'O', 'X'], ['X', 'O', 'X', 'O', 'X', '#'], ['#', 'X', '#', 'X', '#', 'X']]\n"
     ]
    },
    {
     "data": {
      "text/plain": [
       "[['X', 'O', 'X', 'O', 'X', 'O'],\n",
       " ['O', 'X', 'X', 'X', 'X', 'X'],\n",
       " ['X', 'X', 'X', 'X', 'X', 'O'],\n",
       " ['O', 'X', 'O', 'X', 'O', 'X']]"
      ]
     },
     "execution_count": 18,
     "metadata": {},
     "output_type": "execute_result"
    }
   ],
   "source": [
    "def solve(board) -> None:\n",
    "    if not board or not board[0]:\n",
    "        return\n",
    "    rows, cols = len(board), len(board[0])\n",
    "\n",
    "    def trans_rec(row, col):\n",
    "        if board[row][col] == 'O':\n",
    "            board[row][col] = '#'\n",
    "            if row > 0 and board[row-1][col] == 'O':\n",
    "                trans_rec(row-1, col)\n",
    "            if row < rows-1 and board[row+1][col] == 'O':\n",
    "                trans_rec(row+1, col)\n",
    "            if col > 0 and board[row][col-1] == 'O':\n",
    "                trans_rec(row, col-1)\n",
    "            if col < cols-1 and board[row][col+1] == 'O':\n",
    "                trans_rec(row, col+1)\n",
    "\n",
    "    # 将跟边缘连接的'O'保护起来\n",
    "    for row in range(rows):\n",
    "        for col in range(cols):\n",
    "            if (board[row][col] == 'O' and (row == 0 or col == 0 or row == rows-1 or col == cols-1)):\n",
    "                trans_rec(row, col)\n",
    "\n",
    "    for row in range(rows):\n",
    "        for col in range(cols):\n",
    "            if board[row][col] == 'O':\n",
    "                board[row][col] = 'X'\n",
    "            if board[row][col] == '#':\n",
    "                board[row][col] = 'O'"
   ]
  },
  {
   "cell_type": "markdown",
   "metadata": {},
   "source": [
    "[Restore IP Addresses](https://leetcode.com/problems/restore-ip-addresses/)。给定一只含数字的字符串，求其能生成的所有合法IP地址。\n",
    "\n",
    "思路：求出所有可可能结果，DFS，需要两个变量在递归中传递，一个是最重的返回结果```res```，另一个是存储临时结果的```tmp_res```，只有当```tmp_res```完全合格时才会加入到```res```中。该题中有一个隐含条件，IP字段范围是$[0,255]$且不能以$0$开头。"
   ]
  },
  {
   "cell_type": "code",
   "execution_count": 12,
   "metadata": {},
   "outputs": [
    {
     "data": {
      "text/plain": [
       "['255.255.11.135', '255.255.111.35']"
      ]
     },
     "execution_count": 12,
     "metadata": {},
     "output_type": "execute_result"
    }
   ],
   "source": [
    "def restoreIpAddresses(s: str):\n",
    "    res = list()\n",
    "    if len(s) > 12:\n",
    "        return res\n",
    "\n",
    "    tmp_res = list()\n",
    "\n",
    "    def dfs(s, tmp_res, res):\n",
    "        # 合法res的最大字段数为4，每个字段最多为3，s大于该长度就直接返回\n",
    "        thresh = (4-len(tmp_res))*3\n",
    "        if len(s) > thresh:\n",
    "            return\n",
    "\n",
    "        if not s and len(tmp_res) == 4:\n",
    "            res.append('.'.join(tmp_res))\n",
    "\n",
    "        # 遍历所有可能的分割，0|1|2|，数字为索引，竖线为切割位置\n",
    "        for i in range(1, 4):\n",
    "            if i <= len(s):    # 不要越界\n",
    "                # 当数字不以0开头且小于等于255，则可以加入tem_res继续遍历\n",
    "                cur_num = int(s[:i])\n",
    "                if str(cur_num) == s[:i] and cur_num <= 255:\n",
    "                    dfs(s[i:], tmp_res+[s[:i]], res)\n",
    "\n",
    "    dfs(s, tmp_res, res)\n",
    "    return res"
   ]
  },
  {
   "cell_type": "markdown",
   "metadata": {},
   "source": [
    "[Open the Lock](https://leetcode.com/problems/open-the-lock/)。四位旋转密码锁，其中有几个位置是死区(deadend)，一旦转到该位置锁会锁死。给定一系列死区，初始状态为```0000```，问开锁需要转几次旋钮。\n",
    "\n",
    "思路：BST，用队列实现。"
   ]
  },
  {
   "cell_type": "code",
   "execution_count": 18,
   "metadata": {},
   "outputs": [],
   "source": [
    "def openLock(deadends, target: str) -> int:\n",
    "    lock = True\n",
    "    deadends = set(deadends)\n",
    "    visited = set()\n",
    "    q = [('0000', 0)]    # (stat, cnt)\n",
    "\n",
    "    while q:\n",
    "        stat, cnt = q.pop(0)\n",
    "\n",
    "        if stat == target:\n",
    "            return cnt\n",
    "        elif stat in visited or stat in deadends:\n",
    "            continue\n",
    "        else:\n",
    "            visited.add(stat)\n",
    "            for i in range(4):\n",
    "                plus1 = stat[:i]+str((int(stat[i])+1) % 10)+stat[i+1:]\n",
    "                q.append((plus1, cnt+1))\n",
    "                minus1 = stat[:i]+str((int(stat[i])-1) % 10)+stat[i+1:]\n",
    "                q.append((minus1, cnt+1))\n",
    "\n",
    "    return -1"
   ]
  },
  {
   "cell_type": "markdown",
   "metadata": {},
   "source": [
    "[Unique Binary Search Trees](https://leetcode.com/problems/unique-binary-search-trees/)。给定长度为$n$的正数序列，求其能构成多少种不同的BST。\n",
    "\n",
    "思路：遍历以每一个数字做为根节点，当以数字$i$作为根节点时，那么$[1,i-1]$构成左分支，$[i+1,n]$构成右分支，当前BST的数量为左右分支的可能组合数。设$k$个连续数字可构成$dp[k]$种BST，那么当有$n$个节点时，遍历所有数字分别充当根节点，假设以$i$为根节点，那么其左分支有$i-1$个节点，右分支有$n-i$个节点，那么当前的BST数量为$dp[i-1]*dp[n-i]$。"
   ]
  },
  {
   "cell_type": "code",
   "execution_count": null,
   "metadata": {},
   "outputs": [],
   "source": [
    "def numTrees(n: int) -> int:\n",
    "    if n < 2:\n",
    "        return n\n",
    "\n",
    "    dp = [0 for _ in range(n+1)]\n",
    "    dp[0] = 1    # 因为是乘法，不能设为0\n",
    "    dp[1] = 1\n",
    "\n",
    "    for k in range(2, n+1):    # k: 2->n\n",
    "        for i in range(1, k+1):    # 遍历所有可能的根节点\n",
    "            dp[k] += dp[i-1]*dp[k-i]\n",
    "\n",
    "    return dp[-1]"
   ]
  },
  {
   "cell_type": "markdown",
   "metadata": {},
   "source": [
    "[Unique Binary Search Trees II](https://leetcode.com/problems/unique-binary-search-trees-ii/)。给定长度为$n$的正数序列，求所有可能的BST结构。\n",
    "\n",
    "思路：求所有解，DFS。初始化一个有序的正数序列，依次以每一个数作为根节点，BST的性质决定了其左边的数字构成左分支，右边的数字构成右分支。基准情形：范围矛盾则返回空节点，范围大小只有$1$则返回单节点。否则遍历所有可能的根节点，递归求出左分支的答案与右分支的答案，然后进行左右一一组合。"
   ]
  },
  {
   "cell_type": "code",
   "execution_count": null,
   "metadata": {},
   "outputs": [],
   "source": [
    "def generateTrees(n: int):\n",
    "    def rec(start, end):\n",
    "        if start > end:\n",
    "            return [None]    # 这里必须返回[None]\n",
    "        if start == end:\n",
    "            return [TreeNode(start)]\n",
    "\n",
    "        res = list()\n",
    "        for val in range(start, end+1):\n",
    "            left_res = rec(start, val-1)\n",
    "            right_res = rec(val+1, end)\n",
    "\n",
    "            for left_branch in left_res:\n",
    "                for right_branch in right_res:\n",
    "                    root = TreeNode(val)\n",
    "                    root.left = left_branch\n",
    "                    root.right = right_branch\n",
    "\n",
    "                    res.append(root)\n",
    "\n",
    "        return res\n",
    "\n",
    "    return rec(1, n) if n >= 1 else list()"
   ]
  },
  {
   "cell_type": "markdown",
   "metadata": {},
   "source": [
    "[Subsets II](https://leetcode.com/problems/subsets-ii/)。给定一可能有重复元素的数组，求其所有子集。\n",
    "\n",
    "思路：可能存在重复元素，那么关键就在于避免重复组合。将数组排序后，每次可判断当前新加入的数字是否与上轮数字相同，相同则跳过即可。"
   ]
  },
  {
   "cell_type": "code",
   "execution_count": 1,
   "metadata": {},
   "outputs": [],
   "source": [
    "def subsetsWithDup(nums):\n",
    "    n = len(nums)\n",
    "    nums.sort()\n",
    "    res = list()\n",
    "\n",
    "    def rec(idx, path):\n",
    "        '''\n",
    "        idx: 相对起点\n",
    "        path: 已探索路径\n",
    "        '''\n",
    "        res.append(path)\n",
    "        if idx == n:\n",
    "            return\n",
    "        for i in range(idx, n):\n",
    "            if i > idx and nums[i] == nums[i-1]:\n",
    "                continue\n",
    "            else:\n",
    "                path.append(nums[i])\n",
    "                rec(i+1, path[:])\n",
    "                path.pop()\n",
    "\n",
    "    rec(0, list())\n",
    "    return res"
   ]
  },
  {
   "cell_type": "markdown",
   "metadata": {},
   "source": [
    "[Combination Sum III](https://leetcode.com/problems/combination-sum-iii/)。给定$[1,9]$的数字，取出$k$个数使其加和等于$n$，求所有可能的配置。\n",
    "\n",
    "思路：DFS。"
   ]
  },
  {
   "cell_type": "code",
   "execution_count": 5,
   "metadata": {},
   "outputs": [
    {
     "data": {
      "text/plain": [
       "[[1, 2, 4]]"
      ]
     },
     "execution_count": 5,
     "metadata": {},
     "output_type": "execute_result"
    }
   ],
   "source": [
    "def combinationSum3(k: int, n: int):\n",
    "    res = list()\n",
    "\n",
    "    def rec(start, target, path):\n",
    "        '''\n",
    "        start: 加到的位置\n",
    "        target: 目标值\n",
    "        path: 已保存路径\n",
    "        '''\n",
    "        if len(path) == k:\n",
    "            if target == 0:\n",
    "                res.append(path)\n",
    "            return\n",
    "\n",
    "        for num in range(start, 10):\n",
    "            if num <= target:\n",
    "                rec(num+1, target-num, path+[num])\n",
    "            else:\n",
    "                break\n",
    "\n",
    "    rec(1, n, list())\n",
    "    return res"
   ]
  },
  {
   "cell_type": "markdown",
   "metadata": {},
   "source": [
    "[Partition to K Equal Sum Subsets](https://leetcode.com/problems/partition-to-k-equal-sum-subsets/)。给一数组与一个正整数$k$，判断该数组能否被划分成和相等的$k$组数。\n",
    "\n",
    "思路：虽然该题并不需要求出一个配置，但是还是通过DFS来做。首先易得每一组的和为$sum/k$，若数组中存在比该值大或者除不尽的情况则直接返回False。将数组排序，并初始化$k$个空数组，由大往小开始填充。"
   ]
  },
  {
   "cell_type": "code",
   "execution_count": 3,
   "metadata": {},
   "outputs": [
    {
     "data": {
      "text/plain": [
       "True"
      ]
     },
     "execution_count": 3,
     "metadata": {},
     "output_type": "execute_result"
    }
   ],
   "source": [
    "def canPartitionKSubsets(nums, k: int) -> bool:\n",
    "    target, rem = divmod(sum(nums), k)\n",
    "    if rem:\n",
    "        return False    # 除不尽则返回False\n",
    "\n",
    "    nums.sort()\n",
    "    if nums[-1] > target:\n",
    "        return False\n",
    "    while nums and nums[-1] == target:    # 如果有单独的值可以成组，则k减少1\n",
    "        nums.pop()\n",
    "        k -= 1\n",
    "\n",
    "    init_groups = [0]*k    # 初始空组，每组和均为0\n",
    "\n",
    "    def dfs(groups):\n",
    "        if not nums:\n",
    "            return True\n",
    "\n",
    "        cur_num = nums.pop()    # 弹出当前最大值\n",
    "        for i in range(len(groups)):    # 尝试将cur_num加到所有组上去\n",
    "            if groups[i]+cur_num <= target:\n",
    "                groups[i] += cur_num\n",
    "                if dfs(groups):    # 如果所有子情况都满足，那么返回True\n",
    "                    return True\n",
    "                groups[i] -= cur_num\n",
    "\n",
    "        nums.append(cur_num)    # 走到这一步肯定是失败，将数组复原\n",
    "        return False\n",
    "\n",
    "    return dfs(init_groups)"
   ]
  },
  {
   "cell_type": "code",
   "execution_count": null,
   "metadata": {},
   "outputs": [],
   "source": []
  }
 ],
 "metadata": {
  "hide_input": false,
  "kernelspec": {
   "display_name": "Python 3",
   "language": "python",
   "name": "python3"
  },
  "language_info": {
   "codemirror_mode": {
    "name": "ipython",
    "version": 3
   },
   "file_extension": ".py",
   "mimetype": "text/x-python",
   "name": "python",
   "nbconvert_exporter": "python",
   "pygments_lexer": "ipython3",
   "version": "3.6.6"
  },
  "toc": {
   "base_numbering": 1,
   "nav_menu": {},
   "number_sections": true,
   "sideBar": true,
   "skip_h1_title": false,
   "title_cell": "Table of Contents",
   "title_sidebar": "Contents",
   "toc_cell": false,
   "toc_position": {},
   "toc_section_display": true,
   "toc_window_display": false
  }
 },
 "nbformat": 4,
 "nbformat_minor": 2
}
