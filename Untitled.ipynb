{
 "cells": [
  {
   "cell_type": "markdown",
   "metadata": {},
   "source": [
    "京东笔试题：\n",
    "\n",
    "体育场突然着火了，现场需要紧急疏散，但是过道真的是太窄了，同时只能容许一个人通过。现在知道了体育场的所有座位分布，座位分布图是一棵树，已知每个座位上都坐了一个人，安全出口在树的根部，也就是1号结点的位置上。其他节点上的人每秒都能向树根部前进一个结点，但是除了安全出口以外，没有任何一个结点可以同时容纳两个及以上的人，这就需要一种策略，来使得人群尽快疏散，问在采取最优策略的情况下，体育场最快可以在多长时间内疏散完成。\n",
    "\n",
    "示例数据：\n",
    "\n",
    "6\n",
    "\n",
    "2 1\n",
    "\n",
    "3 2\n",
    "\n",
    "4 3\n",
    "\n",
    "5 2\n",
    "\n",
    "6 1"
   ]
  },
  {
   "cell_type": "code",
   "execution_count": null,
   "metadata": {},
   "outputs": [],
   "source": [
    "# 思路：在第二层以下的所有节点，每次均只能移动一个节点，所以散场的时间由第二层以下的节点数决定\n",
    "# 找到所有分支中节点数最大的那一支，返回其节点数即可\n",
    "\n",
    "n = int(input())\n",
    "branches = list()\n",
    "\n",
    "for _ in range(n-1):\n",
    "    a, b = map(int, input().split())\n",
    "    if b == 1:    # 新分支\n",
    "        branches.append(set([a]))\n",
    "    for branch in branches:\n",
    "        if b in branch:\n",
    "            branch.add(a)\n",
    "\n",
    "print(branches)\n",
    "print(max(map(len, branches)))"
   ]
  },
  {
   "cell_type": "code",
   "execution_count": null,
   "metadata": {},
   "outputs": [],
   "source": []
  }
 ],
 "metadata": {
  "hide_input": false,
  "kernelspec": {
   "display_name": "Python 3",
   "language": "python",
   "name": "python3"
  },
  "language_info": {
   "codemirror_mode": {
    "name": "ipython",
    "version": 3
   },
   "file_extension": ".py",
   "mimetype": "text/x-python",
   "name": "python",
   "nbconvert_exporter": "python",
   "pygments_lexer": "ipython3",
   "version": "3.6.6"
  },
  "toc": {
   "base_numbering": 1,
   "nav_menu": {},
   "number_sections": true,
   "sideBar": true,
   "skip_h1_title": false,
   "title_cell": "Table of Contents",
   "title_sidebar": "Contents",
   "toc_cell": false,
   "toc_position": {},
   "toc_section_display": true,
   "toc_window_display": false
  }
 },
 "nbformat": 4,
 "nbformat_minor": 2
}
