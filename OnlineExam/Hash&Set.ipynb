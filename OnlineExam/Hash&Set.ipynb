{
 "cells": [
  {
   "cell_type": "markdown",
   "metadata": {},
   "source": [
    "[Hand of Straights](https://leetcode.com/problems/hand-of-straights/)。给一数组代表手牌，判断手牌能否分成若干组牌数为$W$的顺子。\n",
    "\n",
    "思路：暴力，首先扫描并统计每个牌面的张数，然后从最小值开始，逐渐往大取牌。"
   ]
  },
  {
   "cell_type": "code",
   "execution_count": 4,
   "metadata": {},
   "outputs": [
    {
     "data": {
      "text/plain": [
       "True"
      ]
     },
     "execution_count": 4,
     "metadata": {},
     "output_type": "execute_result"
    }
   ],
   "source": [
    "def isNStraightHand(hand, W: int) -> bool:\n",
    "    from collections import OrderedDict\n",
    "    cnt_lookup = OrderedDict()\n",
    "\n",
    "    hand.sort()\n",
    "    for num in hand:\n",
    "        cnt_lookup.setdefault(num, 0)\n",
    "        cnt_lookup[num] += 1\n",
    "\n",
    "    while cnt_lookup:\n",
    "        start = list(cnt_lookup.keys())[0]\n",
    "\n",
    "        for diff in range(W):\n",
    "            card = start+diff\n",
    "            if card not in cnt_lookup:\n",
    "                return False\n",
    "\n",
    "            cnt_lookup[card] -= 1\n",
    "            if cnt_lookup[card] == 0:\n",
    "                del cnt_lookup[card]\n",
    "\n",
    "    return True"
   ]
  },
  {
   "cell_type": "code",
   "execution_count": null,
   "metadata": {},
   "outputs": [],
   "source": []
  }
 ],
 "metadata": {
  "hide_input": false,
  "kernelspec": {
   "display_name": "Python 3",
   "language": "python",
   "name": "python3"
  },
  "language_info": {
   "codemirror_mode": {
    "name": "ipython",
    "version": 3
   },
   "file_extension": ".py",
   "mimetype": "text/x-python",
   "name": "python",
   "nbconvert_exporter": "python",
   "pygments_lexer": "ipython3",
   "version": "3.6.6"
  },
  "toc": {
   "base_numbering": 1,
   "nav_menu": {},
   "number_sections": true,
   "sideBar": true,
   "skip_h1_title": false,
   "title_cell": "Table of Contents",
   "title_sidebar": "Contents",
   "toc_cell": false,
   "toc_position": {},
   "toc_section_display": true,
   "toc_window_display": false
  }
 },
 "nbformat": 4,
 "nbformat_minor": 2
}
