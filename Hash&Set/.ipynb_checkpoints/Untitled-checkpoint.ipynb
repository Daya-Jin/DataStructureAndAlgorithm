{
 "cells": [
  {
   "cell_type": "markdown",
   "metadata": {},
   "source": [
    "[Longest Consecutive Sequence](https://leetcode.com/problems/longest-consecutive-sequence/)。给定一个无序整数数组，求出其中最多有多少个元素是连续的。\n",
    "\n",
    "思路：最简单的，排序后统计连续区间。更优解，使用set数据结构将所有元素存储起来，因为set结构的复杂度为$O(1)$，在set中遍历查找所有的元素，当$cur\\_num-1$不在set中时，说明$cur\\_num$是一个区间的起点，那么再往右一直找连续值并计数。"
   ]
  },
  {
   "cell_type": "code",
   "execution_count": null,
   "metadata": {},
   "outputs": [],
   "source": [
    "def longestConsecutive(nums) -> int:\n",
    "    res = 0\n",
    "    if not nums:\n",
    "        return res\n",
    "\n",
    "    cache = set(nums)\n",
    "    for num in cache:\n",
    "        cur_len = 0\n",
    "\n",
    "        if num-1 not in cache:    # 找到区间起点\n",
    "            cur_num = num\n",
    "            cur_len = 1\n",
    "\n",
    "            while cur_num+1 in cache:    # 持续往右找连续值\n",
    "                cur_num = cur_num+1\n",
    "                cur_len += 1\n",
    "\n",
    "        res = max(res, cur_len)\n",
    "\n",
    "    return res"
   ]
  }
 ],
 "metadata": {
  "hide_input": false,
  "kernelspec": {
   "display_name": "Python 3",
   "language": "python",
   "name": "python3"
  },
  "language_info": {
   "codemirror_mode": {
    "name": "ipython",
    "version": 3
   },
   "file_extension": ".py",
   "mimetype": "text/x-python",
   "name": "python",
   "nbconvert_exporter": "python",
   "pygments_lexer": "ipython3",
   "version": "3.6.6"
  },
  "toc": {
   "base_numbering": 1,
   "nav_menu": {},
   "number_sections": true,
   "sideBar": true,
   "skip_h1_title": false,
   "title_cell": "Table of Contents",
   "title_sidebar": "Contents",
   "toc_cell": false,
   "toc_position": {},
   "toc_section_display": true,
   "toc_window_display": false
  }
 },
 "nbformat": 4,
 "nbformat_minor": 2
}
