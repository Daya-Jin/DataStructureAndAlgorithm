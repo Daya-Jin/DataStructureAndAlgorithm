{
 "cells": [
  {
   "cell_type": "markdown",
   "metadata": {},
   "source": [
    "[Longest Consecutive Sequence](https://leetcode.com/problems/longest-consecutive-sequence/)。给定一个无序整数数组，求出其中最多有多少个元素是连续的。\n",
    "\n",
    "思路：最简单的，排序后统计连续区间。更优解，使用set数据结构将所有元素存储起来，因为set结构的复杂度为$O(1)$，在set中遍历查找所有的元素，当$cur\\_num-1$不在set中时，说明$cur\\_num$是一个区间的起点，那么再往右一直找连续值并计数。"
   ]
  },
  {
   "cell_type": "code",
   "execution_count": null,
   "metadata": {},
   "outputs": [],
   "source": [
    "def longestConsecutive(nums) -> int:\n",
    "    res = 0\n",
    "    if not nums:\n",
    "        return res\n",
    "\n",
    "    cache = set(nums)\n",
    "    for num in cache:\n",
    "        cur_len = 0\n",
    "\n",
    "        if num-1 not in cache:    # 找到区间起点\n",
    "            cur_num = num\n",
    "            cur_len = 1\n",
    "\n",
    "            while cur_num+1 in cache:    # 持续往右找连续值\n",
    "                cur_num = cur_num+1\n",
    "                cur_len += 1\n",
    "\n",
    "        res = max(res, cur_len)\n",
    "\n",
    "    return res"
   ]
  },
  {
   "cell_type": "markdown",
   "metadata": {},
   "source": [
    "[Ransom Note](https://leetcode.com/problems/ransom-note/)。给定两个字串，判断前者中的字符是否都包含在后者中。\n",
    "\n",
    "思路：字典计数。"
   ]
  },
  {
   "cell_type": "code",
   "execution_count": 2,
   "metadata": {},
   "outputs": [
    {
     "data": {
      "text/plain": [
       "True"
      ]
     },
     "execution_count": 2,
     "metadata": {},
     "output_type": "execute_result"
    }
   ],
   "source": [
    "def canConstruct(ransomNote: str, magazine: str) -> bool:\n",
    "    table = dict()\n",
    "    for ch in magazine:\n",
    "        table.setdefault(ch, 0)\n",
    "        table[ch] += 1\n",
    "\n",
    "    for ch in ransomNote:\n",
    "        if ch not in table or table[ch] == 0:\n",
    "            return False\n",
    "        else:\n",
    "            table[ch] -= 1\n",
    "\n",
    "    return True"
   ]
  },
  {
   "cell_type": "markdown",
   "metadata": {},
   "source": [
    "[First Unique Character in a String](https://leetcode.com/problems/first-unique-character-in-a-string/)。字串中首次出现的非重复字符。\n",
    "\n",
    "思路：2pass，第一次pass哈希表记录每个字符出现的次数，第二次pass扫描s。"
   ]
  },
  {
   "cell_type": "code",
   "execution_count": 3,
   "metadata": {},
   "outputs": [
    {
     "data": {
      "text/plain": [
       "0"
      ]
     },
     "execution_count": 3,
     "metadata": {},
     "output_type": "execute_result"
    }
   ],
   "source": [
    "def firstUniqChar(s: str) -> int:\n",
    "    table = dict()\n",
    "    for ch in s:\n",
    "        table.setdefault(ch, 0)\n",
    "        table[ch] += 1\n",
    "\n",
    "    for i, ch in enumerate(s):\n",
    "        if table[ch] == 1:\n",
    "            return i\n",
    "\n",
    "    return -1"
   ]
  },
  {
   "cell_type": "markdown",
   "metadata": {},
   "source": [
    "[Repeated DNA Sequences](https://leetcode.com/problems/repeated-dna-sequences/)。在一段DNA序列中找出长度为10且重复出现过的子序列。\n",
    "\n",
    "思路：基因取值只有四种AGCT，使用哈希表+滑动窗口的方法来解。"
   ]
  },
  {
   "cell_type": "code",
   "execution_count": null,
   "metadata": {},
   "outputs": [],
   "source": [
    "def findRepeatedDnaSequences(s: str):\n",
    "    window_sets = set()\n",
    "    res = set()\n",
    "\n",
    "    for start in range(0, len(s)-10+1):\n",
    "        seq = s[start:start+10]\n",
    "        if seq in window_sets:\n",
    "            res.add(seq)\n",
    "        else:\n",
    "            window_sets.add(seq)\n",
    "\n",
    "    return list(res)"
   ]
  },
  {
   "cell_type": "markdown",
   "metadata": {},
   "source": [
    "[Reorganize String](https://leetcode.com/problems/reorganize-string/)。给定一字串，重排字串，使得所有相邻字符都不相同。\n",
    "\n",
    "思路：首先判断该字串能否满足性质，易得若某个字符出现次数超过半数时，无论怎么排都无法满足性质，直接返回空串。首先使用哈希表构建(字符-次数)映射，保证每次首先填充的是次数最多且跟前面不相同的字符。"
   ]
  },
  {
   "cell_type": "code",
   "execution_count": 4,
   "metadata": {},
   "outputs": [
    {
     "data": {
      "text/plain": [
       "'bab'"
      ]
     },
     "execution_count": 4,
     "metadata": {},
     "output_type": "execute_result"
    }
   ],
   "source": [
    "def reorganizeString(S: str) -> str:\n",
    "    # 26个字母，可使用数组来优化字典\n",
    "    table = [0]*26\n",
    "    for ch in S:\n",
    "        table[ord(ch)-97] += 1\n",
    "\n",
    "    res = ''\n",
    "    pre = -1\n",
    "\n",
    "    while True:\n",
    "        max_idx, max_cnt = -1, 0    # 最大次数字符的idx与cnt\n",
    "        for idx, cnt in enumerate(table):\n",
    "            if cnt > max_cnt and idx != pre:     # 必须跟之前不一样\n",
    "                max_idx, max_cnt = idx, cnt\n",
    "\n",
    "        if max_idx == -1:    # 如果找不到则返回空串\n",
    "            return ''\n",
    "\n",
    "        res += chr(97+max_idx)\n",
    "        table[max_idx] -= 1\n",
    "        pre = max_idx\n",
    "\n",
    "        if len(res) == len(S):\n",
    "            return res"
   ]
  },
  {
   "cell_type": "markdown",
   "metadata": {},
   "source": [
    "[Contains Duplicate II](https://leetcode.com/problems/contains-duplicate-ii/)。给一数组与一间距$k$，判断数组中是否存在间隔至多为$k$的两相同元素。\n",
    "\n",
    "思路：使用哈希表，建立元素与最后出现次数的映射，每次新扫描元素时判断是否存在，存在还要判断距离是否小于$k$。"
   ]
  },
  {
   "cell_type": "code",
   "execution_count": 3,
   "metadata": {},
   "outputs": [
    {
     "data": {
      "text/plain": [
       "97"
      ]
     },
     "execution_count": 3,
     "metadata": {},
     "output_type": "execute_result"
    }
   ],
   "source": [
    "def containsNearbyDuplicate(nums, k: int) -> bool:\n",
    "    table = dict()\n",
    "    for idx, num in enumerate(nums):\n",
    "        if num in table:\n",
    "            diff = idx-table[num]\n",
    "            if diff <= k:\n",
    "                return True\n",
    "            else:\n",
    "                table[num] = idx\n",
    "        else:\n",
    "            table[num] = idx\n",
    "\n",
    "    return False"
   ]
  },
  {
   "cell_type": "markdown",
   "metadata": {},
   "source": [
    "给一系列单词，判断这些单词能否按照接龙的方式拼接到一起。(中兴提前批测试，未提交)\n",
    "\n",
    "思路：能否接龙只需要看首尾字母，若一系列单词可以拼接到一起，则中间单词的首位字母都会被抵消，只剩长字串的首尾字母。使用两个哈希表或数组对$26$个字母计数，分别存储首字母的次数与尾字母的次数，遍历进行抵消。若最后两表都只剩下一个字母或均为空，说明可以拼接。"
   ]
  },
  {
   "cell_type": "code",
   "execution_count": null,
   "metadata": {},
   "outputs": [],
   "source": [
    "def func(string_list):\n",
    "    head_table = {chr(ascii_code): 0 for ascii_code in range(97, 123)}\n",
    "    tail_table = {chr(ascii_code): 0 for ascii_code in range(97, 123)}\n",
    "\n",
    "    for word in string_list:\n",
    "        head_table[word[0]] += 1\n",
    "        tail_table[word[-1]] += 1\n",
    "\n",
    "    for ch in head_table:\n",
    "        while head_table[ch] and tail_table[ch]:\n",
    "            head_table[ch] -= 1\n",
    "            tail_table[ch] -= 1\n",
    "\n",
    "    sum_head = sum_tail = 0\n",
    "    for ch in head_table:\n",
    "        sum_head += head_table[ch]\n",
    "    for ch in tail_table:\n",
    "        sum_tail += tail_table[ch]\n",
    "\n",
    "    return True if (sum_head == sum_tail == 1) or (sum_head == sum_tail == 0) else False\n",
    "\n",
    "\n",
    "print(func(['a', 'a', 'a']))    # True\n",
    "print(func(['abc', 'cde', 'efg']))    # True\n",
    "print(func(['we', 'fgeaw', 'f']))    # True\n",
    "print(func(['abc', 'c', 'cde', 'fg']))    # False"
   ]
  },
  {
   "cell_type": "code",
   "execution_count": null,
   "metadata": {},
   "outputs": [],
   "source": []
  }
 ],
 "metadata": {
  "hide_input": false,
  "kernelspec": {
   "display_name": "Python 3",
   "language": "python",
   "name": "python3"
  },
  "language_info": {
   "codemirror_mode": {
    "name": "ipython",
    "version": 3
   },
   "file_extension": ".py",
   "mimetype": "text/x-python",
   "name": "python",
   "nbconvert_exporter": "python",
   "pygments_lexer": "ipython3",
   "version": "3.6.6"
  },
  "toc": {
   "base_numbering": 1,
   "nav_menu": {},
   "number_sections": true,
   "sideBar": true,
   "skip_h1_title": false,
   "title_cell": "Table of Contents",
   "title_sidebar": "Contents",
   "toc_cell": false,
   "toc_position": {},
   "toc_section_display": true,
   "toc_window_display": false
  }
 },
 "nbformat": 4,
 "nbformat_minor": 2
}
