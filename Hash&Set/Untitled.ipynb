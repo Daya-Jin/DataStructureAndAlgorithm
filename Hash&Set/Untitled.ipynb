{
 "cells": [
  {
   "cell_type": "markdown",
   "metadata": {},
   "source": [
    "[Longest Consecutive Sequence](https://leetcode.com/problems/longest-consecutive-sequence/)。给定一个无序整数数组，求出其中最多有多少个元素是连续的。\n",
    "\n",
    "思路：最简单的，排序后统计连续区间。更优解，使用set数据结构将所有元素存储起来，因为set结构的复杂度为$O(1)$，在set中遍历查找所有的元素，当$cur\\_num-1$不在set中时，说明$cur\\_num$是一个区间的起点，那么再往右一直找连续值并计数。"
   ]
  },
  {
   "cell_type": "code",
   "execution_count": null,
   "metadata": {},
   "outputs": [],
   "source": [
    "def longestConsecutive(nums) -> int:\n",
    "    res = 0\n",
    "    if not nums:\n",
    "        return res\n",
    "\n",
    "    cache = set(nums)\n",
    "    for num in cache:\n",
    "        cur_len = 0\n",
    "\n",
    "        if num-1 not in cache:    # 找到区间起点\n",
    "            cur_num = num\n",
    "            cur_len = 1\n",
    "\n",
    "            while cur_num+1 in cache:    # 持续往右找连续值\n",
    "                cur_num = cur_num+1\n",
    "                cur_len += 1\n",
    "\n",
    "        res = max(res, cur_len)\n",
    "\n",
    "    return res"
   ]
  },
  {
   "cell_type": "markdown",
   "metadata": {},
   "source": [
    "[Ransom Note](https://leetcode.com/problems/ransom-note/)。给定两个字串，判断前者中的字符是否都包含在后者中。\n",
    "\n",
    "思路：字典计数。"
   ]
  },
  {
   "cell_type": "code",
   "execution_count": 2,
   "metadata": {},
   "outputs": [
    {
     "data": {
      "text/plain": [
       "True"
      ]
     },
     "execution_count": 2,
     "metadata": {},
     "output_type": "execute_result"
    }
   ],
   "source": [
    "def canConstruct(ransomNote: str, magazine: str) -> bool:\n",
    "    table = dict()\n",
    "    for ch in magazine:\n",
    "        table.setdefault(ch, 0)\n",
    "        table[ch] += 1\n",
    "\n",
    "    for ch in ransomNote:\n",
    "        if ch not in table or table[ch] == 0:\n",
    "            return False\n",
    "        else:\n",
    "            table[ch] -= 1\n",
    "\n",
    "    return True"
   ]
  },
  {
   "cell_type": "markdown",
   "metadata": {},
   "source": [
    "[First Unique Character in a String](https://leetcode.com/problems/first-unique-character-in-a-string/)。字串中首次出现的非重复字符。\n",
    "\n",
    "思路：2pass，第一次pass哈希表记录每个字符出现的次数，第二次pass扫描s。"
   ]
  },
  {
   "cell_type": "code",
   "execution_count": 3,
   "metadata": {},
   "outputs": [
    {
     "data": {
      "text/plain": [
       "0"
      ]
     },
     "execution_count": 3,
     "metadata": {},
     "output_type": "execute_result"
    }
   ],
   "source": [
    "def firstUniqChar(s: str) -> int:\n",
    "    table = dict()\n",
    "    for ch in s:\n",
    "        table.setdefault(ch, 0)\n",
    "        table[ch] += 1\n",
    "\n",
    "    for i, ch in enumerate(s):\n",
    "        if table[ch] == 1:\n",
    "            return i\n",
    "\n",
    "    return -1"
   ]
  },
  {
   "cell_type": "markdown",
   "metadata": {},
   "source": [
    "[Repeated DNA Sequences](https://leetcode.com/problems/repeated-dna-sequences/)。在一段DNA序列中找出长度为10且重复出现过的子序列。\n",
    "\n",
    "思路：基因取值只有四种AGCT，使用哈希表+滑动窗口的方法来解。"
   ]
  },
  {
   "cell_type": "code",
   "execution_count": null,
   "metadata": {},
   "outputs": [],
   "source": [
    "def findRepeatedDnaSequences(s: str):\n",
    "    window_sets = set()\n",
    "    res = set()\n",
    "\n",
    "    for start in range(0, len(s)-10+1):\n",
    "        seq = s[start:start+10]\n",
    "        if seq in window_sets:\n",
    "            res.add(seq)\n",
    "        else:\n",
    "            window_sets.add(seq)\n",
    "\n",
    "    return list(res)"
   ]
  },
  {
   "cell_type": "code",
   "execution_count": null,
   "metadata": {},
   "outputs": [],
   "source": []
  }
 ],
 "metadata": {
  "hide_input": false,
  "kernelspec": {
   "display_name": "Python 3",
   "language": "python",
   "name": "python3"
  },
  "language_info": {
   "codemirror_mode": {
    "name": "ipython",
    "version": 3
   },
   "file_extension": ".py",
   "mimetype": "text/x-python",
   "name": "python",
   "nbconvert_exporter": "python",
   "pygments_lexer": "ipython3",
   "version": "3.6.6"
  },
  "toc": {
   "base_numbering": 1,
   "nav_menu": {},
   "number_sections": true,
   "sideBar": true,
   "skip_h1_title": false,
   "title_cell": "Table of Contents",
   "title_sidebar": "Contents",
   "toc_cell": false,
   "toc_position": {},
   "toc_section_display": true,
   "toc_window_display": false
  }
 },
 "nbformat": 4,
 "nbformat_minor": 2
}
