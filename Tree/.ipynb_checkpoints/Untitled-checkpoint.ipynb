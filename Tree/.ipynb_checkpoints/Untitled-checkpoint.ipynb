{
 "cells": [
  {
   "cell_type": "code",
   "execution_count": 4,
   "metadata": {},
   "outputs": [],
   "source": [
    "class TreeNode:\n",
    "    def __init__(self, x):\n",
    "        self.val = x\n",
    "        self.left = None\n",
    "        self.right = None"
   ]
  },
  {
   "cell_type": "markdown",
   "metadata": {},
   "source": [
    "[Validate Binary Search Tree](https://leetcode.com/problems/validate-binary-search-tree/)。判断二叉搜索树的合法性。\n",
    "\n",
    "思路：合法二叉搜索树的中序遍历会得到一个升序序列。"
   ]
  },
  {
   "cell_type": "code",
   "execution_count": null,
   "metadata": {},
   "outputs": [],
   "source": [
    "def isValidBST(root: TreeNode) -> bool:\n",
    "    if not root:\n",
    "        return True\n",
    "\n",
    "    s = list()    # 栈\n",
    "    pre = -0xFFFFFFFF    # 32位负数的下限\n",
    "\n",
    "    while root or s:\n",
    "        # 一直往左走\n",
    "        while root:\n",
    "            s.append(root)\n",
    "            root = root.left\n",
    "\n",
    "        # 访问节点\n",
    "        root = s.pop()\n",
    "        if root.val <= pre:\n",
    "            return False\n",
    "        pre = root.val\n",
    "\n",
    "        # 向右走\n",
    "        root = root.right\n",
    "\n",
    "    return True"
   ]
  },
  {
   "cell_type": "markdown",
   "metadata": {},
   "source": [
    "[Lowest Common Ancestor of a Binary Tree](https://leetcode.com/problems/lowest-common-ancestor-of-a-binary-tree/)。二叉树的最低公共祖先。\n",
    "\n",
    "思路：在二叉树中，若两个节点不存在直属父子关系，则改两节点则一定分属于最低公共祖先的左右分支(可以画图验证)。而当两节点存在直属父子关系时，则两点的最低公共祖先是两者之一。所以知道这个性质后，使用递归的方法在根、左、右三个方向中分别去找两个给定的节点，如果两个节点分属于三者中的两个，则当前节点就是最低公共祖先；若两节点同属于左分支或同属于右分支，则要继续往下走。"
   ]
  },
  {
   "cell_type": "code",
   "execution_count": null,
   "metadata": {},
   "outputs": [],
   "source": [
    "def lowestCommonAncestor(root: 'TreeNode', p: 'TreeNode', q: 'TreeNode') -> 'TreeNode':\n",
    "    if not root:\n",
    "        return root\n",
    "\n",
    "    # 若在当前节点则返回当前节点\n",
    "    if root == p or root == q:\n",
    "        return root\n",
    "\n",
    "    # 在左右分支处查找\n",
    "    left = lowestCommonAncestor(root.left, p, q)\n",
    "    right = lowestCommonAncestor(root.right, p, q)\n",
    "\n",
    "    if left and in_right:    # 两节点分属不同分支\n",
    "        return root\n",
    "    if not left:    # 如果两节点都不在左分支，往右分支查找\n",
    "        return right\n",
    "    if not right:\n",
    "        return left"
   ]
  },
  {
   "cell_type": "markdown",
   "metadata": {},
   "source": [
    "[Serialize and Deserialize Binary Tree](https://leetcode.com/problems/serialize-and-deserialize-binary-tree/)。二叉树的序列化与反序列化。\n",
    "\n",
    "思路：从编写代码的简洁性考虑，使用递归的前序遍历来实现，令二叉树的存储形式为字串，'null'表示空节点。该题难点在于序列化与反序列化的顺序一定要相对应。"
   ]
  },
  {
   "cell_type": "code",
   "execution_count": 13,
   "metadata": {},
   "outputs": [],
   "source": [
    "class Codec:\n",
    "    def __init__(self):\n",
    "        self.idx = 0\n",
    "\n",
    "    def serialize(self, root):\n",
    "        \"\"\"Encodes a tree to a single string.\n",
    "\n",
    "        :type root: TreeNode\n",
    "        :rtype: str\n",
    "        \"\"\"\n",
    "        if not root:\n",
    "            return ['null']\n",
    "\n",
    "        res = list()\n",
    "        s = [root]\n",
    "\n",
    "        while s:\n",
    "            cur_node = s.pop()\n",
    "            if cur_node:\n",
    "                s.append(cur_node.right)    # 用栈实现时，右节点先入栈才能保证先访问左节点\n",
    "                s.append(cur_node.left)\n",
    "                res.append(str(cur_node.val))\n",
    "            else:\n",
    "                res.append('null')\n",
    "\n",
    "        return res\n",
    "\n",
    "    def deserialize(self, data):\n",
    "        \"\"\"Decodes your encoded data to tree.\n",
    "\n",
    "        :type data: str\n",
    "        :rtype: TreeNode\n",
    "        \"\"\"\n",
    "        if not data or data == ['null']:\n",
    "            return None\n",
    "\n",
    "        if self.idx < len(data):\n",
    "            if data[self.idx] == 'null':\n",
    "                self.idx += 1\n",
    "                return None\n",
    "            else:\n",
    "                new_node = TreeNode(int(data[self.idx]))\n",
    "                self.idx += 1\n",
    "                new_node.left = self.deserialize(data)\n",
    "                new_node.right = self.deserialize(data)\n",
    "                return new_node"
   ]
  },
  {
   "cell_type": "markdown",
   "metadata": {},
   "source": [
    "[Convert Sorted Array to Binary Search Tree](https://leetcode.com/problems/convert-sorted-array-to-binary-search-tree/)。有序数组转平衡搜索二叉树。\n",
    "\n",
    "思路：递归。要想生成的二叉搜索树平衡，那么每次将数组的中间元素作为根节点生成树即可。"
   ]
  },
  {
   "cell_type": "code",
   "execution_count": null,
   "metadata": {},
   "outputs": [],
   "source": [
    "def sortedArrayToBST(nums) -> TreeNode:\n",
    "    if not nums:\n",
    "        return None\n",
    "    if len(nums) == 1:\n",
    "        return TreeNode(nums[0])\n",
    "\n",
    "    mid = len(nums)//2\n",
    "    root = TreeNode(nums[mid])\n",
    "    root.left = sortedArrayToBST(nums[:mid])\n",
    "    root.right = sortedArrayToBST(nums[mid+1:])\n",
    "\n",
    "    return root"
   ]
  },
  {
   "cell_type": "markdown",
   "metadata": {},
   "source": [
    "[Convert Sorted List to Binary Search Tree](https://leetcode.com/problems/convert-sorted-list-to-binary-search-tree/)。有序单链表转平衡搜索二叉树。\n",
    "\n",
    "思路：链表转数组，再递归。另一种更高效的方法是逆中序遍历，没搞懂。"
   ]
  },
  {
   "cell_type": "code",
   "execution_count": null,
   "metadata": {},
   "outputs": [],
   "source": [
    "def sortedListToBST(head: ListNode) -> TreeNode:\n",
    "    def list2arr(head):\n",
    "        res = list()\n",
    "\n",
    "        if not head:\n",
    "            return res\n",
    "\n",
    "        while head:\n",
    "            res.append(head.val)\n",
    "            head = head.next\n",
    "\n",
    "        return res\n",
    "\n",
    "    def arr2BST(arr):\n",
    "        if not arr:\n",
    "            return None\n",
    "        if len(arr) == 1:\n",
    "            return TreeNode(arr[0])\n",
    "\n",
    "        mid = len(arr)//2\n",
    "        root = TreeNode(arr[mid])\n",
    "        root.left = arr2BST(arr[:mid])\n",
    "        root.right = arr2BST(arr[mid+1:])\n",
    "        return root\n",
    "\n",
    "    nums = list2arr(head)\n",
    "    return arr2BST(nums)"
   ]
  },
  {
   "cell_type": "markdown",
   "metadata": {},
   "source": [
    "[Two Sum IV - Input is a BST](https://leetcode.com/problems/two-sum-iv-input-is-a-bst/)。给定一棵树搜索二叉树，判断该树中是否存在等于给定值的两个数。\n",
    "\n",
    "思路：中序遍历将树转化成有序数组，然后按之前的双指针方法做。"
   ]
  },
  {
   "cell_type": "code",
   "execution_count": null,
   "metadata": {},
   "outputs": [],
   "source": [
    "def findTarget(self, root: TreeNode, k: int) -> bool:\n",
    "    def inorder(root):\n",
    "        res = list()\n",
    "        s = list()\n",
    "        while root or s:\n",
    "            if root:\n",
    "                s.append(root)\n",
    "                root = root.left\n",
    "            else:\n",
    "                root = s.pop()\n",
    "                res.append(root.val)\n",
    "                root = root.right\n",
    "        return res\n",
    "\n",
    "    nums = inorder(root)\n",
    "    if len(nums) < 2:\n",
    "        return False\n",
    "    p1, p2 = 0, len(nums)-1\n",
    "    while p1 < p2:\n",
    "        cur_sum = nums[p1]+nums[p2]\n",
    "        if cur_sum == k:\n",
    "            return True\n",
    "        elif cur_sum < k:\n",
    "            p1 += 1\n",
    "        else:\n",
    "            p2 -= 1\n",
    "    return False"
   ]
  },
  {
   "cell_type": "markdown",
   "metadata": {},
   "source": [
    "[Symmetric Tree](https://leetcode.com/problems/symmetric-tree/)。判断二叉树是否镜像对称。\n",
    "\n",
    "思路：以根节点划分成左右两分支，递归判断两分支是否对称。注意判断两分支时，判断条件是```left.left==right.right```以及```left.right==right.left```。还有注意是，当两分支都不存在时肯定对称，只有单边存在时肯定不对称，只有两边都存在时才需要判断。"
   ]
  },
  {
   "cell_type": "code",
   "execution_count": null,
   "metadata": {},
   "outputs": [],
   "source": [
    "def isSymmetric(root: TreeNode) -> bool:\n",
    "    def mirro_brach(left, right):\n",
    "        if not left and not right:\n",
    "            return True\n",
    "        if (left and not right) or (right and not left):\n",
    "            return False\n",
    "        if left.val == right.val:\n",
    "            return mirro_brach(left.left, right.right) and mirro_brach(left.right, right.left)\n",
    "        else:\n",
    "            return False\n",
    "\n",
    "    if not root or (not root.left and not root.right):\n",
    "        return True\n",
    "    if (root.left and not root.right) or (root.right and not root.left):\n",
    "        return False\n",
    "    return mirro_brach(root.left, root.right)"
   ]
  },
  {
   "cell_type": "markdown",
   "metadata": {},
   "source": [
    "[Flip Equivalent Binary Trees](https://leetcode.com/problems/flip-equivalent-binary-trees/)。定义对树的某一分支作镜像转换为一个操作，判断两颗二叉树是否能通过该操作来互相转化。\n",
    "\n",
    "思路：两树要能通过局部镜像操作互相转换，一定满足三个条件：\n",
    "- 根节点相等；\n",
    "- 两棵树的左右节点完全相等，或两树该部分的左右节点对称\n",
    "- 左右节点的子结构也可以互相转换\n",
    "\n",
    "下面两个条件可以转成对第一个条件的递归。"
   ]
  },
  {
   "cell_type": "code",
   "execution_count": null,
   "metadata": {},
   "outputs": [],
   "source": [
    "def flipEquiv(root1: TreeNode, root2: TreeNode) -> bool:\n",
    "    if not root1 and not root2:\n",
    "        return True\n",
    "    if (root1 and not root2) or (root2 and not root1) or (root1.val != root2.val):\n",
    "        return False\n",
    "\n",
    "    return (flipEquiv(root1.left, root2.left) and flipEquiv(root1.right, root2.right)) or \\\n",
    "        (flipEquiv(root1.left, root2.right) and flipEquiv(root1.right, root2.left))"
   ]
  }
 ],
 "metadata": {
  "hide_input": false,
  "kernelspec": {
   "display_name": "Python 3",
   "language": "python",
   "name": "python3"
  },
  "language_info": {
   "codemirror_mode": {
    "name": "ipython",
    "version": 3
   },
   "file_extension": ".py",
   "mimetype": "text/x-python",
   "name": "python",
   "nbconvert_exporter": "python",
   "pygments_lexer": "ipython3",
   "version": "3.6.6"
  },
  "toc": {
   "base_numbering": 1,
   "nav_menu": {},
   "number_sections": true,
   "sideBar": true,
   "skip_h1_title": false,
   "title_cell": "Table of Contents",
   "title_sidebar": "Contents",
   "toc_cell": false,
   "toc_position": {},
   "toc_section_display": true,
   "toc_window_display": false
  }
 },
 "nbformat": 4,
 "nbformat_minor": 2
}
