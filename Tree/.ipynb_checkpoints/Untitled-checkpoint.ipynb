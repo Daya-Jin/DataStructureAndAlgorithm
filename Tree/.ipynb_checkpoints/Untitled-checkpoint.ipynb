{
 "cells": [
  {
   "cell_type": "code",
   "execution_count": 3,
   "metadata": {},
   "outputs": [],
   "source": [
    "class TreeNode:\n",
    "    def __init__(self, x):\n",
    "        self.val = x\n",
    "        self.left = None\n",
    "        self.right = None"
   ]
  },
  {
   "cell_type": "markdown",
   "metadata": {},
   "source": [
    "[Validate Binary Search Tree](https://leetcode.com/problems/validate-binary-search-tree/)。判断二叉搜索树的合法性。\n",
    "\n",
    "思路：合法二叉搜索树的中序遍历会得到一个升序序列。"
   ]
  },
  {
   "cell_type": "code",
   "execution_count": null,
   "metadata": {},
   "outputs": [],
   "source": [
    "def isValidBST(root: TreeNode) -> bool:\n",
    "    if not root:\n",
    "        return True\n",
    "\n",
    "    s = list()    # 栈\n",
    "    pre = -0xFFFFFFFF    # 32位负数的下限\n",
    "\n",
    "    while root or s:\n",
    "        # 一直往左走\n",
    "        while root:\n",
    "            s.append(root)\n",
    "            root = root.left\n",
    "\n",
    "        # 访问节点\n",
    "        root = s.pop()\n",
    "        if root.val <= pre:\n",
    "            return False\n",
    "        pre = root.val\n",
    "\n",
    "        # 向右走\n",
    "        root = root.right\n",
    "\n",
    "    return True"
   ]
  },
  {
   "cell_type": "markdown",
   "metadata": {},
   "source": [
    "[Lowest Common Ancestor of a Binary Tree](https://leetcode.com/problems/lowest-common-ancestor-of-a-binary-tree/)。二叉树的最低公共祖先。\n",
    "\n",
    "思路：在二叉树中，若两个节点不存在直属父子关系，则改两节点则一定分属于最低公共祖先的左右分支(可以画图验证)。而当两节点存在直属父子关系时，则两点的最低公共祖先是两者之一。所以知道这个性质后，使用递归的方法在根、左、右三个方向中分别去找两个给定的节点，如果两个节点分属于三者中的两个，则当前节点就是最低公共祖先；若两节点同属于左分支或同属于右分支，则要继续往下走。"
   ]
  },
  {
   "cell_type": "code",
   "execution_count": null,
   "metadata": {},
   "outputs": [],
   "source": [
    "def lowestCommonAncestor(root: 'TreeNode', p: 'TreeNode', q: 'TreeNode') -> 'TreeNode':\n",
    "    if not root:\n",
    "        return root\n",
    "\n",
    "    # 找到就返回\n",
    "    if root == p or root == q:\n",
    "        return root\n",
    "\n",
    "    # 在左右分支处查找\n",
    "    left = lowestCommonAncestor(root.left, p, q)\n",
    "    right = lowestCommonAncestor(root.right, p, q)\n",
    "\n",
    "    if left and in_right:    # 两节点分属不同分支\n",
    "        return root\n",
    "    if not left:    # 如果两节点都不在左分支，往右分支查找\n",
    "        return right\n",
    "    if not right:\n",
    "        return left"
   ]
  }
 ],
 "metadata": {
  "hide_input": false,
  "kernelspec": {
   "display_name": "Python 3",
   "language": "python",
   "name": "python3"
  },
  "language_info": {
   "codemirror_mode": {
    "name": "ipython",
    "version": 3
   },
   "file_extension": ".py",
   "mimetype": "text/x-python",
   "name": "python",
   "nbconvert_exporter": "python",
   "pygments_lexer": "ipython3",
   "version": "3.6.6"
  },
  "toc": {
   "base_numbering": 1,
   "nav_menu": {},
   "number_sections": true,
   "sideBar": true,
   "skip_h1_title": false,
   "title_cell": "Table of Contents",
   "title_sidebar": "Contents",
   "toc_cell": false,
   "toc_position": {},
   "toc_section_display": true,
   "toc_window_display": false
  }
 },
 "nbformat": 4,
 "nbformat_minor": 2
}
