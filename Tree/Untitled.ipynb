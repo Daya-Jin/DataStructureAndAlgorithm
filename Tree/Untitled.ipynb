{
 "cells": [
  {
   "cell_type": "code",
   "execution_count": 2,
   "metadata": {},
   "outputs": [],
   "source": [
    "class TreeNode:\n",
    "    def __init__(self, x):\n",
    "        self.val = x\n",
    "        self.left = None\n",
    "        self.right = None"
   ]
  },
  {
   "cell_type": "markdown",
   "metadata": {},
   "source": [
    "[Validate Binary Search Tree](https://leetcode.com/problems/validate-binary-search-tree/)。判断二叉搜索树的合法性。\n",
    "\n",
    "思路：合法二叉搜索树的中序遍历会得到一个升序序列。"
   ]
  },
  {
   "cell_type": "code",
   "execution_count": null,
   "metadata": {},
   "outputs": [],
   "source": [
    "def isValidBST(root: TreeNode) -> bool:\n",
    "    if not root:\n",
    "        return True\n",
    "\n",
    "    s = list()    # 栈\n",
    "    pre = -0xFFFFFFFF    # 32位负数的下限\n",
    "\n",
    "    while root or s:\n",
    "        # 一直往左走\n",
    "        while root:\n",
    "            s.append(root)\n",
    "            root = root.left\n",
    "\n",
    "        # 访问节点\n",
    "        root = s.pop()\n",
    "        if root.val <= pre:\n",
    "            return False\n",
    "        pre = root.val\n",
    "\n",
    "        # 向右走\n",
    "        root = root.right\n",
    "\n",
    "    return True"
   ]
  },
  {
   "cell_type": "markdown",
   "metadata": {},
   "source": [
    "[Lowest Common Ancestor of a Binary Tree](https://leetcode.com/problems/lowest-common-ancestor-of-a-binary-tree/)。二叉树的最低公共祖先。\n",
    "\n",
    "思路：在二叉树中，若两个节点不存在直属父子关系，则改两节点则一定分属于最低公共祖先的左右分支(可以画图验证)。而当两节点存在直属父子关系时，则两点的最低公共祖先是两者之一。所以知道这个性质后，使用递归的方法在根、左、右三个方向中分别去找两个给定的节点，如果两个节点分属于三者中的两个，则当前节点就是最低公共祖先；若两节点同属于左分支或同属于右分支，则要继续往下走。"
   ]
  },
  {
   "cell_type": "code",
   "execution_count": null,
   "metadata": {},
   "outputs": [],
   "source": [
    "def lowestCommonAncestor(root: 'TreeNode', p: 'TreeNode', q: 'TreeNode') -> 'TreeNode':\n",
    "    if not root:\n",
    "        return root\n",
    "\n",
    "    # 若在当前节点则返回当前节点\n",
    "    if root == p or root == q:\n",
    "        return root\n",
    "\n",
    "    # 在左右分支处查找\n",
    "    left = lowestCommonAncestor(root.left, p, q)\n",
    "    right = lowestCommonAncestor(root.right, p, q)\n",
    "\n",
    "    if left and in_right:    # 两节点分属不同分支\n",
    "        return root\n",
    "    if not left:    # 如果两节点都不在左分支，往右分支查找\n",
    "        return right\n",
    "    if not right:\n",
    "        return left"
   ]
  },
  {
   "cell_type": "markdown",
   "metadata": {},
   "source": [
    "[Serialize and Deserialize Binary Tree](https://leetcode.com/problems/serialize-and-deserialize-binary-tree/)。二叉树的序列化与反序列化。\n",
    "\n",
    "思路：从编写代码的简洁性考虑，使用递归的前序遍历来实现，令二叉树的存储形式为字串，'null'表示空节点。该题难点在于序列化与反序列化的顺序一定要相对应。"
   ]
  },
  {
   "cell_type": "code",
   "execution_count": 13,
   "metadata": {},
   "outputs": [],
   "source": [
    "class Codec:\n",
    "    def __init__(self):\n",
    "        self.idx = 0\n",
    "\n",
    "    def serialize(self, root):\n",
    "        \"\"\"Encodes a tree to a single string.\n",
    "\n",
    "        :type root: TreeNode\n",
    "        :rtype: str\n",
    "        \"\"\"\n",
    "        if not root:\n",
    "            return ['null']\n",
    "\n",
    "        res = list()\n",
    "        s = [root]\n",
    "\n",
    "        while s:\n",
    "            cur_node = s.pop()\n",
    "            if cur_node:\n",
    "                s.append(cur_node.right)    # 用栈实现时，右节点先入栈才能保证先访问左节点\n",
    "                s.append(cur_node.left)\n",
    "                res.append(str(cur_node.val))\n",
    "            else:\n",
    "                res.append('null')\n",
    "\n",
    "        return res\n",
    "\n",
    "    def deserialize(self, data):\n",
    "        \"\"\"Decodes your encoded data to tree.\n",
    "\n",
    "        :type data: str\n",
    "        :rtype: TreeNode\n",
    "        \"\"\"\n",
    "        if not data or data == ['null']:\n",
    "            return None\n",
    "\n",
    "        if self.idx < len(data):\n",
    "            if data[self.idx] == 'null':\n",
    "                self.idx += 1\n",
    "                return None\n",
    "            else:\n",
    "                new_node = TreeNode(int(data[self.idx]))\n",
    "                self.idx += 1\n",
    "                new_node.left = self.deserialize(data)\n",
    "                new_node.right = self.deserialize(data)\n",
    "                return new_node"
   ]
  },
  {
   "cell_type": "markdown",
   "metadata": {},
   "source": [
    "[Convert Sorted Array to Binary Search Tree](https://leetcode.com/problems/convert-sorted-array-to-binary-search-tree/)。有序数组转平衡搜索二叉树。\n",
    "\n",
    "思路：递归。要想生成的二叉搜索树平衡，那么每次将数组的中间元素作为根节点生成树即可。"
   ]
  },
  {
   "cell_type": "code",
   "execution_count": null,
   "metadata": {},
   "outputs": [],
   "source": [
    "def sortedArrayToBST(nums) -> TreeNode:\n",
    "    if not nums:\n",
    "        return None\n",
    "    if len(nums) == 1:\n",
    "        return TreeNode(nums[0])\n",
    "\n",
    "    mid = len(nums)//2\n",
    "    root = TreeNode(nums[mid])\n",
    "    root.left = sortedArrayToBST(nums[:mid])\n",
    "    root.right = sortedArrayToBST(nums[mid+1:])\n",
    "\n",
    "    return root"
   ]
  },
  {
   "cell_type": "markdown",
   "metadata": {},
   "source": [
    "[Convert Sorted List to Binary Search Tree](https://leetcode.com/problems/convert-sorted-list-to-binary-search-tree/)。有序单链表转平衡搜索二叉树。\n",
    "\n",
    "思路：链表转数组，再递归。另一种更高效的方法是逆中序遍历，没搞懂。"
   ]
  },
  {
   "cell_type": "code",
   "execution_count": null,
   "metadata": {},
   "outputs": [],
   "source": [
    "def sortedListToBST(head: ListNode) -> TreeNode:\n",
    "    def list2arr(head):\n",
    "        res = list()\n",
    "\n",
    "        if not head:\n",
    "            return res\n",
    "\n",
    "        while head:\n",
    "            res.append(head.val)\n",
    "            head = head.next\n",
    "\n",
    "        return res\n",
    "\n",
    "    def arr2BST(arr):\n",
    "        if not arr:\n",
    "            return None\n",
    "        if len(arr) == 1:\n",
    "            return TreeNode(arr[0])\n",
    "\n",
    "        mid = len(arr)//2\n",
    "        root = TreeNode(arr[mid])\n",
    "        root.left = arr2BST(arr[:mid])\n",
    "        root.right = arr2BST(arr[mid+1:])\n",
    "        return root\n",
    "\n",
    "    nums = list2arr(head)\n",
    "    return arr2BST(nums)"
   ]
  },
  {
   "cell_type": "markdown",
   "metadata": {},
   "source": [
    "[Two Sum IV - Input is a BST](https://leetcode.com/problems/two-sum-iv-input-is-a-bst/)。给定一棵树搜索二叉树，判断该树中是否存在等于给定值的两个数。\n",
    "\n",
    "思路：中序遍历将树转化成有序数组，然后按之前的双指针方法做。"
   ]
  },
  {
   "cell_type": "code",
   "execution_count": null,
   "metadata": {},
   "outputs": [],
   "source": [
    "def findTarget(self, root: TreeNode, k: int) -> bool:\n",
    "    def inorder(root):\n",
    "        res = list()\n",
    "        s = list()\n",
    "        while root or s:\n",
    "            if root:\n",
    "                s.append(root)\n",
    "                root = root.left\n",
    "            else:\n",
    "                root = s.pop()\n",
    "                res.append(root.val)\n",
    "                root = root.right\n",
    "        return res\n",
    "\n",
    "    nums = inorder(root)\n",
    "    if len(nums) < 2:\n",
    "        return False\n",
    "    p1, p2 = 0, len(nums)-1\n",
    "    while p1 < p2:\n",
    "        cur_sum = nums[p1]+nums[p2]\n",
    "        if cur_sum == k:\n",
    "            return True\n",
    "        elif cur_sum < k:\n",
    "            p1 += 1\n",
    "        else:\n",
    "            p2 -= 1\n",
    "    return False"
   ]
  },
  {
   "cell_type": "markdown",
   "metadata": {},
   "source": [
    "[Symmetric Tree](https://leetcode.com/problems/symmetric-tree/)。判断二叉树是否镜像对称。\n",
    "\n",
    "思路：以根节点划分成左右两分支，递归判断两分支是否对称。注意判断两分支时，判断条件是```left.left==right.right```以及```left.right==right.left```。还有注意是，当两分支都不存在时肯定对称，只有单边存在时肯定不对称，只有两边都存在时才需要判断。"
   ]
  },
  {
   "cell_type": "code",
   "execution_count": null,
   "metadata": {},
   "outputs": [],
   "source": [
    "def isSymmetric(root: TreeNode) -> bool:\n",
    "    def mirro_brach(left, right):\n",
    "        if not left and not right:\n",
    "            return True\n",
    "        if (left and not right) or (right and not left):\n",
    "            return False\n",
    "        if left.val == right.val:\n",
    "            return mirro_brach(left.left, right.right) and mirro_brach(left.right, right.left)\n",
    "        else:\n",
    "            return False\n",
    "\n",
    "    if not root or (not root.left and not root.right):\n",
    "        return True\n",
    "    if (root.left and not root.right) or (root.right and not root.left):\n",
    "        return False\n",
    "    return mirro_brach(root.left, root.right)"
   ]
  },
  {
   "cell_type": "markdown",
   "metadata": {},
   "source": [
    "[Flip Equivalent Binary Trees](https://leetcode.com/problems/flip-equivalent-binary-trees/)。定义对树的某一分支作镜像转换为一个操作，判断两颗二叉树是否能通过该操作来互相转化。\n",
    "\n",
    "思路：两树要能通过局部镜像操作互相转换，一定满足三个条件：\n",
    "- 根节点相等；\n",
    "- 两棵树的左右节点完全相等，或两树该部分的左右节点对称\n",
    "- 左右节点的子结构也可以互相转换\n",
    "\n",
    "下面两个条件可以转成对第一个条件的递归。"
   ]
  },
  {
   "cell_type": "code",
   "execution_count": null,
   "metadata": {},
   "outputs": [],
   "source": [
    "def flipEquiv(root1: TreeNode, root2: TreeNode) -> bool:\n",
    "    if not root1 and not root2:\n",
    "        return True\n",
    "    if (root1 and not root2) or (root2 and not root1) or (root1.val != root2.val):\n",
    "        return False\n",
    "\n",
    "    return (flipEquiv(root1.left, root2.left) and flipEquiv(root1.right, root2.right)) or \\\n",
    "        (flipEquiv(root1.left, root2.right) and flipEquiv(root1.right, root2.left))"
   ]
  },
  {
   "cell_type": "markdown",
   "metadata": {},
   "source": [
    "[Minimum Distance Between BST Nodes](https://leetcode.com/problems/minimum-distance-between-bst-nodes/)。给一颗二叉搜索树，求其中任意两节点之间的最小差值。\n",
    "\n",
    "思路：最小差值肯定出现在相邻的元素之间，中序遍历搜索即可。"
   ]
  },
  {
   "cell_type": "code",
   "execution_count": null,
   "metadata": {},
   "outputs": [],
   "source": [
    "def minDiffInBST(self, root: TreeNode) -> int:\n",
    "    if not root:\n",
    "        return 0\n",
    "\n",
    "    s = list()\n",
    "    pre = None\n",
    "    cur = root\n",
    "    cur_diff = 0xFFFFFFFF\n",
    "\n",
    "    while cur or s:\n",
    "        if cur:\n",
    "            s.append(cur)\n",
    "            cur = cur.left\n",
    "        else:\n",
    "            cur = s.pop()\n",
    "            if pre:\n",
    "                cur_diff = min(abs(cur.val-pre.val), cur_diff)\n",
    "            pre = cur\n",
    "            cur = cur.right\n",
    "\n",
    "    return cur_diff"
   ]
  },
  {
   "cell_type": "markdown",
   "metadata": {},
   "source": [
    "[Range Sum of BST](https://leetcode.com/problems/range-sum-of-bst/)。在BST中给定两个范围，求BST中处于$(L,R)$范围内所有元素的和。\n",
    "\n",
    "思路：中序遍历，其实什么遍历都一样。"
   ]
  },
  {
   "cell_type": "code",
   "execution_count": null,
   "metadata": {},
   "outputs": [],
   "source": [
    "def rangeSumBST(root: TreeNode, L: int, R: int) -> int:\n",
    "    if not root:\n",
    "        return 0\n",
    "\n",
    "    res = 0\n",
    "    s = list()\n",
    "\n",
    "    while root or s:\n",
    "        if root:\n",
    "            s.append(root)\n",
    "            root = root.left\n",
    "        else:\n",
    "            root = s.pop()\n",
    "            if L <= root.val <= R:\n",
    "                res += root.val\n",
    "            root = root.right\n",
    "\n",
    "    return res"
   ]
  },
  {
   "cell_type": "markdown",
   "metadata": {},
   "source": [
    "[Longest Univalue Path](https://leetcode.com/problems/longest-univalue-path/)。给一颗二叉树，找出树中有多少条长度大于$1$的等值路径。路径长度定义为经过边的数目，且路径只能成线段状，不能成放射状。\n",
    "\n",
    "思路：递归，首先对左右分支递归求出左右分支的最长等值路径长度，然后与当前节点比较，再返回最长长度。难点在于该题的路径不限于从上往下的路径。当一个节点与其左右节点值都相等时，可构成一条长度为$2$的等值路径。同时在由低往高累加长度时，需要注意会有断链的情况，断链时需要重新计数。"
   ]
  },
  {
   "cell_type": "code",
   "execution_count": null,
   "metadata": {},
   "outputs": [],
   "source": [
    "def longestUnivaluePath(self, root: TreeNode) -> int:\n",
    "    res = 0\n",
    "\n",
    "    def rec(root):\n",
    "        nonlocal res\n",
    "        if not root:\n",
    "            return 0\n",
    "\n",
    "        len_left_side, len_right_side = rec(root.left), rec(root.right)\n",
    "        len_left_new = len_right_new = 0    # 断链时的重新计数器\n",
    "\n",
    "        if root.left and root.left.val == root.val:\n",
    "            len_left_new = len_left_side+1\n",
    "        if root.right and root.right.val == root.val:\n",
    "            len_right_new = len_right_side+1\n",
    "\n",
    "        res = max(res, len_left_new+len_right_new)\n",
    "\n",
    "        return max(len_left_new, len_right_new)\n",
    "\n",
    "    rec(root)\n",
    "    return res"
   ]
  },
  {
   "cell_type": "markdown",
   "metadata": {},
   "source": [
    "[K-th Symbol in Grammar](https://leetcode.com/problems/k-th-symbol-in-grammar/)。从$1$开始计数，第一行的数字是$0$，以后每一行的数字都由上一行生成，$0$变成$01$,$1$变成$10$。求第$n$行第$k$个数字。\n",
    "\n",
    "思路：上一行的每一个数字变成下一行的两个数字，可以画出一颗二叉树。可以观察到左子节点等于父节点，右子节点与父节点相反。如果$T(n,k)$是从根节点一直往左走或者走了偶次右分支生成而来，那么就等于根节点；如果是从根节点走了奇数次右分支生成而来，那么与根节点相反。$T(n,k)$对应的二叉树索引为$2^{n-1}-1+k$，层层往上计算属于右节点的次数即可。"
   ]
  },
  {
   "cell_type": "code",
   "execution_count": 8,
   "metadata": {},
   "outputs": [
    {
     "data": {
      "text/plain": [
       "1"
      ]
     },
     "execution_count": 8,
     "metadata": {},
     "output_type": "execute_result"
    }
   ],
   "source": [
    "def kthGrammar(N: int, K: int) -> int:\n",
    "    if N == 1:\n",
    "        return 0\n",
    "\n",
    "    idx = 2**(N-1)-1+K\n",
    "    res = 0\n",
    "\n",
    "    while idx > 1:\n",
    "        if idx % 2 != 0:    # 奇数则说明是右节点\n",
    "            res = 1-res    # 0，1之间取反\n",
    "        idx //= 2\n",
    "\n",
    "    return res"
   ]
  },
  {
   "cell_type": "markdown",
   "metadata": {},
   "source": [
    "[Vertical Order Traversal of a Binary Tree](https://leetcode.com/problems/vertical-order-traversal-of-a-binary-tree/)。假定二叉树的每一个点都有一个坐标，对于任意一个点$(X,Y)$，其左右子节点的坐标分别为：$(X+1,Y-1)$，$(X+1,Y+1)$。使用一竖直扫描线```x=-inf -> x=+inf```，求扫描线经过的节点序列。限制条件，位于同一横坐标的点，优先输出纵坐标大的，同坐标的点，优先输出节点值大的。\n",
    "\n",
    "思路：根节点坐标$(0,0)$，左右子节点坐标分别为：$(-1,-1)$和$(1,-1)$。先层次遍历树，需要记录的是节点的横坐标，把层次遍历的结果记录到一个表中，以横坐标为key。关键在于限制条件，表中不仅需要存储节点值，还需要存储纵坐标，使用嵌套字典实现。"
   ]
  },
  {
   "cell_type": "code",
   "execution_count": null,
   "metadata": {},
   "outputs": [],
   "source": [
    "def verticalTraversal(root: TreeNode):\n",
    "    if not root:\n",
    "        return root\n",
    "\n",
    "    q = [(0, 0, root)]\n",
    "    tabel = dict()\n",
    "\n",
    "    while q:\n",
    "        x, y, node = q.pop(0)\n",
    "        tabel.setdefault(x, dict())\n",
    "        tabel[x].setdefault(y, list())\n",
    "        tabel[x][y].append(node.val)\n",
    "\n",
    "        if node.left:\n",
    "            q.append((x-1, y-1, node.left))\n",
    "        if node.right:\n",
    "            q.append((x+1, y-1, node.right))\n",
    "\n",
    "    res = list()\n",
    "    for x in sorted(tabel.keys()):    # 扫描线\n",
    "        node_l = list()\n",
    "        for y in sorted(tabel[x].keys(), reverse=True):    # 根据纵坐标从大到小排列\n",
    "            node_l.extend(sorted(tabel[x][y]))    # 根据值从小到大排列\n",
    "        res.append(node_l)\n",
    "\n",
    "    return res"
   ]
  },
  {
   "cell_type": "markdown",
   "metadata": {},
   "source": [
    "[Construct Binary Tree from Preorder and Inorder Traversal](https://leetcode.com/problems/construct-binary-tree-from-preorder-and-inorder-traversal/)。由先序序列与中序序列重构二叉树。\n",
    "\n",
    "思路：递归。先序遍历的第一个节点是根节点，中序序列以该节点分割形成左右分支。"
   ]
  },
  {
   "cell_type": "code",
   "execution_count": null,
   "metadata": {},
   "outputs": [],
   "source": [
    "def buildTree(preorder, inorder) -> TreeNode:\n",
    "    if not preorder:\n",
    "        return None\n",
    "    if len(preorder) == 1:\n",
    "        return TreeNode(preorder[0])\n",
    "\n",
    "    root_node = TreeNode(preorder[0])\n",
    "    root_in_idx = inorder.index(root_node.val)\n",
    "    left_branch = buildTree(preorder[1:root_in_idx+1],\n",
    "                            inorder[0:root_in_idx])\n",
    "    right_branch = buildTree(preorder[root_in_idx+1:],\n",
    "                             inorder[root_in_idx+1:])\n",
    "\n",
    "    root_node.left = left_branch\n",
    "    root_node.right = right_branch\n",
    "\n",
    "    return root_node"
   ]
  },
  {
   "cell_type": "markdown",
   "metadata": {},
   "source": [
    "[Construct Binary Tree from Inorder and Postorder Traversal](https://leetcode.com/problems/construct-binary-tree-from-inorder-and-postorder-traversal/)。由中序序列与后序序列重构二叉树。\n",
    "\n",
    "思路：递归。后序遍历的最后一个节点为根节点，中序遍历左右划分后分别是左右子树。"
   ]
  },
  {
   "cell_type": "code",
   "execution_count": null,
   "metadata": {},
   "outputs": [],
   "source": [
    "def buildTree(inorder, postorder) -> TreeNode:\n",
    "    if not postorder:\n",
    "        return None\n",
    "    if len(postorder) == 1:\n",
    "        return TreeNode(postorder[0])\n",
    "\n",
    "    root_node = TreeNode(postorder[-1])\n",
    "    root_in_idx = inorder.index(root_node.val)\n",
    "    left_branch = buildTree(inorder[:root_in_idx],\n",
    "                            postorder[:root_in_idx])\n",
    "    right_branch = buildTree(inorder[root_in_idx+1:],\n",
    "                             postorder[root_in_idx:-1])\n",
    "    root_node.left = left_branch\n",
    "    root_node.right = right_branch\n",
    "\n",
    "    return root_node"
   ]
  },
  {
   "cell_type": "markdown",
   "metadata": {},
   "source": [
    "[Convert BST to Greater Tree](https://leetcode.com/problems/convert-bst-to-greater-tree/)。给定一棵BST，每个节点加上比自身大的所有节点的值，构成一颗新BST。\n",
    "\n",
    "思路：BST的中序遍历(左根右)是递增序列，改版后的中序遍历(右根左)是递减序列，逐元素累加即可。"
   ]
  },
  {
   "cell_type": "code",
   "execution_count": null,
   "metadata": {},
   "outputs": [],
   "source": [
    "def convertBST(root: TreeNode) -> TreeNode:\n",
    "    cur_sum = 0\n",
    "    s = list()\n",
    "    vis_node = root\n",
    "\n",
    "    while s or vis_node:\n",
    "        if vis_node:\n",
    "            s.append(vis_node)\n",
    "            vis_node = vis_node.right    # 一路向右\n",
    "        else:\n",
    "            vis_node = s.pop()\n",
    "            cur_sum += vis_node.val\n",
    "            vis_node.val = cur_sum\n",
    "\n",
    "            vis_node = vis_node.left\n",
    "\n",
    "    return root"
   ]
  },
  {
   "cell_type": "markdown",
   "metadata": {},
   "source": [
    "[Flatten Binary Tree to Linked List](https://leetcode.com/problems/flatten-binary-tree-to-linked-list/)。二叉树转链表，需满足in-place。\n",
    "\n",
    "思路：看示例好像是以先序遍历的方法把二叉树转成右单边树，使用先序遍历。但需要记录前一个节点，然后把当前访问节点接到前节点的右边，同时左边置空。"
   ]
  },
  {
   "cell_type": "code",
   "execution_count": null,
   "metadata": {},
   "outputs": [],
   "source": [
    "def flatten(root: TreeNode) -> None:\n",
    "    if not root:\n",
    "        return\n",
    "\n",
    "    s = [root]\n",
    "    pre = None\n",
    "\n",
    "    while s:\n",
    "        vis = s.pop()\n",
    "        if pre:\n",
    "            pre.right = vis\n",
    "            pre.left = None\n",
    "\n",
    "        if vis.right:\n",
    "            s.append(vis.right)\n",
    "        if vis.left:\n",
    "            s.append(vis.left)\n",
    "\n",
    "        pre = vis"
   ]
  },
  {
   "cell_type": "markdown",
   "metadata": {},
   "source": [
    "[Populating Next Right Pointers in Each Node II](https://leetcode.com/problems/populating-next-right-pointers-in-each-node-ii/)。为树节点设置三个指针：左右指针与next指针，其中next指针指向同层右节点。\n",
    "\n",
    "思路：层次遍历。"
   ]
  },
  {
   "cell_type": "code",
   "execution_count": null,
   "metadata": {},
   "outputs": [],
   "source": [
    "class Node:\n",
    "    def __init__(self, val, left, right, next):\n",
    "        self.val = val\n",
    "        self.left = None\n",
    "        self.right = None\n",
    "        self.next = None\n",
    "\n",
    "\n",
    "def connect(root: 'Node') -> 'Node':\n",
    "    if not root:\n",
    "        return None\n",
    "\n",
    "    q = [root]\n",
    "    while q:\n",
    "        level_size = len(q)\n",
    "        for idx in range(level_size):\n",
    "            vis = q.pop(0)\n",
    "            if idx == level_size-1:    # 当前层的最后一个节点next置空\n",
    "                vis.next = None\n",
    "            else:\n",
    "                vis.next = q[0]\n",
    "\n",
    "            if vis.left:\n",
    "                q.append(vis.left)\n",
    "            if vis.right:\n",
    "                q.append(vis.right)\n",
    "\n",
    "    return root"
   ]
  },
  {
   "cell_type": "markdown",
   "metadata": {},
   "source": [
    "[Find Bottom Left Tree Value](https://leetcode.com/problems/find-bottom-left-tree-value/)。给一颗二叉树，找到最后一层最左边的值。\n",
    "\n",
    "思路：层次遍历，保存每一层的首节点。"
   ]
  },
  {
   "cell_type": "code",
   "execution_count": null,
   "metadata": {},
   "outputs": [],
   "source": [
    "def findBottomLeftValue(root: TreeNode) -> int:\n",
    "    if not root:\n",
    "        return None\n",
    "\n",
    "    q = [root]\n",
    "    res = root.val\n",
    "    while q:\n",
    "        level_size = len(q)\n",
    "        for idx in range(level_size):\n",
    "            vis_node = q.pop(0)\n",
    "            if idx == 0:\n",
    "                res = vis_node.val\n",
    "\n",
    "            if vis_node.left:\n",
    "                q.append(vis_node.left)\n",
    "            if vis_node.right:\n",
    "                q.append(vis_node.right)\n",
    "\n",
    "    return res"
   ]
  },
  {
   "cell_type": "markdown",
   "metadata": {},
   "source": [
    "[Find Largest Value in Each Tree Row](https://leetcode.com/problems/find-largest-value-in-each-tree-row/)。找出二叉树每一层的最大值。\n",
    "\n",
    "思路：层次遍历，在每层的访问中保存最大值，然后加到res中。"
   ]
  },
  {
   "cell_type": "code",
   "execution_count": null,
   "metadata": {},
   "outputs": [],
   "source": [
    "def largestValues(root: TreeNode):\n",
    "    res = list()\n",
    "    if not root:\n",
    "        return res\n",
    "\n",
    "    q = [root]\n",
    "    while q:\n",
    "        level_size = len(q)\n",
    "        cur_max = -0x80000000\n",
    "\n",
    "        for idx in range(level_size):\n",
    "            cur_node = q.pop(0)\n",
    "            cur_max = max(cur_max, cur_node.val)\n",
    "\n",
    "            if cur_node.left:\n",
    "                q.append(cur_node.left)\n",
    "            if cur_node.right:\n",
    "                q.append(cur_node.right)\n",
    "\n",
    "        res.append(cur_max)\n",
    "\n",
    "    return res"
   ]
  },
  {
   "cell_type": "markdown",
   "metadata": {},
   "source": [
    "[Leaf-Similar Trees](https://leetcode.com/problems/leaf-similar-trees/)。一颗二叉树，从左往右扫描经过的所有叶节点构成的序列为叶节点序列。给两颗二叉树，判断两棵树的叶节点序列是否相同。\n",
    "\n",
    "思路：易得叶节点序列可以通过中序遍历得到。"
   ]
  },
  {
   "cell_type": "code",
   "execution_count": 5,
   "metadata": {},
   "outputs": [
    {
     "name": "stdout",
     "output_type": "stream",
     "text": [
      "[1] [2]\n"
     ]
    },
    {
     "data": {
      "text/plain": [
       "False"
      ]
     },
     "execution_count": 5,
     "metadata": {},
     "output_type": "execute_result"
    }
   ],
   "source": [
    "def leafSimilar(root1: TreeNode, root2: TreeNode) -> bool:\n",
    "    if (root1 and not root2) or (not root1 and root2):\n",
    "        return False\n",
    "\n",
    "    def gen_leaf_seq(root):\n",
    "        '''\n",
    "        中序遍历，返回叶节点序列\n",
    "        '''\n",
    "        res = list()\n",
    "        if not root:\n",
    "            return res\n",
    "\n",
    "        s = list()\n",
    "        while root or s:\n",
    "            while root:\n",
    "                s.append(root)\n",
    "                root = root.left\n",
    "\n",
    "            vis_node = s.pop()\n",
    "            if vis_node.left is None and vis_node.right is None:\n",
    "                res.append(vis_node.val)\n",
    "            if vis_node.right:\n",
    "                root = vis_node.right\n",
    "\n",
    "        return res\n",
    "\n",
    "    leaf_seq_1 = gen_leaf_seq(root1)\n",
    "    leaf_seq_2 = gen_leaf_seq(root2)\n",
    "\n",
    "    if len(leaf_seq_1) == len(leaf_seq_2):\n",
    "        for i in range(len(leaf_seq_1)):\n",
    "            if leaf_seq_1[i] != leaf_seq_2[i]:\n",
    "                return False\n",
    "        return True\n",
    "\n",
    "    return False"
   ]
  },
  {
   "cell_type": "markdown",
   "metadata": {},
   "source": [
    "[Increasing Order Search Tree](https://leetcode.com/problems/increasing-order-search-tree/)。给一颗BST，将其转化成只有右分支的单边树。\n",
    "\n",
    "思路：只有右分支的BST，那么根节点是最小节点。BST的递增序列是通过中序遍历得到，新建一棵树即可。"
   ]
  },
  {
   "cell_type": "code",
   "execution_count": 24,
   "metadata": {},
   "outputs": [
    {
     "data": {
      "text/plain": [
       "False"
      ]
     },
     "execution_count": 24,
     "metadata": {},
     "output_type": "execute_result"
    }
   ],
   "source": [
    "def increasingBST(root: TreeNode) -> TreeNode:\n",
    "    if not root:\n",
    "        return root\n",
    "\n",
    "    # res是新树的root，idx是新树的工作指针\n",
    "    res = idx = None\n",
    "    s = list()\n",
    "\n",
    "    while root or s:\n",
    "        while root:\n",
    "            s.append(root)\n",
    "            root = root.left\n",
    "\n",
    "        vis_node = s.pop()\n",
    "        if not res:    # 没有root则新建root\n",
    "            res = idx = TreeNode(vis_node.val)\n",
    "        else:\n",
    "            idx.right = TreeNode(vis_node.val)\n",
    "            idx = idx.right\n",
    "        root = vis_node.right\n",
    "\n",
    "    return res"
   ]
  },
  {
   "cell_type": "markdown",
   "metadata": {},
   "source": [
    "[Shortest Bridge](https://leetcode.com/problems/shortest-bridge/)。给一个二维矩阵，$1$代表陆地，$0$代表海洋，矩阵中存在两座岛，移动只能通过上下左右四个方向，问两座岛之间的最短距离。\n",
    "\n",
    "思路：DFS+BFS。首先使用DFS找到其中一座岛的所有陆地坐标，并标记访问。然后以该座岛的所有陆地坐标为起点做BFS，直到碰到未访问过的陆地。写了一下好麻烦，主要思路还是不清晰，算了。"
   ]
  },
  {
   "cell_type": "code",
   "execution_count": 43,
   "metadata": {},
   "outputs": [
    {
     "data": {
      "text/plain": [
       "4"
      ]
     },
     "execution_count": 43,
     "metadata": {},
     "output_type": "execute_result"
    }
   ],
   "source": [
    "def shortestBridge(A) -> int:\n",
    "    pass"
   ]
  },
  {
   "cell_type": "markdown",
   "metadata": {},
   "source": [
    "[]()。"
   ]
  }
 ],
 "metadata": {
  "hide_input": false,
  "kernelspec": {
   "display_name": "Python 3",
   "language": "python",
   "name": "python3"
  },
  "language_info": {
   "codemirror_mode": {
    "name": "ipython",
    "version": 3
   },
   "file_extension": ".py",
   "mimetype": "text/x-python",
   "name": "python",
   "nbconvert_exporter": "python",
   "pygments_lexer": "ipython3",
   "version": "3.6.6"
  },
  "toc": {
   "base_numbering": 1,
   "nav_menu": {},
   "number_sections": true,
   "sideBar": true,
   "skip_h1_title": false,
   "title_cell": "Table of Contents",
   "title_sidebar": "Contents",
   "toc_cell": false,
   "toc_position": {},
   "toc_section_display": true,
   "toc_window_display": false
  }
 },
 "nbformat": 4,
 "nbformat_minor": 2
}
