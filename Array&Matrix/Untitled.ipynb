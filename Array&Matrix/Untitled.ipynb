{
 "cells": [
  {
   "cell_type": "markdown",
   "metadata": {},
   "source": [
    "[Spiral Matrix](https://leetcode.com/problems/spiral-matrix/)。顺时针螺旋输出矩阵元素。\n",
    "\n",
    "思路：将一个螺旋看成是一次跑圈，每一次跑圈至少会减少两行两列，所以能够跑的条件是起点的坐标小于等于行列数的一半。而每一圈又可以分为四个部分：向右、向下、向左、向上，每做完一步需要判断下一步的可行性。"
   ]
  },
  {
   "cell_type": "code",
   "execution_count": null,
   "metadata": {},
   "outputs": [],
   "source": [
    "def spiralOrder(matrix):\n",
    "    if not matrix:\n",
    "        return matrix\n",
    "\n",
    "    rows, cols = len(matrix), len(matrix[0])\n",
    "    epoch = 0    # epoch同时代表了start_row与start_col\n",
    "    res = list()\n",
    "\n",
    "    while 2*epoch < rows and 2*epoch < cols:\n",
    "        # 边界\n",
    "        end_row = rows-1-epoch\n",
    "        end_col = cols-1-epoch\n",
    "\n",
    "        # 向右\n",
    "        for col in range(epoch, end_col+1):\n",
    "            res.append(matrix[epoch][col])\n",
    "\n",
    "        # 向下\n",
    "        if epoch < end_row:\n",
    "            for row in range(epoch+1, end_row+1):\n",
    "                res.append(matrix[row][end_col])\n",
    "\n",
    "            # 向左\n",
    "            if epoch < end_col:\n",
    "                for col in range(end_col-1, epoch-1, -1):\n",
    "                    res.append(matrix[end_row][col])\n",
    "\n",
    "                # 向上\n",
    "                if epoch < end_row-1:\n",
    "                    for row in range(end_row-1, epoch, -1):\n",
    "                        res.append(matrix[row][epoch])\n",
    "        epoch += 1\n",
    "\n",
    "    return res"
   ]
  },
  {
   "cell_type": "markdown",
   "metadata": {},
   "source": [
    "[Delete Columns to Make Sorted II](https://leetcode.com/problems/delete-columns-to-make-sorted-ii/)。给定一个字串的列表，将其看做是字符矩阵，要求删除某几列，使得每一行的字串由上往下是非递减的。\n",
    "\n",
    "思路：暴力解法，由上往下遍逐行遍历每两个字串的每一位，当出现递减时说明需要删掉该列。主要需要注意这种情况：```['az','by']```，虽然```z>y```，但是```az<by```，说明比较是有优先级的。需要一直比较的只有两种情况：该列需要删除或者相等。"
   ]
  },
  {
   "cell_type": "code",
   "execution_count": 9,
   "metadata": {},
   "outputs": [
    {
     "data": {
      "text/plain": [
       "0"
      ]
     },
     "execution_count": 9,
     "metadata": {},
     "output_type": "execute_result"
    }
   ],
   "source": [
    "def minDeletionSize(A) -> int:\n",
    "    res_cols = set()\n",
    "    if not A or not A[0] or len(A) == 1:\n",
    "        return 0\n",
    "\n",
    "    rows, cols = len(A), len(A[0])\n",
    "    row = 1\n",
    "    while row < len(A):\n",
    "        for col in range(cols):\n",
    "            if col in res_cols or A[row-1][col] == A[row][col]:\n",
    "                continue\n",
    "            elif A[row-1][col] > A[row][col]:    # 不满足条件\n",
    "                res_cols.add(col)\n",
    "                row = 0    # 重新开始比\n",
    "            break    # 高位满足条件就不用比了，下一行\n",
    "\n",
    "        row += 1\n",
    "    return len(res_cols)"
   ]
  },
  {
   "cell_type": "code",
   "execution_count": null,
   "metadata": {},
   "outputs": [],
   "source": []
  }
 ],
 "metadata": {
  "hide_input": false,
  "kernelspec": {
   "display_name": "Python 3",
   "language": "python",
   "name": "python3"
  },
  "language_info": {
   "codemirror_mode": {
    "name": "ipython",
    "version": 3
   },
   "file_extension": ".py",
   "mimetype": "text/x-python",
   "name": "python",
   "nbconvert_exporter": "python",
   "pygments_lexer": "ipython3",
   "version": "3.6.6"
  },
  "toc": {
   "base_numbering": 1,
   "nav_menu": {},
   "number_sections": true,
   "sideBar": true,
   "skip_h1_title": false,
   "title_cell": "Table of Contents",
   "title_sidebar": "Contents",
   "toc_cell": false,
   "toc_position": {},
   "toc_section_display": true,
   "toc_window_display": false
  }
 },
 "nbformat": 4,
 "nbformat_minor": 2
}
