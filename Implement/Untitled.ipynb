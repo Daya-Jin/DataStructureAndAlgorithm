{
 "cells": [
  {
   "cell_type": "markdown",
   "metadata": {},
   "source": [
    "[Divide Two Integers](https://leetcode.com/problems/divide-two-integers/)。不使用乘除法实现整形的整除运算。\n",
    "\n",
    "思路：乘法可以使用加法实现，反过来除法可以使用减法实现。被除数每减去一次除数，商就加1。这一过程可以优化，可以将除数翻倍，被除数减去除数的$n$倍，商就可以加上$n$，翻倍的过程可以使用位运算来实现。另外一个坑就是语言坑，由于一般的语言使用的是32位有符号整形补码，所以这里需要考虑表示范围：$[-2^{31},2^{31}-1]$。"
   ]
  },
  {
   "cell_type": "code",
   "execution_count": 22,
   "metadata": {},
   "outputs": [
    {
     "data": {
      "text/plain": [
       "2147483647"
      ]
     },
     "execution_count": 22,
     "metadata": {},
     "output_type": "execute_result"
    }
   ],
   "source": [
    "def divide(dividend: int, divisor: int) -> int:\n",
    "    res = 0    # 商\n",
    "    sign = not ((dividend > 0) ^ (divisor > 0))    # 结果符号\n",
    "\n",
    "    dividend, divisor = abs(dividend), abs(divisor)    # 转换成绝对值运算\n",
    "\n",
    "    while dividend >= divisor:    # 只要被除数>除数就可以除\n",
    "        n = 1\n",
    "        a, b = dividend, divisor\n",
    "        while a >= b*(n << 1):    # 被除数大于等于翻倍后的除数\n",
    "            n <<= 1\n",
    "\n",
    "        res += n\n",
    "        dividend -= b*n\n",
    "\n",
    "    if sign and res == 2**31:    # 正数越界\n",
    "        res = res-1\n",
    "\n",
    "    return res if sign else -res"
   ]
  },
  {
   "cell_type": "markdown",
   "metadata": {},
   "source": [
    "[String to Integer (atoi)](https://leetcode.com/problems/string-to-integer-atoi/)。实现str2int函数。\n",
    "\n",
    "思路：该题需要考虑的情况如下：\n",
    "- 字串两端的空格需要跳过，实际只需要跳过开头的空格\n",
    "- 符号位只能出现在非空格字串的首位\n",
    "- 遇到非法字符即刻返回\n",
    "- 超出表示范围即刻返回"
   ]
  },
  {
   "cell_type": "code",
   "execution_count": 30,
   "metadata": {},
   "outputs": [
    {
     "data": {
      "text/plain": [
       "0"
      ]
     },
     "execution_count": 30,
     "metadata": {},
     "output_type": "execute_result"
    }
   ],
   "source": [
    "def myAtoi(s: str) -> int:\n",
    "    head = True    # 首位标记\n",
    "    sign = True\n",
    "    res = 0\n",
    "\n",
    "    for ch in s:\n",
    "        # 首位需要判断的有：空格，符号，数字\n",
    "        if head:\n",
    "            if ch == ' ':\n",
    "                continue\n",
    "            elif ch == '+':\n",
    "                head = False\n",
    "                continue\n",
    "            elif ch == '-':\n",
    "                sign = False\n",
    "                head = False\n",
    "                continue\n",
    "            elif ch.isdigit():\n",
    "                head = False\n",
    "                res = int(ch)\n",
    "            else:\n",
    "                break\n",
    "        # 非首位只需判断数字，同时做越界判断\n",
    "        else:    \n",
    "            if ch.isdigit():\n",
    "                res = res*10+int(ch)\n",
    "                if sign and res > 2**31-1:\n",
    "                    return 2**31-1\n",
    "                if not sign and res > 2**31:\n",
    "                    return -2**31\n",
    "            else:\n",
    "                break\n",
    "\n",
    "    return res if sign else -res"
   ]
  },
  {
   "cell_type": "code",
   "execution_count": null,
   "metadata": {},
   "outputs": [],
   "source": []
  }
 ],
 "metadata": {
  "hide_input": false,
  "kernelspec": {
   "display_name": "Python 3",
   "language": "python",
   "name": "python3"
  },
  "language_info": {
   "codemirror_mode": {
    "name": "ipython",
    "version": 3
   },
   "file_extension": ".py",
   "mimetype": "text/x-python",
   "name": "python",
   "nbconvert_exporter": "python",
   "pygments_lexer": "ipython3",
   "version": "3.6.6"
  },
  "toc": {
   "base_numbering": 1,
   "nav_menu": {},
   "number_sections": true,
   "sideBar": true,
   "skip_h1_title": false,
   "title_cell": "Table of Contents",
   "title_sidebar": "Contents",
   "toc_cell": false,
   "toc_position": {},
   "toc_section_display": true,
   "toc_window_display": false
  }
 },
 "nbformat": 4,
 "nbformat_minor": 2
}
