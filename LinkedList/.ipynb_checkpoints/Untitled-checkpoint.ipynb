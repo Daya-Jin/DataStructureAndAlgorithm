{
 "cells": [
  {
   "cell_type": "code",
   "execution_count": 1,
   "metadata": {},
   "outputs": [],
   "source": [
    "class ListNode:\n",
    "    def __init__(self, x):\n",
    "        self.val = x\n",
    "        self.next = None"
   ]
  },
  {
   "cell_type": "markdown",
   "metadata": {},
   "source": [
    "[Design Linked List](https://leetcode.com/problems/design-linked-list/)。实现一个单链表类。有特殊case，待补充"
   ]
  },
  {
   "cell_type": "code",
   "execution_count": null,
   "metadata": {},
   "outputs": [],
   "source": []
  },
  {
   "cell_type": "markdown",
   "metadata": {},
   "source": [
    "[Reverse Linked List](https://leetcode.com/problems/reverse-linked-list/)。反转单链表。\n",
    "\n",
    "思路：反转单链表的关键点在于需要保存前驱节点(即new_head)的指针。得益于Python的语法特性，不需要临时变量即可优雅地解决该问题。"
   ]
  },
  {
   "cell_type": "code",
   "execution_count": 2,
   "metadata": {},
   "outputs": [],
   "source": [
    "def reverseList(head: ListNode) -> ListNode:\n",
    "    pre, cur = None, head\n",
    "    while cur:\n",
    "        # 第一步：cur.next=pre，指针指向前驱节点\n",
    "        # 第二步：指针后移，pre, cur = cur, cur.next\n",
    "        cur.next, pre, cur = pre, cur, cur.next\n",
    "    return pre"
   ]
  },
  {
   "cell_type": "markdown",
   "metadata": {},
   "source": [
    "[Sort List](https://leetcode.com/problems/sort-list/)。对单链表排序。\n",
    "\n",
    "思路：归并排序，关键点在于对单链表的拆分。设立快慢指针，慢指针一次走一步，快指针一次走两步，快指针到末尾时慢指针的下一个节点即为中点。"
   ]
  },
  {
   "cell_type": "code",
   "execution_count": null,
   "metadata": {},
   "outputs": [],
   "source": [
    "def sortList(head: ListNode) -> ListNode:\n",
    "    if not head or not head.next:\n",
    "        return head\n",
    "\n",
    "    slow = fast = head\n",
    "    while fast.next and fast.next.next:\n",
    "        slow = slow.next\n",
    "        fast = fast.next.next\n",
    "    mid = slow.next    # 中点\n",
    "    slow.next = None    # 断链\n",
    "\n",
    "    left, right = sortList(head), sortList(mid)    # 递归排序\n",
    "\n",
    "    # 归并\n",
    "    dummy = ListNode(None)    # 设一个头结点生成新链表\n",
    "    tmp = dummy    # 用于拼接的工作指针\n",
    "\n",
    "    while left and right:\n",
    "        if left.val <= right.val:\n",
    "            tmp.next = left\n",
    "            left = left.next\n",
    "        else:\n",
    "            tmp.next = right\n",
    "            right = right.next\n",
    "        tmp = tmp.next\n",
    "\n",
    "    while left:\n",
    "        tmp.next = left\n",
    "        left = left.next\n",
    "        tmp = tmp.next\n",
    "    while right:\n",
    "        tmp.next = right\n",
    "        right = right.next\n",
    "        tmp = tmp.next\n",
    "\n",
    "    return dummy.next"
   ]
  },
  {
   "cell_type": "markdown",
   "metadata": {},
   "source": [
    "[Palindrome Linked List](https://leetcode.com/problems/palindrome-linked-list/)。判断单链表是否对称。\n",
    "\n",
    "思路：首先使用快慢指针找到中点，然后选择反转前半段或后半段，再逐一比较。关键在于链表的反转。"
   ]
  },
  {
   "cell_type": "code",
   "execution_count": null,
   "metadata": {},
   "outputs": [],
   "source": [
    "def isPalindrome(head: ListNode) -> bool:\n",
    "    if not head or not head.next:\n",
    "        return True\n",
    "\n",
    "    def reverse_link(head):\n",
    "        new_head = None\n",
    "        while head:\n",
    "            tmp = head    # 保存当前头结点位置\n",
    "            head = head.next    # 指针后移\n",
    "            tmp.next = new_head\n",
    "            new_head = tmp\n",
    "        return new_head\n",
    "\n",
    "    slow, fast = head, head\n",
    "    while fast and fast.next:\n",
    "        slow = slow.next\n",
    "        fast = fast.next.next\n",
    "\n",
    "    p1, p2 = head, reverse_link(slow)\n",
    "    while p2:\n",
    "        if p1.val == p2.val:\n",
    "            p1 = p1.next\n",
    "            p2 = p2.next\n",
    "        else:\n",
    "            return False\n",
    "    return True"
   ]
  },
  {
   "cell_type": "markdown",
   "metadata": {},
   "source": [
    "[Reorder List](https://leetcode.com/problems/reorder-list/)。重排链表，使得顺序为$1->n->2->n-1->...$。\n",
    "\n",
    "思路：以中点拆分原链表，反转后半链表，逐节点合并两链表。这里的中点最好偏右。"
   ]
  },
  {
   "cell_type": "code",
   "execution_count": null,
   "metadata": {},
   "outputs": [],
   "source": [
    "def reorderList(head: ListNode) -> None:\n",
    "    if not head or not head.next:\n",
    "        return\n",
    "\n",
    "    slow = fast = head\n",
    "    while fast and fast.next.next:\n",
    "        slow = slow.next\n",
    "        fast = fast.next.next\n",
    "\n",
    "    l1, l2 = head, slow.next\n",
    "    slow.next = None\n",
    "\n",
    "    def reverse_ll(head):\n",
    "        '''\n",
    "        反转链表函数\n",
    "        '''\n",
    "        pre, cur = None, head\n",
    "        while cur:\n",
    "            cur.next, pre, cur = pre, cur, cur.next\n",
    "        return pre\n",
    "\n",
    "    l2 = reverse_ll(l2)\n",
    "\n",
    "    while l1 and l2:    # 把l1作为主链，每次循环只把l2中的一个节点拼接过来\n",
    "        l1_next, l2_next = l1.next, l2.next    # 保存后继节点防止断链\n",
    "        l1.next = l2\n",
    "        l2.next = l1_next\n",
    "        l1, l2 = l1_next, l2_next"
   ]
  },
  {
   "cell_type": "markdown",
   "metadata": {},
   "source": [
    "[Remove Duplicates from Sorted List II](https://leetcode.com/problems/remove-duplicates-from-sorted-list-ii/)。删除有序链表中所有重复的元素。\n",
    "\n",
    "思路：难点在于若头结点重复需要删除时如何保存头结点，所以要设一个dummy节点。令```last```指示最后一个独特元素，那么每次从```last.next```开始找重复元素。"
   ]
  },
  {
   "cell_type": "code",
   "execution_count": null,
   "metadata": {},
   "outputs": [],
   "source": [
    "def deleteDuplicates(head: ListNode) -> ListNode:\n",
    "    if not head or not head.next:\n",
    "        return head\n",
    "\n",
    "    dummy = ListNode(-1)\n",
    "    dummy.next = head\n",
    "    pre = dummy\n",
    "    while pre.next:\n",
    "        cur = pre.next\n",
    "        while cur.next and cur.val == cur.next.val:\n",
    "            cur = cur.next\n",
    "        if pre.next != cur:\n",
    "            pre.next = cur.next\n",
    "        else:\n",
    "            pre = pre.next\n",
    "\n",
    "    return dummy.next"
   ]
  }
 ],
 "metadata": {
  "hide_input": false,
  "kernelspec": {
   "display_name": "Python 3",
   "language": "python",
   "name": "python3"
  },
  "language_info": {
   "codemirror_mode": {
    "name": "ipython",
    "version": 3
   },
   "file_extension": ".py",
   "mimetype": "text/x-python",
   "name": "python",
   "nbconvert_exporter": "python",
   "pygments_lexer": "ipython3",
   "version": "3.6.6"
  },
  "toc": {
   "base_numbering": 1,
   "nav_menu": {},
   "number_sections": true,
   "sideBar": true,
   "skip_h1_title": false,
   "title_cell": "Table of Contents",
   "title_sidebar": "Contents",
   "toc_cell": false,
   "toc_position": {},
   "toc_section_display": true,
   "toc_window_display": false
  }
 },
 "nbformat": 4,
 "nbformat_minor": 2
}
