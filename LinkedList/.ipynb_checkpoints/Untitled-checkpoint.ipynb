{
 "cells": [
  {
   "cell_type": "code",
   "execution_count": 1,
   "metadata": {},
   "outputs": [],
   "source": [
    "class ListNode:\n",
    "    def __init__(self, x):\n",
    "        self.val = x\n",
    "        self.next = None"
   ]
  },
  {
   "cell_type": "markdown",
   "metadata": {},
   "source": [
    "[Sort List](https://leetcode.com/problems/sort-list/)。对单链表排序。\n",
    "\n",
    "思路：归并排序，关键点在于对单链表的拆分。设立快慢指针，慢指针一次走一步，快指针一次走两步，快指针到末尾时慢指针的下一个节点即为中点。"
   ]
  },
  {
   "cell_type": "code",
   "execution_count": null,
   "metadata": {},
   "outputs": [],
   "source": [
    "def sortList(head: ListNode) -> ListNode:\n",
    "    if not head or not head.next:\n",
    "        return head\n",
    "\n",
    "    slow = fast = head\n",
    "    while fast.next and fast.next.next:\n",
    "        slow = slow.next\n",
    "        fast = fast.next.next\n",
    "    mid = slow.next    # 中点\n",
    "    slow.next = None    # 断链\n",
    "\n",
    "    left, right = sortList(head), sortList(mid)    # 递归排序\n",
    "\n",
    "    # 归并\n",
    "    dummy = ListNode(None)    # 设一个头结点生成新链表\n",
    "    tmp = dummy    # 用于拼接的工作指针\n",
    "\n",
    "    while left and right:\n",
    "        if left.val <= right.val:\n",
    "            tmp.next = left\n",
    "            left = left.next\n",
    "        else:\n",
    "            tmp.next = right\n",
    "            right = right.next\n",
    "        tmp = tmp.next\n",
    "\n",
    "    while left:\n",
    "        tmp.next = left\n",
    "        left = left.next\n",
    "        tmp = tmp.next\n",
    "    while right:\n",
    "        tmp.next = right\n",
    "        right = right.next\n",
    "        tmp = tmp.next\n",
    "\n",
    "    return dummy.next"
   ]
  }
 ],
 "metadata": {
  "hide_input": false,
  "kernelspec": {
   "display_name": "Python 3",
   "language": "python",
   "name": "python3"
  },
  "language_info": {
   "codemirror_mode": {
    "name": "ipython",
    "version": 3
   },
   "file_extension": ".py",
   "mimetype": "text/x-python",
   "name": "python",
   "nbconvert_exporter": "python",
   "pygments_lexer": "ipython3",
   "version": "3.6.6"
  },
  "toc": {
   "base_numbering": 1,
   "nav_menu": {},
   "number_sections": true,
   "sideBar": true,
   "skip_h1_title": false,
   "title_cell": "Table of Contents",
   "title_sidebar": "Contents",
   "toc_cell": false,
   "toc_position": {},
   "toc_section_display": true,
   "toc_window_display": false
  }
 },
 "nbformat": 4,
 "nbformat_minor": 2
}
